{
 "cells": [
  {
   "cell_type": "markdown",
   "id": "c71d9b71",
   "metadata": {},
   "source": [
    "# 1장 머신러닝과 선형회귀"
   ]
  },
  {
   "cell_type": "markdown",
   "id": "a54b44e3",
   "metadata": {},
   "source": [
    "머신러닝이란?"
   ]
  },
  {
   "cell_type": "code",
   "execution_count": 1,
   "id": "ba40eb45",
   "metadata": {},
   "outputs": [],
   "source": [
    "# 기본적인 import들\n",
    "# 이후 그래프 그리는 코드에는 중복으로 적지 않음.\n",
    "# 다른 곳으로 그래프 그리는 코드를 복사-붙이기 할 때는 \n",
    "# 이 import 코드와 함께 복사-붙이기 해야함\n",
    "import numpy as np\n",
    "import matplotlib.pyplot as plt\n",
    "import matplotlib as mpl\n",
    "from mpl_toolkits import mplot3d\n",
    "import matplotlib.font_manager as mfm\n",
    "\n",
    "# numpy 출력 형식 지정\n",
    "np.set_printoptions(precision=4, linewidth=150)\n"
   ]
  },
  {
   "cell_type": "code",
   "execution_count": null,
   "id": "9ee36f55",
   "metadata": {},
   "outputs": [],
   "source": []
  }
 ],
 "metadata": {
  "kernelspec": {
   "display_name": "Python 3 (ipykernel)",
   "language": "python",
   "name": "python3"
  },
  "language_info": {
   "codemirror_mode": {
    "name": "ipython",
    "version": 3
   },
   "file_extension": ".py",
   "mimetype": "text/x-python",
   "name": "python",
   "nbconvert_exporter": "python",
   "pygments_lexer": "ipython3",
   "version": "3.9.12"
  }
 },
 "nbformat": 4,
 "nbformat_minor": 5
}
