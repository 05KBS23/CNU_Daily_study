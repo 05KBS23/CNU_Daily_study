{
 "cells": [
  {
   "cell_type": "markdown",
   "metadata": {
    "id": "413yAfItnv9-"
   },
   "source": [
    "# ② character type data type"
   ]
  },
  {
   "cell_type": "markdown",
   "metadata": {},
   "source": [
    "## 1. what is character type?"
   ]
  },
  {
   "cell_type": "markdown",
   "metadata": {
    "id": "lPlwfVkOnv99"
   },
   "source": [
    "### 1) 문자열 표현\n",
    "\n",
    "- '', \"\"를 씌어서 문자열 표현\n",
    "- len() 함수로 문자열 길이 확인"
   ]
  },
  {
   "cell_type": "code",
   "execution_count": 6,
   "metadata": {
    "id": "V0d6x1Jku-lI"
   },
   "outputs": [
    {
     "name": "stdout",
     "output_type": "stream",
     "text": [
      "thanx4\n",
      "comin9\n"
     ]
    }
   ],
   "source": [
    "# 출력(Hello kbs)\n",
    "print('thanx4'   )\n",
    "print(\"comin9\"   )"
   ]
  },
  {
   "cell_type": "code",
   "execution_count": 10,
   "metadata": {
    "id": "sNZuPrSsMoBp"
   },
   "outputs": [
    {
     "name": "stdout",
     "output_type": "stream",
     "text": [
      "thanx4 comin9\n",
      "<class 'str'> <class 'str'>\n"
     ]
    }
   ],
   "source": [
    "#변수 선언\n",
    "a = 'thanx4'\n",
    "b = \"comin9\"\n",
    "\n",
    "print(a,b)\n",
    "print(type(a), type(b))"
   ]
  },
  {
   "cell_type": "code",
   "execution_count": 5,
   "metadata": {
    "id": "G1mi-aU-nv96"
   },
   "outputs": [
    {
     "data": {
      "text/plain": [
       "(6, 6)"
      ]
     },
     "execution_count": 5,
     "metadata": {},
     "output_type": "execute_result"
    }
   ],
   "source": [
    "# 길이 확인\n",
    "len(a), len(b)"
   ]
  },
  {
   "cell_type": "markdown",
   "metadata": {
    "id": "QfuJdpmgnv95"
   },
   "source": [
    "### 2) 문자열 나열하기\n",
    "\n",
    "- , 없이 나열 -> 합친 결과"
   ]
  },
  {
   "cell_type": "code",
   "execution_count": 8,
   "metadata": {
    "id": "bLFMIXe1nv93"
   },
   "outputs": [
    {
     "name": "stdout",
     "output_type": "stream",
     "text": [
      "thanx4comin9\n",
      "('thanx4', 'comin9')\n"
     ]
    }
   ],
   "source": [
    "# 콤마 없이 나열\n",
    "q = 'thanx4' 'comin9'\n",
    "z = 'thanx4','comin9' # 얘는 튜플\n",
    "# 확인\n",
    "print(q)\n",
    "print(z)"
   ]
  },
  {
   "cell_type": "markdown",
   "metadata": {
    "id": "9k4_-j4eAQYm"
   },
   "source": [
    "- 문자열을 콤마로 구분하면 튜플\n",
    "- 튜플이란? (122, 242 ,563) 형태로 소괄호 안 값이 나열된 자료형"
   ]
  },
  {
   "cell_type": "code",
   "execution_count": 9,
   "metadata": {
    "id": "YIgln406nv92"
   },
   "outputs": [],
   "source": [
    "# 콤마로 구분해 나열\n",
    "i = 'thanx4' ,  'comin9'\n"
   ]
  },
  {
   "cell_type": "markdown",
   "metadata": {
    "id": "L5ngDzVHnv91"
   },
   "source": [
    "### 3) 여러 줄 문자열\n",
    "\n",
    "- 문자 앞뒤에 '',\"\"\"를 3개를 나열,  또는 \\\\n을 사용해 여러 줄 표현이 가능\n",
    "- print()를 반드시 써야함"
   ]
  },
  {
   "cell_type": "code",
   "execution_count": 12,
   "metadata": {
    "id": "gBCvk1AKnv9z"
   },
   "outputs": [
    {
     "name": "stdout",
     "output_type": "stream",
     "text": [
      "줄을 바꾸고 싶은 자리 바로 뒤에\n",
      "를 쓰면 된다.\n"
     ]
    }
   ],
   "source": [
    "q = \"줄을 바꾸고 싶은 자리 바로 뒤에\\n를 쓰면 된다.\"\n",
    "print(q)"
   ]
  },
  {
   "cell_type": "code",
   "execution_count": 14,
   "metadata": {
    "id": "zeh_t53mP4EK"
   },
   "outputs": [
    {
     "name": "stdout",
     "output_type": "stream",
     "text": [
      "다른 방법은 \n",
      "따옴표를 종류 상관 없이 \n",
      "3개 사용하여라.\n"
     ]
    }
   ],
   "source": [
    "q1 = \"\"\"다른 방법은 \n",
    "따옴표를 종류 상관 없이 \n",
    "3개 사용하여라.\"\"\"\n",
    "print(q1)"
   ]
  },
  {
   "cell_type": "markdown",
   "metadata": {
    "id": "WChkLqE7nv9z"
   },
   "source": [
    "### 3. 문자열에 따옴표를 쓰고 싶다면?\n",
    "\n",
    "- \"문~~자 ' 열\" 또는 ' 문자열 '\n",
    "- \\\\' 또는 \\\\\\\"를 사용\n",
    "- 마찬가지로 print()로 확인"
   ]
  },
  {
   "cell_type": "code",
   "execution_count": 23,
   "metadata": {
    "id": "bIRaoRhVnv9x"
   },
   "outputs": [
    {
     "name": "stdout",
     "output_type": "stream",
     "text": [
      "문자열에 따옴표, '를 넣는 방법은 요렇게.\n",
      "문자열에 따옴표, \"를 넣는 방법은 요렇게.\n"
     ]
    }
   ],
   "source": [
    "# 문자열에 따옴표 넣기\n",
    "kk = \"문자열에 따옴표, '를 넣는 방법은 요렇게.\"\n",
    "KK = '문자열에 따옴표, \"를 넣는 방법은 요렇게.'\n",
    "\n",
    "print(kk)\n",
    "print(KK)"
   ]
  },
  {
   "cell_type": "code",
   "execution_count": 24,
   "metadata": {
    "id": "hfWfYIwpQSyM"
   },
   "outputs": [
    {
     "name": "stdout",
     "output_type": "stream",
     "text": [
      "혹은 ' 또는 \"를 사용\n"
     ]
    }
   ],
   "source": [
    "k2 = \"혹은 \\' 또는 \\\"를 사용\"\n",
    "print(k2) "
   ]
  },
  {
   "cell_type": "markdown",
   "metadata": {
    "id": "p_NRNoh3A84t"
   },
   "source": [
    "### 5) 문자열에 역슬래쉬\\ 넣기"
   ]
  },
  {
   "cell_type": "code",
   "execution_count": 25,
   "metadata": {
    "id": "ZfWWwXqPnv9v"
   },
   "outputs": [
    {
     "name": "stdout",
     "output_type": "stream",
     "text": [
      "아니면 \\' 또는 \\\"를 사용.\n"
     ]
    }
   ],
   "source": [
    "k5 = \"아니면 \\\\' 또는 \\\\\\\"를 사용.\"\n",
    "print(k5)"
   ]
  },
  {
   "cell_type": "markdown",
   "metadata": {
    "id": "O5mVEqB7nv9v"
   },
   "source": [
    "## 2. character type operator"
   ]
  },
  {
   "cell_type": "markdown",
   "metadata": {
    "id": "ucdDlanHnv9u"
   },
   "source": [
    "### 1) 문자열 + 문자열 = 문자열 결합"
   ]
  },
  {
   "cell_type": "code",
   "execution_count": 33,
   "metadata": {
    "id": "Zw3mEBIZnv9s"
   },
   "outputs": [
    {
     "name": "stdout",
     "output_type": "stream",
     "text": [
      "thanks for coming\n"
     ]
    }
   ],
   "source": [
    "k1 = 'thanks ' \n",
    "k2 = 'for '\n",
    "k3 = 'coming'\n",
    "\n",
    "# 문자열 더하기\n",
    "gg = k1 + k2 + k3\n",
    "\n",
    "print(gg)"
   ]
  },
  {
   "cell_type": "markdown",
   "metadata": {
    "id": "Gefg0ZxYnv9s"
   },
   "source": [
    "### 2) 문자열 * 정수 = 문자열 반복"
   ]
  },
  {
   "cell_type": "markdown",
   "metadata": {
    "id": "a2jQwLqqy6Nl"
   },
   "source": [
    "       ***************\n",
    "       \n",
    "       thanks for coming\n",
    "       *****************"
   ]
  },
  {
   "cell_type": "code",
   "execution_count": 32,
   "metadata": {
    "id": "LnZOe10Dnv9o"
   },
   "outputs": [
    {
     "name": "stdout",
     "output_type": "stream",
     "text": [
      "안녕 디지몬포켓몬안녕 디지몬포켓몬안녕 디지몬포켓몬안녕 디지몬포켓몬안녕 디지몬포켓몬안녕 디지몬포켓몬안녕 디지몬포켓몬안녕 디지몬포켓몬안녕 디지몬포켓몬안녕 디지몬포켓몬안녕 디지몬포켓몬안녕 디지몬포켓몬안녕 디지몬포켓몬안녕 디지몬포켓몬안녕 디지몬포켓몬안녕 디지몬포켓몬안녕 디지몬포켓몬안녕 디지몬포켓몬안녕 디지몬포켓몬안녕 디지몬포켓몬안녕 디지몬포켓몬안녕 디지몬포켓몬안녕 디지몬포켓몬안녕 디지몬포켓몬안녕 디지몬포켓몬안녕 디지몬포켓몬안녕 디지몬포켓몬안녕 디지몬포켓몬안녕 디지몬포켓몬안녕 디지몬포켓몬안녕 디지몬포켓몬안녕 디지몬포켓몬안녕 디지몬포켓몬안녕 디지몬포켓몬안녕 디지몬포켓몬안녕 디지몬포켓몬안녕 디지몬포켓몬안녕 디지몬포켓몬안녕 디지몬포켓몬안녕 디지몬포켓몬안녕 디지몬포켓몬안녕 디지몬포켓몬안녕 디지몬포켓몬안녕 디지몬포켓몬안녕 디지몬포켓몬안녕 디지몬포켓몬안녕 디지몬포켓몬안녕 디지몬포켓몬안녕 디지몬포켓몬안녕 디지몬포켓몬안녕 디지몬포켓몬안녕 디지몬포켓몬안녕 디지몬포켓몬안녕 디지몬포켓몬안녕 디지몬포켓몬안녕 디지몬포켓몬안녕 디지몬포켓몬안녕 디지몬포켓몬안녕 디지몬포켓몬안녕 디지몬포켓몬안녕 디지몬포켓몬안녕 디지몬포켓몬안녕 디지몬포켓몬안녕 디지몬포켓몬안녕 디지몬포켓몬안녕 디지몬포켓몬안녕 디지몬포켓몬안녕 디지몬포켓몬안녕 디지몬포켓몬안녕 디지몬포켓몬안녕 디지몬포켓몬안녕 디지몬포켓몬안녕 디지몬포켓몬안녕 디지몬포켓몬안녕 디지몬포켓몬안녕 디지몬포켓몬안녕 디지몬포켓몬안녕 디지몬포켓몬안녕 디지몬포켓몬안녕 디지몬포켓몬안녕 디지몬포켓몬안녕 디지몬포켓몬안녕 디지몬포켓몬안녕 디지몬포켓몬안녕 디지몬포켓몬안녕 디지몬포켓몬안녕 디지몬포켓몬안녕 디지몬포켓몬안녕 디지몬포켓몬안녕 디지몬포켓몬안녕 디지몬포켓몬안녕 디지몬포켓몬안녕 디지몬포켓몬안녕 디지몬포켓몬안녕 디지몬포켓몬안녕 디지몬포켓몬안녕 디지몬포켓몬안녕 디지몬포켓몬안녕 디지몬포켓몬안녕 디지몬포켓몬안녕 디지몬포켓몬안녕 디지몬포켓몬안녕 디지몬포켓몬안녕 디지몬포켓몬안녕 디지몬포켓몬안녕 디지몬포켓몬안녕 디지몬포켓몬안녕 디지몬포켓몬안녕 디지몬포켓몬안녕 디지몬포켓몬안녕 디지몬포켓몬안녕 디지몬포켓몬안녕 디지몬포켓몬안녕 디지몬포켓몬안녕 디지몬포켓몬안녕 디지몬포켓몬안녕 디지몬포켓몬안녕 디지몬포켓몬안녕 디지몬포켓몬안녕 디지몬포켓몬안녕 디지몬포켓몬안녕 디지몬포켓몬안녕 디지몬포켓몬안녕 디지몬포켓몬안녕 디지몬포켓몬안녕 디지몬포켓몬안녕 디지몬포켓몬안녕 디지몬포켓몬안녕 디지몬포켓몬안녕 디지몬포켓몬안녕 디지몬포켓몬안녕 디지몬포켓몬안녕 디지몬포켓몬안녕 디지몬포켓몬안녕 디지몬포켓몬안녕 디지몬포켓몬안녕 디지몬포켓몬안녕 디지몬포켓몬안녕 디지몬포켓몬안녕 디지몬포켓몬안녕 디지몬포켓몬안녕 디지몬포켓몬안녕 디지몬포켓몬\n",
      "\n"
     ]
    }
   ],
   "source": [
    "# 0을 곱하면 문자열 제거됨\n",
    "\n",
    "q = '안녕 디지몬포켓몬'\n",
    "print(q * 143)\n",
    "print(q * 0)\n"
   ]
  },
  {
   "cell_type": "markdown",
   "metadata": {
    "id": "h_N_KJKEnv9o"
   },
   "source": [
    "## 2-3.format method?\n",
    "\n",
    "- 문자열 일부분만 바꿀 필요가 있을 때\n",
    "- 이름만 변경할 때?\n",
    "- 문자열 포맷팅이라함\n",
    "- **문자열.format()** 형태로 사용"
   ]
  },
  {
   "cell_type": "markdown",
   "metadata": {
    "id": "2gMFPA7xY8D7"
   },
   "source": [
    "### 기본적인 사용\n",
    "\n",
    "- 단순 문자열에서 { } 아무것도 아니다"
   ]
  },
  {
   "cell_type": "code",
   "execution_count": 34,
   "metadata": {
    "id": "L8WL0saYNPpL"
   },
   "outputs": [
    {
     "data": {
      "text/plain": [
       "'별명:{}, 직업:{}, 나이:{}'"
      ]
     },
     "execution_count": 34,
     "metadata": {},
     "output_type": "execute_result"
    }
   ],
   "source": [
    "# 단순 문자열\n",
    "'별명:{}, 직업:{}, 나이:{}'"
   ]
  },
  {
   "cell_type": "markdown",
   "metadata": {
    "id": "I2WMB3BGTnzk"
   },
   "source": [
    "- format() 메소드를 사용해서 간편하게 데이터 입력 가능"
   ]
  },
  {
   "cell_type": "code",
   "execution_count": 35,
   "metadata": {
    "id": "wDQpgWtoTGHF"
   },
   "outputs": [
    {
     "name": "stdout",
     "output_type": "stream",
     "text": [
      "별명:팥병수, 직업:광부, 좋아하는숫자:12432151253\n"
     ]
    }
   ],
   "source": [
    "# format\n",
    "print('별명:{}, 직업:{}, 좋아하는숫자:{}'.format('팥병수','광부',12432151253)) "
   ]
  },
  {
   "cell_type": "code",
   "execution_count": 40,
   "metadata": {},
   "outputs": [
    {
     "name": "stdout",
     "output_type": "stream",
     "text": [
      "별명:팥병수, 직업:광부, 좋아하는숫자:13\n"
     ]
    }
   ],
   "source": [
    "# format\n",
    "print('별명:{}, 직업:{}, 좋아하는숫자:{}'.format('팥병수','광부',13))"
   ]
  },
  {
   "cell_type": "markdown",
   "metadata": {
    "id": "KxL6u78WjyGM"
   },
   "source": [
    "- format() 메소드는 대부분 print() 함수랑 같이 사용"
   ]
  },
  {
   "cell_type": "code",
   "execution_count": 42,
   "metadata": {
    "id": "1Jz5JMJ6jibc"
   },
   "outputs": [
    {
     "name": "stdout",
     "output_type": "stream",
     "text": [
      "이름:천재, 빚:2312, 재산:2345.6789\n"
     ]
    }
   ],
   "source": [
    "# 변수 선언\n",
    "이름 = '천재'\n",
    "빚 = 2312 \n",
    "재산 = 2345.6789\n",
    "\n",
    "print('이름:{}, 빚:{}, 재산:{}'.format(이름,빚,재산))"
   ]
  },
  {
   "cell_type": "markdown",
   "metadata": {
    "id": "4pljOl6MNPpc"
   },
   "source": [
    "**2) 표시 위치 지정**\n",
    "\n",
    "- { } 안에 변수 위치 지정, 대부분 생략..\n",
    "- 출력 형태, 소수 점 자리수 제어"
   ]
  },
  {
   "cell_type": "code",
   "execution_count": 44,
   "metadata": {
    "id": "MCOZpPATkN0T"
   },
   "outputs": [
    {
     "name": "stdout",
     "output_type": "stream",
     "text": [
      "별명:강태공, 사망:2019, 재산:2345.6789\n",
      "별명:강태공, 사망:2,019, 재산:2345.68\n",
      "별명:강태공, 사망:2019, 재산:2,345.68\n"
     ]
    }
   ],
   "source": [
    "# 변수 선언\n",
    "a = '강태공'\n",
    "b = 2019\n",
    "c = 2345.6789\n",
    "\n",
    "\n",
    "print('별명:{0}, 사망:{1}, 재산:{2}'.format(a,b,c)           ) # 정수는 d\n",
    "print('별명:{0}, 사망:{1:,}, 재산:{2:.2f}'.format(a,b,c)       )\n",
    "print('별명:{}, 사망:{}, 재산:{:,.2f}'.format(a,b,c)         )"
   ]
  },
  {
   "cell_type": "markdown",
   "metadata": {
    "id": "U-Ir095wnv9d"
   },
   "source": [
    "### 3) 자릿수와 정렬 방식 지정\n",
    "\n",
    "- 상세한 출력 정보 필요할 때?"
   ]
  },
  {
   "cell_type": "code",
   "execution_count": 48,
   "metadata": {
    "id": "zbCdSWtUnv9b"
   },
   "outputs": [
    {
     "name": "stdout",
     "output_type": "stream",
     "text": [
      "142.78942\n",
      "142.7894\n",
      "142.789\n",
      "142.8\n"
     ]
    }
   ],
   "source": [
    "# 소수점 자리수\n",
    "print('{:.5f}'.format(142.7894214)) \n",
    "print('{:.4f}'.format(142.7894214)) \n",
    "print('{:.3f}'.format(142.7894214)) \n",
    "print('{:.1f}'.format(142.7894214)) "
   ]
  },
  {
   "cell_type": "code",
   "execution_count": 46,
   "metadata": {
    "id": "Ue0s3Xv4nv9Z"
   },
   "outputs": [
    {
     "name": "stdout",
     "output_type": "stream",
     "text": [
      "[강태공] [1214]\n"
     ]
    }
   ],
   "source": [
    "# 위치 지정\n",
    "print('[{0}] [{1}]'.format('강태공', 1214))"
   ]
  },
  {
   "cell_type": "code",
   "execution_count": 50,
   "metadata": {
    "id": "UC6BeTJCnv9X"
   },
   "outputs": [
    {
     "name": "stdout",
     "output_type": "stream",
     "text": [
      "[강태공       ] [777777777777777777777]\n"
     ]
    }
   ],
   "source": [
    "# 기본 정렬\n",
    "print('[{0:10}] [{1:6}]'.format('강태공', 777777777777777777777))"
   ]
  },
  {
   "cell_type": "code",
   "execution_count": 51,
   "metadata": {
    "id": "eUeEOlEnnv9W"
   },
   "outputs": [
    {
     "name": "stdout",
     "output_type": "stream",
     "text": [
      "[       강태공] [1300  ]\n"
     ]
    }
   ],
   "source": [
    "# 오른쪽, 왼쪽 정렬\n",
    "print('[{0:>10}] [{1:<6}]'.format('강태공', 1300))"
   ]
  },
  {
   "cell_type": "code",
   "execution_count": 52,
   "metadata": {
    "id": "7f8KeeIUnv9U"
   },
   "outputs": [
    {
     "name": "stdout",
     "output_type": "stream",
     "text": [
      "[   강태공    ] [41230 ]\n"
     ]
    }
   ],
   "source": [
    "# 가운데 정렬\n",
    "print('[{0:^10}] [{1:^6}]'.format('강태공', 41230))"
   ]
  },
  {
   "cell_type": "code",
   "execution_count": 53,
   "metadata": {
    "id": "7Ejhcu_Dnv9S"
   },
   "outputs": [
    {
     "name": "stdout",
     "output_type": "stream",
     "text": [
      "[---강태공----] [12123123142]\n",
      "[***강태공****] [1204153150]\n"
     ]
    }
   ],
   "source": [
    "# 공백을 다른 문자로 변환\n",
    "print('[{0:-^10}] [{1:_^6}]'.format('강태공', 12123123142))\n",
    "print('[{0:*^10}] [{1:_^6}]'.format('강태공', 1204153150))"
   ]
  },
  {
   "cell_type": "markdown",
   "metadata": {
    "id": "2gOO7D9W0sMb"
   },
   "source": [
    "### @연습 :  본인 이름과 토익, 토플, 토스 점수를 각 변수에 대입"
   ]
  },
  {
   "cell_type": "code",
   "execution_count": 55,
   "metadata": {
    "id": "T8nQzIhJ0sMc"
   },
   "outputs": [],
   "source": [
    "# 변수 선언\n",
    "name = '강태공'\n",
    "to = 990\n",
    "tp = 999\n",
    "ts = 9999"
   ]
  },
  {
   "cell_type": "markdown",
   "metadata": {
    "id": "uubEaU-P0sMi"
   },
   "source": [
    "### @연습 세 과목의 합 구하기"
   ]
  },
  {
   "cell_type": "code",
   "execution_count": 57,
   "metadata": {
    "id": "iFx_1k300sMj"
   },
   "outputs": [],
   "source": [
    "# 합 구하기\n",
    "eng = to + tp + ts\n"
   ]
  },
  {
   "cell_type": "markdown",
   "metadata": {
    "id": "1Rqu6R780sMn"
   },
   "source": [
    "### 연습 세 과목의 평균을 구해 보세요."
   ]
  },
  {
   "cell_type": "code",
   "execution_count": 60,
   "metadata": {
    "id": "JKWvFQp_0sMo"
   },
   "outputs": [
    {
     "name": "stdout",
     "output_type": "stream",
     "text": [
      "3996.0\n"
     ]
    }
   ],
   "source": [
    "# 평균 구하기\n",
    "eng_mean = eng / 3\n",
    "print(eng_mean)"
   ]
  },
  {
   "cell_type": "code",
   "execution_count": 65,
   "metadata": {
    "id": "7rSMMIWw0sMu"
   },
   "outputs": [
    {
     "name": "stdout",
     "output_type": "stream",
     "text": [
      "강태공 학생의 점수 합은 11988.000000 이고 평균은 3996.0 입니다.\n"
     ]
    }
   ],
   "source": [
    "\n",
    "print('{} 학생의 점수 합은 {:f} 이고 평균은 {:.1f} 입니다.'.format(name, eng, eng_mean))"
   ]
  },
  {
   "cell_type": "markdown",
   "metadata": {
    "id": "17K4WHTa29MP"
   },
   "source": [
    "## 2-4. f-String\n",
    "\n",
    "- 최근에 f-String을 더 많이씀"
   ]
  },
  {
   "cell_type": "code",
   "execution_count": 66,
   "metadata": {
    "id": "h1TB54UcXeZY"
   },
   "outputs": [
    {
     "name": "stdout",
     "output_type": "stream",
     "text": [
      "별명: 강태공\n",
      "생일: 96\n",
      "번호: 1314531.4134\n",
      "강태공의남바는 1314531.4134입니다.\n"
     ]
    }
   ],
   "source": [
    "# 변수 선언\n",
    "name = '강태공'\n",
    "bir = 96\n",
    "num = 1314531.4134\n",
    "\n",
    "# 확인\n",
    "print(f'별명: {name}')\n",
    "print(f'생일: {bir}')\n",
    "print(f'번호: {num}')\n",
    "print(f'{name}의남바는 {num}입니다.')"
   ]
  },
  {
   "cell_type": "markdown",
   "metadata": {
    "id": "xFh4Sdn5YjLQ"
   },
   "source": [
    "- 출력되는 형태 조절 가능 (문자열:s, 정수:d, 실수:f)"
   ]
  },
  {
   "cell_type": "code",
   "execution_count": 69,
   "metadata": {
    "id": "5LWLUawvYQIE"
   },
   "outputs": [
    {
     "name": "stdout",
     "output_type": "stream",
     "text": [
      "96살의 강태공의 남바는 1,314,531.41입니다.\n",
      "96살의 강태공의 남바는 1314531.41입니다.\n"
     ]
    }
   ],
   "source": [
    "# 확인\n",
    "print(f'{bir}살의 {name}의 남바는 {num:,.2f}입니다.')\n",
    "print(f'{bir}살의 {name}의 남바는 {num:.2f}입니다.') # 1000 구분점"
   ]
  },
  {
   "cell_type": "markdown",
   "metadata": {
    "id": "r_UhGHB3XSIN"
   },
   "source": [
    "[연습] 다음 코드를 실행하여 점수 합계와 평균을 구하세요."
   ]
  },
  {
   "cell_type": "code",
   "execution_count": 71,
   "metadata": {
    "id": "ivi3dzCjWZjW"
   },
   "outputs": [
    {
     "name": "stdout",
     "output_type": "stream",
     "text": [
      "이름:  강태공\n",
      "연령대: , 20대\n",
      "점수: 141231, 204531532, 25942646, 221452626, 267426262\n",
      "합계: 719,494,297 / 평균: 143898859.40\n"
     ]
    }
   ],
   "source": [
    "# 변수 선언\n",
    "name = '강태공'\n",
    "age = 2412\n",
    "score1 = 141231\n",
    "score2 = 204531532\n",
    "score3 = 25942646\n",
    "score4 = 221452626\n",
    "score5 = 267426262\n",
    "\n",
    "# 합계\n",
    "tot_score = score1 + score2 + score3 + score4 + score5\n",
    "\n",
    "# 평균\n",
    "avg_score = tot_score / 5 \n",
    "\n",
    "# 연령대\n",
    "age_group = 25 // 10 * 10\n",
    "\n",
    "print(\"이름: \", name)\n",
    "print(f\"연령대: , {age_group}대\") \n",
    "print(f\"점수: {score1}, {score2}, {score3}, {score4}, {score5}\")\n",
    "print(f'합계: {tot_score:,} / 평균: {avg_score:.2f}') "
   ]
  },
  {
   "cell_type": "markdown",
   "metadata": {
    "id": "AzeqaED94FFb"
   },
   "source": [
    "[문2]  f-String을 사용해 위 변수들 값이 다음과 같은 형태로 출력되도록 코드를 작성하세요.\n",
    "\n",
    "~~~\n",
    "이름: 홍길동\n",
    "연령대: 20대\n",
    "점수: 153, 204, 259, 221, 267\n",
    "합계: 1,104 / 평균: 220.80\n",
    "~~~\n"
   ]
  },
  {
   "cell_type": "code",
   "execution_count": 107,
   "metadata": {
    "id": "rYyZO2Mf3kGd"
   },
   "outputs": [
    {
     "name": "stdout",
     "output_type": "stream",
     "text": [
      "이름:  홍길동\n",
      "연령대: 20대\n",
      "점수: 153, 204, 259, 221, 267\n",
      "합계: 1,104 / 평균: 220.80\n"
     ]
    }
   ],
   "source": [
    "# 확인\n",
    "# 변수 선언\n",
    "name = '홍길동'\n",
    "age = 25\n",
    "score1 = 153\n",
    "score2 = 204\n",
    "score3 = 259\n",
    "score4 = 221\n",
    "score5 = 267\n",
    "\n",
    "# 합계\n",
    "tot_score = score1 + score2 + score3 + score4 + score5\n",
    "\n",
    "# 평균\n",
    "avg_score = tot_score / 5 \n",
    "\n",
    "# 연령대\n",
    "age_group = 25 // 10 * 10\n",
    "\n",
    "print(\"이름: \", name)\n",
    "print(f\"연령대: {age_group}대\") \n",
    "print(f\"점수: {score1}, {score2}, {score3}, {score4}, {score5}\")\n",
    "print(f'합계: {tot_score:,} / 평균: {avg_score:.2f}') \n",
    "\n",
    "\n"
   ]
  },
  {
   "cell_type": "code",
   "execution_count": 113,
   "metadata": {},
   "outputs": [
    {
     "name": "stdout",
     "output_type": "stream",
     "text": [
      "조선민주주의인민공화국\n",
      "조\n",
      "선\n",
      "민\n",
      "주\n",
      "주\n",
      "의\n",
      "조선민주주의인민공화\n"
     ]
    }
   ],
   "source": [
    "a = '조선민주주의인민공화국'\n",
    "print(a)\n",
    "print(a[0])\n",
    "print(a[1])\n",
    "print(a[2])\n",
    "print(a[3])\n",
    "print(a[4])\n",
    "print(a[5])\n",
    "print(a[0:9+1])"
   ]
  },
  {
   "cell_type": "markdown",
   "metadata": {
    "id": "viNURFDInv9S"
   },
   "source": [
    "## 2.5.문자열 인덱싱과 슬라이싱\n",
    "\n",
    "- 문자열은 문자 요소가 모여서 만들어졌따, 즉 'kbs'는 'k', 'b', 's' 세 요소로 이루어짐\n",
    "- 정수형 위치 인덱스를 사용해 원하는 요소를 조회가능 -> 인덱싱\n",
    "- 범위 지정 후 일정 범위의 요소 조회 -> 슬라이싱"
   ]
  },
  {
   "cell_type": "code",
   "execution_count": 72,
   "metadata": {
    "id": "8S8YtY56nv9P",
    "scrolled": true
   },
   "outputs": [
    {
     "name": "stdout",
     "output_type": "stream",
     "text": [
      "피카츄라이추꼬부기\n",
      "이\n",
      "꼬\n",
      "부\n",
      "피카츄라이추꼬\n"
     ]
    }
   ],
   "source": [
    "\n",
    "s = '피카츄라이추꼬부기'\n",
    "\n",
    "# 문자열 인덱싱\n",
    "print(s)\n",
    "print(s[-5])\n",
    "print(s[6])\n",
    "print(s[-2])\n",
    "print(s[:-2])"
   ]
  },
  {
   "cell_type": "markdown",
   "metadata": {
    "id": "vvpZ3vKYnv9O"
   },
   "source": [
    "**2) 문자열 슬라이싱**\n"
   ]
  },
  {
   "cell_type": "code",
   "execution_count": 73,
   "metadata": {
    "id": "RfiM4g_jnv9M"
   },
   "outputs": [
    {
     "name": "stdout",
     "output_type": "stream",
     "text": [
      "아리가또\n",
      "마센코쿠사리\n",
      "아리가또고자이마스미마센코쿠사리\n"
     ]
    }
   ],
   "source": [
    "# 문자열 변수\n",
    "s = '아리가또고자이마스미마센코쿠사리'\n",
    "\n",
    "# 문자열 슬라이싱\n",
    "\n",
    "print(s[0:4])\n",
    "print(s[10:])\n",
    "print(s[:])"
   ]
  },
  {
   "cell_type": "markdown",
   "metadata": {
    "id": "hm1cDCy-2seM"
   },
   "source": [
    "## 2.6.문자열 관련 주요 메소드\n",
    "\n",
    "* 변수 뒤 '.함수' 형태로 사용하는 친구들....method!\n",
    "- 그러나 그 결과값이 변수에 반영 X"
   ]
  },
  {
   "cell_type": "code",
   "execution_count": 75,
   "metadata": {
    "id": "LEJSq8fU1meL"
   },
   "outputs": [
    {
     "name": "stdout",
     "output_type": "stream",
     "text": [
      "I WANT TO GO BACK TO THE HEAVEN.\n",
      "i want to go back to the heaven.\n"
     ]
    }
   ],
   "source": [
    "# 대문자로 변환\n",
    "s = \"i want to go back to the heaven.\"\n",
    "print(s.upper())         \n",
    "print(s)                "
   ]
  },
  {
   "cell_type": "markdown",
   "metadata": {
    "id": "W50C5m-j2coJ"
   },
   "source": [
    "- 변환 결과를 변수에 반영하려면 메소드가 반환하는 값을 변수에 대입해야 한다."
   ]
  },
  {
   "cell_type": "code",
   "execution_count": 76,
   "metadata": {
    "id": "tRNEhqKD2RlG"
   },
   "outputs": [
    {
     "name": "stdout",
     "output_type": "stream",
     "text": [
      "I WANT TO GO BACK TO THE HEAVEN.\n",
      "I WANT TO GO BACK TO THE HEAVEN.\n"
     ]
    }
   ],
   "source": [
    "# 대문자로 변환\n",
    "s = \"i want to go back to the heaven.\"\n",
    "print(s.upper())         # I HAVE A DREAM.\n",
    "\n",
    "# 변수에 반영\n",
    "s = s.upper()\n",
    "print(s)                 # I HAVE A DREAM."
   ]
  },
  {
   "cell_type": "markdown",
   "metadata": {
    "id": "4m4mAgvInv9C"
   },
   "source": [
    "### 1) 대/소문자 변환\n",
    "\n",
    "- **capitalize()** 메소드: 문자열 첫 문자만 대문자, 나머지 모두 소문자로 변환\n",
    "- **title()** 메소드: 단어 첫 문자만 대문자, 나머지는 모두 소문자로 변환\n",
    "- **upper()** 메소드: 모든 문자를 대문자로 변환\n",
    "- **lower()** 메소드: 모든 문자를 소문자로 변환"
   ]
  },
  {
   "cell_type": "markdown",
   "metadata": {
    "id": "pz6IK_Ownv8_"
   },
   "source": [
    "### 2) 자릿수 지정과 정렬\n",
    "\n",
    "- **rjust(x)** 메소드: 지정한 x 만큼의 자릿수를 확보한 후 오른쪽 정렬합니다.\n",
    "- **ljust(x)** 메소드: 지정한 x 만큼의 자릿수를 확보한 후 왼쪽 정렬합니다.\n",
    "- **center(x)** 메소드: 지정한 x 만큼의 자릿수를 확보한 후 가운데 정렬합니다."
   ]
  },
  {
   "cell_type": "code",
   "execution_count": 77,
   "metadata": {
    "id": "cVhMNWGqnv89"
   },
   "outputs": [
    {
     "name": "stdout",
     "output_type": "stream",
     "text": [
      "[  korea]\n",
      "[korea  ]\n",
      "[ korea ]\n"
     ]
    }
   ],
   "source": [
    "# 지정한 길이의 문자열이 되도록 공백을 추가하고 정렬\n",
    "s = 'korea'\n",
    "print('[' + s.rjust(7) + ']')\n",
    "print('[' + s.ljust(7) + ']')\n",
    "print('[' + s.center(7) + ']')"
   ]
  },
  {
   "cell_type": "markdown",
   "metadata": {
    "id": "md4Vri-Cnv88"
   },
   "source": [
    "**3) 일부 변경 및 제거**\n",
    "\n",
    "- **replace(x, y)** 메소드: 문자열에 포함된 일부 문자열 x를 문자열 y로 변경합니다. -> 많이 씀!!!!!!!!!!\n",
    "- **strip(x)** 메소드: 문자열에서 양쪽의 공백 또는 특수 문자를 제거합니다."
   ]
  },
  {
   "cell_type": "code",
   "execution_count": 5,
   "metadata": {
    "id": "i_DoGsi1nv86"
   },
   "outputs": [
    {
     "data": {
      "text/plain": [
       "'now here'"
      ]
     },
     "execution_count": 5,
     "metadata": {},
     "output_type": "execute_result"
    }
   ],
   "source": [
    "# 문자열 변경('now' --> 'now ')\n",
    "s = 'nowhere'\n",
    "s.replace('now', 'now ')"
   ]
  },
  {
   "cell_type": "code",
   "execution_count": 10,
   "metadata": {
    "id": "OdGH553bnv84"
   },
   "outputs": [
    {
     "name": "stdout",
     "output_type": "stream",
     "text": [
      "world\n",
      "world\n",
      "#world#$$#\n",
      "world\n"
     ]
    }
   ],
   "source": [
    "# 앞 뒤 빈 문자열, 특수 문자 제거\n",
    "print('  world '.strip()) # \n",
    "print('w o r l d'.replace(' ','')) # 문자 간 공백은 replace 로 \n",
    "print('#world#$$#'.strip())\n",
    "print('#world#$$#'.strip('$#'))"
   ]
  },
  {
   "cell_type": "markdown",
   "metadata": {
    "id": "RgMGHIqyZxrh"
   },
   "source": [
    "# replace() 메소드를 사용하는 경우가 많으니 꼭 기억합시다!"
   ]
  },
  {
   "cell_type": "code",
   "execution_count": 16,
   "metadata": {
    "id": "gZzdk2PCZvTH"
   },
   "outputs": [
    {
     "name": "stdout",
     "output_type": "stream",
     "text": [
      "123456\n"
     ]
    }
   ],
   "source": [
    "# 문자열 변수 \n",
    "num = '123,456'\n",
    "\n",
    "# 콤마 제거 후 정수로 변환\n",
    "\n",
    "print(int(num.replace(',','')))\n",
    "\n",
    "# 연산\n",
    "# print(num * 2)"
   ]
  },
  {
   "cell_type": "markdown",
   "metadata": {
    "id": "1cMQvgEPttnG"
   },
   "source": [
    "**4) 분리와 연결**\n",
    "\n",
    "# split도 많이 쓴당\n",
    "\n",
    "- **split((x)** 메소드: x 문자를 구분자로 하여 문자열을 분리하여 리스트로 변환합니다.(공백이 기본 구분자)\n",
    "- **x.join(s)** 메소드: x를 구분자로 하여 요소들을 연결한 문자열로 변환합니다. "
   ]
  },
  {
   "cell_type": "code",
   "execution_count": 78,
   "metadata": {
    "id": "Kr1e73DWtSGg"
   },
   "outputs": [
    {
     "data": {
      "text/plain": [
       "['you', 'are', 'so', 'hot!']"
      ]
     },
     "execution_count": 78,
     "metadata": {},
     "output_type": "execute_result"
    }
   ],
   "source": [
    "# 문자열 변수\n",
    "s = 'you are so hot!'\n",
    "\n",
    "# 문자열 분리\n",
    "s.split(' ')"
   ]
  },
  {
   "cell_type": "code",
   "execution_count": 79,
   "metadata": {
    "id": "RK_7L2bPuvjX"
   },
   "outputs": [
    {
     "data": {
      "text/plain": [
       "'15'"
      ]
     },
     "execution_count": 79,
     "metadata": {},
     "output_type": "execute_result"
    }
   ],
   "source": [
    "# 문자열 변수 \n",
    "s = '1945-08-15'\n",
    "\n",
    "# 문자열 분리\n",
    "s.split('-')[0] # 스플릿을 하고 변수로 저장을 할까???\n",
    "s.split('-')[1] # 스플릿을 하고 변수로 저장을 할까???\n",
    "s.split('-')[2] # 스플릿을 하고 변수로 저장을 할까???"
   ]
  },
  {
   "cell_type": "code",
   "execution_count": 80,
   "metadata": {
    "id": "SaaQFB7PaXkj"
   },
   "outputs": [
    {
     "name": "stdout",
     "output_type": "stream",
     "text": [
      "['1', '2', '3', '4', '5', '6', '7', '8', '9']\n"
     ]
    }
   ],
   "source": [
    "# 문자열 변수\n",
    "s = '1/2/3/4/5/6/7/8/9'\n",
    "\n",
    "# 문자열 분리\n",
    "s_new = s.split('/')\n",
    "\n",
    "# 확인\n",
    "print(s_new)"
   ]
  },
  {
   "cell_type": "code",
   "execution_count": 33,
   "metadata": {
    "id": "2G2_3COou5s4"
   },
   "outputs": [
    {
     "name": "stdout",
     "output_type": "stream",
     "text": [
      "오늘은 2020년 09월 14일 입니다.\n"
     ]
    }
   ],
   "source": [
    "# 문자열 변수\n",
    "s = '2020-09-14'\n",
    "\n",
    "# 문자열 분리\n",
    "year = s.split('-')[0]\n",
    "month = s.split('-')[1]\n",
    "day = s.split('-')[2]\n",
    "\n",
    "# 확인\n",
    "print(f'오늘은 {year}년 {month}월 {day}일 입니다.')"
   ]
  },
  {
   "cell_type": "markdown",
   "metadata": {},
   "source": [
    "# 위랑 똑같은 방법..."
   ]
  },
  {
   "cell_type": "code",
   "execution_count": 81,
   "metadata": {
    "id": "d-fc0td7Ikyy"
   },
   "outputs": [
    {
     "name": "stdout",
     "output_type": "stream",
     "text": [
      "오늘은 2020 년 09 월 14 일 입니다.\n"
     ]
    }
   ],
   "source": [
    "# 문자열 변수\n",
    "s = '2020-09-14'\n",
    "\n",
    "# 문자열 분리\n",
    "dt = s.split('-')\n",
    "\n",
    "# 확인\n",
    "print('오늘은', dt[0], '년', dt[1], '월', dt[2], '일 입니다.')"
   ]
  },
  {
   "cell_type": "code",
   "execution_count": 82,
   "metadata": {
    "id": "88u4-EE5IkWa"
   },
   "outputs": [
    {
     "name": "stdout",
     "output_type": "stream",
     "text": [
      "오늘은 2020 년 09 월 14 일 입니다.\n"
     ]
    }
   ],
   "source": [
    "# 문자열 변수\n",
    "s = '2020-09-14'\n",
    "\n",
    "# 확인\n",
    "print('오늘은', s.split('-')[0] , '년', s.split('-')[1] , '월', s.split('-')[2] , '일 입니다.') # 복잡함"
   ]
  },
  {
   "cell_type": "markdown",
   "metadata": {
    "id": "5nqEy_lq_r7F"
   },
   "source": [
    "- join() 메소드로 구분자를 두어 연결된 문자열을 만듭니다."
   ]
  },
  {
   "cell_type": "code",
   "execution_count": 38,
   "metadata": {
    "id": "deIakct1ujP0"
   },
   "outputs": [
    {
     "data": {
      "text/plain": [
       "'P/Y/T/H/O/N'"
      ]
     },
     "execution_count": 38,
     "metadata": {},
     "output_type": "execute_result"
    }
   ],
   "source": [
    "# 중간에 특정 문자열 삽입\n",
    "s = 'PYTHON'\n",
    "s1 = '/'.join(s)\n",
    "s1\n"
   ]
  },
  {
   "cell_type": "code",
   "execution_count": 39,
   "metadata": {
    "id": "z4c1dNlWwEF8"
   },
   "outputs": [
    {
     "data": {
      "text/plain": [
       "'홍길동,한사랑,강우동,박여인'"
      ]
     },
     "execution_count": 39,
     "metadata": {},
     "output_type": "execute_result"
    }
   ],
   "source": [
    "# 요소를 연결해서 문자열로\n",
    "a = ['홍길동', '한사랑', '강우동', '박여인']\n",
    "s = ','.join(a)\n",
    "\n",
    "# 확인\n",
    "s"
   ]
  },
  {
   "cell_type": "code",
   "execution_count": null,
   "metadata": {
    "id": "tl2rg8MTwR_5"
   },
   "outputs": [],
   "source": [
    "# 문자열 s를 구분자로 나누어 리스트로\n",
    "b =\n",
    "\n",
    "# 확인\n",
    "b"
   ]
  },
  {
   "cell_type": "markdown",
   "metadata": {
    "id": "14WLLJLjnv84"
   },
   "source": [
    "**5) 표시 형식 지정**\n",
    "\n",
    "- **format()** 메소드는 데이터 표시 위치와 모양을 설정할 때 사용합니다."
   ]
  },
  {
   "cell_type": "code",
   "execution_count": 50,
   "metadata": {
    "id": "CT6rOJV5nv81"
   },
   "outputs": [
    {
     "name": "stdout",
     "output_type": "stream",
     "text": [
      "10 Hello 0.1\n"
     ]
    }
   ],
   "source": [
    "# 여러 변수를 한 줄에 입력\n",
    "a, b, c = 10, 'Hello', 0.1\n",
    "print('{} {} {}'.format(a, b, c))"
   ]
  }
 ],
 "metadata": {
  "colab": {
   "provenance": [],
   "toc_visible": true
  },
  "kernelspec": {
   "display_name": "Python 3 (ipykernel)",
   "language": "python",
   "name": "python3"
  },
  "language_info": {
   "codemirror_mode": {
    "name": "ipython",
    "version": 3
   },
   "file_extension": ".py",
   "mimetype": "text/x-python",
   "name": "python",
   "nbconvert_exporter": "python",
   "pygments_lexer": "ipython3",
   "version": "3.9.13"
  }
 },
 "nbformat": 4,
 "nbformat_minor": 1
}
