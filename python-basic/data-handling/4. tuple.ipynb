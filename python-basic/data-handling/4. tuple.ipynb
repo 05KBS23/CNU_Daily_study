{
 "cells": [
  {
   "cell_type": "markdown",
   "metadata": {
    "id": "pbxEQNZMr9De"
   },
   "source": [
    "# ④ Tuple type\n",
    "\n",
    "- 튜플은 리스트와 비슷\n",
    "- **소괄호(( ))**를 사용\n",
    "- BUT 한 번 만들면 **값을 바꿀 수 없다**"
   ]
  },
  {
   "cell_type": "markdown",
   "metadata": {
    "id": "nNVd-AFTgAYW"
   },
   "source": [
    "## 1.튜플 생성"
   ]
  },
  {
   "cell_type": "markdown",
   "metadata": {
    "id": "nDXGytfxrFMA"
   },
   "source": [
    "### 1) 다양한 튜플 생성"
   ]
  },
  {
   "cell_type": "markdown",
   "metadata": {
    "id": "5yKu7ctt1xeB"
   },
   "source": [
    "**1) 빈 튜플 만들기**"
   ]
  },
  {
   "cell_type": "code",
   "execution_count": 2,
   "metadata": {
    "id": "fGY-rxc0f8Bn"
   },
   "outputs": [
    {
     "data": {
      "text/plain": [
       "tuple"
      ]
     },
     "execution_count": 2,
     "metadata": {},
     "output_type": "execute_result"
    }
   ],
   "source": [
    "# 빈 튜플 만들기 #1\n",
    "emptytuple = ()\n",
    "\n",
    "# 확인\n",
    "type(emptytuple)"
   ]
  },
  {
   "cell_type": "markdown",
   "metadata": {
    "id": "sI-K8P2fptzE"
   },
   "source": [
    "**2) 요소가 하나인 튜플**"
   ]
  },
  {
   "cell_type": "code",
   "execution_count": 8,
   "metadata": {
    "id": "JWLcd8Lwg4Az"
   },
   "outputs": [
    {
     "name": "stdout",
     "output_type": "stream",
     "text": [
      "90\n",
      "<class 'int'>\n"
     ]
    }
   ],
   "source": [
    "# 잘못 만든 예\n",
    "wrong_tu = (90)\n",
    "\n",
    "print(wrong_tu)\n",
    "print(type(wrong_tu))"
   ]
  },
  {
   "cell_type": "markdown",
   "metadata": {
    "id": "tcPCXFw8qMy9"
   },
   "source": [
    "- 요소가 하나인 튜플은 반드시 **콤마 추가**"
   ]
  },
  {
   "cell_type": "code",
   "execution_count": 4,
   "metadata": {
    "id": "nYBNu67ieZFj"
   },
   "outputs": [
    {
     "name": "stdout",
     "output_type": "stream",
     "text": [
      "(90,)\n",
      "<class 'tuple'>\n",
      "1\n"
     ]
    }
   ],
   "source": [
    "# 요소가 하나인 튜플 만들기!\n",
    "t = ( 90 ,)\n",
    "\n",
    "print(t)\n",
    "print(type(t))\n",
    "print(len(t))"
   ]
  },
  {
   "cell_type": "markdown",
   "metadata": {
    "id": "6kzTxFGu1rQ7"
   },
   "source": [
    "**3) 다양한 형태의 튜플**"
   ]
  },
  {
   "cell_type": "code",
   "execution_count": 6,
   "metadata": {
    "id": "VXcKJfU_hRZ8"
   },
   "outputs": [
    {
     "name": "stdout",
     "output_type": "stream",
     "text": [
      "(213213, 321321, 213213)\n",
      "('리자몽', '파이리', '리자드')\n",
      "(231, 85321, 703, ('버터풀', '이상해씨', '아구몬', '강병수'))\n"
     ]
    }
   ],
   "source": [
    "# 여러 형태의 튜플 만들기\n",
    "tu = (213213, 321321, 213213)\n",
    "tu1 = \"리자몽\", \"파이리\", \"리자드\" # 괄호 생략\n",
    "tu2 = (231, 85321, 703, ('버터풀', '이상해씨', '아구몬', '강병수'))\n",
    "\n",
    "# 확인\n",
    "print(tu)\n",
    "print(tu1)\n",
    "print(tu2)"
   ]
  },
  {
   "cell_type": "code",
   "execution_count": 13,
   "metadata": {
    "id": "54KNCZIn8Lay",
    "scrolled": true
   },
   "outputs": [
    {
     "name": "stdout",
     "output_type": "stream",
     "text": [
      "(1, 3, 5, 7, 9, 11, 13, 15, 17, 19, 21, 23, 25, 27, 29, 31, 33, 35, 37, 39, 41, 43, 45, 47, 49, 51, 53, 55, 57, 59, 61, 63, 65, 67, 69, 71, 73, 75, 77, 79, 81, 83, 85, 87, 89, 91, 93, 95, 97, 99)\n"
     ]
    }
   ],
   "source": [
    "# range() 함수를 사용해 만들기\n",
    "\n",
    "no = tuple(range(1,100,2))\n",
    "\n",
    "print(no)"
   ]
  },
  {
   "cell_type": "code",
   "execution_count": 9,
   "metadata": {
    "id": "cK5nyELgZESH"
   },
   "outputs": [
    {
     "name": "stdout",
     "output_type": "stream",
     "text": [
      "('t', 'h', 'a', 'n', 'k', 's')\n"
     ]
    }
   ],
   "source": [
    "# 문자열로 튜플 만들기\n",
    "chars = ('t', 'h', 'a', 'n', 'k', 's')\n",
    "\n",
    "# 확인\n",
    "print(chars)   # ('P', 'Y', 'T', 'H', 'O', 'N')"
   ]
  },
  {
   "cell_type": "markdown",
   "metadata": {
    "id": "EbNc2XYP7vT-"
   },
   "source": [
    "### 2) 튜플 활용\n",
    "\n",
    "- **괄호를 생략**할 수 있는 튜플의 특징을 이용"
   ]
  },
  {
   "cell_type": "code",
   "execution_count": 16,
   "metadata": {
    "id": "qmYBpbHj7zhz"
   },
   "outputs": [
    {
     "data": {
      "text/plain": [
       "(10, 20)"
      ]
     },
     "execution_count": 16,
     "metadata": {},
     "output_type": "execute_result"
    }
   ],
   "source": [
    "# 괄호 없이 튜플 만들기\n",
    "a = 10\n",
    "b = 20\n",
    "c = a, b\n",
    "\n",
    "# 확인\n",
    "c"
   ]
  },
  {
   "cell_type": "markdown",
   "metadata": {
    "id": "iEtdJyGbJb6L"
   },
   "source": [
    "- 여러 변수에 동시에 값을 대입할 수 있다."
   ]
  },
  {
   "cell_type": "code",
   "execution_count": 13,
   "metadata": {
    "id": "p4zIUWYW78N6"
   },
   "outputs": [
    {
     "name": "stdout",
     "output_type": "stream",
     "text": [
      "엑시 = 123120 원\n",
      "도지 = 32132120\n",
      "아파트 = 33213210\n"
     ]
    }
   ],
   "source": [
    "# 여러 변수에 동시에 값 대입\n",
    "엑시, 도지, 아파트 = 123120, 32132120, 33213210\n",
    "print('엑시 =', 엑시,\"원\")\n",
    "print('도지 =', 도지)\n",
    "print('아파트 =', 아파트)"
   ]
  },
  {
   "cell_type": "code",
   "execution_count": 18,
   "metadata": {
    "id": "SK92fcs68bqN"
   },
   "outputs": [
    {
     "name": "stdout",
     "output_type": "stream",
     "text": [
      "a = 10\n",
      "b = 20\n",
      "c = (1, 2, 3)\n"
     ]
    }
   ],
   "source": [
    "# 여러 변수에 동시에 값 대입(튜플 포함)\n",
    "a, b, c = 10, 20, (1, 2, 3)\n",
    "print('a =', a)\n",
    "print('b =', b)\n",
    "print('c =', c)"
   ]
  },
  {
   "cell_type": "markdown",
   "metadata": {
    "id": "ATbxIAUqJUR0"
   },
   "source": [
    "- 두 변수값을 교환 가능"
   ]
  },
  {
   "cell_type": "code",
   "execution_count": 19,
   "metadata": {
    "id": "vm-DdWRQGuiK"
   },
   "outputs": [
    {
     "name": "stdout",
     "output_type": "stream",
     "text": [
      "a = 10 b = 20\n",
      "a = 20 b = 10\n"
     ]
    }
   ],
   "source": [
    "# 변수 값 서로 변경\n",
    "a, b = 10, 20\n",
    "print('a =', a, 'b =', b)\n",
    "a, b = b, a\n",
    "print('a =', a, 'b =', b)"
   ]
  },
  {
   "cell_type": "markdown",
   "metadata": {
    "id": "-ojaHPWMJPhx"
   },
   "source": [
    "- 함수 리턴값을 대입도 가능하다."
   ]
  },
  {
   "cell_type": "code",
   "execution_count": 14,
   "metadata": {
    "id": "_mpTzUEMZ2Us"
   },
   "outputs": [
    {
     "name": "stdout",
     "output_type": "stream",
     "text": [
      "2 5\n"
     ]
    }
   ],
   "source": [
    "# 튜플 사용\n",
    "a, b = 45, 20\n",
    "x, y = divmod(a, b)\n",
    "print(x, y)"
   ]
  },
  {
   "cell_type": "markdown",
   "metadata": {
    "id": "x-PYq0N7ibFy"
   },
   "source": [
    "## 4.2.튜플 인덱싱과 슬라이싱"
   ]
  },
  {
   "cell_type": "markdown",
   "metadata": {
    "id": "igWPlCbS2HXX"
   },
   "source": [
    "**1) 튜플 인덱싱**"
   ]
  },
  {
   "cell_type": "code",
   "execution_count": null,
   "metadata": {
    "id": "LL8H271sikHu"
   },
   "outputs": [],
   "source": [
    "# 2번째 요소 확인\n",
    "score = (90, 85, 70, 95)\n",
    "\n",
    "# 확인\n"
   ]
  },
  {
   "cell_type": "code",
   "execution_count": 23,
   "metadata": {
    "id": "gFM4X-91itHg"
   },
   "outputs": [
    {
     "data": {
      "text/plain": [
       "('A', 'B', 'D', 'F')"
      ]
     },
     "execution_count": 23,
     "metadata": {},
     "output_type": "execute_result"
    }
   ],
   "source": [
    "# 4번째 요소인 튜플 확인\n",
    "score = (90, 85, 70, ('A', 'B', 'D', 'F'))\n",
    "\n",
    "# 확인\n",
    "score[3]"
   ]
  },
  {
   "cell_type": "code",
   "execution_count": null,
   "metadata": {
    "id": "sz5Sv4hYizRw"
   },
   "outputs": [],
   "source": [
    "# 4번째 요소 튜플의 요소 확인\n",
    "score = (90, 85, 70, ('A', 'B', 'D', 'F'))\n",
    "\n",
    "# 확인\n",
    "\n",
    "\n"
   ]
  },
  {
   "cell_type": "markdown",
   "metadata": {
    "id": "tQzXkWRxi5uE"
   },
   "source": [
    "**2) 튜플 슬라이싱**"
   ]
  },
  {
   "cell_type": "code",
   "execution_count": null,
   "metadata": {
    "id": "sekd1UcZi8yg"
   },
   "outputs": [],
   "source": [
    "# 2번째 요소부터 끝까지\n",
    "score = (90, 85, 70, 95)\n",
    "\n",
    "# 확인\n"
   ]
  },
  {
   "cell_type": "markdown",
   "metadata": {
    "id": "hnkogCjjjNrA"
   },
   "source": [
    "## 4.3.튜플 연산\n"
   ]
  },
  {
   "cell_type": "code",
   "execution_count": 20,
   "metadata": {
    "id": "0OT8eI7CjM0x"
   },
   "outputs": [
    {
     "data": {
      "text/plain": [
       "(90, 85, 70, 95, 80, 85, 65, 90)"
      ]
     },
     "execution_count": 20,
     "metadata": {},
     "output_type": "execute_result"
    }
   ],
   "source": [
    "# 두 개의 튜플 더하기\n",
    "score1 = (90, 85, 70, 95)\n",
    "score2 = (80, 85, 65, 90)\n",
    "score3 = score1 + score2\n",
    "\n",
    "# 확인\n",
    "score3"
   ]
  },
  {
   "cell_type": "code",
   "execution_count": 21,
   "metadata": {
    "id": "GmeSA1MHjdB0"
   },
   "outputs": [
    {
     "data": {
      "text/plain": [
       "(90, 85, 70, 95, 90, 85, 70, 95, 90, 85, 70, 95)"
      ]
     },
     "execution_count": 21,
     "metadata": {},
     "output_type": "execute_result"
    }
   ],
   "source": [
    "# 튜플 요소 여러번 반복\n",
    "score1 = (90, 85, 70, 95)\n",
    "score2 = score1 * 3\n",
    "\"\"\n",
    "# 확인\n",
    "score2"
   ]
  }
 ],
 "metadata": {
  "colab": {
   "provenance": [],
   "toc_visible": true
  },
  "kernelspec": {
   "display_name": "Python 3 (ipykernel)",
   "language": "python",
   "name": "python3"
  },
  "language_info": {
   "codemirror_mode": {
    "name": "ipython",
    "version": 3
   },
   "file_extension": ".py",
   "mimetype": "text/x-python",
   "name": "python",
   "nbconvert_exporter": "python",
   "pygments_lexer": "ipython3",
   "version": "3.9.13"
  }
 },
 "nbformat": 4,
 "nbformat_minor": 1
}
