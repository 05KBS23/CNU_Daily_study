{
 "cells": [
  {
   "cell_type": "markdown",
   "metadata": {
    "id": "VHcAusnqwv_K"
   },
   "source": [
    "# ③ List type\n",
    "\n",
    "- 여러 값을 묶어서 갖는 컨테이너 자료형 중의 하나\n",
    "- [ ] 안에 콤마로 구분해 값을 나열, 괄호 안 값을 요소라함\n",
    "- 모든 데이터(숫자, 문자, 파일, 이미지 등등)가 리스트의 요소 가능\n",
    "- 당연히 리스트가 리스트의 요소가 될 수 있다.\n",
    "- Python에서 가장 많이 사용되는 자료형이 리스트"
   ]
  },
  {
   "cell_type": "markdown",
   "metadata": {
    "id": "tqlzU37B4Cr9"
   },
   "source": [
    "## 1. 일반 변수와 리스트 비교\n"
   ]
  },
  {
   "cell_type": "markdown",
   "metadata": {
    "id": "l3L6bDwMGnqO"
   },
   "source": [
    "**1) 일반 변수**\n",
    "\n",
    "- 일반 변수를 사용하여 5명의 작업을 처리하기 위해선 **5개 변수**가 필요하다."
   ]
  },
  {
   "cell_type": "code",
   "execution_count": 3,
   "metadata": {
    "id": "69Ne6pGSFQpK"
   },
   "outputs": [],
   "source": [
    "# 개별 값을 갖는 기존 변수\n",
    "age1 = 85231\n",
    "age2 = 90214\n",
    "age3 = 804214\n",
    "age4 = 7535\n",
    "age5 = 95531"
   ]
  },
  {
   "cell_type": "code",
   "execution_count": 4,
   "metadata": {
    "id": "Rok8QsLHA4mn"
   },
   "outputs": [
    {
     "data": {
      "text/plain": [
       "1082725"
      ]
     },
     "execution_count": 4,
     "metadata": {},
     "output_type": "execute_result"
    }
   ],
   "source": [
    "# 변수들의 합\n",
    "age_sum = age1 + age2 + age3 + age4 + age5 \n",
    "\n",
    "age_sum"
   ]
  },
  {
   "cell_type": "markdown",
   "metadata": {
    "id": "8-sYQ8zBjYTi"
   },
   "source": [
    "**2) 리스트**\n",
    "\n",
    "- 5명의 나이를 **리스트 하나**로 처리 가능"
   ]
  },
  {
   "cell_type": "code",
   "execution_count": 6,
   "metadata": {
    "id": "y0qQdE-XQVlG"
   },
   "outputs": [
    {
     "data": {
      "text/plain": [
       "[854134, 1341390, 843140, 74315, 9431415]"
      ]
     },
     "execution_count": 6,
     "metadata": {},
     "output_type": "execute_result"
    }
   ],
   "source": [
    "# 리스트 만들기\n",
    "num = [854134 , 1341390 , 843140, 74315 ,9431415 ]\n",
    "\n",
    "# 확인\n",
    "num"
   ]
  },
  {
   "cell_type": "markdown",
   "metadata": {
    "id": "QQl1K2fJG8FH"
   },
   "source": [
    "- sum() 함수 = 합계"
   ]
  },
  {
   "cell_type": "code",
   "execution_count": 11,
   "metadata": {
    "id": "08HIOnMUP4qN"
   },
   "outputs": [
    {
     "data": {
      "text/plain": [
       "12544394"
      ]
     },
     "execution_count": 11,
     "metadata": {},
     "output_type": "execute_result"
    }
   ],
   "source": [
    "# 리스트 요소의 합\n",
    "tot_num = sum(num) \n",
    "\n",
    "# 결과\n",
    "tot_num"
   ]
  },
  {
   "cell_type": "markdown",
   "metadata": {
    "id": "oTfiIL_XHCbJ"
   },
   "source": [
    "- max() 함수 =  최댓값"
   ]
  },
  {
   "cell_type": "code",
   "execution_count": 10,
   "metadata": {
    "id": "PkaEdMzDCXR3",
    "scrolled": true
   },
   "outputs": [
    {
     "data": {
      "text/plain": [
       "9431415"
      ]
     },
     "execution_count": 10,
     "metadata": {},
     "output_type": "execute_result"
    }
   ],
   "source": [
    "# 리스트 요소 중 가장 큰 값\n",
    "num_max = max(num)\n",
    "\n",
    "# 결과\n",
    "num_max"
   ]
  },
  {
   "cell_type": "markdown",
   "metadata": {
    "id": "EKI7qiBtjWSP"
   },
   "source": [
    "## 2. 리스트 생성"
   ]
  },
  {
   "cell_type": "markdown",
   "metadata": {
    "id": "bTBoZYrs7fCY"
   },
   "source": [
    "**1) 비어있는 리스트 생성**\n",
    "\n",
    "- 비어있는 리스트를 생성해서 요소값을 받는다.\n",
    "- list() 함수는 다른 자료형을 리스트로 변환하는 함임."
   ]
  },
  {
   "cell_type": "code",
   "execution_count": 9,
   "metadata": {
    "id": "V7L3uB_fPX3o"
   },
   "outputs": [
    {
     "name": "stdout",
     "output_type": "stream",
     "text": [
      "[]\n",
      "[]\n"
     ]
    }
   ],
   "source": [
    "# 빈 리스트 만들기\n",
    "age1 = []\n",
    "age2 = list()\n",
    "\n",
    "# 결과\n",
    "print(age1)\n",
    "print(age2)"
   ]
  },
  {
   "cell_type": "markdown",
   "metadata": {
    "id": "VPN0uG3VPgZx"
   },
   "source": [
    "**2) 동일한 자료형 요소의 리스트**\n"
   ]
  },
  {
   "cell_type": "code",
   "execution_count": 12,
   "metadata": {
    "id": "dT2EGSLIPgZ0"
   },
   "outputs": [
    {
     "name": "stdout",
     "output_type": "stream",
     "text": [
      "[852, 925, 950, 775]\n",
      "4\n"
     ]
    }
   ],
   "source": [
    "# 리스트 생성\n",
    "age = [852, 925, 950, 775]\n",
    "\n",
    "# 결과\n",
    "print(age)\n",
    "print(len(age))"
   ]
  },
  {
   "cell_type": "markdown",
   "metadata": {
    "id": "3nzvAydjx7UP"
   },
   "source": [
    "**3) 여러 자료형 요소의 리스트**\n",
    "\n",
    "- 여러 자료형의 값을 요소로 갖는 리스트를 생성 가능"
   ]
  },
  {
   "cell_type": "code",
   "execution_count": 15,
   "metadata": {
    "id": "lm_UxmjSFQpN"
   },
   "outputs": [
    {
     "name": "stdout",
     "output_type": "stream",
     "text": [
      "['강태공', 42, '강감찬', 95, '강민구', 90, '강수량', 75]\n",
      "8\n"
     ]
    }
   ],
   "source": [
    "# 리스트 생서\n",
    "fam = ['강태공', 42, '강감찬', 95, '강민구', 90,'강수량', 75]\n",
    "\n",
    "# 결과\n",
    "print(fam)\n",
    "print(len(fam))"
   ]
  },
  {
   "cell_type": "markdown",
   "metadata": {
    "id": "W4jrvSVk4AzQ"
   },
   "source": [
    "**4) 리스트를 요소로 갖는 리스트**\n",
    "\n",
    "- 리스트를 요소로 갖는 리스트(List of List)\n",
    "- 다음과 같은 형태를 가진 리스트를 2차원 리스트라고 한다..\n",
    "- len() 함수를 이용하면 해당 리스트의 요소의 개수는 9 X -> 3 O\n",
    "- 요소 3개씩을 갖는 리스트 3개가 age 리스트의 요소이다."
   ]
  },
  {
   "cell_type": "code",
   "execution_count": 16,
   "metadata": {
    "id": "VVFeuF8MvM98"
   },
   "outputs": [
    {
     "name": "stdout",
     "output_type": "stream",
     "text": [
      "[[80, 90, 75], [85, 70, 99], [90, 75, 80]]\n",
      "80\n",
      "3\n"
     ]
    }
   ],
   "source": [
    "# 2차원 리스트 만들기\n",
    "age = [[80, 90, 75], \n",
    "         [85, 70, 99],\n",
    "         [90, 75, 80]]\n",
    "\n",
    "# 결과\n",
    "print(age)\n",
    "print(age[0][0])\n",
    "print(len(age))"
   ]
  },
  {
   "cell_type": "markdown",
   "metadata": {
    "id": "S6ycuNmOPopd"
   },
   "source": [
    "## 3. range()를 활용한 리스트 생성"
   ]
  },
  {
   "cell_type": "code",
   "execution_count": null,
   "metadata": {
    "id": "HzigMLJPBF-k"
   },
   "outputs": [],
   "source": [
    "# 리스트 만들기\n",
    "nums = [1, 2, 3, 4, 5, 6, 7, 8, 9, 10, 11, 12, 13, 14, 16, 17, 18, 19, 20]\n",
    "\n",
    "# 결과\n",
    "nums"
   ]
  },
  {
   "cell_type": "markdown",
   "metadata": {
    "id": "MtdgpIKgBGkj"
   },
   "source": [
    "\n",
    "- **연속된 숫자 , 정수**로 리스트를 만들 때는 **range()**를 쓰자\n",
    "- range() 함수로 얻은 값을 리스트로 변환하는 것이다.\n",
    "- list 이외에도 튜플, 집합, 딕셔너리 등을 만들 때도 사용된다."
   ]
  },
  {
   "cell_type": "markdown",
   "metadata": {
    "id": "JwxLhp4tAyUs"
   },
   "source": [
    "**1) 기본 사용법**\n",
    "\n",
    "- **range(*n*)**: 0 부터 n-1 까지\n",
    "- **range(*m*, *n*)**: m 부터 n-1 까지"
   ]
  },
  {
   "cell_type": "code",
   "execution_count": 18,
   "metadata": {
    "id": "YgZ0cR0X8LY0"
   },
   "outputs": [
    {
     "name": "stdout",
     "output_type": "stream",
     "text": [
      "[0, 1, 2, 3, 4, 5, 6, 7, 8, 9]\n",
      "[0, 1, 2, 3, 4, 5, 6, 7, 8, 9]\n"
     ]
    }
   ],
   "source": [
    "# 0 ~ 9 정수를 요소로 갖는 리스트\n",
    "n = list(range(0,10))\n",
    "n1 = list(range(10))\n",
    "\n",
    "# 확인\n",
    "print(n)\n",
    "print(n1)"
   ]
  },
  {
   "cell_type": "markdown",
   "metadata": {
    "id": "gfzXdiXFM2V1"
   },
   "source": [
    "\n",
    "- **range(*m*, *n*)**: m 부터 n-1 까지의 정수 범위"
   ]
  },
  {
   "cell_type": "code",
   "execution_count": 20,
   "metadata": {
    "id": "Cu_7n2T1hEVX"
   },
   "outputs": [
    {
     "data": {
      "text/plain": [
       "[-10, -9, -8, -7, -6, -5, -4, -3, -2, -1, 0, 1, 2, 3, 4, 5, 6, 7, 8, 9, 10]"
      ]
     },
     "execution_count": 20,
     "metadata": {},
     "output_type": "execute_result"
    }
   ],
   "source": [
    "# -10 ~ 10 사이 정수를 요소로 갖는 리스트\n",
    "nums = list(range(-10,11))  ######조심 10이 아니라 11이다!!!!\n",
    "\n",
    "# 결과\n",
    "nums"
   ]
  },
  {
   "cell_type": "markdown",
   "metadata": {
    "id": "nEZr0dyC4uUC"
   },
   "source": [
    "**2) 증가값 지정**\n",
    "\n",
    "- **range(*m, n, x*)**: m 부터 n-1 까지 x 만큼씩 증가하는 정수"
   ]
  },
  {
   "cell_type": "code",
   "execution_count": 22,
   "metadata": {
    "id": "PZOI8JTc4tvi"
   },
   "outputs": [
    {
     "data": {
      "text/plain": [
       "[0, 14, 28, 42, 56, 70, 84, 98]"
      ]
     },
     "execution_count": 22,
     "metadata": {},
     "output_type": "execute_result"
    }
   ],
   "source": [
    "# 0 ~ 100 사이, 14씩 증가하는 정수를 요소로 갖는 리스트\n",
    "nums = list(range(0,101,14)) \n",
    "\n",
    "# 결과\n",
    "nums"
   ]
  },
  {
   "cell_type": "code",
   "execution_count": null,
   "metadata": {
    "id": "x9st1_HYM2XU"
   },
   "outputs": [],
   "source": [
    "# 0 ~ 9 사이, 3씩 증가하는 정수를 요소로 갖는 리스트\n",
    "nums = list(range(10,3)) \n",
    "\n",
    "# 결과\n",
    "nums"
   ]
  },
  {
   "cell_type": "code",
   "execution_count": 23,
   "metadata": {
    "id": "OJvmrNjrMxiJ"
   },
   "outputs": [
    {
     "data": {
      "text/plain": [
       "[9, 8, 7, 6, 5, 4, 3, 2, 1]"
      ]
     },
     "execution_count": 23,
     "metadata": {},
     "output_type": "execute_result"
    }
   ],
   "source": [
    "# 9 ~ 0 사이, 1씩 감소하는 정수를 요소로 갖는 리스트\n",
    "nums = list(range(9,0,-1)) \n",
    "\n",
    "# 결과\n",
    "nums"
   ]
  },
  {
   "cell_type": "markdown",
   "metadata": {
    "id": "CW4CsRNy8LY3"
   },
   "source": [
    "## 4. 문자열로 리스트 만들기"
   ]
  },
  {
   "cell_type": "code",
   "execution_count": 32,
   "metadata": {
    "id": "6qrjNkSz8LY3"
   },
   "outputs": [
    {
     "name": "stdout",
     "output_type": "stream",
     "text": [
      "PYTHON\n",
      "('PYTHON',)\n"
     ]
    }
   ],
   "source": [
    "# 단순 문자열\n",
    "j_str = ('jejudo')\n",
    "j_str1 = ('jejudo',) #요소 하나짜리 튜플\n",
    "\n",
    "# 결과  \n",
    "print(var_str)\n",
    "print(var_str1)"
   ]
  },
  {
   "cell_type": "code",
   "execution_count": 24,
   "metadata": {
    "id": "Kgiv604vNK57"
   },
   "outputs": [
    {
     "data": {
      "text/plain": [
       "['alalakwkmqwkl']"
      ]
     },
     "execution_count": 24,
     "metadata": {},
     "output_type": "execute_result"
    }
   ],
   "source": [
    "# 문자열 하나를 요소로 갖는 리스트\n",
    "list_str = ['alalakwkmqwkl']\n",
    "\n",
    "# 확인\n",
    "list_str"
   ]
  },
  {
   "cell_type": "code",
   "execution_count": 25,
   "metadata": {
    "id": "fNBOQcdNNMb0"
   },
   "outputs": [
    {
     "data": {
      "text/plain": [
       "['r', 'n', 'd', 'n', 's', 'i']"
      ]
     },
     "execution_count": 25,
     "metadata": {},
     "output_type": "execute_result"
    }
   ],
   "source": [
    "# 개별 문자를 요소로 갖는 리스트 #1\n",
    "list_str = list('rndnsi')\n",
    "\n",
    "# 확인\n",
    "list_str    "
   ]
  },
  {
   "cell_type": "markdown",
   "metadata": {
    "id": "8yJZo2gyQGsl"
   },
   "source": [
    "## 5. 리스트 인덱싱(Indexing)\n",
    "\n",
    "- 특정 요소, 즉 리스트 안에서 특정 값을 찾을 때는 **인덱스**\n",
    "- **대괄호**, 즉 **[ ]** 안에 인덱스를 지정.\n",
    "- **0부터 시작**하는 **정수형 위치 인덱스**를 사용\n",
    "- 인덱스 역방향은 **-1**부터 시작\n"
   ]
  },
  {
   "cell_type": "code",
   "execution_count": 27,
   "metadata": {
    "id": "8HlzJIPSFQpO",
    "scrolled": true
   },
   "outputs": [
    {
     "name": "stdout",
     "output_type": "stream",
     "text": [
      "박해수\n",
      "75\n"
     ]
    }
   ],
   "source": [
    "# 리스트 만들기\n",
    "fam = ['강태공', 85, '유지태', 95, '박해수', 90, '박정희', 75]\n",
    "\n",
    "# 인덱싱\n",
    "\n",
    "print(fam[4])\n",
    "\n",
    "print(fam[-1])"
   ]
  },
  {
   "cell_type": "markdown",
   "metadata": {
    "id": "IQ287ldPOamE"
   },
   "source": [
    "- 리스트를 요소로 갖는 리스트에 대한 인덱싱하는 법"
   ]
  },
  {
   "cell_type": "code",
   "execution_count": 28,
   "metadata": {
    "id": "68b-MBUWwMHT"
   },
   "outputs": [
    {
     "name": "stdout",
     "output_type": "stream",
     "text": [
      "[90, 100, 85]\n",
      "100\n"
     ]
    }
   ],
   "source": [
    "# 리스트를 요소로 갖는 리스트\n",
    "score = [80, [90, 100, 85], 85, 90]\n",
    "\n",
    "# 인덱싱\n",
    "\n",
    "print(score[1])\n",
    "print(score[1][1])\n",
    "\n"
   ]
  },
  {
   "cell_type": "markdown",
   "metadata": {
    "id": "l-mJjYG9FQpP"
   },
   "source": [
    "## 6.리스트 슬라이싱(Slicing)\n",
    "\n",
    "- 인덱스를 사용해 특정 **범위**의 요소를 찾는 과정\n",
    "- 대괄호안에 [m:n] 형태로 범위를 지정하여 요소를 확인\n",
    "- **인덱스 n의 요소는 결과에 포함 X.**\n"
   ]
  },
  {
   "cell_type": "code",
   "execution_count": 29,
   "metadata": {
    "id": "SxCJ0jmQFQpS"
   },
   "outputs": [
    {
     "name": "stdout",
     "output_type": "stream",
     "text": [
      "['강태공', 85]\n",
      "['박해수', 90, '박정희', 75]\n",
      "['강태공', 85, '유지태', 95, '박해수', 90, '박정희', 75]\n",
      "[95, '유지태', 85, '강태공']\n"
     ]
    }
   ],
   "source": [
    "# 리스트 만들기\n",
    "fam = ['강태공', 85, '유지태', 95, '박해수', 90, '박정희', 75]\n",
    "\n",
    "# 슬라이싱\n",
    "\n",
    "print(fam[:2])\n",
    "\n",
    "print(fam[-4:])\n",
    "\n",
    "print(fam[:])\n",
    "\n",
    "print(fam[3::-1])"
   ]
  },
  {
   "cell_type": "markdown",
   "metadata": {
    "id": "C3j8e6B2OxLT"
   },
   "source": [
    "- 리스트를 요소로 갖는 리스트에 대한 슬라이싱"
   ]
  },
  {
   "cell_type": "code",
   "execution_count": 30,
   "metadata": {
    "id": "HYND_XGSPICe"
   },
   "outputs": [
    {
     "name": "stdout",
     "output_type": "stream",
     "text": [
      "[[431490, 1464666600, 77777777777777777785], 85431431]\n",
      "[1464666600, 77777777777777777785]\n"
     ]
    }
   ],
   "source": [
    "# 리스트를 요소로 갖는 리스트\n",
    "score = [41343, [431490, 1464666600, 77777777777777777785], 85431431, 9531530]\n",
    "\n",
    "# 슬라이싱\n",
    "\n",
    "print(score[1:3])\n",
    "print(score[1][1:])"
   ]
  },
  {
   "cell_type": "code",
   "execution_count": 34,
   "metadata": {},
   "outputs": [],
   "source": [
    "\n"
   ]
  },
  {
   "cell_type": "markdown",
   "metadata": {
    "id": "yMmFHYlBxNP8"
   },
   "source": [
    "## 7.리스트 연산\n",
    "\n",
    "- **더하기**는 **결합**을, **곱하기**는 **반복**을 의미\n",
    "- 빼기와 나누기 연산은 불가능"
   ]
  },
  {
   "cell_type": "markdown",
   "metadata": {
    "id": "-4n58nNAn_1y"
   },
   "source": [
    "**1) 리스트 더하기**\n",
    "\n",
    "- 리스트를 더하면 두 리스트가 연결된다. 문자열 더하는 거랑 똑같음!!"
   ]
  },
  {
   "cell_type": "code",
   "execution_count": 33,
   "metadata": {
    "id": "E-FBnP9ZxPL7"
   },
   "outputs": [
    {
     "data": {
      "text/plain": [
       "[90321, 842140, 9412415, 3153170, 73213120, 753153155, 951350, 10153530]"
      ]
     },
     "execution_count": 33,
     "metadata": {},
     "output_type": "execute_result"
    }
   ],
   "source": [
    "# 리스트 만들기\n",
    "num = [90321, 842140, 9412415, 3153170]\n",
    "num1 = [73213120, 753153155, 951350, 10153530]\n",
    "\n",
    "# 두 리스트 더하기\n",
    "num3 = num + num1\n",
    "\n",
    "# 결과\n",
    "num3"
   ]
  },
  {
   "cell_type": "markdown",
   "metadata": {
    "id": "4NYb66waQWlk"
   },
   "source": [
    "- 마찬가지로 복합 대입 연산자를 사용해 리스트를 연결할 수 있다."
   ]
  },
  {
   "cell_type": "code",
   "execution_count": 37,
   "metadata": {
    "id": "ejcesqmYxlxI",
    "scrolled": true
   },
   "outputs": [
    {
     "data": {
      "text/plain": [
       "[4421, 413480, 413495, 739589013750, 99, 999, 9999, 9999]"
      ]
     },
     "execution_count": 37,
     "metadata": {},
     "output_type": "execute_result"
    }
   ],
   "source": [
    "# 빈 리스트 만들기\n",
    "아무숫자 = []\n",
    "# 리스트 연결\n",
    "아무숫자 += [4421, 413480, 413495, 739589013750] \n",
    "아무숫자 += [99,999,9999,9999] # score = score + [ 90, 80, 95, 70]\n",
    "\n",
    "# 결과\n",
    "아무숫자"
   ]
  },
  {
   "cell_type": "markdown",
   "metadata": {
    "id": "Mg2ZeHMPoCWZ"
   },
   "source": [
    "**2) 리스트 반복**\n",
    "\n",
    "- 리스트에 정수를 곱하면 반 복"
   ]
  },
  {
   "cell_type": "code",
   "execution_count": 40,
   "metadata": {
    "id": "0uYMqFwExntS"
   },
   "outputs": [
    {
     "name": "stdout",
     "output_type": "stream",
     "text": [
      "[94310, 41380, 95315315, 753153150]\n",
      "[94310, 41380, 95315315, 753153150, 94310, 41380, 95315315, 753153150]\n",
      "[94310, 41380, 95315315, 753153150, 94310, 41380, 95315315, 753153150, 94310, 41380, 95315315, 753153150]\n"
     ]
    }
   ],
   "source": [
    "# 리스트 만들기\n",
    "아무리스트1 = [94310, 41380, 95315315, 753153150]\n",
    "\n",
    "# 리스트 요소를 곱한 수 만큼 반복하기\n",
    "아무리스트2 = 아무리스트1  * 2\n",
    "아무리스트3 = 아무리스트1  * 3\n",
    "\n",
    "# 결과\n",
    "print(아무리스트1)\n",
    "print(아무리스트2)\n",
    "print(아무리스트3)"
   ]
  },
  {
   "cell_type": "code",
   "execution_count": 67,
   "metadata": {},
   "outputs": [
    {
     "data": {
      "text/plain": [
       "[1, 1, 1, 1, 1, 1, 1, 1, 1, 1, 1, 1, 1, 1, 1, 1, 1, 1, 1, 1]"
      ]
     },
     "execution_count": 67,
     "metadata": {},
     "output_type": "execute_result"
    }
   ],
   "source": [
    "a = [1] * 20\n",
    "a"
   ]
  },
  {
   "cell_type": "markdown",
   "metadata": {
    "id": "0qvqP1VjQyZy"
   },
   "source": [
    "- 정수 0을 곱하면 리스트 요소가 모두 제거 = 문자열 연산과 동일??"
   ]
  },
  {
   "cell_type": "code",
   "execution_count": 42,
   "metadata": {
    "id": "rvr1wRfO-39D"
   },
   "outputs": [
    {
     "name": "stdout",
     "output_type": "stream",
     "text": [
      "[90, 80, 95, 70]\n",
      "[]\n"
     ]
    }
   ],
   "source": [
    "# 리스트 만들기\n",
    "리스1 = [90, 80, 95, 70]\n",
    "\n",
    "# 리스트에 0 곱하기\n",
    "리스빵 = 리스1 * 0\n",
    "\n",
    "# 결과\n",
    "print(리스1)\n",
    "print(리스빵)"
   ]
  },
  {
   "cell_type": "markdown",
   "metadata": {
    "id": "TzkT7GQvx8rx"
   },
   "source": [
    "## 8.요소 변경, 추가, 삭제\n",
    "\n",
    "- 인덱싱 또는 슬라이싱 결과값을 바꿀 수 있다.\n",
    "- 또한 **append()**, **insert()** 메소드를 사용해 요소 추가 가능"
   ]
  },
  {
   "cell_type": "markdown",
   "metadata": {
    "id": "YjXrqI_5oUxc"
   },
   "source": [
    "**1) 범위 내 변경**\n",
    "\n",
    "- 기존 요소의 값이 변경"
   ]
  },
  {
   "cell_type": "code",
   "execution_count": 54,
   "metadata": {
    "id": "V1c5gES5FQpU",
    "scrolled": true
   },
   "outputs": [
    {
     "data": {
      "text/plain": [
       "[0, 1, 2, 3, 4, 5, 6, 7]"
      ]
     },
     "execution_count": 54,
     "metadata": {},
     "output_type": "execute_result"
    }
   ],
   "source": [
    "# range() 함수로 리스트 생선\n",
    "lis = list(range(8))\n",
    "\n",
    "# 확인\n",
    "lis"
   ]
  },
  {
   "cell_type": "code",
   "execution_count": 51,
   "metadata": {
    "id": "wH6a50jAORfr"
   },
   "outputs": [
    {
     "data": {
      "text/plain": [
       "[0, 10, 2, 3]"
      ]
     },
     "execution_count": 51,
     "metadata": {},
     "output_type": "execute_result"
    }
   ],
   "source": [
    "# 특정 요소 값 변경\n",
    "lis[1] = 10\n",
    "\n",
    "# 확인\n",
    "lis"
   ]
  },
  {
   "cell_type": "code",
   "execution_count": 53,
   "metadata": {
    "id": "3g2rHio18t7g"
   },
   "outputs": [
    {
     "data": {
      "text/plain": [
       "[0, 10, 20413541355315135, 353153153151350]"
      ]
     },
     "execution_count": 53,
     "metadata": {},
     "output_type": "execute_result"
    }
   ],
   "source": [
    "# 범위내 요소 값 변경\n",
    "lis[2:4] = [20413541355315135, 353153153151350]\n",
    "\n",
    "# 확인\n",
    "lis"
   ]
  },
  {
   "cell_type": "markdown",
   "metadata": {},
   "source": [
    "# 1대1 매핑이 아니라서 범위값(원래 3개) 대신 새로운 값 두 개으로 생성"
   ]
  },
  {
   "cell_type": "code",
   "execution_count": 57,
   "metadata": {
    "id": "vWM0ETU88rmd"
   },
   "outputs": [
    {
     "data": {
      "text/plain": [
       "[0, 1, 2, 3, 40, 50]"
      ]
     },
     "execution_count": 57,
     "metadata": {},
     "output_type": "execute_result"
    }
   ],
   "source": [
    "# 범위내 요소 값 변경\n",
    "lis[4:7] = [40, 50]\n",
    "\n",
    "# 확인\n",
    "lis"
   ]
  },
  {
   "cell_type": "markdown",
   "metadata": {
    "id": "Nk98n7gdoZVp"
   },
   "source": [
    "**2) 범위 밖 변경**\n",
    "\n",
    "- 리스트의 범위를 벗어나는 요소 값을 변경하면 그냥 요소가 추가됨.\n",
    "- 반드시 범위가 연결되지 않아도 가능"
   ]
  },
  {
   "cell_type": "code",
   "execution_count": 60,
   "metadata": {
    "id": "6Ijhgtxd_dTa"
   },
   "outputs": [
    {
     "data": {
      "text/plain": [
       "[0, 1, 2, 3, 40, 50, 7055, 6680, 890, 10220]"
      ]
     },
     "execution_count": 60,
     "metadata": {},
     "output_type": "execute_result"
    }
   ],
   "source": [
    "# 범위를 벗어나는 요소 값 변경\n",
    "lis[6:] = [7055, 6680, 890, 10220]\n",
    "\n",
    "# 확인\n",
    "lis"
   ]
  },
  {
   "cell_type": "code",
   "execution_count": 63,
   "metadata": {
    "id": "JbatDmJLATTA"
   },
   "outputs": [
    {
     "data": {
      "text/plain": [
       "[0, 1, 2, 3, 40, 50, 7055, 6680, 890, 10220, 110, 120, 110, 120, 110, 120]"
      ]
     },
     "execution_count": 63,
     "metadata": {},
     "output_type": "execute_result"
    }
   ],
   "source": [
    "# 범위를 완전히 벗어나는 요소 값 변경\n",
    "lis[999999999999999999999999999999999999999999999999999999999999999999999999999999999999999999999999999999999:] = [110, 120]\n",
    "\n",
    "# 확인\n",
    "lis"
   ]
  },
  {
   "cell_type": "markdown",
   "metadata": {
    "id": "LJgR2XP3HBMy"
   },
   "source": [
    "### 9. 추가"
   ]
  },
  {
   "cell_type": "markdown",
   "metadata": {
    "id": "Jf6yHua8Qtg1"
   },
   "source": [
    "**1) 뒤에 요소 하나 추가**\n",
    "\n",
    "- **append()** 메소드를 사용해서 맨 뒤에 요소 **하나**를 추가할 수 있다.\n",
    "- 무조건 하나만!!!!!!!!!!!!!!!!!!!!!!!!! 추가 append(6,5) 안됨"
   ]
  },
  {
   "cell_type": "code",
   "execution_count": 64,
   "metadata": {
    "id": "uhEgr1o4HC_I"
   },
   "outputs": [
    {
     "data": {
      "text/plain": [
       "[0, 1, 2, 3, 4]"
      ]
     },
     "execution_count": 64,
     "metadata": {},
     "output_type": "execute_result"
    }
   ],
   "source": [
    "# 0 ~ 4 정수를 갖는 리스트 만들기\n",
    "nums = list(range(5))\n",
    "\n",
    "# 확인\n",
    "nums"
   ]
  },
  {
   "cell_type": "code",
   "execution_count": 65,
   "metadata": {
    "id": "S17m2Dwe82J4"
   },
   "outputs": [
    {
     "data": {
      "text/plain": [
       "[0, 1, 2, 3, 4, 5, 6]"
      ]
     },
     "execution_count": 65,
     "metadata": {},
     "output_type": "execute_result"
    }
   ],
   "source": [
    "# 맨 뒤에 요소 하나 추가\n",
    "nums.append(5)\n",
    "\n",
    "# 맨 뒤에 요소 하나 더 추가\n",
    "nums.append(6)\n",
    "\n",
    "# 확인\n",
    "nums"
   ]
  },
  {
   "cell_type": "code",
   "execution_count": 66,
   "metadata": {
    "id": "-qEtaAu9Bu0R"
   },
   "outputs": [
    {
     "data": {
      "text/plain": [
       "[0, 1, 2, 3, 4, 5, 6, [7, 8]]"
      ]
     },
     "execution_count": 66,
     "metadata": {},
     "output_type": "execute_result"
    }
   ],
   "source": [
    "# 맨 뒤에 리스트 하나를 요소로 추가\n",
    "nums.append([7, 8])\n",
    "\n",
    "# 확인\n",
    "nums"
   ]
  },
  {
   "cell_type": "markdown",
   "metadata": {
    "id": "f4Qt8o4Q8LZN"
   },
   "source": [
    "**2) 중간에 요소 추가**\n",
    "\n",
    "- **insert()** 메소드를 사용하면 원하는 위치에 요소를 추가할 수 있습니다."
   ]
  },
  {
   "cell_type": "code",
   "execution_count": null,
   "metadata": {
    "id": "tLKEhHbO8LZN"
   },
   "outputs": [],
   "source": [
    "# 리스트 만들기\n",
    "nums = [10, 20, 40, 50]\n",
    "\n",
    "# 확인\n",
    "nums"
   ]
  },
  {
   "cell_type": "code",
   "execution_count": null,
   "metadata": {
    "id": "f_B7vZG_88pN"
   },
   "outputs": [],
   "source": [
    "# 특정 위치에 요소 추가\n",
    "\n",
    "\n",
    "# 확인\n",
    "nums"
   ]
  },
  {
   "cell_type": "markdown",
   "metadata": {
    "id": "zAfXKWDf8LZS"
   },
   "source": [
    "**3) 뒤에 리스트 붙이기 #1**\n",
    "\n",
    "- 리스트에 리스트를 더하면 리스트가 연결됩니다."
   ]
  },
  {
   "cell_type": "code",
   "execution_count": null,
   "metadata": {
    "id": "vtm95_7Y8LZS"
   },
   "outputs": [],
   "source": [
    "# 리스트 만들기\n",
    "nums = list(range(5))\n",
    "\n",
    "# 확인\n",
    "nums"
   ]
  },
  {
   "cell_type": "code",
   "execution_count": null,
   "metadata": {
    "id": "f5w6-Y9u9AUj"
   },
   "outputs": [],
   "source": [
    "# 리스트 더하기\n",
    "nums = nums + [5, 6, 7, 8, 9]\n",
    "\n",
    "# 확인\n",
    "nums"
   ]
  },
  {
   "cell_type": "markdown",
   "metadata": {
    "id": "vNf6-_GyIggb"
   },
   "source": [
    "**4) 뒤에 리스트 붙이기 #2**\n",
    "\n",
    "- **extend()** 메소드 사용해 리스트 뒤에 리스트를 붙일 수 있습니다."
   ]
  },
  {
   "cell_type": "code",
   "execution_count": null,
   "metadata": {
    "id": "QUq7AfPa8LZT"
   },
   "outputs": [],
   "source": [
    "# 리스트 만들기\n",
    "nums = list(range(5))\n",
    "\n",
    "# 확인\n",
    "nums"
   ]
  },
  {
   "cell_type": "code",
   "execution_count": null,
   "metadata": {
    "id": "3U6dADF59E2Z"
   },
   "outputs": [],
   "source": [
    "# extend 메소드를 사용해서 다른 리스트 연결\n",
    "nums.extend([5, 6, 7, 8, 9])\n",
    "\n",
    "# 확인\n",
    "nums"
   ]
  },
  {
   "cell_type": "markdown",
   "metadata": {
    "id": "AvIr03DvHDW6"
   },
   "source": [
    "### 3.6.3.삭제"
   ]
  },
  {
   "cell_type": "code",
   "execution_count": null,
   "metadata": {
    "id": "VC-QhlA6NmW3"
   },
   "outputs": [],
   "source": [
    "# 리스트 만들기\n",
    "nums = list(range(10, 100, 10))\n",
    "\n",
    "# 확인\n",
    "nums"
   ]
  },
  {
   "cell_type": "markdown",
   "metadata": {
    "id": "UFIhiTf_I0LW"
   },
   "source": [
    "**1) 특정 요소 삭제**\n",
    "\n",
    "- **del** 다음에 인덱싱 구문을 추가해 해당 요소를 삭제합니다. "
   ]
  },
  {
   "cell_type": "code",
   "execution_count": null,
   "metadata": {
    "id": "opg83ZyRIzYu"
   },
   "outputs": [],
   "source": [
    "# del문으로 특정 요소 삭제\n",
    "#      [10, 20, 30, 40, 50, 60, 70, 80, 90]\n",
    "# 인덱스 0   1   2   3   4   5   6   7   8\n",
    "\n",
    "del nums[7]\n",
    "\n",
    "# 확인\n",
    "nums"
   ]
  },
  {
   "cell_type": "markdown",
   "metadata": {
    "id": "2bj4mZRuI7hD"
   },
   "source": [
    "**2) 범위 삭제**\n",
    "\n",
    "- del 다음에 슬라이싱 구문을 추가해 해당 범위 요소를 삭제합니다. "
   ]
  },
  {
   "cell_type": "code",
   "execution_count": null,
   "metadata": {
    "id": "rbL1W9L_I6i2"
   },
   "outputs": [],
   "source": [
    "# 범위 지정하여 여러 요소 삭제\n",
    "#      [10, 20, 30, 40, 50, 60, 70, 90]\n",
    "# 인덱스 0   1   2   3   4   5   6   7\n",
    "\n",
    "del nums[4:]\n",
    "\n",
    "# 확인\n",
    "nums"
   ]
  },
  {
   "cell_type": "markdown",
   "metadata": {
    "id": "-nvXRROTJFIo"
   },
   "source": [
    "**3) 전체 삭제**\n",
    "\n",
    "- [ ]를 대입하거나 **clear()** 메소드로 초기화합니다."
   ]
  },
  {
   "cell_type": "code",
   "execution_count": null,
   "metadata": {
    "id": "CG_grn26JEu7"
   },
   "outputs": [],
   "source": [
    "# 모든 요소 삭제\n",
    "nums = []\n",
    "\n",
    "# 또는\n",
    "#nums.clear()\n",
    "\n",
    "# 확인\n",
    "nums"
   ]
  },
  {
   "cell_type": "markdown",
   "metadata": {
    "id": "c7OpS3iNFQpr"
   },
   "source": [
    "## 3.7.리스트 복사\n",
    "\n",
    "- 리스트 = 리스트 형태는 우리가 생각하는 복사가 아닙니다.\n",
    "- **범위를 지정한 복사가 완전한(?) 복사입니다.**"
   ]
  },
  {
   "cell_type": "code",
   "execution_count": null,
   "metadata": {
    "id": "gfiMNt0hwv_b"
   },
   "outputs": [],
   "source": [
    "# 리스트 복사\n",
    "nums = list(range(10))\n",
    "nums_copy_1 = nums                  # 그냥 복사\n",
    "nums_copy_2 = nums[:]               # 전체 범위를 지정하여 복사\n",
    "\n",
    "# 확인\n",
    "print(nums_copy_1)\n",
    "print(nums_copy_2)"
   ]
  },
  {
   "cell_type": "markdown",
   "metadata": {
    "id": "x7xCSgxTaB-G"
   },
   "source": [
    "- 원본이든 복사본이든 한 쪽 변경이 다른 쪽에 영향을 준다면 완전한 복사가 아닙니다."
   ]
  },
  {
   "cell_type": "code",
   "execution_count": null,
   "metadata": {
    "id": "5Hc08trpaB-G"
   },
   "outputs": [],
   "source": [
    "# copy_1의 첫번째 값 변경 후 원본과 비교\n",
    "nums_copy_1[0] = 'a'\n",
    "\n",
    "# 확인\n",
    "print(nums_copy_1)\n",
    "print(nums_copy_2)\n",
    "print(nums)"
   ]
  },
  {
   "cell_type": "markdown",
   "metadata": {
    "id": "JbROXt4jaB-H"
   },
   "source": [
    "- 원본이든 복사본이든 한 쪽 변경이 다른 쪽에 영향을 주지 않을 때 완전한 복사입니다."
   ]
  },
  {
   "cell_type": "code",
   "execution_count": null,
   "metadata": {
    "id": "rnIsLSzEaB-I"
   },
   "outputs": [],
   "source": [
    "# copy_2의 첫번째 값 변경 후 원본과 비교\n",
    "nums_copy_2[0] = 'b'\n",
    "\n",
    "# 확인\n",
    "print(nums_copy_1)\n",
    "print(nums_copy_2)\n",
    "print(nums)"
   ]
  },
  {
   "cell_type": "markdown",
   "metadata": {
    "id": "HZHsNja-kNNh"
   },
   "source": [
    "- 범위를 지정한 복사 방법 외에도 **copy()** 메소드를 사용하는 방법도 있습니다.\n",
    "- 다음 두 구문이 완전히 복사하는 방법이 됩니다."
   ]
  },
  {
   "cell_type": "code",
   "execution_count": null,
   "metadata": {
    "id": "mpGTSMsikDep"
   },
   "outputs": [],
   "source": [
    "# 완전 복사 방법\n",
    "nums_copy_2 =\n",
    "nums_copy_2 ="
   ]
  },
  {
   "cell_type": "markdown",
   "metadata": {
    "id": "8psc5wH1bz7r"
   },
   "source": [
    "## 3.8.리스트 관련 메소드\n",
    "\n",
    "- 다음 메소드들은 알아두면 편리하게 쓰일 때가 있습니다.\n",
    "- 문자열 관련 메소드에 의한 변경은 변수에 바로 반영되지 않습니다. \n",
    "- 하지만 리스트 관련 메소드에 의한 변경은 변수에 바로 반영이 됩니다."
   ]
  },
  {
   "cell_type": "code",
   "execution_count": null,
   "metadata": {
    "id": "62-zcWnqbQPr"
   },
   "outputs": [],
   "source": [
    "# 변수 선언\n",
    "a = 'I have a Dream.'\n",
    "b = ['A', 'B', 'C', 'D']\n",
    "\n",
    "# 메소드 사용\n",
    "a.upper()\n",
    "b.reverse()\n",
    "\n",
    "# 확인\n",
    "print(a)\n",
    "print(b)"
   ]
  },
  {
   "cell_type": "markdown",
   "metadata": {
    "id": "XNULZh1MX_2u"
   },
   "source": [
    "**1) count(), index() 메소드: 요소 개수와 위치 조회**"
   ]
  },
  {
   "cell_type": "code",
   "execution_count": null,
   "metadata": {
    "id": "0JBaN3Ui4pYC"
   },
   "outputs": [],
   "source": [
    "# 리스트 만들기\n",
    "score = [90, 80, 95, 70, 100, 65, 70, 100]\n",
    "\n",
    "# 확인\n",
    "score"
   ]
  },
  {
   "cell_type": "code",
   "execution_count": null,
   "metadata": {
    "id": "w4seSVNv-xoR"
   },
   "outputs": [],
   "source": [
    "# 100점이 몇 개인지 확인\n",
    "score.count(100)"
   ]
  },
  {
   "cell_type": "code",
   "execution_count": null,
   "metadata": {
    "id": "NRgUy1At-0i3"
   },
   "outputs": [],
   "source": [
    "# 100점이 처음 나타나는 위치\n",
    "score.index(100)"
   ]
  },
  {
   "cell_type": "markdown",
   "metadata": {
    "id": "ob9B5-RBYHjv"
   },
   "source": [
    "**2) append() 메소드: 요소 하나 추가**"
   ]
  },
  {
   "cell_type": "code",
   "execution_count": null,
   "metadata": {
    "id": "SRnHwnwczxOV"
   },
   "outputs": [],
   "source": [
    "# 리스트 만들기\n",
    "score = [90, 80, 95, 70, 100]\n",
    "score"
   ]
  },
  {
   "cell_type": "code",
   "execution_count": null,
   "metadata": {
    "id": "c7OOodXl-4VT"
   },
   "outputs": [],
   "source": [
    "# 리스트 맨 뒤에 새로운 요소 추가\n",
    "score.append(85)\n",
    "\n",
    "# 확인\n",
    "score"
   ]
  },
  {
   "cell_type": "code",
   "execution_count": null,
   "metadata": {
    "id": "pnT88RL3-5Pl"
   },
   "outputs": [],
   "source": [
    "# 리스트에 리스트를 요소로 추가\n",
    "score.append([85, 95, 90, 70, 85])\n",
    "\n",
    "# 확인\n",
    "score"
   ]
  },
  {
   "cell_type": "markdown",
   "metadata": {
    "id": "p4kFpt0AYLV5"
   },
   "source": [
    "**3) reverse(), sort() 메소드: 요소 순서 변경**"
   ]
  },
  {
   "cell_type": "code",
   "execution_count": null,
   "metadata": {
    "id": "Aul7Tcc01LLf"
   },
   "outputs": [],
   "source": [
    "# 리스트 만들기\n",
    "member = ['홍길동', '일지매', '박여인', '한사랑', '강우동']\n",
    "\n",
    "# 확인\n",
    "member"
   ]
  },
  {
   "cell_type": "code",
   "execution_count": null,
   "metadata": {
    "id": "YqJNZedK_B0t"
   },
   "outputs": [],
   "source": [
    "# 요소 뒤집기\n",
    "member.\n",
    "\n",
    "# 확인\n",
    "member"
   ]
  },
  {
   "cell_type": "code",
   "execution_count": null,
   "metadata": {
    "id": "ah3i9cXI_A_Y"
   },
   "outputs": [],
   "source": [
    "# 리스트 안의 요소를 오름차순으로 정렬\n",
    "member.\n",
    "\n",
    "# 확인\n",
    "member"
   ]
  },
  {
   "cell_type": "code",
   "execution_count": null,
   "metadata": {
    "id": "zGcjchw6_AQY"
   },
   "outputs": [],
   "source": [
    "# 리스트 안의 요소를 내림차순으로 정렬\n",
    "member.\n",
    "\n",
    "# 확인\n",
    "member"
   ]
  },
  {
   "cell_type": "markdown",
   "metadata": {
    "id": "ANppY_D2YOy9"
   },
   "source": [
    "**4) insert() 메소드: 지정한 위치에 요소 추가**"
   ]
  },
  {
   "cell_type": "code",
   "execution_count": null,
   "metadata": {
    "id": "CMbKG-Cf3DMz"
   },
   "outputs": [],
   "source": [
    "# 리스트 만들기\n",
    "member = ['일지매', '박여인', '한사랑']\n",
    "\n",
    "# 확인\n",
    "member"
   ]
  },
  {
   "cell_type": "code",
   "execution_count": null,
   "metadata": {
    "id": "sZ3UvY_R_MBW"
   },
   "outputs": [],
   "source": [
    "# '박여인'과 '한사랑' 사이에 '한국인' 삽입\n",
    "member.\n",
    "\n",
    "# 확인\n",
    "member"
   ]
  },
  {
   "cell_type": "code",
   "execution_count": null,
   "metadata": {
    "id": "K_vAwRKD_K8J"
   },
   "outputs": [],
   "source": [
    "# 마지막 요소 '한사랑' 앞에 '강우동' 삽입\n",
    "member.\n",
    "\n",
    "# 확인\n",
    "member"
   ]
  },
  {
   "cell_type": "code",
   "execution_count": null,
   "metadata": {
    "id": "I1w_G176_J4g"
   },
   "outputs": [],
   "source": [
    "# 맨 앞 요소 '일지매' 앞에 '홍길동' 삽입\n",
    "member.insert(0, '홍길동')\n",
    "member"
   ]
  },
  {
   "cell_type": "markdown",
   "metadata": {
    "id": "IR_iL5FUYVsz"
   },
   "source": [
    "**5) remove(), pop(), clear() 메소드: 요소 삭제**"
   ]
  },
  {
   "cell_type": "code",
   "execution_count": null,
   "metadata": {
    "id": "uNxypQSz3tya"
   },
   "outputs": [],
   "source": [
    "# 리스트 만들기\n",
    "member = ['홍길동', '일지매', '박여인', '한사랑', '박여인', '강우동']\n",
    "\n",
    "# 확인\n",
    "member"
   ]
  },
  {
   "cell_type": "code",
   "execution_count": null,
   "metadata": {
    "id": "ivJ4f7De_TuS"
   },
   "outputs": [],
   "source": [
    "# 첫 번째 '박여인' 삭제\n",
    "member.remove('박여인')\n",
    "\n",
    "# 확인\n",
    "member"
   ]
  },
  {
   "cell_type": "code",
   "execution_count": null,
   "metadata": {
    "id": "S3FA5xcv_TAi"
   },
   "outputs": [],
   "source": [
    "# 3번째 요소 삭제\n",
    "del_member = member.pop(2)\n",
    "\n",
    "# 확인\n",
    "print(del_member)\n",
    "print(member)"
   ]
  },
  {
   "cell_type": "code",
   "execution_count": null,
   "metadata": {
    "id": "1AGDAbaG_SC1"
   },
   "outputs": [],
   "source": [
    "# 모든 요소 삭제\n",
    "member.clear()\n",
    "\n",
    "# 확인\n",
    "member"
   ]
  },
  {
   "cell_type": "markdown",
   "metadata": {},
   "source": [
    "### 괄호 주의보!\n",
    "<img src='https://raw.githubusercontent.com/jangrae/img/master/parenthesis.png' width=700 align=\"left\"/>"
   ]
  },
  {
   "cell_type": "markdown",
   "metadata": {
    "id": "sLM79gotJSPB"
   },
   "source": [
    "<img src='https://raw.githubusercontent.com/jangrae/img/master/practice_01.png' width=120 align=\"left\"/>"
   ]
  },
  {
   "cell_type": "markdown",
   "metadata": {
    "id": "fJVOJxdpJSPG"
   },
   "source": [
    "[문1] 아래 코드를 실행하기 전에 결과를 예측해 보고, 실행 후에 결과와 비교해 보세요."
   ]
  },
  {
   "cell_type": "code",
   "execution_count": null,
   "metadata": {
    "id": "U_zW4veIHao9"
   },
   "outputs": [],
   "source": [
    "# 리스트 만들기\n",
    "del_member = []\n",
    "member = ['홍길동', '일지매', '박여인', '한사랑', '박여인', '강우동']\n",
    "\n",
    "# 요소 삭제\n",
    "del_member.append(member.pop(0))\n",
    "del_member.append(member.pop(0))\n",
    "del_member.append(member.pop(0))\n",
    "\n",
    "# 확인\n",
    "print(del_member)\n",
    "print(member)"
   ]
  },
  {
   "cell_type": "markdown",
   "metadata": {
    "id": "62nC9rgLZgr2"
   },
   "source": [
    "**6) extend() 메소드: 리스트 연결**"
   ]
  },
  {
   "cell_type": "code",
   "execution_count": null,
   "metadata": {
    "id": "s1qNdsr85Gqd"
   },
   "outputs": [],
   "source": [
    "# 리스트 만들기\n",
    "score = [90, 80, 95, 70, 100]\n",
    "\n",
    "# 확인\n",
    "score"
   ]
  },
  {
   "cell_type": "code",
   "execution_count": null,
   "metadata": {
    "id": "LQPAyHoK_bSf"
   },
   "outputs": [],
   "source": [
    "# 리스트에 리스트 붙이기\n",
    "score.extend([65, 70, 100])\n",
    "\n",
    "# 확인\n",
    "score"
   ]
  },
  {
   "cell_type": "code",
   "execution_count": null,
   "metadata": {
    "id": "_e23FHOH_af5"
   },
   "outputs": [],
   "source": [
    "# 두 리스트 연결\n",
    "add_score = [80, 95, 75]\n",
    "score.extend(add_score)\n",
    "\n",
    "# 확인\n",
    "score"
   ]
  }
 ],
 "metadata": {
  "colab": {
   "provenance": [],
   "toc_visible": true
  },
  "kernelspec": {
   "display_name": "Python 3 (ipykernel)",
   "language": "python",
   "name": "python3"
  },
  "language_info": {
   "codemirror_mode": {
    "name": "ipython",
    "version": 3
   },
   "file_extension": ".py",
   "mimetype": "text/x-python",
   "name": "python",
   "nbconvert_exporter": "python",
   "pygments_lexer": "ipython3",
   "version": "3.9.13"
  }
 },
 "nbformat": 4,
 "nbformat_minor": 1
}
