{
 "cells": [
  {
   "cell_type": "markdown",
   "metadata": {
    "id": "se5EyHOgOEqo"
   },
   "source": [
    "# ⑦ control statements"
   ]
  },
  {
   "cell_type": "markdown",
   "metadata": {
    "id": "tjS-Gb1XOEqs"
   },
   "source": [
    "## 1. if 문"
   ]
  },
  {
   "cell_type": "markdown",
   "metadata": {
    "id": "CzIMBHAk8LXn"
   },
   "source": [
    "**1) 단순 if 문**\n",
    "\n",
    "- 조건이 참인 경우만 처리\n",
    "- 조건이 거짓인 경우는 아무고토 X"
   ]
  },
  {
   "cell_type": "code",
   "execution_count": 2,
   "metadata": {
    "id": "APEHdmqO8LXo"
   },
   "outputs": [
    {
     "data": {
      "text/plain": [
       "87994223165"
      ]
     },
     "execution_count": 2,
     "metadata": {},
     "output_type": "execute_result"
    }
   ],
   "source": [
    "# 변수 선언\n",
    "number = 87994123165\n",
    "\n",
    "# 80보다 크거나 같으면 100000 더하기 \n",
    "if number >= 80:\n",
    "    number = number +  100000\n",
    "\n",
    "# 결과 출력\n",
    "number"
   ]
  },
  {
   "cell_type": "code",
   "execution_count": 5,
   "metadata": {},
   "outputs": [
    {
     "data": {
      "text/plain": [
       "True"
      ]
     },
     "execution_count": 5,
     "metadata": {},
     "output_type": "execute_result"
    }
   ],
   "source": [
    "a = [1,2,3,4,5]\n",
    "bool(a)"
   ]
  },
  {
   "cell_type": "code",
   "execution_count": 8,
   "metadata": {
    "id": "m2NuEbGNWl_r"
   },
   "outputs": [
    {
     "name": "stdout",
     "output_type": "stream",
     "text": [
      "[71235, 83120, 41270, 41295, 41290]\n"
     ]
    }
   ],
   "source": [
    "no_list = [71235, 83120, 41270, 41295, 41290]\n",
    "\n",
    "# 리스트에 요소가 있으면 출력, 없으면 말고 \n",
    "if no_list:\n",
    "    print(no_list)"
   ]
  },
  {
   "cell_type": "markdown",
   "metadata": {
    "id": "X7mQYEaB8LXt"
   },
   "source": [
    "**2) if ~ else 문**\n",
    "\n",
    "- 조건이 참인 경우와 참이 아닌 경우 각각 처리합니다."
   ]
  },
  {
   "cell_type": "code",
   "execution_count": 10,
   "metadata": {
    "id": "JSjs-LF38LXv"
   },
   "outputs": [
    {
     "name": "stdout",
     "output_type": "stream",
     "text": [
      "P\n",
      "96\n"
     ]
    }
   ],
   "source": [
    "# 변수 선언\n",
    "my_num = 96\n",
    "\n",
    "# 80보다 크거나 같으면 Pass, 아니면 Fail \n",
    "\n",
    "if my_num >= 96:\n",
    "    print('P')\n",
    "else:\n",
    "    print('F')\n",
    "\n",
    "\n",
    "# 결과 출력    \n",
    "print(my_num)"
   ]
  },
  {
   "cell_type": "code",
   "execution_count": 11,
   "metadata": {
    "id": "TbCGWwvXXYAj"
   },
   "outputs": [
    {
     "name": "stdout",
     "output_type": "stream",
     "text": [
      "요소있\n",
      "[1, 2, 3, 4, 6]\n",
      "마무링\n"
     ]
    }
   ],
   "source": [
    "# 리스트 만들기\n",
    "num_list = [1, 2, 3, 4, 6]\n",
    "\n",
    "# 리스트에 요소가 있으면 출력, 없으면 '요소 없음' 출력 \n",
    "\n",
    "if num_list :\n",
    "    print('요소있')\n",
    "    print(num_list)\n",
    "else:\n",
    "    print('요소없')\n",
    "\n",
    "print('마무링')\n",
    "\n"
   ]
  },
  {
   "cell_type": "code",
   "execution_count": null,
   "metadata": {
    "id": "q8bbeB5mzKaP"
   },
   "outputs": [],
   "source": [
    "# 리스트 만들기\n",
    "score_list = [75, 80, 70, 95, 90]\n",
    "\n",
    "# 한 줄로 작성하기\n",
    "if score_list: print(score_list)\n",
    "else: print('요소 없음')"
   ]
  },
  {
   "cell_type": "code",
   "execution_count": 14,
   "metadata": {
    "id": "-SvkRqNRze8g"
   },
   "outputs": [],
   "source": [
    "\n",
    "number = [3, 84120, 41270, 6495, 64390]\n",
    "\n",
    "# 우선 pass \n",
    "if number:\n",
    "    pass\n",
    "else:\n",
    "    print('요소 X')"
   ]
  },
  {
   "cell_type": "markdown",
   "metadata": {
    "id": "LE8mIJEM8LXx"
   },
   "source": [
    "**3) if ~ elif ~ else 문**"
   ]
  },
  {
   "cell_type": "code",
   "execution_count": 17,
   "metadata": {
    "id": "EnDVVV1fOEqt"
   },
   "outputs": [
    {
     "data": {
      "text/plain": [
       "'B'"
      ]
     },
     "execution_count": 17,
     "metadata": {},
     "output_type": "execute_result"
    }
   ],
   "source": [
    "점수 = 80.1\n",
    "\n",
    "# 점수에 따른 학점 주기 \n",
    "if 점수 >= 90:\n",
    "    학점 = 'A'\n",
    "elif 점수 >= 80:\n",
    "    학점 = 'B'\n",
    "elif 점수 >= 70:\n",
    "    학점 = 'C'\n",
    "elif 점수 >= 60:\n",
    "    학점 = 'E'\n",
    "else:\n",
    "    학점 = 'F'\n",
    "\n",
    "# 결과 출력\n",
    "학점"
   ]
  },
  {
   "cell_type": "markdown",
   "metadata": {
    "id": "0Y3-soml0WBo"
   },
   "source": [
    "[문1] 다음 셀을 수행해 오늘 요일이 숫자로 표시됨을 확인하고, 다음 셀을 완성해 보세요."
   ]
  },
  {
   "cell_type": "code",
   "execution_count": 19,
   "metadata": {
    "id": "YWAJziB_Yufm"
   },
   "outputs": [
    {
     "data": {
      "text/plain": [
       "0"
      ]
     },
     "execution_count": 19,
     "metadata": {},
     "output_type": "execute_result"
    }
   ],
   "source": [
    "# 오늘의 요일 확인\n",
    "from datetime import datetime\n",
    "dt = datetime.now()\n",
    "week_num = dt.weekday()\n",
    "week_num"
   ]
  },
  {
   "cell_type": "code",
   "execution_count": 22,
   "metadata": {
    "id": "DuD-fpJnZ2qw"
   },
   "outputs": [
    {
     "name": "stdout",
     "output_type": "stream",
     "text": [
      "월\n"
     ]
    }
   ],
   "source": [
    "# 숫자로된 요일이 '월' ~ '일' 문자로 표시되게 조건문 작성\n",
    "if week_num == 0:\n",
    "    week_str = '월'\n",
    "elif wekek_num == 1:\n",
    "    week_str = '화'\n",
    "elif wekek_num == 2:\n",
    "    week_str = '수'\n",
    "elif wekek_num == 3:\n",
    "    week_str = '목'  \n",
    "elif wekek_num == 4:\n",
    "    week_str = '금'\n",
    "elif wekek_num == 5:\n",
    "    week_str = '토'\n",
    "else:\n",
    "    week_str = '일'\n",
    "print(week_str)\n",
    "\n",
    "#print는 문자의 인용구 없이 출력해줌!"
   ]
  },
  {
   "cell_type": "code",
   "execution_count": 23,
   "metadata": {
    "id": "bSrl3OEhbDdK"
   },
   "outputs": [
    {
     "name": "stdout",
     "output_type": "stream",
     "text": [
      "week_num= 0\n",
      "월\n"
     ]
    }
   ],
   "source": [
    "#리스트 활용\n",
    "요일 = ['월','화','수','목','금','토','일']\n",
    "print('week_num=', week_num)\n",
    "print(요일[week_num])\n"
   ]
  },
  {
   "cell_type": "code",
   "execution_count": 24,
   "metadata": {},
   "outputs": [
    {
     "name": "stdout",
     "output_type": "stream",
     "text": [
      "week_num= 월화수목금토일\n",
      "월\n"
     ]
    }
   ],
   "source": [
    "#문자열활용\n",
    "요일 = '월화수목금토일'\n",
    "print('week_num=',요일)\n",
    "print(요일[week_num])"
   ]
  },
  {
   "cell_type": "markdown",
   "metadata": {
    "id": "g83iJJ71V2IG"
   },
   "source": [
    "[문2] score 값에 따라 등급을 주는 다음의 조건문을 완성하세요.\n",
    "- 95점 이상 A+. 90점 이상 A, 85점 이상 B+, 80점 이상 B, 75점 이상 C+. 70점 이상 C, 60점 이상 D, 60점 미만 F"
   ]
  },
  {
   "cell_type": "code",
   "execution_count": 28,
   "metadata": {
    "id": "SHyUY-xwV2IJ",
    "scrolled": true
   },
   "outputs": [
    {
     "name": "stdout",
     "output_type": "stream",
     "text": [
      "C\n"
     ]
    }
   ],
   "source": [
    "# 변수 선언\n",
    "점수1 = 72\n",
    "점수2 = 90\n",
    "점수3 = 76\n",
    "\n",
    "점수 = 점수1\n",
    " \n",
    "# 조건 처리\n",
    "\n",
    "if 점수 >= 95:\n",
    "    학점 = 'A+'\n",
    "elif 점수 >= 90:\n",
    "    학점 = 'A'\n",
    "elif 점수 >= 85:\n",
    "    학점 = 'B+'\n",
    "elif 점수 >= 80:\n",
    "    학점 = 'B'\n",
    "elif 점수 >= 75:\n",
    "    학점 = 'C+'\n",
    "elif 점수 >= 70:\n",
    "    학점 = 'C'\n",
    "elif 점수 >= 60:\n",
    "    학점 = 'D'\n",
    "else:\n",
    "    학점 = 'F'\n",
    "\n",
    "   \n",
    "# 확인   \n",
    "print(학점)"
   ]
  },
  {
   "cell_type": "markdown",
   "metadata": {
    "id": "JLUfgErZV2IR"
   },
   "source": [
    "[문3] score1, score2, score3 점수에 대하여 다음 조건이 처리되도록 조건문을 완성하세요. \n",
    "- 하나라도 60점 이하거나 점수의 평균이 70점 이하이면 Fail\n",
    "- 그렇지 않은 경우에는 Pass"
   ]
  },
  {
   "cell_type": "code",
   "execution_count": 36,
   "metadata": {
    "id": "pFeXBJwvV2IS"
   },
   "outputs": [
    {
     "name": "stdout",
     "output_type": "stream",
     "text": [
      "Fail\n"
     ]
    }
   ],
   "source": [
    "# 변수 선\n",
    "점수1 = 60\n",
    "점수2 = 100\n",
    "점수3 = 76\n",
    "\n",
    "# 조건 처리\n",
    "\n",
    "if 점수1 <= 60:\n",
    "    결과 = 'Fail'\n",
    "elif 점수2 < 60:\n",
    "    결과 = 'Fail'\n",
    "elif 점수3 < 60:\n",
    "    결과 = 'Fail'\n",
    "elif sum(점수1 + 점수2 + 점수3) / 3 <= 70:\n",
    "    결과 = 'Fail'\n",
    "else:\n",
    "    결과 = '통과했다 우하하하하하하'\n",
    "print(결과)"
   ]
  },
  {
   "cell_type": "markdown",
   "metadata": {
    "id": "Nbl1p2FtV2IX"
   },
   "source": [
    "[문4] 위 코드를 if 한번과 else 한번으로 수정해보세요."
   ]
  },
  {
   "cell_type": "code",
   "execution_count": 40,
   "metadata": {
    "id": "o2CemrgTV2IY"
   },
   "outputs": [
    {
     "name": "stdout",
     "output_type": "stream",
     "text": [
      "Fail\n"
     ]
    }
   ],
   "source": [
    "# or --> 필터 |\n",
    "if (점수1 <= 60) | (점수2 <= 60) | (점수3 <= 60) | ((점수1 + 점수2 + 점수3) / 3 <= 70):\n",
    "    결과 = 'Fail'\n",
    "else:\n",
    "    결과 = \"통과했다\"\n",
    "    \n",
    "print(결과)\n"
   ]
  },
  {
   "cell_type": "markdown",
   "metadata": {
    "id": "e3hhmNnmOEqy"
   },
   "source": [
    "## 2. for 문\n",
    "\n",
    "- 첫번째 값부터 마지막 값까지 하나씩 가져가면서 처리\n",
    "- 반복할 횟수가 정해진 반복문."
   ]
  },
  {
   "cell_type": "code",
   "execution_count": 42,
   "metadata": {
    "id": "BKzS3z9GLAwt"
   },
   "outputs": [
    {
     "name": "stdout",
     "output_type": "stream",
     "text": [
      "P\n",
      "Y\n",
      "T\n",
      "H\n",
      "O\n",
      "N\n"
     ]
    }
   ],
   "source": [
    "# 문자열의 문자 줄력\n",
    "for i in 'PYTHON':\n",
    "    print(i)"
   ]
  },
  {
   "cell_type": "code",
   "execution_count": 55,
   "metadata": {
    "id": "vchoKfYnLLWe"
   },
   "outputs": [
    {
     "name": "stdout",
     "output_type": "stream",
     "text": [
      "[0]\n",
      "[0, 2]\n",
      "[0, 2, 4]\n",
      "=========================\n",
      "[0, 2, 4]\n"
     ]
    }
   ],
   "source": [
    "# 리스트 요소 출력\n",
    "result = []\n",
    "for i in [0, 1, 2, 3, 4]:\n",
    "    if i % 2 == 0:\n",
    "        result.append(i)\n",
    "        print(result) # 중간에 경과를 보고 싶을 때\n",
    "print('=========================')        \n",
    "print(result) # 마지막 결과만 보고 싶을 때"
   ]
  },
  {
   "cell_type": "code",
   "execution_count": 56,
   "metadata": {
    "id": "kXmdySBlOEqz"
   },
   "outputs": [
    {
     "name": "stdout",
     "output_type": "stream",
     "text": [
      "range(0, 5)\n",
      "[0, 1, 2, 3, 4]\n"
     ]
    }
   ],
   "source": [
    "# range() 함수 사용해 범위 지정\n",
    "print(range(5))\n",
    "print(list(range(5)))"
   ]
  },
  {
   "cell_type": "code",
   "execution_count": 59,
   "metadata": {
    "id": "6n3TJ6G1OEq3",
    "scrolled": true
   },
   "outputs": [
    {
     "name": "stdout",
     "output_type": "stream",
     "text": [
      "1\n",
      "2\n",
      "3\n",
      "4\n",
      "5\n"
     ]
    }
   ],
   "source": [
    "# 범위안의 값 출력\n",
    "for i in range(5):\n",
    "    print(i+1) "
   ]
  },
  {
   "cell_type": "code",
   "execution_count": 63,
   "metadata": {
    "id": "S0sUTEatOEq5"
   },
   "outputs": [
    {
     "name": "stdout",
     "output_type": "stream",
     "text": [
      "0 짝수만출력했어요 하하\n",
      "2 짝수만출력했어요 하하\n",
      "4 짝수만출력했어요 하하\n"
     ]
    }
   ],
   "source": [
    "# if 문과 같이 사용(짝수만 출력)\n",
    "for i in range(5):\n",
    "    if i % 2 == 0:\n",
    "        print(i,\"짝수만출력했어요 하하\")\n",
    "    "
   ]
  },
  {
   "cell_type": "code",
   "execution_count": 64,
   "metadata": {
    "id": "TiLh-1fiOEq6",
    "scrolled": true
   },
   "outputs": [
    {
     "name": "stdout",
     "output_type": "stream",
     "text": [
      "apple\n",
      "banana\n",
      "cherry\n"
     ]
    }
   ],
   "source": [
    "# 리스트 만들기\n",
    "fruits = ['apple', 'banana', 'cherry']\n",
    "\n",
    "# 리스트 요소 출력\n",
    "\n",
    "for i in fruits:\n",
    "    print(i)"
   ]
  },
  {
   "cell_type": "code",
   "execution_count": 69,
   "metadata": {
    "scrolled": true
   },
   "outputs": [
    {
     "name": "stdout",
     "output_type": "stream",
     "text": [
      "banana\n",
      "cherry\n"
     ]
    }
   ],
   "source": [
    "# 리스트 만들기\n",
    "fruits = ['apple', 'banana', 'cherry']\n",
    "\n",
    "# 리스트 요소 출력 6문자 이상인 경우만\n",
    "\n",
    "for i in fruits:\n",
    "    if len(i) >= 6:\n",
    "        print(i)"
   ]
  },
  {
   "cell_type": "code",
   "execution_count": 72,
   "metadata": {},
   "outputs": [
    {
     "name": "stdout",
     "output_type": "stream",
     "text": [
      "appl\n",
      "bana\n",
      "cher\n"
     ]
    }
   ],
   "source": [
    "# 리스트 만들기\n",
    "fruits = ['apple', 'banana', 'cherry']\n",
    "\n",
    "# 리스트 요소 4글자씩 출력 == 인덱싱히세용\n",
    "\n",
    "for i in fruits:\n",
    "    print(i[:4])"
   ]
  },
  {
   "cell_type": "markdown",
   "metadata": {
    "id": "acMLd1JF1RUs"
   },
   "source": [
    "[문1] 다음 셀을 코드를 수정해 1부터 10까지 짝수의 합을 구해 보세요."
   ]
  },
  {
   "cell_type": "code",
   "execution_count": 73,
   "metadata": {
    "id": "emUgSM5_cs4p"
   },
   "outputs": [
    {
     "name": "stdout",
     "output_type": "stream",
     "text": [
      "합 = 30\n"
     ]
    }
   ],
   "source": [
    "# 1부터 10까지 짝수의 합\n",
    "s = 0\n",
    "for i in range(1, 11):\n",
    "    if i % 2 == 0:\n",
    "        s = s + i\n",
    "print('합 =', s)"
   ]
  },
  {
   "cell_type": "markdown",
   "metadata": {
    "id": "DFoAvQYF0TFS"
   },
   "source": [
    "[문2] for문과 range를 사용하여 1 ~ 100까지의 합을 구하세요."
   ]
  },
  {
   "cell_type": "code",
   "execution_count": 75,
   "metadata": {
    "id": "xZx-vdlOOErR"
   },
   "outputs": [
    {
     "name": "stdout",
     "output_type": "stream",
     "text": [
      "합= 5050\n"
     ]
    }
   ],
   "source": [
    "# 1부터 100까지 합\n",
    "s = 0\n",
    "for i in range(1, 101):\n",
    "    s = s + i\n",
    "print('합=',s)\n"
   ]
  },
  {
   "cell_type": "markdown",
   "metadata": {
    "id": "BoYCOzV40TFW"
   },
   "source": [
    "[문3] for 문과 range를 사용하여 1 ~ 100까지 수 중 7의 배수를 출력하세요."
   ]
  },
  {
   "cell_type": "code",
   "execution_count": 81,
   "metadata": {
    "id": "9jfGFV2qOErV"
   },
   "outputs": [
    {
     "name": "stdout",
     "output_type": "stream",
     "text": [
      "[7, 14, 21, 28, 35, 42, 49, 56, 63, 70, 77, 84, 91, 98]\n"
     ]
    }
   ],
   "source": [
    "# 1부터 100까지 7의 배수\n",
    "\n",
    "배수 = []\n",
    "for i in range(1, 101):\n",
    "    if i % 7 ==0:\n",
    "        배수.append(i)\n",
    "print(배수)\n"
   ]
  },
  {
   "cell_type": "markdown",
   "metadata": {
    "id": "wffOnilaFQp3"
   },
   "source": [
    "## 3. 리스트와 for 문\n",
    "\n",
    "- 반복문과 가장 많이 사용되는 자료형이 리스트형입니다."
   ]
  },
  {
   "cell_type": "markdown",
   "metadata": {
    "id": "WG1v0qRoqve7"
   },
   "source": [
    "**1) 기본 반복문**\n",
    "\n",
    "- 첫 번째 요소부터 마지막 요소까지를 대상으로 코드를 반복 처리합니다."
   ]
  },
  {
   "cell_type": "code",
   "execution_count": 94,
   "metadata": {
    "id": "YYjio8viwv_j",
    "scrolled": true
   },
   "outputs": [
    {
     "name": "stdout",
     "output_type": "stream",
     "text": [
      "0 강태공\n",
      "1 사스케\n",
      "2 데이다리\n",
      "3 라이즈\n",
      "4 마오카이\n"
     ]
    }
   ],
   "source": [
    "member = ['강태공', '사스케', '데이다리', '라이즈', '마오카이']\n",
    "\n",
    "# 루프 돌면서 이름 출력\n",
    "\n",
    "for i, m in enumerate(member):\n",
    "    print(i, m)"
   ]
  },
  {
   "cell_type": "code",
   "execution_count": 93,
   "metadata": {},
   "outputs": [
    {
     "data": {
      "text/plain": [
       "[(0, '강태공'), (1, '사스케'), (2, '데이다리'), (3, '라이즈'), (4, '마오카이')]"
      ]
     },
     "execution_count": 93,
     "metadata": {},
     "output_type": "execute_result"
    }
   ],
   "source": [
    "member = ['강태공', '사스케', '데이다리', '라이즈', '마오카이']\n",
    "list(enumerate(member))"
   ]
  },
  {
   "cell_type": "markdown",
   "metadata": {
    "id": "bexLbYpvq8DX"
   },
   "source": [
    "**2) enumerate() 함수 사용**\n",
    "\n",
    "- 영어 단어 enumerate의 뜻은 '**낱낱이 세다**' 입니다.\n",
    "- 문자열이나 컨테이너 자료형을 입력받아, 순번과 요소를 포함하는 오브젝트로 반환합니다.\n",
    "- 순번과 요소를 반환하여 몇 번째, 어느 요소를 처리하고 있는지 확인 가능하게 합니다."
   ]
  },
  {
   "cell_type": "code",
   "execution_count": 99,
   "metadata": {
    "id": "5JJY1DNFFQp5"
   },
   "outputs": [
    {
     "name": "stdout",
     "output_type": "stream",
     "text": [
      "0: 강태공\n",
      "1: 사스케\n",
      "2: 데이다리\n",
      "3: 라이즈\n",
      "4: 마오카이\n"
     ]
    }
   ],
   "source": [
    "# '순번: 이름' 형태로 출력\n",
    "\n",
    "member = ['강태공', '사스케', '데이다리', '라이즈', '마오카이']\n",
    "\n",
    "for idx, mem in enumerate(member):\n",
    "    print(f'{idx}: {mem}')"
   ]
  },
  {
   "cell_type": "code",
   "execution_count": 100,
   "metadata": {
    "id": "Lq7hSCboYh2V"
   },
   "outputs": [
    {
     "name": "stdout",
     "output_type": "stream",
     "text": [
      "0: 강태공\n",
      "2: 데이다리\n",
      "4: 마오카이\n"
     ]
    }
   ],
   "source": [
    "# 순번이 짝수인 경우만 '순번: 이름' 형태로 출력\n",
    "\n",
    "member = ['강태공', '사스케', '데이다리', '라이즈', '마오카이']\n",
    "\n",
    "for idx, mem in enumerate(member):\n",
    "    if idx % 2 == 0:\n",
    "        print(f'{idx}: {mem}')\n"
   ]
  },
  {
   "cell_type": "code",
   "execution_count": 104,
   "metadata": {
    "id": "4A7hdz7hZbWB"
   },
   "outputs": [
    {
     "name": "stdout",
     "output_type": "stream",
     "text": [
      "0 아\n",
      "1 ~\n",
      "2 싸\n",
      "3 ~\n",
      "4 호\n",
      "5 랑\n",
      "6 나\n",
      "7 비\n",
      "8 !\n",
      "9 !\n",
      "10 !\n",
      "11  \n",
      "12 한\n",
      "13  \n",
      "14 마\n",
      "15 리\n",
      "16 가\n",
      "17  \n",
      "18 !\n",
      "19  \n",
      "20 꽃\n",
      "21 밭\n",
      "22 에\n",
      "23 !\n",
      "24 ?\n",
      "25  \n",
      "26 앉\n",
      "27 았\n",
      "28 는\n",
      "29 데\n",
      "30 !\n",
      "31  \n"
     ]
    }
   ],
   "source": [
    "# 문자열과 enumerate\n",
    "\n",
    "김흥국 = '아~싸~호랑나비!!! 한 마리가 ! 꽃밭에!? 앉았는데! '\n",
    "\n",
    "for i,x in enumerate(김흥국):\n",
    "    print(i,x)"
   ]
  },
  {
   "cell_type": "markdown",
   "metadata": {
    "id": "hyUVnMumrBp0"
   },
   "source": [
    "**3) 반복문 확장**\n",
    "\n",
    "- 이 방법을 사용하면 반복문 코드가 매우 간결해집니다.\n",
    "- 처음에는 다소 낯설 수 있으나, 이것이 **Python 스러운 문법**이라 할 수 있습니다."
   ]
  },
  {
   "cell_type": "code",
   "execution_count": 105,
   "metadata": {
    "id": "U6MvO1GJFQp8"
   },
   "outputs": [
    {
     "data": {
      "text/plain": [
       "[0, 1, 4, 9, 16]"
      ]
     },
     "execution_count": 105,
     "metadata": {},
     "output_type": "execute_result"
    }
   ],
   "source": [
    "# 리스트 만들기\n",
    "nums = [0, 1, 2, 3, 4]\n",
    "\n",
    "# 빈 리스트 만들기\n",
    "squares = []\n",
    "\n",
    "# 2를 곱한 결과를 squares 리스트에 추가\n",
    "for x in nums:\n",
    "    squares.append(x ** 2)\n",
    "\n",
    "# 확인\n",
    "squares"
   ]
  },
  {
   "cell_type": "code",
   "execution_count": 110,
   "metadata": {
    "id": "kx1zYlkSwv_r"
   },
   "outputs": [
    {
     "data": {
      "text/plain": [
       "[1806670729115185866253316368249177744,\n",
       " 587152566981395417285667387563213642933221675484283315785401344,\n",
       " 10441379259060702311004041410624209796,\n",
       " 10325503391527934762712112147716,\n",
       " 585800421376]"
      ]
     },
     "execution_count": 110,
     "metadata": {},
     "output_type": "execute_result"
    }
   ],
   "source": [
    "# 리스트 만들기\n",
    "nums = [1344124521432142412, 24231231231231223123121331321312, 53131231231243123213, 3231312312213213214,1132131232121323213243,3213332132153154,765376]\n",
    "\n",
    "# 반복문 확장 문법 #1\n",
    "squares = [x ** 2 for x in nums if x % 2 == 0]\n",
    "\n",
    "# 확인\n",
    "squares"
   ]
  },
  {
   "cell_type": "code",
   "execution_count": 112,
   "metadata": {
    "id": "d5Q1bc46FQqB",
    "scrolled": true
   },
   "outputs": [
    {
     "data": {
      "text/plain": [
       "[0, 4, 16]"
      ]
     },
     "execution_count": 112,
     "metadata": {},
     "output_type": "execute_result"
    }
   ],
   "source": [
    "# 리스트 만들기\n",
    "nums = [0, 1, 2, 3, 4]\n",
    "\n",
    "# 반복문 확장 문법 #2 \n",
    "# 반복문 + 조건문: 짝수인 값의 제곱을 구해서 even_squares 리스트에 넣기\n",
    "even_squares = [x ** 2 for x in nums if x % 2 == 0]\n",
    "\n",
    "# 확인\n",
    "even_squares"
   ]
  },
  {
   "cell_type": "markdown",
   "metadata": {
    "id": "sZrD-gQS4JjH"
   },
   "source": [
    "[문1] 다음 두 셀의 코드를 완성해 보세요."
   ]
  },
  {
   "cell_type": "code",
   "execution_count": 147,
   "metadata": {
    "id": "ORK_jugjDZKz"
   },
   "outputs": [
    {
     "name": "stdout",
     "output_type": "stream",
     "text": [
      "[10, 22, 30, 41, 56, 60, 71, 80, 90, 100]\n"
     ]
    }
   ],
   "source": [
    "# 리스트 만들기\n",
    "my_nums = [10, 22, 30, 41, 56, 60, 71, 80, 90]\n",
    "\n",
    "# 마지막에 100 추가\n",
    "\n",
    "my_nums.append(100)\n",
    "\n",
    "# 확인\n",
    "print(my_nums)"
   ]
  },
  {
   "cell_type": "code",
   "execution_count": 148,
   "metadata": {
    "id": "FrAoE8NWD1Tv"
   },
   "outputs": [
    {
     "name": "stdout",
     "output_type": "stream",
     "text": [
      "[]\n"
     ]
    }
   ],
   "source": [
    "# my_nums 리스트에서 10의 배수만을 뽑아 그 값을 10으로 나눈 정수값을 갖는 새로운 리스트 만들기\n",
    "new_nums = [x / 10 for x in my_nums if i % 10 == 0 ]\n",
    "\n",
    "# 확인\n",
    "print(new_nums)"
   ]
  },
  {
   "cell_type": "markdown",
   "metadata": {
    "id": "Lcrjm7Mq0TG-"
   },
   "source": [
    "[문2] score에서 음수를 제거한 리스트를 score01 변수에 담으세요."
   ]
  },
  {
   "cell_type": "code",
   "execution_count": 135,
   "metadata": {
    "id": "M459a3S8FQqG"
   },
   "outputs": [
    {
     "name": "stdout",
     "output_type": "stream",
     "text": [
      "[75, 46, 93, 130, 100, 75]\n"
     ]
    }
   ],
   "source": [
    "score = [75, 46, 93, -82, -77, 130, 100, 75, -10]\n",
    "\n",
    "score01 = [x for x in score if x >= 0 ]\n",
    "print(score01)"
   ]
  },
  {
   "cell_type": "markdown",
   "metadata": {
    "id": "UbGn2Zv40THA"
   },
   "source": [
    "[문3] score01에서 100보다 큰 수를 제외한 리스트를 score02 변수에 담으세요."
   ]
  },
  {
   "cell_type": "code",
   "execution_count": 124,
   "metadata": {
    "id": "ESh5ErCCFQqH"
   },
   "outputs": [
    {
     "data": {
      "text/plain": [
       "[75, 46, 93, 100, 75]"
      ]
     },
     "execution_count": 124,
     "metadata": {},
     "output_type": "execute_result"
    }
   ],
   "source": [
    "score02 = [ x for x in score01 if x<= 100]\n",
    "score02"
   ]
  },
  {
   "cell_type": "markdown",
   "metadata": {
    "id": "zVmMndi-0THB"
   },
   "source": [
    "[문4] score02 리스트의 요소들 합과 평균을 구하세요."
   ]
  },
  {
   "cell_type": "code",
   "execution_count": 125,
   "metadata": {
    "id": "UY31KHjTFQqJ"
   },
   "outputs": [],
   "source": [
    "tot = sum(score02)\n",
    "mean = tot / len(score02)\n"
   ]
  },
  {
   "cell_type": "markdown",
   "metadata": {
    "id": "QGjzYUgJ0THC"
   },
   "source": [
    "[문5] score02 리스트의 각 요소의 값을 10으로 나눈 값을 갖는 리스트 score03을 만드세요."
   ]
  },
  {
   "cell_type": "code",
   "execution_count": 129,
   "metadata": {
    "id": "3yei91wNFQqK"
   },
   "outputs": [
    {
     "data": {
      "text/plain": [
       "[7.5, 4.6, 9.3, 10.0, 7.5]"
      ]
     },
     "execution_count": 129,
     "metadata": {},
     "output_type": "execute_result"
    }
   ],
   "source": [
    "score03 = [x / 10 for x in score02]\n",
    "score03"
   ]
  },
  {
   "cell_type": "markdown",
   "metadata": {
    "id": "dZ9Oq4sEFQqY"
   },
   "source": [
    "## 4.딕셔너리와 for 문"
   ]
  },
  {
   "cell_type": "markdown",
   "metadata": {
    "id": "Dl5dL6lK8omW"
   },
   "source": [
    "**1) 기본 반복문**"
   ]
  },
  {
   "cell_type": "code",
   "execution_count": 130,
   "metadata": {
    "id": "E3_JhN6bFQqY",
    "scrolled": false
   },
   "outputs": [
    {
     "name": "stdout",
     "output_type": "stream",
     "text": [
      "홍길동: 85\n",
      "한사랑: 95\n",
      "일지매: 90\n"
     ]
    }
   ],
   "source": [
    "# 딕셔너리 만들기\n",
    "score = {'홍길동': 85, '한사랑': 95, '일지매': 90}\n",
    "\n",
    "# key와 value 조회\n",
    "for k in score:\n",
    "    v = score[k]\n",
    "    print(f'{k}: {v}')"
   ]
  },
  {
   "cell_type": "markdown",
   "metadata": {
    "id": "2UBWavOK8iql"
   },
   "source": [
    "**2) items() 메소드 사용**\n",
    "\n",
    "- 딕셔너리를 반복문에 사용할 때 key와 value를 반환해주는 items() 메소드를 많이 사용합니다."
   ]
  },
  {
   "cell_type": "code",
   "execution_count": 132,
   "metadata": {
    "id": "bDe2k3yAFQqc",
    "scrolled": false
   },
   "outputs": [
    {
     "name": "stdout",
     "output_type": "stream",
     "text": [
      "홍길동: 85\n",
      "한사랑: 95\n",
      "일지매: 90\n"
     ]
    }
   ],
   "source": [
    "# items() 메소드 사용\n",
    "score = {'홍길동': 85, '한사랑': 95, '일지매': 90}\n",
    "\n",
    "for k,v in score.items():\n",
    "    print(f'{k}: {v}')"
   ]
  },
  {
   "cell_type": "markdown",
   "metadata": {
    "id": "s4gvib7j5cBf"
   },
   "source": [
    "[문1] 학생 이름과 점수를 갖는 아래 딕셔너리에 대해 반복문을 작성해 다음과 같이 학생들 이름과 점수 합이 출력되게 해보세요.\n",
    "\n",
    "~~~\n",
    "홍길동: 350\n",
    "한사랑: 355\n",
    "일지매: 300\n",
    "~~~"
   ]
  },
  {
   "cell_type": "code",
   "execution_count": 134,
   "metadata": {
    "id": "xTYKUEleZIwK"
   },
   "outputs": [
    {
     "name": "stdout",
     "output_type": "stream",
     "text": [
      "홍길동: 350\n",
      "한사랑: 355\n",
      "일지매: 300\n"
     ]
    }
   ],
   "source": [
    "# 딕셔너리 만들기\n",
    "score = {'홍길동': [85, 80, 90, 95], \n",
    "         '한사랑': [95, 90, 80, 90], \n",
    "         '일지매': [90, 70, 60, 80]}\n",
    "         \n",
    "for k, v in score.items():\n",
    "    print(f'{k}:',sum(v))\n",
    "    "
   ]
  },
  {
   "cell_type": "markdown",
   "metadata": {
    "id": "i2PaUFOl8gFj"
   },
   "source": [
    "**3) 반복문 확장**\n",
    "\n",
    "- 앞에서 '리스트와 for 문'에서 다룬 내용과 동일하게 딕셔너리에 대해 사용할 수 있습니다."
   ]
  },
  {
   "cell_type": "code",
   "execution_count": 139,
   "metadata": {
    "id": "FCGTqU5xwwAQ"
   },
   "outputs": [
    {
     "data": {
      "text/plain": [
       "{'홍길동': 85, '한사랑': 95, '일지매': 90}"
      ]
     },
     "execution_count": 139,
     "metadata": {},
     "output_type": "execute_result"
    }
   ],
   "source": [
    "# 딕셔너리 만들기\n",
    "score = {'홍길동': 85, '한사랑': 95, '일지매': 90}\n",
    "\n",
    "# 확인\n",
    "score"
   ]
  },
  {
   "cell_type": "code",
   "execution_count": 143,
   "metadata": {
    "id": "WwqHf_Cp0Deh"
   },
   "outputs": [
    {
     "data": {
      "text/plain": [
       "{'한사랑': 95}"
      ]
     },
     "execution_count": 143,
     "metadata": {},
     "output_type": "execute_result"
    }
   ],
   "source": [
    "# 확장 문법 - 반복문 + 제어문\n",
    "score_over_90 = {k:v for k, v in score.items() if v > 90}\n",
    "\n",
    "# 확인\n",
    "score_over_90"
   ]
  },
  {
   "cell_type": "markdown",
   "metadata": {
    "id": "lviIx71fdEfN"
   },
   "source": [
    "- 다음과 같은 코드로 같은 결과를 얻을 수 있습니다."
   ]
  },
  {
   "cell_type": "code",
   "execution_count": 151,
   "metadata": {
    "id": "gUvHL1nrclE8"
   },
   "outputs": [
    {
     "name": "stdout",
     "output_type": "stream",
     "text": [
      "{'한사랑': 95}\n"
     ]
    }
   ],
   "source": [
    "# items() 메소드 사용 안하면\n",
    "score_over_90 = {k: score[k] for k in score if score[k] > 90}\n",
    "\n",
    "# 확인\n",
    "print(score_over_90) "
   ]
  },
  {
   "cell_type": "markdown",
   "metadata": {
    "id": "xaLRbr9qFQqr"
   },
   "source": [
    "## 5.집합과 for 문\n",
    "\n",
    "- 리스트와 같은 방법으로 사용합니다."
   ]
  },
  {
   "cell_type": "markdown",
   "metadata": {
    "id": "5_JFZYHe3KAx"
   },
   "source": [
    "**1) 기본 반복문**\n",
    "\n",
    "- 리스트와 같은 방법으로 반복문에 사용합니다."
   ]
  },
  {
   "cell_type": "code",
   "execution_count": 149,
   "metadata": {
    "id": "nz8eOJ60257z"
   },
   "outputs": [
    {
     "name": "stdout",
     "output_type": "stream",
     "text": [
      "일지매\n",
      "한사랑\n",
      "박여인\n",
      "홍길동\n"
     ]
    }
   ],
   "source": [
    "# 리스트와 같음\n",
    "member_set = {'홍길동',  '한사랑', '일지매', '박여인'}\n",
    "for mem in member_set:\n",
    "    print(mem)"
   ]
  },
  {
   "cell_type": "markdown",
   "metadata": {
    "id": "1BnG0sxx3Opp"
   },
   "source": [
    "**2) enumerate() 함수 사용**"
   ]
  },
  {
   "cell_type": "code",
   "execution_count": 150,
   "metadata": {
    "id": "nOm3LULPFQqr"
   },
   "outputs": [
    {
     "name": "stdout",
     "output_type": "stream",
     "text": [
      "1: 일지매\n",
      "2: 한사랑\n",
      "3: 박여인\n",
      "4: 홍길동\n"
     ]
    }
   ],
   "source": [
    "# enumerate() 함수 사용\n",
    "member_set = {'홍길동',  '한사랑', '일지매', '박여인'}\n",
    "for idx, mem in enumerate(member_set):\n",
    "    print('{}: {}'.format(idx + 1, mem))"
   ]
  },
  {
   "cell_type": "markdown",
   "metadata": {
    "id": "F8SwSlC-OErJ"
   },
   "source": [
    "## 6. while 문\n",
    "\n",
    "- 조건문이 True인 동안 while문 안의 문장이 반복해서 실행됩니다.\n",
    "- 특정 상황에서 반복을 중지하게 while 문 안에서 조건을 제어합니다."
   ]
  },
  {
   "cell_type": "markdown",
   "metadata": {
    "id": "qp0A9SidnDFs"
   },
   "source": [
    "**1) 일반 while 문**\n",
    "\n",
    "- 문자열 길이를 반환하는 len() 함수가 리스트의 요소 개수를 반환합니다."
   ]
  },
  {
   "cell_type": "code",
   "execution_count": 153,
   "metadata": {
    "id": "TBCoJ1WEOErK"
   },
   "outputs": [
    {
     "name": "stdout",
     "output_type": "stream",
     "text": [
      "apple\n",
      "banana\n",
      "cherry\n"
     ]
    }
   ],
   "source": [
    "# 리스트 만들기\n",
    "fruits = ['apple', 'banana', 'cherry']\n",
    "\n",
    "# 요수 출력\n",
    "i = 0\n",
    "while i<3:\n",
    "    print(fruits[i])\n",
    "    i = i + 1"
   ]
  },
  {
   "cell_type": "markdown",
   "metadata": {
    "id": "6iwLCvmynIWk"
   },
   "source": [
    "**2) 무한루프 다루기**\n",
    "\n",
    "- break 문: 반복문 안에서 특정 조건이 되어 반복문을 빠져 나올 때 사용합니다.\n",
    "- continue 문: 반복문을 중단시키지 않고 다음 반복으로 넘어갈 때 사용합니다."
   ]
  },
  {
   "cell_type": "code",
   "execution_count": 163,
   "metadata": {
    "id": "DY2nPFvC8LYM",
    "scrolled": true
   },
   "outputs": [
    {
     "name": "stdout",
     "output_type": "stream",
     "text": [
      "2550\n"
     ]
    }
   ],
   "source": [
    "# 변수 선언\n",
    "tot, i = 0, 0\n",
    "\n",
    "# 100까지 짝수 합 구하기\n",
    "\n",
    "while True: #wihle true = 무한루프임...\n",
    "    i = i + 1\n",
    "    if i > 100:\n",
    "        break\n",
    "    elif i % 2 == 0:\n",
    "        tot = tot + i\n",
    "    else : \n",
    "        continue #다시 while문으로 가는거,, 밑에 구문이 없다면 의미없음.\n",
    "    # print('i=',i,'번', tot)\n",
    "\n",
    "print(tot)"
   ]
  },
  {
   "cell_type": "markdown",
   "metadata": {
    "id": "29jlKr_D1Usp"
   },
   "source": [
    "[문1] 다음 셀의 코드는 위 셀의 코드와 같습니다. 내용 중에서 굳이 필요 없는 두 줄이 있습니다. 찾아서 제거해 보세요."
   ]
  },
  {
   "cell_type": "code",
   "execution_count": null,
   "metadata": {
    "id": "q7fcRT1u-eVu"
   },
   "outputs": [],
   "source": [
    "# 변수 선언\n",
    "tot, i = 0, 0\n",
    "\n",
    "#  100까지 짝수 합 구하기\n",
    "while True:\n",
    "    i += 1\n",
    "    if i > 100:\n",
    "        break\n",
    "        \n",
    "    if i % 2 == 0:\n",
    "        tot += i\n",
    "    else: #필요없음\n",
    "        continue #필요옶음\n",
    "\n",
    "# 확인\n",
    "tot"
   ]
  },
  {
   "cell_type": "markdown",
   "metadata": {
    "id": "VksHmafRe7VO"
   },
   "source": [
    "- input() 함수를 사용해 사용자의 입력을 받을 수 있습니다.\n",
    "- isnumeric() 메소드: 숫자이면 True 아니면 False 반환합니다."
   ]
  },
  {
   "cell_type": "code",
   "execution_count": null,
   "metadata": {},
   "outputs": [],
   "source": [
    "a = input('뭐드릴까예?')\n",
    "print(a)"
   ]
  },
  {
   "cell_type": "code",
   "execution_count": null,
   "metadata": {},
   "outputs": [],
   "source": [
    "# 문자를 입력하면 continue, 0을 입력하면 break, 아니면 10으로 나눈 나머지 표시\n",
    "while True:\n",
    "    response = input('숫자를 입력하세요(0 = 종료):')\n",
    "    if not response.isnumeric():\n",
    "        continue\n",
    "    if int(response) == 0:\n",
    "        break\n",
    "    result = int(response) % 10\n",
    "    print(\"{} 나누기 10의 나머지는 {}입니다.\".format(response, result))"
   ]
  },
  {
   "cell_type": "code",
   "execution_count": 2,
   "metadata": {},
   "outputs": [
    {
     "name": "stdout",
     "output_type": "stream",
     "text": [
      "숫자를 입력하세요(0 = 종료):1\n",
      "숫자를 입력하세요(0 = 종료):2\n",
      "숫자를 입력하세요(0 = 종료):3\n",
      "숫자를 입력하세요(0 = 종료):4\n",
      "숫자를 입력하세요(0 = 종료):5\n",
      "숫자를 입력하세요(0 = 종료):6\n",
      "숫자를 입력하세요(0 = 종료):7\n",
      "숫자를 입력하세요(0 = 종료):8\n",
      "숫자를 입력하세요(0 = 종료):9\n",
      "숫자를 입력하세요(0 = 종료):0\n",
      "0\n"
     ]
    }
   ],
   "source": [
    "no = [] \n",
    "\n",
    "while True:\n",
    "    x = input('숫자를 입력하세요(0 = 종료):')\n",
    "    if not x.isnumeric():\n",
    "        continue\n",
    "    if int(x) == 0:\n",
    "        break\n",
    "    no.append(int(x))\n",
    "    \n",
    "print(x)"
   ]
  }
 ],
 "metadata": {
  "colab": {
   "collapsed_sections": [],
   "name": "07 - 제어문.ipynb",
   "provenance": [],
   "toc_visible": true
  },
  "kernelspec": {
   "display_name": "Python 3 (ipykernel)",
   "language": "python",
   "name": "python3"
  },
  "language_info": {
   "codemirror_mode": {
    "name": "ipython",
    "version": 3
   },
   "file_extension": ".py",
   "mimetype": "text/x-python",
   "name": "python",
   "nbconvert_exporter": "python",
   "pygments_lexer": "ipython3",
   "version": "3.9.13"
  }
 },
 "nbformat": 4,
 "nbformat_minor": 1
}
