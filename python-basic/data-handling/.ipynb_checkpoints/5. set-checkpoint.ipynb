{
 "cells": [
  {
   "cell_type": "markdown",
   "metadata": {
    "id": "870ceL41wwAg"
   },
   "source": [
    "# ⑤ set data type\n",
    "\n",
    "- **집합 연산**(교집합, 합집합, 차집합, 대칭 차집합)을 위한 자료형\n",
    "- 중복값은 의미가 없다, 따라서 중복된 원소는 하나만 표현\n",
    "- 또한 **순서에 의미가 없으므로 인덱싱 조회 불가.**"
   ]
  },
  {
   "cell_type": "markdown",
   "metadata": {
    "id": "msXpShKOM2MS"
   },
   "source": [
    "## 1. 집합 만들기"
   ]
  },
  {
   "cell_type": "markdown",
   "metadata": {
    "id": "nBM4Mwrg8Lbt"
   },
   "source": [
    "### 1) 직접 만들기"
   ]
  },
  {
   "cell_type": "markdown",
   "metadata": {
    "id": "oElGw1pJ9rb6"
   },
   "source": [
    "**1) 정수 집합**"
   ]
  },
  {
   "cell_type": "code",
   "execution_count": 1,
   "metadata": {
    "id": "N8OQc7h7NumI"
   },
   "outputs": [
    {
     "data": {
      "text/plain": [
       "{1, 2, 3, 4, 5}"
      ]
     },
     "execution_count": 1,
     "metadata": {},
     "output_type": "execute_result"
    }
   ],
   "source": [
    "# 정수를 갖는 집합\n",
    "# 중복값은 의미가 없다!!! \n",
    "# 또한 집합 내의 순서도 상관이 없다\n",
    "# 리스트에서 중복값을 제거하려면 집합으로 바꾸고 다시 리스트로 한다.\n",
    "\n",
    "s = { 1,2,3,4,5,5,5,5,5,5,5,5,}\n",
    "\n",
    "s"
   ]
  },
  {
   "cell_type": "markdown",
   "metadata": {
    "id": "SgJUXHIE9uYr"
   },
   "source": [
    "**2) 문자 집합**"
   ]
  },
  {
   "cell_type": "code",
   "execution_count": 7,
   "metadata": {
    "id": "D700KV_y9oKC"
   },
   "outputs": [
    {
     "data": {
      "text/plain": [
       "{'강태공', '사스케', '조로'}"
      ]
     },
     "execution_count": 7,
     "metadata": {},
     "output_type": "execute_result"
    }
   ],
   "source": [
    "# 문자열을 갖는 집합\n",
    "cs = {'강태공','조로','사스케'}\n",
    "cs"
   ]
  },
  {
   "cell_type": "markdown",
   "metadata": {
    "id": "MOKmhWM79xvp"
   },
   "source": [
    "**3) 여러 자료형 집합**"
   ]
  },
  {
   "cell_type": "code",
   "execution_count": 10,
   "metadata": {
    "id": "YBPQ5sQ19o4J"
   },
   "outputs": [
    {
     "data": {
      "text/plain": [
       "{(1, 2, 3), 11, '강병수'}"
      ]
     },
     "execution_count": 10,
     "metadata": {},
     "output_type": "execute_result"
    }
   ],
   "source": [
    "# 여러 자료형을 갖는 집합\n",
    "etc = { (1,2,3),'강병수',11}\n",
    "\n",
    "# 확인\n",
    "etc"
   ]
  },
  {
   "cell_type": "markdown",
   "metadata": {
    "id": "SwxR75ou8Lbu"
   },
   "source": [
    "### 3) 집합으로 자료형 변환\n",
    "\n",
    "- **set()** 함수로 다른 자료형을 집합으로 변환\n",
    "- 순서는 무작위!"
   ]
  },
  {
   "cell_type": "markdown",
   "metadata": {
    "id": "roQTGV3Y-GDO"
   },
   "source": [
    "**1) 문자열 → 집합**\n",
    "\n",
    "- list(), tuple() 함수로 문자열을 리스트나 튜플로 변환...리멤버\n",
    "- set() 함수로 개별 문자 요소의 집합 생성 가능!"
   ]
  },
  {
   "cell_type": "code",
   "execution_count": 3,
   "metadata": {
    "id": "wfJ7a64Qt_MJ",
    "scrolled": true
   },
   "outputs": [
    {
     "data": {
      "text/plain": [
       "{'가', '고', '또', '리', '마', '미', '셍', '스', '아', '이', '자'}"
      ]
     },
     "execution_count": 3,
     "metadata": {},
     "output_type": "execute_result"
    }
   ],
   "source": [
    "# 문자열로 집합 만들기\n",
    "니뽄 = set('스미마셍아리가또고자이마스') \n",
    "\n",
    "니뽄\n",
    "\n",
    "# 스 가 중복이 되어 사라짐"
   ]
  },
  {
   "cell_type": "markdown",
   "metadata": {
    "id": "3gKzYiio-NuQ"
   },
   "source": [
    "**2) range() → 집합**\n",
    "\n",
    "- range() 함수로 리스트, 튜플, 집합등 다양한 자료형을 만들 수 있습니다."
   ]
  },
  {
   "cell_type": "code",
   "execution_count": 5,
   "metadata": {
    "id": "fZiiATtI97Np"
   },
   "outputs": [
    {
     "data": {
      "text/plain": [
       "{0, 42, 84, 126, 168, 210}"
      ]
     },
     "execution_count": 5,
     "metadata": {},
     "output_type": "execute_result"
    }
   ],
   "source": [
    "# range로 집합 만들기\n",
    "전자range = set(range(0, 214,42))\n",
    "\n",
    "# 확인\n",
    "전자range"
   ]
  },
  {
   "cell_type": "markdown",
   "metadata": {
    "id": "-oiU61IQ-S_n"
   },
   "source": [
    "**3) 리스트 → 집합**\n",
    "\n",
    "- 리스트에서 집합 변환 시 중복된 요소는 제거"
   ]
  },
  {
   "cell_type": "code",
   "execution_count": 8,
   "metadata": {
    "id": "SXcfUfR398At"
   },
   "outputs": [
    {
     "data": {
      "text/plain": [
       "{'나루토', '사스케', '사이', '사쿠라', '카카시'}"
      ]
     },
     "execution_count": 8,
     "metadata": {},
     "output_type": "execute_result"
    }
   ],
   "source": [
    "# 리스트 만들기\n",
    "people = ['사스케', '나루토', '카카시', '사쿠라', '사이']\n",
    "\n",
    "# 집합 만들기\n",
    "people1 = set(people)\n",
    "\n",
    "# 확인\n",
    "people1"
   ]
  },
  {
   "cell_type": "markdown",
   "metadata": {
    "id": "7h8XasmD-WQH"
   },
   "source": [
    "**4) 튜풀 → 집합**\n",
    "\n",
    "- 역시 중복된 요소는 제거됩니다."
   ]
  },
  {
   "cell_type": "code",
   "execution_count": 9,
   "metadata": {
    "id": "MeSvUDMn-Aoc"
   },
   "outputs": [
    {
     "data": {
      "text/plain": [
       "{'나루토', '사스케', '사이', '사쿠라', '카카시'}"
      ]
     },
     "execution_count": 9,
     "metadata": {},
     "output_type": "execute_result"
    }
   ],
   "source": [
    "# 튜플 만들기\n",
    "member = ('사스케', '나루토', '카카시', '사쿠라', '사이')\n",
    "\n",
    "# 집합 만들기\n",
    "member2 = set(member)\n",
    "\n",
    "# 확인\n",
    "member2"
   ]
  },
  {
   "cell_type": "markdown",
   "metadata": {
    "id": "ktgA-FQE-Z1X"
   },
   "source": [
    "### 4) 집합 정보 확인\n",
    "\n",
    "- **len()**  = 원소 개수 확인\n",
    "- **in** = 집합 요소 확인"
   ]
  },
  {
   "cell_type": "markdown",
   "metadata": {
    "id": "HjmvxolzgB-x"
   },
   "source": [
    "**1) 원소 개수 확인**"
   ]
  },
  {
   "cell_type": "code",
   "execution_count": 11,
   "metadata": {
    "id": "ICBRZdZV-BN8"
   },
   "outputs": [
    {
     "name": "stdout",
     "output_type": "stream",
     "text": [
      "5 3\n"
     ]
    }
   ],
   "source": [
    "# 집합 만들기\n",
    "member1 = {'사스케', '나루토', '카카시', '사쿠라', '사이'}\n",
    "member2 = {'오비토', '페인', '데이다라'}\n",
    "\n",
    "# 확인\n",
    "print(len(member1), len(member2))"
   ]
  },
  {
   "cell_type": "markdown",
   "metadata": {
    "id": "M9KorSg5gGJy"
   },
   "source": [
    "**2) 원소 포함 여부 확인**"
   ]
  },
  {
   "cell_type": "code",
   "execution_count": 14,
   "metadata": {
    "id": "p88ckb5j-BxN"
   },
   "outputs": [
    {
     "name": "stdout",
     "output_type": "stream",
     "text": [
      "True\n",
      "True\n"
     ]
    }
   ],
   "source": [
    "# 집합 만들기\n",
    "member1 = {'사스케', '나루토', '카카시', '사쿠라', '사이'}\n",
    "member2 = {'오비토', '페인', '데이다라'}\n",
    "\n",
    "# 확인\n",
    "print('사스케' in member1)\n",
    "print('' not in member2)"
   ]
  },
  {
   "cell_type": "markdown",
   "metadata": {
    "id": "6dp6VcPG8Lbx"
   },
   "source": [
    "### 5) 집합 활용 #1\n",
    "\n",
    "- **list()** 튜플 or 집합 -> 리스트\n",
    "- **tuple()** 리스트 or 집합 -> 튜플\n",
    "- **set()** 리스트 or 튜플을  -> 집합\n"
   ]
  },
  {
   "cell_type": "markdown",
   "metadata": {
    "id": "kdFhYCenkmmX"
   },
   "source": [
    "**1) 리스트 중복 요소 제거**\n",
    "\n",
    "- 집합은 중복된 요소가 없음.\n",
    "- 이를 이용해 리스트에서 중복된 요소 제거 가능"
   ]
  },
  {
   "cell_type": "code",
   "execution_count": 19,
   "metadata": {
    "id": "Krn1nFDsu0Xz"
   },
   "outputs": [
    {
     "data": {
      "text/plain": [
       "[35, 36, 12, 45, 21, 23, 28, 63]"
      ]
     },
     "execution_count": 19,
     "metadata": {},
     "output_type": "execute_result"
    }
   ],
   "source": [
    "# 리스트 만들기 \n",
    "nums = [12, 45, 23, 21, 36, 28, 12, 36, 35, 28, 45, 63, 12, 21]\n",
    "\n",
    "# 리스트 --> 집합 변환\n",
    "nums = set(nums)\n",
    "\n",
    "# 집합 --> 리스트 변환\n",
    "nums = list(nums)\n",
    "\n",
    "#확인\n",
    "nums\n",
    "\n",
    "#순서는 무의미하다."
   ]
  },
  {
   "cell_type": "markdown",
   "metadata": {
    "id": "Giz3womx6jlj"
   },
   "source": [
    "**2) 튜플 중복 요소 제거**\n",
    "\n",
    "- 튜플도 마찬가지임."
   ]
  },
  {
   "cell_type": "code",
   "execution_count": 13,
   "metadata": {
    "id": "-UKjD2tu6jlm"
   },
   "outputs": [
    {
     "data": {
      "text/plain": [
       "(35, 36, 12, 45, 21, 23, 28, 63)"
      ]
     },
     "execution_count": 13,
     "metadata": {},
     "output_type": "execute_result"
    }
   ],
   "source": [
    "# 튜플 만들기 \n",
    "nums = (12, 45, 23, 21, 36, 28, 12, 36, 35, 28, 45, 63, 12, 21)\n",
    "\n",
    "# 튜플 --> 집합 --> 튜플 변환\n",
    "nums = tuple(set(nums))\n",
    "#확인\n",
    "nums"
   ]
  },
  {
   "cell_type": "markdown",
   "metadata": {
    "id": "PQFMYJ2wvWb-"
   },
   "source": [
    "## 2.집합 연산"
   ]
  },
  {
   "cell_type": "markdown",
   "metadata": {
    "id": "G8umU5gsGJ0w"
   },
   "source": [
    "### 5.2.1.교집합, 합집합, 차집합\n",
    "\n",
    "- 집합 자료형을 사용하는 목적..."
   ]
  },
  {
   "cell_type": "markdown",
   "metadata": {
    "id": "1w8zZqVsidwf"
   },
   "source": [
    "**1) 합집합**\n",
    "\n",
    "- 합집합은 **|** 또는 **union()** 메소드"
   ]
  },
  {
   "cell_type": "code",
   "execution_count": 22,
   "metadata": {
    "id": "-2QTf6UIwMwW"
   },
   "outputs": [
    {
     "data": {
      "text/plain": [
       "{'강우동', '박여인', '일지매', '한사랑', '홍길동', '홍길민'}"
      ]
     },
     "execution_count": 22,
     "metadata": {},
     "output_type": "execute_result"
    }
   ],
   "source": [
    "# 집합 만들기\n",
    "member_set1 = {'홍길동', '한사랑', '일지매', '박여인'}\n",
    "member_set2 = {'한사랑', '홍길민', '강우동'}\n",
    "\n",
    "# 합집합 구하기 #1\n",
    "member_set3 = member_set1 | member_set2\n",
    "\n",
    "# 확인\n",
    "member_set3"
   ]
  },
  {
   "cell_type": "code",
   "execution_count": 23,
   "metadata": {
    "id": "6qC3gRAbwPN0"
   },
   "outputs": [
    {
     "data": {
      "text/plain": [
       "{'강우동', '박여인', '일지매', '한사랑', '홍길동', '홍길민'}"
      ]
     },
     "execution_count": 23,
     "metadata": {},
     "output_type": "execute_result"
    }
   ],
   "source": [
    "# 합집합 구하기 #2\n",
    "member_set3 = member_set1.union(member_set2)\n",
    "\n",
    "# 확인\n",
    "member_set3"
   ]
  },
  {
   "cell_type": "markdown",
   "metadata": {
    "id": "D_T_IjBsibVS"
   },
   "source": [
    "**2) 교집합**\n",
    "\n",
    "- 교집합은 **&** 또는 **intersection()** 메소드"
   ]
  },
  {
   "cell_type": "code",
   "execution_count": 24,
   "metadata": {
    "id": "-wzQ3GWkvZ-a"
   },
   "outputs": [
    {
     "data": {
      "text/plain": [
       "{'한사랑'}"
      ]
     },
     "execution_count": 24,
     "metadata": {},
     "output_type": "execute_result"
    }
   ],
   "source": [
    "# 집합 만들기\n",
    "member_set1 = {'홍길동', '한사랑', '일지매', '박여인'}\n",
    "member_set2 = {'한사랑', '홍길민', '강우동'}\n",
    "\n",
    "# 교집합 구하기 #1\n",
    "member_set3 = member_set1&member_set2\n",
    "\n",
    "# 확인\n",
    "member_set3"
   ]
  },
  {
   "cell_type": "code",
   "execution_count": 25,
   "metadata": {
    "id": "hzzfisUsvzgx"
   },
   "outputs": [
    {
     "data": {
      "text/plain": [
       "{'한사랑'}"
      ]
     },
     "execution_count": 25,
     "metadata": {},
     "output_type": "execute_result"
    }
   ],
   "source": [
    "# 교집합 구하기 #2\n",
    "member_set3 = member_set1.intersection(member_set2)\n",
    "\n",
    "# 확인\n",
    "member_set3"
   ]
  },
  {
   "cell_type": "markdown",
   "metadata": {
    "id": "rDXa8FaviZJK"
   },
   "source": [
    "**3) 차집합**\n",
    "\n",
    "- 차집합은 **-** 또는 **difference()** 메소드"
   ]
  },
  {
   "cell_type": "code",
   "execution_count": 15,
   "metadata": {
    "id": "v8-ydZbnwmbf"
   },
   "outputs": [
    {
     "data": {
      "text/plain": [
       "{'박여인', '일지매', '홍길동'}"
      ]
     },
     "execution_count": 15,
     "metadata": {},
     "output_type": "execute_result"
    }
   ],
   "source": [
    "# 집합 만들기\n",
    "member_set1 = {'홍길동', '한사랑', '일지매', '박여인'}\n",
    "member_set2 = {'한사랑', '홍길민', '강우동'}\n",
    "\n",
    "# 차집합 구하기 #1\n",
    "member_set3 = member_set1 - member_set2\n",
    "\n",
    "# 확인\n",
    "member_set3"
   ]
  },
  {
   "cell_type": "code",
   "execution_count": 16,
   "metadata": {
    "id": "yqqOjzlcwpF5"
   },
   "outputs": [
    {
     "data": {
      "text/plain": [
       "{'박여인', '일지매', '홍길동'}"
      ]
     },
     "execution_count": 16,
     "metadata": {},
     "output_type": "execute_result"
    }
   ],
   "source": [
    "# 차집합 구하기 #2\n",
    "member_set3 = member_set1.difference(member_set2)\n",
    "\n",
    "# 확인\n",
    "member_set3"
   ]
  },
  {
   "cell_type": "markdown",
   "metadata": {
    "id": "juahzTtJiU-1"
   },
   "source": [
    "**4) 대칭 차집합**\n",
    "\n",
    "- **^** 또는 **symmetric_difference()** "
   ]
  },
  {
   "cell_type": "code",
   "execution_count": 27,
   "metadata": {
    "id": "Dpov7V4PETqj"
   },
   "outputs": [
    {
     "data": {
      "text/plain": [
       "{'강우동', '박여인', '일지매', '홍길동', '홍길민'}"
      ]
     },
     "execution_count": 27,
     "metadata": {},
     "output_type": "execute_result"
    }
   ],
   "source": [
    "# 집합 만들기\n",
    "member_set1 = {'홍길동',  '한사랑', '일지매', '박여인'}\n",
    "member_set2 = {'한사랑', '홍길민', '강우동'}\n",
    "\n",
    "# 대칭 차집합 구하기 #1\n",
    "member_set3 = member_set1 ^ member_set2\n",
    "\n",
    "# 확인\n",
    "member_set3"
   ]
  },
  {
   "cell_type": "code",
   "execution_count": 28,
   "metadata": {
    "id": "G9roahuPEacM"
   },
   "outputs": [
    {
     "data": {
      "text/plain": [
       "{'강우동', '박여인', '일지매', '홍길동', '홍길민'}"
      ]
     },
     "execution_count": 28,
     "metadata": {},
     "output_type": "execute_result"
    }
   ],
   "source": [
    "# 대칭 차집합 구하기 #2\n",
    "member_set3 = member_set1.symmetric_difference(member_set2)\n",
    "\n",
    "# 확인\n",
    "member_set3"
   ]
  },
  {
   "cell_type": "markdown",
   "metadata": {
    "id": "cWzlkTYMGEZP"
   },
   "source": [
    "### 5.2.2.집합 활용\n"
   ]
  },
  {
   "cell_type": "markdown",
   "metadata": {
    "id": "hKhLVTNiGEZa"
   },
   "source": [
    "**1) 리스트 중복 확인**\n",
    "\n",
    "- 우선 **교집합**을 활용해 두 리스트 사이의 중복된 요소를 확인한다."
   ]
  },
  {
   "cell_type": "markdown",
   "metadata": {},
   "source": [
    "# 중요!!!"
   ]
  },
  {
   "cell_type": "code",
   "execution_count": 32,
   "metadata": {
    "id": "Kp6yK74UGEZc"
   },
   "outputs": [
    {
     "data": {
      "text/plain": [
       "[32, 36, 12]"
      ]
     },
     "execution_count": 32,
     "metadata": {},
     "output_type": "execute_result"
    }
   ],
   "source": [
    "# 리스트 만들기 \n",
    "nums1 = [12, 23, 32, 36, 41, 48]\n",
    "nums2 = [12, 19, 24, 32, 36, 47]\n",
    "\n",
    "# 집합 변환 후 교집합 구하기\n",
    "nums = set(nums1) & set(nums2)\n",
    "\n",
    "# 집합 --> 리스트 변환\n",
    "nums = list(nums)\n",
    "\n",
    "#확인\n",
    "nums"
   ]
  },
  {
   "cell_type": "markdown",
   "metadata": {
    "id": "i--Cjvk4GEZl"
   },
   "source": [
    "**2) 리스트 중복 없이 합치기**\n",
    "\n",
    "- **합집합** 기능을 활용해 두 리스트의 중복을 제거, 합칠 수 있다."
   ]
  },
  {
   "cell_type": "code",
   "execution_count": 35,
   "metadata": {
    "id": "lyxtZ3WDGEZm"
   },
   "outputs": [
    {
     "data": {
      "text/plain": [
       "[32, 36, 41, 12, 47, 48, 19, 23, 24]"
      ]
     },
     "execution_count": 35,
     "metadata": {},
     "output_type": "execute_result"
    }
   ],
   "source": [
    "# 리스트 만들기 \n",
    "nums1 = [12, 23, 32, 36, 41, 48]\n",
    "nums2 = [12, 19, 24, 32, 36, 47]\n",
    "\n",
    "# 집합 변환 후 합집합 구하기\n",
    "\n",
    "nums = set(nums1) | set(nums2)\n",
    "\n",
    "\n",
    "# 집합 --> 리스트 변환\n",
    "\n",
    "nums =list(nums)\n",
    "nums"
   ]
  },
  {
   "cell_type": "markdown",
   "metadata": {
    "id": "6KmXU1TUw1OB"
   },
   "source": [
    "## 5.3.집합 관련 메소드\n",
    "\n",
    "- 집합 관련 메소드 몇 가지를 정리합니다."
   ]
  },
  {
   "cell_type": "markdown",
   "metadata": {
    "id": "NRJ9eIvB1D9h"
   },
   "source": [
    "**1) 요소 하나 추가**\n",
    "\n",
    "- 요소 하나!!!!를 추가할 때는 **add()** 메소드\n",
    "- 리스트는 add()가 아닌 append() 임...꼭 기억"
   ]
  },
  {
   "cell_type": "code",
   "execution_count": 45,
   "metadata": {
    "id": "fzBRVDgQw84H"
   },
   "outputs": [
    {
     "data": {
      "text/plain": [
       "{'강태공', '사쿠라', '우솝', '쵸파', '츠나데'}"
      ]
     },
     "execution_count": 45,
     "metadata": {},
     "output_type": "execute_result"
    }
   ],
   "source": [
    "# 집합 만들기\n",
    "member_set = {'쵸파', '우솝', '츠나데', '사쿠라'}\n",
    "\n",
    "# 원소 하나 추가\n",
    "member_set.add('강태공')\n",
    "\n",
    "# 확인\n",
    "member_set"
   ]
  },
  {
   "cell_type": "markdown",
   "metadata": {
    "id": "q_46C8KD1SlA"
   },
   "source": [
    "**2) 여러 요소 추가**\n",
    "\n",
    "- 여러 요소를 추가할 때는 **update()** 메소드를 사용\n",
    "- update() 메소드가 변경X 추가 O"
   ]
  },
  {
   "cell_type": "code",
   "execution_count": 46,
   "metadata": {
    "id": "p5dw3XYtxMnb"
   },
   "outputs": [
    {
     "data": {
      "text/plain": [
       "{'사쿠라', '우솝', '이치고', '짱구', '쵸파', '츠나데'}"
      ]
     },
     "execution_count": 46,
     "metadata": {},
     "output_type": "execute_result"
    }
   ],
   "source": [
    "member_set = {'쵸파', '우솝', '츠나데', '사쿠라'}\n",
    "\n",
    "# 여러 원소(리스트, 튜플, 딕셔너리) 추가 \n",
    "member_set.update(['이치고', '짱구'])\n",
    "\n",
    "# 확인\n",
    "member_set"
   ]
  },
  {
   "cell_type": "markdown",
   "metadata": {
    "id": "CQvFrGLU1ct7"
   },
   "source": [
    "**3) 무작위 한 요소 삭제**\n",
    "\n",
    "- 집합은 순서가 없기 때문에 무작위로 요소 하나를 삭제할 때는 **pop()** \n",
    "- pop() 메소드는 삭제되는 요소를 반환하면서 삭제 = 중요"
   ]
  },
  {
   "cell_type": "code",
   "execution_count": 49,
   "metadata": {
    "id": "JPx2qyDOC5UB"
   },
   "outputs": [
    {
     "name": "stdout",
     "output_type": "stream",
     "text": [
      "{'츠나데', '우솝', '사쿠라'}\n",
      "쵸파\n"
     ]
    }
   ],
   "source": [
    "# 집합 만들기\n",
    "member_set = {'쵸파', '우솝', '츠나데', '사쿠라'}\n",
    "\n",
    "# 무작위로 원소 하나 삭제\n",
    "del_member = member_set.pop()\n",
    "\n",
    "# 확인\n",
    "print(member_set)\n",
    "print(del_member)"
   ]
  },
  {
   "cell_type": "markdown",
   "metadata": {
    "id": "tbGr3g8Q1f8Y"
   },
   "source": [
    "**4) 요소 삭제(없으면 오류)**\n",
    "\n",
    "- 요소를 지정해서 삭제할 때는 **remove()** \n",
    "- 삭제하려는 요소가 없으면 에러 발생\n",
    "- discard() 메소드와 비교해보기"
   ]
  },
  {
   "cell_type": "code",
   "execution_count": 1,
   "metadata": {
    "id": "44_-f66Oxaek"
   },
   "outputs": [
    {
     "data": {
      "text/plain": [
       "{'사쿠라', '우솝', '쵸파'}"
      ]
     },
     "execution_count": 1,
     "metadata": {},
     "output_type": "execute_result"
    }
   ],
   "source": [
    "# 집합 만들기\n",
    "member_set = {'쵸파', '우솝', '츠나데', '사쿠라'}\n",
    "\n",
    "# 원소 하나 삭제\n",
    "member_set.remove('츠나데')\n",
    "\n",
    "# 확인\n",
    "member_set"
   ]
  },
  {
   "cell_type": "code",
   "execution_count": 2,
   "metadata": {
    "id": "ROJaBYgIaaDV"
   },
   "outputs": [
    {
     "ename": "KeyError",
     "evalue": "'전두환'",
     "output_type": "error",
     "traceback": [
      "\u001b[0;31m---------------------------------------------------------------------------\u001b[0m",
      "\u001b[0;31mKeyError\u001b[0m                                  Traceback (most recent call last)",
      "Input \u001b[0;32mIn [2]\u001b[0m, in \u001b[0;36m<cell line: 2>\u001b[0;34m()\u001b[0m\n\u001b[1;32m      1\u001b[0m \u001b[38;5;66;03m# 없는 원소를 삭제하면 오류 발생\u001b[39;00m\n\u001b[0;32m----> 2\u001b[0m \u001b[43mmember_set\u001b[49m\u001b[38;5;241;43m.\u001b[39;49m\u001b[43mremove\u001b[49m\u001b[43m(\u001b[49m\u001b[38;5;124;43m'\u001b[39;49m\u001b[38;5;124;43m전두환\u001b[39;49m\u001b[38;5;124;43m'\u001b[39;49m\u001b[43m)\u001b[49m\n\u001b[1;32m      4\u001b[0m \u001b[38;5;66;03m# 확인\u001b[39;00m\n\u001b[1;32m      5\u001b[0m member_set\n",
      "\u001b[0;31mKeyError\u001b[0m: '전두환'"
     ]
    }
   ],
   "source": [
    "# 없는 원소를 삭제하면 오류 발생\n",
    "member_set.remove('전두환')\n",
    "\n",
    "# 확인\n",
    "member_set"
   ]
  },
  {
   "cell_type": "markdown",
   "metadata": {
    "id": "_JH5mV6v1kJF"
   },
   "source": [
    "**5) 요소 삭제(없으면 무시)**\n",
    "\n",
    "- 요소를 지정해서 하나 삭제할 때는 **discard()** \n",
    "# -remove() 메소드와는 달리 삭제하려는 요소가 없어도 에러 발생 안 남"
   ]
  },
  {
   "cell_type": "code",
   "execution_count": 54,
   "metadata": {
    "id": "j91Ck49qCs9r"
   },
   "outputs": [
    {
     "data": {
      "text/plain": [
       "{'사쿠라', '우솝', '쵸파', '츠나데'}"
      ]
     },
     "execution_count": 54,
     "metadata": {},
     "output_type": "execute_result"
    }
   ],
   "source": [
    "# 집합 만들기\n",
    "member_set = {'쵸파', '우솝', '츠나데', '사쿠라'}\n",
    "\n",
    "# 없는 원소를 삭제하면 무시\n",
    "member_set.discard('홍길동')\n",
    "member_set.discard('노태우')\n",
    "\n",
    "# 확인\n",
    "member_set"
   ]
  },
  {
   "cell_type": "markdown",
   "metadata": {
    "id": "-YPUA5x81YmI"
   },
   "source": [
    "**6) 모든 원소 삭제**\n",
    "\n",
    "- 모든 요소를 삭제할 때는 **clear()**"
   ]
  },
  {
   "cell_type": "code",
   "execution_count": 3,
   "metadata": {
    "id": "T5cPKLFZD2gq"
   },
   "outputs": [
    {
     "data": {
      "text/plain": [
       "set()"
      ]
     },
     "execution_count": 3,
     "metadata": {},
     "output_type": "execute_result"
    }
   ],
   "source": [
    "# 집합 만들기\n",
    "member_set = {'홍길동', '한사랑', '일지매', '박여인'}\n",
    "\n",
    "# 모든 원소 삭제\n",
    "member_set.clear()\n",
    "\n",
    "# 확인\n",
    "member_set"
   ]
  },
  {
   "cell_type": "code",
   "execution_count": null,
   "metadata": {},
   "outputs": [],
   "source": []
  }
 ],
 "metadata": {
  "colab": {
   "collapsed_sections": [],
   "name": "05 - 집합.ipynb",
   "provenance": [],
   "toc_visible": true
  },
  "kernelspec": {
   "display_name": "Python 3 (ipykernel)",
   "language": "python",
   "name": "python3"
  },
  "language_info": {
   "codemirror_mode": {
    "name": "ipython",
    "version": 3
   },
   "file_extension": ".py",
   "mimetype": "text/x-python",
   "name": "python",
   "nbconvert_exporter": "python",
   "pygments_lexer": "ipython3",
   "version": "3.9.13"
  }
 },
 "nbformat": 4,
 "nbformat_minor": 1
}
