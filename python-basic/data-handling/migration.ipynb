{
 "cells": [
  {
   "attachments": {},
   "cell_type": "markdown",
   "id": "warming-gentleman",
   "metadata": {},
   "source": [
    "## \"서울시 생활이동 데이터 \" 전처리 과정\n",
    "- 해당 데이터를 가공하여 연습문제를 푸는 것이 목표 입니다.\n",
    "- 다양한 데이터를 통한 반복 연습으로 데이터 전처리에 더욱 능숙해질 수 있도록 하겠습니다.\n",
    "- EDA를 통해 데이터를 이해하기 위한 전 단계입니다."
   ]
  },
  {
   "attachments": {},
   "cell_type": "markdown",
   "id": "measured-administration",
   "metadata": {},
   "source": [
    "### 실습 데이터 안내\n",
    "- 서울 생활 이동 데이터 : 2022.12.01 ~ 2022.12.31\n",
    "- 서울 열린데이터 광장 : https://data.seoul.go.kr/dataVisual/seoul/seoulLivingMigration.do\n",
    "- 자치구 단위 -> 2022년 12월 데이터를 다운로드 받아 진행하면 됩니다.(203MB)"
   ]
  },
  {
   "attachments": {},
   "cell_type": "markdown",
   "id": "47bf19ed",
   "metadata": {},
   "source": [
    "[기본 데이터]\n",
    "* 생활이동_자치구_2022.12_00시.csv\n",
    "\n",
    "[데이터 소개]\n",
    "* 서울 시 구별 이동 2022년 12월 0시~1시 데이터\n",
    "\n",
    "[변수 소개]\n",
    "* 도착시간 : 0 -> \"0:00~0:59\"를 의미 \n",
    "* 출발 자치구 : 자치구 코드\n",
    "* 성별 : F(여성), M(남성)\n",
    "* 나이 : 10 ~ 79세 (5세 단위), 0 ~ 10세, 80세 이상으로 구분\n",
    "* 유형 : H(야간상주지), W(주간상주지), E(기타)\n",
    "* 평균 이동 시간 : 동일 열 내 이동인구의 월 단위 평균 이동 시간 (10분단위)\n",
    "* 이동인구 : 추정 합산값으로 소수점 표출, 개인정보 비식별화를 위해 3명 미만의 경우 * 처리"
   ]
  },
  {
   "attachments": {},
   "cell_type": "markdown",
   "id": "cc30109f",
   "metadata": {},
   "source": [
    "## 데이터 전처리 실습을 통해 해결해야 할 질문들\n",
    "\n",
    "- 실습문제 1. 데이터 로딩\n",
    " \n",
    "- 실습문제 2. 기본 정보 확인하기\n",
    "\n",
    "- 실습문제 3. 결측치 처리하기\n",
    "\n",
    "- 실습문제 4. 이동유형, 요일, 성별 변수의 value수를 파악하기\n",
    "\n",
    "- 실습문제 5. 서울 지역의 데이터만 골라보기\n",
    "\n",
    "- 실습문제 6. 서울지역의 구별로 groupby하여 데이터를 확인하기(유동인구 기준)\n",
    "\n",
    "- 실습문제 7. '도착시군구코드'를 기준으로 각 구별로 평균 이동시간(분)의 평균과 합을 구하기\n",
    "\n",
    "- 실습문제 8. '도착시군구코드'를 기준으로 각 구별로 이동인구(합)의 평균과 합을 구하기\n",
    "\n",
    "- 실습문제 9. 어느 요일의 심야 이동이 제일 많을까요?\n",
    "\n",
    "- 실습문제 10. 24시간의 데이터를 만들어 실습문제 1~8까지 적용해보겠습니다."
   ]
  },
  {
   "attachments": {},
   "cell_type": "markdown",
   "id": "vocational-animal",
   "metadata": {},
   "source": [
    "#### 실습문제 1. 데이터 로딩\n",
    "\n",
    "* Pandas 라이브러리를 활용해서 '생활이동_자치구_2022.12_00시.csv' 데이터를 확인하세요.\n",
    "    * 아래에 'Pandas'를 Import하고 '생활이동_자치구_2022.12_00시.csv'파일을 'seoul_moving'에 불러오고,  Shape을 확인하는 소스코드를 작성하고 실행해보세요.\n",
    "    * 데이터 파일 로딩시 참고 사항 \n",
    "        * 구분자(sep)는 ',' 입니다\n",
    "        * CP949 인코더를 사용해 주세요"
   ]
  },
  {
   "cell_type": "code",
   "execution_count": null,
   "id": "saving-slope",
   "metadata": {},
   "outputs": [],
   "source": [
    "# 아래에 실습코드를 작성하고 결과를 확인합니다.\n",
    "import pandas as pd\n",
    "\n",
    "seoul_moving = pd.read_csv('생활이동_자치구_2022.12_00시.csv', sep=\",\", encoding = 'cp949')"
   ]
  },
  {
   "attachments": {},
   "cell_type": "markdown",
   "id": "romantic-johnson",
   "metadata": {},
   "source": [
    "#### 실습문제 2. 기본 정보 확인하기\n",
    "* 'seoul_moving' 데이터의 정보를 확인해보세요.\n",
    "* 'describe', 'info', 'head' 등 전부 활용해 보겠습니다."
   ]
  },
  {
   "cell_type": "code",
   "execution_count": null,
   "id": "funny-subcommittee",
   "metadata": {},
   "outputs": [],
   "source": [
    "# 데이터 프레임의 Shape을 확인합니다.\n"
   ]
  },
  {
   "cell_type": "code",
   "execution_count": null,
   "id": "demographic-battery",
   "metadata": {},
   "outputs": [],
   "source": [
    "# 아래에 실습코드를 작성하고 결과를 확인합니다.\n"
   ]
  },
  {
   "cell_type": "code",
   "execution_count": null,
   "id": "940a114a",
   "metadata": {},
   "outputs": [],
   "source": [
    "# 아래에 실습코드를 작성하고 결과를 확인합니다.\n"
   ]
  },
  {
   "cell_type": "code",
   "execution_count": null,
   "id": "7343fadf",
   "metadata": {},
   "outputs": [],
   "source": [
    "# 아래에 실습코드를 작성하고 결과를 확인합니다.\n"
   ]
  },
  {
   "attachments": {},
   "cell_type": "markdown",
   "id": "003322b3",
   "metadata": {},
   "source": [
    "#### 실습문제 3. 결측치 처리 ( NaN이 아닌 결측치를 처리 해봅시다)\n",
    "\n",
    "* '인구이동(합)' column은 이동 인구의 합산인데 object 타입입니다. \n",
    "\n",
    "    - 왜 일까요? \n",
    "\n",
    "    - Tip! (이동인구 : 추정 합산값으로 소수점 표출, 개인정보 비식별화를 위해 3명 미만의 경우 * 처리)\n",
    "\n",
    "    - 해당 값을 나름의 기준으로 변경하세요\n",
    "\n",
    "    - '인구이동(합)' 컬럼의 데이터 타입을 수치형으로 변경하세요 "
   ]
  },
  {
   "cell_type": "code",
   "execution_count": null,
   "id": "64977ed3",
   "metadata": {},
   "outputs": [],
   "source": [
    "# 아래에 실습코드를 작성하고 결과를 확인합니다.\n"
   ]
  },
  {
   "cell_type": "code",
   "execution_count": null,
   "id": "703fc8b7",
   "metadata": {},
   "outputs": [],
   "source": [
    "# 최빈값과 평균값을 알 수 없는 상황이라 중위값으로 대체\n"
   ]
  },
  {
   "cell_type": "code",
   "execution_count": null,
   "id": "eefe243e",
   "metadata": {},
   "outputs": [],
   "source": [
    "# 아래에 실습코드를 작성하고 결과를 확인합니다.\n"
   ]
  },
  {
   "cell_type": "code",
   "execution_count": null,
   "id": "3ec3c54b",
   "metadata": {},
   "outputs": [],
   "source": [
    "# 이동인구(합) column의 데이터 타입을 바꿔주세요\n",
    "# astype float\n",
    "\n"
   ]
  },
  {
   "attachments": {},
   "cell_type": "markdown",
   "id": "3666e46c",
   "metadata": {},
   "source": [
    "#### 실습문제 4. 이동유형, 요일, 성별 변수의 value수를 파악\n",
    "\n",
    "* 역시나 value_counts()를 활용해 봅시다."
   ]
  },
  {
   "cell_type": "code",
   "execution_count": null,
   "id": "3cd0103e",
   "metadata": {},
   "outputs": [],
   "source": [
    "# 아래에 실습코드를 작성하고 결과를 확인합니다.\n"
   ]
  },
  {
   "cell_type": "code",
   "execution_count": null,
   "id": "1cdd246f",
   "metadata": {},
   "outputs": [],
   "source": [
    "# 아래에 실습코드를 작성하고 결과를 확인합니다.\n"
   ]
  },
  {
   "cell_type": "code",
   "execution_count": null,
   "id": "c3f440b9",
   "metadata": {},
   "outputs": [],
   "source": [
    "# 아래에 실습코드를 작성하고 결과를 확인합니다.\n",
    "\n"
   ]
  },
  {
   "attachments": {},
   "cell_type": "markdown",
   "id": "45594fc1",
   "metadata": {},
   "source": [
    "#### 실습문제 5. 서울 지역의 데이터만 골라 보도록 하겠습니다.\n",
    "\n",
    "* 우리는 서울시의 데이터만 보겠습니다.\n",
    "\n",
    "* 출발과 도착이 모두 서울인 데이터만 추출해 주세요."
   ]
  },
  {
   "cell_type": "code",
   "execution_count": null,
   "id": "fab14a50",
   "metadata": {},
   "outputs": [],
   "source": [
    "# 아래에 실습코드를 작성하고 결과를 확인합니다.\n",
    "\n"
   ]
  },
  {
   "cell_type": "code",
   "execution_count": null,
   "id": "2dff8ca0",
   "metadata": {},
   "outputs": [],
   "source": [
    "# 아래에 실습코드를 작성하고 결과를 확인합니다.\n",
    "\n"
   ]
  },
  {
   "cell_type": "code",
   "execution_count": null,
   "id": "f08a4e7d",
   "metadata": {},
   "outputs": [],
   "source": [
    "# 아래에 실습코드를 작성하고 결과를 확인합니다.\n",
    "\n"
   ]
  },
  {
   "attachments": {},
   "cell_type": "markdown",
   "id": "e968a0ae",
   "metadata": {},
   "source": [
    "#### 실습문제 6. 서울지역의 구 별로 groupby하여 데이터를 확인하겠습니다 (유동인구 기준)\n",
    "\n",
    "* 유출이 제일 많은 구는?\n",
    "\n",
    "* 유입이 제일 많은 구는?\n",
    "\n",
    "* 유출이 제일 적은 구는?\n",
    "\n",
    "* 유입이 제일 적은 구는?"
   ]
  },
  {
   "cell_type": "markdown",
   "id": "ab98b422",
   "metadata": {},
   "source": [
    "* 참고자료 서울 구별 코드\n",
    "    * 11010\t종로구\n",
    "    * 11020\t중구\n",
    "    * 11030\t용산구\n",
    "    * 11040\t성동구\n",
    "    * 11050\t광진구\n",
    "    * 11060\t동대문구\n",
    "    * 11070\t중랑구\n",
    "    * 11080\t성북구\n",
    "    * 11090\t강북구\n",
    "    * 11100\t도봉구\n",
    "    * 11110\t노원구\n",
    "    * 11120\t은평구\n",
    "    * 11130\t서대문구\n",
    "    * 11140\t마포구\n",
    "    * 11150\t양천구\n",
    "    * 11160\t강서구\n",
    "    * 11170\t구로구\n",
    "    * 11180\t금천구\n",
    "    * 11190\t영등포구\n",
    "    * 11200\t동작구\n",
    "    * 11210\t관악구\n",
    "    * 11220\t서초구\n",
    "    * 11230\t강남구\n",
    "    * 11240\t송파구\n",
    "    * 11250\t강동구"
   ]
  },
  {
   "cell_type": "code",
   "execution_count": null,
   "id": "38564819",
   "metadata": {},
   "outputs": [],
   "source": [
    "# 유출이 가장 많은 구와 적은 구\n"
   ]
  },
  {
   "cell_type": "code",
   "execution_count": null,
   "id": "5b74bb6d",
   "metadata": {},
   "outputs": [],
   "source": [
    "# 유입이 가장 많은 구와 적은 구\n"
   ]
  },
  {
   "attachments": {},
   "cell_type": "markdown",
   "id": "bff8a6d6",
   "metadata": {},
   "source": [
    "#### 실습문제 7. '도착시군구코드'를 기준으로 각 구별로 평균 이동시간(분)의 평균과 합을 구하기\n",
    "\n",
    "* groupby 사용, as_index=False로 설정해주세요"
   ]
  },
  {
   "cell_type": "code",
   "execution_count": 1,
   "id": "7783e416",
   "metadata": {},
   "outputs": [],
   "source": [
    "# 아래에 실습코드를 작성하고 결과를 확인합니다.\n"
   ]
  },
  {
   "cell_type": "code",
   "execution_count": null,
   "id": "203b5d29",
   "metadata": {},
   "outputs": [],
   "source": [
    "# 아래에 실습코드를 작성하고 결과를 확인합니다.\n"
   ]
  },
  {
   "cell_type": "code",
   "execution_count": null,
   "id": "a19d5e3c",
   "metadata": {},
   "outputs": [],
   "source": [
    "# 아래에 실습코드를 작성하고 결과를 확인합니다.\n"
   ]
  },
  {
   "cell_type": "code",
   "execution_count": null,
   "id": "86bd27f5",
   "metadata": {},
   "outputs": [],
   "source": [
    "# 아래에 실습코드를 작성하고 결과를 확인합니다.\n"
   ]
  },
  {
   "attachments": {},
   "cell_type": "markdown",
   "id": "5b4212af",
   "metadata": {},
   "source": [
    "#### 실습문제 8. '도착시군구코드'를 기준으로 각 구별로 이동인구(합)의 평균과 합을 구하기\n",
    "\n",
    "* groupby 사용, as_index=False로 설정해주세요"
   ]
  },
  {
   "cell_type": "code",
   "execution_count": null,
   "id": "51b065e3",
   "metadata": {},
   "outputs": [],
   "source": [
    "# 아래에 실습코드를 작성하고 결과를 확인합니다.\n"
   ]
  },
  {
   "cell_type": "code",
   "execution_count": null,
   "id": "ea1aad17",
   "metadata": {},
   "outputs": [],
   "source": [
    "# 아래에 실습코드를 작성하고 결과를 확인합니다.\n"
   ]
  },
  {
   "cell_type": "code",
   "execution_count": null,
   "id": "83457ca2",
   "metadata": {},
   "outputs": [],
   "source": [
    "# 아래에 실습코드를 작성하고 결과를 확인합니다.\n"
   ]
  },
  {
   "cell_type": "code",
   "execution_count": null,
   "id": "b94d7e22",
   "metadata": {},
   "outputs": [],
   "source": [
    "# 아래에 실습코드를 작성하고 결과를 확인합니다.\n"
   ]
  },
  {
   "attachments": {},
   "cell_type": "markdown",
   "id": "dc79868b",
   "metadata": {},
   "source": [
    "#### 실습문제 9. 어느 요일의 심야 이동이 가장 많을까요?\n",
    "* 심야 기준 : 00시~05시"
   ]
  },
  {
   "cell_type": "code",
   "execution_count": null,
   "id": "af389107",
   "metadata": {},
   "outputs": [],
   "source": [
    "# 0:00~ 4:59 데이터 불러오기 \n",
    "\n",
    "seoul_moving_0 = pd.read_csv('생활이동_자치구_2022.12_00시.csv', sep=\",\", encoding = 'cp949')\n",
    "seoul_moving_1 = pd.read_csv('생활이동_자치구_2022.12_01시.csv', sep=\",\", encoding = 'cp949')\n",
    "seoul_moving_2 = pd.read_csv('생활이동_자치구_2022.12_02시.csv', sep=\",\", encoding = 'cp949')\n",
    "seoul_moving_3 = pd.read_csv('생활이동_자치구_2022.12_03시.csv', sep=\",\", encoding = 'cp949')\n",
    "seoul_moving_4 = pd.read_csv('생활이동_자치구_2022.12_04시.csv', sep=\",\", encoding = 'cp949')"
   ]
  },
  {
   "cell_type": "code",
   "execution_count": null,
   "id": "3b1f447e",
   "metadata": {},
   "outputs": [],
   "source": [
    "# 0:00~ 4:59 데이터 합치기 \n"
   ]
  },
  {
   "cell_type": "code",
   "execution_count": null,
   "id": "1e10bcde",
   "metadata": {},
   "outputs": [],
   "source": [
    "# 심야 시간대 어느 요일의 이동이 가장 많을까?\n"
   ]
  },
  {
   "cell_type": "code",
   "execution_count": null,
   "id": "cccd6caf",
   "metadata": {},
   "outputs": [],
   "source": []
  },
  {
   "attachments": {},
   "cell_type": "markdown",
   "id": "636501b4",
   "metadata": {},
   "source": [
    "#### 실습문제 10. 24시간의 데이터를 만들어 실습문제 1~8까지 적용해보겠습니다.\n"
   ]
  },
  {
   "cell_type": "code",
   "execution_count": null,
   "id": "6ebcfd46",
   "metadata": {},
   "outputs": [],
   "source": [
    "# 아래에 실습코드를 작성하고 결과를 확인합니다.\n"
   ]
  },
  {
   "cell_type": "code",
   "execution_count": null,
   "id": "0d9757a9",
   "metadata": {},
   "outputs": [],
   "source": [
    "# 아래에 실습코드를 작성하고 결과를 확인합니다.\n"
   ]
  },
  {
   "cell_type": "code",
   "execution_count": null,
   "id": "7e63aa36",
   "metadata": {},
   "outputs": [],
   "source": [
    "# 아래에 실습코드를 작성하고 결과를 확인합니다.\n"
   ]
  },
  {
   "cell_type": "code",
   "execution_count": null,
   "id": "f390c5ff",
   "metadata": {},
   "outputs": [],
   "source": [
    "# 아래에 실습코드를 작성하고 결과를 확인합니다.\n"
   ]
  }
 ],
 "metadata": {
  "kernelspec": {
   "display_name": "base",
   "language": "python",
   "name": "python3"
  },
  "language_info": {
   "codemirror_mode": {
    "name": "ipython",
    "version": 3
   },
   "file_extension": ".py",
   "mimetype": "text/x-python",
   "name": "python",
   "nbconvert_exporter": "python",
   "pygments_lexer": "ipython3",
   "version": "3.8.8"
  },
  "vscode": {
   "interpreter": {
    "hash": "136ac6390a149cc93e6470a8f7f2b930c2fa00ca17cae58650efc746ba1de66d"
   }
  }
 },
 "nbformat": 4,
 "nbformat_minor": 5
}
