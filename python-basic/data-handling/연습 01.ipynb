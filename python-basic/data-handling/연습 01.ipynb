{
 "cells": [
  {
   "cell_type": "markdown",
   "id": "182c14fd",
   "metadata": {},
   "source": [
    "# 파이썬 공부시작\n",
    "## 1. 주피터 노트북 사용법 익히기\n",
    "### 1.1. 코드셀과 셀 사용"
   ]
  },
  {
   "cell_type": "markdown",
   "id": "62d6749f",
   "metadata": {},
   "source": [
    "다음을 기억해주세요\n",
    "- 코드셀은 실행이 됩니다\n",
    "- 텍스트 셀은 멋진 문서로 남습니다."
   ]
  },
  {
   "cell_type": "markdown",
   "id": "781a0cfa",
   "metadata": {},
   "source": [
    " 파이썬으로 배우는 수학 기초 : Jupyter Notebook에서 LaTeX 사용하는 방법(수식 만들기)    \n",
    "https://iot-lab.tistory.com/150 "
   ]
  },
  {
   "cell_type": "markdown",
   "id": "7f4329f5",
   "metadata": {},
   "source": [
    "$ \\huge  y=ax+\\frac{1}{2}b \\sum x_i $"
   ]
  },
  {
   "cell_type": "markdown",
   "id": "8a8501a0",
   "metadata": {},
   "source": [
    "마크다운 변환 단축키 m\n",
    "코드키 변환 단축키 y"
   ]
  },
  {
   "cell_type": "code",
   "execution_count": null,
   "id": "d9dee8d2",
   "metadata": {},
   "outputs": [],
   "source": []
  },
  {
   "cell_type": "code",
   "execution_count": null,
   "id": "7dfb8465",
   "metadata": {},
   "outputs": [],
   "source": []
  }
 ],
 "metadata": {
  "kernelspec": {
   "display_name": "Python 3 (ipykernel)",
   "language": "python",
   "name": "python3"
  },
  "language_info": {
   "codemirror_mode": {
    "name": "ipython",
    "version": 3
   },
   "file_extension": ".py",
   "mimetype": "text/x-python",
   "name": "python",
   "nbconvert_exporter": "python",
   "pygments_lexer": "ipython3",
   "version": "3.9.13"
  }
 },
 "nbformat": 4,
 "nbformat_minor": 5
}
