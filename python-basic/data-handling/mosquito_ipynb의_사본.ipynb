{
  "cells": [
    {
      "cell_type": "code",
      "execution_count": null,
      "id": "579a4529-4f0f-4814-a4c9-237a4fba86fb",
      "metadata": {
        "id": "579a4529-4f0f-4814-a4c9-237a4fba86fb"
      },
      "outputs": [],
      "source": [
        "import pandas as pd"
      ]
    },
    {
      "cell_type": "code",
      "execution_count": null,
      "id": "0a82b58d-de90-4463-80a6-c55ee8f433d4",
      "metadata": {
        "id": "0a82b58d-de90-4463-80a6-c55ee8f433d4"
      },
      "outputs": [],
      "source": [
        "test = pd.read_csv('서울시 모기예보제 정보.csv',encoding='cp949')"
      ]
    },
    {
      "cell_type": "code",
      "execution_count": null,
      "id": "de97ecb0-f042-4a1a-b9a7-b05a5f725181",
      "metadata": {
        "id": "de97ecb0-f042-4a1a-b9a7-b05a5f725181",
        "outputId": "f50aeb59-a61a-49fa-8e4b-90f6bd6fa568"
      },
      "outputs": [
        {
          "data": {
            "text/html": [
              "<div>\n",
              "<style scoped>\n",
              "    .dataframe tbody tr th:only-of-type {\n",
              "        vertical-align: middle;\n",
              "    }\n",
              "\n",
              "    .dataframe tbody tr th {\n",
              "        vertical-align: top;\n",
              "    }\n",
              "\n",
              "    .dataframe thead th {\n",
              "        text-align: right;\n",
              "    }\n",
              "</style>\n",
              "<table border=\"1\" class=\"dataframe\">\n",
              "  <thead>\n",
              "    <tr style=\"text-align: right;\">\n",
              "      <th></th>\n",
              "      <th>모기지수 발생일</th>\n",
              "      <th>모기지수(수변부)</th>\n",
              "      <th>모기지수(주거지)</th>\n",
              "      <th>모기지수(공원)</th>\n",
              "    </tr>\n",
              "  </thead>\n",
              "  <tbody>\n",
              "    <tr>\n",
              "      <th>0</th>\n",
              "      <td>2023-02-14</td>\n",
              "      <td>0.0</td>\n",
              "      <td>0.0</td>\n",
              "      <td>0.0</td>\n",
              "    </tr>\n",
              "    <tr>\n",
              "      <th>1</th>\n",
              "      <td>2023-02-13</td>\n",
              "      <td>0.0</td>\n",
              "      <td>0.0</td>\n",
              "      <td>0.0</td>\n",
              "    </tr>\n",
              "    <tr>\n",
              "      <th>2</th>\n",
              "      <td>2023-02-12</td>\n",
              "      <td>0.0</td>\n",
              "      <td>0.0</td>\n",
              "      <td>0.0</td>\n",
              "    </tr>\n",
              "    <tr>\n",
              "      <th>3</th>\n",
              "      <td>2023-02-11</td>\n",
              "      <td>0.0</td>\n",
              "      <td>0.0</td>\n",
              "      <td>0.0</td>\n",
              "    </tr>\n",
              "    <tr>\n",
              "      <th>4</th>\n",
              "      <td>2023-02-10</td>\n",
              "      <td>0.0</td>\n",
              "      <td>0.0</td>\n",
              "      <td>0.0</td>\n",
              "    </tr>\n",
              "    <tr>\n",
              "      <th>...</th>\n",
              "      <td>...</td>\n",
              "      <td>...</td>\n",
              "      <td>...</td>\n",
              "      <td>...</td>\n",
              "    </tr>\n",
              "    <tr>\n",
              "      <th>5529</th>\n",
              "      <td>1970-01-01</td>\n",
              "      <td>0.0</td>\n",
              "      <td>0.0</td>\n",
              "      <td>0.0</td>\n",
              "    </tr>\n",
              "    <tr>\n",
              "      <th>5530</th>\n",
              "      <td>1970-01-01</td>\n",
              "      <td>0.0</td>\n",
              "      <td>0.0</td>\n",
              "      <td>0.0</td>\n",
              "    </tr>\n",
              "    <tr>\n",
              "      <th>5531</th>\n",
              "      <td>1970-01-01</td>\n",
              "      <td>0.0</td>\n",
              "      <td>0.0</td>\n",
              "      <td>0.0</td>\n",
              "    </tr>\n",
              "    <tr>\n",
              "      <th>5532</th>\n",
              "      <td>1970-01-01</td>\n",
              "      <td>0.0</td>\n",
              "      <td>0.0</td>\n",
              "      <td>0.0</td>\n",
              "    </tr>\n",
              "    <tr>\n",
              "      <th>5533</th>\n",
              "      <td>1970-01-01</td>\n",
              "      <td>0.0</td>\n",
              "      <td>0.0</td>\n",
              "      <td>0.0</td>\n",
              "    </tr>\n",
              "  </tbody>\n",
              "</table>\n",
              "<p>5534 rows × 4 columns</p>\n",
              "</div>"
            ],
            "text/plain": [
              "        모기지수 발생일  모기지수(수변부)  모기지수(주거지)  모기지수(공원)\n",
              "0     2023-02-14        0.0        0.0       0.0\n",
              "1     2023-02-13        0.0        0.0       0.0\n",
              "2     2023-02-12        0.0        0.0       0.0\n",
              "3     2023-02-11        0.0        0.0       0.0\n",
              "4     2023-02-10        0.0        0.0       0.0\n",
              "...          ...        ...        ...       ...\n",
              "5529  1970-01-01        0.0        0.0       0.0\n",
              "5530  1970-01-01        0.0        0.0       0.0\n",
              "5531  1970-01-01        0.0        0.0       0.0\n",
              "5532  1970-01-01        0.0        0.0       0.0\n",
              "5533  1970-01-01        0.0        0.0       0.0\n",
              "\n",
              "[5534 rows x 4 columns]"
            ]
          },
          "execution_count": 4,
          "metadata": {},
          "output_type": "execute_result"
        }
      ],
      "source": [
        "test"
      ]
    },
    {
      "cell_type": "code",
      "execution_count": null,
      "id": "08e60d7f-c8c6-4f98-a586-f1fa41fb3b65",
      "metadata": {
        "id": "08e60d7f-c8c6-4f98-a586-f1fa41fb3b65",
        "outputId": "6dfcf10a-775e-4299-c19a-42d96fb0b408"
      },
      "outputs": [
        {
          "name": "stdout",
          "output_type": "stream",
          "text": [
            "<class 'pandas.core.frame.DataFrame'>\n",
            "RangeIndex: 5534 entries, 0 to 5533\n",
            "Data columns (total 4 columns):\n",
            " #   Column     Non-Null Count  Dtype  \n",
            "---  ------     --------------  -----  \n",
            " 0   모기지수 발생일   5534 non-null   object \n",
            " 1   모기지수(수변부)  5522 non-null   float64\n",
            " 2   모기지수(주거지)  5522 non-null   float64\n",
            " 3   모기지수(공원)   5522 non-null   float64\n",
            "dtypes: float64(3), object(1)\n",
            "memory usage: 173.1+ KB\n"
          ]
        }
      ],
      "source": [
        "test.info()"
      ]
    },
    {
      "cell_type": "code",
      "execution_count": null,
      "id": "3258813e-c03d-4895-9991-07bc27244b89",
      "metadata": {
        "id": "3258813e-c03d-4895-9991-07bc27244b89",
        "outputId": "8a08041a-8366-48e3-afad-5d39fbb50b05"
      },
      "outputs": [
        {
          "data": {
            "text/plain": [
              "모기지수 발생일      0\n",
              "모기지수(수변부)    12\n",
              "모기지수(주거지)    12\n",
              "모기지수(공원)     12\n",
              "dtype: int64"
            ]
          },
          "execution_count": 7,
          "metadata": {},
          "output_type": "execute_result"
        }
      ],
      "source": [
        "test.isna().sum()"
      ]
    },
    {
      "cell_type": "code",
      "execution_count": null,
      "id": "f693ac35-cbf8-4e7b-9098-2f554a88b016",
      "metadata": {
        "id": "f693ac35-cbf8-4e7b-9098-2f554a88b016"
      },
      "outputs": [],
      "source": [
        "# NaN 제거\n",
        "test.dropna(inplace=True)"
      ]
    },
    {
      "cell_type": "code",
      "execution_count": null,
      "id": "7b37909c-afbb-4710-b51e-23b8b74a22cd",
      "metadata": {
        "id": "7b37909c-afbb-4710-b51e-23b8b74a22cd",
        "outputId": "ab0c9e4c-cd8a-4ff9-d90f-7729cd0b615b"
      },
      "outputs": [
        {
          "data": {
            "text/plain": [
              "모기지수 발생일     0\n",
              "모기지수(수변부)    0\n",
              "모기지수(주거지)    0\n",
              "모기지수(공원)     0\n",
              "dtype: int64"
            ]
          },
          "execution_count": 11,
          "metadata": {},
          "output_type": "execute_result"
        }
      ],
      "source": [
        "test.isna().sum()"
      ]
    },
    {
      "cell_type": "code",
      "execution_count": null,
      "id": "c17c72e4-a585-41c2-aa23-9652c3058607",
      "metadata": {
        "id": "c17c72e4-a585-41c2-aa23-9652c3058607",
        "outputId": "da0b5a9c-0dda-4ef3-e237-be0b1330f156"
      },
      "outputs": [
        {
          "data": {
            "text/plain": [
              "1970-01-01    2954\n",
              "2021-10-06       3\n",
              "2020-03-20       2\n",
              "2020-03-19       2\n",
              "2020-02-28       2\n",
              "              ... \n",
              "2020-11-27       1\n",
              "2020-11-26       1\n",
              "2020-11-25       1\n",
              "2020-11-24       1\n",
              "2019-10-15       1\n",
              "Name: 모기지수 발생일, Length: 2437, dtype: int64"
            ]
          },
          "execution_count": 12,
          "metadata": {},
          "output_type": "execute_result"
        }
      ],
      "source": [
        "# 중복값 확인\n",
        "test['모기지수 발생일'].value_counts()"
      ]
    },
    {
      "cell_type": "code",
      "execution_count": null,
      "id": "a97326a5-20ce-4411-be7e-c30acb444dc4",
      "metadata": {
        "id": "a97326a5-20ce-4411-be7e-c30acb444dc4",
        "outputId": "c462c186-eafe-474f-8875-6f47fc4cd544"
      },
      "outputs": [
        {
          "data": {
            "text/html": [
              "<div>\n",
              "<style scoped>\n",
              "    .dataframe tbody tr th:only-of-type {\n",
              "        vertical-align: middle;\n",
              "    }\n",
              "\n",
              "    .dataframe tbody tr th {\n",
              "        vertical-align: top;\n",
              "    }\n",
              "\n",
              "    .dataframe thead th {\n",
              "        text-align: right;\n",
              "    }\n",
              "</style>\n",
              "<table border=\"1\" class=\"dataframe\">\n",
              "  <thead>\n",
              "    <tr style=\"text-align: right;\">\n",
              "      <th></th>\n",
              "      <th>모기지수 발생일</th>\n",
              "      <th>모기지수(수변부)</th>\n",
              "      <th>모기지수(주거지)</th>\n",
              "      <th>모기지수(공원)</th>\n",
              "    </tr>\n",
              "  </thead>\n",
              "  <tbody>\n",
              "    <tr>\n",
              "      <th>2580</th>\n",
              "      <td>1970-01-01</td>\n",
              "      <td>0.0</td>\n",
              "      <td>0.0</td>\n",
              "      <td>0.0</td>\n",
              "    </tr>\n",
              "    <tr>\n",
              "      <th>2581</th>\n",
              "      <td>1970-01-01</td>\n",
              "      <td>0.0</td>\n",
              "      <td>0.0</td>\n",
              "      <td>0.0</td>\n",
              "    </tr>\n",
              "    <tr>\n",
              "      <th>2582</th>\n",
              "      <td>1970-01-01</td>\n",
              "      <td>0.0</td>\n",
              "      <td>0.0</td>\n",
              "      <td>0.0</td>\n",
              "    </tr>\n",
              "    <tr>\n",
              "      <th>2583</th>\n",
              "      <td>1970-01-01</td>\n",
              "      <td>0.0</td>\n",
              "      <td>0.0</td>\n",
              "      <td>0.0</td>\n",
              "    </tr>\n",
              "    <tr>\n",
              "      <th>2584</th>\n",
              "      <td>1970-01-01</td>\n",
              "      <td>0.0</td>\n",
              "      <td>0.0</td>\n",
              "      <td>0.0</td>\n",
              "    </tr>\n",
              "    <tr>\n",
              "      <th>...</th>\n",
              "      <td>...</td>\n",
              "      <td>...</td>\n",
              "      <td>...</td>\n",
              "      <td>...</td>\n",
              "    </tr>\n",
              "    <tr>\n",
              "      <th>5529</th>\n",
              "      <td>1970-01-01</td>\n",
              "      <td>0.0</td>\n",
              "      <td>0.0</td>\n",
              "      <td>0.0</td>\n",
              "    </tr>\n",
              "    <tr>\n",
              "      <th>5530</th>\n",
              "      <td>1970-01-01</td>\n",
              "      <td>0.0</td>\n",
              "      <td>0.0</td>\n",
              "      <td>0.0</td>\n",
              "    </tr>\n",
              "    <tr>\n",
              "      <th>5531</th>\n",
              "      <td>1970-01-01</td>\n",
              "      <td>0.0</td>\n",
              "      <td>0.0</td>\n",
              "      <td>0.0</td>\n",
              "    </tr>\n",
              "    <tr>\n",
              "      <th>5532</th>\n",
              "      <td>1970-01-01</td>\n",
              "      <td>0.0</td>\n",
              "      <td>0.0</td>\n",
              "      <td>0.0</td>\n",
              "    </tr>\n",
              "    <tr>\n",
              "      <th>5533</th>\n",
              "      <td>1970-01-01</td>\n",
              "      <td>0.0</td>\n",
              "      <td>0.0</td>\n",
              "      <td>0.0</td>\n",
              "    </tr>\n",
              "  </tbody>\n",
              "</table>\n",
              "<p>2954 rows × 4 columns</p>\n",
              "</div>"
            ],
            "text/plain": [
              "        모기지수 발생일  모기지수(수변부)  모기지수(주거지)  모기지수(공원)\n",
              "2580  1970-01-01        0.0        0.0       0.0\n",
              "2581  1970-01-01        0.0        0.0       0.0\n",
              "2582  1970-01-01        0.0        0.0       0.0\n",
              "2583  1970-01-01        0.0        0.0       0.0\n",
              "2584  1970-01-01        0.0        0.0       0.0\n",
              "...          ...        ...        ...       ...\n",
              "5529  1970-01-01        0.0        0.0       0.0\n",
              "5530  1970-01-01        0.0        0.0       0.0\n",
              "5531  1970-01-01        0.0        0.0       0.0\n",
              "5532  1970-01-01        0.0        0.0       0.0\n",
              "5533  1970-01-01        0.0        0.0       0.0\n",
              "\n",
              "[2954 rows x 4 columns]"
            ]
          },
          "execution_count": 13,
          "metadata": {},
          "output_type": "execute_result"
        }
      ],
      "source": [
        "test[test['모기지수 발생일']=='1970-01-01']"
      ]
    },
    {
      "cell_type": "code",
      "execution_count": null,
      "id": "b1d2f012-c3c5-40e5-85e7-0c9e2afb2381",
      "metadata": {
        "id": "b1d2f012-c3c5-40e5-85e7-0c9e2afb2381",
        "outputId": "e6c5f261-845f-4439-c033-6a663046d93d"
      },
      "outputs": [
        {
          "data": {
            "text/html": [
              "<div>\n",
              "<style scoped>\n",
              "    .dataframe tbody tr th:only-of-type {\n",
              "        vertical-align: middle;\n",
              "    }\n",
              "\n",
              "    .dataframe tbody tr th {\n",
              "        vertical-align: top;\n",
              "    }\n",
              "\n",
              "    .dataframe thead th {\n",
              "        text-align: right;\n",
              "    }\n",
              "</style>\n",
              "<table border=\"1\" class=\"dataframe\">\n",
              "  <thead>\n",
              "    <tr style=\"text-align: right;\">\n",
              "      <th></th>\n",
              "      <th>모기지수 발생일</th>\n",
              "      <th>모기지수(수변부)</th>\n",
              "      <th>모기지수(주거지)</th>\n",
              "      <th>모기지수(공원)</th>\n",
              "    </tr>\n",
              "  </thead>\n",
              "  <tbody>\n",
              "    <tr>\n",
              "      <th>503</th>\n",
              "      <td>2021-10-06</td>\n",
              "      <td>100.0</td>\n",
              "      <td>48.7</td>\n",
              "      <td>53.1</td>\n",
              "    </tr>\n",
              "    <tr>\n",
              "      <th>504</th>\n",
              "      <td>2021-10-06</td>\n",
              "      <td>100.0</td>\n",
              "      <td>48.7</td>\n",
              "      <td>53.1</td>\n",
              "    </tr>\n",
              "    <tr>\n",
              "      <th>505</th>\n",
              "      <td>2021-10-06</td>\n",
              "      <td>100.0</td>\n",
              "      <td>48.7</td>\n",
              "      <td>53.1</td>\n",
              "    </tr>\n",
              "  </tbody>\n",
              "</table>\n",
              "</div>"
            ],
            "text/plain": [
              "       모기지수 발생일  모기지수(수변부)  모기지수(주거지)  모기지수(공원)\n",
              "503  2021-10-06      100.0       48.7      53.1\n",
              "504  2021-10-06      100.0       48.7      53.1\n",
              "505  2021-10-06      100.0       48.7      53.1"
            ]
          },
          "execution_count": 14,
          "metadata": {},
          "output_type": "execute_result"
        }
      ],
      "source": [
        "test[test['모기지수 발생일']=='2021-10-06']"
      ]
    },
    {
      "cell_type": "code",
      "execution_count": null,
      "id": "989fa8c8-86e8-4106-840c-f728c81c1c08",
      "metadata": {
        "id": "989fa8c8-86e8-4106-840c-f728c81c1c08"
      },
      "outputs": [],
      "source": [
        "# 중복값 제거 \n",
        "test.drop_duplicates(inplace=True, keep='first')\n",
        "# 해당 row의 데이터가 모두 똑같을때 제거됩니다\n",
        "\n",
        "# test.drop_duplicates(inplace=True, keep='first',subset=['모기지수 발생일'])\n",
        "# 해당 row 에서 '모기지수 발생일'이 같으면 나머지 데이터가 달라도 제거됩니다. '기준'"
      ]
    },
    {
      "cell_type": "code",
      "execution_count": null,
      "id": "7e884a39-4e75-409e-b912-be3e97524c2b",
      "metadata": {
        "id": "7e884a39-4e75-409e-b912-be3e97524c2b",
        "outputId": "a0e87737-f02f-4291-8e3a-48949222de3c"
      },
      "outputs": [
        {
          "data": {
            "text/html": [
              "<div>\n",
              "<style scoped>\n",
              "    .dataframe tbody tr th:only-of-type {\n",
              "        vertical-align: middle;\n",
              "    }\n",
              "\n",
              "    .dataframe tbody tr th {\n",
              "        vertical-align: top;\n",
              "    }\n",
              "\n",
              "    .dataframe thead th {\n",
              "        text-align: right;\n",
              "    }\n",
              "</style>\n",
              "<table border=\"1\" class=\"dataframe\">\n",
              "  <thead>\n",
              "    <tr style=\"text-align: right;\">\n",
              "      <th></th>\n",
              "      <th>모기지수 발생일</th>\n",
              "      <th>모기지수(수변부)</th>\n",
              "      <th>모기지수(주거지)</th>\n",
              "      <th>모기지수(공원)</th>\n",
              "    </tr>\n",
              "  </thead>\n",
              "  <tbody>\n",
              "    <tr>\n",
              "      <th>503</th>\n",
              "      <td>2021-10-06</td>\n",
              "      <td>100.0</td>\n",
              "      <td>48.7</td>\n",
              "      <td>53.1</td>\n",
              "    </tr>\n",
              "  </tbody>\n",
              "</table>\n",
              "</div>"
            ],
            "text/plain": [
              "       모기지수 발생일  모기지수(수변부)  모기지수(주거지)  모기지수(공원)\n",
              "503  2021-10-06      100.0       48.7      53.1"
            ]
          },
          "execution_count": 16,
          "metadata": {},
          "output_type": "execute_result"
        }
      ],
      "source": [
        "test[test['모기지수 발생일']=='2021-10-06']"
      ]
    },
    {
      "cell_type": "code",
      "execution_count": null,
      "id": "7c2b9faf-d56f-42c4-9f5e-669d73fae7c6",
      "metadata": {
        "id": "7c2b9faf-d56f-42c4-9f5e-669d73fae7c6",
        "outputId": "e86bd0f3-e013-44da-b1e4-e64accb6831d"
      },
      "outputs": [
        {
          "data": {
            "text/html": [
              "<div>\n",
              "<style scoped>\n",
              "    .dataframe tbody tr th:only-of-type {\n",
              "        vertical-align: middle;\n",
              "    }\n",
              "\n",
              "    .dataframe tbody tr th {\n",
              "        vertical-align: top;\n",
              "    }\n",
              "\n",
              "    .dataframe thead th {\n",
              "        text-align: right;\n",
              "    }\n",
              "</style>\n",
              "<table border=\"1\" class=\"dataframe\">\n",
              "  <thead>\n",
              "    <tr style=\"text-align: right;\">\n",
              "      <th></th>\n",
              "      <th>모기지수 발생일</th>\n",
              "      <th>모기지수(수변부)</th>\n",
              "      <th>모기지수(주거지)</th>\n",
              "      <th>모기지수(공원)</th>\n",
              "    </tr>\n",
              "  </thead>\n",
              "  <tbody>\n",
              "    <tr>\n",
              "      <th>2580</th>\n",
              "      <td>1970-01-01</td>\n",
              "      <td>0.0</td>\n",
              "      <td>0.0</td>\n",
              "      <td>0.0</td>\n",
              "    </tr>\n",
              "  </tbody>\n",
              "</table>\n",
              "</div>"
            ],
            "text/plain": [
              "        모기지수 발생일  모기지수(수변부)  모기지수(주거지)  모기지수(공원)\n",
              "2580  1970-01-01        0.0        0.0       0.0"
            ]
          },
          "execution_count": 17,
          "metadata": {},
          "output_type": "execute_result"
        }
      ],
      "source": [
        "test[test['모기지수 발생일']=='1970-01-01']"
      ]
    },
    {
      "cell_type": "code",
      "execution_count": null,
      "id": "357a9ca0-6d43-43ae-862c-3cf33fe429cb",
      "metadata": {
        "id": "357a9ca0-6d43-43ae-862c-3cf33fe429cb",
        "outputId": "de9fe5a4-e127-4bca-e2ed-ee093afe30df"
      },
      "outputs": [
        {
          "data": {
            "text/plain": [
              "2021-01-29    2\n",
              "2022-03-16    2\n",
              "2022-05-05    2\n",
              "2020-04-25    2\n",
              "2020-04-26    2\n",
              "             ..\n",
              "2020-11-22    1\n",
              "2020-11-21    1\n",
              "2020-11-20    1\n",
              "2020-11-19    1\n",
              "1970-01-01    1\n",
              "Name: 모기지수 발생일, Length: 2437, dtype: int64"
            ]
          },
          "execution_count": 19,
          "metadata": {},
          "output_type": "execute_result"
        }
      ],
      "source": [
        "test['모기지수 발생일'].value_counts()"
      ]
    },
    {
      "cell_type": "code",
      "execution_count": null,
      "id": "7a862bad-6adf-4fe9-b580-41d2b4ed442a",
      "metadata": {
        "id": "7a862bad-6adf-4fe9-b580-41d2b4ed442a",
        "outputId": "7deff5e8-84a3-4400-b97a-e612d630ce7e"
      },
      "outputs": [
        {
          "data": {
            "text/html": [
              "<div>\n",
              "<style scoped>\n",
              "    .dataframe tbody tr th:only-of-type {\n",
              "        vertical-align: middle;\n",
              "    }\n",
              "\n",
              "    .dataframe tbody tr th {\n",
              "        vertical-align: top;\n",
              "    }\n",
              "\n",
              "    .dataframe thead th {\n",
              "        text-align: right;\n",
              "    }\n",
              "</style>\n",
              "<table border=\"1\" class=\"dataframe\">\n",
              "  <thead>\n",
              "    <tr style=\"text-align: right;\">\n",
              "      <th></th>\n",
              "      <th>모기지수 발생일</th>\n",
              "      <th>모기지수(수변부)</th>\n",
              "      <th>모기지수(주거지)</th>\n",
              "      <th>모기지수(공원)</th>\n",
              "    </tr>\n",
              "  </thead>\n",
              "  <tbody>\n",
              "    <tr>\n",
              "      <th>778</th>\n",
              "      <td>2021-01-29</td>\n",
              "      <td>2.1</td>\n",
              "      <td>-1.2</td>\n",
              "      <td>-24.3</td>\n",
              "    </tr>\n",
              "    <tr>\n",
              "      <th>779</th>\n",
              "      <td>2021-01-29</td>\n",
              "      <td>2.1</td>\n",
              "      <td>0.0</td>\n",
              "      <td>0.0</td>\n",
              "    </tr>\n",
              "  </tbody>\n",
              "</table>\n",
              "</div>"
            ],
            "text/plain": [
              "       모기지수 발생일  모기지수(수변부)  모기지수(주거지)  모기지수(공원)\n",
              "778  2021-01-29        2.1       -1.2     -24.3\n",
              "779  2021-01-29        2.1        0.0       0.0"
            ]
          },
          "execution_count": 25,
          "metadata": {},
          "output_type": "execute_result"
        }
      ],
      "source": [
        "test[test['모기지수 발생일']=='2021-01-29']\n",
        "# 778 제거"
      ]
    },
    {
      "cell_type": "code",
      "execution_count": null,
      "id": "29546b61-a0b9-4fc7-b96f-19ede63e1296",
      "metadata": {
        "id": "29546b61-a0b9-4fc7-b96f-19ede63e1296",
        "outputId": "09c6a4df-08c4-4a5c-d061-131fec97342c"
      },
      "outputs": [
        {
          "data": {
            "text/html": [
              "<div>\n",
              "<style scoped>\n",
              "    .dataframe tbody tr th:only-of-type {\n",
              "        vertical-align: middle;\n",
              "    }\n",
              "\n",
              "    .dataframe tbody tr th {\n",
              "        vertical-align: top;\n",
              "    }\n",
              "\n",
              "    .dataframe thead th {\n",
              "        text-align: right;\n",
              "    }\n",
              "</style>\n",
              "<table border=\"1\" class=\"dataframe\">\n",
              "  <thead>\n",
              "    <tr style=\"text-align: right;\">\n",
              "      <th></th>\n",
              "      <th>모기지수 발생일</th>\n",
              "      <th>모기지수(수변부)</th>\n",
              "      <th>모기지수(주거지)</th>\n",
              "      <th>모기지수(공원)</th>\n",
              "    </tr>\n",
              "  </thead>\n",
              "  <tbody>\n",
              "    <tr>\n",
              "      <th>338</th>\n",
              "      <td>2022-03-16</td>\n",
              "      <td>39.3</td>\n",
              "      <td>13.1</td>\n",
              "      <td>0.6</td>\n",
              "    </tr>\n",
              "    <tr>\n",
              "      <th>339</th>\n",
              "      <td>2022-03-16</td>\n",
              "      <td>12.1</td>\n",
              "      <td>0.2</td>\n",
              "      <td>0.0</td>\n",
              "    </tr>\n",
              "  </tbody>\n",
              "</table>\n",
              "</div>"
            ],
            "text/plain": [
              "       모기지수 발생일  모기지수(수변부)  모기지수(주거지)  모기지수(공원)\n",
              "338  2022-03-16       39.3       13.1       0.6\n",
              "339  2022-03-16       12.1        0.2       0.0"
            ]
          },
          "execution_count": 24,
          "metadata": {},
          "output_type": "execute_result"
        }
      ],
      "source": [
        "# test[test['모기지수 발생일']=='2022-03-15']\n",
        "test[test['모기지수 발생일']=='2022-03-16']\n",
        "# 339 제거\n",
        "# test[test['모기지수 발생일']=='2022-03-17']"
      ]
    },
    {
      "cell_type": "code",
      "execution_count": null,
      "id": "94f53f73-95e2-4a9c-955c-e8da7c4c48d7",
      "metadata": {
        "id": "94f53f73-95e2-4a9c-955c-e8da7c4c48d7",
        "outputId": "144e2489-2db7-43d3-f19d-0abd349e9653"
      },
      "outputs": [
        {
          "data": {
            "text/html": [
              "<div>\n",
              "<style scoped>\n",
              "    .dataframe tbody tr th:only-of-type {\n",
              "        vertical-align: middle;\n",
              "    }\n",
              "\n",
              "    .dataframe tbody tr th {\n",
              "        vertical-align: top;\n",
              "    }\n",
              "\n",
              "    .dataframe thead th {\n",
              "        text-align: right;\n",
              "    }\n",
              "</style>\n",
              "<table border=\"1\" class=\"dataframe\">\n",
              "  <thead>\n",
              "    <tr style=\"text-align: right;\">\n",
              "      <th></th>\n",
              "      <th>모기지수 발생일</th>\n",
              "      <th>모기지수(수변부)</th>\n",
              "      <th>모기지수(주거지)</th>\n",
              "      <th>모기지수(공원)</th>\n",
              "    </tr>\n",
              "  </thead>\n",
              "  <tbody>\n",
              "    <tr>\n",
              "      <th>287</th>\n",
              "      <td>2022-05-05</td>\n",
              "      <td>62.6</td>\n",
              "      <td>26.8</td>\n",
              "      <td>17.7</td>\n",
              "    </tr>\n",
              "    <tr>\n",
              "      <th>288</th>\n",
              "      <td>2022-05-05</td>\n",
              "      <td>12.1</td>\n",
              "      <td>0.2</td>\n",
              "      <td>0.0</td>\n",
              "    </tr>\n",
              "  </tbody>\n",
              "</table>\n",
              "</div>"
            ],
            "text/plain": [
              "       모기지수 발생일  모기지수(수변부)  모기지수(주거지)  모기지수(공원)\n",
              "287  2022-05-05       62.6       26.8      17.7\n",
              "288  2022-05-05       12.1        0.2       0.0"
            ]
          },
          "execution_count": 28,
          "metadata": {},
          "output_type": "execute_result"
        }
      ],
      "source": [
        "test[test['모기지수 발생일']=='2022-05-05']\n",
        "# 288 제거"
      ]
    },
    {
      "cell_type": "code",
      "execution_count": null,
      "id": "cfb2e29c-c03d-46bd-b40e-352ec3d4d224",
      "metadata": {
        "id": "cfb2e29c-c03d-46bd-b40e-352ec3d4d224",
        "outputId": "b578aa65-742f-40c5-8764-689139fdba42"
      },
      "outputs": [
        {
          "data": {
            "text/html": [
              "<div>\n",
              "<style scoped>\n",
              "    .dataframe tbody tr th:only-of-type {\n",
              "        vertical-align: middle;\n",
              "    }\n",
              "\n",
              "    .dataframe tbody tr th {\n",
              "        vertical-align: top;\n",
              "    }\n",
              "\n",
              "    .dataframe thead th {\n",
              "        text-align: right;\n",
              "    }\n",
              "</style>\n",
              "<table border=\"1\" class=\"dataframe\">\n",
              "  <thead>\n",
              "    <tr style=\"text-align: right;\">\n",
              "      <th></th>\n",
              "      <th>모기지수 발생일</th>\n",
              "      <th>모기지수(수변부)</th>\n",
              "      <th>모기지수(주거지)</th>\n",
              "      <th>모기지수(공원)</th>\n",
              "    </tr>\n",
              "  </thead>\n",
              "  <tbody>\n",
              "    <tr>\n",
              "      <th>1067</th>\n",
              "      <td>2020-04-25</td>\n",
              "      <td>54.7</td>\n",
              "      <td>22.7</td>\n",
              "      <td>32.7</td>\n",
              "    </tr>\n",
              "    <tr>\n",
              "      <th>1068</th>\n",
              "      <td>2020-04-25</td>\n",
              "      <td>36.3</td>\n",
              "      <td>15.0</td>\n",
              "      <td>21.6</td>\n",
              "    </tr>\n",
              "  </tbody>\n",
              "</table>\n",
              "</div>"
            ],
            "text/plain": [
              "        모기지수 발생일  모기지수(수변부)  모기지수(주거지)  모기지수(공원)\n",
              "1067  2020-04-25       54.7       22.7      32.7\n",
              "1068  2020-04-25       36.3       15.0      21.6"
            ]
          },
          "execution_count": 34,
          "metadata": {},
          "output_type": "execute_result"
        }
      ],
      "source": [
        "test[test['모기지수 발생일']=='2020-04-25']\n",
        "# 1068 제거"
      ]
    },
    {
      "cell_type": "code",
      "execution_count": null,
      "id": "0769d34c-d47b-4a48-98b4-06fffc2528bf",
      "metadata": {
        "id": "0769d34c-d47b-4a48-98b4-06fffc2528bf",
        "outputId": "3a274cf2-5fe4-468d-e1b3-8a97d023d86a"
      },
      "outputs": [
        {
          "data": {
            "text/html": [
              "<div>\n",
              "<style scoped>\n",
              "    .dataframe tbody tr th:only-of-type {\n",
              "        vertical-align: middle;\n",
              "    }\n",
              "\n",
              "    .dataframe tbody tr th {\n",
              "        vertical-align: top;\n",
              "    }\n",
              "\n",
              "    .dataframe thead th {\n",
              "        text-align: right;\n",
              "    }\n",
              "</style>\n",
              "<table border=\"1\" class=\"dataframe\">\n",
              "  <thead>\n",
              "    <tr style=\"text-align: right;\">\n",
              "      <th></th>\n",
              "      <th>모기지수 발생일</th>\n",
              "      <th>모기지수(수변부)</th>\n",
              "      <th>모기지수(주거지)</th>\n",
              "      <th>모기지수(공원)</th>\n",
              "    </tr>\n",
              "  </thead>\n",
              "  <tbody>\n",
              "    <tr>\n",
              "      <th>1065</th>\n",
              "      <td>2020-04-26</td>\n",
              "      <td>36.3</td>\n",
              "      <td>15.0</td>\n",
              "      <td>21.6</td>\n",
              "    </tr>\n",
              "    <tr>\n",
              "      <th>1066</th>\n",
              "      <td>2020-04-26</td>\n",
              "      <td>60.7</td>\n",
              "      <td>25.1</td>\n",
              "      <td>36.2</td>\n",
              "    </tr>\n",
              "  </tbody>\n",
              "</table>\n",
              "</div>"
            ],
            "text/plain": [
              "        모기지수 발생일  모기지수(수변부)  모기지수(주거지)  모기지수(공원)\n",
              "1065  2020-04-26       36.3       15.0      21.6\n",
              "1066  2020-04-26       60.7       25.1      36.2"
            ]
          },
          "execution_count": 31,
          "metadata": {},
          "output_type": "execute_result"
        }
      ],
      "source": [
        "test[test['모기지수 발생일']=='2020-04-26']\n",
        "# 1065 제거 "
      ]
    },
    {
      "cell_type": "code",
      "execution_count": null,
      "id": "39b79179-fc89-41da-9a02-93e355067c13",
      "metadata": {
        "id": "39b79179-fc89-41da-9a02-93e355067c13",
        "outputId": "b7f92c76-108a-4113-850f-f54ed2f5bd60"
      },
      "outputs": [
        {
          "data": {
            "text/html": [
              "<div>\n",
              "<style scoped>\n",
              "    .dataframe tbody tr th:only-of-type {\n",
              "        vertical-align: middle;\n",
              "    }\n",
              "\n",
              "    .dataframe tbody tr th {\n",
              "        vertical-align: top;\n",
              "    }\n",
              "\n",
              "    .dataframe thead th {\n",
              "        text-align: right;\n",
              "    }\n",
              "</style>\n",
              "<table border=\"1\" class=\"dataframe\">\n",
              "  <thead>\n",
              "    <tr style=\"text-align: right;\">\n",
              "      <th></th>\n",
              "      <th>모기지수 발생일</th>\n",
              "      <th>모기지수(수변부)</th>\n",
              "      <th>모기지수(주거지)</th>\n",
              "      <th>모기지수(공원)</th>\n",
              "    </tr>\n",
              "  </thead>\n",
              "  <tbody>\n",
              "    <tr>\n",
              "      <th>1063</th>\n",
              "      <td>2020-04-27</td>\n",
              "      <td>71.7</td>\n",
              "      <td>29.7</td>\n",
              "      <td>42.8</td>\n",
              "    </tr>\n",
              "    <tr>\n",
              "      <th>1064</th>\n",
              "      <td>2020-04-27</td>\n",
              "      <td>36.3</td>\n",
              "      <td>15.0</td>\n",
              "      <td>21.6</td>\n",
              "    </tr>\n",
              "  </tbody>\n",
              "</table>\n",
              "</div>"
            ],
            "text/plain": [
              "        모기지수 발생일  모기지수(수변부)  모기지수(주거지)  모기지수(공원)\n",
              "1063  2020-04-27       71.7       29.7      42.8\n",
              "1064  2020-04-27       36.3       15.0      21.6"
            ]
          },
          "execution_count": 32,
          "metadata": {},
          "output_type": "execute_result"
        }
      ],
      "source": [
        "test[test['모기지수 발생일']=='2020-04-27']\n",
        "1064 제거"
      ]
    },
    {
      "cell_type": "code",
      "execution_count": null,
      "id": "f65b1cbe-b96d-46e1-b217-4edb4568677c",
      "metadata": {
        "id": "f65b1cbe-b96d-46e1-b217-4edb4568677c",
        "outputId": "2f33b78e-f39a-4f94-b920-6faf146df2d9"
      },
      "outputs": [
        {
          "data": {
            "text/plain": [
              "2021-01-29    2\n",
              "2022-03-16    2\n",
              "2022-05-05    2\n",
              "2020-04-25    2\n",
              "2020-04-26    2\n",
              "2020-04-27    2\n",
              "Name: 모기지수 발생일, dtype: int64"
            ]
          },
          "execution_count": 36,
          "metadata": {},
          "output_type": "execute_result"
        }
      ],
      "source": [
        "test['모기지수 발생일'].value_counts().loc[lambda x :x >1]"
      ]
    },
    {
      "cell_type": "code",
      "execution_count": null,
      "id": "1f62dbaf-b87f-452b-b8c8-e3c87746ea3d",
      "metadata": {
        "id": "1f62dbaf-b87f-452b-b8c8-e3c87746ea3d",
        "outputId": "0ea09b03-e7fc-4389-95b8-5aa80620be27"
      },
      "outputs": [
        {
          "data": {
            "text/html": [
              "<div>\n",
              "<style scoped>\n",
              "    .dataframe tbody tr th:only-of-type {\n",
              "        vertical-align: middle;\n",
              "    }\n",
              "\n",
              "    .dataframe tbody tr th {\n",
              "        vertical-align: top;\n",
              "    }\n",
              "\n",
              "    .dataframe thead th {\n",
              "        text-align: right;\n",
              "    }\n",
              "</style>\n",
              "<table border=\"1\" class=\"dataframe\">\n",
              "  <thead>\n",
              "    <tr style=\"text-align: right;\">\n",
              "      <th></th>\n",
              "      <th>모기지수 발생일</th>\n",
              "      <th>모기지수(수변부)</th>\n",
              "      <th>모기지수(주거지)</th>\n",
              "      <th>모기지수(공원)</th>\n",
              "    </tr>\n",
              "  </thead>\n",
              "  <tbody>\n",
              "    <tr>\n",
              "      <th>0</th>\n",
              "      <td>2023-02-14</td>\n",
              "      <td>0.0</td>\n",
              "      <td>0.0</td>\n",
              "      <td>0.0</td>\n",
              "    </tr>\n",
              "    <tr>\n",
              "      <th>1</th>\n",
              "      <td>2023-02-13</td>\n",
              "      <td>0.0</td>\n",
              "      <td>0.0</td>\n",
              "      <td>0.0</td>\n",
              "    </tr>\n",
              "    <tr>\n",
              "      <th>2</th>\n",
              "      <td>2023-02-12</td>\n",
              "      <td>0.0</td>\n",
              "      <td>0.0</td>\n",
              "      <td>0.0</td>\n",
              "    </tr>\n",
              "    <tr>\n",
              "      <th>3</th>\n",
              "      <td>2023-02-11</td>\n",
              "      <td>0.0</td>\n",
              "      <td>0.0</td>\n",
              "      <td>0.0</td>\n",
              "    </tr>\n",
              "    <tr>\n",
              "      <th>4</th>\n",
              "      <td>2023-02-10</td>\n",
              "      <td>0.0</td>\n",
              "      <td>0.0</td>\n",
              "      <td>0.0</td>\n",
              "    </tr>\n",
              "    <tr>\n",
              "      <th>...</th>\n",
              "      <td>...</td>\n",
              "      <td>...</td>\n",
              "      <td>...</td>\n",
              "      <td>...</td>\n",
              "    </tr>\n",
              "    <tr>\n",
              "      <th>2576</th>\n",
              "      <td>2016-05-04</td>\n",
              "      <td>256.2</td>\n",
              "      <td>256.2</td>\n",
              "      <td>256.2</td>\n",
              "    </tr>\n",
              "    <tr>\n",
              "      <th>2577</th>\n",
              "      <td>2016-05-03</td>\n",
              "      <td>304.0</td>\n",
              "      <td>304.0</td>\n",
              "      <td>304.0</td>\n",
              "    </tr>\n",
              "    <tr>\n",
              "      <th>2578</th>\n",
              "      <td>2016-05-02</td>\n",
              "      <td>273.5</td>\n",
              "      <td>273.5</td>\n",
              "      <td>273.5</td>\n",
              "    </tr>\n",
              "    <tr>\n",
              "      <th>2579</th>\n",
              "      <td>2016-05-01</td>\n",
              "      <td>254.4</td>\n",
              "      <td>254.4</td>\n",
              "      <td>254.4</td>\n",
              "    </tr>\n",
              "    <tr>\n",
              "      <th>2580</th>\n",
              "      <td>1970-01-01</td>\n",
              "      <td>0.0</td>\n",
              "      <td>0.0</td>\n",
              "      <td>0.0</td>\n",
              "    </tr>\n",
              "  </tbody>\n",
              "</table>\n",
              "<p>2443 rows × 4 columns</p>\n",
              "</div>"
            ],
            "text/plain": [
              "        모기지수 발생일  모기지수(수변부)  모기지수(주거지)  모기지수(공원)\n",
              "0     2023-02-14        0.0        0.0       0.0\n",
              "1     2023-02-13        0.0        0.0       0.0\n",
              "2     2023-02-12        0.0        0.0       0.0\n",
              "3     2023-02-11        0.0        0.0       0.0\n",
              "4     2023-02-10        0.0        0.0       0.0\n",
              "...          ...        ...        ...       ...\n",
              "2576  2016-05-04      256.2      256.2     256.2\n",
              "2577  2016-05-03      304.0      304.0     304.0\n",
              "2578  2016-05-02      273.5      273.5     273.5\n",
              "2579  2016-05-01      254.4      254.4     254.4\n",
              "2580  1970-01-01        0.0        0.0       0.0\n",
              "\n",
              "[2443 rows x 4 columns]"
            ]
          },
          "execution_count": 37,
          "metadata": {},
          "output_type": "execute_result"
        }
      ],
      "source": [
        "test"
      ]
    },
    {
      "cell_type": "code",
      "execution_count": null,
      "id": "0995cc17-c14d-402b-8f37-177dcc1ba2d0",
      "metadata": {
        "id": "0995cc17-c14d-402b-8f37-177dcc1ba2d0"
      },
      "outputs": [],
      "source": [
        "test.drop([1064,1065,1068,288,339,778,2580], axis=0, inplace=True)"
      ]
    },
    {
      "cell_type": "code",
      "execution_count": null,
      "id": "ecf6bbfd-9cb7-487e-b770-09b1fba603d1",
      "metadata": {
        "id": "ecf6bbfd-9cb7-487e-b770-09b1fba603d1",
        "outputId": "a8ca29b7-2c75-443c-ae78-6fed8c932d8a"
      },
      "outputs": [
        {
          "data": {
            "text/plain": [
              "2023-02-14    1\n",
              "2018-07-25    1\n",
              "2018-08-01    1\n",
              "2018-07-31    1\n",
              "2018-07-30    1\n",
              "             ..\n",
              "2020-11-24    1\n",
              "2020-11-23    1\n",
              "2020-11-22    1\n",
              "2020-11-21    1\n",
              "2016-05-01    1\n",
              "Name: 모기지수 발생일, Length: 2436, dtype: int64"
            ]
          },
          "execution_count": 39,
          "metadata": {},
          "output_type": "execute_result"
        }
      ],
      "source": [
        "test['모기지수 발생일'].value_counts()"
      ]
    },
    {
      "cell_type": "code",
      "execution_count": null,
      "id": "0295b71f-db2d-4a02-a33c-9fcfa5c05600",
      "metadata": {
        "id": "0295b71f-db2d-4a02-a33c-9fcfa5c05600"
      },
      "outputs": [],
      "source": []
    }
  ],
  "metadata": {
    "kernelspec": {
      "display_name": "Python 3 (ipykernel)",
      "language": "python",
      "name": "python3"
    },
    "language_info": {
      "codemirror_mode": {
        "name": "ipython",
        "version": 3
      },
      "file_extension": ".py",
      "mimetype": "text/x-python",
      "name": "python",
      "nbconvert_exporter": "python",
      "pygments_lexer": "ipython3",
      "version": "3.9.13"
    },
    "colab": {
      "provenance": []
    }
  },
  "nbformat": 4,
  "nbformat_minor": 5
}