{
 "cells": [
  {
   "cell_type": "markdown",
   "metadata": {},
   "source": [
    "## \"서울시 지하철호선별 역별 승하차 인원 정보 데이터\" 전처리 과정\n",
    "- 해당 데이터를 가공하여 연습문제를 푸는 것이 목표 입니다.\n",
    "- 다양한 데이터를 통한 반복 연습으로 데이터 전처리에 더욱 능숙해질 수 있도록 하겠습니다.\n",
    "- EDA를 통해 데이터를 이해하기 위한 전 단계입니다."
   ]
  },
  {
   "cell_type": "markdown",
   "metadata": {},
   "source": [
    "### 실습 데이터 안내\n",
    "- 지하철 승하차 이용객 데이터 : 2022.01.01 ~ 2022.12.31 \n",
    "- 서울 열린데이터 광장 : http://data.seoul.go.kr/dataList/OA-12914/A/1/datasetView.do\n",
    "- \"CARD_SUBWAY_MONTH_2022.csv\" 파일을 다운로드 받아 진행하면 됩니다."
   ]
  },
  {
   "cell_type": "markdown",
   "metadata": {},
   "source": [
    "## 데이터 전처리 실습을 통해 해결해야 할 질문들\n",
    "\n",
    "- 실습문제 1. 요일 추가 하기\n",
    " \n",
    "- 실습문제 2. 일자별(일별) 승하차총승객수를 구하시오.\n",
    "\n",
    "- 실습문제 3. 2022.01월 ~ 12월 중 언제 지하철을 가장 많이 이용했을까? (기준: 승하차총승객수)\n",
    "\n",
    "- 실습문제 4. 어느 요일에 가장 지하철 승객 수가 많을까? (기준: 승하차총승객수, 2022년 전체)\n",
    "\n",
    "- 실습문제 5. 가장 승객이 많이 타는 승차역은?\n",
    "\n",
    "- 실습문제 6. 노선별로 역별/요일별 승차승객수를 구하시오.(pivot_table)\n",
    "\n",
    "- 실습문제 7. 1호선에서 가장 하차를 많이 하는 역은? (groupby)\n",
    "\n",
    "- 실습문제 8. 2호선중에서 어느 역에서 승차가 가장 많이 발생할까?"
   ]
  },
  {
   "cell_type": "code",
   "execution_count": null,
   "metadata": {},
   "outputs": [],
   "source": [
    "# 필요한 라이브러리 불러오기\n",
    "import pandas as pd"
   ]
  },
  {
   "cell_type": "code",
   "execution_count": null,
   "metadata": {},
   "outputs": [],
   "source": [
    "# 데이터 불러오기\n"
   ]
  },
  {
   "cell_type": "code",
   "execution_count": null,
   "metadata": {},
   "outputs": [],
   "source": [
    "# 데이터 불러오기 index_col\n"
   ]
  },
  {
   "cell_type": "code",
   "execution_count": null,
   "metadata": {},
   "outputs": [],
   "source": [
    "# subway에 저장\n",
    "subway = "
   ]
  },
  {
   "cell_type": "code",
   "execution_count": null,
   "metadata": {},
   "outputs": [],
   "source": [
    "# 데이터 기본 정보 확인하기\n"
   ]
  },
  {
   "cell_type": "code",
   "execution_count": null,
   "metadata": {},
   "outputs": [],
   "source": [
    "# 데이터 기본 정보 확인하기\n"
   ]
  },
  {
   "cell_type": "markdown",
   "metadata": {},
   "source": [
    "#### 실습문제 1. 요일 추가하기"
   ]
  },
  {
   "cell_type": "code",
   "execution_count": null,
   "metadata": {},
   "outputs": [],
   "source": [
    "# '사용일자' 타입 int64 --> DateTime 타입으로 변경 : pandas.to_datetime 사용\n",
    "\n"
   ]
  },
  {
   "cell_type": "code",
   "execution_count": null,
   "metadata": {},
   "outputs": [],
   "source": [
    "# 사용일자에서 요일로 변환\n"
   ]
  },
  {
   "cell_type": "code",
   "execution_count": null,
   "metadata": {},
   "outputs": [],
   "source": [
    "#### pandas.Series.dt\n",
    "# - 참고 사이트 : https://pandas.pydata.org/docs/reference/api/pandas.Series.dt.dayofweek.html\n",
    "#  - pandas.Series.dt.year\n",
    "#  - pandas.Series.dt.month\n",
    "#  - pandas.Series.dt.day\n",
    "#  - pandas.Series.dt.time\n",
    "#  - pandas.Series.dt.date"
   ]
  },
  {
   "cell_type": "code",
   "execution_count": null,
   "metadata": {},
   "outputs": [],
   "source": [
    "conv = {\n",
    "    0 : '일',\n",
    "    1 : '월',\n",
    "    2 : '화',\n",
    "    3 : '수',\n",
    "    4 : '목',\n",
    "    5 : '금',\n",
    "    6 : '토'\n",
    "}\n",
    "\n",
    "# 숫자 요일을 한글명 요일로 변경\n",
    "subway['요일'] = subway['요일'].map(conv)"
   ]
  },
  {
   "cell_type": "code",
   "execution_count": null,
   "metadata": {},
   "outputs": [],
   "source": [
    "subway.sample(5)"
   ]
  },
  {
   "cell_type": "markdown",
   "metadata": {},
   "source": [
    "#### 실습문제 2. 일자별(일별) 승하차총승객수를 구하시오."
   ]
  },
  {
   "cell_type": "code",
   "execution_count": null,
   "metadata": {},
   "outputs": [],
   "source": [
    "# '승하차총승객수' column 생성 : 승차총승객수 + 하차총승객수\n",
    "\n"
   ]
  },
  {
   "cell_type": "code",
   "execution_count": null,
   "metadata": {},
   "outputs": [],
   "source": [
    "# Groupby 함수를 이용해서 사용일자 별로 승차총승객수 합계 보기\n",
    "\n"
   ]
  },
  {
   "cell_type": "markdown",
   "metadata": {},
   "source": [
    "#### 실습문제 3. 2022.01월 ~ 12월 중 어느 날 지하철을 가장 많이 이용했을까? (기준: 승하차총승객수)"
   ]
  },
  {
   "cell_type": "code",
   "execution_count": null,
   "metadata": {},
   "outputs": [],
   "source": [
    "# 2022.01월 ~ 12월 중 어느 날 지하철을 가장 많이 이용했을까? (기준: 승하차총승객수)\n",
    "\n"
   ]
  },
  {
   "cell_type": "markdown",
   "metadata": {},
   "source": [
    "#### 실습문제 4. 어느 월에 가장 지하철 승객 수가 많을까? (기준: 승하차총승객수, 2022년 전체)"
   ]
  },
  {
   "cell_type": "code",
   "execution_count": null,
   "metadata": {},
   "outputs": [],
   "source": [
    "# 월 column 생성\n",
    "# pandas.Series.dt.strftime 활용\n"
   ]
  },
  {
   "cell_type": "code",
   "execution_count": null,
   "metadata": {},
   "outputs": [],
   "source": [
    "# Groupby 활용\n"
   ]
  },
  {
   "cell_type": "code",
   "execution_count": null,
   "metadata": {},
   "outputs": [],
   "source": [
    "# pivot_table 활용\n"
   ]
  },
  {
   "cell_type": "markdown",
   "metadata": {},
   "source": [
    "#### 실습문제 5. 어느 요일에 가장 지하철 승객 수가 많을까? (기준: 승하차총승객수, 2022년 전체)"
   ]
  },
  {
   "cell_type": "code",
   "execution_count": null,
   "metadata": {},
   "outputs": [],
   "source": [
    "# 어느 요일에 가장 지하철 승객 수가 많을까? (기준 :승하차총승객수, 2022년 전체)\n",
    "# Groupby 함수를 이용해서 요일별로 승차총승객수 합계 보기\n"
   ]
  },
  {
   "cell_type": "markdown",
   "metadata": {},
   "source": [
    "#### 실습문제 6. 가장 승객이 많이 타는 승차역은?"
   ]
  },
  {
   "cell_type": "code",
   "execution_count": null,
   "metadata": {},
   "outputs": [],
   "source": [
    "# Groupby 함수를 이용\n"
   ]
  },
  {
   "cell_type": "markdown",
   "metadata": {},
   "source": [
    "#### 실습문제 7. 2호선의 역별/요일별 총승차승객수를 구하시오 (row :역명 / column : 요일)"
   ]
  },
  {
   "cell_type": "code",
   "execution_count": null,
   "metadata": {},
   "outputs": [],
   "source": [
    "# pivot_table 활용\n"
   ]
  },
  {
   "cell_type": "markdown",
   "metadata": {},
   "source": [
    "#### 실습문제 8. 2호선에서 가장 하차를 많이 하는 역은?"
   ]
  },
  {
   "cell_type": "code",
   "execution_count": null,
   "metadata": {},
   "outputs": [],
   "source": [
    "# Groupby 함수를 이용\n"
   ]
  },
  {
   "cell_type": "markdown",
   "metadata": {},
   "source": [
    "#### 실습문제 9. 2호선중에서 어느 역에서 승차가 가장 많이 발생할까? "
   ]
  },
  {
   "cell_type": "code",
   "execution_count": null,
   "metadata": {},
   "outputs": [],
   "source": [
    "# Groupby 함수를 이용\n"
   ]
  }
 ],
 "metadata": {
  "kernelspec": {
   "display_name": "Python 3 (ipykernel)",
   "language": "python",
   "name": "python3"
  },
  "language_info": {
   "codemirror_mode": {
    "name": "ipython",
    "version": 3
   },
   "file_extension": ".py",
   "mimetype": "text/x-python",
   "name": "python",
   "nbconvert_exporter": "python",
   "pygments_lexer": "ipython3",
   "version": "3.9.13"
  },
  "vscode": {
   "interpreter": {
    "hash": "136ac6390a149cc93e6470a8f7f2b930c2fa00ca17cae58650efc746ba1de66d"
   }
  }
 },
 "nbformat": 4,
 "nbformat_minor": 4
}
