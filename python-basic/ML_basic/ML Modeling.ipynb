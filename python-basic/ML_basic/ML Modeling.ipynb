{
 "cells": [
  {
   "cell_type": "markdown",
   "metadata": {},
   "source": [
    "** 스마트워치 센서 데이터 기반 행동 분류 2일차 **\n",
    "# --------- 미션3 : 다양한 모델 사용하기 ---------"
   ]
  },
  {
   "cell_type": "markdown",
   "metadata": {},
   "source": [
    "<span style=\"background-color:#fff5b1\"><span style=\"color:black\"><U>※ 미션완수 조건: SVM, KNN, Logistic Regression, GBM, XGBoost 알고리즘으로 모델링을 수행하고 예측 정확도를 도출하여 resualt 변수에 저장하고 가장 성능이 좋은 모델을 선정해 보세요.<U></span></span>"
   ]
  },
  {
   "cell_type": "markdown",
   "metadata": {},
   "source": [
    "<span style=\"background-color:#fff5b1\"><span style=\"color:red\"><U>※ 함수/변수명, 데이터 타입 잘 확인하고 코드를 작성하세요 <U></span></span>"
   ]
  },
  {
   "cell_type": "markdown",
   "metadata": {},
   "source": [
    "<span style=\"background-color:#fff5b1\"><span style=\"color:red\"><U>※ GBM 모델 학습시 시간이 오래 걸리므로 화장실 다녀오기에 좋습니다.(약 15분 소요) <U></span></span>"
   ]
  },
  {
   "cell_type": "markdown",
   "metadata": {},
   "source": [
    "---"
   ]
  },
  {
   "cell_type": "markdown",
   "metadata": {},
   "source": [
    "### (1) 데이터 불러오기"
   ]
  },
  {
   "cell_type": "code",
   "execution_count": 1,
   "metadata": {
    "id": "3rsQerEaELwI",
    "tags": []
   },
   "outputs": [],
   "source": [
    "# pandas, numpy, matplotlib, seaborn, os 등 필요 라이브러리 호출\n",
    "# 데이터를 나누기 위한 sklearn.model_selection 모듈의 train_test_split 함수 사용\n",
    "# 모델 성능 평가 출력을 위해 sklearn.metrics 모듈의 모든 클래스 사용\n",
    "\n",
    "import pandas as pd\n",
    "import numpy as np\n",
    "import matplotlib.pyplot  as plt\n",
    "import seaborn as sns\n",
    "import os\n",
    "\n",
    "\n",
    "from sklearn.model_selection import train_test_split\n",
    "from sklearn.metrics import *\n",
    "import warnings\n",
    "warnings.filterwarnings(action='ignore')\n",
    "%config InlineBackend.figure_format = 'retina'\n",
    "\n",
    "from sklearn.svm import SVC\n",
    "from sklearn.neighbors import KNeighborsClassifier\n",
    "from sklearn.tree import DecisionTreeClassifier\n",
    "from sklearn.linear_model import LogisticRegression\n",
    "from sklearn.svm import SVC\n",
    "from sklearn.ensemble import RandomForestClassifier\n",
    "from xgboost import XGBClassifier\n",
    "from lightgbm import LGBMClassifier\n",
    "from sklearn.ensemble import GradientBoostingClassifier\n",
    "\n",
    "from sklearn.model_selection import cross_val_score, GridSearchCV\n",
    "from sklearn.metrics import confusion_matrix, classification_report"
   ]
  },
  {
   "cell_type": "markdown",
   "metadata": {},
   "source": [
    "* train 데이터 불러오기"
   ]
  },
  {
   "cell_type": "code",
   "execution_count": 2,
   "metadata": {
    "tags": []
   },
   "outputs": [
    {
     "data": {
      "text/html": [
       "<div>\n",
       "<style scoped>\n",
       "    .dataframe tbody tr th:only-of-type {\n",
       "        vertical-align: middle;\n",
       "    }\n",
       "\n",
       "    .dataframe tbody tr th {\n",
       "        vertical-align: top;\n",
       "    }\n",
       "\n",
       "    .dataframe thead th {\n",
       "        text-align: right;\n",
       "    }\n",
       "</style>\n",
       "<table border=\"1\" class=\"dataframe\">\n",
       "  <thead>\n",
       "    <tr style=\"text-align: right;\">\n",
       "      <th></th>\n",
       "      <th>tBodyAcc-mean()-X</th>\n",
       "      <th>tBodyAcc-mean()-Y</th>\n",
       "      <th>tBodyAcc-mean()-Z</th>\n",
       "      <th>tBodyAcc-std()-X</th>\n",
       "      <th>tBodyAcc-std()-Y</th>\n",
       "      <th>tBodyAcc-std()-Z</th>\n",
       "      <th>tBodyAcc-mad()-X</th>\n",
       "      <th>tBodyAcc-mad()-Y</th>\n",
       "      <th>tBodyAcc-mad()-Z</th>\n",
       "      <th>tBodyAcc-max()-X</th>\n",
       "      <th>...</th>\n",
       "      <th>fBodyBodyGyroJerkMag-skewness()</th>\n",
       "      <th>fBodyBodyGyroJerkMag-kurtosis()</th>\n",
       "      <th>angle(tBodyAccMean,gravity)</th>\n",
       "      <th>angle(tBodyAccJerkMean),gravityMean)</th>\n",
       "      <th>angle(tBodyGyroMean,gravityMean)</th>\n",
       "      <th>angle(tBodyGyroJerkMean,gravityMean)</th>\n",
       "      <th>angle(X,gravityMean)</th>\n",
       "      <th>angle(Y,gravityMean)</th>\n",
       "      <th>angle(Z,gravityMean)</th>\n",
       "      <th>Activity</th>\n",
       "    </tr>\n",
       "  </thead>\n",
       "  <tbody>\n",
       "    <tr>\n",
       "      <th>0</th>\n",
       "      <td>0.288508</td>\n",
       "      <td>-0.009196</td>\n",
       "      <td>-0.103362</td>\n",
       "      <td>-0.988986</td>\n",
       "      <td>-0.962797</td>\n",
       "      <td>-0.967422</td>\n",
       "      <td>-0.989000</td>\n",
       "      <td>-0.962596</td>\n",
       "      <td>-0.965650</td>\n",
       "      <td>-0.929747</td>\n",
       "      <td>...</td>\n",
       "      <td>-0.487737</td>\n",
       "      <td>-0.816696</td>\n",
       "      <td>-0.042494</td>\n",
       "      <td>-0.044218</td>\n",
       "      <td>0.307873</td>\n",
       "      <td>0.072790</td>\n",
       "      <td>-0.601120</td>\n",
       "      <td>0.331298</td>\n",
       "      <td>0.165163</td>\n",
       "      <td>STANDING</td>\n",
       "    </tr>\n",
       "    <tr>\n",
       "      <th>1</th>\n",
       "      <td>0.265757</td>\n",
       "      <td>-0.016576</td>\n",
       "      <td>-0.098163</td>\n",
       "      <td>-0.989551</td>\n",
       "      <td>-0.994636</td>\n",
       "      <td>-0.987435</td>\n",
       "      <td>-0.990189</td>\n",
       "      <td>-0.993870</td>\n",
       "      <td>-0.987558</td>\n",
       "      <td>-0.937337</td>\n",
       "      <td>...</td>\n",
       "      <td>-0.237820</td>\n",
       "      <td>-0.693515</td>\n",
       "      <td>-0.062899</td>\n",
       "      <td>0.388459</td>\n",
       "      <td>-0.765014</td>\n",
       "      <td>0.771524</td>\n",
       "      <td>0.345205</td>\n",
       "      <td>-0.769186</td>\n",
       "      <td>-0.147944</td>\n",
       "      <td>LAYING</td>\n",
       "    </tr>\n",
       "    <tr>\n",
       "      <th>2</th>\n",
       "      <td>0.278709</td>\n",
       "      <td>-0.014511</td>\n",
       "      <td>-0.108717</td>\n",
       "      <td>-0.997720</td>\n",
       "      <td>-0.981088</td>\n",
       "      <td>-0.994008</td>\n",
       "      <td>-0.997934</td>\n",
       "      <td>-0.982187</td>\n",
       "      <td>-0.995017</td>\n",
       "      <td>-0.942584</td>\n",
       "      <td>...</td>\n",
       "      <td>-0.535287</td>\n",
       "      <td>-0.829311</td>\n",
       "      <td>0.000265</td>\n",
       "      <td>-0.525022</td>\n",
       "      <td>-0.891875</td>\n",
       "      <td>0.021528</td>\n",
       "      <td>-0.833564</td>\n",
       "      <td>0.202434</td>\n",
       "      <td>-0.032755</td>\n",
       "      <td>STANDING</td>\n",
       "    </tr>\n",
       "    <tr>\n",
       "      <th>3</th>\n",
       "      <td>0.289795</td>\n",
       "      <td>-0.035536</td>\n",
       "      <td>-0.150354</td>\n",
       "      <td>-0.231727</td>\n",
       "      <td>-0.006412</td>\n",
       "      <td>-0.338117</td>\n",
       "      <td>-0.273557</td>\n",
       "      <td>0.014245</td>\n",
       "      <td>-0.347916</td>\n",
       "      <td>0.008288</td>\n",
       "      <td>...</td>\n",
       "      <td>-0.004012</td>\n",
       "      <td>-0.408956</td>\n",
       "      <td>-0.255125</td>\n",
       "      <td>0.612804</td>\n",
       "      <td>0.747381</td>\n",
       "      <td>-0.072944</td>\n",
       "      <td>-0.695819</td>\n",
       "      <td>0.287154</td>\n",
       "      <td>0.111388</td>\n",
       "      <td>WALKING</td>\n",
       "    </tr>\n",
       "    <tr>\n",
       "      <th>4</th>\n",
       "      <td>0.394807</td>\n",
       "      <td>0.034098</td>\n",
       "      <td>0.091229</td>\n",
       "      <td>0.088489</td>\n",
       "      <td>-0.106636</td>\n",
       "      <td>-0.388502</td>\n",
       "      <td>-0.010469</td>\n",
       "      <td>-0.109680</td>\n",
       "      <td>-0.346372</td>\n",
       "      <td>0.584131</td>\n",
       "      <td>...</td>\n",
       "      <td>-0.157832</td>\n",
       "      <td>-0.563437</td>\n",
       "      <td>-0.044344</td>\n",
       "      <td>-0.845268</td>\n",
       "      <td>-0.974650</td>\n",
       "      <td>-0.887846</td>\n",
       "      <td>-0.705029</td>\n",
       "      <td>0.264952</td>\n",
       "      <td>0.137758</td>\n",
       "      <td>WALKING_DOWNSTAIRS</td>\n",
       "    </tr>\n",
       "  </tbody>\n",
       "</table>\n",
       "<p>5 rows × 562 columns</p>\n",
       "</div>"
      ],
      "text/plain": [
       "   tBodyAcc-mean()-X  tBodyAcc-mean()-Y  tBodyAcc-mean()-Z  tBodyAcc-std()-X  \\\n",
       "0           0.288508          -0.009196          -0.103362         -0.988986   \n",
       "1           0.265757          -0.016576          -0.098163         -0.989551   \n",
       "2           0.278709          -0.014511          -0.108717         -0.997720   \n",
       "3           0.289795          -0.035536          -0.150354         -0.231727   \n",
       "4           0.394807           0.034098           0.091229          0.088489   \n",
       "\n",
       "   tBodyAcc-std()-Y  tBodyAcc-std()-Z  tBodyAcc-mad()-X  tBodyAcc-mad()-Y  \\\n",
       "0         -0.962797         -0.967422         -0.989000         -0.962596   \n",
       "1         -0.994636         -0.987435         -0.990189         -0.993870   \n",
       "2         -0.981088         -0.994008         -0.997934         -0.982187   \n",
       "3         -0.006412         -0.338117         -0.273557          0.014245   \n",
       "4         -0.106636         -0.388502         -0.010469         -0.109680   \n",
       "\n",
       "   tBodyAcc-mad()-Z  tBodyAcc-max()-X  ...  fBodyBodyGyroJerkMag-skewness()  \\\n",
       "0         -0.965650         -0.929747  ...                        -0.487737   \n",
       "1         -0.987558         -0.937337  ...                        -0.237820   \n",
       "2         -0.995017         -0.942584  ...                        -0.535287   \n",
       "3         -0.347916          0.008288  ...                        -0.004012   \n",
       "4         -0.346372          0.584131  ...                        -0.157832   \n",
       "\n",
       "   fBodyBodyGyroJerkMag-kurtosis()  angle(tBodyAccMean,gravity)  \\\n",
       "0                        -0.816696                    -0.042494   \n",
       "1                        -0.693515                    -0.062899   \n",
       "2                        -0.829311                     0.000265   \n",
       "3                        -0.408956                    -0.255125   \n",
       "4                        -0.563437                    -0.044344   \n",
       "\n",
       "   angle(tBodyAccJerkMean),gravityMean)  angle(tBodyGyroMean,gravityMean)  \\\n",
       "0                             -0.044218                          0.307873   \n",
       "1                              0.388459                         -0.765014   \n",
       "2                             -0.525022                         -0.891875   \n",
       "3                              0.612804                          0.747381   \n",
       "4                             -0.845268                         -0.974650   \n",
       "\n",
       "   angle(tBodyGyroJerkMean,gravityMean)  angle(X,gravityMean)  \\\n",
       "0                              0.072790             -0.601120   \n",
       "1                              0.771524              0.345205   \n",
       "2                              0.021528             -0.833564   \n",
       "3                             -0.072944             -0.695819   \n",
       "4                             -0.887846             -0.705029   \n",
       "\n",
       "   angle(Y,gravityMean)  angle(Z,gravityMean)            Activity  \n",
       "0              0.331298              0.165163            STANDING  \n",
       "1             -0.769186             -0.147944              LAYING  \n",
       "2              0.202434             -0.032755            STANDING  \n",
       "3              0.287154              0.111388             WALKING  \n",
       "4              0.264952              0.137758  WALKING_DOWNSTAIRS  \n",
       "\n",
       "[5 rows x 562 columns]"
      ]
     },
     "execution_count": 2,
     "metadata": {},
     "output_type": "execute_result"
    }
   ],
   "source": [
    "# data 변수에 train_data.csv 파일을 불러와서 할당\n",
    "# train_data.csv 파일은 현재위치의 하위 data 폴더안에 있습니다.\n",
    "# 잘 할당 되었는지 데이터 확인\n",
    "\n",
    "data = pd.read_csv('train_data.csv')\n",
    "\n",
    "# data 변수(데이터셋)에서 행동분류에 불필요한 'subject'열 제거\n",
    "# 'subject'열이 잘 제거 되었는지 확인\n",
    "\n",
    "data.drop('subject', axis=True, inplace=True)\n",
    "\n",
    "data.head()"
   ]
  },
  {
   "cell_type": "markdown",
   "metadata": {},
   "source": [
    "* 학습용 데이터 나누기"
   ]
  },
  {
   "cell_type": "code",
   "execution_count": 3,
   "metadata": {},
   "outputs": [],
   "source": [
    "# 모델 학습을 위한 데이터 나누기\n",
    "# x, y 데이터 나누기 (target = 'Activity')\n",
    "# 학습 데이터 분할 비율: 학습데이터 7 : 검증데이터 3\n",
    "# random_state=2023\n",
    "\n",
    "y = data['Activity']\n",
    "x = data.drop('Activity', axis=1)\n",
    "x_train, x_val, y_train, y_val = train_test_split(x,y,train_size=0.7,random_state=2023)"
   ]
  },
  {
   "cell_type": "markdown",
   "metadata": {},
   "source": [
    "### (2) 다양한 모델링"
   ]
  },
  {
   "cell_type": "markdown",
   "metadata": {},
   "source": [
    "\t- 실습순서: SVM 모델링-> KNN 모델링 -> Logistic Regression 모델링 -> GBM 모델링 -> XGBoost 모델링"
   ]
  },
  {
   "cell_type": "markdown",
   "metadata": {},
   "source": [
    "# K-분할 교차 검증으로 모델 성능 예측"
   ]
  },
  {
   "cell_type": "markdown",
   "metadata": {},
   "source": [
    "### (1) SVM"
   ]
  },
  {
   "cell_type": "code",
   "execution_count": null,
   "metadata": {},
   "outputs": [],
   "source": [
    "\n",
    "# 선언하기 \n",
    "model = SVC(random_state=2023)\n",
    "\n",
    "# 검증하기\n",
    "cv_score = cross_val_score(model, x_train, y_train, cv = 10,scoring = 'accuracy')\n",
    "\n",
    "# 확인\n",
    "print(cv_score)\n",
    "print('평균:', cv_score.mean())\n",
    "\n",
    "#성능정보 수집\n",
    "cv_result ={}\n",
    "\n",
    "cv_result['SVC'] = cv_score.mean()\n",
    "\n",
    "print(result)"
   ]
  },
  {
   "cell_type": "markdown",
   "metadata": {},
   "source": [
    "### (2) KNN"
   ]
  },
  {
   "cell_type": "code",
   "execution_count": null,
   "metadata": {},
   "outputs": [],
   "source": [
    "# 선언하기 \n",
    "model = KNeighborsClassifier(n_neighbors=5)\n",
    "\n",
    "# 검증하기\n",
    "cv_score = cross_val_score(model, x_train, y_train, cv = 10, scoring = 'accuracy')\n",
    "\n",
    "# 확인\n",
    "print(cv_score)\n",
    "print('평균:', cv_score.mean())\n",
    "\n",
    "#성능정보 수집\n",
    "\n",
    "cv_result['KNN'] = cv_score.mean()\n",
    "print(cv_result)"
   ]
  },
  {
   "cell_type": "markdown",
   "metadata": {},
   "source": [
    "### (3) Logistic Regression"
   ]
  },
  {
   "cell_type": "code",
   "execution_count": null,
   "metadata": {},
   "outputs": [],
   "source": [
    "# 선언하기 \n",
    "\n",
    "model = LogisticRegression()\n",
    "\n",
    "# 검증하기\n",
    "cv_score = cross_val_score(model, x_train, y_train, cv = 10, scoring = 'accuracy')\n",
    "\n",
    "# 확인\n",
    "print(cv_score)\n",
    "print('평균:', cv_score.mean())\n",
    "\n",
    "#성능정보 수집\n",
    "\n",
    "cv_result['Logistic Regression'] = cv_score.mean()\n",
    "print(cv_result)"
   ]
  },
  {
   "cell_type": "markdown",
   "metadata": {},
   "source": [
    "### (4) GBM "
   ]
  },
  {
   "cell_type": "code",
   "execution_count": null,
   "metadata": {},
   "outputs": [],
   "source": [
    "# 선언하기 \n",
    "\n",
    "model = GradientBoostingClassifier()\n",
    "\n",
    "# 검증하기\n",
    "cv_score = cross_val_score(model, x_train, y_train, cv = 10, scoring = 'accuracy')\n",
    "\n",
    "# 확인\n",
    "print(cv_score)\n",
    "print('평균:', cv_score.mean())\n",
    "\n",
    "#성능정보 수집\n",
    "\n",
    "cv_result['GBM'] = cv_score.mean()\n",
    "print(cv_result)"
   ]
  },
  {
   "cell_type": "markdown",
   "metadata": {},
   "source": [
    "### (5) XGBoost "
   ]
  },
  {
   "cell_type": "code",
   "execution_count": null,
   "metadata": {},
   "outputs": [],
   "source": [
    "model = XGBClassifier(max_depth = 5, random_state= 2023)\n",
    "\n",
    "# 검증하기\n",
    "cv_score = cross_val_score(model, x_train, y_train, cv = 10, scoring = 'accuracy')\n",
    "\n",
    "# 확인\n",
    "print(cv_score)\n",
    "print('평균:', cv_score.mean())\n",
    "\n",
    "#성능정보 수집\n",
    "\n",
    "cv_result['GBM'] = cv_score.mean()\n",
    "print(cv_result)"
   ]
  },
  {
   "cell_type": "code",
   "execution_count": null,
   "metadata": {},
   "outputs": [],
   "source": []
  },
  {
   "cell_type": "markdown",
   "metadata": {},
   "source": [
    "# 실제 학습 및 성능 평가"
   ]
  },
  {
   "cell_type": "markdown",
   "metadata": {},
   "source": [
    "### (1) SVM"
   ]
  },
  {
   "cell_type": "code",
   "execution_count": 4,
   "metadata": {},
   "outputs": [
    {
     "data": {
      "text/plain": [
       "array(['WALKING', 'STANDING', 'LAYING', ..., 'WALKING', 'WALKING',\n",
       "       'LAYING'], dtype=object)"
      ]
     },
     "execution_count": 4,
     "metadata": {},
     "output_type": "execute_result"
    }
   ],
   "source": [
    "# 모델 초기화,학습,예측(파라미터 기본값 사용 = 파라미터 기입X)\n",
    "# AI모델 변수명: svc_model , 예측결과 변수명: svc_pred\n",
    "# random_state=2023\n",
    "\n",
    "svc_model = SVC(random_state=2023)\n",
    "svc_model.fit(x_train, y_train)\n",
    "svc_pred = svc_model.predict(x_val)\n",
    "svc_pred"
   ]
  },
  {
   "cell_type": "code",
   "execution_count": 5,
   "metadata": {},
   "outputs": [
    {
     "name": "stdout",
     "output_type": "stream",
     "text": [
      "accuracy_score:  0.9688385269121813\n",
      "\n",
      " confusion_matrix: \n",
      " [[354   0   0   0   0   0]\n",
      " [  0 299  29   0   0   0]\n",
      " [  0  24 302   0   0   0]\n",
      " [  0   0   0 271   0   0]\n",
      " [  0   0   0   0 232   0]\n",
      " [  0   0   0   2   0 252]]\n",
      "\n",
      " classification_report: \n",
      "                     precision    recall  f1-score   support\n",
      "\n",
      "            LAYING       1.00      1.00      1.00       354\n",
      "           SITTING       0.93      0.91      0.92       328\n",
      "          STANDING       0.91      0.93      0.92       326\n",
      "           WALKING       0.99      1.00      1.00       271\n",
      "WALKING_DOWNSTAIRS       1.00      1.00      1.00       232\n",
      "  WALKING_UPSTAIRS       1.00      0.99      1.00       254\n",
      "\n",
      "          accuracy                           0.97      1765\n",
      "         macro avg       0.97      0.97      0.97      1765\n",
      "      weighted avg       0.97      0.97      0.97      1765\n",
      "\n"
     ]
    }
   ],
   "source": [
    "# 모델 평가 출력(accuracy_score, confusion_matrix, classification_report)\n",
    "\n",
    "print('accuracy_score: ',accuracy_score(y_val,svc_pred))\n",
    "print('\\n confusion_matrix: \\n',confusion_matrix(y_val,svc_pred))\n",
    "print('\\n classification_report: \\n',classification_report(y_val,svc_pred))"
   ]
  },
  {
   "cell_type": "code",
   "execution_count": 6,
   "metadata": {},
   "outputs": [
    {
     "data": {
      "text/html": [
       "<div>\n",
       "<style scoped>\n",
       "    .dataframe tbody tr th:only-of-type {\n",
       "        vertical-align: middle;\n",
       "    }\n",
       "\n",
       "    .dataframe tbody tr th {\n",
       "        vertical-align: top;\n",
       "    }\n",
       "\n",
       "    .dataframe thead th {\n",
       "        text-align: right;\n",
       "    }\n",
       "</style>\n",
       "<table border=\"1\" class=\"dataframe\">\n",
       "  <thead>\n",
       "    <tr style=\"text-align: right;\">\n",
       "      <th></th>\n",
       "      <th>data</th>\n",
       "      <th>model_name</th>\n",
       "      <th>accuracy_score</th>\n",
       "      <th>f1_score</th>\n",
       "    </tr>\n",
       "  </thead>\n",
       "  <tbody>\n",
       "    <tr>\n",
       "      <th>0</th>\n",
       "      <td>train</td>\n",
       "      <td>svc</td>\n",
       "      <td>0.968839</td>\n",
       "      <td>0.971715</td>\n",
       "    </tr>\n",
       "  </tbody>\n",
       "</table>\n",
       "</div>"
      ],
      "text/plain": [
       "    data model_name  accuracy_score  f1_score\n",
       "0  train        svc        0.968839  0.971715"
      ]
     },
     "execution_count": 6,
     "metadata": {},
     "output_type": "execute_result"
    }
   ],
   "source": [
    "# result 데이터프레임 생성 및 컬럼명 지정\n",
    "# result 컬럼: 'data', 'model_name', 'accuracy_score', 'f1_score'\n",
    "\n",
    "result = pd.DataFrame(columns=['data', 'model_name', 'accuracy_score', 'f1_score'])\n",
    "\n",
    "# result 데이터프레임 인덱스 0 번에 모델 데이터명('train'), 모델명('svc'), 'accuracy_score', 'f1_score' 예측 결과 할당\n",
    "# 참고함수: loc[]\n",
    "# f1_score의 평균은 'macro' 사용\n",
    "# 정확히 구성되었나 확인\n",
    "\n",
    "result.loc[0] = ['train', 'svc', accuracy_score(y_val,svc_pred), f1_score(y_val,svc_pred,average='macro')]\n",
    "result\n"
   ]
  },
  {
   "cell_type": "markdown",
   "metadata": {},
   "source": [
    "\\- loc / iloc 참고 사이트: https://bearwoong.tistory.com/entry/%ED%8C%8C%EC%9D%B4%EC%8D%AC-DataFrame-%EC%9D%B8%EB%8D%B1%EC%8B%B1-%ED%95%98%EB%8A%94-%EB%B0%A9%EB%B2%95df-dfloc-dfiloc"
   ]
  },
  {
   "cell_type": "markdown",
   "metadata": {},
   "source": [
    "### (2) KNN(K-Nearest Neighbors) "
   ]
  },
  {
   "cell_type": "code",
   "execution_count": 11,
   "metadata": {},
   "outputs": [
    {
     "name": "stdout",
     "output_type": "stream",
     "text": [
      "accuracy_score:  0.9546742209631728\n",
      "\n",
      " confusion_matrix: \n",
      " [[354   0   0   0   0   0]\n",
      " [  0 270  58   0   0   0]\n",
      " [  0  17 309   0   0   0]\n",
      " [  0   0   0 271   0   0]\n",
      " [  0   0   0   2 229   1]\n",
      " [  0   0   0   2   0 252]]\n",
      "\n",
      " classification_report: \n",
      "                     precision    recall  f1-score   support\n",
      "\n",
      "            LAYING       1.00      1.00      1.00       354\n",
      "           SITTING       0.94      0.82      0.88       328\n",
      "          STANDING       0.84      0.95      0.89       326\n",
      "           WALKING       0.99      1.00      0.99       271\n",
      "WALKING_DOWNSTAIRS       1.00      0.99      0.99       232\n",
      "  WALKING_UPSTAIRS       1.00      0.99      0.99       254\n",
      "\n",
      "          accuracy                           0.95      1765\n",
      "         macro avg       0.96      0.96      0.96      1765\n",
      "      weighted avg       0.96      0.95      0.95      1765\n",
      "\n"
     ]
    },
    {
     "data": {
      "text/html": [
       "<div>\n",
       "<style scoped>\n",
       "    .dataframe tbody tr th:only-of-type {\n",
       "        vertical-align: middle;\n",
       "    }\n",
       "\n",
       "    .dataframe tbody tr th {\n",
       "        vertical-align: top;\n",
       "    }\n",
       "\n",
       "    .dataframe thead th {\n",
       "        text-align: right;\n",
       "    }\n",
       "</style>\n",
       "<table border=\"1\" class=\"dataframe\">\n",
       "  <thead>\n",
       "    <tr style=\"text-align: right;\">\n",
       "      <th></th>\n",
       "      <th>data</th>\n",
       "      <th>model_name</th>\n",
       "      <th>accuracy_score</th>\n",
       "      <th>f1_score</th>\n",
       "    </tr>\n",
       "  </thead>\n",
       "  <tbody>\n",
       "    <tr>\n",
       "      <th>0</th>\n",
       "      <td>train</td>\n",
       "      <td>svc</td>\n",
       "      <td>0.968839</td>\n",
       "      <td>0.971715</td>\n",
       "    </tr>\n",
       "    <tr>\n",
       "      <th>1</th>\n",
       "      <td>train</td>\n",
       "      <td>KNN</td>\n",
       "      <td>0.954674</td>\n",
       "      <td>0.958345</td>\n",
       "    </tr>\n",
       "  </tbody>\n",
       "</table>\n",
       "</div>"
      ],
      "text/plain": [
       "    data model_name  accuracy_score  f1_score\n",
       "0  train        svc        0.968839  0.971715\n",
       "1  train        KNN        0.954674  0.958345"
      ]
     },
     "execution_count": 11,
     "metadata": {},
     "output_type": "execute_result"
    }
   ],
   "source": [
    "KNN_model = KNeighborsClassifier(n_neighbors=3)\n",
    "\n",
    "KNN_model.fit(x_train, y_train)\n",
    "\n",
    "KNN_pred = KNN_model.predict(x_val)\n",
    "\n",
    "KNN_pred\n",
    "\n",
    "# 모델 평가 출력(accuracy_score, confusion_matrix, classification_report)\n",
    "\n",
    "print('accuracy_score: ',accuracy_score(y_val,KNN_pred))\n",
    "print('\\n confusion_matrix: \\n',confusion_matrix(y_val,KNN_pred))\n",
    "print('\\n classification_report: \\n',classification_report(y_val,KNN_pred))\n",
    "\n",
    "\n",
    "\n",
    "result.loc[1] = ['train', 'KNN', accuracy_score(y_val,KNN_pred), f1_score(y_val,KNN_pred,average='macro')]\n",
    "result"
   ]
  },
  {
   "cell_type": "markdown",
   "metadata": {},
   "source": [
    " ### (3) Logistic Regression 모델링"
   ]
  },
  {
   "cell_type": "code",
   "execution_count": 12,
   "metadata": {},
   "outputs": [
    {
     "name": "stdout",
     "output_type": "stream",
     "text": [
      "accuracy_score:  0.9830028328611898\n",
      "\n",
      " confusion_matrix: \n",
      " [[354   0   0   0   0   0]\n",
      " [  0 314  14   0   0   0]\n",
      " [  0  15 311   0   0   0]\n",
      " [  0   0   0 271   0   0]\n",
      " [  0   0   0   0 232   0]\n",
      " [  0   0   0   1   0 253]]\n",
      "\n",
      " classification_report: \n",
      "                     precision    recall  f1-score   support\n",
      "\n",
      "            LAYING       1.00      1.00      1.00       354\n",
      "           SITTING       0.95      0.96      0.96       328\n",
      "          STANDING       0.96      0.95      0.96       326\n",
      "           WALKING       1.00      1.00      1.00       271\n",
      "WALKING_DOWNSTAIRS       1.00      1.00      1.00       232\n",
      "  WALKING_UPSTAIRS       1.00      1.00      1.00       254\n",
      "\n",
      "          accuracy                           0.98      1765\n",
      "         macro avg       0.98      0.98      0.98      1765\n",
      "      weighted avg       0.98      0.98      0.98      1765\n",
      "\n"
     ]
    },
    {
     "data": {
      "text/html": [
       "<div>\n",
       "<style scoped>\n",
       "    .dataframe tbody tr th:only-of-type {\n",
       "        vertical-align: middle;\n",
       "    }\n",
       "\n",
       "    .dataframe tbody tr th {\n",
       "        vertical-align: top;\n",
       "    }\n",
       "\n",
       "    .dataframe thead th {\n",
       "        text-align: right;\n",
       "    }\n",
       "</style>\n",
       "<table border=\"1\" class=\"dataframe\">\n",
       "  <thead>\n",
       "    <tr style=\"text-align: right;\">\n",
       "      <th></th>\n",
       "      <th>data</th>\n",
       "      <th>model_name</th>\n",
       "      <th>accuracy_score</th>\n",
       "      <th>f1_score</th>\n",
       "    </tr>\n",
       "  </thead>\n",
       "  <tbody>\n",
       "    <tr>\n",
       "      <th>0</th>\n",
       "      <td>train</td>\n",
       "      <td>svc</td>\n",
       "      <td>0.968839</td>\n",
       "      <td>0.971715</td>\n",
       "    </tr>\n",
       "    <tr>\n",
       "      <th>1</th>\n",
       "      <td>train</td>\n",
       "      <td>KNN</td>\n",
       "      <td>0.954674</td>\n",
       "      <td>0.958345</td>\n",
       "    </tr>\n",
       "    <tr>\n",
       "      <th>2</th>\n",
       "      <td>train</td>\n",
       "      <td>LR</td>\n",
       "      <td>0.983003</td>\n",
       "      <td>0.984583</td>\n",
       "    </tr>\n",
       "  </tbody>\n",
       "</table>\n",
       "</div>"
      ],
      "text/plain": [
       "    data model_name  accuracy_score  f1_score\n",
       "0  train        svc        0.968839  0.971715\n",
       "1  train        KNN        0.954674  0.958345\n",
       "2  train         LR        0.983003  0.984583"
      ]
     },
     "execution_count": 12,
     "metadata": {},
     "output_type": "execute_result"
    }
   ],
   "source": [
    "\n",
    "LR_model = LogisticRegression()\n",
    "\n",
    "LR_model.fit(x_train, y_train)\n",
    "\n",
    "LR_pred = LR_model.predict(x_val)\n",
    "\n",
    "LR_pred\n",
    "\n",
    "# 모델 평가 출력(accuracy_score, confusion_matrix, classification_report)\n",
    "\n",
    "print('accuracy_score: ',accuracy_score(y_val,LR_pred))\n",
    "print('\\n confusion_matrix: \\n',confusion_matrix(y_val,LR_pred))\n",
    "print('\\n classification_report: \\n',classification_report(y_val,LR_pred))\n",
    "\n",
    "\n",
    "\n",
    "result.loc[2] = ['train', 'LR', accuracy_score(y_val,LR_pred), f1_score(y_val,LR_pred,average='macro')]\n",
    "result"
   ]
  },
  {
   "cell_type": "markdown",
   "metadata": {},
   "source": [
    "### (4) GBM(Gradient Boosting Machine) 모델링"
   ]
  },
  {
   "cell_type": "code",
   "execution_count": 13,
   "metadata": {},
   "outputs": [
    {
     "name": "stdout",
     "output_type": "stream",
     "text": [
      "accuracy_score:  0.9818696883852691\n",
      "\n",
      " confusion_matrix: \n",
      " [[354   0   0   0   0   0]\n",
      " [  0 312  16   0   0   0]\n",
      " [  0  11 315   0   0   0]\n",
      " [  0   1   1 268   0   1]\n",
      " [  0   0   0   1 230   1]\n",
      " [  0   0   0   0   0 254]]\n",
      "\n",
      " classification_report: \n",
      "                     precision    recall  f1-score   support\n",
      "\n",
      "            LAYING       1.00      1.00      1.00       354\n",
      "           SITTING       0.96      0.95      0.96       328\n",
      "          STANDING       0.95      0.97      0.96       326\n",
      "           WALKING       1.00      0.99      0.99       271\n",
      "WALKING_DOWNSTAIRS       1.00      0.99      1.00       232\n",
      "  WALKING_UPSTAIRS       0.99      1.00      1.00       254\n",
      "\n",
      "          accuracy                           0.98      1765\n",
      "         macro avg       0.98      0.98      0.98      1765\n",
      "      weighted avg       0.98      0.98      0.98      1765\n",
      "\n"
     ]
    },
    {
     "data": {
      "text/html": [
       "<div>\n",
       "<style scoped>\n",
       "    .dataframe tbody tr th:only-of-type {\n",
       "        vertical-align: middle;\n",
       "    }\n",
       "\n",
       "    .dataframe tbody tr th {\n",
       "        vertical-align: top;\n",
       "    }\n",
       "\n",
       "    .dataframe thead th {\n",
       "        text-align: right;\n",
       "    }\n",
       "</style>\n",
       "<table border=\"1\" class=\"dataframe\">\n",
       "  <thead>\n",
       "    <tr style=\"text-align: right;\">\n",
       "      <th></th>\n",
       "      <th>data</th>\n",
       "      <th>model_name</th>\n",
       "      <th>accuracy_score</th>\n",
       "      <th>f1_score</th>\n",
       "    </tr>\n",
       "  </thead>\n",
       "  <tbody>\n",
       "    <tr>\n",
       "      <th>0</th>\n",
       "      <td>train</td>\n",
       "      <td>svc</td>\n",
       "      <td>0.968839</td>\n",
       "      <td>0.971715</td>\n",
       "    </tr>\n",
       "    <tr>\n",
       "      <th>1</th>\n",
       "      <td>train</td>\n",
       "      <td>KNN</td>\n",
       "      <td>0.954674</td>\n",
       "      <td>0.958345</td>\n",
       "    </tr>\n",
       "    <tr>\n",
       "      <th>2</th>\n",
       "      <td>train</td>\n",
       "      <td>LR</td>\n",
       "      <td>0.983003</td>\n",
       "      <td>0.984583</td>\n",
       "    </tr>\n",
       "    <tr>\n",
       "      <th>3</th>\n",
       "      <td>train</td>\n",
       "      <td>LR</td>\n",
       "      <td>0.981870</td>\n",
       "      <td>0.983141</td>\n",
       "    </tr>\n",
       "  </tbody>\n",
       "</table>\n",
       "</div>"
      ],
      "text/plain": [
       "    data model_name  accuracy_score  f1_score\n",
       "0  train        svc        0.968839  0.971715\n",
       "1  train        KNN        0.954674  0.958345\n",
       "2  train         LR        0.983003  0.984583\n",
       "3  train         LR        0.981870  0.983141"
      ]
     },
     "execution_count": 13,
     "metadata": {},
     "output_type": "execute_result"
    }
   ],
   "source": [
    "# GradientBoostingClassifier(GBM) 알고리즘 사용을 위한 모듈 추가\n",
    "\n",
    "\n",
    "GBM_model = GradientBoostingClassifier(random_state=2023)\n",
    "\n",
    "GBM_model.fit(x_train, y_train)\n",
    "\n",
    "GBM_pred = GBM_model.predict(x_val)\n",
    "\n",
    "GBM_pred\n",
    "\n",
    "# 모델 평가 출력(accuracy_score, confusion_matrix, classification_report)\n",
    "\n",
    "print('accuracy_score: ',accuracy_score(y_val,GBM_pred))\n",
    "print('\\n confusion_matrix: \\n',confusion_matrix(y_val,GBM_pred))\n",
    "print('\\n classification_report: \\n',classification_report(y_val,GBM_pred))\n",
    "\n",
    "\n",
    "\n",
    "result.loc[3] = ['train', 'GBM', accuracy_score(y_val,GBM_pred), f1_score(y_val,GBM_pred,average='macro')]\n",
    "result"
   ]
  },
  {
   "cell_type": "code",
   "execution_count": 14,
   "metadata": {},
   "outputs": [
    {
     "data": {
      "text/html": [
       "<div>\n",
       "<style scoped>\n",
       "    .dataframe tbody tr th:only-of-type {\n",
       "        vertical-align: middle;\n",
       "    }\n",
       "\n",
       "    .dataframe tbody tr th {\n",
       "        vertical-align: top;\n",
       "    }\n",
       "\n",
       "    .dataframe thead th {\n",
       "        text-align: right;\n",
       "    }\n",
       "</style>\n",
       "<table border=\"1\" class=\"dataframe\">\n",
       "  <thead>\n",
       "    <tr style=\"text-align: right;\">\n",
       "      <th></th>\n",
       "      <th>data</th>\n",
       "      <th>model_name</th>\n",
       "      <th>accuracy_score</th>\n",
       "      <th>f1_score</th>\n",
       "    </tr>\n",
       "  </thead>\n",
       "  <tbody>\n",
       "    <tr>\n",
       "      <th>0</th>\n",
       "      <td>train</td>\n",
       "      <td>svc</td>\n",
       "      <td>0.968839</td>\n",
       "      <td>0.971715</td>\n",
       "    </tr>\n",
       "    <tr>\n",
       "      <th>1</th>\n",
       "      <td>train</td>\n",
       "      <td>KNN</td>\n",
       "      <td>0.954674</td>\n",
       "      <td>0.958345</td>\n",
       "    </tr>\n",
       "    <tr>\n",
       "      <th>2</th>\n",
       "      <td>train</td>\n",
       "      <td>LR</td>\n",
       "      <td>0.983003</td>\n",
       "      <td>0.984583</td>\n",
       "    </tr>\n",
       "    <tr>\n",
       "      <th>3</th>\n",
       "      <td>train</td>\n",
       "      <td>GBM</td>\n",
       "      <td>0.981870</td>\n",
       "      <td>0.983141</td>\n",
       "    </tr>\n",
       "  </tbody>\n",
       "</table>\n",
       "</div>"
      ],
      "text/plain": [
       "    data model_name  accuracy_score  f1_score\n",
       "0  train        svc        0.968839  0.971715\n",
       "1  train        KNN        0.954674  0.958345\n",
       "2  train         LR        0.983003  0.984583\n",
       "3  train        GBM        0.981870  0.983141"
      ]
     },
     "execution_count": 14,
     "metadata": {},
     "output_type": "execute_result"
    }
   ],
   "source": [
    "result.loc[3, 'model_name'] = 'GBM'\n",
    "result"
   ]
  },
  {
   "cell_type": "markdown",
   "metadata": {},
   "source": [
    "### (5) XGBoost(eXtreme Gradient Boosting) 모델링"
   ]
  },
  {
   "cell_type": "code",
   "execution_count": 15,
   "metadata": {},
   "outputs": [],
   "source": [
    "# XGBoost 는 문자형 데이터로 학습할 수 없습니다. \n",
    "# y_map 변수를 생성해서 target 데이터(y)를 숫자형 형태로 치환하여 할당\n",
    "# 데이터 치환 함수: map\n",
    "# 치환 데이터: 'STANDING':0, 'SITTING':1, 'LAYING':2, 'WALKING':3, 'WALKING_UPSTAIRS':4, 'WALKING_DOWNSTAIRS':5\n",
    "\n",
    "map_dATA={ 'STANDING':0, 'SITTING':1, 'LAYING':2, 'WALKING':3, 'WALKING_UPSTAIRS':4, 'WALKING_DOWNSTAIRS':5}\n",
    "y_map=y.map(map_dATA)"
   ]
  },
  {
   "cell_type": "code",
   "execution_count": 16,
   "metadata": {},
   "outputs": [],
   "source": [
    "x_train,x_val,y_map_train,y_map_val=train_test_split(x,y_map,test_size=0.3,random_state=2023)"
   ]
  },
  {
   "cell_type": "code",
   "execution_count": 26,
   "metadata": {},
   "outputs": [
    {
     "name": "stdout",
     "output_type": "stream",
     "text": [
      "accuracy_score:  0.9903682719546743\n",
      "\n",
      " confusion_matrix: \n",
      " [[321   5   0   0   0   0]\n",
      " [ 10 318   0   0   0   0]\n",
      " [  0   0 354   0   0   0]\n",
      " [  0   0   0 270   1   0]\n",
      " [  0   0   0   0 254   0]\n",
      " [  0   0   0   1   0 231]]\n",
      "\n",
      " classification_report: \n",
      "               precision    recall  f1-score   support\n",
      "\n",
      "           0       0.97      0.98      0.98       326\n",
      "           1       0.98      0.97      0.98       328\n",
      "           2       1.00      1.00      1.00       354\n",
      "           3       1.00      1.00      1.00       271\n",
      "           4       1.00      1.00      1.00       254\n",
      "           5       1.00      1.00      1.00       232\n",
      "\n",
      "    accuracy                           0.99      1765\n",
      "   macro avg       0.99      0.99      0.99      1765\n",
      "weighted avg       0.99      0.99      0.99      1765\n",
      "\n"
     ]
    },
    {
     "data": {
      "text/html": [
       "<div>\n",
       "<style scoped>\n",
       "    .dataframe tbody tr th:only-of-type {\n",
       "        vertical-align: middle;\n",
       "    }\n",
       "\n",
       "    .dataframe tbody tr th {\n",
       "        vertical-align: top;\n",
       "    }\n",
       "\n",
       "    .dataframe thead th {\n",
       "        text-align: right;\n",
       "    }\n",
       "</style>\n",
       "<table border=\"1\" class=\"dataframe\">\n",
       "  <thead>\n",
       "    <tr style=\"text-align: right;\">\n",
       "      <th></th>\n",
       "      <th>data</th>\n",
       "      <th>model_name</th>\n",
       "      <th>accuracy_score</th>\n",
       "      <th>f1_score</th>\n",
       "    </tr>\n",
       "  </thead>\n",
       "  <tbody>\n",
       "    <tr>\n",
       "      <th>0</th>\n",
       "      <td>train</td>\n",
       "      <td>svc</td>\n",
       "      <td>0.968839</td>\n",
       "      <td>0.971715</td>\n",
       "    </tr>\n",
       "    <tr>\n",
       "      <th>1</th>\n",
       "      <td>train</td>\n",
       "      <td>KNN</td>\n",
       "      <td>0.954674</td>\n",
       "      <td>0.958345</td>\n",
       "    </tr>\n",
       "    <tr>\n",
       "      <th>2</th>\n",
       "      <td>train</td>\n",
       "      <td>LR</td>\n",
       "      <td>0.983003</td>\n",
       "      <td>0.984583</td>\n",
       "    </tr>\n",
       "    <tr>\n",
       "      <th>3</th>\n",
       "      <td>train</td>\n",
       "      <td>GBM</td>\n",
       "      <td>0.981870</td>\n",
       "      <td>0.983141</td>\n",
       "    </tr>\n",
       "    <tr>\n",
       "      <th>4</th>\n",
       "      <td>train</td>\n",
       "      <td>xgb</td>\n",
       "      <td>0.990368</td>\n",
       "      <td>0.991052</td>\n",
       "    </tr>\n",
       "  </tbody>\n",
       "</table>\n",
       "</div>"
      ],
      "text/plain": [
       "    data model_name  accuracy_score  f1_score\n",
       "0  train        svc        0.968839  0.971715\n",
       "1  train        KNN        0.954674  0.958345\n",
       "2  train         LR        0.983003  0.984583\n",
       "3  train        GBM        0.981870  0.983141\n",
       "4  train        xgb        0.990368  0.991052"
      ]
     },
     "execution_count": 26,
     "metadata": {},
     "output_type": "execute_result"
    }
   ],
   "source": [
    "\n",
    "\n",
    "\n",
    "XGB_model = XGBClassifier( random_state=2023)\n",
    "\n",
    "# 학습하기\n",
    "XGB_model.fit(x_train, y_map_train)\n",
    "\n",
    "# 예측하기\n",
    "XGB_pred = XGB_model.predict(x_val)\n",
    "\n",
    "# 모델 평가 출력(accuracy_score, confusion_matrix, classification_report)\n",
    "\n",
    "print('accuracy_score: ',accuracy_score(y_map_val,XGB_pred))\n",
    "print('\\n confusion_matrix: \\n',confusion_matrix(y_map_val,XGB_pred))\n",
    "print('\\n classification_report: \\n',classification_report(y_map_val,XGB_pred))\n",
    "\n",
    "# result 데이터프레임 인덱스 0 번에 모델 데이터명('train'), 모델명('svc'), 'accuracy_score', 'f1_score' 예측 결과 할당\n",
    "# 참고함수: loc[]\n",
    "# f1_score의 평균은 'macro' 사용\n",
    "# 정확히 구성되었나 확인\n",
    "\n",
    "result.loc[4] = ['train', 'xgb', accuracy_score(y_map_val,XGB_pred), f1_score(y_map_val,XGB_pred,average='macro')]\n",
    "result"
   ]
  },
  {
   "cell_type": "markdown",
   "metadata": {},
   "source": [
    "### (3) 결과 저장 및 시각화"
   ]
  },
  {
   "cell_type": "markdown",
   "metadata": {},
   "source": [
    "\t- 실습순서: 결과(result) 저장 -> 저장확인 -> 시각화(수직막대 그래프)"
   ]
  },
  {
   "cell_type": "markdown",
   "metadata": {},
   "source": [
    "* result 변수(데이터프레임) csv 파일로 저장"
   ]
  },
  {
   "cell_type": "code",
   "execution_count": 27,
   "metadata": {},
   "outputs": [],
   "source": [
    "# 인덱스 미포함 result 변수를 result3.csv 파일로 저장\n",
    "# 저장경로: ./data\n",
    "# 파일명: result3.csv\n",
    "\n",
    "\n",
    "result.to_csv('result3.csv', index=False)"
   ]
  },
  {
   "cell_type": "code",
   "execution_count": 28,
   "metadata": {},
   "outputs": [
    {
     "data": {
      "text/html": [
       "<div>\n",
       "<style scoped>\n",
       "    .dataframe tbody tr th:only-of-type {\n",
       "        vertical-align: middle;\n",
       "    }\n",
       "\n",
       "    .dataframe tbody tr th {\n",
       "        vertical-align: top;\n",
       "    }\n",
       "\n",
       "    .dataframe thead th {\n",
       "        text-align: right;\n",
       "    }\n",
       "</style>\n",
       "<table border=\"1\" class=\"dataframe\">\n",
       "  <thead>\n",
       "    <tr style=\"text-align: right;\">\n",
       "      <th></th>\n",
       "      <th>data</th>\n",
       "      <th>model_name</th>\n",
       "      <th>accuracy_score</th>\n",
       "      <th>f1_score</th>\n",
       "    </tr>\n",
       "  </thead>\n",
       "  <tbody>\n",
       "    <tr>\n",
       "      <th>0</th>\n",
       "      <td>train</td>\n",
       "      <td>svc</td>\n",
       "      <td>0.968839</td>\n",
       "      <td>0.971715</td>\n",
       "    </tr>\n",
       "    <tr>\n",
       "      <th>1</th>\n",
       "      <td>train</td>\n",
       "      <td>KNN</td>\n",
       "      <td>0.954674</td>\n",
       "      <td>0.958345</td>\n",
       "    </tr>\n",
       "    <tr>\n",
       "      <th>2</th>\n",
       "      <td>train</td>\n",
       "      <td>LR</td>\n",
       "      <td>0.983003</td>\n",
       "      <td>0.984583</td>\n",
       "    </tr>\n",
       "    <tr>\n",
       "      <th>3</th>\n",
       "      <td>train</td>\n",
       "      <td>GBM</td>\n",
       "      <td>0.981870</td>\n",
       "      <td>0.983141</td>\n",
       "    </tr>\n",
       "    <tr>\n",
       "      <th>4</th>\n",
       "      <td>train</td>\n",
       "      <td>xgb</td>\n",
       "      <td>0.990368</td>\n",
       "      <td>0.991052</td>\n",
       "    </tr>\n",
       "  </tbody>\n",
       "</table>\n",
       "</div>"
      ],
      "text/plain": [
       "    data model_name  accuracy_score  f1_score\n",
       "0  train        svc        0.968839  0.971715\n",
       "1  train        KNN        0.954674  0.958345\n",
       "2  train         LR        0.983003  0.984583\n",
       "3  train        GBM        0.981870  0.983141\n",
       "4  train        xgb        0.990368  0.991052"
      ]
     },
     "execution_count": 28,
     "metadata": {},
     "output_type": "execute_result"
    }
   ],
   "source": [
    "# 잘 저장 되었는지 확인\n",
    "\n",
    "pd.read_csv('result3.csv')"
   ]
  },
  {
   "cell_type": "markdown",
   "metadata": {},
   "source": [
    "*  data, model_name 별 accuracy_score, f1_score 시각화(수직 그래프) "
   ]
  },
  {
   "cell_type": "code",
   "execution_count": 29,
   "metadata": {},
   "outputs": [
    {
     "data": {
      "text/html": [
       "<div>\n",
       "<style scoped>\n",
       "    .dataframe tbody tr th:only-of-type {\n",
       "        vertical-align: middle;\n",
       "    }\n",
       "\n",
       "    .dataframe tbody tr th {\n",
       "        vertical-align: top;\n",
       "    }\n",
       "\n",
       "    .dataframe thead th {\n",
       "        text-align: right;\n",
       "    }\n",
       "</style>\n",
       "<table border=\"1\" class=\"dataframe\">\n",
       "  <thead>\n",
       "    <tr style=\"text-align: right;\">\n",
       "      <th></th>\n",
       "      <th></th>\n",
       "      <th>accuracy_score</th>\n",
       "      <th>f1_score</th>\n",
       "    </tr>\n",
       "    <tr>\n",
       "      <th>data</th>\n",
       "      <th>model_name</th>\n",
       "      <th></th>\n",
       "      <th></th>\n",
       "    </tr>\n",
       "  </thead>\n",
       "  <tbody>\n",
       "    <tr>\n",
       "      <th rowspan=\"5\" valign=\"top\">train</th>\n",
       "      <th>svc</th>\n",
       "      <td>0.968839</td>\n",
       "      <td>0.971715</td>\n",
       "    </tr>\n",
       "    <tr>\n",
       "      <th>KNN</th>\n",
       "      <td>0.954674</td>\n",
       "      <td>0.958345</td>\n",
       "    </tr>\n",
       "    <tr>\n",
       "      <th>LR</th>\n",
       "      <td>0.983003</td>\n",
       "      <td>0.984583</td>\n",
       "    </tr>\n",
       "    <tr>\n",
       "      <th>GBM</th>\n",
       "      <td>0.981870</td>\n",
       "      <td>0.983141</td>\n",
       "    </tr>\n",
       "    <tr>\n",
       "      <th>xgb</th>\n",
       "      <td>0.990368</td>\n",
       "      <td>0.991052</td>\n",
       "    </tr>\n",
       "  </tbody>\n",
       "</table>\n",
       "</div>"
      ],
      "text/plain": [
       "                  accuracy_score  f1_score\n",
       "data  model_name                          \n",
       "train svc               0.968839  0.971715\n",
       "      KNN               0.954674  0.958345\n",
       "      LR                0.983003  0.984583\n",
       "      GBM               0.981870  0.983141\n",
       "      xgb               0.990368  0.991052"
      ]
     },
     "execution_count": 29,
     "metadata": {},
     "output_type": "execute_result"
    }
   ],
   "source": [
    "# result_comp 변수에 result 데이터프레임의 data, model_name컬럼을 인덱스로 지정 후 할당\n",
    "# 참고함수: set_index\n",
    "# 지정 인덱스: ['data','model_name']\n",
    "\n",
    "result_comp = result.set_index(['data','model_name'])\n",
    "result_comp"
   ]
  },
  {
   "cell_type": "code",
   "execution_count": 30,
   "metadata": {},
   "outputs": [
    {
     "data": {
      "image/png": "[encoded data removed]",
      "text/plain": [
       "<Figure size 640x480 with 1 Axes>"
      ]
     },
     "metadata": {
      "image/png": {
       "height": 503,
       "width": 547
      }
     },
     "output_type": "display_data"
    }
   ],
   "source": [
    "# pandas의 plot 함수을 사용하여 AI모델 별 accuracy_score, f1_score 수직 그래프 시각화\n",
    "# grid 추가\n",
    "# legend 위치 center\n",
    "\n",
    "result_comp.plot(kind='bar')\n",
    "plt.grid()\n",
    "plt.legend(loc='center')\n",
    "plt.show()"
   ]
  },
  {
   "cell_type": "code",
   "execution_count": 24,
   "metadata": {},
   "outputs": [
    {
     "ename": "NameError",
     "evalue": "name 'model_dt' is not defined",
     "output_type": "error",
     "traceback": [
      "\u001b[1;31m---------------------------------------------------------------------------\u001b[0m",
      "\u001b[1;31mNameError\u001b[0m                                 Traceback (most recent call last)",
      "Cell \u001b[1;32mIn[24], line 7\u001b[0m\n\u001b[0;32m      1\u001b[0m \u001b[38;5;66;03m# 파라미터 선언\u001b[39;00m\n\u001b[0;32m      2\u001b[0m   \u001b[38;5;66;03m# max_depth: 1~50\u001b[39;00m\n\u001b[0;32m      4\u001b[0m param \u001b[38;5;241m=\u001b[39m {\u001b[38;5;124m'\u001b[39m\u001b[38;5;124mmax_depth\u001b[39m\u001b[38;5;124m'\u001b[39m:\u001b[38;5;28mrange\u001b[39m(\u001b[38;5;241m1\u001b[39m,\u001b[38;5;241m51\u001b[39m)}\n\u001b[1;32m----> 7\u001b[0m model \u001b[38;5;241m=\u001b[39m GridSearchCV(\u001b[43mmodel_dt\u001b[49m,  \u001b[38;5;66;03m# 기본모델\u001b[39;00m\n\u001b[0;32m      8\u001b[0m                            param,     \u001b[38;5;66;03m# 매개변수 범위를 가지고 있는 딕셔너리 변수\u001b[39;00m\n\u001b[0;32m      9\u001b[0m                            cv \u001b[38;5;241m=\u001b[39m \u001b[38;5;241m5\u001b[39m,    \u001b[38;5;66;03m# K-fold cv 분할 개수\u001b[39;00m\n\u001b[0;32m     10\u001b[0m                            scoring \u001b[38;5;241m=\u001b[39m \u001b[38;5;124m'\u001b[39m\u001b[38;5;124maccuracy\u001b[39m\u001b[38;5;124m'\u001b[39m)\n\u001b[0;32m     12\u001b[0m model\u001b[38;5;241m.\u001b[39mfit(x_train, y_train)\n\u001b[0;32m     14\u001b[0m \u001b[38;5;66;03m# 중요 정보 확인\u001b[39;00m\n",
      "\u001b[1;31mNameError\u001b[0m: name 'model_dt' is not defined"
     ]
    }
   ],
   "source": [
    "# 파라미터 선언\n",
    "  # max_depth: 1~50\n",
    "\n",
    "param = {'max_depth':range(1,51)}\n",
    "\n",
    "\n",
    "\n",
    "XGB_model = XGBClassifier(max_depth = 5, random_state=2023)\n",
    "\n",
    "# 학습하기\n",
    "XGB_model.fit(x_train, y_map_train)\n",
    "\n",
    "# 예측하기\n",
    "XGB_pred = XGB_model.predict(x_val)\n",
    "\n",
    "# 모델 평가 출력(accuracy_score, confusion_matrix, classification_report)\n",
    "\n",
    "print('accuracy_score: ',accuracy_score(y_map_val,XGB_pred))\n",
    "print('\\n confusion_matrix: \\n',confusion_matrix(y_map_val,XGB_pred))\n",
    "print('\\n classification_report: \\n',classification_report(y_map_val,XGB_pred))\n",
    "\n",
    "# result 데이터프레임 인덱스 0 번에 모델 데이터명('train'), 모델명('svc'), 'accuracy_score', 'f1_score' 예측 결과 할당\n",
    "# 참고함수: loc[]\n",
    "# f1_score의 평균은 'macro' 사용\n",
    "# 정확히 구성되었나 확인\n",
    "\n",
    "result.loc[4] = ['train', 'xgb', accuracy_score(y_map_val,XGB_pred), f1_score(y_map_val,XGB_pred,average='macro')]\n",
    "result\n",
    "\n",
    "# 중요 정보 확인\n",
    "print('=' * 80)\n",
    "print(model.cv_results_['mean_test_score'])\n",
    "print('-' * 80)\n",
    "print('최적파라미터:', model.best_params_)\n",
    "print('-' * 80)\n",
    "print('최고성능:', model.best_score_)\n",
    "print('=' * 80)\n",
    "\n",
    "y_pred = model.predict(x_test)\n",
    "\n",
    "# 예측하기\n",
    "# 5단계 평가하기\n",
    "print(confusion_matrix(y_test,y_pred))\n",
    "print(classification_report(y_test,y_pred))"
   ]
  }
 ],
 "metadata": {
  "colab": {
   "collapsed_sections": [
    "qYbmMZar6VKS",
    "Zk42KHA18n6V"
   ],
   "provenance": []
  },
  "kernelspec": {
   "display_name": "Python 3 (ipykernel)",
   "language": "python",
   "name": "python3"
  },
  "language_info": {
   "codemirror_mode": {
    "name": "ipython",
    "version": 3
   },
   "file_extension": ".py",
   "mimetype": "text/x-python",
   "name": "python",
   "nbconvert_exporter": "python",
   "pygments_lexer": "ipython3",
   "version": "3.9.13"
  },
  "vscode": {
   "interpreter": {
    "hash": "f08154012ddadd8e950e6e9e035c7a7b32c136e7647e9b7c77e02eb723a8bedb"
   }
  }
 },
 "nbformat": 4,
 "nbformat_minor": 4
}
