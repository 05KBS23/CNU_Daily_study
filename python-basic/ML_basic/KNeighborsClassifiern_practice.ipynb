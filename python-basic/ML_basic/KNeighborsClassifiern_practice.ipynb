{
 "cells": [
  {
   "cell_type": "code",
   "execution_count": 1,
   "metadata": {
    "id": "IVA4UIIuof9q",
    "scrolled": true
   },
   "outputs": [],
   "source": [
    "# 라이브러리 불러오기\n",
    "import numpy as np\n",
    "import pandas as pd\n",
    "import matplotlib.pyplot as plt\n",
    "import seaborn as sns\n",
    "import warnings\n",
    "\n",
    "warnings.filterwarnings(action='ignore')\n",
    "%config InlineBackend.figure_format = 'retina'"
   ]
  },
  {
   "cell_type": "code",
   "execution_count": 2,
   "metadata": {
    "id": "VXEbdYrxof9s"
   },
   "outputs": [],
   "source": [
    "\n",
    "path = 'https://raw.githubusercontent.com/Jangrae/csv/master/admission_simple.csv'\n",
    "data = pd.read_csv(path)"
   ]
  },
  {
   "cell_type": "code",
   "execution_count": 3,
   "metadata": {
    "id": "6jA1DUE3of91"
   },
   "outputs": [],
   "source": [
    "# target 확인\n",
    "from sklearn.neighbors import KNeighborsClassifier\n",
    "from sklearn.metrics import accuracy_score\n",
    "\n",
    "# 데이터 분리\n",
    "\n"
   ]
  },
  {
   "cell_type": "code",
   "execution_count": 4,
   "metadata": {},
   "outputs": [
    {
     "name": "stdout",
     "output_type": "stream",
     "text": [
      "[0 1 1 0 1 0 1 0 1 0]\n",
      "[0 0 1 0 1 0 0 1 1 0]\n"
     ]
    },
    {
     "data": {
      "text/plain": [
       "0.84"
      ]
     },
     "execution_count": 7,
     "metadata": {},
     "output_type": "execute_result"
    }
   ],
   "source": [
    "# 3.데이터 준비\n",
    "\n",
    "\n",
    "# 1단계 : x,y 분리\n",
    "\n",
    "# target 변수(컬럼) 확인\n",
    "\n",
    "target = 'ADMIT'\n",
    "\n",
    "# 데이터 분리\n",
    "x = data.drop(target, axis = 1)\n",
    "y = data.loc[:, target]\n",
    "\n",
    "# 2단계 학습용, 평가용 데이터 분리\n",
    "\n",
    "from sklearn.model_selection import train_test_split\n",
    "\n",
    "# 7:3으로 분리\n",
    "x_train, x_test, y_train, y_test = train_test_split(x , y, \n",
    "                                                    test_size = 0.3,\n",
    "                                                    shuffle = True, # 기본값 : 섞은 후 나눈 다\n",
    "                                                    random_state=1) # 정수로 넣으면 건수, 실수로하면 퍼센트\n",
    "\n",
    "# 4. 모델링\n",
    "\n",
    "# 1단계: 불러오기\n",
    "\n",
    "from sklearn.neighbors import KNeighborsClassifier\n",
    "from sklearn.metrics import accuracy_score\n",
    "\n",
    "# 2단계: 선언하기 !         괄호를 반드시 넣어라.\n",
    "model = KNeighborsClassifiern()\n",
    "\n",
    "# 3단계: 학습하기\n",
    "model.fit(x_train,y_train)\n",
    "\n",
    "# 4단계: 예측하기\n",
    "y_pred = model.predict(x_test)\n",
    "\n",
    "# 실제값과 예측값 비교\n",
    "print(y_test.values[:10]) #시리즈 --> 배열 \n",
    "print(y_pred[:10]) #배열\n",
    "\n",
    "# 5단계: 평가하기\n",
    "accuracy_score(y_test, y_pred) \n",
    "\n",
    "# 5.예측값과 실제값 비교 시각화 비교\n",
    "\n",
    "\n",
    "plt.plot(y_test.values, label='Actual')    # values가 없으면 중구난방됨.,! 시리즈 값을 가져오면 안됨!\n",
    "plt.plot(y_pred, label='Predicted')\n",
    "plt.axhline(mean_medv, color = 'red', linestyle='--')  \n",
    "plt.legend()\n",
    "plt.show()"
   ]
  }
 ],
 "metadata": {
  "colab": {
   "provenance": []
  },
  "kernelspec": {
   "display_name": "Python 3 (ipykernel)",
   "language": "python",
   "name": "python3"
  },
  "language_info": {
   "codemirror_mode": {
    "name": "ipython",
    "version": 3
   },
   "file_extension": ".py",
   "mimetype": "text/x-python",
   "name": "python",
   "nbconvert_exporter": "python",
   "pygments_lexer": "ipython3",
   "version": "3.9.13"
  }
 },
 "nbformat": 4,
 "nbformat_minor": 4
}
