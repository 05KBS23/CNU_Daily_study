{
 "cells": [
  {
   "cell_type": "markdown",
   "metadata": {
    "id": "roEuxynyeM0l"
   },
   "source": [
    "surprise 모듈을 설치"
   ]
  },
  {
   "cell_type": "code",
   "execution_count": 1,
   "metadata": {
    "colab": {
     "base_uri": "https://localhost:8080/"
    },
    "id": "4Ep7L0e2ldgY",
    "outputId": "3b914c14-7875-43e6-9a46-73709ecac97e"
   },
   "outputs": [
    {
     "name": "stdout",
     "output_type": "stream",
     "text": [
      "Collecting package metadata (current_repodata.json): done\n",
      "Solving environment: failed with initial frozen solve. Retrying with flexible solve.\n",
      "Collecting package metadata (repodata.json): done\n",
      "Solving environment: failed with initial frozen solve. Retrying with flexible solve.\n",
      "\n",
      "PackagesNotFoundError: The following packages are not available from current channels:\n",
      "\n",
      "  - surprise\n",
      "\n",
      "Current channels:\n",
      "\n",
      "  - https://repo.anaconda.com/pkgs/main/osx-64\n",
      "  - https://repo.anaconda.com/pkgs/main/noarch\n",
      "  - https://repo.anaconda.com/pkgs/r/osx-64\n",
      "  - https://repo.anaconda.com/pkgs/r/noarch\n",
      "\n",
      "To search for alternate channels that may provide the conda package you're\n",
      "looking for, navigate to\n",
      "\n",
      "    https://anaconda.org\n",
      "\n",
      "and use the search bar at the top of the page.\n",
      "\n",
      "\n",
      "\n",
      "Note: you may need to restart the kernel to use updated packages.\n"
     ]
    }
   ],
   "source": [
    "conda install surprise"
   ]
  },
  {
   "cell_type": "code",
   "execution_count": 2,
   "metadata": {
    "colab": {
     "base_uri": "https://localhost:8080/"
    },
    "id": "AUirw_6Uzb6o",
    "outputId": "2860fb8c-e915-4052-d17c-3f8e585b5c88"
   },
   "outputs": [
    {
     "name": "stdout",
     "output_type": "stream",
     "text": [
      "--2022-09-06 15:38:52--  https://grepp-reco-test.s3.ap-northeast-2.amazonaws.com/movielens/movies.csv\n",
      "Resolving grepp-reco-test.s3.ap-northeast-2.amazonaws.com (grepp-reco-test.s3.ap-northeast-2.amazonaws.com)... 52.219.56.39\n",
      "Connecting to grepp-reco-test.s3.ap-northeast-2.amazonaws.com (grepp-reco-test.s3.ap-northeast-2.amazonaws.com)|52.219.56.39|:443... connected.\n",
      "HTTP request sent, awaiting response... 200 OK\n",
      "Length: 458390 (448K) [text/csv]\n",
      "Saving to: 'movies.csv'\n",
      "\n",
      "movies.csv          100%[===================>] 447.65K  --.-KB/s    in 0.05s   \n",
      "\n",
      "2022-09-06 15:38:52 (8.11 MB/s) - 'movies.csv' saved [458390/458390]\n",
      "\n",
      "--2022-09-06 15:38:52--  https://grepp-reco-test.s3.ap-northeast-2.amazonaws.com/movielens/ratings.csv\n",
      "Resolving grepp-reco-test.s3.ap-northeast-2.amazonaws.com (grepp-reco-test.s3.ap-northeast-2.amazonaws.com)... 52.219.56.39\n",
      "Connecting to grepp-reco-test.s3.ap-northeast-2.amazonaws.com (grepp-reco-test.s3.ap-northeast-2.amazonaws.com)|52.219.56.39|:443... connected.\n",
      "HTTP request sent, awaiting response... 200 OK\n",
      "Length: 2438266 (2.3M) [text/csv]\n",
      "Saving to: 'ratings.csv.7'\n",
      "\n",
      "ratings.csv.7       100%[===================>]   2.33M  4.80MB/s    in 0.5s    \n",
      "\n",
      "2022-09-06 15:38:53 (4.80 MB/s) - 'ratings.csv.7' saved [2438266/2438266]\n",
      "\n"
     ]
    }
   ],
   "source": [
    "!wget \"https://grepp-reco-test.s3.ap-northeast-2.amazonaws.com/movielens/movies.csv\"\n",
    "!wget \"https://grepp-reco-test.s3.ap-northeast-2.amazonaws.com/movielens/ratings.csv\""
   ]
  },
  {
   "cell_type": "code",
   "execution_count": 3,
   "metadata": {
    "colab": {
     "base_uri": "https://localhost:8080/"
    },
    "id": "oXJRj_2MF4qX",
    "outputId": "de2d6f6c-586c-4851-dd5e-100b76edd21d"
   },
   "outputs": [
    {
     "name": "stdout",
     "output_type": "stream",
     "text": [
      "total 129384\r\n",
      "-rw-r--r--  1 KBS  staff     21088  9  6 15:37 Item-based_Recommendation.ipynb\r\n",
      "-rw-r--r--  1 KBS  staff     29181  9  6 15:27 Item-based_Collaborative_filtering_Recommendation_Systems.ipynb\r\n",
      "-rw-r--r--  1 KBS  staff    123277  9  6 15:16 User-based_Collaborative-filtering_Recommendation.ipynb\r\n",
      "-rw-r--r--  1 KBS  staff     18726  9  6 12:32 User-based_Recommendation.ipynb\r\n",
      "-rw-r--r--  1 KBS  staff    180208  9  6 10:34 TF-IDF_Contents_Based_Recommendation_System.ipynb\r\n",
      "-rw-r--r--  1 KBS  staff     17697  9  6 09:48 TF-IDF_Cosine&Person_Similarity.ipynb\r\n",
      "-rw-r--r--@ 1 KBS  staff    100861  9  5 18:41 TMDB_Recommendation.ipynb\r\n",
      "-rw-r--r--  1 KBS  staff   5698602  9  5 17:03 tmdb_5000_movies.csv\r\n",
      "-rw-r--r--  1 KBS  staff  40044293  9  5 17:03 tmdb_5000_credits.csv\r\n",
      "-rw-r--r--  1 KBS  staff    458390  2 23  2021 movies.csv\r\n",
      "-rw-r--r--  1 KBS  staff   2438266  2 23  2021 ratings.csv\r\n",
      "-rw-r--r--  1 KBS  staff   2438266  2 23  2021 ratings.csv.1\r\n",
      "-rw-r--r--  1 KBS  staff   2438266  2 23  2021 ratings.csv.2\r\n",
      "-rw-r--r--  1 KBS  staff   2438266  2 23  2021 ratings.csv.3\r\n",
      "-rw-r--r--  1 KBS  staff   2438266  2 23  2021 ratings.csv.4\r\n",
      "-rw-r--r--  1 KBS  staff   2438266  2 23  2021 ratings.csv.5\r\n",
      "-rw-r--r--  1 KBS  staff   2438266  2 23  2021 ratings.csv.6\r\n",
      "-rw-r--r--  1 KBS  staff   2438266  2 23  2021 ratings.csv.7\r\n"
     ]
    }
   ],
   "source": [
    "!ls -tl"
   ]
  },
  {
   "cell_type": "markdown",
   "metadata": {
    "id": "9ZQfxxifzG6k"
   },
   "source": [
    "# 데이터 로딩\n"
   ]
  },
  {
   "cell_type": "code",
   "execution_count": 4,
   "metadata": {
    "id": "e4jdjZN254pO"
   },
   "outputs": [],
   "source": [
    "from surprise import Dataset\n",
    "from surprise import Reader\n",
    "\n",
    "from collections import defaultdict\n",
    "import numpy as np\n",
    "import pandas as pd"
   ]
  },
  {
   "cell_type": "code",
   "execution_count": 5,
   "metadata": {
    "id": "X9m_UFiBnx6m"
   },
   "outputs": [],
   "source": [
    "movies = pd.read_csv(\"movies.csv\")\n",
    "ratings = pd.read_csv(\"ratings.csv\")"
   ]
  },
  {
   "cell_type": "code",
   "execution_count": 6,
   "metadata": {
    "colab": {
     "base_uri": "https://localhost:8080/",
     "height": 195
    },
    "id": "kym07ydsoou8",
    "outputId": "fd0bc7cd-e7b7-43e1-f8a0-e24e138adb93"
   },
   "outputs": [
    {
     "data": {
      "text/html": [
       "<div>\n",
       "<style scoped>\n",
       "    .dataframe tbody tr th:only-of-type {\n",
       "        vertical-align: middle;\n",
       "    }\n",
       "\n",
       "    .dataframe tbody tr th {\n",
       "        vertical-align: top;\n",
       "    }\n",
       "\n",
       "    .dataframe thead th {\n",
       "        text-align: right;\n",
       "    }\n",
       "</style>\n",
       "<table border=\"1\" class=\"dataframe\">\n",
       "  <thead>\n",
       "    <tr style=\"text-align: right;\">\n",
       "      <th></th>\n",
       "      <th>movieId</th>\n",
       "      <th>title</th>\n",
       "      <th>genres</th>\n",
       "    </tr>\n",
       "  </thead>\n",
       "  <tbody>\n",
       "    <tr>\n",
       "      <th>0</th>\n",
       "      <td>1</td>\n",
       "      <td>Toy Story (1995)</td>\n",
       "      <td>Adventure|Animation|Children|Comedy|Fantasy</td>\n",
       "    </tr>\n",
       "    <tr>\n",
       "      <th>1</th>\n",
       "      <td>2</td>\n",
       "      <td>Jumanji (1995)</td>\n",
       "      <td>Adventure|Children|Fantasy</td>\n",
       "    </tr>\n",
       "    <tr>\n",
       "      <th>2</th>\n",
       "      <td>3</td>\n",
       "      <td>Grumpier Old Men (1995)</td>\n",
       "      <td>Comedy|Romance</td>\n",
       "    </tr>\n",
       "    <tr>\n",
       "      <th>3</th>\n",
       "      <td>4</td>\n",
       "      <td>Waiting to Exhale (1995)</td>\n",
       "      <td>Comedy|Drama|Romance</td>\n",
       "    </tr>\n",
       "    <tr>\n",
       "      <th>4</th>\n",
       "      <td>5</td>\n",
       "      <td>Father of the Bride Part II (1995)</td>\n",
       "      <td>Comedy</td>\n",
       "    </tr>\n",
       "  </tbody>\n",
       "</table>\n",
       "</div>"
      ],
      "text/plain": [
       "   movieId                               title  \\\n",
       "0        1                    Toy Story (1995)   \n",
       "1        2                      Jumanji (1995)   \n",
       "2        3             Grumpier Old Men (1995)   \n",
       "3        4            Waiting to Exhale (1995)   \n",
       "4        5  Father of the Bride Part II (1995)   \n",
       "\n",
       "                                        genres  \n",
       "0  Adventure|Animation|Children|Comedy|Fantasy  \n",
       "1                   Adventure|Children|Fantasy  \n",
       "2                               Comedy|Romance  \n",
       "3                         Comedy|Drama|Romance  \n",
       "4                                       Comedy  "
      ]
     },
     "execution_count": 6,
     "metadata": {},
     "output_type": "execute_result"
    }
   ],
   "source": [
    "movies.head()"
   ]
  },
  {
   "cell_type": "code",
   "execution_count": 7,
   "metadata": {
    "colab": {
     "base_uri": "https://localhost:8080/",
     "height": 195
    },
    "id": "K82Avgs3pHAe",
    "outputId": "578b5a75-8cc3-4981-e176-4c3447d59fae"
   },
   "outputs": [
    {
     "data": {
      "text/html": [
       "<div>\n",
       "<style scoped>\n",
       "    .dataframe tbody tr th:only-of-type {\n",
       "        vertical-align: middle;\n",
       "    }\n",
       "\n",
       "    .dataframe tbody tr th {\n",
       "        vertical-align: top;\n",
       "    }\n",
       "\n",
       "    .dataframe thead th {\n",
       "        text-align: right;\n",
       "    }\n",
       "</style>\n",
       "<table border=\"1\" class=\"dataframe\">\n",
       "  <thead>\n",
       "    <tr style=\"text-align: right;\">\n",
       "      <th></th>\n",
       "      <th>userId</th>\n",
       "      <th>movieId</th>\n",
       "      <th>rating</th>\n",
       "      <th>timestamp</th>\n",
       "    </tr>\n",
       "  </thead>\n",
       "  <tbody>\n",
       "    <tr>\n",
       "      <th>0</th>\n",
       "      <td>1</td>\n",
       "      <td>31</td>\n",
       "      <td>2.5</td>\n",
       "      <td>1260759144</td>\n",
       "    </tr>\n",
       "    <tr>\n",
       "      <th>1</th>\n",
       "      <td>1</td>\n",
       "      <td>1029</td>\n",
       "      <td>3.0</td>\n",
       "      <td>1260759179</td>\n",
       "    </tr>\n",
       "    <tr>\n",
       "      <th>2</th>\n",
       "      <td>1</td>\n",
       "      <td>1061</td>\n",
       "      <td>3.0</td>\n",
       "      <td>1260759182</td>\n",
       "    </tr>\n",
       "    <tr>\n",
       "      <th>3</th>\n",
       "      <td>1</td>\n",
       "      <td>1129</td>\n",
       "      <td>2.0</td>\n",
       "      <td>1260759185</td>\n",
       "    </tr>\n",
       "    <tr>\n",
       "      <th>4</th>\n",
       "      <td>1</td>\n",
       "      <td>1172</td>\n",
       "      <td>4.0</td>\n",
       "      <td>1260759205</td>\n",
       "    </tr>\n",
       "  </tbody>\n",
       "</table>\n",
       "</div>"
      ],
      "text/plain": [
       "   userId  movieId  rating   timestamp\n",
       "0       1       31     2.5  1260759144\n",
       "1       1     1029     3.0  1260759179\n",
       "2       1     1061     3.0  1260759182\n",
       "3       1     1129     2.0  1260759185\n",
       "4       1     1172     4.0  1260759205"
      ]
     },
     "execution_count": 7,
     "metadata": {},
     "output_type": "execute_result"
    }
   ],
   "source": [
    "ratings.head()"
   ]
  },
  {
   "cell_type": "code",
   "execution_count": 8,
   "metadata": {
    "id": "ZQqs1GQIpI2y"
   },
   "outputs": [],
   "source": [
    "movie_ratings = pd.merge(movies, ratings, left_on='movieId', right_on='movieId')\n",
    "\n",
    "# 딥러닝에서 시간순으로 훈련을 시킬 수 있다.\n",
    "# 시간 별로 정보가 다르기 때문에."
   ]
  },
  {
   "cell_type": "code",
   "execution_count": 9,
   "metadata": {
    "colab": {
     "base_uri": "https://localhost:8080/",
     "height": 195
    },
    "id": "iXrDNF1UpWgF",
    "outputId": "dbd37342-fc1e-4d68-8bb5-f92aa914182d"
   },
   "outputs": [
    {
     "data": {
      "text/html": [
       "<div>\n",
       "<style scoped>\n",
       "    .dataframe tbody tr th:only-of-type {\n",
       "        vertical-align: middle;\n",
       "    }\n",
       "\n",
       "    .dataframe tbody tr th {\n",
       "        vertical-align: top;\n",
       "    }\n",
       "\n",
       "    .dataframe thead th {\n",
       "        text-align: right;\n",
       "    }\n",
       "</style>\n",
       "<table border=\"1\" class=\"dataframe\">\n",
       "  <thead>\n",
       "    <tr style=\"text-align: right;\">\n",
       "      <th></th>\n",
       "      <th>movieId</th>\n",
       "      <th>title</th>\n",
       "      <th>genres</th>\n",
       "      <th>userId</th>\n",
       "      <th>rating</th>\n",
       "      <th>timestamp</th>\n",
       "    </tr>\n",
       "  </thead>\n",
       "  <tbody>\n",
       "    <tr>\n",
       "      <th>0</th>\n",
       "      <td>1</td>\n",
       "      <td>Toy Story (1995)</td>\n",
       "      <td>Adventure|Animation|Children|Comedy|Fantasy</td>\n",
       "      <td>7</td>\n",
       "      <td>3.0</td>\n",
       "      <td>851866703</td>\n",
       "    </tr>\n",
       "    <tr>\n",
       "      <th>1</th>\n",
       "      <td>1</td>\n",
       "      <td>Toy Story (1995)</td>\n",
       "      <td>Adventure|Animation|Children|Comedy|Fantasy</td>\n",
       "      <td>9</td>\n",
       "      <td>4.0</td>\n",
       "      <td>938629179</td>\n",
       "    </tr>\n",
       "    <tr>\n",
       "      <th>2</th>\n",
       "      <td>1</td>\n",
       "      <td>Toy Story (1995)</td>\n",
       "      <td>Adventure|Animation|Children|Comedy|Fantasy</td>\n",
       "      <td>13</td>\n",
       "      <td>5.0</td>\n",
       "      <td>1331380058</td>\n",
       "    </tr>\n",
       "    <tr>\n",
       "      <th>3</th>\n",
       "      <td>1</td>\n",
       "      <td>Toy Story (1995)</td>\n",
       "      <td>Adventure|Animation|Children|Comedy|Fantasy</td>\n",
       "      <td>15</td>\n",
       "      <td>2.0</td>\n",
       "      <td>997938310</td>\n",
       "    </tr>\n",
       "    <tr>\n",
       "      <th>4</th>\n",
       "      <td>1</td>\n",
       "      <td>Toy Story (1995)</td>\n",
       "      <td>Adventure|Animation|Children|Comedy|Fantasy</td>\n",
       "      <td>19</td>\n",
       "      <td>3.0</td>\n",
       "      <td>855190091</td>\n",
       "    </tr>\n",
       "  </tbody>\n",
       "</table>\n",
       "</div>"
      ],
      "text/plain": [
       "   movieId             title                                       genres  \\\n",
       "0        1  Toy Story (1995)  Adventure|Animation|Children|Comedy|Fantasy   \n",
       "1        1  Toy Story (1995)  Adventure|Animation|Children|Comedy|Fantasy   \n",
       "2        1  Toy Story (1995)  Adventure|Animation|Children|Comedy|Fantasy   \n",
       "3        1  Toy Story (1995)  Adventure|Animation|Children|Comedy|Fantasy   \n",
       "4        1  Toy Story (1995)  Adventure|Animation|Children|Comedy|Fantasy   \n",
       "\n",
       "   userId  rating   timestamp  \n",
       "0       7     3.0   851866703  \n",
       "1       9     4.0   938629179  \n",
       "2      13     5.0  1331380058  \n",
       "3      15     2.0   997938310  \n",
       "4      19     3.0   855190091  "
      ]
     },
     "execution_count": 9,
     "metadata": {},
     "output_type": "execute_result"
    }
   ],
   "source": [
    "movie_ratings.head()"
   ]
  },
  {
   "cell_type": "code",
   "execution_count": 10,
   "metadata": {
    "colab": {
     "base_uri": "https://localhost:8080/"
    },
    "id": "udf_2XkOpZ2L",
    "outputId": "ffbf538e-1223-421c-90f3-a17ca8058d47"
   },
   "outputs": [
    {
     "data": {
      "text/plain": [
       "(9125, 3)"
      ]
     },
     "execution_count": 10,
     "metadata": {},
     "output_type": "execute_result"
    }
   ],
   "source": [
    "movies.shape"
   ]
  },
  {
   "cell_type": "code",
   "execution_count": 11,
   "metadata": {
    "colab": {
     "base_uri": "https://localhost:8080/"
    },
    "id": "90izVbp0pcO1",
    "outputId": "438f090d-c181-407a-af71-139342d47483"
   },
   "outputs": [
    {
     "data": {
      "text/plain": [
       "(100004, 4)"
      ]
     },
     "execution_count": 11,
     "metadata": {},
     "output_type": "execute_result"
    }
   ],
   "source": [
    "ratings.shape"
   ]
  },
  {
   "cell_type": "code",
   "execution_count": 12,
   "metadata": {
    "colab": {
     "base_uri": "https://localhost:8080/"
    },
    "id": "l8j8KQfwpeL4",
    "outputId": "5b65c658-bf42-4184-9a64-258b76ac5c07"
   },
   "outputs": [
    {
     "data": {
      "text/plain": [
       "(100004, 6)"
      ]
     },
     "execution_count": 12,
     "metadata": {},
     "output_type": "execute_result"
    }
   ],
   "source": [
    "movie_ratings.shape"
   ]
  },
  {
   "cell_type": "code",
   "execution_count": 14,
   "metadata": {
    "id": "ywKCC6ZqXl33"
   },
   "outputs": [],
   "source": [
    "def getMovieName(movie_ratings, movieID):\n",
    "    return movie_ratings[movie_ratings[\"movieId\"] == movieID][[\"title\", \"genres\"]].values[0]\n",
    "\n",
    "def getMovieID(movie_ratings, movieName):\n",
    "    return movie_ratings[movie_ratings[\"title\"] == movieName][[\"movieId\", \"genres\"]].values[0]"
   ]
  },
  {
   "cell_type": "markdown",
   "metadata": {
    "id": "WHeH7DsyyxCa"
   },
   "source": [
    "## 영화 데이터를 surprise 모듈을 통해 로딩"
   ]
  },
  {
   "cell_type": "code",
   "execution_count": 15,
   "metadata": {
    "id": "ZgtyCtMaw8Eq"
   },
   "outputs": [],
   "source": [
    "reader = Reader(line_format='user item rating timestamp', sep=',', skip_lines=1) # sep은 분리자, 따옴표,콤마면 csv이고, skipline은 헤더무시해라\n",
    "\n",
    "data = Dataset.load_from_file(\"ratings.csv\", reader=reader) # data에 저장"
   ]
  },
  {
   "cell_type": "code",
   "execution_count": 16,
   "metadata": {
    "id": "xn5gBOTgzWAR"
   },
   "outputs": [],
   "source": [
    "from surprise import KNNBasic\n",
    "import heapq\n",
    "from collections import defaultdict"
   ]
  },
  {
   "cell_type": "code",
   "execution_count": 18,
   "metadata": {
    "id": "RpkLzRulzza3"
   },
   "outputs": [],
   "source": [
    "# 데이터를 훈련용과 테스트용으로 나누지 말고 모두 리턴\n",
    "trainSet = data.build_full_trainset()"
   ]
  },
  {
   "cell_type": "code",
   "execution_count": 19,
   "metadata": {
    "colab": {
     "base_uri": "https://localhost:8080/"
    },
    "id": "7SulaH4Qz42-",
    "outputId": "7ef0e487-f094-4ce8-ffb9-1dfc71ec4134"
   },
   "outputs": [
    {
     "name": "stdout",
     "output_type": "stream",
     "text": [
      "Computing the cosine similarity matrix...\n",
      "Done computing similarity matrix.\n",
      "Computing the cosine similarity matrix...\n",
      "Done computing similarity matrix.\n"
     ]
    }
   ],
   "source": [
    "sim_options = {\n",
    "    'name': 'cosine',\n",
    "    'user_based': False\n",
    "}\n",
    "\n",
    "# 아이템 기반과 코사인 유사도 기반으로 동작하는 모델 생성\n",
    "model = KNNBasic(sim_options=sim_options)\n",
    "# 데이터로부터 아이템 벡터 생성\n",
    "model.fit(trainSet)\n",
    "# 아이템간의 유사도 행렬 계산\n",
    "simsMatrix = model.compute_similarities()"
   ]
  },
  {
   "cell_type": "code",
   "execution_count": 21,
   "metadata": {
    "id": "dYnKIcfx0BNh"
   },
   "outputs": [],
   "source": [
    "testUserId = '85'\n",
    "k = 10"
   ]
  },
  {
   "cell_type": "code",
   "execution_count": 22,
   "metadata": {
    "colab": {
     "base_uri": "https://localhost:8080/",
     "height": 489
    },
    "id": "6ZyzNRA5Yw7o",
    "outputId": "e12258fd-2b65-4c81-c747-0b7de0f0a392"
   },
   "outputs": [
    {
     "name": "stderr",
     "output_type": "stream",
     "text": [
      "/Users/KBS/opt/anaconda3/envs/pytorch/lib/python3.7/site-packages/ipykernel_launcher.py:1: FutureWarning: Passing a negative integer is deprecated in version 1.0 and will not be supported in future version. Instead, use None to not limit the column width.\n",
      "  \"\"\"Entry point for launching an IPython kernel.\n"
     ]
    },
    {
     "data": {
      "text/html": [
       "<div>\n",
       "<style scoped>\n",
       "    .dataframe tbody tr th:only-of-type {\n",
       "        vertical-align: middle;\n",
       "    }\n",
       "\n",
       "    .dataframe tbody tr th {\n",
       "        vertical-align: top;\n",
       "    }\n",
       "\n",
       "    .dataframe thead th {\n",
       "        text-align: right;\n",
       "    }\n",
       "</style>\n",
       "<table border=\"1\" class=\"dataframe\">\n",
       "  <thead>\n",
       "    <tr style=\"text-align: right;\">\n",
       "      <th></th>\n",
       "      <th>movieId</th>\n",
       "      <th>title</th>\n",
       "      <th>genres</th>\n",
       "      <th>userId</th>\n",
       "      <th>rating</th>\n",
       "      <th>timestamp</th>\n",
       "    </tr>\n",
       "  </thead>\n",
       "  <tbody>\n",
       "    <tr>\n",
       "      <th>263</th>\n",
       "      <td>2</td>\n",
       "      <td>Jumanji (1995)</td>\n",
       "      <td>Adventure|Children|Fantasy</td>\n",
       "      <td>85</td>\n",
       "      <td>5.0</td>\n",
       "      <td>837511784</td>\n",
       "    </tr>\n",
       "    <tr>\n",
       "      <th>7443</th>\n",
       "      <td>255</td>\n",
       "      <td>Jerky Boys, The (1995)</td>\n",
       "      <td>Comedy</td>\n",
       "      <td>85</td>\n",
       "      <td>5.0</td>\n",
       "      <td>837512635</td>\n",
       "    </tr>\n",
       "    <tr>\n",
       "      <th>19363</th>\n",
       "      <td>648</td>\n",
       "      <td>Mission: Impossible (1996)</td>\n",
       "      <td>Action|Adventure|Mystery|Thriller</td>\n",
       "      <td>85</td>\n",
       "      <td>5.0</td>\n",
       "      <td>837511448</td>\n",
       "    </tr>\n",
       "    <tr>\n",
       "      <th>17405</th>\n",
       "      <td>589</td>\n",
       "      <td>Terminator 2: Judgment Day (1991)</td>\n",
       "      <td>Action|Sci-Fi</td>\n",
       "      <td>85</td>\n",
       "      <td>5.0</td>\n",
       "      <td>837507044</td>\n",
       "    </tr>\n",
       "    <tr>\n",
       "      <th>14386</th>\n",
       "      <td>480</td>\n",
       "      <td>Jurassic Park (1993)</td>\n",
       "      <td>Action|Adventure|Sci-Fi|Thriller</td>\n",
       "      <td>85</td>\n",
       "      <td>5.0</td>\n",
       "      <td>837511743</td>\n",
       "    </tr>\n",
       "    <tr>\n",
       "      <th>...</th>\n",
       "      <td>...</td>\n",
       "      <td>...</td>\n",
       "      <td>...</td>\n",
       "      <td>...</td>\n",
       "      <td>...</td>\n",
       "      <td>...</td>\n",
       "    </tr>\n",
       "    <tr>\n",
       "      <th>16429</th>\n",
       "      <td>546</td>\n",
       "      <td>Super Mario Bros. (1993)</td>\n",
       "      <td>Action|Adventure|Children|Comedy|Fantasy|Sci-Fi</td>\n",
       "      <td>85</td>\n",
       "      <td>1.0</td>\n",
       "      <td>837512482</td>\n",
       "    </tr>\n",
       "    <tr>\n",
       "      <th>11769</th>\n",
       "      <td>366</td>\n",
       "      <td>Wes Craven's New Nightmare (Nightmare on Elm Street Part 7: Freddy's Finale, A) (1994)</td>\n",
       "      <td>Drama|Horror|Mystery|Thriller</td>\n",
       "      <td>85</td>\n",
       "      <td>1.0</td>\n",
       "      <td>837512580</td>\n",
       "    </tr>\n",
       "    <tr>\n",
       "      <th>12156</th>\n",
       "      <td>374</td>\n",
       "      <td>Richie Rich (1994)</td>\n",
       "      <td>Children|Comedy</td>\n",
       "      <td>85</td>\n",
       "      <td>1.0</td>\n",
       "      <td>837512723</td>\n",
       "    </tr>\n",
       "    <tr>\n",
       "      <th>8420</th>\n",
       "      <td>291</td>\n",
       "      <td>Poison Ivy II (1996)</td>\n",
       "      <td>Drama|Thriller</td>\n",
       "      <td>85</td>\n",
       "      <td>1.0</td>\n",
       "      <td>837512611</td>\n",
       "    </tr>\n",
       "    <tr>\n",
       "      <th>8237</th>\n",
       "      <td>282</td>\n",
       "      <td>Nell (1994)</td>\n",
       "      <td>Drama</td>\n",
       "      <td>85</td>\n",
       "      <td>1.0</td>\n",
       "      <td>837512962</td>\n",
       "    </tr>\n",
       "  </tbody>\n",
       "</table>\n",
       "<p>107 rows × 6 columns</p>\n",
       "</div>"
      ],
      "text/plain": [
       "       movieId  \\\n",
       "263    2         \n",
       "7443   255       \n",
       "19363  648       \n",
       "17405  589       \n",
       "14386  480       \n",
       "...    ...       \n",
       "16429  546       \n",
       "11769  366       \n",
       "12156  374       \n",
       "8420   291       \n",
       "8237   282       \n",
       "\n",
       "                                                                                        title  \\\n",
       "263    Jumanji (1995)                                                                           \n",
       "7443   Jerky Boys, The (1995)                                                                   \n",
       "19363  Mission: Impossible (1996)                                                               \n",
       "17405  Terminator 2: Judgment Day (1991)                                                        \n",
       "14386  Jurassic Park (1993)                                                                     \n",
       "...                     ...                                                                     \n",
       "16429  Super Mario Bros. (1993)                                                                 \n",
       "11769  Wes Craven's New Nightmare (Nightmare on Elm Street Part 7: Freddy's Finale, A) (1994)   \n",
       "12156  Richie Rich (1994)                                                                       \n",
       "8420   Poison Ivy II (1996)                                                                     \n",
       "8237   Nell (1994)                                                                              \n",
       "\n",
       "                                                genres  userId  rating  \\\n",
       "263    Adventure|Children|Fantasy                       85      5.0      \n",
       "7443   Comedy                                           85      5.0      \n",
       "19363  Action|Adventure|Mystery|Thriller                85      5.0      \n",
       "17405  Action|Sci-Fi                                    85      5.0      \n",
       "14386  Action|Adventure|Sci-Fi|Thriller                 85      5.0      \n",
       "...                                 ...                 ..      ...      \n",
       "16429  Action|Adventure|Children|Comedy|Fantasy|Sci-Fi  85      1.0      \n",
       "11769  Drama|Horror|Mystery|Thriller                    85      1.0      \n",
       "12156  Children|Comedy                                  85      1.0      \n",
       "8420   Drama|Thriller                                   85      1.0      \n",
       "8237   Drama                                            85      1.0      \n",
       "\n",
       "       timestamp  \n",
       "263    837511784  \n",
       "7443   837512635  \n",
       "19363  837511448  \n",
       "17405  837507044  \n",
       "14386  837511743  \n",
       "...          ...  \n",
       "16429  837512482  \n",
       "11769  837512580  \n",
       "12156  837512723  \n",
       "8420   837512611  \n",
       "8237   837512962  \n",
       "\n",
       "[107 rows x 6 columns]"
      ]
     },
     "metadata": {},
     "output_type": "display_data"
    }
   ],
   "source": [
    "pd.set_option('display.max_colwidth', -1)\n",
    "display(movie_ratings[movie_ratings[\"userId\"] == int(testUserId)].sort_values(\"rating\", ascending=False))"
   ]
  },
  {
   "cell_type": "code",
   "execution_count": 23,
   "metadata": {
    "id": "1Xm-xEjrYujc"
   },
   "outputs": [],
   "source": [
    "testUserInnerID = trainSet.to_inner_uid(testUserId)"
   ]
  },
  {
   "cell_type": "code",
   "execution_count": 24,
   "metadata": {
    "id": "ZXT62k1C0MXA"
   },
   "outputs": [],
   "source": [
    "# 이 사용자가 좋아한 영화 k개를 읽어서 kNeighbors에 저장\n",
    "testUserRatings = trainSet.ur[testUserInnerID]\n",
    "kNeighbors = heapq.nlargest(k, testUserRatings, key=lambda t: t[1])"
   ]
  },
  {
   "cell_type": "code",
   "execution_count": 25,
   "metadata": {
    "id": "vFfjdVUM0T0p"
   },
   "outputs": [],
   "source": [
    "# 이 사용자 좋아한 영화들과 비슷한 영화를 찾아서 candidates에 유사도 가중치를 곱해서 저장\n",
    "candidates = defaultdict(float)\n",
    "for itemID, rating in kNeighbors:\n",
    "    similarityRow = simsMatrix[itemID]\n",
    "    for innerID, score in enumerate(similarityRow):\n",
    "        candidates[innerID] += score * (rating)        "
   ]
  },
  {
   "cell_type": "code",
   "execution_count": 26,
   "metadata": {
    "id": "LB0Z8koI0WWR"
   },
   "outputs": [],
   "source": [
    "# 사용자가 이미 본 아이템들을 기록\n",
    "watched = {}\n",
    "for itemID, rating in trainSet.ur[testUserInnerID]:\n",
    "    watched[itemID] = 1"
   ]
  },
  {
   "cell_type": "code",
   "execution_count": 27,
   "metadata": {
    "colab": {
     "base_uri": "https://localhost:8080/"
    },
    "id": "Lj-Tmcat0YlM",
    "outputId": "88d6b23e-2ee9-4ad8-8e94-a05db62b73c0"
   },
   "outputs": [
    {
     "name": "stdout",
     "output_type": "stream",
     "text": [
      "3136 ['James Dean Story, The (1957)' 'Documentary'] 50.0\n",
      "2607 ['Get Real (1998)' 'Drama|Romance'] 49.93620560356324\n",
      "259 ['Kiss of Death (1995)' 'Crime|Drama|Thriller'] 49.83440938875971\n",
      "998 ['Set It Off (1996)' 'Action|Crime'] 49.818661078285594\n",
      "1935 ['How Green Was My Valley (1941)' 'Drama|Musical|Romance'] 49.71992040532635\n",
      "1440 ['Amos & Andrew (1993)' 'Comedy'] 49.69868472501265\n",
      "269 ['My Crazy Life (Mi vida loca) (1993)' 'Drama'] 49.691452437730206\n",
      "988 ['Grace of My Heart (1996)' 'Comedy|Drama'] 49.631279483226095\n",
      "2068 ['Fanny and Alexander (Fanny och Alexander) (1982)'\n",
      " 'Drama|Fantasy|Mystery'] 49.628498357279526\n",
      "896 ['Wild Reeds (Les roseaux sauvages) (1994)' 'Drama'] 49.58113202209386\n",
      "2626 ['Edge of Seventeen (1998)' 'Comedy|Drama|Romance'] 49.565143823458385\n"
     ]
    }
   ],
   "source": [
    "pos = 0\n",
    "for itemID, ratingSum in sorted(candidates.items(), key=lambda t: t[1], reverse=True):\n",
    "    if not itemID in watched:\n",
    "        movieID = trainSet.to_raw_iid(itemID)\n",
    "        print(movieID, getMovieName(movie_ratings, int(movieID)), ratingSum)\n",
    "        pos += 1\n",
    "        if (pos > 10):\n",
    "            break"
   ]
  },
  {
   "cell_type": "code",
   "execution_count": 30,
   "metadata": {
    "id": "fKAMNwFq8w8t"
   },
   "outputs": [],
   "source": [
    "def recommendForItem(userID):\n",
    "    testUserInnerID = trainSet.to_inner_uid(userID)\n",
    "    testUserRatings = trainSet.ur[testUserInnerID]\n",
    "\n",
    "    kNeighbors = heapq.nlargest(k, testUserRatings, key=lambda t: t[1])\n",
    "\n",
    "    candidates = defaultdict(float)\n",
    "    for itemID, rating in kNeighbors:\n",
    "        similarityRow = simsMatrix[itemID]\n",
    "        for innerID, score in enumerate(similarityRow):\n",
    "            candidates[innerID] += score * (rating) \n",
    " \n",
    "    watched = {}\n",
    "    for itemID, rating in trainSet.ur[testUserInnerID]:\n",
    "        watched[itemID] = 1\n",
    "\n",
    "    pos = 0\n",
    "    for itemID, ratingSum in sorted(candidates.items(), key=itemgetter(1), reverse=True):\n",
    "        if not itemID in watched:\n",
    "            movieID = trainSet.to_raw_iid(itemID)\n",
    "            print(movieID, getMovieName(movie_ratings, int(movieID)), ratingSum)\n",
    "            pos += 1\n",
    "            if (pos > 10):\n",
    "                break      "
   ]
  },
  {
   "cell_type": "code",
   "execution_count": 31,
   "metadata": {
    "id": "QyjOALwuYit2"
   },
   "outputs": [
    {
     "ename": "NameError",
     "evalue": "name 'itemgetter' is not defined",
     "output_type": "error",
     "traceback": [
      "\u001b[0;31m---------------------------------------------------------------------------\u001b[0m",
      "\u001b[0;31mNameError\u001b[0m                                 Traceback (most recent call last)",
      "\u001b[0;32m/var/folders/r8/hnw1hjlx54z7_g14njp906m00000gp/T/ipykernel_12026/4181113283.py\u001b[0m in \u001b[0;36m<module>\u001b[0;34m\u001b[0m\n\u001b[0;32m----> 1\u001b[0;31m \u001b[0mrecommendForItem\u001b[0m\u001b[0;34m(\u001b[0m\u001b[0;34m'85'\u001b[0m\u001b[0;34m)\u001b[0m\u001b[0;34m\u001b[0m\u001b[0;34m\u001b[0m\u001b[0m\n\u001b[0m",
      "\u001b[0;32m/var/folders/r8/hnw1hjlx54z7_g14njp906m00000gp/T/ipykernel_12026/2620695415.py\u001b[0m in \u001b[0;36mrecommendForItem\u001b[0;34m(userID)\u001b[0m\n\u001b[1;32m     16\u001b[0m \u001b[0;34m\u001b[0m\u001b[0m\n\u001b[1;32m     17\u001b[0m     \u001b[0mpos\u001b[0m \u001b[0;34m=\u001b[0m \u001b[0;36m0\u001b[0m\u001b[0;34m\u001b[0m\u001b[0;34m\u001b[0m\u001b[0m\n\u001b[0;32m---> 18\u001b[0;31m     \u001b[0;32mfor\u001b[0m \u001b[0mitemID\u001b[0m\u001b[0;34m,\u001b[0m \u001b[0mratingSum\u001b[0m \u001b[0;32min\u001b[0m \u001b[0msorted\u001b[0m\u001b[0;34m(\u001b[0m\u001b[0mcandidates\u001b[0m\u001b[0;34m.\u001b[0m\u001b[0mitems\u001b[0m\u001b[0;34m(\u001b[0m\u001b[0;34m)\u001b[0m\u001b[0;34m,\u001b[0m \u001b[0mkey\u001b[0m\u001b[0;34m=\u001b[0m\u001b[0mitemgetter\u001b[0m\u001b[0;34m(\u001b[0m\u001b[0;36m1\u001b[0m\u001b[0;34m)\u001b[0m\u001b[0;34m,\u001b[0m \u001b[0mreverse\u001b[0m\u001b[0;34m=\u001b[0m\u001b[0;32mTrue\u001b[0m\u001b[0;34m)\u001b[0m\u001b[0;34m:\u001b[0m\u001b[0;34m\u001b[0m\u001b[0;34m\u001b[0m\u001b[0m\n\u001b[0m\u001b[1;32m     19\u001b[0m         \u001b[0;32mif\u001b[0m \u001b[0;32mnot\u001b[0m \u001b[0mitemID\u001b[0m \u001b[0;32min\u001b[0m \u001b[0mwatched\u001b[0m\u001b[0;34m:\u001b[0m\u001b[0;34m\u001b[0m\u001b[0;34m\u001b[0m\u001b[0m\n\u001b[1;32m     20\u001b[0m             \u001b[0mmovieID\u001b[0m \u001b[0;34m=\u001b[0m \u001b[0mtrainSet\u001b[0m\u001b[0;34m.\u001b[0m\u001b[0mto_raw_iid\u001b[0m\u001b[0;34m(\u001b[0m\u001b[0mitemID\u001b[0m\u001b[0;34m)\u001b[0m\u001b[0;34m\u001b[0m\u001b[0;34m\u001b[0m\u001b[0m\n",
      "\u001b[0;31mNameError\u001b[0m: name 'itemgetter' is not defined"
     ]
    }
   ],
   "source": [
    "recommendForItem('85')"
   ]
  },
  {
   "cell_type": "code",
   "execution_count": null,
   "metadata": {
    "id": "wxfvVA5tYkeB"
   },
   "outputs": [],
   "source": []
  }
 ],
 "metadata": {
  "colab": {
   "name": "(KDT) 아이템 기반 협업 필터링 추천",
   "provenance": []
  },
  "kernelspec": {
   "display_name": "Python 3 (ipykernel)",
   "language": "python",
   "name": "python3"
  },
  "language_info": {
   "codemirror_mode": {
    "name": "ipython",
    "version": 3
   },
   "file_extension": ".py",
   "mimetype": "text/x-python",
   "name": "python",
   "nbconvert_exporter": "python",
   "pygments_lexer": "ipython3",
   "version": "3.7.13"
  }
 },
 "nbformat": 4,
 "nbformat_minor": 1
}
