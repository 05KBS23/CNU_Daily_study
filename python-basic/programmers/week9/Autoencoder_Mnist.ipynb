{
 "cells": [
  {
   "cell_type": "code",
   "execution_count": 2,
   "metadata": {},
   "outputs": [
    {
     "name": "stdout",
     "output_type": "stream",
     "text": [
      "Collecting tensorflow==2.1\n",
      "  Downloading tensorflow-2.1.0-cp37-cp37m-macosx_10_11_x86_64.whl (120.8 MB)\n",
      "\u001b[2K     \u001b[90m━━━━━━━━━━━━━━━━━━━━━━━━━━━━━━━━━━━━━━\u001b[0m \u001b[32m120.8/120.8 MB\u001b[0m \u001b[31m10.1 MB/s\u001b[0m eta \u001b[36m0:00:00\u001b[0m00:01\u001b[0m00:01\u001b[0m\n",
      "\u001b[?25hRequirement already satisfied: six>=1.12.0 in /Users/KBS/opt/anaconda3/envs/pytorch/lib/python3.7/site-packages (from tensorflow==2.1) (1.16.0)\n",
      "Requirement already satisfied: absl-py>=0.7.0 in /Users/KBS/opt/anaconda3/envs/pytorch/lib/python3.7/site-packages (from tensorflow==2.1) (0.15.0)\n",
      "Collecting tensorflow-estimator<2.2.0,>=2.1.0rc0\n",
      "  Downloading tensorflow_estimator-2.1.0-py2.py3-none-any.whl (448 kB)\n",
      "\u001b[2K     \u001b[90m━━━━━━━━━━━━━━━━━━━━━━━━━━━━━━━━━━━━━━\u001b[0m \u001b[32m449.0/449.0 kB\u001b[0m \u001b[31m10.3 MB/s\u001b[0m eta \u001b[36m0:00:00\u001b[0m00:01\u001b[0m\n",
      "\u001b[?25hCollecting tensorboard<2.2.0,>=2.1.0\n",
      "  Downloading tensorboard-2.1.1-py3-none-any.whl (3.8 MB)\n",
      "\u001b[2K     \u001b[90m━━━━━━━━━━━━━━━━━━━━━━━━━━━━━━━━━━━━━━━━\u001b[0m \u001b[32m3.8/3.8 MB\u001b[0m \u001b[31m15.9 MB/s\u001b[0m eta \u001b[36m0:00:00\u001b[0m00:01\u001b[0m00:01\u001b[0m\n",
      "\u001b[?25hRequirement already satisfied: astor>=0.6.0 in /Users/KBS/opt/anaconda3/envs/pytorch/lib/python3.7/site-packages (from tensorflow==2.1) (0.8.1)\n",
      "Collecting gast==0.2.2\n",
      "  Downloading gast-0.2.2.tar.gz (10 kB)\n",
      "  Preparing metadata (setup.py) ... \u001b[?25ldone\n",
      "\u001b[?25hRequirement already satisfied: keras-preprocessing>=1.1.0 in /Users/KBS/opt/anaconda3/envs/pytorch/lib/python3.7/site-packages (from tensorflow==2.1) (1.1.2)\n",
      "Requirement already satisfied: wheel>=0.26 in /Users/KBS/opt/anaconda3/envs/pytorch/lib/python3.7/site-packages (from tensorflow==2.1) (0.37.1)\n",
      "Requirement already satisfied: grpcio>=1.8.6 in /Users/KBS/opt/anaconda3/envs/pytorch/lib/python3.7/site-packages (from tensorflow==2.1) (1.42.0)\n",
      "Requirement already satisfied: google-pasta>=0.1.6 in /Users/KBS/opt/anaconda3/envs/pytorch/lib/python3.7/site-packages (from tensorflow==2.1) (0.2.0)\n",
      "Requirement already satisfied: numpy<2.0,>=1.16.0 in /Users/KBS/opt/anaconda3/envs/pytorch/lib/python3.7/site-packages (from tensorflow==2.1) (1.21.5)\n",
      "Requirement already satisfied: protobuf>=3.8.0 in /Users/KBS/opt/anaconda3/envs/pytorch/lib/python3.7/site-packages (from tensorflow==2.1) (3.20.1)\n",
      "Collecting scipy==1.4.1\n",
      "  Downloading scipy-1.4.1-cp37-cp37m-macosx_10_6_intel.whl (28.4 MB)\n",
      "\u001b[2K     \u001b[90m━━━━━━━━━━━━━━━━━━━━━━━━━━━━━━━━━━━━━━━━\u001b[0m \u001b[32m28.4/28.4 MB\u001b[0m \u001b[31m5.6 MB/s\u001b[0m eta \u001b[36m0:00:00\u001b[0m00:01\u001b[0m00:01\u001b[0mm\n",
      "\u001b[?25hRequirement already satisfied: opt-einsum>=2.3.2 in /Users/KBS/opt/anaconda3/envs/pytorch/lib/python3.7/site-packages (from tensorflow==2.1) (3.3.0)\n",
      "Requirement already satisfied: termcolor>=1.1.0 in /Users/KBS/opt/anaconda3/envs/pytorch/lib/python3.7/site-packages (from tensorflow==2.1) (1.1.0)\n",
      "Requirement already satisfied: wrapt>=1.11.1 in /Users/KBS/opt/anaconda3/envs/pytorch/lib/python3.7/site-packages (from tensorflow==2.1) (1.14.1)\n",
      "Requirement already satisfied: keras-applications>=1.0.8 in /Users/KBS/opt/anaconda3/envs/pytorch/lib/python3.7/site-packages (from tensorflow==2.1) (1.0.8)\n",
      "Requirement already satisfied: h5py in /Users/KBS/opt/anaconda3/envs/pytorch/lib/python3.7/site-packages (from keras-applications>=1.0.8->tensorflow==2.1) (3.7.0)\n",
      "Collecting google-auth<2,>=1.6.3\n",
      "  Downloading google_auth-1.35.0-py2.py3-none-any.whl (152 kB)\n",
      "\u001b[2K     \u001b[90m━━━━━━━━━━━━━━━━━━━━━━━━━━━━━━━━━━━━━━━\u001b[0m \u001b[32m152.9/152.9 kB\u001b[0m \u001b[31m6.5 MB/s\u001b[0m eta \u001b[36m0:00:00\u001b[0m\n",
      "\u001b[?25hRequirement already satisfied: requests<3,>=2.21.0 in /Users/KBS/opt/anaconda3/envs/pytorch/lib/python3.7/site-packages (from tensorboard<2.2.0,>=2.1.0->tensorflow==2.1) (2.28.1)\n",
      "Requirement already satisfied: google-auth-oauthlib<0.5,>=0.4.1 in /Users/KBS/opt/anaconda3/envs/pytorch/lib/python3.7/site-packages (from tensorboard<2.2.0,>=2.1.0->tensorflow==2.1) (0.4.6)\n",
      "Requirement already satisfied: markdown>=2.6.8 in /Users/KBS/opt/anaconda3/envs/pytorch/lib/python3.7/site-packages (from tensorboard<2.2.0,>=2.1.0->tensorflow==2.1) (3.3.4)\n",
      "Requirement already satisfied: werkzeug>=0.11.15 in /Users/KBS/opt/anaconda3/envs/pytorch/lib/python3.7/site-packages (from tensorboard<2.2.0,>=2.1.0->tensorflow==2.1) (2.0.3)\n",
      "Requirement already satisfied: setuptools>=41.0.0 in /Users/KBS/opt/anaconda3/envs/pytorch/lib/python3.7/site-packages (from tensorboard<2.2.0,>=2.1.0->tensorflow==2.1) (63.4.1)\n",
      "Requirement already satisfied: pyasn1-modules>=0.2.1 in /Users/KBS/opt/anaconda3/envs/pytorch/lib/python3.7/site-packages (from google-auth<2,>=1.6.3->tensorboard<2.2.0,>=2.1.0->tensorflow==2.1) (0.2.8)\n",
      "Collecting cachetools<5.0,>=2.0.0\n",
      "  Downloading cachetools-4.2.4-py3-none-any.whl (10 kB)\n",
      "Requirement already satisfied: rsa<5,>=3.1.4 in /Users/KBS/opt/anaconda3/envs/pytorch/lib/python3.7/site-packages (from google-auth<2,>=1.6.3->tensorboard<2.2.0,>=2.1.0->tensorflow==2.1) (4.9)\n",
      "Requirement already satisfied: requests-oauthlib>=0.7.0 in /Users/KBS/opt/anaconda3/envs/pytorch/lib/python3.7/site-packages (from google-auth-oauthlib<0.5,>=0.4.1->tensorboard<2.2.0,>=2.1.0->tensorflow==2.1) (1.3.1)\n",
      "Requirement already satisfied: importlib-metadata in /Users/KBS/opt/anaconda3/envs/pytorch/lib/python3.7/site-packages (from markdown>=2.6.8->tensorboard<2.2.0,>=2.1.0->tensorflow==2.1) (4.11.3)\n",
      "Requirement already satisfied: urllib3<1.27,>=1.21.1 in /Users/KBS/opt/anaconda3/envs/pytorch/lib/python3.7/site-packages (from requests<3,>=2.21.0->tensorboard<2.2.0,>=2.1.0->tensorflow==2.1) (1.26.11)\n",
      "Requirement already satisfied: idna<4,>=2.5 in /Users/KBS/opt/anaconda3/envs/pytorch/lib/python3.7/site-packages (from requests<3,>=2.21.0->tensorboard<2.2.0,>=2.1.0->tensorflow==2.1) (3.3)\n",
      "Requirement already satisfied: charset-normalizer<3,>=2 in /Users/KBS/opt/anaconda3/envs/pytorch/lib/python3.7/site-packages (from requests<3,>=2.21.0->tensorboard<2.2.0,>=2.1.0->tensorflow==2.1) (2.0.4)\n",
      "Requirement already satisfied: certifi>=2017.4.17 in /Users/KBS/opt/anaconda3/envs/pytorch/lib/python3.7/site-packages (from requests<3,>=2.21.0->tensorboard<2.2.0,>=2.1.0->tensorflow==2.1) (2022.6.15)\n",
      "Requirement already satisfied: pyasn1<0.5.0,>=0.4.6 in /Users/KBS/opt/anaconda3/envs/pytorch/lib/python3.7/site-packages (from pyasn1-modules>=0.2.1->google-auth<2,>=1.6.3->tensorboard<2.2.0,>=2.1.0->tensorflow==2.1) (0.4.8)\n",
      "Requirement already satisfied: oauthlib>=3.0.0 in /Users/KBS/opt/anaconda3/envs/pytorch/lib/python3.7/site-packages (from requests-oauthlib>=0.7.0->google-auth-oauthlib<0.5,>=0.4.1->tensorboard<2.2.0,>=2.1.0->tensorflow==2.1) (3.2.0)\n",
      "Requirement already satisfied: typing-extensions>=3.6.4 in /Users/KBS/opt/anaconda3/envs/pytorch/lib/python3.7/site-packages (from importlib-metadata->markdown>=2.6.8->tensorboard<2.2.0,>=2.1.0->tensorflow==2.1) (4.3.0)\n",
      "Requirement already satisfied: zipp>=0.5 in /Users/KBS/opt/anaconda3/envs/pytorch/lib/python3.7/site-packages (from importlib-metadata->markdown>=2.6.8->tensorboard<2.2.0,>=2.1.0->tensorflow==2.1) (3.8.0)\n",
      "Building wheels for collected packages: gast\n",
      "  Building wheel for gast (setup.py) ... \u001b[?25ldone\n",
      "\u001b[?25h  Created wheel for gast: filename=gast-0.2.2-py3-none-any.whl size=7538 sha256=7c942093de17680864ca7da0d0272ca9d486014036b5f5471ca8e533400cf1d7\n",
      "  Stored in directory: /Users/KBS/Library/Caches/pip/wheels/21/7f/02/420f32a803f7d0967b48dd823da3f558c5166991bfd204eef3\n",
      "Successfully built gast\n",
      "Installing collected packages: tensorflow-estimator, scipy, gast, cachetools, google-auth, tensorboard, tensorflow\n",
      "  Attempting uninstall: tensorflow-estimator\n",
      "    Found existing installation: tensorflow-estimator 2.4.0\n",
      "    Uninstalling tensorflow-estimator-2.4.0:\n",
      "      Successfully uninstalled tensorflow-estimator-2.4.0\n",
      "  Attempting uninstall: scipy\n",
      "    Found existing installation: scipy 1.7.3\n",
      "    Uninstalling scipy-1.7.3:\n",
      "      Successfully uninstalled scipy-1.7.3\n",
      "  Attempting uninstall: gast\n",
      "    Found existing installation: gast 0.3.3\n",
      "    Uninstalling gast-0.3.3:\n",
      "      Successfully uninstalled gast-0.3.3\n",
      "  Attempting uninstall: cachetools\n",
      "    Found existing installation: cachetools 5.2.0\n",
      "    Uninstalling cachetools-5.2.0:\n",
      "      Successfully uninstalled cachetools-5.2.0\n",
      "  Attempting uninstall: google-auth\n",
      "    Found existing installation: google-auth 2.10.0\n",
      "    Uninstalling google-auth-2.10.0:\n"
     ]
    },
    {
     "name": "stdout",
     "output_type": "stream",
     "text": [
      "      Successfully uninstalled google-auth-2.10.0\n",
      "  Attempting uninstall: tensorboard\n",
      "    Found existing installation: tensorboard 2.8.0\n",
      "    Uninstalling tensorboard-2.8.0:\n",
      "      Successfully uninstalled tensorboard-2.8.0\n",
      "  Attempting uninstall: tensorflow\n",
      "    Found existing installation: tensorflow 2.8.0\n",
      "    Uninstalling tensorflow-2.8.0:\n",
      "      Successfully uninstalled tensorflow-2.8.0\n",
      "Successfully installed cachetools-4.2.4 gast-0.2.2 google-auth-1.35.0 scipy-1.4.1 tensorboard-2.1.1 tensorflow-2.1.0 tensorflow-estimator-2.1.0\n",
      "Collecting keras==2.3.1\n",
      "  Downloading Keras-2.3.1-py2.py3-none-any.whl (377 kB)\n",
      "\u001b[2K     \u001b[90m━━━━━━━━━━━━━━━━━━━━━━━━━━━━━━━━━━━━━━━\u001b[0m \u001b[32m377.8/377.8 kB\u001b[0m \u001b[31m3.2 MB/s\u001b[0m eta \u001b[36m0:00:00\u001b[0m00:01\u001b[0m\n",
      "\u001b[?25hRequirement already satisfied: keras-applications>=1.0.6 in /Users/KBS/opt/anaconda3/envs/pytorch/lib/python3.7/site-packages (from keras==2.3.1) (1.0.8)\n",
      "Requirement already satisfied: six>=1.9.0 in /Users/KBS/opt/anaconda3/envs/pytorch/lib/python3.7/site-packages (from keras==2.3.1) (1.16.0)\n",
      "Requirement already satisfied: numpy>=1.9.1 in /Users/KBS/opt/anaconda3/envs/pytorch/lib/python3.7/site-packages (from keras==2.3.1) (1.21.5)\n",
      "Requirement already satisfied: h5py in /Users/KBS/opt/anaconda3/envs/pytorch/lib/python3.7/site-packages (from keras==2.3.1) (3.7.0)\n",
      "Requirement already satisfied: scipy>=0.14 in /Users/KBS/opt/anaconda3/envs/pytorch/lib/python3.7/site-packages (from keras==2.3.1) (1.4.1)\n",
      "Requirement already satisfied: pyyaml in /Users/KBS/opt/anaconda3/envs/pytorch/lib/python3.7/site-packages (from keras==2.3.1) (6.0)\n",
      "Requirement already satisfied: keras-preprocessing>=1.0.5 in /Users/KBS/opt/anaconda3/envs/pytorch/lib/python3.7/site-packages (from keras==2.3.1) (1.1.2)\n",
      "Installing collected packages: keras\n",
      "  Attempting uninstall: keras\n",
      "    Found existing installation: keras 2.6.0\n",
      "    Uninstalling keras-2.6.0:\n",
      "      Successfully uninstalled keras-2.6.0\n",
      "Successfully installed keras-2.3.1\n"
     ]
    }
   ],
   "source": [
    "!pip install tensorflow==2.1\n",
    "!pip install keras==2.3.1"
   ]
  },
  {
   "cell_type": "code",
   "execution_count": 3,
   "metadata": {
    "id": "cv2rcOr48imA"
   },
   "outputs": [],
   "source": [
    "import numpy as np\n",
    "import matplotlib.pyplot as plt\n",
    "from keras.layers import Input, Dense\n",
    "from keras.models import Model\n",
    "from keras.datasets import mnist"
   ]
  },
  {
   "cell_type": "code",
   "execution_count": 4,
   "metadata": {
    "colab": {
     "base_uri": "https://localhost:8080/"
    },
    "id": "KUr2MERZA5XS",
    "outputId": "94382dce-04ca-431f-85f4-c403675578be"
   },
   "outputs": [
    {
     "name": "stdout",
     "output_type": "stream",
     "text": [
      "Downloading data from https://s3.amazonaws.com/img-datasets/mnist.npz\n",
      "11493376/11490434 [==============================] - 58s 5us/step\n",
      "(60000, 28, 28)\n"
     ]
    }
   ],
   "source": [
    "(x_train, y_train), (x_test, y_test) = mnist.load_data()\n",
    "\n",
    "x_train = x_train.astype('float32') / 256\n",
    "x_test = x_test.astype('float32') / 256\n",
    "\n",
    "print(x_train.shape)"
   ]
  },
  {
   "cell_type": "code",
   "execution_count": 5,
   "metadata": {
    "colab": {
     "base_uri": "https://localhost:8080/"
    },
    "id": "5t7KNCvPoIz1",
    "outputId": "2979ad45-9294-489b-c0cb-1741c7079764"
   },
   "outputs": [
    {
     "name": "stdout",
     "output_type": "stream",
     "text": [
      "(60000, 784)\n",
      "(10000, 784)\n"
     ]
    }
   ],
   "source": [
    "x_train = x_train.reshape(len(x_train), 28*28)\n",
    "x_test = x_test.reshape(len(x_test), 28*28)\n",
    "\n",
    "print(x_train.shape)\n",
    "print(x_test.shape)"
   ]
  },
  {
   "cell_type": "code",
   "execution_count": 6,
   "metadata": {
    "id": "MCtTpQRjA9X4"
   },
   "outputs": [
    {
     "name": "stderr",
     "output_type": "stream",
     "text": [
      "2022-09-08 23:47:04.920204: I tensorflow/core/platform/cpu_feature_guard.cc:145] This TensorFlow binary is optimized with Intel(R) MKL-DNN to use the following CPU instructions in performance critical operations:  SSE4.1 SSE4.2 AVX AVX2 FMA\n",
      "To enable them in non-MKL-DNN operations, rebuild TensorFlow with the appropriate compiler flags.\n",
      "2022-09-08 23:47:04.920636: I tensorflow/core/common_runtime/process_util.cc:115] Creating new thread pool with default inter op setting: 4. Tune using inter_op_parallelism_threads for best performance.\n"
     ]
    }
   ],
   "source": [
    "input_layer = Input(shape=(784,))\n",
    "encoded = Dense(64, activation='relu')(input_layer)\n",
    "decoded = Dense(784, activation='sigmoid')(encoded)"
   ]
  },
  {
   "cell_type": "code",
   "execution_count": 7,
   "metadata": {
    "id": "LOMYwzl0BAtE"
   },
   "outputs": [],
   "source": [
    "autoencoder = Model(input_layer, decoded)"
   ]
  },
  {
   "cell_type": "code",
   "execution_count": 8,
   "metadata": {
    "id": "wuo7vQ2MBHZW"
   },
   "outputs": [],
   "source": [
    "encoder = Model(input_layer, encoded)"
   ]
  },
  {
   "cell_type": "code",
   "execution_count": 9,
   "metadata": {
    "id": "xSvPdJDLBJrS"
   },
   "outputs": [],
   "source": [
    "input_layer_decoder = Input(shape=(64,))\n",
    "decoder_layer = autoencoder.layers[-1](input_layer_decoder)\n",
    "decoder = Model(input_layer_decoder,decoder_layer)"
   ]
  },
  {
   "cell_type": "code",
   "execution_count": 10,
   "metadata": {
    "colab": {
     "base_uri": "https://localhost:8080/"
    },
    "id": "_4vqBbPjBPh3",
    "outputId": "e8b0858c-9391-4be2-f3ce-df5527d96706"
   },
   "outputs": [
    {
     "name": "stdout",
     "output_type": "stream",
     "text": [
      "Model: \"model_1\"\n",
      "_________________________________________________________________\n",
      "Layer (type)                 Output Shape              Param #   \n",
      "=================================================================\n",
      "input_1 (InputLayer)         (None, 784)               0         \n",
      "_________________________________________________________________\n",
      "dense_1 (Dense)              (None, 64)                50240     \n",
      "_________________________________________________________________\n",
      "dense_2 (Dense)              (None, 784)               50960     \n",
      "=================================================================\n",
      "Total params: 101,200\n",
      "Trainable params: 101,200\n",
      "Non-trainable params: 0\n",
      "_________________________________________________________________\n"
     ]
    }
   ],
   "source": [
    "autoencoder.summary()"
   ]
  },
  {
   "cell_type": "code",
   "execution_count": 11,
   "metadata": {
    "colab": {
     "base_uri": "https://localhost:8080/"
    },
    "id": "Fn_BHg3YBgo6",
    "outputId": "204d546c-bbd4-4716-e7c4-d0718c078522"
   },
   "outputs": [
    {
     "name": "stdout",
     "output_type": "stream",
     "text": [
      "Train on 60000 samples, validate on 10000 samples\n",
      "Epoch 1/50\n",
      "60000/60000 [==============================] - 8s 139us/step - loss: 0.2445 - val_loss: 0.1626\n",
      "Epoch 2/50\n",
      "60000/60000 [==============================] - 7s 110us/step - loss: 0.1447 - val_loss: 0.1285\n",
      "Epoch 3/50\n",
      "60000/60000 [==============================] - 8s 128us/step - loss: 0.1200 - val_loss: 0.1103\n",
      "Epoch 4/50\n",
      "60000/60000 [==============================] - 7s 120us/step - loss: 0.1057 - val_loss: 0.0996\n",
      "Epoch 5/50\n",
      "60000/60000 [==============================] - 9s 154us/step - loss: 0.0966 - val_loss: 0.0919\n",
      "Epoch 6/50\n",
      "60000/60000 [==============================] - 8s 126us/step - loss: 0.0902 - val_loss: 0.0867\n",
      "Epoch 7/50\n",
      "60000/60000 [==============================] - 7s 121us/step - loss: 0.0858 - val_loss: 0.0831\n",
      "Epoch 8/50\n",
      "60000/60000 [==============================] - 8s 138us/step - loss: 0.0826 - val_loss: 0.0806\n",
      "Epoch 9/50\n",
      "60000/60000 [==============================] - 8s 130us/step - loss: 0.0805 - val_loss: 0.0789\n",
      "Epoch 10/50\n",
      "60000/60000 [==============================] - 7s 121us/step - loss: 0.0790 - val_loss: 0.0777\n",
      "Epoch 11/50\n",
      "60000/60000 [==============================] - 8s 130us/step - loss: 0.0780 - val_loss: 0.0769\n",
      "Epoch 12/50\n",
      "60000/60000 [==============================] - 8s 134us/step - loss: 0.0773 - val_loss: 0.0763\n",
      "Epoch 13/50\n",
      "60000/60000 [==============================] - 9s 150us/step - loss: 0.0768 - val_loss: 0.0759\n",
      "Epoch 14/50\n",
      "60000/60000 [==============================] - 7s 117us/step - loss: 0.0764 - val_loss: 0.0756\n",
      "Epoch 15/50\n",
      "60000/60000 [==============================] - 8s 127us/step - loss: 0.0761 - val_loss: 0.0753\n",
      "Epoch 16/50\n",
      "60000/60000 [==============================] - 8s 127us/step - loss: 0.0758 - val_loss: 0.0752\n",
      "Epoch 17/50\n",
      "60000/60000 [==============================] - 9s 153us/step - loss: 0.0756 - val_loss: 0.0750\n",
      "Epoch 18/50\n",
      "60000/60000 [==============================] - 8s 126us/step - loss: 0.0754 - val_loss: 0.0748\n",
      "Epoch 19/50\n",
      "60000/60000 [==============================] - 9s 142us/step - loss: 0.0753 - val_loss: 0.0747\n",
      "Epoch 20/50\n",
      "60000/60000 [==============================] - 8s 132us/step - loss: 0.0752 - val_loss: 0.0746\n",
      "Epoch 21/50\n",
      "60000/60000 [==============================] - 7s 124us/step - loss: 0.0751 - val_loss: 0.0745\n",
      "Epoch 22/50\n",
      "60000/60000 [==============================] - 8s 126us/step - loss: 0.0750 - val_loss: 0.0744\n",
      "Epoch 23/50\n",
      "60000/60000 [==============================] - 8s 141us/step - loss: 0.0749 - val_loss: 0.0744\n",
      "Epoch 24/50\n",
      "60000/60000 [==============================] - 9s 153us/step - loss: 0.0748 - val_loss: 0.0743\n",
      "Epoch 25/50\n",
      "60000/60000 [==============================] - 7s 124us/step - loss: 0.0748 - val_loss: 0.0743\n",
      "Epoch 26/50\n",
      "60000/60000 [==============================] - 7s 113us/step - loss: 0.0747 - val_loss: 0.0742\n",
      "Epoch 27/50\n",
      "60000/60000 [==============================] - 8s 140us/step - loss: 0.0747 - val_loss: 0.0742\n",
      "Epoch 28/50\n",
      "60000/60000 [==============================] - 8s 130us/step - loss: 0.0746 - val_loss: 0.0741\n",
      "Epoch 29/50\n",
      "60000/60000 [==============================] - 8s 126us/step - loss: 0.0746 - val_loss: 0.0741\n",
      "Epoch 30/50\n",
      "60000/60000 [==============================] - 7s 117us/step - loss: 0.0745 - val_loss: 0.0740\n",
      "Epoch 31/50\n",
      "60000/60000 [==============================] - 7s 119us/step - loss: 0.0745 - val_loss: 0.0740\n",
      "Epoch 32/50\n",
      "60000/60000 [==============================] - 8s 127us/step - loss: 0.0745 - val_loss: 0.0740\n",
      "Epoch 33/50\n",
      "60000/60000 [==============================] - 8s 135us/step - loss: 0.0744 - val_loss: 0.0740\n",
      "Epoch 34/50\n",
      "60000/60000 [==============================] - 8s 136us/step - loss: 0.0744 - val_loss: 0.0740\n",
      "Epoch 35/50\n",
      "60000/60000 [==============================] - 7s 120us/step - loss: 0.0744 - val_loss: 0.0739\n",
      "Epoch 36/50\n",
      "60000/60000 [==============================] - 8s 130us/step - loss: 0.0744 - val_loss: 0.0739\n",
      "Epoch 37/50\n",
      "60000/60000 [==============================] - 9s 148us/step - loss: 0.0743 - val_loss: 0.0739\n",
      "Epoch 38/50\n",
      "60000/60000 [==============================] - 8s 137us/step - loss: 0.0743 - val_loss: 0.0739\n",
      "Epoch 39/50\n",
      "60000/60000 [==============================] - 9s 150us/step - loss: 0.0743 - val_loss: 0.0739\n",
      "Epoch 40/50\n",
      "60000/60000 [==============================] - 8s 141us/step - loss: 0.0743 - val_loss: 0.0738\n",
      "Epoch 41/50\n",
      "60000/60000 [==============================] - 8s 130us/step - loss: 0.0743 - val_loss: 0.0738\n",
      "Epoch 42/50\n",
      "60000/60000 [==============================] - 8s 125us/step - loss: 0.0743 - val_loss: 0.0738\n",
      "Epoch 43/50\n",
      "60000/60000 [==============================] - 9s 146us/step - loss: 0.0742 - val_loss: 0.0739\n",
      "Epoch 44/50\n",
      "60000/60000 [==============================] - 8s 133us/step - loss: 0.0742 - val_loss: 0.0738\n",
      "Epoch 45/50\n",
      "60000/60000 [==============================] - 10s 160us/step - loss: 0.0742 - val_loss: 0.0738\n",
      "Epoch 46/50\n",
      "60000/60000 [==============================] - 7s 119us/step - loss: 0.0742 - val_loss: 0.0738\n",
      "Epoch 47/50\n",
      "60000/60000 [==============================] - 8s 132us/step - loss: 0.0742 - val_loss: 0.0739\n",
      "Epoch 48/50\n",
      "60000/60000 [==============================] - 8s 135us/step - loss: 0.0742 - val_loss: 0.0738\n",
      "Epoch 49/50\n",
      "60000/60000 [==============================] - 10s 159us/step - loss: 0.0742 - val_loss: 0.0738\n",
      "Epoch 50/50\n",
      "60000/60000 [==============================] - 9s 143us/step - loss: 0.0742 - val_loss: 0.0737\n"
     ]
    },
    {
     "data": {
      "text/plain": [
       "<keras.callbacks.callbacks.History at 0x7fb7147c1990>"
      ]
     },
     "execution_count": 11,
     "metadata": {},
     "output_type": "execute_result"
    }
   ],
   "source": [
    "autoencoder.compile(optimizer='adam', loss='binary_crossentropy')\n",
    "autoencoder.fit(x_train,x_train, epochs=50, batch_size=256, shuffle=True, validation_data=(x_test,x_test))"
   ]
  },
  {
   "cell_type": "code",
   "execution_count": 12,
   "metadata": {
    "id": "b5NbVnagD53c"
   },
   "outputs": [],
   "source": [
    "encoded_images = encoder.predict(x_test)\n",
    "decoded_images = decoder.predict(encoded_images)"
   ]
  },
  {
   "cell_type": "code",
   "execution_count": 13,
   "metadata": {
    "id": "UAmQi8DhD-Yf"
   },
   "outputs": [],
   "source": [
    "def visualize(data, size):\n",
    "    n = 8\n",
    "    plt.figure(figsize=(20,4))\n",
    "    plt.gray()\n",
    "    for i in range(n):\n",
    "        ax = plt.subplot(2,n,i+1)\n",
    "        plt.imshow(data[i].reshape(size,size))\n",
    "        ax.get_xaxis().set_visible(False)\n",
    "        ax.get_yaxis().set_visible(False)\n",
    "    plt.show()"
   ]
  },
  {
   "cell_type": "code",
   "execution_count": 14,
   "metadata": {
    "id": "3OF0nVYuEB35"
   },
   "outputs": [
    {
     "data": {
      "image/png": "[encoded data removed]",
      "text/plain": [
       "<Figure size 2000x400 with 8 Axes>"
      ]
     },
     "metadata": {},
     "output_type": "display_data"
    },
    {
     "data": {
      "image/png": "[encoded data removed]",
      "text/plain": [
       "<Figure size 2000x400 with 8 Axes>"
      ]
     },
     "metadata": {},
     "output_type": "display_data"
    },
    {
     "data": {
      "image/png": "[encoded data removed]",
      "text/plain": [
       "<Figure size 2000x400 with 8 Axes>"
      ]
     },
     "metadata": {},
     "output_type": "display_data"
    }
   ],
   "source": [
    "visualize(x_test, 28)\n",
    "visualize(encoded_images, 8)\n",
    "visualize(decoded_images, 28)"
   ]
  },
  {
   "cell_type": "code",
   "execution_count": null,
   "metadata": {
    "id": "sXlp1WvQEM0o"
   },
   "outputs": [],
   "source": []
  },
  {
   "cell_type": "code",
   "execution_count": null,
   "metadata": {},
   "outputs": [],
   "source": []
  }
 ],
 "metadata": {
  "colab": {
   "provenance": []
  },
  "kernelspec": {
   "display_name": "ML",
   "language": "python",
   "name": "pytorch"
  },
  "language_info": {
   "codemirror_mode": {
    "name": "ipython",
    "version": 3
   },
   "file_extension": ".py",
   "mimetype": "text/x-python",
   "name": "python",
   "nbconvert_exporter": "python",
   "pygments_lexer": "ipython3",
   "version": "3.7.13"
  }
 },
 "nbformat": 4,
 "nbformat_minor": 1
}
