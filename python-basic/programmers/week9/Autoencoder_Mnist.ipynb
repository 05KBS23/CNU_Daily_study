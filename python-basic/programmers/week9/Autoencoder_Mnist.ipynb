{
 "cells": [
  {
   "cell_type": "code",
   "execution_count": null,
   "metadata": {
    "id": "cv2rcOr48imA"
   },
   "outputs": [],
   "source": [
    "import numpy as np\n",
    "import matplotlib.pyplot as plt\n",
    "from keras.layers import Input, Dense\n",
    "from keras.models import Model\n",
    "from keras.datasets import mnist"
   ]
  },
  {
   "cell_type": "code",
   "execution_count": null,
   "metadata": {
    "colab": {
     "base_uri": "https://localhost:8080/"
    },
    "id": "KUr2MERZA5XS",
    "outputId": "94382dce-04ca-431f-85f4-c403675578be"
   },
   "outputs": [
    {
     "name": "stdout",
     "output_type": "stream",
     "text": [
      "Downloading data from https://storage.googleapis.com/tensorflow/tf-keras-datasets/mnist.npz\n",
      "11493376/11490434 [==============================] - 0s 0us/step\n",
      "11501568/11490434 [==============================] - 0s 0us/step\n",
      "(60000, 28, 28)\n"
     ]
    }
   ],
   "source": [
    "(x_train, y_train), (x_test, y_test) = mnist.load_data()\n",
    "\n",
    "x_train = x_train.astype('float32') / 256\n",
    "x_test = x_test.astype('float32') / 256\n",
    "\n",
    "print(x_train.shape)"
   ]
  },
  {
   "cell_type": "code",
   "execution_count": null,
   "metadata": {
    "colab": {
     "base_uri": "https://localhost:8080/"
    },
    "id": "5t7KNCvPoIz1",
    "outputId": "2979ad45-9294-489b-c0cb-1741c7079764"
   },
   "outputs": [
    {
     "name": "stdout",
     "output_type": "stream",
     "text": [
      "(60000, 784)\n",
      "(10000, 784)\n"
     ]
    }
   ],
   "source": [
    "x_train = x_train.reshape(len(x_train), 28*28)\n",
    "x_test = x_test.reshape(len(x_test), 28*28)\n",
    "\n",
    "print(x_train.shape)\n",
    "print(x_test.shape)"
   ]
  },
  {
   "cell_type": "code",
   "execution_count": null,
   "metadata": {
    "id": "MCtTpQRjA9X4"
   },
   "outputs": [],
   "source": [
    "input_layer = Input(shape=(784,))\n",
    "encoded = Dense(64, activation='relu')(input_layer)\n",
    "decoded = Dense(784, activation='sigmoid')(encoded)"
   ]
  },
  {
   "cell_type": "code",
   "execution_count": null,
   "metadata": {
    "id": "LOMYwzl0BAtE"
   },
   "outputs": [],
   "source": [
    "autoencoder = Model(input_layer, decoded)"
   ]
  },
  {
   "cell_type": "code",
   "execution_count": null,
   "metadata": {
    "id": "wuo7vQ2MBHZW"
   },
   "outputs": [],
   "source": [
    "encoder = Model(input_layer, encoded)"
   ]
  },
  {
   "cell_type": "code",
   "execution_count": null,
   "metadata": {
    "id": "xSvPdJDLBJrS"
   },
   "outputs": [],
   "source": [
    "input_layer_decoder = Input(shape=(64,))\n",
    "decoder_layer = autoencoder.layers[-1](input_layer_decoder)\n",
    "decoder = Model(input_layer_decoder,decoder_layer)"
   ]
  },
  {
   "cell_type": "code",
   "execution_count": null,
   "metadata": {
    "colab": {
     "base_uri": "https://localhost:8080/"
    },
    "id": "_4vqBbPjBPh3",
    "outputId": "e8b0858c-9391-4be2-f3ce-df5527d96706"
   },
   "outputs": [
    {
     "name": "stdout",
     "output_type": "stream",
     "text": [
      "Model: \"model\"\n",
      "_________________________________________________________________\n",
      " Layer (type)                Output Shape              Param #   \n",
      "=================================================================\n",
      " input_1 (InputLayer)        [(None, 784)]             0         \n",
      "                                                                 \n",
      " dense (Dense)               (None, 64)                50240     \n",
      "                                                                 \n",
      " dense_1 (Dense)             (None, 784)               50960     \n",
      "                                                                 \n",
      "=================================================================\n",
      "Total params: 101,200\n",
      "Trainable params: 101,200\n",
      "Non-trainable params: 0\n",
      "_________________________________________________________________\n"
     ]
    }
   ],
   "source": [
    "autoencoder.summary()"
   ]
  },
  {
   "cell_type": "code",
   "execution_count": null,
   "metadata": {
    "colab": {
     "base_uri": "https://localhost:8080/"
    },
    "id": "Fn_BHg3YBgo6",
    "outputId": "204d546c-bbd4-4716-e7c4-d0718c078522"
   },
   "outputs": [
    {
     "name": "stdout",
     "output_type": "stream",
     "text": [
      "Epoch 1/50\n",
      "235/235 [==============================] - 4s 14ms/step - loss: 0.2463 - val_loss: 0.1627\n",
      "Epoch 2/50\n",
      "235/235 [==============================] - 3s 13ms/step - loss: 0.1432 - val_loss: 0.1261\n",
      "Epoch 3/50\n",
      "235/235 [==============================] - 3s 12ms/step - loss: 0.1179 - val_loss: 0.1090\n",
      "Epoch 4/50\n",
      "235/235 [==============================] - 3s 12ms/step - loss: 0.1044 - val_loss: 0.0982\n",
      "Epoch 5/50\n",
      "235/235 [==============================] - 3s 12ms/step - loss: 0.0956 - val_loss: 0.0910\n",
      "Epoch 6/50\n",
      "235/235 [==============================] - 3s 12ms/step - loss: 0.0895 - val_loss: 0.0862\n",
      "Epoch 7/50\n",
      "190/235 [=======================>......] - ETA: 0s - loss: 0.0856"
     ]
    }
   ],
   "source": [
    "autoencoder.compile(optimizer='adam', loss='binary_crossentropy')\n",
    "autoencoder.fit(x_train,x_train, epochs=50, batch_size=256, shuffle=True, validation_data=(x_test,x_test))"
   ]
  },
  {
   "cell_type": "code",
   "execution_count": null,
   "metadata": {
    "id": "b5NbVnagD53c"
   },
   "outputs": [],
   "source": [
    "encoded_images = encoder.predict(x_test)\n",
    "decoded_images = decoder.predict(encoded_images)"
   ]
  },
  {
   "cell_type": "code",
   "execution_count": null,
   "metadata": {
    "id": "UAmQi8DhD-Yf"
   },
   "outputs": [],
   "source": [
    "def visualize(data, size):\n",
    "    n = 8\n",
    "    plt.figure(figsize=(20,4))\n",
    "    plt.gray()\n",
    "    for i in range(n):\n",
    "        ax = plt.subplot(2,n,i+1)\n",
    "        plt.imshow(data[i].reshape(size,size))\n",
    "        ax.get_xaxis().set_visible(False)\n",
    "        ax.get_yaxis().set_visible(False)\n",
    "    plt.show()"
   ]
  },
  {
   "cell_type": "code",
   "execution_count": null,
   "metadata": {
    "id": "3OF0nVYuEB35"
   },
   "outputs": [],
   "source": [
    "visualize(x_test, 28)\n",
    "visualize(encoded_images, 8)\n",
    "visualize(decoded_images, 28)"
   ]
  },
  {
   "cell_type": "code",
   "execution_count": null,
   "metadata": {
    "id": "sXlp1WvQEM0o"
   },
   "outputs": [],
   "source": []
  }
 ],
 "metadata": {
  "colab": {
   "provenance": []
  },
  "kernelspec": {
   "display_name": "Python 3",
   "name": "python3"
  }
 },
 "nbformat": 4,
 "nbformat_minor": 0
}
