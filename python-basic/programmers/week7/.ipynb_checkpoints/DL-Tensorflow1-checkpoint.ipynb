{
 "cells": [
  {
   "cell_type": "code",
   "execution_count": 7,
   "id": "4688a0c1",
   "metadata": {},
   "outputs": [
    {
     "name": "stdout",
     "output_type": "stream",
     "text": [
      "2.0.0\n"
     ]
    }
   ],
   "source": [
    "import tensorflow as tf\n",
    "print(tf.__version__)"
   ]
  },
  {
   "cell_type": "code",
   "execution_count": 8,
   "id": "4a25753b",
   "metadata": {},
   "outputs": [
    {
     "name": "stdout",
     "output_type": "stream",
     "text": [
      "Collecting tensorflow==2.4.0\n",
      "  Downloading tensorflow-2.4.0-cp37-cp37m-macosx_10_11_x86_64.whl (175.4 MB)\n",
      "\u001b[2K     \u001b[90m━━━━━━━━━━━━━━━━━━━━━━━━━━━━━━━━━━━━━━━\u001b[0m \u001b[32m175.4/175.4 MB\u001b[0m \u001b[31m3.5 MB/s\u001b[0m eta \u001b[36m0:00:00\u001b[0m00:01\u001b[0m00:01\u001b[0m\n",
      "\u001b[?25hCollecting gast==0.3.3\n",
      "  Downloading gast-0.3.3-py2.py3-none-any.whl (9.7 kB)\n",
      "Collecting tensorflow-estimator<2.5.0,>=2.4.0rc0\n",
      "  Downloading tensorflow_estimator-2.4.0-py2.py3-none-any.whl (462 kB)\n",
      "\u001b[2K     \u001b[90m━━━━━━━━━━━━━━━━━━━━━━━━━━━━━━━━━━━━━━\u001b[0m \u001b[32m462.0/462.0 kB\u001b[0m \u001b[31m14.5 MB/s\u001b[0m eta \u001b[36m0:00:00\u001b[0m\n",
      "\u001b[?25hCollecting astunparse~=1.6.3\n",
      "  Using cached astunparse-1.6.3-py2.py3-none-any.whl (12 kB)\n",
      "Collecting wrapt~=1.12.1\n",
      "  Downloading wrapt-1.12.1.tar.gz (27 kB)\n",
      "  Preparing metadata (setup.py) ... \u001b[?25ldone\n",
      "\u001b[?25hCollecting typing-extensions~=3.7.4\n",
      "  Downloading typing_extensions-3.7.4.3-py3-none-any.whl (22 kB)\n",
      "Requirement already satisfied: protobuf>=3.9.2 in /Users/KBS/opt/anaconda3/envs/pytorch/lib/python3.7/site-packages (from tensorflow==2.4.0) (3.20.1)\n",
      "Requirement already satisfied: absl-py~=0.10 in /Users/KBS/opt/anaconda3/envs/pytorch/lib/python3.7/site-packages (from tensorflow==2.4.0) (0.15.0)\n",
      "Collecting numpy~=1.19.2\n",
      "  Downloading numpy-1.19.5-cp37-cp37m-macosx_10_9_x86_64.whl (15.6 MB)\n",
      "\u001b[2K     \u001b[90m━━━━━━━━━━━━━━━━━━━━━━━━━━━━━━━━━━━━━━━━\u001b[0m \u001b[32m15.6/15.6 MB\u001b[0m \u001b[31m7.7 MB/s\u001b[0m eta \u001b[36m0:00:00\u001b[0m00:01\u001b[0m00:01\u001b[0mm\n",
      "\u001b[?25hRequirement already satisfied: wheel~=0.35 in /Users/KBS/opt/anaconda3/envs/pytorch/lib/python3.7/site-packages (from tensorflow==2.4.0) (0.37.1)\n",
      "Collecting grpcio~=1.32.0\n",
      "  Downloading grpcio-1.32.0-cp37-cp37m-macosx_10_9_x86_64.whl (3.3 MB)\n",
      "\u001b[2K     \u001b[90m━━━━━━━━━━━━━━━━━━━━━━━━━━━━━━━━━━━━━━━━\u001b[0m \u001b[32m3.3/3.3 MB\u001b[0m \u001b[31m7.7 MB/s\u001b[0m eta \u001b[36m0:00:00\u001b[0m00:01\u001b[0m00:01\u001b[0mm\n",
      "\u001b[?25hRequirement already satisfied: termcolor~=1.1.0 in /Users/KBS/opt/anaconda3/envs/pytorch/lib/python3.7/site-packages (from tensorflow==2.4.0) (1.1.0)\n",
      "Collecting tensorboard~=2.4\n",
      "  Downloading tensorboard-2.10.0-py3-none-any.whl (5.9 MB)\n",
      "\u001b[2K     \u001b[90m━━━━━━━━━━━━━━━━━━━━━━━━━━━━━━━━━━━━━━━━\u001b[0m \u001b[32m5.9/5.9 MB\u001b[0m \u001b[31m6.7 MB/s\u001b[0m eta \u001b[36m0:00:00\u001b[0m00:01\u001b[0m00:01\u001b[0mm\n",
      "\u001b[?25hRequirement already satisfied: opt-einsum~=3.3.0 in /Users/KBS/opt/anaconda3/envs/pytorch/lib/python3.7/site-packages (from tensorflow==2.4.0) (3.3.0)\n",
      "Collecting h5py~=2.10.0\n",
      "  Downloading h5py-2.10.0-cp37-cp37m-macosx_10_6_intel.whl (3.0 MB)\n",
      "\u001b[2K     \u001b[90m━━━━━━━━━━━━━━━━━━━━━━━━━━━━━━━━━━━━━━━━\u001b[0m \u001b[32m3.0/3.0 MB\u001b[0m \u001b[31m5.1 MB/s\u001b[0m eta \u001b[36m0:00:00\u001b[0ma \u001b[36m0:00:01\u001b[0m\n",
      "\u001b[?25hRequirement already satisfied: keras-preprocessing~=1.1.2 in /Users/KBS/opt/anaconda3/envs/pytorch/lib/python3.7/site-packages (from tensorflow==2.4.0) (1.1.2)\n",
      "Requirement already satisfied: google-pasta~=0.2 in /Users/KBS/opt/anaconda3/envs/pytorch/lib/python3.7/site-packages (from tensorflow==2.4.0) (0.2.0)\n",
      "Collecting flatbuffers~=1.12.0\n",
      "  Using cached flatbuffers-1.12-py2.py3-none-any.whl (15 kB)\n",
      "Collecting six~=1.15.0\n",
      "  Downloading six-1.15.0-py2.py3-none-any.whl (10 kB)\n",
      "Requirement already satisfied: setuptools>=41.0.0 in /Users/KBS/opt/anaconda3/envs/pytorch/lib/python3.7/site-packages (from tensorboard~=2.4->tensorflow==2.4.0) (61.2.0)\n",
      "Requirement already satisfied: requests<3,>=2.21.0 in /Users/KBS/opt/anaconda3/envs/pytorch/lib/python3.7/site-packages (from tensorboard~=2.4->tensorflow==2.4.0) (2.28.1)\n",
      "Collecting google-auth<3,>=1.6.3\n",
      "  Downloading google_auth-2.10.0-py2.py3-none-any.whl (167 kB)\n",
      "\u001b[2K     \u001b[90m━━━━━━━━━━━━━━━━━━━━━━━━━━━━━━━━━━━━━━\u001b[0m \u001b[32m167.2/167.2 kB\u001b[0m \u001b[31m12.2 MB/s\u001b[0m eta \u001b[36m0:00:00\u001b[0m\n",
      "\u001b[?25hCollecting google-auth-oauthlib<0.5,>=0.4.1\n",
      "  Using cached google_auth_oauthlib-0.4.6-py2.py3-none-any.whl (18 kB)\n",
      "Collecting protobuf>=3.9.2\n",
      "  Downloading protobuf-3.19.4-cp37-cp37m-macosx_10_9_x86_64.whl (960 kB)\n",
      "\u001b[2K     \u001b[90m━━━━━━━━━━━━━━━━━━━━━━━━━━━━━━━━━━━━━━\u001b[0m \u001b[32m960.8/960.8 kB\u001b[0m \u001b[31m11.9 MB/s\u001b[0m eta \u001b[36m0:00:00\u001b[0m00:01\u001b[0m00:01\u001b[0m\n",
      "\u001b[?25hRequirement already satisfied: markdown>=2.6.8 in /Users/KBS/opt/anaconda3/envs/pytorch/lib/python3.7/site-packages (from tensorboard~=2.4->tensorflow==2.4.0) (3.3.4)\n",
      "Collecting tensorboard-data-server<0.7.0,>=0.6.0\n",
      "  Using cached tensorboard_data_server-0.6.1-py3-none-macosx_10_9_x86_64.whl (3.5 MB)\n",
      "Requirement already satisfied: werkzeug>=1.0.1 in /Users/KBS/opt/anaconda3/envs/pytorch/lib/python3.7/site-packages (from tensorboard~=2.4->tensorflow==2.4.0) (2.0.3)\n",
      "Collecting tensorboard-plugin-wit>=1.6.0\n",
      "  Using cached tensorboard_plugin_wit-1.8.1-py3-none-any.whl (781 kB)\n",
      "Collecting rsa<5,>=3.1.4\n",
      "  Downloading rsa-4.9-py3-none-any.whl (34 kB)\n",
      "Collecting pyasn1-modules>=0.2.1\n",
      "  Downloading pyasn1_modules-0.2.8-py2.py3-none-any.whl (155 kB)\n",
      "\u001b[2K     \u001b[90m━━━━━━━━━━━━━━━━━━━━━━━━━━━━━━━━━━━━━━━\u001b[0m \u001b[32m155.3/155.3 kB\u001b[0m \u001b[31m7.6 MB/s\u001b[0m eta \u001b[36m0:00:00\u001b[0m\n",
      "\u001b[?25hCollecting cachetools<6.0,>=2.0.0\n",
      "  Downloading cachetools-5.2.0-py3-none-any.whl (9.3 kB)\n",
      "Collecting requests-oauthlib>=0.7.0\n",
      "  Using cached requests_oauthlib-1.3.1-py2.py3-none-any.whl (23 kB)\n",
      "Requirement already satisfied: importlib-metadata in /Users/KBS/opt/anaconda3/envs/pytorch/lib/python3.7/site-packages (from markdown>=2.6.8->tensorboard~=2.4->tensorflow==2.4.0) (4.11.3)\n",
      "Requirement already satisfied: urllib3<1.27,>=1.21.1 in /Users/KBS/opt/anaconda3/envs/pytorch/lib/python3.7/site-packages (from requests<3,>=2.21.0->tensorboard~=2.4->tensorflow==2.4.0) (1.26.11)\n",
      "Requirement already satisfied: certifi>=2017.4.17 in /Users/KBS/opt/anaconda3/envs/pytorch/lib/python3.7/site-packages (from requests<3,>=2.21.0->tensorboard~=2.4->tensorflow==2.4.0) (2022.6.15)\n",
      "Requirement already satisfied: idna<4,>=2.5 in /Users/KBS/opt/anaconda3/envs/pytorch/lib/python3.7/site-packages (from requests<3,>=2.21.0->tensorboard~=2.4->tensorflow==2.4.0) (3.3)\n",
      "Requirement already satisfied: charset-normalizer<3,>=2 in /Users/KBS/opt/anaconda3/envs/pytorch/lib/python3.7/site-packages (from requests<3,>=2.21.0->tensorboard~=2.4->tensorflow==2.4.0) (2.0.4)\n",
      "Collecting pyasn1<0.5.0,>=0.4.6\n",
      "  Downloading pyasn1-0.4.8-py2.py3-none-any.whl (77 kB)\n",
      "\u001b[2K     \u001b[90m━━━━━━━━━━━━━━━━━━━━━━━━━━━━━━━━━━━━━━━━\u001b[0m \u001b[32m77.1/77.1 kB\u001b[0m \u001b[31m7.5 MB/s\u001b[0m eta \u001b[36m0:00:00\u001b[0m\n",
      "\u001b[?25hCollecting oauthlib>=3.0.0\n",
      "  Using cached oauthlib-3.2.0-py3-none-any.whl (151 kB)\n",
      "Requirement already satisfied: zipp>=0.5 in /Users/KBS/opt/anaconda3/envs/pytorch/lib/python3.7/site-packages (from importlib-metadata->markdown>=2.6.8->tensorboard~=2.4->tensorflow==2.4.0) (3.8.0)\n",
      "Building wheels for collected packages: wrapt\n",
      "  Building wheel for wrapt (setup.py) ... \u001b[?25ldone\n",
      "\u001b[?25h  Created wheel for wrapt: filename=wrapt-1.12.1-cp37-cp37m-macosx_10_9_x86_64.whl size=32580 sha256=7dfb9082eb3aa9a487cbbd0073033eb0d5e811998cdcca6202be7689f6e839c7\n",
      "  Stored in directory: /Users/KBS/Library/Caches/pip/wheels/62/76/4c/aa25851149f3f6d9785f6c869387ad82b3fd37582fa8147ac6\n",
      "Successfully built wrapt\n",
      "Installing collected packages: wrapt, typing-extensions, tensorflow-estimator, tensorboard-plugin-wit, pyasn1, flatbuffers, tensorboard-data-server, six, rsa, pyasn1-modules, protobuf, oauthlib, numpy, gast, cachetools, requests-oauthlib, h5py, grpcio, google-auth, astunparse, google-auth-oauthlib, tensorboard, tensorflow\n",
      "  Attempting uninstall: wrapt\n",
      "    Found existing installation: wrapt 1.14.1\n",
      "    Uninstalling wrapt-1.14.1:\n",
      "      Successfully uninstalled wrapt-1.14.1\n",
      "  Attempting uninstall: typing-extensions\n",
      "    Found existing installation: typing_extensions 4.3.0\n",
      "    Uninstalling typing_extensions-4.3.0:\n",
      "      Successfully uninstalled typing_extensions-4.3.0\n",
      "  Attempting uninstall: tensorflow-estimator\n",
      "    Found existing installation: tensorflow-estimator 2.0.0\n",
      "    Uninstalling tensorflow-estimator-2.0.0:\n",
      "      Successfully uninstalled tensorflow-estimator-2.0.0\n",
      "  Attempting uninstall: six\n",
      "    Found existing installation: six 1.16.0\n",
      "    Uninstalling six-1.16.0:\n",
      "      Successfully uninstalled six-1.16.0\n",
      "  Attempting uninstall: protobuf\n",
      "    Found existing installation: protobuf 3.20.1\n",
      "    Uninstalling protobuf-3.20.1:\n",
      "      Successfully uninstalled protobuf-3.20.1\n",
      "  Attempting uninstall: numpy\n",
      "    Found existing installation: numpy 1.21.5\n",
      "    Uninstalling numpy-1.21.5:\n"
     ]
    },
    {
     "name": "stdout",
     "output_type": "stream",
     "text": [
      "      Successfully uninstalled numpy-1.21.5\n",
      "  Attempting uninstall: gast\n",
      "    Found existing installation: gast 0.2.2\n",
      "    Uninstalling gast-0.2.2:\n",
      "      Successfully uninstalled gast-0.2.2\n",
      "  Attempting uninstall: h5py\n",
      "    Found existing installation: h5py 3.7.0\n",
      "    Uninstalling h5py-3.7.0:\n",
      "      Successfully uninstalled h5py-3.7.0\n",
      "  Attempting uninstall: grpcio\n",
      "    Found existing installation: grpcio 1.42.0\n",
      "    Uninstalling grpcio-1.42.0:\n",
      "      Successfully uninstalled grpcio-1.42.0\n",
      "  Attempting uninstall: tensorboard\n",
      "    Found existing installation: tensorboard 2.0.0\n",
      "    Uninstalling tensorboard-2.0.0:\n",
      "      Successfully uninstalled tensorboard-2.0.0\n",
      "  Attempting uninstall: tensorflow\n",
      "    Found existing installation: tensorflow 2.0.0\n",
      "    Uninstalling tensorflow-2.0.0:\n",
      "      Successfully uninstalled tensorflow-2.0.0\n",
      "Successfully installed astunparse-1.6.3 cachetools-5.2.0 flatbuffers-1.12 gast-0.3.3 google-auth-2.10.0 google-auth-oauthlib-0.4.6 grpcio-1.32.0 h5py-2.10.0 numpy-1.19.5 oauthlib-3.2.0 protobuf-3.19.4 pyasn1-0.4.8 pyasn1-modules-0.2.8 requests-oauthlib-1.3.1 rsa-4.9 six-1.15.0 tensorboard-2.10.0 tensorboard-data-server-0.6.1 tensorboard-plugin-wit-1.8.1 tensorflow-2.4.0 tensorflow-estimator-2.4.0 typing-extensions-3.7.4.3 wrapt-1.12.1\n",
      "Note: you may need to restart the kernel to use updated packages.\n"
     ]
    }
   ],
   "source": [
    "pip install --upgrade tensorflow==2.4.0"
   ]
  },
  {
   "cell_type": "markdown",
   "id": "5fc99636",
   "metadata": {},
   "source": [
    "# 병수 생성"
   ]
  },
  {
   "cell_type": "code",
   "execution_count": 9,
   "id": "f8e859b6",
   "metadata": {},
   "outputs": [
    {
     "data": {
      "text/plain": [
       "<tf.Variable 'Variable:0' shape=(1, 2, 3) dtype=float32, numpy=\n",
       "array([[[0., 0., 0.],\n",
       "        [0., 0., 0.]]], dtype=float32)>"
      ]
     },
     "execution_count": 9,
     "metadata": {},
     "output_type": "execute_result"
    }
   ],
   "source": [
    "#모양이 [1,2,3]이고 값은 0으로 채워진 3차원 텐서가 변수로 생성\n",
    "kbs = tf.Variable(tf.zeros([1,2,3]))\n",
    "kbs"
   ]
  },
  {
   "cell_type": "markdown",
   "id": "4b6f3ecc",
   "metadata": {},
   "source": [
    "# 변수의 사용"
   ]
  },
  {
   "cell_type": "code",
   "execution_count": 10,
   "id": "8f49ef0a",
   "metadata": {},
   "outputs": [
    {
     "name": "stdout",
     "output_type": "stream",
     "text": [
      "<tf.Variable 'Variable:0' shape=() dtype=float32, numpy=0.0>\n",
      "tf.Tensor(1.0, shape=(), dtype=float32)\n"
     ]
    }
   ],
   "source": [
    "# 텐서플로 그래프에서 tf.Varible의 값을 사용하려면 이를 단순히 tf.Tensor로 취급하면 된다.\n",
    "v = tf.Variable(0.0)\n",
    "print(v)\n",
    "\n",
    "w = v + 1 # W는 v값 기준으로 계산되는 tf.Tensor이다. 변수가 수식에 사용될 때, 변수는 자동적으로 tf.tensor로 변환되어 값을 표현한다.\n",
    "\n",
    "print(w)"
   ]
  },
  {
   "cell_type": "markdown",
   "id": "f3bba40a",
   "metadata": {},
   "source": [
    "### 값을 변수에 할당하려면 assign, assign_add 메소드와 tf.Variable 클래스에 있는 친구들(friends?)사용"
   ]
  },
  {
   "cell_type": "code",
   "execution_count": 14,
   "id": "6ef33fbb",
   "metadata": {},
   "outputs": [
    {
     "data": {
      "text/plain": [
       "<tf.Tensor: id=40, shape=(), dtype=float32, numpy=1.0>"
      ]
     },
     "execution_count": 14,
     "metadata": {},
     "output_type": "execute_result"
    }
   ],
   "source": [
    "a = tf.Variable(0.0)\n",
    "a.assign_add(1)\n",
    "a.read_value() # 1.0\n",
    "\n",
    "## 뭘 어디에 더한더는 거임? 일단 a라는 텐서가 (0)으로 말로 일단 이해하자"
   ]
  },
  {
   "cell_type": "markdown",
   "id": "95fe34ff",
   "metadata": {},
   "source": [
    "# tf.Tensor 객체의 랭크는 그 차원의 수?? 이해 못함, 설명도 불친절."
   ]
  },
  {
   "cell_type": "markdown",
   "id": "14c107d6",
   "metadata": {},
   "source": [
    "# 랭크0"
   ]
  },
  {
   "cell_type": "code",
   "execution_count": 21,
   "id": "8187a329",
   "metadata": {},
   "outputs": [
    {
     "name": "stdout",
     "output_type": "stream",
     "text": [
      "<tf.Variable 'Variable:0' shape=() dtype=string, numpy=b'\\xec\\xbd\\x94\\xeb\\x81\\xbc\\xeb\\xa6\\xac'>\n",
      "<tf.Variable 'Variable:0' shape=() dtype=int32, numpy=451>\n",
      "<tf.Variable 'Variable:0' shape=() dtype=float32, numpy=3.1415927>\n",
      "<tf.Variable 'Variable:0' shape=() dtype=complex128, numpy=(12.3-4.85j)>\n"
     ]
    }
   ],
   "source": [
    "mammal = tf.Variable(\"코끼리\", tf.string)\n",
    "ignition = tf.Variable(451, tf.int16)\n",
    "floating = tf.Variable(3.14159265359, tf.float64)\n",
    "its_complicated = tf.Variable(12.3 -4.85j, tf.complex64)\n",
    "\n",
    "print(mammal)\n",
    "print(ignition)\n",
    "print(floating)\n",
    "print(its_complicated)\n",
    "\n",
    "#값자체가 있다..??무엇을 의미하는지는 모르겠음\n",
    "# 그냥 변수선언과 다를바가 뭐지/.?"
   ]
  },
  {
   "cell_type": "markdown",
   "id": "14114362",
   "metadata": {},
   "source": [
    "# 랭크1"
   ]
  },
  {
   "cell_type": "code",
   "execution_count": 25,
   "id": "42af929d",
   "metadata": {},
   "outputs": [
    {
     "name": "stdout",
     "output_type": "stream",
     "text": [
      "<tf.Variable 'Variable:0' shape=() dtype=string, numpy=b'\\xec\\xbd\\x94\\xeb\\x81\\xbc\\xeb\\xa6\\xac'>\n",
      "<tf.Variable 'Variable:0' shape=() dtype=int32, numpy=451>\n",
      "<tf.Variable 'Variable:0' shape=() dtype=float32, numpy=3.1415927>\n",
      "<tf.Variable 'Variable:0' shape=(1,) dtype=complex128, numpy=array([0.+7.45j])>\n"
     ]
    }
   ],
   "source": [
    "mystr = tf.Variable([\"하이\"], tf.string)\n",
    "cool_numbers = tf.Variable([3.14, 2.71], tf.float32)\n",
    "first_numbers = tf.Variable([2,3,5,7,11], tf.int32)\n",
    "its_complicated = tf.Variable([12.3j -4.85j], tf.complex64)\n",
    "\n",
    "print(mammal)\n",
    "print(ignition)\n",
    "print(floating)\n",
    "print(its_complicated)\n",
    "\n",
    "\n"
   ]
  },
  {
   "cell_type": "markdown",
   "id": "381e95f4",
   "metadata": {},
   "source": [
    "# 고차원랭크(랭크2, 랭크 2 tf.Tensor 객체는 최소 한 개 이상의 열과 행으로 구성된다)"
   ]
  },
  {
   "cell_type": "code",
   "execution_count": 37,
   "id": "dce19d20",
   "metadata": {},
   "outputs": [
    {
     "name": "stdout",
     "output_type": "stream",
     "text": [
      "<tf.Variable 'Variable:0' shape=(2, 1) dtype=int32, numpy=\n",
      "array([[ 7],\n",
      "       [11]], dtype=int32)>\n",
      "tf.Tensor(2, shape=(), dtype=int32)\n"
     ]
    }
   ],
   "source": [
    "mymat = tf.Variable([[7],[11]], tf.int16)\n",
    "myxor = tf.Variable([[False, True], [False, True]], tf.bool) #매트릭스 형태 \n",
    "linear_sq = tf.Variable([[4],[9], [16], [25]], tf.int32)\n",
    "squarish_squares = tf.Variable([[4,9], [16, 25]], tf.int32)\n",
    "\n",
    "#tf.rank : 객체의 랭크 구하기\n",
    "rank_of_squares = tf.rank(squarish_squares)\n",
    "mymatC = tf.Variable([[7],[11]], tf.int32)\n",
    "\n",
    "print(mymat)\n",
    "print(rank_of_squares)"
   ]
  },
  {
   "cell_type": "code",
   "execution_count": 38,
   "id": "e05fbd34",
   "metadata": {},
   "outputs": [],
   "source": [
    "my_image = tf.zeros([10,299,299,3]) # 파라미터 = 배치 높이 너비 색상"
   ]
  },
  {
   "cell_type": "markdown",
   "id": "29f9e75c",
   "metadata": {},
   "source": [
    "# tf.Tensor 객체 링크 구하기"
   ]
  },
  {
   "cell_type": "code",
   "execution_count": 39,
   "id": "69398425",
   "metadata": {},
   "outputs": [
    {
     "name": "stdout",
     "output_type": "stream",
     "text": [
      "tf.Tensor(4, shape=(), dtype=int32)\n"
     ]
    }
   ],
   "source": [
    "r = tf.rank(my_image)\n",
    "print(r)\n",
    "\n",
    "# 해당 코드가 실행되면 r은 4라는 값을 가지게 됨"
   ]
  },
  {
   "cell_type": "markdown",
   "id": "98e5b2cc",
   "metadata": {},
   "source": [
    "# tf.Tensor 원소 참조하기"
   ]
  },
  {
   "cell_type": "code",
   "execution_count": 41,
   "id": "f39b8b66",
   "metadata": {},
   "outputs": [
    {
     "name": "stdout",
     "output_type": "stream",
     "text": [
      "tf.Tensor(1, shape=(), dtype=int32)\n",
      "tf.Tensor(3, shape=(), dtype=int32)\n"
     ]
    }
   ],
   "source": [
    "myvec = tf.Variable([1,2,3,4], tf.int32)\n",
    "print(tf.rank(myvec))\n",
    "\n",
    "mysca = myvec[2]\n",
    "print(mysca)"
   ]
  },
  {
   "cell_type": "code",
   "execution_count": 42,
   "id": "e4c94884",
   "metadata": {},
   "outputs": [
    {
     "name": "stdout",
     "output_type": "stream",
     "text": [
      "<tf.Variable 'Variable:0' shape=(2, 2) dtype=int32, numpy=\n",
      "array([[ 4,  9],\n",
      "       [16, 25]], dtype=int32)>\n",
      "tf.Tensor(16, shape=(), dtype=int32)\n"
     ]
    }
   ],
   "source": [
    "print(squarish_squares)\n",
    "my_sca = squarish_squares[1,0]\n",
    "print(my_sca)"
   ]
  },
  {
   "cell_type": "code",
   "execution_count": 43,
   "id": "f24fa616",
   "metadata": {},
   "outputs": [
    {
     "name": "stdout",
     "output_type": "stream",
     "text": [
      "<tf.Variable 'Variable:0' shape=(2, 2) dtype=int32, numpy=\n",
      "array([[ 4,  9],\n",
      "       [16, 25]], dtype=int32)>\n",
      "tf.Tensor([16 25], shape=(2,), dtype=int32)\n",
      "tf.Tensor([ 9 25], shape=(2,), dtype=int32)\n"
     ]
    }
   ],
   "source": [
    "my_row_vec = squarish_squares[1] #행 인덱스\n",
    "my_column_vec = squarish_squares[:,1] #모든행 인덱스와 열번호 1번쨰\n",
    "print(squarish_squares)\n",
    "print(my_row_vec)\n",
    "print(my_column_vec)"
   ]
  },
  {
   "cell_type": "markdown",
   "id": "186af6f6",
   "metadata": {},
   "source": [
    "# tf.Tensor 객체 형태 얻기"
   ]
  },
  {
   "cell_type": "code",
   "execution_count": 45,
   "id": "fd940428",
   "metadata": {},
   "outputs": [
    {
     "data": {
      "text/plain": [
       "<tf.Tensor: id=660, shape=(2, 2), dtype=float32, numpy=\n",
       "array([[0., 0.],\n",
       "       [0., 0.]], dtype=float32)>"
      ]
     },
     "execution_count": 45,
     "metadata": {},
     "output_type": "execute_result"
    }
   ],
   "source": [
    "zeros = tf.zeros(squarish_squares.shape) # squarish_squares.shape으로 새로운 텐서생성\n",
    "zeros"
   ]
  },
  {
   "cell_type": "markdown",
   "id": "9fc39df1",
   "metadata": {},
   "source": [
    "# tf.Tensor 형태 변경 = view와 상당히 유사하므로 잘 알아둬야 한다."
   ]
  },
  {
   "cell_type": "code",
   "execution_count": 58,
   "id": "83884332",
   "metadata": {},
   "outputs": [
    {
     "name": "stdout",
     "output_type": "stream",
     "text": [
      "(3, 4, 5)\n",
      "tf.Tensor(\n",
      "[[[1. 1. 1. 1. 1.]\n",
      "  [1. 1. 1. 1. 1.]\n",
      "  [1. 1. 1. 1. 1.]\n",
      "  [1. 1. 1. 1. 1.]]\n",
      "\n",
      " [[1. 1. 1. 1. 1.]\n",
      "  [1. 1. 1. 1. 1.]\n",
      "  [1. 1. 1. 1. 1.]\n",
      "  [1. 1. 1. 1. 1.]]\n",
      "\n",
      " [[1. 1. 1. 1. 1.]\n",
      "  [1. 1. 1. 1. 1.]\n",
      "  [1. 1. 1. 1. 1.]\n",
      "  [1. 1. 1. 1. 1.]]], shape=(3, 4, 5), dtype=float32)\n",
      "====matrix=====================\n",
      "tf.Tensor(\n",
      "[[1. 1. 1. 1. 1. 1. 1. 1. 1. 1.]\n",
      " [1. 1. 1. 1. 1. 1. 1. 1. 1. 1.]\n",
      " [1. 1. 1. 1. 1. 1. 1. 1. 1. 1.]\n",
      " [1. 1. 1. 1. 1. 1. 1. 1. 1. 1.]\n",
      " [1. 1. 1. 1. 1. 1. 1. 1. 1. 1.]\n",
      " [1. 1. 1. 1. 1. 1. 1. 1. 1. 1.]], shape=(6, 10), dtype=float32)\n",
      "(6, 10)\n",
      "====matrix=====================\n",
      "tf.Tensor(\n",
      "[[1. 1. 1. 1. 1. 1. 1. 1. 1. 1. 1. 1. 1. 1. 1. 1. 1. 1. 1. 1.]\n",
      " [1. 1. 1. 1. 1. 1. 1. 1. 1. 1. 1. 1. 1. 1. 1. 1. 1. 1. 1. 1.]\n",
      " [1. 1. 1. 1. 1. 1. 1. 1. 1. 1. 1. 1. 1. 1. 1. 1. 1. 1. 1. 1.]], shape=(3, 20), dtype=float32)\n",
      "(3, 20)\n",
      "(4, 3, 5)\n"
     ]
    }
   ],
   "source": [
    "# 60\n",
    "rank_three_tensor = tf.ones([3,4,5]) # 60개의 원소를 가지고 있음\n",
    "print(rank_three_tensor.shape)\n",
    "print(rank_three_tensor)\n",
    "      \n",
    "matrix = tf.reshape(rank_three_tensor, [6,10])  # 6 X 10 행렬로 바꾸겠다\n",
    "\n",
    "print('====matrix=====================')\n",
    "print(matrix)\n",
    "#기존 내용을 6x10형태로 변경\n",
    "\n",
    "print(matrix.shape)\n",
    "      \n",
    "matrixB = tf.reshape(matrix, [3,-1]) # 기존 내용을 3x20 행렬로 형태 변경, -1은 차원크기를 계산하여 자동으로 결정하라는 의미이다.\n",
    "print('====matrix=====================')\n",
    "print(matrixB)\n",
    "print(matrixB.shape)\n",
    "      \n",
    "matrixAlt = tf.reshape(matrixB, [4,3,-1]) # 기존 내용을 4x3x5 텐서로 형태변경\n",
    "\n",
    "# 형태가 변경된 텐서의 원소 개수는 원래 텐서의 원소 개수와 같다. 그러므로 다음은 원소 개수를ㄹ 유지하면서 마지막 차원에 사용 가능ㅎ한 수가 없기 떄문에 에러발생\n",
    "      \n",
    "# yet_another = tf.reshape(matrixAlt, [13,2,-1]) # 에러!   \n",
    "print(matrixAlt.shape)"
   ]
  },
  {
   "cell_type": "markdown",
   "id": "af69e52b",
   "metadata": {},
   "source": [
    "# 자료형"
   ]
  },
  {
   "cell_type": "code",
   "execution_count": 57,
   "id": "6adad03b",
   "metadata": {},
   "outputs": [
    {
     "name": "stdout",
     "output_type": "stream",
     "text": [
      "tf.Tensor([1 2 3], shape=(3,), dtype=int32)\n"
     ]
    },
    {
     "data": {
      "text/plain": [
       "<tf.Tensor: id=709, shape=(3,), dtype=float32, numpy=array([1., 2., 3.], dtype=float32)>"
      ]
     },
     "execution_count": 57,
     "metadata": {},
     "output_type": "execute_result"
    }
   ],
   "source": [
    "# 정수형 텐서를 실수형으로 변환\n",
    "a = tf.constant([1,2,3])\n",
    "print(a)\n",
    "\n",
    "float_tensor = tf.cast(tf.constant([1,2,3]), dtype = tf.float32)\n",
    "float_tensor"
   ]
  },
  {
   "cell_type": "code",
   "execution_count": null,
   "id": "413cbcd1",
   "metadata": {},
   "outputs": [],
   "source": []
  }
 ],
 "metadata": {
  "kernelspec": {
   "display_name": "Python 3 (ipykernel)",
   "language": "python",
   "name": "python3"
  },
  "language_info": {
   "codemirror_mode": {
    "name": "ipython",
    "version": 3
   },
   "file_extension": ".py",
   "mimetype": "text/x-python",
   "name": "python",
   "nbconvert_exporter": "python",
   "pygments_lexer": "ipython3",
   "version": "3.7.13"
  }
 },
 "nbformat": 4,
 "nbformat_minor": 5
}
