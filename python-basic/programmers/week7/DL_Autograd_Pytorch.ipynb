{
 "cells": [
  {
   "cell_type": "markdown",
   "id": "82795339",
   "metadata": {},
   "source": [
    "# Autograd\n",
    "\n",
    "- autograd패키지는 텐서의 모든 연산에 대한 자동 미분을 제공\n",
    "- 실행-기반-정의(define-by-run) 프레임워크로, 코드를 어떻게 작성하여 실행하느냐에 따라 역전파가 정의된다는 것을 의미\n",
    "- 역전파는 학습 과정의 매 단계마다 달라짐\n",
    "\n",
    "# Tensor\n",
    "\n",
    "- torch.Tensor 클래스의 .requires_grad 속성을 True로 설정시 해당 텐서에서 이루어진 모든 연산을 추적(왜 추적을 하는거임? 역전파 계산을 위해?)\n",
    "- 계산이 완료된 후 .backward()를 호출하여 모든 변화도(gradient)를 자동으로 계산할 수 있으며 이 Tensor의 변화도는 .grad 속성에 누적됨(누적이 된다는게 값을 저장한다는 의미인가?)\n",
    "- Tensor가 기록을 추적하는 것을 중단하게 하려면, .detach()를 호출하여 연산기록으로부터 분리하여 연산이 추적되는 것을 방지할 수 있음\n",
    "- 기록 추적 방지(메모리 아끼기)하기 위해서 코드 블럭을 with torch.no_grad():로 감쌀 수 있음\n",
    "- 변화도(gradient)는 필요 없지만 requires_grad=True가 설정되어 학습 가능한 매개변수를 갖는 모델을 평가할 때 좋다\n",
    "- Autograd 구현에서 Function 클래스는 매우 중요한 역할임\n",
    "- Tensor와 Function은 서로 연결되어 있고 모든 연산 과정을 부호화하여 순환하지 않는 그래프를 생성\n",
    "- 각 tensor는 .grad_fn 속성을 가지고 있는데 이는 Tensor를 생성한 Function을 참조함(grad_fn도 몰겠다)\n",
    "- 도함수를 계산하기 위해서는 Tensor의 .backward()를 호출하면 됨\n",
    "#### Q. bakcward = 역전파인데,   .grad?  grad_fn=grad function?"
   ]
  },
  {
   "cell_type": "code",
   "execution_count": 1,
   "id": "bcdbeb02",
   "metadata": {},
   "outputs": [
    {
     "name": "stdout",
     "output_type": "stream",
     "text": [
      "1.12.1\n"
     ]
    }
   ],
   "source": [
    "import torch\n",
    "\n",
    "print(torch.__version__)"
   ]
  },
  {
   "cell_type": "code",
   "execution_count": 2,
   "id": "d9530c99",
   "metadata": {},
   "outputs": [
    {
     "name": "stdout",
     "output_type": "stream",
     "text": [
      "tensor([[1., 1.],\n",
      "        [1., 1.]], requires_grad=True)\n",
      "None\n"
     ]
    }
   ],
   "source": [
    "# x의 연산 과적을 추적하기 위해 requires_grad=True로 설정\n",
    "x = torch.ones(2, 2, requires_grad=True)\n",
    "print(x)\n",
    "\n",
    "# 직접 생선한 Tensor이기 때문에 grad_fn이 None인 것을 확인할 수 있음\n",
    "print(x.grad_fn)"
   ]
  },
  {
   "cell_type": "code",
   "execution_count": 3,
   "id": "4e40c750",
   "metadata": {},
   "outputs": [
    {
     "name": "stdout",
     "output_type": "stream",
     "text": [
      "tensor([[3., 3.],\n",
      "        [3., 3.]], grad_fn=<AddBackward0>)\n"
     ]
    }
   ],
   "source": [
    "# y는 연산의 결과로 생성된 것이기 때문에 grad_fn을 갖고 있는 것을 확인 가능\n",
    "# 근데 grad_fn이 뭐여?\n",
    "\n",
    "y = x + 2\n",
    "print(y)"
   ]
  },
  {
   "cell_type": "code",
   "execution_count": 4,
   "id": "305ec231",
   "metadata": {},
   "outputs": [
    {
     "name": "stdout",
     "output_type": "stream",
     "text": [
      "tensor([[27., 27.],\n",
      "        [27., 27.]], grad_fn=<MulBackward0>)\n",
      "tensor(27., grad_fn=<MeanBackward0>)\n"
     ]
    }
   ],
   "source": [
    "z = y * y * 3\n",
    "out = z.mean()\n",
    "\n",
    "# 각각 사용한 func에 맞게 grad_fn이 생성된 것을 확인할 수 있음\n",
    "print(z)\n",
    "print(out)"
   ]
  },
  {
   "cell_type": "markdown",
   "id": "3fa58c70",
   "metadata": {},
   "source": [
    "- requires_grad_()를 사용하면 기존 Tensor의 requires_grad 값을 바꿀 수 있음\n",
    "\n",
    "- require_grad가 뭔디..\n",
    "\n",
    "- 입력 값이 지정되지 않으면 기본 값은 False"
   ]
  },
  {
   "cell_type": "code",
   "execution_count": 5,
   "id": "3ac1ce17",
   "metadata": {},
   "outputs": [
    {
     "name": "stdout",
     "output_type": "stream",
     "text": [
      "tensor([[ 1.0761, -1.0957],\n",
      "        [ 1.5382, -0.7957]])\n"
     ]
    }
   ],
   "source": [
    "a = torch.randn(2, 2)\n",
    "print(a)"
   ]
  },
  {
   "cell_type": "code",
   "execution_count": 6,
   "id": "3bac7790",
   "metadata": {},
   "outputs": [
    {
     "name": "stdout",
     "output_type": "stream",
     "text": [
      "tensor([[42.4470,  1.5685],\n",
      "        [ 8.5743,  1.3294]])\n",
      "False\n"
     ]
    }
   ],
   "source": [
    "a = ((a * 3) / (a - 1))\n",
    "print(a)\n",
    "print(a.requires_grad)"
   ]
  },
  {
   "cell_type": "code",
   "execution_count": 7,
   "id": "c7f0da13",
   "metadata": {},
   "outputs": [
    {
     "data": {
      "text/plain": [
       "tensor([[42.4470,  1.5685],\n",
       "        [ 8.5743,  1.3294]], requires_grad=True)"
      ]
     },
     "execution_count": 7,
     "metadata": {},
     "output_type": "execute_result"
    }
   ],
   "source": [
    "a.requires_grad_(True)"
   ]
  },
  {
   "cell_type": "code",
   "execution_count": 8,
   "id": "4d9d7a91",
   "metadata": {},
   "outputs": [
    {
     "name": "stdout",
     "output_type": "stream",
     "text": [
      "True\n"
     ]
    }
   ],
   "source": [
    "print(a.requires_grad)\n"
   ]
  },
  {
   "cell_type": "code",
   "execution_count": 9,
   "id": "d80e67f5",
   "metadata": {},
   "outputs": [
    {
     "name": "stdout",
     "output_type": "stream",
     "text": [
      "tensor(1879.4906, grad_fn=<SumBackward0>)\n",
      "True\n"
     ]
    }
   ],
   "source": [
    "b = (a * a).sum()\n",
    "print(b)\n",
    "print(b.requires_grad)\n"
   ]
  },
  {
   "cell_type": "markdown",
   "id": "d6608359",
   "metadata": {},
   "source": [
    "# 변화도(Gradient)"
   ]
  },
  {
   "cell_type": "code",
   "execution_count": 10,
   "id": "4109d3bb",
   "metadata": {},
   "outputs": [
    {
     "name": "stdout",
     "output_type": "stream",
     "text": [
      "tensor(27., grad_fn=<MeanBackward0>)\n",
      "tensor([[4.5000, 4.5000],\n",
      "        [4.5000, 4.5000]])\n",
      "tensor([[4.5000, 4.5000],\n",
      "        [4.5000, 4.5000]])\n",
      "tensor([[0.2500, 0.2500],\n",
      "        [0.2500, 0.2500]])\n",
      "False\n"
     ]
    },
    {
     "ename": "RuntimeError",
     "evalue": "Trying to backward through the graph a second time (or directly access saved tensors after they have already been freed). Saved intermediate values of the graph are freed when you call .backward() or autograd.grad(). Specify retain_graph=True if you need to backward through the graph a second time or if you need to access saved tensors after calling backward.",
     "output_type": "error",
     "traceback": [
      "\u001b[0;31m---------------------------------------------------------------------------\u001b[0m",
      "\u001b[0;31mRuntimeError\u001b[0m                              Traceback (most recent call last)",
      "\u001b[0;32m/var/folders/r8/hnw1hjlx54z7_g14njp906m00000gp/T/ipykernel_50743/1686413210.py\u001b[0m in \u001b[0;36m<module>\u001b[0;34m\u001b[0m\n\u001b[1;32m     13\u001b[0m \u001b[0mprint\u001b[0m\u001b[0;34m(\u001b[0m\u001b[0mz\u001b[0m\u001b[0;34m.\u001b[0m\u001b[0mis_leaf\u001b[0m\u001b[0;34m)\u001b[0m \u001b[0;31m# 리프 노드인지 아닌지??\u001b[0m\u001b[0;34m\u001b[0m\u001b[0;34m\u001b[0m\u001b[0m\n\u001b[1;32m     14\u001b[0m \u001b[0;34m\u001b[0m\u001b[0m\n\u001b[0;32m---> 15\u001b[0;31m \u001b[0mout\u001b[0m\u001b[0;34m.\u001b[0m\u001b[0mbackward\u001b[0m\u001b[0;34m(\u001b[0m\u001b[0;34m)\u001b[0m\u001b[0;34m\u001b[0m\u001b[0;34m\u001b[0m\u001b[0m\n\u001b[0m\u001b[1;32m     16\u001b[0m \u001b[0mprint\u001b[0m\u001b[0;34m(\u001b[0m\u001b[0mx\u001b[0m\u001b[0;34m.\u001b[0m\u001b[0mgrad\u001b[0m\u001b[0;34m)\u001b[0m\u001b[0;34m\u001b[0m\u001b[0;34m\u001b[0m\u001b[0m\n\u001b[1;32m     17\u001b[0m \u001b[0mprint\u001b[0m\u001b[0;34m(\u001b[0m\u001b[0my\u001b[0m\u001b[0;34m.\u001b[0m\u001b[0mgrad\u001b[0m\u001b[0;34m)\u001b[0m\u001b[0;34m\u001b[0m\u001b[0;34m\u001b[0m\u001b[0m\n",
      "\u001b[0;32m~/opt/anaconda3/envs/pytorch/lib/python3.7/site-packages/torch/_tensor.py\u001b[0m in \u001b[0;36mbackward\u001b[0;34m(self, gradient, retain_graph, create_graph, inputs)\u001b[0m\n\u001b[1;32m    394\u001b[0m                 \u001b[0mcreate_graph\u001b[0m\u001b[0;34m=\u001b[0m\u001b[0mcreate_graph\u001b[0m\u001b[0;34m,\u001b[0m\u001b[0;34m\u001b[0m\u001b[0;34m\u001b[0m\u001b[0m\n\u001b[1;32m    395\u001b[0m                 inputs=inputs)\n\u001b[0;32m--> 396\u001b[0;31m         \u001b[0mtorch\u001b[0m\u001b[0;34m.\u001b[0m\u001b[0mautograd\u001b[0m\u001b[0;34m.\u001b[0m\u001b[0mbackward\u001b[0m\u001b[0;34m(\u001b[0m\u001b[0mself\u001b[0m\u001b[0;34m,\u001b[0m \u001b[0mgradient\u001b[0m\u001b[0;34m,\u001b[0m \u001b[0mretain_graph\u001b[0m\u001b[0;34m,\u001b[0m \u001b[0mcreate_graph\u001b[0m\u001b[0;34m,\u001b[0m \u001b[0minputs\u001b[0m\u001b[0;34m=\u001b[0m\u001b[0minputs\u001b[0m\u001b[0;34m)\u001b[0m\u001b[0;34m\u001b[0m\u001b[0;34m\u001b[0m\u001b[0m\n\u001b[0m\u001b[1;32m    397\u001b[0m \u001b[0;34m\u001b[0m\u001b[0m\n\u001b[1;32m    398\u001b[0m     \u001b[0;32mdef\u001b[0m \u001b[0mregister_hook\u001b[0m\u001b[0;34m(\u001b[0m\u001b[0mself\u001b[0m\u001b[0;34m,\u001b[0m \u001b[0mhook\u001b[0m\u001b[0;34m)\u001b[0m\u001b[0;34m:\u001b[0m\u001b[0;34m\u001b[0m\u001b[0;34m\u001b[0m\u001b[0m\n",
      "\u001b[0;32m~/opt/anaconda3/envs/pytorch/lib/python3.7/site-packages/torch/autograd/__init__.py\u001b[0m in \u001b[0;36mbackward\u001b[0;34m(tensors, grad_tensors, retain_graph, create_graph, grad_variables, inputs)\u001b[0m\n\u001b[1;32m    173\u001b[0m     Variable._execution_engine.run_backward(  # Calls into the C++ engine to run the backward pass\n\u001b[1;32m    174\u001b[0m         \u001b[0mtensors\u001b[0m\u001b[0;34m,\u001b[0m \u001b[0mgrad_tensors_\u001b[0m\u001b[0;34m,\u001b[0m \u001b[0mretain_graph\u001b[0m\u001b[0;34m,\u001b[0m \u001b[0mcreate_graph\u001b[0m\u001b[0;34m,\u001b[0m \u001b[0minputs\u001b[0m\u001b[0;34m,\u001b[0m\u001b[0;34m\u001b[0m\u001b[0;34m\u001b[0m\u001b[0m\n\u001b[0;32m--> 175\u001b[0;31m         allow_unreachable=True, accumulate_grad=True)  # Calls into the C++ engine to run the backward pass\n\u001b[0m\u001b[1;32m    176\u001b[0m \u001b[0;34m\u001b[0m\u001b[0m\n\u001b[1;32m    177\u001b[0m def grad(\n",
      "\u001b[0;31mRuntimeError\u001b[0m: Trying to backward through the graph a second time (or directly access saved tensors after they have already been freed). Saved intermediate values of the graph are freed when you call .backward() or autograd.grad(). Specify retain_graph=True if you need to backward through the graph a second time or if you need to access saved tensors after calling backward."
     ]
    }
   ],
   "source": [
    "print(out)\n",
    "\n",
    "# 이전에 만든 out을 사용해서 역전파 진행\n",
    "\n",
    "y.retain_grad()     # 중간 값에 대한 미분 값을 보고싶다면 해당 값에 대한 retain_grad()를 호출해야 함\n",
    "z.retain_grad()\n",
    "out.backward()      # 여러 번 미분을 진행하기 위해서는 retain_graph=True로 설정해줘야 함(그렇지 않으면 아래처럼 에러 발생)\n",
    "\n",
    "# out.backward(torch.tensor(1.))을 진행하는 것과 동일\n",
    "print(x.grad)\n",
    "print(y.grad)\n",
    "print(z.grad)\n",
    "print(z.is_leaf) # 리프 노드인지 아닌지??\n",
    "\n",
    "out.backward()\n",
    "print(x.grad)\n",
    "print(y.grad)"
   ]
  },
  {
   "cell_type": "code",
   "execution_count": 11,
   "id": "b611ed51",
   "metadata": {},
   "outputs": [
    {
     "name": "stdout",
     "output_type": "stream",
     "text": [
      "tensor(27., grad_fn=<MeanBackward0>)\n",
      "tensor([[4.5000, 4.5000],\n",
      "        [4.5000, 4.5000]])\n",
      "tensor([[4.5000, 4.5000],\n",
      "        [4.5000, 4.5000]])\n",
      "None\n",
      "False\n",
      "tensor([[9., 9.],\n",
      "        [9., 9.]])\n",
      "tensor([[9., 9.],\n",
      "        [9., 9.]])\n"
     ]
    },
    {
     "name": "stderr",
     "output_type": "stream",
     "text": [
      "/Users/KBS/opt/anaconda3/envs/pytorch/lib/python3.7/site-packages/torch/_tensor.py:1083: UserWarning: The .grad attribute of a Tensor that is not a leaf Tensor is being accessed. Its .grad attribute won't be populated during autograd.backward(). If you indeed want the .grad field to be populated for a non-leaf Tensor, use .retain_grad() on the non-leaf Tensor. If you access the non-leaf Tensor by mistake, make sure you access the leaf Tensor instead. See github.com/pytorch/pytorch/pull/30531 for more informations. (Triggered internally at  /Users/runner/work/_temp/anaconda/conda-bld/pytorch_1659484744261/work/build/aten/src/ATen/core/TensorBody.h:482.)\n",
      "  return self._grad\n"
     ]
    }
   ],
   "source": [
    "x = torch.ones(2, 2, requires_grad=True)\n",
    "y = x + 2\n",
    "z = y * y * 3\n",
    "out = z.mean()\n",
    "\n",
    "print(out)\n",
    "\n",
    "y.retain_grad()\n",
    "out.backward(retain_graph=True)\n",
    "\n",
    "print(x.grad)\n",
    "print(y.grad)\n",
    "print(z.grad)       # z.retain_grad()를 호출하지 않으면 grad값을 저장하지 않기 때문에 grad 속성을 볼 수 없음\n",
    "print(z.is_leaf)\n",
    "\n",
    "out.backward()\n",
    "print(x.grad)\n",
    "print(y.grad)"
   ]
  },
  {
   "attachments": {
    "image.png": {
     "image/png": "[encoded data removed]"
    }
   },
   "cell_type": "markdown",
   "id": "3aea4fec",
   "metadata": {},
   "source": [
    "![image.png](attachment:image.png)"
   ]
  },
  {
   "cell_type": "markdown",
   "id": "7b4be88b",
   "metadata": {},
   "source": [
    "z_i를 미분한 값에 적용하면 4.5를 동일하게 출력할 수 있음\n"
   ]
  },
  {
   "cell_type": "markdown",
   "id": "1c749a2b",
   "metadata": {},
   "source": [
    "out(미분결과) = 1/4 6 (x + 2) = 3/2(x+2)\n",
    "\n"
   ]
  },
  {
   "cell_type": "markdown",
   "id": "9a2ed7b3",
   "metadata": {},
   "source": [
    "- 일반적으로 torch.autograd는 벡터-야코비안 곱을 계산하는 엔진\n",
    "- torch.autograd를 사용하면 전체 야코비안을 직접 계산할 수는 없지만, 벡터-야코비안 곱은 backward에 해당 벡터를 인자로 제공하여 얻을 수 있"
   ]
  },
  {
   "cell_type": "code",
   "execution_count": 12,
   "id": "260b4232",
   "metadata": {},
   "outputs": [
    {
     "name": "stdout",
     "output_type": "stream",
     "text": [
      "tensor([ -773.1689, -1078.3737,   -82.3232], grad_fn=<MulBackward0>)\n"
     ]
    }
   ],
   "source": [
    "x = torch.randn(3, requires_grad=True)\n",
    "\n",
    "y = x * 2\n",
    "\n",
    "while y.data.norm() < 1000:\n",
    "  y = y * 2\n",
    "\n",
    "print(y)"
   ]
  },
  {
   "cell_type": "code",
   "execution_count": 13,
   "id": "ec57dba6",
   "metadata": {},
   "outputs": [
    {
     "name": "stdout",
     "output_type": "stream",
     "text": [
      "tensor([1.0240e+02, 1.0240e+03, 1.0240e-01])\n"
     ]
    }
   ],
   "source": [
    "# scalar값이 아닌 y의 벡터-야코비안 곱을 구하는 과정..\n",
    "v = torch.tensor([0.1, 1.0, 0.0001], dtype=torch.float)\n",
    "y.backward(v)\n",
    "\n",
    "print(x.grad)"
   ]
  },
  {
   "cell_type": "markdown",
   "id": "d6bd555d",
   "metadata": {},
   "source": [
    "- with torch.no_grad()로 코드 블록을 감싸서 autograd가 .requires_grad=True인 Tensor의 연산 기록을 추적하는 것을 멈출 수도 있음!\n"
   ]
  },
  {
   "cell_type": "code",
   "execution_count": 14,
   "id": "8955bc12",
   "metadata": {},
   "outputs": [
    {
     "name": "stdout",
     "output_type": "stream",
     "text": [
      "True\n",
      "True\n",
      "False\n"
     ]
    }
   ],
   "source": [
    "print(x.requires_grad)\n",
    "print((x ** 2).requires_grad)\n",
    "\n",
    "with torch.no_grad():\n",
    "  print((x ** 2).requires_grad)"
   ]
  },
  {
   "cell_type": "markdown",
   "id": "59907f84",
   "metadata": {},
   "source": [
    "또는 .detach()를 호출하여 내용물은 같지만 requires_grad가 다른 새로운 텐서를 가져올 수 있다.\n",
    "값들은 동일하지만 속성값만 다르다는 점.\n",
    "- 중요한점 : 넘파이는 모든 미분하는 과정들을 사용자가 수기로 작성해야하지만 오토그래드는 미분이 자동으로 이루어진다는 점.\n"
   ]
  },
  {
   "cell_type": "code",
   "execution_count": 15,
   "id": "f7eac539",
   "metadata": {},
   "outputs": [
    {
     "name": "stdout",
     "output_type": "stream",
     "text": [
      "True\n",
      "False\n",
      "tensor(True)\n"
     ]
    }
   ],
   "source": [
    "print(x.requires_grad)\n",
    "y = x.detach()\n",
    "print(y.requires_grad)\n",
    "print(x.eq(y).all())"
   ]
  },
  {
   "cell_type": "markdown",
   "id": "e6359eca",
   "metadata": {},
   "source": [
    "# ANN(Artificial Neural Networks)\n"
   ]
  },
  {
   "cell_type": "markdown",
   "id": "364622b2",
   "metadata": {},
   "source": [
    "- 신경망은 torch.nn 패키지를 사용하여 생성할 수 있음  \n",
    "- nn은 모델을 정의하고 미분하기 위해서 위에서 살펴본 autograd를 사용\n",
    "- nn.Module은 계층(layer)과 output을 반환하는 forward(input) 메소드를 포함\n",
    "- 그리고 간단한 순전파 네트워크(feed-forward-network)"
   ]
  },
  {
   "cell_type": "markdown",
   "id": "dfb6b4cc",
   "metadata": {},
   "source": [
    "신경망의 일반적인 학습 과정\n",
    "\n",
    "1. 학습 가능한 매개변수(가중치)를 갖는 신경망을 정의\n",
    "2. 데이터 셋 입력을 반복\n",
    "3. 입력을 신경망에서 전파(process)\n",
    "4. 손실(loss; 입력 값과 예측 값과의 차이)를 계산\n",
    "5. 변화도(gradient)를 신경망의 매개변수들에 역으로 전파 - 역전파 과정\n",
    "6. 신경망의 가중치를 갱신\n",
    "    ### 새로운 가중치(weight) = 가중치(weight) - 학습률(learning rate) * 변화도(gradient)"
   ]
  },
  {
   "cell_type": "code",
   "execution_count": 16,
   "id": "19c097e3",
   "metadata": {},
   "outputs": [],
   "source": [
    "import pandas as pd\n",
    "\n",
    "from sklearn.datasets import load_iris\n",
    "\n",
    "import torch\n",
    "import torch.nn as nn\n",
    "from torch.utils.data import DataLoader, TensorDataset"
   ]
  },
  {
   "cell_type": "code",
   "execution_count": 17,
   "id": "5f0fab8e",
   "metadata": {},
   "outputs": [],
   "source": [
    "class Net(nn.Module):\n",
    "\n",
    "    def __init__(self):\n",
    "        super(Net, self).__init__()\n",
    "\n",
    "        self.layer0 = nn.Linear(4, 128) # 선형함수\n",
    "        self.layer1 = nn.Linear(128, 64)\n",
    "        self.layer2 = nn.Linear(64, 32)\n",
    "        self.layer3 = nn.Linear(32, 16)\n",
    "        self.layer4 = nn.Linear(16, 3)\n",
    "\n",
    "        self.bn0 = nn.BatchNorm1d(128) #정규화해주는 효과\n",
    "        self.bn1 = nn.BatchNorm1d(64)\n",
    "        self.bn2 = nn.BatchNorm1d(32)\n",
    "\n",
    "        self.act = nn.ReLU() # 비선형함수 렐루\n",
    "\n",
    "    def forward(self, x):\n",
    "      x = self.act(self.bn0(self.layer0(x)))\n",
    "      x = self.act(self.bn1(self.layer1(x)))\n",
    "      x = self.act(self.bn2(self.layer2(x)))\n",
    "      x = self.act(self.layer3(x))\n",
    "      x = self.layer4(x)\n",
    "\n",
    "      return x"
   ]
  },
  {
   "cell_type": "markdown",
   "id": "fc09fb72",
   "metadata": {},
   "source": [
    "# 손실 함수(Loss Function)\n"
   ]
  },
  {
   "cell_type": "markdown",
   "id": "a43d8f4b",
   "metadata": {},
   "source": [
    "- 손실 함수는 (output, target)을 한 쌍으로 입력 받아, 출력이 정답으로부터 얼마나 떨어져있는지 추정하는 값을 계산\n",
    "- forward함수만 정의하고 나면 backward함수는 autograd를 사용하여 자동으로 정의됨\n",
    "- 모델의 학습 가능한 매개 변수는 net.parameters()에 의해 변환됨\n"
   ]
  },
  {
   "cell_type": "code",
   "execution_count": 20,
   "id": "c728d2cc",
   "metadata": {},
   "outputs": [
    {
     "name": "stdout",
     "output_type": "stream",
     "text": [
      "loss:  1.0356696844100952\n",
      "layer0.bias.grad before backward\n",
      "None\n",
      "True\n",
      "layer0.bias.grad after backward\n",
      "tensor([-0.1614,  0.1061,  0.0553])\n"
     ]
    }
   ],
   "source": [
    "# CrossEntropyLoss : 다중 분류 문제에서 사용 됨 \n",
    "# 랜덤 값 생성\n",
    "criterion = nn.CrossEntropyLoss()\n",
    "\n",
    "ex_X, ex_y = torch.randn([4, 4]), torch.tensor([1, 0, 2, 0])\n",
    "\n",
    "\n",
    "net = Net() # net 모델 정의\n",
    "output = net(ex_X) #입력값이 네트워클르 통과한 예측값\n",
    "loss = criterion(output, ex_y) # 예측값과 정닶값 차이 =로스\n",
    "print('loss: ', loss.item())\n",
    "  \n",
    "net.zero_grad()\n",
    "\n",
    "print('layer0.bias.grad before backward')\n",
    "print(net.layer4.bias.grad)\n",
    "\n",
    "print(net.layer4.bias.is_leaf)\n",
    "\n",
    "loss.backward()\n",
    "\n",
    "print('layer0.bias.grad after backward')\n",
    "print(net.layer4.bias.grad)"
   ]
  },
  {
   "cell_type": "markdown",
   "id": "4cb1f4c2",
   "metadata": {},
   "source": [
    "어떤 경우가 leaf 노드가 뭐자???? https://discuss.pytorch.org/t/leaf-variable-was-used-in-an-inplace-operation/308/20\n",
    "왜 leaf 노드인 경우에는 retain_grad()를 하지 않아도 grad 값이 나오는지??? - https://discuss.pytorch.org/t/what-is-the-purpose-of-is-leaf/87000/7"
   ]
  },
  {
   "cell_type": "code",
   "execution_count": 21,
   "id": "c0af7a71",
   "metadata": {},
   "outputs": [
    {
     "name": "stdout",
     "output_type": "stream",
     "text": [
      "16\n",
      "torch.Size([128, 4])\n"
     ]
    }
   ],
   "source": [
    "params = list(net.parameters()) #각각의 층에 바이어스, 가중치 값이 들어있기 떄문에 2배?\n",
    "print(len(params))\n",
    "print(params[0].size())  # layer0의 weight"
   ]
  },
  {
   "cell_type": "markdown",
   "id": "6d1d9a4c",
   "metadata": {},
   "source": [
    "# 가중치 갱신\n"
   ]
  },
  {
   "cell_type": "markdown",
   "id": "6badfdda",
   "metadata": {},
   "source": [
    "- 가장 단순한 갱신 규칙은 확률적 경사하강법(SGD; Stochastic Gradient Descent)\n",
    "\n",
    "### W(news가중치) = W - LR * Grad"
   ]
  },
  {
   "cell_type": "code",
   "execution_count": 25,
   "id": "eb2307fa",
   "metadata": {},
   "outputs": [],
   "source": [
    "# torch.optim 패키지에 다양한 갱신 규칙이 규현되어 있음\n",
    "\n",
    "import torch.optim as optim\n",
    "\n",
    "optimizer = optim.SGD(net.parameters(), lr=0.001) #갱신규칙설정\n",
    "\n",
    "optimizer.zero_grad() #0초기화\n",
    "output = net(ex_X) # 에측값구하기\n",
    "loss = criterion(output, ex_y) #로스구하기\n",
    "loss.backward() #로스 역전파 진행\n",
    "optimizer.step()  # 업데이트 진행"
   ]
  },
  {
   "cell_type": "markdown",
   "id": "a43c091f",
   "metadata": {},
   "source": [
    "# 아이리스 데이터로 직접 MLP 모델만들어보기!!!"
   ]
  },
  {
   "cell_type": "code",
   "execution_count": 24,
   "id": "d3639586",
   "metadata": {},
   "outputs": [
    {
     "name": "stdout",
     "output_type": "stream",
     "text": [
      ".. _iris_dataset:\n",
      "\n",
      "Iris plants dataset\n",
      "--------------------\n",
      "\n",
      "**Data Set Characteristics:**\n",
      "\n",
      "    :Number of Instances: 150 (50 in each of three classes)\n",
      "    :Number of Attributes: 4 numeric, predictive attributes and the class\n",
      "    :Attribute Information:\n",
      "        - sepal length in cm\n",
      "        - sepal width in cm\n",
      "        - petal length in cm\n",
      "        - petal width in cm\n",
      "        - class:\n",
      "                - Iris-Setosa\n",
      "                - Iris-Versicolour\n",
      "                - Iris-Virginica\n",
      "                \n",
      "    :Summary Statistics:\n",
      "\n",
      "    ============== ==== ==== ======= ===== ====================\n",
      "                    Min  Max   Mean    SD   Class Correlation\n",
      "    ============== ==== ==== ======= ===== ====================\n",
      "    sepal length:   4.3  7.9   5.84   0.83    0.7826\n",
      "    sepal width:    2.0  4.4   3.05   0.43   -0.4194\n",
      "    petal length:   1.0  6.9   3.76   1.76    0.9490  (high!)\n",
      "    petal width:    0.1  2.5   1.20   0.76    0.9565  (high!)\n",
      "    ============== ==== ==== ======= ===== ====================\n",
      "\n",
      "    :Missing Attribute Values: None\n",
      "    :Class Distribution: 33.3% for each of 3 classes.\n",
      "    :Creator: R.A. Fisher\n",
      "    :Donor: Michael Marshall (MARSHALL%PLU@io.arc.nasa.gov)\n",
      "    :Date: July, 1988\n",
      "\n",
      "The famous Iris database, first used by Sir R.A. Fisher. The dataset is taken\n",
      "from Fisher's paper. Note that it's the same as in R, but not as in the UCI\n",
      "Machine Learning Repository, which has two wrong data points.\n",
      "\n",
      "This is perhaps the best known database to be found in the\n",
      "pattern recognition literature.  Fisher's paper is a classic in the field and\n",
      "is referenced frequently to this day.  (See Duda & Hart, for example.)  The\n",
      "data set contains 3 classes of 50 instances each, where each class refers to a\n",
      "type of iris plant.  One class is linearly separable from the other 2; the\n",
      "latter are NOT linearly separable from each other.\n",
      "\n",
      ".. topic:: References\n",
      "\n",
      "   - Fisher, R.A. \"The use of multiple measurements in taxonomic problems\"\n",
      "     Annual Eugenics, 7, Part II, 179-188 (1936); also in \"Contributions to\n",
      "     Mathematical Statistics\" (John Wiley, NY, 1950).\n",
      "   - Duda, R.O., & Hart, P.E. (1973) Pattern Classification and Scene Analysis.\n",
      "     (Q327.D83) John Wiley & Sons.  ISBN 0-471-22361-1.  See page 218.\n",
      "   - Dasarathy, B.V. (1980) \"Nosing Around the Neighborhood: A New System\n",
      "     Structure and Classification Rule for Recognition in Partially Exposed\n",
      "     Environments\".  IEEE Transactions on Pattern Analysis and Machine\n",
      "     Intelligence, Vol. PAMI-2, No. 1, 67-71.\n",
      "   - Gates, G.W. (1972) \"The Reduced Nearest Neighbor Rule\".  IEEE Transactions\n",
      "     on Information Theory, May 1972, 431-433.\n",
      "   - See also: 1988 MLC Proceedings, 54-64.  Cheeseman et al\"s AUTOCLASS II\n",
      "     conceptual clustering system finds 3 classes in the data.\n",
      "   - Many, many more ...\n"
     ]
    }
   ],
   "source": [
    "dataset = load_iris()\n",
    "\n",
    "data = dataset.data\n",
    "label = dataset.target\n",
    "\n",
    "print(dataset.DESCR)"
   ]
  },
  {
   "cell_type": "code",
   "execution_count": 26,
   "id": "9f999c94",
   "metadata": {},
   "outputs": [
    {
     "name": "stdout",
     "output_type": "stream",
     "text": [
      "shape of data:  (150, 4)\n",
      "shape of label:  (150,)\n"
     ]
    }
   ],
   "source": [
    "print('shape of data: ', data.shape)\n",
    "print('shape of label: ',label.shape) # 인스턴스당 하나의 라벨값??이 무슨말인지."
   ]
  },
  {
   "cell_type": "markdown",
   "id": "eed84f2a",
   "metadata": {},
   "source": [
    "# 1. 훈련과 테스트 데이터로 나누기"
   ]
  },
  {
   "cell_type": "code",
   "execution_count": 27,
   "id": "6bdf81d2",
   "metadata": {},
   "outputs": [
    {
     "name": "stdout",
     "output_type": "stream",
     "text": [
      "112\n",
      "38\n"
     ]
    }
   ],
   "source": [
    "from sklearn.model_selection import train_test_split\n",
    "\n",
    "X_train, X_test, y_train, y_test = train_test_split(data, label, test_size=0.25)\n",
    "print(len(X_train))\n",
    "print(len(X_test))"
   ]
  },
  {
   "cell_type": "markdown",
   "id": "d769b69d",
   "metadata": {},
   "source": [
    "# 2. DataLoader 생성"
   ]
  },
  {
   "cell_type": "code",
   "execution_count": 28,
   "id": "10b52a11",
   "metadata": {},
   "outputs": [],
   "source": [
    "\n",
    "X_train = torch.from_numpy(X_train).float()\n",
    "y_train = torch.from_numpy(y_train).long()\n",
    "\n",
    "X_test = torch.from_numpy(X_test).float()\n",
    "y_test = torch.from_numpy(y_test).long()\n",
    "\n",
    "train_set = TensorDataset(X_train, y_train)\n",
    "\n",
    "train_loader = DataLoader(train_set, batch_size=4, shuffle=True) # 배치사이즈? 한 번에 몇 개 데이터 볼것인지...4개의 데이터를 한 번에 신경망에 넣는다는 뜻"
   ]
  },
  {
   "cell_type": "code",
   "execution_count": 30,
   "id": "70e07ce1",
   "metadata": {},
   "outputs": [],
   "source": [
    "optimizer = torch.optim.SGD(net.parameters(), lr=0.001) #옵티마이저 설정\n",
    "criterion = nn.CrossEntropyLoss() # 로스값 설정\n",
    "epochs = 200 # 몇번을 반복할지?"
   ]
  },
  {
   "cell_type": "markdown",
   "id": "05d21097",
   "metadata": {},
   "source": [
    "## epochs가 뭔지 알려주라.."
   ]
  },
  {
   "cell_type": "code",
   "execution_count": 31,
   "id": "98acaacb",
   "metadata": {},
   "outputs": [
    {
     "name": "stdout",
     "output_type": "stream",
     "text": [
      "epoch :001, \tloss :1.0801, \taccuracy :0.4286\n",
      "epoch :002, \tloss :1.0574, \taccuracy :0.4375\n",
      "epoch :003, \tloss :1.0606, \taccuracy :0.4554\n",
      "epoch :004, \tloss :1.0398, \taccuracy :0.5536\n",
      "epoch :005, \tloss :1.0236, \taccuracy :0.5357\n",
      "epoch :006, \tloss :1.0113, \taccuracy :0.5625\n",
      "epoch :007, \tloss :1.0194, \taccuracy :0.5536\n",
      "epoch :008, \tloss :1.0121, \taccuracy :0.5179\n",
      "epoch :009, \tloss :0.9832, \taccuracy :0.5536\n",
      "epoch :010, \tloss :0.9902, \taccuracy :0.5893\n",
      "epoch :011, \tloss :0.9897, \taccuracy :0.5268\n",
      "epoch :012, \tloss :0.9924, \taccuracy :0.5446\n",
      "epoch :013, \tloss :1.0129, \taccuracy :0.4911\n",
      "epoch :014, \tloss :0.9491, \taccuracy :0.5982\n",
      "epoch :015, \tloss :0.9619, \taccuracy :0.5714\n",
      "epoch :016, \tloss :0.9548, \taccuracy :0.5268\n",
      "epoch :017, \tloss :0.9411, \taccuracy :0.5625\n",
      "epoch :018, \tloss :0.9575, \taccuracy :0.5179\n",
      "epoch :019, \tloss :0.946, \taccuracy :0.5714\n",
      "epoch :020, \tloss :0.9463, \taccuracy :0.5446\n",
      "epoch :021, \tloss :0.9361, \taccuracy :0.5714\n",
      "epoch :022, \tloss :0.9316, \taccuracy :0.5268\n",
      "epoch :023, \tloss :0.9114, \taccuracy :0.625\n",
      "epoch :024, \tloss :0.9031, \taccuracy :0.6071\n",
      "epoch :025, \tloss :0.9045, \taccuracy :0.6696\n",
      "epoch :026, \tloss :0.8643, \taccuracy :0.6875\n",
      "epoch :027, \tloss :0.9012, \taccuracy :0.5893\n",
      "epoch :028, \tloss :0.8835, \taccuracy :0.6696\n",
      "epoch :029, \tloss :0.8987, \taccuracy :0.6429\n",
      "epoch :030, \tloss :0.8762, \taccuracy :0.7232\n",
      "epoch :031, \tloss :0.8298, \taccuracy :0.75\n",
      "epoch :032, \tloss :0.8917, \taccuracy :0.5893\n",
      "epoch :033, \tloss :0.8519, \taccuracy :0.6161\n",
      "epoch :034, \tloss :0.8447, \taccuracy :0.7054\n",
      "epoch :035, \tloss :0.812, \taccuracy :0.7679\n",
      "epoch :036, \tloss :0.8381, \taccuracy :0.7321\n",
      "epoch :037, \tloss :0.874, \taccuracy :0.6786\n",
      "epoch :038, \tloss :0.847, \taccuracy :0.6786\n",
      "epoch :039, \tloss :0.8358, \taccuracy :0.7232\n",
      "epoch :040, \tloss :0.8188, \taccuracy :0.7321\n",
      "epoch :041, \tloss :0.8364, \taccuracy :0.7411\n",
      "epoch :042, \tloss :0.8251, \taccuracy :0.75\n",
      "epoch :043, \tloss :0.8009, \taccuracy :0.7589\n",
      "epoch :044, \tloss :0.7672, \taccuracy :0.7768\n",
      "epoch :045, \tloss :0.7905, \taccuracy :0.7857\n",
      "epoch :046, \tloss :0.8526, \taccuracy :0.6964\n",
      "epoch :047, \tloss :0.8116, \taccuracy :0.7411\n",
      "epoch :048, \tloss :0.8268, \taccuracy :0.7054\n",
      "epoch :049, \tloss :0.7723, \taccuracy :0.8036\n",
      "epoch :050, \tloss :0.7188, \taccuracy :0.7857\n",
      "epoch :051, \tloss :0.7731, \taccuracy :0.7411\n",
      "epoch :052, \tloss :0.757, \taccuracy :0.75\n",
      "epoch :053, \tloss :0.7468, \taccuracy :0.7857\n",
      "epoch :054, \tloss :0.8116, \taccuracy :0.7054\n",
      "epoch :055, \tloss :0.7243, \taccuracy :0.7679\n",
      "epoch :056, \tloss :0.7653, \taccuracy :0.7768\n",
      "epoch :057, \tloss :0.7427, \taccuracy :0.7679\n",
      "epoch :058, \tloss :0.7512, \taccuracy :0.7589\n",
      "epoch :059, \tloss :0.7838, \taccuracy :0.7589\n",
      "epoch :060, \tloss :0.7466, \taccuracy :0.7679\n",
      "epoch :061, \tloss :0.7324, \taccuracy :0.7589\n",
      "epoch :062, \tloss :0.7621, \taccuracy :0.7411\n",
      "epoch :063, \tloss :0.7077, \taccuracy :0.7768\n",
      "epoch :064, \tloss :0.7379, \taccuracy :0.7232\n",
      "epoch :065, \tloss :0.7427, \taccuracy :0.6964\n",
      "epoch :066, \tloss :0.6859, \taccuracy :0.7946\n",
      "epoch :067, \tloss :0.7689, \taccuracy :0.7054\n",
      "epoch :068, \tloss :0.6315, \taccuracy :0.875\n",
      "epoch :069, \tloss :0.7034, \taccuracy :0.7857\n",
      "epoch :070, \tloss :0.6753, \taccuracy :0.7143\n",
      "epoch :071, \tloss :0.6807, \taccuracy :0.7768\n",
      "epoch :072, \tloss :0.6954, \taccuracy :0.7411\n",
      "epoch :073, \tloss :0.7236, \taccuracy :0.7589\n",
      "epoch :074, \tloss :0.7452, \taccuracy :0.6964\n",
      "epoch :075, \tloss :0.6633, \taccuracy :0.7411\n",
      "epoch :076, \tloss :0.7147, \taccuracy :0.75\n",
      "epoch :077, \tloss :0.7056, \taccuracy :0.7143\n",
      "epoch :078, \tloss :0.6217, \taccuracy :0.8482\n",
      "epoch :079, \tloss :0.6911, \taccuracy :0.7679\n",
      "epoch :080, \tloss :0.6026, \taccuracy :0.8393\n",
      "epoch :081, \tloss :0.6611, \taccuracy :0.7857\n",
      "epoch :082, \tloss :0.6143, \taccuracy :0.8125\n",
      "epoch :083, \tloss :0.6409, \taccuracy :0.7768\n",
      "epoch :084, \tloss :0.6199, \taccuracy :0.7946\n",
      "epoch :085, \tloss :0.6818, \taccuracy :0.7054\n",
      "epoch :086, \tloss :0.6969, \taccuracy :0.7589\n",
      "epoch :087, \tloss :0.6475, \taccuracy :0.7411\n",
      "epoch :088, \tloss :0.7313, \taccuracy :0.7232\n",
      "epoch :089, \tloss :0.6001, \taccuracy :0.7857\n",
      "epoch :090, \tloss :0.5557, \taccuracy :0.8571\n",
      "epoch :091, \tloss :0.6622, \taccuracy :0.8125\n",
      "epoch :092, \tloss :0.6998, \taccuracy :0.7321\n",
      "epoch :093, \tloss :0.6949, \taccuracy :0.7232\n",
      "epoch :094, \tloss :0.6068, \taccuracy :0.7857\n",
      "epoch :095, \tloss :0.6072, \taccuracy :0.8125\n",
      "epoch :096, \tloss :0.5635, \taccuracy :0.8482\n",
      "epoch :097, \tloss :0.7338, \taccuracy :0.6607\n",
      "epoch :098, \tloss :0.6238, \taccuracy :0.7857\n",
      "epoch :099, \tloss :0.6211, \taccuracy :0.7857\n",
      "epoch :100, \tloss :0.5832, \taccuracy :0.8304\n",
      "epoch :101, \tloss :0.645, \taccuracy :0.7321\n",
      "epoch :102, \tloss :0.5443, \taccuracy :0.8393\n",
      "epoch :103, \tloss :0.5682, \taccuracy :0.8393\n",
      "epoch :104, \tloss :0.6474, \taccuracy :0.7321\n",
      "epoch :105, \tloss :0.5889, \taccuracy :0.75\n",
      "epoch :106, \tloss :0.6604, \taccuracy :0.7679\n",
      "epoch :107, \tloss :0.6643, \taccuracy :0.7232\n",
      "epoch :108, \tloss :0.6171, \taccuracy :0.7857\n",
      "epoch :109, \tloss :0.6275, \taccuracy :0.75\n",
      "epoch :110, \tloss :0.6012, \taccuracy :0.7857\n",
      "epoch :111, \tloss :0.586, \taccuracy :0.7321\n",
      "epoch :112, \tloss :0.5828, \taccuracy :0.8036\n",
      "epoch :113, \tloss :0.5426, \taccuracy :0.7857\n",
      "epoch :114, \tloss :0.6696, \taccuracy :0.75\n",
      "epoch :115, \tloss :0.5794, \taccuracy :0.7768\n",
      "epoch :116, \tloss :0.6035, \taccuracy :0.7232\n",
      "epoch :117, \tloss :0.5108, \taccuracy :0.8304\n",
      "epoch :118, \tloss :0.5089, \taccuracy :0.8393\n",
      "epoch :119, \tloss :0.5786, \taccuracy :0.7589\n",
      "epoch :120, \tloss :0.5693, \taccuracy :0.8214\n",
      "epoch :121, \tloss :0.6621, \taccuracy :0.75\n",
      "epoch :122, \tloss :0.6092, \taccuracy :0.7857\n",
      "epoch :123, \tloss :0.5543, \taccuracy :0.8036\n",
      "epoch :124, \tloss :0.574, \taccuracy :0.7946\n",
      "epoch :125, \tloss :0.5427, \taccuracy :0.8125\n",
      "epoch :126, \tloss :0.5671, \taccuracy :0.7946\n",
      "epoch :127, \tloss :0.5412, \taccuracy :0.8036\n",
      "epoch :128, \tloss :0.6212, \taccuracy :0.7411\n",
      "epoch :129, \tloss :0.5525, \taccuracy :0.8036\n",
      "epoch :130, \tloss :0.5726, \taccuracy :0.75\n",
      "epoch :131, \tloss :0.6406, \taccuracy :0.6875\n",
      "epoch :132, \tloss :0.5677, \taccuracy :0.7679\n",
      "epoch :133, \tloss :0.4968, \taccuracy :0.8571\n",
      "epoch :134, \tloss :0.519, \taccuracy :0.7946\n",
      "epoch :135, \tloss :0.464, \taccuracy :0.8393\n",
      "epoch :136, \tloss :0.5665, \taccuracy :0.7768\n",
      "epoch :137, \tloss :0.5984, \taccuracy :0.75\n",
      "epoch :138, \tloss :0.5226, \taccuracy :0.8214\n",
      "epoch :139, \tloss :0.5478, \taccuracy :0.7768\n",
      "epoch :140, \tloss :0.627, \taccuracy :0.75\n",
      "epoch :141, \tloss :0.5453, \taccuracy :0.8214\n",
      "epoch :142, \tloss :0.4884, \taccuracy :0.8393\n",
      "epoch :143, \tloss :0.5394, \taccuracy :0.8214\n",
      "epoch :144, \tloss :0.4655, \taccuracy :0.8393\n",
      "epoch :145, \tloss :0.5332, \taccuracy :0.8214\n",
      "epoch :146, \tloss :0.549, \taccuracy :0.75\n",
      "epoch :147, \tloss :0.5174, \taccuracy :0.8036\n",
      "epoch :148, \tloss :0.4758, \taccuracy :0.8482\n",
      "epoch :149, \tloss :0.5295, \taccuracy :0.8214\n",
      "epoch :150, \tloss :0.4813, \taccuracy :0.8393\n",
      "epoch :151, \tloss :0.6074, \taccuracy :0.7143\n",
      "epoch :152, \tloss :0.4692, \taccuracy :0.7946\n",
      "epoch :153, \tloss :0.4744, \taccuracy :0.8036\n",
      "epoch :154, \tloss :0.4964, \taccuracy :0.8571\n",
      "epoch :155, \tloss :0.5191, \taccuracy :0.8304\n",
      "epoch :156, \tloss :0.4679, \taccuracy :0.8393\n",
      "epoch :157, \tloss :0.546, \taccuracy :0.8036\n",
      "epoch :158, \tloss :0.4953, \taccuracy :0.7946\n",
      "epoch :159, \tloss :0.5344, \taccuracy :0.8304\n",
      "epoch :160, \tloss :0.5265, \taccuracy :0.8304\n",
      "epoch :161, \tloss :0.5498, \taccuracy :0.7679\n",
      "epoch :162, \tloss :0.401, \taccuracy :0.9018\n",
      "epoch :163, \tloss :0.4945, \taccuracy :0.8482\n",
      "epoch :164, \tloss :0.4885, \taccuracy :0.8571\n",
      "epoch :165, \tloss :0.5189, \taccuracy :0.8304\n",
      "epoch :166, \tloss :0.4303, \taccuracy :0.9018\n",
      "epoch :167, \tloss :0.4764, \taccuracy :0.875\n",
      "epoch :168, \tloss :0.5402, \taccuracy :0.7679\n",
      "epoch :169, \tloss :0.4554, \taccuracy :0.8482\n",
      "epoch :170, \tloss :0.4614, \taccuracy :0.875\n",
      "epoch :171, \tloss :0.4564, \taccuracy :0.875\n",
      "epoch :172, \tloss :0.4789, \taccuracy :0.7946\n",
      "epoch :173, \tloss :0.5146, \taccuracy :0.8214\n",
      "epoch :174, \tloss :0.4438, \taccuracy :0.8393\n",
      "epoch :175, \tloss :0.464, \taccuracy :0.7946\n",
      "epoch :176, \tloss :0.4867, \taccuracy :0.8304\n",
      "epoch :177, \tloss :0.3928, \taccuracy :0.875\n",
      "epoch :178, \tloss :0.3801, \taccuracy :0.8839\n",
      "epoch :179, \tloss :0.4856, \taccuracy :0.7946\n",
      "epoch :180, \tloss :0.5809, \taccuracy :0.7232\n",
      "epoch :181, \tloss :0.4345, \taccuracy :0.8661\n",
      "epoch :182, \tloss :0.4417, \taccuracy :0.8482\n",
      "epoch :183, \tloss :0.5693, \taccuracy :0.7768\n",
      "epoch :184, \tloss :0.4346, \taccuracy :0.8482\n",
      "epoch :185, \tloss :0.5381, \taccuracy :0.7768\n",
      "epoch :186, \tloss :0.4785, \taccuracy :0.8214\n"
     ]
    },
    {
     "name": "stdout",
     "output_type": "stream",
     "text": [
      "epoch :187, \tloss :0.3886, \taccuracy :0.8839\n",
      "epoch :188, \tloss :0.4322, \taccuracy :0.8393\n",
      "epoch :189, \tloss :0.498, \taccuracy :0.8304\n",
      "epoch :190, \tloss :0.4321, \taccuracy :0.8571\n",
      "epoch :191, \tloss :0.475, \taccuracy :0.8304\n",
      "epoch :192, \tloss :0.3717, \taccuracy :0.9196\n",
      "epoch :193, \tloss :0.4427, \taccuracy :0.8214\n",
      "epoch :194, \tloss :0.564, \taccuracy :0.75\n",
      "epoch :195, \tloss :0.414, \taccuracy :0.8571\n",
      "epoch :196, \tloss :0.5037, \taccuracy :0.8125\n",
      "epoch :197, \tloss :0.4723, \taccuracy :0.8482\n",
      "epoch :198, \tloss :0.3664, \taccuracy :0.875\n",
      "epoch :199, \tloss :0.4496, \taccuracy :0.8571\n",
      "epoch :200, \tloss :0.4349, \taccuracy :0.8661\n"
     ]
    }
   ],
   "source": [
    "\n",
    "losses = list()\n",
    "accuracies = list()\n",
    "\n",
    "for epoch in range(epochs):\n",
    "  epoch_loss = 0                   #epochs 로스와 accruacy를 구하는 이유가 뭘까??..\n",
    "  epoch_accuracy = 0\n",
    "  for X, y in train_loader:\n",
    "  \n",
    "    optimizer.zero_grad() # gred 0 초기화\n",
    "    \n",
    "    output = net(X) # d예측값 초기화\n",
    "\n",
    "    loss = criterion(output, y) # 오차구하기 \n",
    "    loss.backward() # 오차 사용해서 역전파진행\n",
    "    \n",
    "    optimizer.step() # 업데이트\n",
    "    # output = [0.11, 0.5, 0.8]  --> 모델이 예측한 클래스 값, 예측한 0.8이 라벨값\n",
    "    _, predicted = torch.max(output, dim=1)\n",
    "    accuracy = (predicted == y).sum().item()\n",
    "    epoch_loss += loss.item()\n",
    "    epoch_accuracy += accuracy\n",
    "  \n",
    "\n",
    "  epoch_loss /= len(train_loader)\n",
    "  epoch_accuracy /= len(X_train)\n",
    "  print(\"epoch :{}, \\tloss :{}, \\taccuracy :{}\".format(str(epoch+1).zfill(3),round(epoch_loss,4), round(epoch_accuracy,4)))\n",
    "  \n",
    "  losses.append(epoch_loss)\n",
    "  accuracies.append(epoch_accuracy)"
   ]
  },
  {
   "cell_type": "code",
   "execution_count": 32,
   "id": "38aebf50",
   "metadata": {},
   "outputs": [
    {
     "data": {
      "image/png": "[encoded data removed]",
      "text/plain": [
       "<Figure size 1440x360 with 2 Axes>"
      ]
     },
     "metadata": {
      "needs_background": "light"
     },
     "output_type": "display_data"
    }
   ],
   "source": [
    "# Plot result\n",
    "\n",
    "import matplotlib.pyplot as plt\n",
    "\n",
    "plt.figure(figsize=(20,5))\n",
    "plt.subplots_adjust(wspace=0.2)\n",
    "\n",
    "plt.subplot(1,2,1)\n",
    "plt.title(\"$loss$\",fontsize = 18)\n",
    "plt.plot(losses)\n",
    "plt.grid()\n",
    "plt.xlabel(\"$epochs$\", fontsize = 16)\n",
    "plt.xticks(fontsize = 14)\n",
    "plt.yticks(fontsize = 14)\n",
    "\n",
    "\n",
    "plt.subplot(1,2,2)\n",
    "plt.title(\"$accuracy$\", fontsize = 18)\n",
    "plt.plot(accuracies)\n",
    "plt.grid()\n",
    "plt.xlabel(\"$epochs$\", fontsize = 16)\n",
    "plt.xticks(fontsize = 14)\n",
    "plt.yticks(fontsize = 14)\n",
    "\n",
    "plt.show()"
   ]
  },
  {
   "cell_type": "markdown",
   "id": "891af667",
   "metadata": {},
   "source": [
    "# 로스와 정확도 모두 왔다갔다 한다..단순모델이라서 복잡한 형태는 못 잡음?\n",
    "# 테스트 데이터로 진짜 해보자."
   ]
  },
  {
   "cell_type": "code",
   "execution_count": 36,
   "id": "28d647f0",
   "metadata": {},
   "outputs": [],
   "source": [
    "# Test\n",
    "\n",
    "output = net(X_test) # 모델에 다가 테스트데이터셋 넣고\n",
    "\n"
   ]
  },
  {
   "cell_type": "code",
   "execution_count": 37,
   "id": "74c9939b",
   "metadata": {},
   "outputs": [
    {
     "name": "stdout",
     "output_type": "stream",
     "text": [
      "torch.return_types.max(\n",
      "values=tensor([1.7841, 2.0662, 3.4004, 2.5396, 1.2433, 1.4121, 1.2811, 1.0529, 1.4158,\n",
      "        1.9177, 3.0429, 1.0067, 1.3079, 1.6042, 0.7854, 1.2641, 2.5384, 1.7967,\n",
      "        2.2657, 1.8087, 1.4726, 0.7063, 1.5270, 2.0147, 1.8985, 1.7085, 1.4289,\n",
      "        1.7871, 0.4635, 2.3471, 2.8357, 2.6877, 1.4047, 1.8026, 1.3856, 1.6997,\n",
      "        1.1583, 2.1823], grad_fn=<MaxBackward0>),\n",
      "indices=tensor([2, 0, 2, 2, 1, 0, 1, 0, 1, 0, 2, 2, 1, 0, 1, 0, 2, 1, 2, 0, 2, 1, 1, 0,\n",
      "        1, 2, 0, 1, 1, 0, 0, 2, 0, 0, 1, 0, 1, 2]))\n",
      "test_set accuracy : 0.9737\n"
     ]
    }
   ],
   "source": [
    "print(torch.max(output, dim=1))\n",
    "_, predicted = torch.max(output, dim=1) # 예측값을 뽑고?\n",
    "\n",
    "accuracy = round((predicted == y_test).sum().item() / len(y_test),4)\n",
    "\n",
    "\n",
    "print(\"test_set accuracy :\", round(accuracy,4))"
   ]
  },
  {
   "cell_type": "code",
   "execution_count": 38,
   "id": "35ca4b30",
   "metadata": {},
   "outputs": [],
   "source": [
    "# 정확도 97,,,아마 데이터셋이 작아서 그런건가??"
   ]
  },
  {
   "cell_type": "code",
   "execution_count": null,
   "id": "9e221f2d",
   "metadata": {},
   "outputs": [],
   "source": []
  }
 ],
 "metadata": {
  "kernelspec": {
   "display_name": "ML",
   "language": "python",
   "name": "pytorch"
  },
  "language_info": {
   "codemirror_mode": {
    "name": "ipython",
    "version": 3
   },
   "file_extension": ".py",
   "mimetype": "text/x-python",
   "name": "python",
   "nbconvert_exporter": "python",
   "pygments_lexer": "ipython3",
   "version": "3.7.13"
  }
 },
 "nbformat": 4,
 "nbformat_minor": 5
}
