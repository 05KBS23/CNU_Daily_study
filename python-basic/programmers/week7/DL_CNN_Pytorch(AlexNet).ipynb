{
 "cells": [
  {
   "cell_type": "code",
   "execution_count": 1,
   "id": "c2a13773",
   "metadata": {},
   "outputs": [
    {
     "ename": "ImportError",
     "evalue": "attempted relative import with no known parent package",
     "output_type": "error",
     "traceback": [
      "\u001b[0;31m---------------------------------------------------------------------------\u001b[0m",
      "\u001b[0;31mImportError\u001b[0m                               Traceback (most recent call last)",
      "\u001b[0;32m/var/folders/r8/hnw1hjlx54z7_g14njp906m00000gp/T/ipykernel_69270/2960432500.py\u001b[0m in \u001b[0;36m<module>\u001b[0;34m\u001b[0m\n\u001b[1;32m      2\u001b[0m \u001b[0;32mimport\u001b[0m \u001b[0mtorch\u001b[0m\u001b[0;34m.\u001b[0m\u001b[0mnn\u001b[0m \u001b[0;32mas\u001b[0m \u001b[0mnn\u001b[0m\u001b[0;34m\u001b[0m\u001b[0;34m\u001b[0m\u001b[0m\n\u001b[1;32m      3\u001b[0m \u001b[0;32mfrom\u001b[0m \u001b[0mtyping\u001b[0m \u001b[0;32mimport\u001b[0m \u001b[0mAny\u001b[0m\u001b[0;34m\u001b[0m\u001b[0;34m\u001b[0m\u001b[0m\n\u001b[0;32m----> 4\u001b[0;31m \u001b[0;32mfrom\u001b[0m \u001b[0;34m.\u001b[0m\u001b[0mutils\u001b[0m \u001b[0;32mimport\u001b[0m \u001b[0mload_state_dict_from_url\u001b[0m\u001b[0;34m\u001b[0m\u001b[0;34m\u001b[0m\u001b[0m\n\u001b[0m\u001b[1;32m      5\u001b[0m \u001b[0;34m\u001b[0m\u001b[0m\n\u001b[1;32m      6\u001b[0m \u001b[0;31m# from utils import load_state_dict_from_url\u001b[0m\u001b[0;34m\u001b[0m\u001b[0;34m\u001b[0m\u001b[0;34m\u001b[0m\u001b[0m\n",
      "\u001b[0;31mImportError\u001b[0m: attempted relative import with no known parent package"
     ]
    }
   ],
   "source": [
    "import torch\n",
    "import torch.nn as nn\n",
    "from typing import Any\n",
    "from .utils import load_state_dict_from_url\n",
    "\n",
    "# from utils import load_state_dict_from_url"
   ]
  },
  {
   "cell_type": "code",
   "execution_count": 1,
   "id": "98eee044",
   "metadata": {},
   "outputs": [],
   "source": [
    "#attempted relative import with no known parent package 오류를 혼자 해결할 수가 없다...도대체.,.\n",
    "#참고 https://ebbnflow.tistory.com/320  모듈 상대경로(ImportError: attempted relative import with no known parent package\n"
   ]
  },
  {
   "cell_type": "code",
   "execution_count": 10,
   "id": "35e4989e",
   "metadata": {},
   "outputs": [],
   "source": [
    "__all__ = ['AlexNet', 'alexnet']\n",
    "\n",
    "\n",
    "model_urls = {\n",
    "    'alexnet': 'https://download.pytorch.org/models/alexnet-owt-4df8aa71.pth',\n",
    "}\n",
    "\n",
    "\n",
    "class AlexNet(nn.Module):\n",
    "\n",
    "    def __init__(self, num_classes: int = 1000) -> None:\n",
    "        super(AlexNet, self).__init__()\n",
    "        self.features = nn.Sequential( # 특징 부분\n",
    "            #Conv1\n",
    "            #input channel : 3 , output channel : 64, kernel_size : 11, stride : 4, padding : 2\n",
    "            nn.Conv2d(3, 64, kernel_size=11, stride=4, padding=2), # 인풋채널 3, 아웃풋채널 64, 커널사이즈 \n",
    "            nn.ReLU(inplace=True), # inplace=True 하면, inplace 연산을 수행함, inplace 연산은 결과값을 새로운 변수에 값을 저장하는 대신 기존의 데이터를 대체하는것을 의미\n",
    "            #Max Pool1\n",
    "            nn.MaxPool2d(kernel_size=3, stride=2), #커널사이즈는 3x3\n",
    "            #Conv2\n",
    "            nn.Conv2d(64, 192, kernel_size=5, padding=2), \n",
    "            nn.ReLU(inplace=True),\n",
    "            #Max Pool2\n",
    "            nn.MaxPool2d(kernel_size=3, stride=2),\n",
    "            #Conv3\n",
    "            nn.Conv2d(192, 384, kernel_size=3, padding=1),\n",
    "            nn.ReLU(inplace=True),\n",
    "            ##Conv4\n",
    "            nn.Conv2d(384, 256, kernel_size=3, padding=1),\n",
    "            nn.ReLU(inplace=True),\n",
    "            #Conv5\n",
    "            nn.Conv2d(256, 256, kernel_size=3, padding=1),\n",
    "            nn.ReLU(inplace=True),\n",
    "            #Max Pool3\n",
    "            nn.MaxPool2d(kernel_size=3, stride=2),\n",
    "        )\n",
    "        # Q. 왜 하필 커널사이즈는 3x3이냐?\n",
    "        \n",
    "        self.avgpool = nn.AdaptiveAvgPool2d((6, 6)) #분류 부분\n",
    "        self.classifier = nn.Sequential(\n",
    "            #드롭아웃 ? 이 뭔데.\n",
    "            nn.Dropout(),\n",
    "            nn.Linear(256 * 6 * 6, 4096),\n",
    "            nn.ReLU(inplace=True),\n",
    "            nn.Dropout(),\n",
    "            nn.Linear(4096, 4096),\n",
    "            nn.ReLU(inplace=True),\n",
    "            nn.Linear(4096, num_classes),\n",
    "        )\n",
    "\n",
    "    def forward(self, x: torch.Tensor) -> torch.Tensor:\n",
    "        #특징 추출 부분\n",
    "        x = self.features(x)\n",
    "       \n",
    "        x = self.avgpool(x)\n",
    "        #output shape : (batch size * 256(channel), 6, 6)\n",
    "        #Flatten\n",
    "        x = torch.flatten(x, 1) # = 격자모양을 한줄로 펼치기\n",
    "        #output shape (batch_size, 256 * 6* 6)\n",
    "        #분류 분류 \n",
    "        x = self.classifier(x)\n",
    "        return x\n",
    "\n",
    "\n",
    "def alexnet(pretrained: bool = False, progress: bool = True, **kwargs: Any) -> AlexNet:\n",
    "    r\"\"\"AlexNet model architecture from the\n",
    "    `\"One weird trick...\" <https://arxiv.org/abs/1404.5997>`_ paper.\n",
    "    Args:\n",
    "        pretrained (bool): If True, returns a model pre-trained on ImageNet\n",
    "        progress (bool): If True, displays a progress bar of the download to stderr\n",
    "    \"\"\"\n",
    "    model = AlexNet(**kwargs)\n",
    "    if pretrained:\n",
    "        state_dict = load_state_dict_from_url(model_urls['alexnet'],\n",
    "                                              progress=progress)\n",
    "        model.load_state_dict(state_dict)\n",
    "    return model\n",
    "\n",
    "# 1.이미지넷으로 사전학습된 모델을 가져올지 말지 boolean 인자,\n",
    "# 2.알렉스넷이라는 객체 생성"
   ]
  },
  {
   "cell_type": "code",
   "execution_count": null,
   "id": "8600c447",
   "metadata": {},
   "outputs": [],
   "source": []
  }
 ],
 "metadata": {
  "kernelspec": {
   "display_name": "ML",
   "language": "python",
   "name": "pytotch"
  },
  "language_info": {
   "codemirror_mode": {
    "name": "ipython",
    "version": 3
   },
   "file_extension": ".py",
   "mimetype": "text/x-python",
   "name": "python",
   "nbconvert_exporter": "python",
   "pygments_lexer": "ipython3",
   "version": "3.7.13"
  }
 },
 "nbformat": 4,
 "nbformat_minor": 5
}
