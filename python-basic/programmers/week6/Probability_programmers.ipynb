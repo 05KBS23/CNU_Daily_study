{
 "cells": [
  {
   "cell_type": "markdown",
   "id": "2775e15d",
   "metadata": {},
   "source": [
    "### 아무래도 강의 순서가 조금 바뀌었다고 생각이 든다..\n",
    "### 머신러닝 기초 개념을 E2E 프로젝트 전에 하는게 더 낫지 않았을까??.."
   ]
  },
  {
   "cell_type": "code",
   "execution_count": null,
   "id": "57379ebf",
   "metadata": {},
   "outputs": [],
   "source": []
  }
 ],
 "metadata": {
  "kernelspec": {
   "display_name": "Python 3 (ipykernel)",
   "language": "python",
   "name": "python3"
  },
  "language_info": {
   "codemirror_mode": {
    "name": "ipython",
    "version": 3
   },
   "file_extension": ".py",
   "mimetype": "text/x-python",
   "name": "python",
   "nbconvert_exporter": "python",
   "pygments_lexer": "ipython3",
   "version": "3.9.12"
  }
 },
 "nbformat": 4,
 "nbformat_minor": 5
}
