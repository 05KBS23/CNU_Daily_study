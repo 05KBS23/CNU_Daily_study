{
 "cells": [
  {
   "cell_type": "markdown",
   "id": "95bb470a",
   "metadata": {},
   "source": [
    "# Ⅳ - 4 뭉게뭉게 단어구름, wordcloud"
   ]
  },
  {
   "cell_type": "markdown",
   "id": "dd0262ed",
   "metadata": {},
   "source": [
    "## ① WordCloud란???"
   ]
  },
  {
   "cell_type": "markdown",
   "id": "f34e2cd3",
   "metadata": {},
   "source": [
    "워드클라우드는 파이썬 텍스트 클라우드 라이브러리이다. 이를 기반으로 텍스트 구름을 그릴 수가 있다.  \n",
    "konply는 한국어 형태소 분석기 라이브러리로, 주어진 문장에서 명사 등을 뽑아 내는 데에 사용할 수 있다.  \n",
    "\n",
    "1. koNLPy 라이브러리로 한국어 문장을 전처리\n",
    "2. counter를 이용하여 빈도수 측정\n",
    "3. worldcloud를 이용해 빈도수 측정\n",
    "\n",
    "\n",
    "파이썬으로 워드클라우드를 어떻게 사용하나요?? = 자연어 문장에서 키워드를 추출해서!!\n",
    "\n",
    "## “파이썬”,  “워드클라우드\" , “사용”\n",
    "\n",
    "그 다음, 위의 키워드가 등장한 빈도를 측정한다.  \n",
    "\n",
    "[”파이썬\", “워드클라우드\", ”사용”] ——> {”파이썬” : 1, “워드클라우드\" : 1}\n",
    "\n",
    "마지막으로!! \n",
    "\n",
    "worldcloud 라이브러리를 바탕으로 생성 !"
   ]
  },
  {
   "cell_type": "code",
   "execution_count": null,
   "id": "e76ab364",
   "metadata": {},
   "outputs": [],
   "source": []
  }
 ],
 "metadata": {
  "kernelspec": {
   "display_name": "Python 3 (ipykernel)",
   "language": "python",
   "name": "python3"
  },
  "language_info": {
   "codemirror_mode": {
    "name": "ipython",
    "version": 3
   },
   "file_extension": ".py",
   "mimetype": "text/x-python",
   "name": "python",
   "nbconvert_exporter": "python",
   "pygments_lexer": "ipython3",
   "version": "3.9.12"
  }
 },
 "nbformat": 4,
 "nbformat_minor": 5
}
