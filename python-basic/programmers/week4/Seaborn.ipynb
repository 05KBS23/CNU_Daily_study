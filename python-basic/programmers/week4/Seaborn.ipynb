{
 "cells": [
  {
   "cell_type": "markdown",
   "id": "e00660d5",
   "metadata": {},
   "source": [
    "# Ⅳ - 1 시각화 라이브러리, seaborn "
   ]
  },
  {
   "cell_type": "markdown",
   "id": "107d03b1",
   "metadata": {},
   "source": [
    "## 2. seaborn Essentials"
   ]
  },
  {
   "cell_type": "code",
   "execution_count": 3,
   "id": "5611cfe8",
   "metadata": {},
   "outputs": [],
   "source": [
    "import seaborn as sns "
   ]
  },
  {
   "cell_type": "code",
   "execution_count": 4,
   "id": "4791abcf",
   "metadata": {},
   "outputs": [
    {
     "data": {
      "text/plain": [
       "<AxesSubplot:>"
      ]
     },
     "execution_count": 4,
     "metadata": {},
     "output_type": "execute_result"
    },
    {
     "data": {
      "image/png": "[encoded data removed]",
      "text/plain": [
       "<Figure size 432x288 with 1 Axes>"
      ]
     },
     "metadata": {
      "needs_background": "light"
     },
     "output_type": "display_data"
    }
   ],
   "source": [
    "# x = [1,3,2,4]\n",
    "# y = [0.7, 0.2, 0.1, 0.05]\n",
    "\n",
    "sns.lineplot(x =[1,3,2,4], y = [0.7, 0.2, 0.1, 0.05] )"
   ]
  },
  {
   "cell_type": "markdown",
   "id": "0e80b4f3",
   "metadata": {},
   "source": [
    "## 3. 막대그래프\n",
    "- 범주형 데이터의 값과 그 값의 크기를 직사각형으로 나타낸 그림"
   ]
  },
  {
   "cell_type": "code",
   "execution_count": 6,
   "id": "c81804eb",
   "metadata": {},
   "outputs": [
    {
     "name": "stderr",
     "output_type": "stream",
     "text": [
      "/Users/KBS/opt/anaconda3/lib/python3.9/site-packages/seaborn/_decorators.py:36: FutureWarning: Pass the following variables as keyword args: x, y. From version 0.12, the only valid positional argument will be `data`, and passing other arguments without an explicit keyword will result in an error or misinterpretation.\n",
      "  warnings.warn(\n"
     ]
    },
    {
     "data": {
      "text/plain": [
       "<AxesSubplot:>"
      ]
     },
     "execution_count": 6,
     "metadata": {},
     "output_type": "execute_result"
    },
    {
     "data": {
      "image/png": "[encoded data removed]",
      "text/plain": [
       "<Figure size 432x288 with 1 Axes>"
      ]
     },
     "metadata": {
      "needs_background": "light"
     },
     "output_type": "display_data"
    }
   ],
   "source": [
    "x = [\"amy\",\"bob\",\"cat\",\"dog\"]\n",
    "y =[0.7, 0.2, 0.1, 0.05]\n",
    "\n",
    "sns.barplot(x,y)"
   ]
  },
  {
   "cell_type": "markdown",
   "id": "46c88262",
   "metadata": {},
   "source": [
    "## 4. plot의 속성\n",
    "\n",
    "- seaborn은 파이썬의 시각화 라이브러리 matplotlib을 기반으로 만들어졌기 때문에, \n",
    "- matplotlib.pyplot의 속성을 변경해서 그래프에 다양한 요소를 변경/추가할 수 있다.\n",
    "\n",
    "\n",
    "plt.tilte : 그래프의 제목을 추가한다.\n",
    "\n",
    "plt._label() : 그래프의 축에 설명을 추가한다.  \n",
    "\n",
    "plt.lim() : 그래프의 축의 범위를 지정한다.\n",
    "\n",
    "plt.figure(figuresize = (x,y)) : 그래프의 크기를 지정한다."
   ]
  },
  {
   "cell_type": "code",
   "execution_count": 7,
   "id": "c591968e",
   "metadata": {},
   "outputs": [],
   "source": [
    "import matplotlib.pyplot as plt"
   ]
  },
  {
   "cell_type": "code",
   "execution_count": 9,
   "id": "bf2a9c22",
   "metadata": {},
   "outputs": [
    {
     "name": "stderr",
     "output_type": "stream",
     "text": [
      "/Users/KBS/opt/anaconda3/lib/python3.9/site-packages/seaborn/_decorators.py:36: FutureWarning: Pass the following variables as keyword args: x, y. From version 0.12, the only valid positional argument will be `data`, and passing other arguments without an explicit keyword will result in an error or misinterpretation.\n",
      "  warnings.warn(\n"
     ]
    },
    {
     "data": {
      "text/plain": [
       "<function matplotlib.pyplot.show(close=None, block=None)>"
      ]
     },
     "execution_count": 9,
     "metadata": {},
     "output_type": "execute_result"
    },
    {
     "data": {
      "image/png": "[encoded data removed]",
      "text/plain": [
       "<Figure size 432x288 with 1 Axes>"
      ]
     },
     "metadata": {
      "needs_background": "light"
     },
     "output_type": "display_data"
    }
   ],
   "source": [
    "x = [\"amy\",\"bob\",\"cat\",\"dog\"]\n",
    "y =[0.7, 0.2, 0.1, 0.05]\n",
    "sns.barplot(x,y)\n",
    "plt.title(\"Bar Plot\")\n",
    "plt.show"
   ]
  },
  {
   "cell_type": "markdown",
   "id": "93ce4be1",
   "metadata": {},
   "source": [
    "### -plt._label() : 그래프의 축에 설명을 추가한다.  \n"
   ]
  },
  {
   "cell_type": "code",
   "execution_count": 11,
   "id": "4ae05fab",
   "metadata": {},
   "outputs": [
    {
     "name": "stderr",
     "output_type": "stream",
     "text": [
      "/Users/KBS/opt/anaconda3/lib/python3.9/site-packages/seaborn/_decorators.py:36: FutureWarning: Pass the following variables as keyword args: x, y. From version 0.12, the only valid positional argument will be `data`, and passing other arguments without an explicit keyword will result in an error or misinterpretation.\n",
      "  warnings.warn(\n"
     ]
    },
    {
     "data": {
      "text/plain": [
       "<function matplotlib.pyplot.show(close=None, block=None)>"
      ]
     },
     "execution_count": 11,
     "metadata": {},
     "output_type": "execute_result"
    },
    {
     "data": {
      "image/png": "[encoded data removed]",
      "text/plain": [
       "<Figure size 432x288 with 1 Axes>"
      ]
     },
     "metadata": {
      "needs_background": "light"
     },
     "output_type": "display_data"
    }
   ],
   "source": [
    "x = [\"amy\",\"bob\",\"cat\",\"dog\"]\n",
    "y =[0.7, 0.2, 0.1, 0.05]\n",
    "sns.barplot(x,y)\n",
    "plt.xlabel(\"Xxxxxx\")\n",
    "plt.ylabel(\"Yyyyyy\")\n",
    "plt.show"
   ]
  },
  {
   "cell_type": "markdown",
   "id": "0c217270",
   "metadata": {},
   "source": [
    "### -plt.lim() : 그래프의 축의 범위를 지정한다.\n"
   ]
  },
  {
   "cell_type": "code",
   "execution_count": 20,
   "id": "391b9ddf",
   "metadata": {},
   "outputs": [
    {
     "name": "stderr",
     "output_type": "stream",
     "text": [
      "/Users/KBS/opt/anaconda3/lib/python3.9/site-packages/seaborn/_decorators.py:36: FutureWarning: Pass the following variables as keyword args: x, y. From version 0.12, the only valid positional argument will be `data`, and passing other arguments without an explicit keyword will result in an error or misinterpretation.\n",
      "  warnings.warn(\n"
     ]
    },
    {
     "data": {
      "image/png": "[encoded data removed]",
      "text/plain": [
       "<Figure size 432x288 with 1 Axes>"
      ]
     },
     "metadata": {
      "needs_background": "light"
     },
     "output_type": "display_data"
    }
   ],
   "source": [
    "x = [1,3,2,4]\n",
    "y = [4,3,2,1]\n",
    "\n",
    "sns.lineplot(x,y)\n",
    "\n",
    "plt.ylim(2,4)\n",
    "\n",
    "plt.show()"
   ]
  },
  {
   "cell_type": "markdown",
   "id": "9c7c460e",
   "metadata": {},
   "source": [
    "\n",
    "### -plt.figure(figuresize = (x,y)) : 그래프의 크기를 지정한다."
   ]
  },
  {
   "cell_type": "code",
   "execution_count": null,
   "id": "df823f7a",
   "metadata": {},
   "outputs": [],
   "source": [
    "plt.figure(figsize = (20, 10)) ##figureFMF\n",
    "F\n",
    "x = [1,3,2,4]\n",
    "y = [4,3,2,1]\n",
    "\n",
    "sns.lineplot(x,y)\n",
    "\n",
    "plt.show()"
   ]
  },
  {
   "cell_type": "code",
   "execution_count": null,
   "id": "860eae1c",
   "metadata": {},
   "outputs": [],
   "source": []
  }
 ],
 "metadata": {
  "kernelspec": {
   "display_name": "Python 3 (ipykernel)",
   "language": "python",
   "name": "python3"
  },
  "language_info": {
   "codemirror_mode": {
    "name": "ipython",
    "version": 3
   },
   "file_extension": ".py",
   "mimetype": "text/x-python",
   "name": "python",
   "nbconvert_exporter": "python",
   "pygments_lexer": "ipython3",
   "version": "3.9.12"
  }
 },
 "nbformat": 4,
 "nbformat_minor": 5
}
