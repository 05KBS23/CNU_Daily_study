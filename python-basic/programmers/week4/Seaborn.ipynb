{
 "cells": [
  {
   "cell_type": "markdown",
   "id": "8db300aa",
   "metadata": {},
   "source": [
    "# Ⅳ - 1 시각화 라이브러리, seaborn "
   ]
  },
  {
   "cell_type": "markdown",
   "id": "175dda24",
   "metadata": {},
   "source": [
    "## 2. seaborn Essentials"
   ]
  },
  {
   "cell_type": "code",
   "execution_count": 3,
   "id": "e1c6fe29",
   "metadata": {},
   "outputs": [],
   "source": [
    "import seaborn as sns "
   ]
  },
  {
   "cell_type": "code",
   "execution_count": 4,
   "id": "9ab61f3d",
   "metadata": {},
   "outputs": [
    {
     "data": {
      "text/plain": [
       "<AxesSubplot:>"
      ]
     },
     "execution_count": 4,
     "metadata": {},
     "output_type": "execute_result"
    },
    {
     "data": {
      "image/png": "[encoded data removed]",
      "text/plain": [
       "<Figure size 432x288 with 1 Axes>"
      ]
     },
     "metadata": {
      "needs_background": "light"
     },
     "output_type": "display_data"
    }
   ],
   "source": [
    "x = [1,3,2,4]\n",
    "y = [0.7, 0.2, 0.1, 0.05]\n",
    "sns.lineplot(x =[1,3,2,4], y = [0.7, 0.2, 0.1, 0.05] )"
   ]
  },
  {
   "cell_type": "markdown",
   "id": "ef8357a2",
   "metadata": {},
   "source": [
    "## 3. 막대그래프\n",
    "- 범주형 데이터의 값과 그 값의 크기를 직사각형으로 나타낸 그림"
   ]
  },
  {
   "cell_type": "code",
   "execution_count": 6,
   "id": "8842e67e",
   "metadata": {},
   "outputs": [
    {
     "name": "stderr",
     "output_type": "stream",
     "text": [
      "/Users/KBS/opt/anaconda3/lib/python3.9/site-packages/seaborn/_decorators.py:36: FutureWarning: Pass the following variables as keyword args: x, y. From version 0.12, the only valid positional argument will be `data`, and passing other arguments without an explicit keyword will result in an error or misinterpretation.\n",
      "  warnings.warn(\n"
     ]
    },
    {
     "data": {
      "text/plain": [
       "<AxesSubplot:>"
      ]
     },
     "execution_count": 6,
     "metadata": {},
     "output_type": "execute_result"
    },
    {
     "data": {
      "image/png": "[encoded data removed]",
      "text/plain": [
       "<Figure size 432x288 with 1 Axes>"
      ]
     },
     "metadata": {
      "needs_background": "light"
     },
     "output_type": "display_data"
    }
   ],
   "source": [
    "x = [\"amy\",\"bob\",\"cat\",\"dog\"]\n",
    "y =[0.7, 0.2, 0.1, 0.05]\n",
    "sns.barplot(x,y)"
   ]
  },
  {
   "cell_type": "markdown",
   "id": "7d8782c1",
   "metadata": {},
   "source": [
    "## 4. plot의 속성\n",
    "\n",
    "- seaborn은 파이썬의 시각화 라이브러리 matplotlib을 기반으로 만들어졌기 때문에, \n",
    "- matplotlib.pyplot의 속성을 변경해서 그래프에 다양한 요소를 변경/추가할 수 있다.\n",
    "\n",
    "\n",
    "plt.tilte : 그래프의 제목을 추가한다.\n",
    "\n",
    "plt._label() : 그래프의 축에 설명을 추가한다.  \n",
    "\n",
    "plt.lim() : 그래프의 축의 범위를 지정한다.\n",
    "\n",
    "plt.figure(figuresize = (x,y)) : 그래프의 크기를 지정한다."
   ]
  },
  {
   "cell_type": "code",
   "execution_count": 7,
   "id": "583a188b",
   "metadata": {},
   "outputs": [],
   "source": [
    "import matplotlib.pyplot as plt"
   ]
  },
  {
   "cell_type": "code",
   "execution_count": 9,
   "id": "2a274436",
   "metadata": {},
   "outputs": [
    {
     "name": "stderr",
     "output_type": "stream",
     "text": [
      "/Users/KBS/opt/anaconda3/lib/python3.9/site-packages/seaborn/_decorators.py:36: FutureWarning: Pass the following variables as keyword args: x, y. From version 0.12, the only valid positional argument will be `data`, and passing other arguments without an explicit keyword will result in an error or misinterpretation.\n",
      "  warnings.warn(\n"
     ]
    },
    {
     "data": {
      "text/plain": [
       "<function matplotlib.pyplot.show(close=None, block=None)>"
      ]
     },
     "execution_count": 9,
     "metadata": {},
     "output_type": "execute_result"
    },
    {
     "data": {
      "image/png": "[encoded data removed]",
      "text/plain": [
       "<Figure size 432x288 with 1 Axes>"
      ]
     },
     "metadata": {
      "needs_background": "light"
     },
     "output_type": "display_data"
    }
   ],
   "source": [
    "x = [\"amy\",\"bob\",\"cat\",\"dog\"]\n",
    "y =[0.7, 0.2, 0.1, 0.05]\n",
    "sns.barplot(x,y)\n",
    "plt.title(\"Bar Plot\")\n",
    "plt.show"
   ]
  },
  {
   "cell_type": "markdown",
   "id": "5dc829e5",
   "metadata": {},
   "source": [
    "### -plt._label() : 그래프의 축에 설명을 추가한다.  \n"
   ]
  },
  {
   "cell_type": "code",
   "execution_count": 11,
   "id": "f7850ecf",
   "metadata": {},
   "outputs": [
    {
     "name": "stderr",
     "output_type": "stream",
     "text": [
      "/Users/KBS/opt/anaconda3/lib/python3.9/site-packages/seaborn/_decorators.py:36: FutureWarning: Pass the following variables as keyword args: x, y. From version 0.12, the only valid positional argument will be `data`, and passing other arguments without an explicit keyword will result in an error or misinterpretation.\n",
      "  warnings.warn(\n"
     ]
    },
    {
     "data": {
      "text/plain": [
       "<function matplotlib.pyplot.show(close=None, block=None)>"
      ]
     },
     "execution_count": 11,
     "metadata": {},
     "output_type": "execute_result"
    },
    {
     "data": {
      "image/png": "[encoded data removed]",
      "text/plain": [
       "<Figure size 432x288 with 1 Axes>"
      ]
     },
     "metadata": {
      "needs_background": "light"
     },
     "output_type": "display_data"
    }
   ],
   "source": [
    "x = [\"amy\",\"bob\",\"cat\",\"dog\"]\n",
    "y =[0.7, 0.2, 0.1, 0.05]\n",
    "sns.barplot(x,y)\n",
    "plt.xlabel(\"Xxxxxx\")\n",
    "plt.ylabel(\"Yyyyyy\")\n",
    "plt.show"
   ]
  },
  {
   "cell_type": "markdown",
   "id": "a9645210",
   "metadata": {},
   "source": [
    "### -plt.lim() : 그래프의 축의 범위를 지정한다.\n"
   ]
  },
  {
   "cell_type": "code",
   "execution_count": 20,
   "id": "98fd1460",
   "metadata": {},
   "outputs": [
    {
     "name": "stderr",
     "output_type": "stream",
     "text": [
      "/Users/KBS/opt/anaconda3/lib/python3.9/site-packages/seaborn/_decorators.py:36: FutureWarning: Pass the following variables as keyword args: x, y. From version 0.12, the only valid positional argument will be `data`, and passing other arguments without an explicit keyword will result in an error or misinterpretation.\n",
      "  warnings.warn(\n"
     ]
    },
    {
     "data": {
      "image/png": "[encoded data removed]",
      "text/plain": [
       "<Figure size 432x288 with 1 Axes>"
      ]
     },
     "metadata": {
      "needs_background": "light"
     },
     "output_type": "display_data"
    }
   ],
   "source": [
    "x = [1,3,2,4]\n",
    "y = [4,3,2,1]\n",
    "\n",
    "sns.lineplot(x,y)\n",
    "\n",
    "plt.ylim(2,4)\n",
    "\n",
    "plt.show()"
   ]
  },
  {
   "cell_type": "markdown",
   "id": "6fc86769",
   "metadata": {},
   "source": [
    "\n",
    "### -plt.figure(figuresize = (x,y)) : 그래프의 크기를 지정한다."
   ]
  },
  {
   "cell_type": "code",
   "execution_count": 22,
   "id": "1b38d222",
   "metadata": {},
   "outputs": [
    {
     "name": "stderr",
     "output_type": "stream",
     "text": [
      "/Users/KBS/opt/anaconda3/lib/python3.9/site-packages/seaborn/_decorators.py:36: FutureWarning: Pass the following variables as keyword args: x, y. From version 0.12, the only valid positional argument will be `data`, and passing other arguments without an explicit keyword will result in an error or misinterpretation.\n",
      "  warnings.warn(\n"
     ]
    },
    {
     "data": {
      "image/png": "[encoded data removed]",
      "text/plain": [
       "<Figure size 1440x720 with 1 Axes>"
      ]
     },
     "metadata": {
      "needs_background": "light"
     },
     "output_type": "display_data"
    }
   ],
   "source": [
    "plt.figure(figsize = (10, 5)) ##figure를 먼저지정\n",
    "x = [1,3,2,4]\n",
    "y = [4,3,2,1]\n",
    "\n",
    "sns.lineplot(x,y)\n",
    "\n",
    "plt.show()"
   ]
  },
  {
   "cell_type": "markdown",
   "id": "43846f30",
   "metadata": {},
   "source": [
    "# Ⅳ - 2 스크래핑 결과 시각화하기 1 - 기상청 날씨 정보 조회"
   ]
  },
  {
   "cell_type": "markdown",
   "id": "cc3c47fe",
   "metadata": {},
   "source": [
    "### ① 실습 목표 : 기상청 날씨 스크래핑하기"
   ]
  },
  {
   "cell_type": "code",
   "execution_count": 77,
   "id": "41d7bef1",
   "metadata": {},
   "outputs": [
    {
     "name": "stdout",
     "output_type": "stream",
     "text": [
      "Requirement already satisfied: selenium in /Users/KBS/opt/anaconda3/lib/python3.9/site-packages (4.3.0)\n",
      "Requirement already satisfied: urllib3[secure,socks]~=1.26 in /Users/KBS/opt/anaconda3/lib/python3.9/site-packages (from selenium) (1.26.9)\n",
      "Requirement already satisfied: trio~=0.17 in /Users/KBS/opt/anaconda3/lib/python3.9/site-packages (from selenium) (0.21.0)\n",
      "Requirement already satisfied: trio-websocket~=0.9 in /Users/KBS/opt/anaconda3/lib/python3.9/site-packages (from selenium) (0.9.2)\n",
      "Requirement already satisfied: async-generator>=1.9 in /Users/KBS/opt/anaconda3/lib/python3.9/site-packages (from trio~=0.17->selenium) (1.10)\n",
      "Requirement already satisfied: outcome in /Users/KBS/opt/anaconda3/lib/python3.9/site-packages (from trio~=0.17->selenium) (1.2.0)\n",
      "Requirement already satisfied: sniffio in /Users/KBS/opt/anaconda3/lib/python3.9/site-packages (from trio~=0.17->selenium) (1.2.0)\n",
      "Requirement already satisfied: idna in /Users/KBS/opt/anaconda3/lib/python3.9/site-packages (from trio~=0.17->selenium) (3.3)\n",
      "Requirement already satisfied: attrs>=19.2.0 in /Users/KBS/opt/anaconda3/lib/python3.9/site-packages (from trio~=0.17->selenium) (21.4.0)\n",
      "Requirement already satisfied: sortedcontainers in /Users/KBS/opt/anaconda3/lib/python3.9/site-packages (from trio~=0.17->selenium) (2.4.0)\n",
      "Requirement already satisfied: wsproto>=0.14 in /Users/KBS/opt/anaconda3/lib/python3.9/site-packages (from trio-websocket~=0.9->selenium) (1.1.0)\n",
      "Requirement already satisfied: PySocks!=1.5.7,<2.0,>=1.5.6 in /Users/KBS/opt/anaconda3/lib/python3.9/site-packages (from urllib3[secure,socks]~=1.26->selenium) (1.7.1)\n",
      "Requirement already satisfied: certifi in /Users/KBS/opt/anaconda3/lib/python3.9/site-packages (from urllib3[secure,socks]~=1.26->selenium) (2021.10.8)\n",
      "Requirement already satisfied: pyOpenSSL>=0.14 in /Users/KBS/opt/anaconda3/lib/python3.9/site-packages (from urllib3[secure,socks]~=1.26->selenium) (21.0.0)\n",
      "Requirement already satisfied: cryptography>=1.3.4 in /Users/KBS/opt/anaconda3/lib/python3.9/site-packages (from urllib3[secure,socks]~=1.26->selenium) (3.4.8)\n",
      "Requirement already satisfied: cffi>=1.12 in /Users/KBS/opt/anaconda3/lib/python3.9/site-packages (from cryptography>=1.3.4->urllib3[secure,socks]~=1.26->selenium) (1.15.0)\n",
      "Requirement already satisfied: pycparser in /Users/KBS/opt/anaconda3/lib/python3.9/site-packages (from cffi>=1.12->cryptography>=1.3.4->urllib3[secure,socks]~=1.26->selenium) (2.21)\n",
      "Requirement already satisfied: six>=1.5.2 in /Users/KBS/opt/anaconda3/lib/python3.9/site-packages (from pyOpenSSL>=0.14->urllib3[secure,socks]~=1.26->selenium) (1.16.0)\n",
      "Requirement already satisfied: h11<1,>=0.9.0 in /Users/KBS/opt/anaconda3/lib/python3.9/site-packages (from wsproto>=0.14->trio-websocket~=0.9->selenium) (0.13.0)\n",
      "Note: you may need to restart the kernel to use updated packages.\n"
     ]
    }
   ],
   "source": [
    "%pip install selenium\n",
    "from selenium import webdriver\n",
    "from webdriver_manager.chrome import ChromeDriverManager\n",
    "from selenium.webdriver.chrome.service import Service\n",
    "from selenium.webdriver.common.by import By"
   ]
  },
  {
   "cell_type": "code",
   "execution_count": 78,
   "id": "85b7c17d",
   "metadata": {},
   "outputs": [
    {
     "name": "stdout",
     "output_type": "stream",
     "text": [
      "\n",
      "[35, 34, 33, 32, 31, 31, 30, 30, 29, 29, 28, 28, 27, 27, 27, 28, 29, 31]\n"
     ]
    }
   ],
   "source": [
    "driver = webdriver.Chrome(service=Service(ChromeDriverManager().install()))\n",
    "driver.get(\"https://www.weather.go.kr/w/index.do\")\n",
    "driver.implicitly_wait(1)\n",
    "temp = driver.find_element(By.ID, \"my-tchart\").text\n",
    "# print(temp.split(\"\\n\")) # 역슬래쉬 기준으로 쪼개어 리스트 형태로 만듦\n",
    "# print(temp.replace(\"℃\",\"\").split(\"\\n\")) : replace는 ℃, \"\"(빈칸)으로 바꿈\n",
    "temp = [int(i) for i in temp.replace(\"℃\",\"\").split(\"\\n\")] # 자료형이 달라서 바꿔줘야함, 인자에 대해서 인티저타입으로 바궈줌, 리스트컴프리헨션\n",
    "print(temp)\n"
   ]
  },
  {
   "cell_type": "code",
   "execution_count": 41,
   "id": "521a298f",
   "metadata": {},
   "outputs": [
    {
     "data": {
      "image/png": "[encoded data removed]",
      "text/plain": [
       "<Figure size 432x288 with 1 Axes>"
      ]
     },
     "metadata": {
      "needs_background": "light"
     },
     "output_type": "display_data"
    }
   ],
   "source": [
    "import seaborn as sns\n",
    "import matplotlib.pyplot as plt\n",
    "\n",
    "plt.ylim(min(temp)-2, max(temp)+2)\n",
    "plt.title(\"Expected Temperature from now on\")\n",
    "\n",
    "sns.lineplot(\n",
    "    x = [i for i in range(len(temp))],\n",
    "    y = temp\n",
    ")\n",
    "\n",
    "plt.show()\n",
    "\n",
    "#ylim길게"
   ]
  },
  {
   "cell_type": "markdown",
   "id": "06fd1dfa",
   "metadata": {},
   "source": [
    "# Ⅳ - 2 스크래핑 결과 시각화하기"
   ]
  },
  {
   "cell_type": "markdown",
   "id": "f2ce8bf9",
   "metadata": {},
   "source": [
    "### ① 실습 목표 : 해쉬코드 질문 태그의 빈도 확인\n",
    "\n",
    "해쉬코드 사이트에는 다양한 질문이 올라 온다, 질문 제목 아래에 \"태그\"가 있다. 이 태그의 빈도를 측정하면 어떤 주제의 질문이 많이 올라오는지 알 수 있다."
   ]
  },
  {
   "cell_type": "code",
   "execution_count": 44,
   "id": "b2ca28de",
   "metadata": {},
   "outputs": [],
   "source": [
    "# user_agent필요\n",
    "user_agent = {\"user-Agent\": \"Mozilla/5.0 (Macintosh; Intel Mac OS X 10_15_7) AppleWebKit/537.36 (KHTML, like Gecko) Chrome/103.0.0.0 Safari/537.36\"}"
   ]
  },
  {
   "cell_type": "code",
   "execution_count": 53,
   "id": "223335aa",
   "metadata": {},
   "outputs": [
    {
     "name": "stdout",
     "output_type": "stream",
     "text": [
      "Requirement already satisfied: Beautifulsoup4 in /Users/KBS/opt/anaconda3/lib/python3.9/site-packages (4.11.1)\n",
      "Requirement already satisfied: soupsieve>1.2 in /Users/KBS/opt/anaconda3/lib/python3.9/site-packages (from Beautifulsoup4) (2.3.1)\n",
      "Note: you may need to restart the kernel to use updated packages.\n",
      "Requirement already satisfied: requests in /Users/KBS/opt/anaconda3/lib/python3.9/site-packages (2.27.1)\n",
      "Requirement already satisfied: certifi>=2017.4.17 in /Users/KBS/opt/anaconda3/lib/python3.9/site-packages (from requests) (2021.10.8)\n",
      "Requirement already satisfied: idna<4,>=2.5 in /Users/KBS/opt/anaconda3/lib/python3.9/site-packages (from requests) (3.3)\n",
      "Requirement already satisfied: urllib3<1.27,>=1.21.1 in /Users/KBS/opt/anaconda3/lib/python3.9/site-packages (from requests) (1.26.9)\n",
      "Requirement already satisfied: charset-normalizer~=2.0.0 in /Users/KBS/opt/anaconda3/lib/python3.9/site-packages (from requests) (2.0.4)\n",
      "Note: you may need to restart the kernel to use updated packages.\n"
     ]
    }
   ],
   "source": [
    "%pip install Beautifulsoup4\n",
    "%pip install requests"
   ]
  },
  {
   "cell_type": "code",
   "execution_count": 61,
   "id": "7b1009ea",
   "metadata": {},
   "outputs": [
    {
     "name": "stdout",
     "output_type": "stream",
     "text": [
      "{'java': 35, 'python': 244, 'crawling': 4, 'selenium': 12, 'algorithm': 3, 'list': 14, 'class': 5, 'private': 1, 'openpyxl': 3, 'html': 5, 'css': 5, 'c#': 4, 'web-crawling': 3, 'javascript': 11, 'python3': 3, 'selenium-webdrive': 2, 'random': 2, 'tuple': 2, 'pyinstaller': 2, 'mysql': 2, 'dataframe': 8, 'pandas': 13, 'function': 5, 'canvas': 1, 'fabric': 1, 'iterator': 1, 'c': 42, 'c++': 26, 'array': 9, 'advertisement': 1, 'node.js': 4, 'regression-analysis': 1, 'logistic-regression': 1, 'statsmodels': 1, 'oop': 1, 'program': 2, 'eclipse': 2, 'runtime-error': 1, 'dump': 1, 'flutter': 2, 'react': 2, 'webview': 1, 'error': 8, 'dev-c++': 1, 'dictionary': 5, 'qt': 2, 'qt-designer': 2, 'typescript': 2, 'environment-variables': 1, 'for': 10, 'preprocessor': 1, 'ai': 3, 'and': 1, 'tkinter': 4, 'socket': 2, 'loops': 5, 'header': 1, 'python3.6.1': 1, 'len': 1, 'linux': 6, 'python-2.7': 2, 'application': 1, 'idle': 1, 'pointer': 2, 'while-loop': 6, 'android-studio': 7, 'server': 2, 'connect': 1, 'tcp': 1, 'csv': 3, 'recursive': 3, 'write': 1, 'developer': 1, 'recyclerview': 2, 'stack': 1, 'tree': 1, 'r': 2, 'abstract-class': 1, 'arduino': 3, 'eoferror': 1, 'file': 2, 'txt': 2, 'macos': 1, 'pyside2': 2, 'firebase': 1, 'datetime': 3, 'date': 1, 'sorting': 1, 'jupyter-notebook': 3, 'konlpy': 1, 'text-mining': 1, 'matrix': 2, 'lambda': 1, 'machine-learning': 2, 'project': 1, 'syntax-error': 1, 'button': 1, 'event': 1, 'matlab': 1, 'time': 1, 'django': 4, 'api': 2, 'google-chrome': 1, 'numpy': 6, 'windows': 1, 'korean': 2, 'timedelta': 1, 'postfix': 1, 'swap': 1, 'opengl': 2, 'matplotlib': 3, 'split': 2, 'android': 10, 'method': 2, 'config': 1, 'parser': 1, 'xml': 1, 'pyqt5': 3, 'mobile': 1, 'index': 1, 'tensorflow': 1, 'format': 1, 'github': 3, 'image': 4, 'upload': 1, 'script': 1, 'recursion': 2, 'mfc': 3, 'jsp': 2, 'servlet': 1, 'web': 1, 'unity': 1, 'coding-test': 1, 'pygame': 1, 'regex': 4, 'figcaption': 1, 'def': 2, 'global-variable': 1, 'bash': 3, 'reference': 1, 'virtual-functions': 1, 'data': 1, 'formatt': 1, 'emulator': 1, 'kotlin': 4, 'android-asynctask': 1, 'opencv': 2, 'casting': 1, 'anaconda': 3, 'json': 2, 'map': 1, 'input': 2, 'jupyter': 2, 'sklearn': 1, 'unicode': 1, 'cpu': 1, '2d-array': 1, 'pyqt': 1, 'visual-studio': 1, 'winapi': 2, 'module': 1, 'primes': 2, 'binary-search': 1, 'rgb': 1, 'permissions': 2, 'coding': 7, 'sqlite3': 2, 'segmentation-fault': 2, 'shell': 3, 'if문': 3, 'programming': 2, 'terminal': 1, 'grep': 2, 'dynamic-allocation': 1, 'replace': 1, 'conditional-statement': 2, 'cv2': 1, 'gui': 2, 'visual': 1, 'object': 1, 'if-else': 1, 'ubuntu': 3, 'binary': 1, 'math': 1, 'stt': 1, 'bluetooth': 1, 'label': 1, 'excel': 1, 'geolocation': 1, 'char': 2, 'scraping': 1, 'turtle': 2, 'flex': 1, 'operator-overloading': 1, 'querying': 1, 'orm': 1, 'sqlite': 1, 'data-structure': 1, 'binary-tree': 1, 'thread': 1, 'vscode': 1, 'raspberry-pi': 1, 'pop': 1, 'push': 2, 'inheritance': 1, 'constructor': 2, 'boolean': 1, 'calculate': 1, '3d': 1, 'php': 4, 'putty': 1, 'file-io': 1, 'pycharm': 1, '용량': 1, 'oracle': 1, 'install': 1, 'code': 1, 'deep-learning': 1, 'scrollbar': 1, 'duplicate': 1, 'string': 1, 'print': 1, 'emoji': 1, 'regexp': 1, 'list-comprehension': 1}\n"
     ]
    }
   ],
   "source": [
    "import requests\n",
    "import time\n",
    "from bs4 import BeautifulSoup\n",
    "\n",
    "freq = {} #각 개수를 세기 위해 딕셔너리 만듦 뜻이다.\n",
    "\n",
    "for i in range(1,11):\n",
    "    res = requests.get(\"https://hashcode.co.kr/?page={}\".format(i),user_agent)\n",
    "    soup = BeautifulSoup(res.text, \"html.parser\")\n",
    "\n",
    "    # 1번 : ul태그 먼저찾기\n",
    "    # 2번 : 1번 안에 있는 li태그의 text를 추출\n",
    "\n",
    "    ul_tags = soup.find_all(\"ul\",\"question-tags\") #ul태그의 question-tags만 담기\n",
    "    for ul in ul_tags:\n",
    "        li_tags = ul.find_all(\"li\")\n",
    "        for li in li_tags:\n",
    "            tag = li.text.strip()\n",
    "            if tag not in freq:\n",
    "                freq[tag] = 1\n",
    "            else:\n",
    "                freq[tag] += 1\n",
    "    time.sleep(0.5)\n",
    "\n",
    "print(freq)"
   ]
  },
  {
   "cell_type": "code",
   "execution_count": 64,
   "id": "b5f27c3d",
   "metadata": {},
   "outputs": [
    {
     "data": {
      "text/plain": [
       "[('python', 244),\n",
       " ('c', 42),\n",
       " ('java', 35),\n",
       " ('c++', 26),\n",
       " ('list', 14),\n",
       " ('pandas', 13),\n",
       " ('selenium', 12),\n",
       " ('javascript', 11),\n",
       " ('for', 10),\n",
       " ('android', 10)]"
      ]
     },
     "execution_count": 64,
     "metadata": {},
     "output_type": "execute_result"
    }
   ],
   "source": [
    "# counter를 사용해 가장 빈도가 높은 value들을 추출하자.\n",
    "from collections import Counter\n",
    "\n",
    "counter = Counter(freq)\n",
    "\n",
    "counter.most_common(10)"
   ]
  },
  {
   "cell_type": "code",
   "execution_count": 65,
   "id": "45778375",
   "metadata": {},
   "outputs": [],
   "source": [
    "#Seaborn을 이용해 이를 barplot으로 그리자\n",
    "#그러나, 인덱스 0과 1의 리스트를 따로 만들어야한다.= 리스트컴프리헨션 활용하기\n",
    "\n",
    "x = [elem[0] for elem in counter.most_common(10)]  ##elem[0] 리스트 요소의 0번째 추출\n",
    "y = [elem[1] for elem in counter.most_common(10)]"
   ]
  },
  {
   "cell_type": "code",
   "execution_count": 73,
   "id": "371f2e58",
   "metadata": {},
   "outputs": [
    {
     "data": {
      "text/plain": [
       "<AxesSubplot:title={'center':'Frequncy of question'}, xlabel='Tag', ylabel='Frequency'>"
      ]
     },
     "execution_count": 73,
     "metadata": {},
     "output_type": "execute_result"
    },
    {
     "data": {
      "image/png": "[encoded data removed]",
      "text/plain": [
       "<Figure size 720x360 with 1 Axes>"
      ]
     },
     "metadata": {
      "needs_background": "light"
     },
     "output_type": "display_data"
    }
   ],
   "source": [
    "import seaborn as sns\n",
    "import matplotlib.pyplot as plt\n",
    "plt.figure(figsize=(10,5))\n",
    "plt.title(\"Frequncy of question\")\n",
    "plt.xlabel(\"Tag\")\n",
    "plt.ylabel(\"Frequency\")\n",
    "\n",
    "sns.barplot(x=x, y=y)"
   ]
  },
  {
   "cell_type": "code",
   "execution_count": null,
   "id": "7c2bde63",
   "metadata": {},
   "outputs": [],
   "source": [
    "#부하를 주지 않는..."
   ]
  }
 ],
 "metadata": {
  "kernelspec": {
   "display_name": "Python 3 (ipykernel)",
   "language": "python",
   "name": "python3"
  },
  "language_info": {
   "codemirror_mode": {
    "name": "ipython",
    "version": 3
   },
   "file_extension": ".py",
   "mimetype": "text/x-python",
   "name": "python",
   "nbconvert_exporter": "python",
   "pygments_lexer": "ipython3",
   "version": "3.9.12"
  }
 },
 "nbformat": 4,
 "nbformat_minor": 5
}
