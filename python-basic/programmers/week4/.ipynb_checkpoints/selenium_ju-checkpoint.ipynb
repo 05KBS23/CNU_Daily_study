{
 "cells": [
  {
   "cell_type": "markdown",
   "id": "1593c9bd",
   "metadata": {},
   "source": [
    "# Ⅲ - 2 브라우저 자동화하기, Selenium"
   ]
  },
  {
   "cell_type": "markdown",
   "id": "1132b78d",
   "metadata": {},
   "source": [
    "# ① Selenium 설치 & 사용하기\n",
    "\n",
    "- selenium은 python을 이용해서 웹 브라우저를 조작할 수 있는 자동화 프레임워크이다.\n",
    "- 자동화란? : 보통 키보드와 마우스를 조작해서 작업을 진행하는데 그것을 파이썬으로 조작하는것.\n",
    "- 이를 사용하기 위해서는 먼저 selenium프레임워크를 설치해야한다\n",
    "- pip install을 통해서 이를 간단하게 설치할 수 있다.\n",
    "- WebDriver는 웹브라우저를 제어할 수 있는 자동화 프레임워크이다. 이 실습에서는 chrome을 기준으로 한다.\n",
    "- pip install을 통해 webdriver를 관리하는 라이브러리인 webdriver-manager를 설치한다.\n"
   ]
  },
  {
   "cell_type": "code",
   "execution_count": 2,
   "id": "4cae60ed",
   "metadata": {},
   "outputs": [
    {
     "name": "stdout",
     "output_type": "stream",
     "text": [
      "Collecting selenium\n",
      "  Using cached selenium-4.3.0-py3-none-any.whl (981 kB)\n",
      "Collecting trio-websocket~=0.9\n",
      "  Using cached trio_websocket-0.9.2-py3-none-any.whl (16 kB)\n",
      "Requirement already satisfied: urllib3[secure,socks]~=1.26 in /Users/KBS/opt/anaconda3/lib/python3.9/site-packages (from selenium) (1.26.9)\n",
      "Collecting trio~=0.17\n",
      "  Using cached trio-0.21.0-py3-none-any.whl (358 kB)\n",
      "Requirement already satisfied: attrs>=19.2.0 in /Users/KBS/opt/anaconda3/lib/python3.9/site-packages (from trio~=0.17->selenium) (21.4.0)\n",
      "Requirement already satisfied: sniffio in /Users/KBS/opt/anaconda3/lib/python3.9/site-packages (from trio~=0.17->selenium) (1.2.0)\n",
      "Requirement already satisfied: idna in /Users/KBS/opt/anaconda3/lib/python3.9/site-packages (from trio~=0.17->selenium) (3.3)\n",
      "Requirement already satisfied: sortedcontainers in /Users/KBS/opt/anaconda3/lib/python3.9/site-packages (from trio~=0.17->selenium) (2.4.0)\n",
      "Collecting outcome\n",
      "  Using cached outcome-1.2.0-py2.py3-none-any.whl (9.7 kB)\n",
      "Collecting async-generator>=1.9\n",
      "  Using cached async_generator-1.10-py3-none-any.whl (18 kB)\n",
      "Collecting wsproto>=0.14\n",
      "  Using cached wsproto-1.1.0-py3-none-any.whl (24 kB)\n",
      "Requirement already satisfied: PySocks!=1.5.7,<2.0,>=1.5.6 in /Users/KBS/opt/anaconda3/lib/python3.9/site-packages (from urllib3[secure,socks]~=1.26->selenium) (1.7.1)\n",
      "Requirement already satisfied: pyOpenSSL>=0.14 in /Users/KBS/opt/anaconda3/lib/python3.9/site-packages (from urllib3[secure,socks]~=1.26->selenium) (21.0.0)\n",
      "Requirement already satisfied: cryptography>=1.3.4 in /Users/KBS/opt/anaconda3/lib/python3.9/site-packages (from urllib3[secure,socks]~=1.26->selenium) (3.4.8)\n",
      "Requirement already satisfied: certifi in /Users/KBS/opt/anaconda3/lib/python3.9/site-packages (from urllib3[secure,socks]~=1.26->selenium) (2021.10.8)\n",
      "Requirement already satisfied: cffi>=1.12 in /Users/KBS/opt/anaconda3/lib/python3.9/site-packages (from cryptography>=1.3.4->urllib3[secure,socks]~=1.26->selenium) (1.15.0)\n",
      "Requirement already satisfied: pycparser in /Users/KBS/opt/anaconda3/lib/python3.9/site-packages (from cffi>=1.12->cryptography>=1.3.4->urllib3[secure,socks]~=1.26->selenium) (2.21)\n",
      "Requirement already satisfied: six>=1.5.2 in /Users/KBS/opt/anaconda3/lib/python3.9/site-packages (from pyOpenSSL>=0.14->urllib3[secure,socks]~=1.26->selenium) (1.16.0)\n",
      "Collecting h11<1,>=0.9.0\n",
      "  Using cached h11-0.13.0-py3-none-any.whl (58 kB)\n",
      "Installing collected packages: outcome, h11, async-generator, wsproto, trio, trio-websocket, selenium\n",
      "Successfully installed async-generator-1.10 h11-0.13.0 outcome-1.2.0 selenium-4.3.0 trio-0.21.0 trio-websocket-0.9.2 wsproto-1.1.0\n",
      "Note: you may need to restart the kernel to use updated packages.\n",
      "Collecting webdriver-manager\n",
      "  Using cached webdriver_manager-3.8.2-py2.py3-none-any.whl (26 kB)\n",
      "Collecting python-dotenv\n",
      "  Using cached python_dotenv-0.20.0-py3-none-any.whl (17 kB)\n",
      "Requirement already satisfied: requests in /Users/KBS/opt/anaconda3/lib/python3.9/site-packages (from webdriver-manager) (2.27.1)\n",
      "Requirement already satisfied: charset-normalizer~=2.0.0 in /Users/KBS/opt/anaconda3/lib/python3.9/site-packages (from requests->webdriver-manager) (2.0.4)\n",
      "Requirement already satisfied: certifi>=2017.4.17 in /Users/KBS/opt/anaconda3/lib/python3.9/site-packages (from requests->webdriver-manager) (2021.10.8)\n",
      "Requirement already satisfied: urllib3<1.27,>=1.21.1 in /Users/KBS/opt/anaconda3/lib/python3.9/site-packages (from requests->webdriver-manager) (1.26.9)\n",
      "Requirement already satisfied: idna<4,>=2.5 in /Users/KBS/opt/anaconda3/lib/python3.9/site-packages (from requests->webdriver-manager) (3.3)\n",
      "Installing collected packages: python-dotenv, webdriver-manager\n",
      "Successfully installed python-dotenv-0.20.0 webdriver-manager-3.8.2\n",
      "Note: you may need to restart the kernel to use updated packages.\n"
     ]
    }
   ],
   "source": [
    "%pip install selenium\n",
    "%pip install webdriver-manager\n",
    "\n"
   ]
  },
  {
   "cell_type": "markdown",
   "id": "9d1cb070",
   "metadata": {},
   "source": [
    "# ② Selenium 시작하기"
   ]
  },
  {
   "cell_type": "code",
   "execution_count": 10,
   "id": "165b9f48",
   "metadata": {},
   "outputs": [
    {
     "name": "stdout",
     "output_type": "stream",
     "text": [
      "\n",
      "<html><head>\n",
      "    <title>Example Domain</title>\n",
      "\n",
      "    <meta charset=\"utf-8\">\n",
      "    <meta http-equiv=\"Content-type\" content=\"text/html; charset=utf-8\">\n",
      "    <meta name=\"viewport\" content=\"width=device-width, initial-scale=1\">\n",
      "    <style type=\"text/css\">\n",
      "    body {\n",
      "        background-color: #f0f0f2;\n",
      "        margin: 0;\n",
      "        padding: 0;\n",
      "        font-family: -apple-system, system-ui, BlinkMacSystemFont, \"Segoe UI\", \"Open Sans\", \"Helvetica Neue\", Helvetica, Arial, sans-serif;\n",
      "        \n",
      "    }\n",
      "    div {\n",
      "        width: 600px;\n",
      "        margin: 5em auto;\n",
      "        padding: 2em;\n",
      "        background-color: #fdfdff;\n",
      "        border-radius: 0.5em;\n",
      "        box-shadow: 2px 3px 7px 2px rgba(0,0,0,0.02);\n",
      "    }\n",
      "    a:link, a:visited {\n",
      "        color: #38488f;\n",
      "        text-decoration: none;\n",
      "    }\n",
      "    @media (max-width: 700px) {\n",
      "        div {\n",
      "            margin: 0 auto;\n",
      "            width: auto;\n",
      "        }\n",
      "    }\n",
      "    </style>    \n",
      "</head>\n",
      "\n",
      "<body>\n",
      "<div>\n",
      "    <h1>Example Domain</h1>\n",
      "    <p>This domain is for use in illustrative examples in documents. You may use this\n",
      "    domain in literature without prior coordination or asking for permission.</p>\n",
      "    <p><a href=\"https://www.iana.org/domains/example\">More information...</a></p>\n",
      "</div>\n",
      "\n",
      "\n",
      "</body></html>\n"
     ]
    }
   ],
   "source": [
    "from selenium import webdriver\n",
    "from selenium.webdriver.chrome.service import Service #웹드라이버 안에있는 크롬이라는 객체를 만들때 인자로 넣어줌\n",
    "from webdriver_manager.chrome import ChromeDriverManager #사용하고 있는 크롬과 동일한 버전으로 싱크하기 위해 사용\n",
    "driver = webdriver.Chrome(service=Service(ChromeDriverManager().install()))\n",
    "driver.get(\"http://www.example.com\")\n",
    "print(driver.page_source) # page소스를 확인 할 수 있다."
   ]
  },
  {
   "cell_type": "markdown",
   "id": "d37f70eb",
   "metadata": {},
   "source": [
    "\n",
    "그러나 프로그램들을 실행하다보면 크롬창이 계속 켜져있다. 이는 해당 창을 끄라고 명령를 내린적이 없기 때문이다.\n",
    "with_as 구문을 통해 주어진 명령이 끝나면 driver를 종료하도록 설정할 수 있다."
   ]
  },
  {
   "cell_type": "code",
   "execution_count": 12,
   "id": "89b5308d",
   "metadata": {},
   "outputs": [
    {
     "name": "stdout",
     "output_type": "stream",
     "text": [
      "\n",
      "<html><head>\n",
      "    <title>Example Domain</title>\n",
      "\n",
      "    <meta charset=\"utf-8\">\n",
      "    <meta http-equiv=\"Content-type\" content=\"text/html; charset=utf-8\">\n",
      "    <meta name=\"viewport\" content=\"width=device-width, initial-scale=1\">\n",
      "    <style type=\"text/css\">\n",
      "    body {\n",
      "        background-color: #f0f0f2;\n",
      "        margin: 0;\n",
      "        padding: 0;\n",
      "        font-family: -apple-system, system-ui, BlinkMacSystemFont, \"Segoe UI\", \"Open Sans\", \"Helvetica Neue\", Helvetica, Arial, sans-serif;\n",
      "        \n",
      "    }\n",
      "    div {\n",
      "        width: 600px;\n",
      "        margin: 5em auto;\n",
      "        padding: 2em;\n",
      "        background-color: #fdfdff;\n",
      "        border-radius: 0.5em;\n",
      "        box-shadow: 2px 3px 7px 2px rgba(0,0,0,0.02);\n",
      "    }\n",
      "    a:link, a:visited {\n",
      "        color: #38488f;\n",
      "        text-decoration: none;\n",
      "    }\n",
      "    @media (max-width: 700px) {\n",
      "        div {\n",
      "            margin: 0 auto;\n",
      "            width: auto;\n",
      "        }\n",
      "    }\n",
      "    </style>    \n",
      "</head>\n",
      "\n",
      "<body>\n",
      "<div>\n",
      "    <h1>Example Domain</h1>\n",
      "    <p>This domain is for use in illustrative examples in documents. You may use this\n",
      "    domain in literature without prior coordination or asking for permission.</p>\n",
      "    <p><a href=\"https://www.iana.org/domains/example\">More information...</a></p>\n",
      "</div>\n",
      "\n",
      "\n",
      "</body></html>\n"
     ]
    }
   ],
   "source": [
    "with webdriver.Chrome(service=Service(ChromeDriverManager().install())) as driver:\n",
    "    driver.get(\"http://www.example.com\")\n",
    "    print(driver.page_source)\n",
    "    #with ~을 실행해서 이것을 driver로 간주한 다음에 아래 들여쓰기의 명령을 실행한 다음 닫아라.\n",
    "\n",
    "#보통 스크랩핑을 할 때 창을 켜놓는 경우가 없기 때문에 보통 with as를 많이 사용한다."
   ]
  },
  {
   "cell_type": "markdown",
   "id": "f5da76d9",
   "metadata": {},
   "source": [
    "# ③ Driver에서 특정 요소 추출하기( By를 활용하여.)\n",
    "\n",
    "- 셀레니움을 활용해서 드라이버 객체를 만들어서 크롬에 명령을 내릴 수 있었다. \n",
    "- 스크랩퍼 또한 드라이브와 함께 활용할 수 있다. \n",
    "- 앞서 selenium은 받아온 응답으로부터 특정 요소를 추출할 수도 있는 것을 확인하였다. 이미 브라우저를 활용하기 때문이다. \n",
    "- 따라서 응답을 가지고 있는 drive요소에 대해 다음과 같은 메서드를 적용할 수 있다."
   ]
  },
  {
   "cell_type": "markdown",
   "id": "2fe5068d",
   "metadata": {},
   "source": [
    "### - 요소 하나 찾기\n",
    "\n",
    "- find_element(by, target)\n",
    "    - by : 대상을 찾는 기준 ex) id, TAG_NAME, CLASS_NAME\n",
    "    - target : 대상의 속성\n",
    "\n",
    "### - 요소 여러개 찾기\n",
    "\n",
    "- find_element(by, target)\n",
    "    - by : 대상을 찾는 기준 ex) id, TAG_NAME, CLASS_NAME\n",
    "    - target : 대상의 속성"
   ]
  },
  {
   "cell_type": "code",
   "execution_count": 15,
   "id": "72b5b480",
   "metadata": {},
   "outputs": [],
   "source": [
    "#By를 import해보자\n",
    "from selenium.webdriver.common.by import By #특정 기준을 설정할 수 있다,."
   ]
  },
  {
   "cell_type": "code",
   "execution_count": 18,
   "id": "8a8855d7",
   "metadata": {},
   "outputs": [
    {
     "name": "stdout",
     "output_type": "stream",
     "text": [
      "\n",
      "Text: This domain is for use in illustrative examples in documents. You may use this domain in literature without prior coordination or asking for permission.\n",
      "Text: More information...\n"
     ]
    }
   ],
   "source": [
    "with webdriver.Chrome(service=Service(ChromeDriverManager().install())) as driver:\n",
    "    driver.get(\"http://www.example.com\")\n",
    "    for element in driver.find_elements(By.TAG_NAME,\"P\"):\n",
    "        print(\"Text:\", element.text)"
   ]
  },
  {
   "cell_type": "markdown",
   "id": "9e9e6862",
   "metadata": {},
   "source": [
    "# Ⅲ - 3 Wait and Call\n",
    "\n",
    "- wait을 이용해서 동적 사이트를 성공적으로 스크랩핑 해보자\n",
    "- 셀레니움은 기다림을 선언할 수 있다."
   ]
  },
  {
   "cell_type": "markdown",
   "id": "bd32f028",
   "metadata": {},
   "source": [
    "## implicit / Explicit wait"
   ]
  },
  {
   "cell_type": "markdown",
   "id": "923d32c6",
   "metadata": {},
   "source": [
    "selinium은 동적 웹사이트에 대한 지원을 진행하기 위해서 명시적 기다림과 암묵적 기다림을 지원한다.\n",
    "   - implicit wait : 다 로딩이 될때까지 지정한 시간 동안 기다림 ex) 다 로딩이 될 때까지 5초동안 기달리라\n",
    "   - explicit wait ; 특정 요소에 대한 제약을 통한 기다림 ex) 이 태그를 가져올 수 있을 때까지 기달리라 \n",
    "   - 웹브라우저를 조작하기에 가능하다."
   ]
  },
  {
   "cell_type": "markdown",
   "id": "6a3b9578",
   "metadata": {},
   "source": [
    "## 실습 : Indiestreet 이벤트 스크래핑\n",
    "다음 사이트에 있는 행사의 이름들을 스크래핑 해보자. : https://indistreet.com/live?sortOption=startDate%3ADESC\n",
    "\n",
    "해당웹페이지는 공연 리스트가 담긴 웹페이지이다."
   ]
  },
  {
   "cell_type": "code",
   "execution_count": 22,
   "id": "ec3c49f5",
   "metadata": {},
   "outputs": [],
   "source": [
    "#스크래핑에 필요한 라이브러리\n",
    "from selenium import webdriver\n",
    "from selenium.webdriver.chrome.service import Service #웹드라이버 안에있는 크롬이라는 객체를 만들때 인자로 넣어줌\n",
    "from selenium.webdriver.common.by import By # #특정 기준을 설정할 수 있게끔 하는 By..\n",
    "from webdriver_manager.chrome import ChromeDriverManager #사용하고 있는 크롬과 동일한 버전으로 싱크하가"
   ]
  },
  {
   "cell_type": "markdown",
   "id": "f6708f6e",
   "metadata": {},
   "source": [
    "## Xpath란 무엇인가?\n",
    "  \n",
    "해당 사이트를 확인한 결과, class이름이 조금 특이한 것을 확인할 수 있었다.\n",
    "이는 클래스네임이 특정이 되면, 스크래핑을 방지할 목적으로 class 이름을 생성하기 때문이다.\n",
    "따라서 randomize로 클래스 이름을 지정한다.\n",
    "이러한 경우에 활용할 수 있는 방법이 여러가지가 있다. 그중 한가지 방법인 위치(location),구조를 활용할 수 있다.  \n",
    "  \n",
    "X-path는 XML, HTML 문서 등의 요소의 위치를 경로로 표현하는 것을 의미한다.  \n",
    "*xml : html과 비슷하게 태그를 기반으로 데이터를 표현하는 방법  \n",
    "마치 데스크탑/폴더/폴더1/음악mp.3와 같이 말이다.  \n",
    "  \n",
    "이를 적용해서 데이터를 온전히 가져올 수 있다.\n"
   ]
  },
  {
   "cell_type": "markdown",
   "id": "14b82fb5",
   "metadata": {},
   "source": [
    "//*[@id=\"__next\"]/div/main/div[2]/div/div[4]/div[1]/div[1]/div/a/div[2]/p[1]\n",
    "\n",
    "id ; locator, html에서 특정 요소 하나를 가르키는 이름.의 next요소의 div안에 main 안에있는 div의 두 번째, 그 안에 그 안에,,,,,,, \n",
    "\n",
    "그러나 아래 코드로 실행하게 되면 오류가 발생한다. 왜냐하면 이 웹페이지는 동적 웹페이지기 때문이다."
   ]
  },
  {
   "cell_type": "code",
   "execution_count": 32,
   "id": "f61855b1",
   "metadata": {},
   "outputs": [
    {
     "name": "stdout",
     "output_type": "stream",
     "text": [
      "\n"
     ]
    },
    {
     "ename": "NoSuchWindowException",
     "evalue": "Message: no such window: target window already closed\nfrom unknown error: web view not found\n  (Session info: chrome=103.0.5060.134)\nStacktrace:\n0   chromedriver                        0x0000000107cf5ef9 chromedriver + 4480761\n1   chromedriver                        0x0000000107c815d3 chromedriver + 4003283\n2   chromedriver                        0x0000000107914338 chromedriver + 410424\n3   chromedriver                        0x00000001078f5788 chromedriver + 284552\n4   chromedriver                        0x000000010796af7b chromedriver + 765819\n5   chromedriver                        0x0000000107979b5f chromedriver + 826207\n6   chromedriver                        0x0000000107967953 chromedriver + 751955\n7   chromedriver                        0x000000010793dcd5 chromedriver + 580821\n8   chromedriver                        0x000000010793ed25 chromedriver + 584997\n9   chromedriver                        0x0000000107cc702d chromedriver + 4288557\n10  chromedriver                        0x0000000107ccc1b3 chromedriver + 4309427\n11  chromedriver                        0x0000000107cd123f chromedriver + 4330047\n12  chromedriver                        0x0000000107cccdfa chromedriver + 4312570\n13  chromedriver                        0x0000000107ca5fef chromedriver + 4153327\n14  chromedriver                        0x0000000107ce6d78 chromedriver + 4418936\n15  chromedriver                        0x0000000107ce6eff chromedriver + 4419327\n16  chromedriver                        0x0000000107cfdab5 chromedriver + 4512437\n17  libsystem_pthread.dylib             0x00007ff81e12d4e1 _pthread_start + 125\n18  libsystem_pthread.dylib             0x00007ff81e128f6b thread_start + 15\n",
     "output_type": "error",
     "traceback": [
      "\u001b[0;31m---------------------------------------------------------------------------\u001b[0m",
      "\u001b[0;31mNoSuchWindowException\u001b[0m                     Traceback (most recent call last)",
      "Input \u001b[0;32mIn [32]\u001b[0m, in \u001b[0;36m<cell line: 3>\u001b[0;34m()\u001b[0m\n\u001b[1;32m      1\u001b[0m driver \u001b[38;5;241m=\u001b[39m webdriver\u001b[38;5;241m.\u001b[39mChrome(service\u001b[38;5;241m=\u001b[39mService(ChromeDriverManager()\u001b[38;5;241m.\u001b[39minstall()))\n\u001b[1;32m      2\u001b[0m driver\u001b[38;5;241m.\u001b[39mget(\u001b[38;5;124m\"\u001b[39m\u001b[38;5;124mhttps://indistreet.com/live?sortOption=startDate\u001b[39m\u001b[38;5;124m%\u001b[39m\u001b[38;5;124m3ADESC\u001b[39m\u001b[38;5;124m\"\u001b[39m)\n\u001b[0;32m----> 3\u001b[0m \u001b[43mdriver\u001b[49m\u001b[38;5;241;43m.\u001b[39;49m\u001b[43mfind_element\u001b[49m\u001b[43m(\u001b[49m\u001b[43mBy\u001b[49m\u001b[38;5;241;43m.\u001b[39;49m\u001b[43mXPATH\u001b[49m\u001b[43m,\u001b[49m\u001b[38;5;124;43m'\u001b[39;49m\u001b[38;5;124;43m//*[@id=\u001b[39;49m\u001b[38;5;124;43m\"\u001b[39;49m\u001b[38;5;124;43m__next\u001b[39;49m\u001b[38;5;124;43m\"\u001b[39;49m\u001b[38;5;124;43m]/div/main/div[2]/div/div[4]/div[1]/div[1]/div/a/div[2]/p[1]\u001b[39;49m\u001b[38;5;124;43m'\u001b[39;49m\u001b[43m)\u001b[49m\u001b[38;5;241m.\u001b[39mtext\n",
      "File \u001b[0;32m~/opt/anaconda3/lib/python3.9/site-packages/selenium/webdriver/remote/webdriver.py:857\u001b[0m, in \u001b[0;36mWebDriver.find_element\u001b[0;34m(self, by, value)\u001b[0m\n\u001b[1;32m    854\u001b[0m     by \u001b[38;5;241m=\u001b[39m By\u001b[38;5;241m.\u001b[39mCSS_SELECTOR\n\u001b[1;32m    855\u001b[0m     value \u001b[38;5;241m=\u001b[39m \u001b[38;5;124m'\u001b[39m\u001b[38;5;124m[name=\u001b[39m\u001b[38;5;124m\"\u001b[39m\u001b[38;5;132;01m%s\u001b[39;00m\u001b[38;5;124m\"\u001b[39m\u001b[38;5;124m]\u001b[39m\u001b[38;5;124m'\u001b[39m \u001b[38;5;241m%\u001b[39m value\n\u001b[0;32m--> 857\u001b[0m \u001b[38;5;28;01mreturn\u001b[39;00m \u001b[38;5;28;43mself\u001b[39;49m\u001b[38;5;241;43m.\u001b[39;49m\u001b[43mexecute\u001b[49m\u001b[43m(\u001b[49m\u001b[43mCommand\u001b[49m\u001b[38;5;241;43m.\u001b[39;49m\u001b[43mFIND_ELEMENT\u001b[49m\u001b[43m,\u001b[49m\u001b[43m \u001b[49m\u001b[43m{\u001b[49m\n\u001b[1;32m    858\u001b[0m \u001b[43m    \u001b[49m\u001b[38;5;124;43m'\u001b[39;49m\u001b[38;5;124;43musing\u001b[39;49m\u001b[38;5;124;43m'\u001b[39;49m\u001b[43m:\u001b[49m\u001b[43m \u001b[49m\u001b[43mby\u001b[49m\u001b[43m,\u001b[49m\n\u001b[1;32m    859\u001b[0m \u001b[43m    \u001b[49m\u001b[38;5;124;43m'\u001b[39;49m\u001b[38;5;124;43mvalue\u001b[39;49m\u001b[38;5;124;43m'\u001b[39;49m\u001b[43m:\u001b[49m\u001b[43m \u001b[49m\u001b[43mvalue\u001b[49m\u001b[43m}\u001b[49m\u001b[43m)\u001b[49m[\u001b[38;5;124m'\u001b[39m\u001b[38;5;124mvalue\u001b[39m\u001b[38;5;124m'\u001b[39m]\n",
      "File \u001b[0;32m~/opt/anaconda3/lib/python3.9/site-packages/selenium/webdriver/remote/webdriver.py:435\u001b[0m, in \u001b[0;36mWebDriver.execute\u001b[0;34m(self, driver_command, params)\u001b[0m\n\u001b[1;32m    433\u001b[0m response \u001b[38;5;241m=\u001b[39m \u001b[38;5;28mself\u001b[39m\u001b[38;5;241m.\u001b[39mcommand_executor\u001b[38;5;241m.\u001b[39mexecute(driver_command, params)\n\u001b[1;32m    434\u001b[0m \u001b[38;5;28;01mif\u001b[39;00m response:\n\u001b[0;32m--> 435\u001b[0m     \u001b[38;5;28;43mself\u001b[39;49m\u001b[38;5;241;43m.\u001b[39;49m\u001b[43merror_handler\u001b[49m\u001b[38;5;241;43m.\u001b[39;49m\u001b[43mcheck_response\u001b[49m\u001b[43m(\u001b[49m\u001b[43mresponse\u001b[49m\u001b[43m)\u001b[49m\n\u001b[1;32m    436\u001b[0m     response[\u001b[38;5;124m'\u001b[39m\u001b[38;5;124mvalue\u001b[39m\u001b[38;5;124m'\u001b[39m] \u001b[38;5;241m=\u001b[39m \u001b[38;5;28mself\u001b[39m\u001b[38;5;241m.\u001b[39m_unwrap_value(\n\u001b[1;32m    437\u001b[0m         response\u001b[38;5;241m.\u001b[39mget(\u001b[38;5;124m'\u001b[39m\u001b[38;5;124mvalue\u001b[39m\u001b[38;5;124m'\u001b[39m, \u001b[38;5;28;01mNone\u001b[39;00m))\n\u001b[1;32m    438\u001b[0m     \u001b[38;5;28;01mreturn\u001b[39;00m response\n",
      "File \u001b[0;32m~/opt/anaconda3/lib/python3.9/site-packages/selenium/webdriver/remote/errorhandler.py:247\u001b[0m, in \u001b[0;36mErrorHandler.check_response\u001b[0;34m(self, response)\u001b[0m\n\u001b[1;32m    245\u001b[0m         alert_text \u001b[38;5;241m=\u001b[39m value[\u001b[38;5;124m'\u001b[39m\u001b[38;5;124malert\u001b[39m\u001b[38;5;124m'\u001b[39m]\u001b[38;5;241m.\u001b[39mget(\u001b[38;5;124m'\u001b[39m\u001b[38;5;124mtext\u001b[39m\u001b[38;5;124m'\u001b[39m)\n\u001b[1;32m    246\u001b[0m     \u001b[38;5;28;01mraise\u001b[39;00m exception_class(message, screen, stacktrace, alert_text)  \u001b[38;5;66;03m# type: ignore[call-arg]  # mypy is not smart enough here\u001b[39;00m\n\u001b[0;32m--> 247\u001b[0m \u001b[38;5;28;01mraise\u001b[39;00m exception_class(message, screen, stacktrace)\n",
      "\u001b[0;31mNoSuchWindowException\u001b[0m: Message: no such window: target window already closed\nfrom unknown error: web view not found\n  (Session info: chrome=103.0.5060.134)\nStacktrace:\n0   chromedriver                        0x0000000107cf5ef9 chromedriver + 4480761\n1   chromedriver                        0x0000000107c815d3 chromedriver + 4003283\n2   chromedriver                        0x0000000107914338 chromedriver + 410424\n3   chromedriver                        0x00000001078f5788 chromedriver + 284552\n4   chromedriver                        0x000000010796af7b chromedriver + 765819\n5   chromedriver                        0x0000000107979b5f chromedriver + 826207\n6   chromedriver                        0x0000000107967953 chromedriver + 751955\n7   chromedriver                        0x000000010793dcd5 chromedriver + 580821\n8   chromedriver                        0x000000010793ed25 chromedriver + 584997\n9   chromedriver                        0x0000000107cc702d chromedriver + 4288557\n10  chromedriver                        0x0000000107ccc1b3 chromedriver + 4309427\n11  chromedriver                        0x0000000107cd123f chromedriver + 4330047\n12  chromedriver                        0x0000000107cccdfa chromedriver + 4312570\n13  chromedriver                        0x0000000107ca5fef chromedriver + 4153327\n14  chromedriver                        0x0000000107ce6d78 chromedriver + 4418936\n15  chromedriver                        0x0000000107ce6eff chromedriver + 4419327\n16  chromedriver                        0x0000000107cfdab5 chromedriver + 4512437\n17  libsystem_pthread.dylib             0x00007ff81e12d4e1 _pthread_start + 125\n18  libsystem_pthread.dylib             0x00007ff81e128f6b thread_start + 15\n"
     ]
    }
   ],
   "source": [
    "driver = webdriver.Chrome(service=Service(ChromeDriverManager().install()))\n",
    "driver.get(\"https://indistreet.com/live?sortOption=startDate%3ADESC\")\n",
    "driver.find_element(By.XPATH,'//*[@id=\"__next\"]/div/main/div[2]/div/div[4]/div[1]/div[1]/div/a/div[2]/p[1]').text"
   ]
  },
  {
   "cell_type": "markdown",
   "id": "2bd8bd48",
   "metadata": {},
   "source": [
    "따라서 앞서 설명한 Wait 방법을 활용해서 스크래핑을 진행할 수 있다. 먼저  \n",
    "\n",
    "## Implicit wait  \n",
    "\n",
    ".implicit wait()을 쓸 수 있는데, 주의할 점으로 반드시 해당 시간을 기다리는 것이 아니라 로딩이 다 될 때 까지 한계 시간의 의미를 가진다는 점이다.\n",
    "\n",
    "10초 동안  Implicit wait 을 진행해보자\n"
   ]
  },
  {
   "cell_type": "code",
   "execution_count": 35,
   "id": "31af17a7",
   "metadata": {},
   "outputs": [
    {
     "name": "stdout",
     "output_type": "stream",
     "text": [
      "\n",
      "Boy Pablo Asia Tour 2022 Seoul\n"
     ]
    }
   ],
   "source": [
    "from selenium.webdriver.support.ui import WebDriverWait\n",
    "\n",
    "with webdriver.Chrome(service=Service(ChromeDriverManager().install())) as driver:\n",
    "    driver.get(\"https://indistreet.com/live?sortOption=startDate%3ADESC\")\n",
    "    \n",
    "    ##중요## 바로 find를 진행하는 것이 아닌 요 가운데 자리에 \n",
    "    driver.implicitly_wait(10)\n",
    "    # 즉, 두 가지 중 하나다. 요청이 완벽하게 응답이 되면 다음걸 실행하거나 혹은 10초를 기다린다.\n",
    "    # 10초를 항상 기다리는게 아니고, 일단 10초까지 기달리고 그전에 렌더링 끝나면(완전한 응답이 오면) 다음 명령 수행.\n",
    "    \n",
    "    print(driver.find_element(By.XPATH,'//*[@id=\"__next\"]/div/main/div[2]/div/div[4]/div[1]/div[1]/div/a/div[2]/p[1]').text)\n",
    "\n",
    "\n"
   ]
  },
  {
   "cell_type": "markdown",
   "id": "52cc8bef",
   "metadata": {},
   "source": [
    "## Explicit wait \n",
    "\n",
    "특정 요소가 준비되면 그제서야 명령을 내릴 수도 있다.  \n",
    "\n",
    "WebDriverWait()과 두 메서드를 활용해서 명시적 기다림을 적용할 수 있다.  \n",
    "\n",
    "until() : 인자의 조건이 만족될 때까지\n",
    "until_not(): 인자의 조건이 만족되지 않을 때까지  \n",
    "\n",
    "예를 들어 ,id가 target인 요소가 존재할 때까지 기다린 후 다음 명령을 진행한다.\n",
    "\n",
    "element = WebDriveWait(driver,10).until(EC.presence_of_element_located((By.ID,\"target\")))\n",
    "\n",
    "이때, ec는 expected_condition으로 seleniumdptj 정의된 조건들이다.(~가 존재하면...)  \n",
    "\n",
    "주어진 Xpath가 등장할 때까지 wait이 동작된다.\n",
    "\n",
    "(EC.presence_of_element_located  "
   ]
  }
 ],
 "metadata": {
  "kernelspec": {
   "display_name": "Python 3 (ipykernel)",
   "language": "python",
   "name": "python3"
  },
  "language_info": {
   "codemirror_mode": {
    "name": "ipython",
    "version": 3
   },
   "file_extension": ".py",
   "mimetype": "text/x-python",
   "name": "python",
   "nbconvert_exporter": "python",
   "pygments_lexer": "ipython3",
   "version": "3.9.12"
  }
 },
 "nbformat": 4,
 "nbformat_minor": 5
}
