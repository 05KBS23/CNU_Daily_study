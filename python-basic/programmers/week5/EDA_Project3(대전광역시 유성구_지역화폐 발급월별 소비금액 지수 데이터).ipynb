{
 "cells": [
  {
   "cell_type": "markdown",
   "id": "7a0a7abc",
   "metadata": {},
   "source": [
    "# EDA PROJECT 3 : 평소에 관심있던 분야의 데이터셋을 골라서 탐색해보기(대전광역시 유성구_지역화폐 발급월별 소비금액 지수 데이터)"
   ]
  },
  {
   "cell_type": "code",
   "execution_count": 1,
   "id": "67dbbb1d",
   "metadata": {},
   "outputs": [],
   "source": [
    "import pandas as pd\n",
    "import numpy as np\n",
    "import glob\n",
    "import os\n",
    "import matplotlib.pyplot as plt\n",
    "import seaborn as sns"
   ]
  },
  {
   "cell_type": "code",
   "execution_count": 3,
   "id": "697c4db0",
   "metadata": {},
   "outputs": [],
   "source": [
    "df = pd.read_csv(\"./대전광역시 유성구_지역화폐 발급월별 소비금액 지수 데이터_20220531.csv\", encoding='CP949')"
   ]
  },
  {
   "cell_type": "code",
   "execution_count": 6,
   "id": "661315a2",
   "metadata": {},
   "outputs": [],
   "source": [
    "df = df.drop(columns=['광역시도코드','시군구코드', '법정동코드'], axis=1) "
   ]
  },
  {
   "cell_type": "code",
   "execution_count": 12,
   "id": "85a133a1",
   "metadata": {},
   "outputs": [],
   "source": [
    "df[\"발급년\"]=df[\"발급년\"].astype(str)\n",
    "df[\"발급월\"]=df[\"발급월\"].astype(str)\n",
    "for i in range(2,3):\n",
    "    df['발급월'+str(i)] = df[\"발급월\"].astype('str').str.zfill(i)\n",
    "    \n",
    "df[\"발급년월\"] = df[\"발급년\"] + df[\"발급월\"]"
   ]
  },
  {
   "cell_type": "code",
   "execution_count": 15,
   "id": "912d919f",
   "metadata": {},
   "outputs": [
    {
     "data": {
      "text/html": [
       "<div>\n",
       "<style scoped>\n",
       "    .dataframe tbody tr th:only-of-type {\n",
       "        vertical-align: middle;\n",
       "    }\n",
       "\n",
       "    .dataframe tbody tr th {\n",
       "        vertical-align: top;\n",
       "    }\n",
       "\n",
       "    .dataframe thead th {\n",
       "        text-align: right;\n",
       "    }\n",
       "</style>\n",
       "<table border=\"1\" class=\"dataframe\">\n",
       "  <thead>\n",
       "    <tr style=\"text-align: right;\">\n",
       "      <th></th>\n",
       "      <th>발급년</th>\n",
       "      <th>발급월</th>\n",
       "      <th>광역시도명</th>\n",
       "      <th>시군구명</th>\n",
       "      <th>법정동명</th>\n",
       "      <th>연령대</th>\n",
       "      <th>성별</th>\n",
       "      <th>지수_이용건수</th>\n",
       "      <th>지수_이용금액</th>\n",
       "      <th>발급월2</th>\n",
       "    </tr>\n",
       "  </thead>\n",
       "  <tbody>\n",
       "    <tr>\n",
       "      <th>0</th>\n",
       "      <td>2020</td>\n",
       "      <td>5</td>\n",
       "      <td>대전광역시</td>\n",
       "      <td>동구</td>\n",
       "      <td>인동</td>\n",
       "      <td>30대</td>\n",
       "      <td>여성</td>\n",
       "      <td>100.0</td>\n",
       "      <td>100.0</td>\n",
       "      <td>05</td>\n",
       "    </tr>\n",
       "    <tr>\n",
       "      <th>1</th>\n",
       "      <td>2020</td>\n",
       "      <td>5</td>\n",
       "      <td>대전광역시</td>\n",
       "      <td>동구</td>\n",
       "      <td>천동</td>\n",
       "      <td>40대</td>\n",
       "      <td>여성</td>\n",
       "      <td>100.0</td>\n",
       "      <td>100.0</td>\n",
       "      <td>05</td>\n",
       "    </tr>\n",
       "    <tr>\n",
       "      <th>2</th>\n",
       "      <td>2020</td>\n",
       "      <td>5</td>\n",
       "      <td>대전광역시</td>\n",
       "      <td>동구</td>\n",
       "      <td>가오동</td>\n",
       "      <td>30대</td>\n",
       "      <td>남성</td>\n",
       "      <td>100.0</td>\n",
       "      <td>100.0</td>\n",
       "      <td>05</td>\n",
       "    </tr>\n",
       "    <tr>\n",
       "      <th>3</th>\n",
       "      <td>2020</td>\n",
       "      <td>5</td>\n",
       "      <td>대전광역시</td>\n",
       "      <td>동구</td>\n",
       "      <td>가오동</td>\n",
       "      <td>40대</td>\n",
       "      <td>여성</td>\n",
       "      <td>100.0</td>\n",
       "      <td>100.0</td>\n",
       "      <td>05</td>\n",
       "    </tr>\n",
       "    <tr>\n",
       "      <th>4</th>\n",
       "      <td>2020</td>\n",
       "      <td>5</td>\n",
       "      <td>대전광역시</td>\n",
       "      <td>동구</td>\n",
       "      <td>신흥동</td>\n",
       "      <td>30대</td>\n",
       "      <td>남성</td>\n",
       "      <td>100.0</td>\n",
       "      <td>100.0</td>\n",
       "      <td>05</td>\n",
       "    </tr>\n",
       "  </tbody>\n",
       "</table>\n",
       "</div>"
      ],
      "text/plain": [
       "    발급년 발급월  광역시도명 시군구명 법정동명  연령대  성별  지수_이용건수  지수_이용금액 발급월2\n",
       "0  2020   5  대전광역시   동구   인동  30대  여성    100.0    100.0   05\n",
       "1  2020   5  대전광역시   동구   천동  40대  여성    100.0    100.0   05\n",
       "2  2020   5  대전광역시   동구  가오동  30대  남성    100.0    100.0   05\n",
       "3  2020   5  대전광역시   동구  가오동  40대  여성    100.0    100.0   05\n",
       "4  2020   5  대전광역시   동구  신흥동  30대  남성    100.0    100.0   05"
      ]
     },
     "execution_count": 15,
     "metadata": {},
     "output_type": "execute_result"
    }
   ],
   "source": [
    "df.head()"
   ]
  },
  {
   "cell_type": "code",
   "execution_count": null,
   "id": "ac7e70be",
   "metadata": {},
   "outputs": [],
   "source": []
  }
 ],
 "metadata": {
  "kernelspec": {
   "display_name": "Python 3 (ipykernel)",
   "language": "python",
   "name": "python3"
  },
  "language_info": {
   "codemirror_mode": {
    "name": "ipython",
    "version": 3
   },
   "file_extension": ".py",
   "mimetype": "text/x-python",
   "name": "python",
   "nbconvert_exporter": "python",
   "pygments_lexer": "ipython3",
   "version": "3.9.12"
  }
 },
 "nbformat": 4,
 "nbformat_minor": 5
}
