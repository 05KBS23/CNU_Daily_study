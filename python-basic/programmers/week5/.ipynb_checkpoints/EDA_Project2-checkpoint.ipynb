{
 "cells": [
  {
   "cell_type": "code",
   "execution_count": 93,
   "id": "42cef252",
   "metadata": {},
   "outputs": [],
   "source": [
    "import pandas as pd\n",
    "import numpy as np\n",
    "import glob\n",
    "import os\n",
    "import matplotlib.pyplot as plt\n",
    "import seaborn as sns"
   ]
  },
  {
   "cell_type": "code",
   "execution_count": 2,
   "id": "12e8ccb4",
   "metadata": {},
   "outputs": [
    {
     "data": {
      "text/html": [
       "<div>\n",
       "<style scoped>\n",
       "    .dataframe tbody tr th:only-of-type {\n",
       "        vertical-align: middle;\n",
       "    }\n",
       "\n",
       "    .dataframe tbody tr th {\n",
       "        vertical-align: top;\n",
       "    }\n",
       "\n",
       "    .dataframe thead th {\n",
       "        text-align: right;\n",
       "    }\n",
       "</style>\n",
       "<table border=\"1\" class=\"dataframe\">\n",
       "  <thead>\n",
       "    <tr style=\"text-align: right;\">\n",
       "      <th></th>\n",
       "      <th>이용년</th>\n",
       "      <th>이용월</th>\n",
       "      <th>광역시도명</th>\n",
       "      <th>시군구명</th>\n",
       "      <th>법정동명</th>\n",
       "      <th>표준산업대분류명</th>\n",
       "      <th>지수_이용건수</th>\n",
       "      <th>지수_이용금액</th>\n",
       "    </tr>\n",
       "  </thead>\n",
       "  <tbody>\n",
       "    <tr>\n",
       "      <th>0</th>\n",
       "      <td>2020</td>\n",
       "      <td>5</td>\n",
       "      <td>대전광역시</td>\n",
       "      <td>동구</td>\n",
       "      <td>인동</td>\n",
       "      <td>숙박 및 음식점업(55-56)</td>\n",
       "      <td>100.0</td>\n",
       "      <td>100.0</td>\n",
       "    </tr>\n",
       "    <tr>\n",
       "      <th>1</th>\n",
       "      <td>2020</td>\n",
       "      <td>5</td>\n",
       "      <td>대전광역시</td>\n",
       "      <td>동구</td>\n",
       "      <td>천동</td>\n",
       "      <td>숙박 및 음식점업(55-56)</td>\n",
       "      <td>100.0</td>\n",
       "      <td>100.0</td>\n",
       "    </tr>\n",
       "    <tr>\n",
       "      <th>2</th>\n",
       "      <td>2020</td>\n",
       "      <td>5</td>\n",
       "      <td>대전광역시</td>\n",
       "      <td>동구</td>\n",
       "      <td>가오동</td>\n",
       "      <td>도매 및 소매업(45-47)</td>\n",
       "      <td>100.0</td>\n",
       "      <td>100.0</td>\n",
       "    </tr>\n",
       "    <tr>\n",
       "      <th>3</th>\n",
       "      <td>2020</td>\n",
       "      <td>5</td>\n",
       "      <td>대전광역시</td>\n",
       "      <td>동구</td>\n",
       "      <td>가오동</td>\n",
       "      <td>숙박 및 음식점업(55-56)</td>\n",
       "      <td>100.0</td>\n",
       "      <td>100.0</td>\n",
       "    </tr>\n",
       "    <tr>\n",
       "      <th>4</th>\n",
       "      <td>2020</td>\n",
       "      <td>5</td>\n",
       "      <td>대전광역시</td>\n",
       "      <td>동구</td>\n",
       "      <td>신흥동</td>\n",
       "      <td>숙박 및 음식점업(55-56)</td>\n",
       "      <td>100.0</td>\n",
       "      <td>100.0</td>\n",
       "    </tr>\n",
       "  </tbody>\n",
       "</table>\n",
       "</div>"
      ],
      "text/plain": [
       "    이용년  이용월  광역시도명 시군구명 법정동명          표준산업대분류명  지수_이용건수  지수_이용금액\n",
       "0  2020    5  대전광역시   동구   인동  숙박 및 음식점업(55-56)    100.0    100.0\n",
       "1  2020    5  대전광역시   동구   천동  숙박 및 음식점업(55-56)    100.0    100.0\n",
       "2  2020    5  대전광역시   동구  가오동   도매 및 소매업(45-47)    100.0    100.0\n",
       "3  2020    5  대전광역시   동구  가오동  숙박 및 음식점업(55-56)    100.0    100.0\n",
       "4  2020    5  대전광역시   동구  신흥동  숙박 및 음식점업(55-56)    100.0    100.0"
      ]
     },
     "execution_count": 2,
     "metadata": {},
     "output_type": "execute_result"
    }
   ],
   "source": [
    "df1 = pd.read_csv(\"./유성구_지역화폐이용_2020.csv\",encoding='CP949')\n",
    "df2 = pd.read_csv(\"./유성구_지역화폐이용_2021.csv\",encoding='CP949')\n",
    "df3 = pd.read_csv(\"./유성구_지역화폐이용_2022_03.csv\",encoding='CP949')\n",
    "df4 = pd.read_csv(\"./유성구_지역화폐이용_2022_04.csv\",encoding='CP949')\n",
    "df5 = pd.read_csv(\"./유성구_지역화폐이용_2022_05.csv\",encoding='CP949')\n",
    "\n",
    "df = pd.concat([df1,df2,df3,df4,df4], ignore_index= True)\n",
    "df = df.drop(columns=['광역시도코드','시군구코드', '법정동코드','표준산업대분류코드'], axis=1) \n",
    "df.head()"
   ]
  },
  {
   "cell_type": "code",
   "execution_count": 3,
   "id": "a57d9c7f",
   "metadata": {},
   "outputs": [],
   "source": [
    "df[\"이용년\"]=df[\"이용년\"].astype(str)\n",
    "df[\"이용월\"]=df[\"이용월\"].astype(str)"
   ]
  },
  {
   "cell_type": "code",
   "execution_count": 4,
   "id": "8c89806f",
   "metadata": {},
   "outputs": [],
   "source": [
    "for i in range(2,3):\n",
    "    df['이용월'+str(i)] = df[\"이용월\"].astype('str').str.zfill(i) # 1~9월까지 0을 채워서 두 자리까지..\n",
    "    \n",
    "#참고 : https://boleumdal.tistory.com/entry/PYTHON-%EC%88%AB%EC%9E%90-%EB%AC%B8%EC%9E%90%EC%97%B4-%EC%95%9E%EC%97%90-0-%EC%B1%84%EC%9A%B0%EA%B8%B0"
   ]
  },
  {
   "cell_type": "code",
   "execution_count": 6,
   "id": "1b3dbf77",
   "metadata": {},
   "outputs": [
    {
     "data": {
      "text/html": [
       "<div>\n",
       "<style scoped>\n",
       "    .dataframe tbody tr th:only-of-type {\n",
       "        vertical-align: middle;\n",
       "    }\n",
       "\n",
       "    .dataframe tbody tr th {\n",
       "        vertical-align: top;\n",
       "    }\n",
       "\n",
       "    .dataframe thead th {\n",
       "        text-align: right;\n",
       "    }\n",
       "</style>\n",
       "<table border=\"1\" class=\"dataframe\">\n",
       "  <thead>\n",
       "    <tr style=\"text-align: right;\">\n",
       "      <th></th>\n",
       "      <th>이용년</th>\n",
       "      <th>이용월</th>\n",
       "      <th>광역시도명</th>\n",
       "      <th>시군구명</th>\n",
       "      <th>법정동명</th>\n",
       "      <th>표준산업대분류명</th>\n",
       "      <th>지수_이용건수</th>\n",
       "      <th>지수_이용금액</th>\n",
       "      <th>이용월2</th>\n",
       "    </tr>\n",
       "  </thead>\n",
       "  <tbody>\n",
       "    <tr>\n",
       "      <th>0</th>\n",
       "      <td>2020</td>\n",
       "      <td>5</td>\n",
       "      <td>대전광역시</td>\n",
       "      <td>동구</td>\n",
       "      <td>인동</td>\n",
       "      <td>숙박 및 음식점업(55-56)</td>\n",
       "      <td>100.0</td>\n",
       "      <td>100.0</td>\n",
       "      <td>05</td>\n",
       "    </tr>\n",
       "    <tr>\n",
       "      <th>1</th>\n",
       "      <td>2020</td>\n",
       "      <td>5</td>\n",
       "      <td>대전광역시</td>\n",
       "      <td>동구</td>\n",
       "      <td>천동</td>\n",
       "      <td>숙박 및 음식점업(55-56)</td>\n",
       "      <td>100.0</td>\n",
       "      <td>100.0</td>\n",
       "      <td>05</td>\n",
       "    </tr>\n",
       "    <tr>\n",
       "      <th>2</th>\n",
       "      <td>2020</td>\n",
       "      <td>5</td>\n",
       "      <td>대전광역시</td>\n",
       "      <td>동구</td>\n",
       "      <td>가오동</td>\n",
       "      <td>도매 및 소매업(45-47)</td>\n",
       "      <td>100.0</td>\n",
       "      <td>100.0</td>\n",
       "      <td>05</td>\n",
       "    </tr>\n",
       "    <tr>\n",
       "      <th>3</th>\n",
       "      <td>2020</td>\n",
       "      <td>5</td>\n",
       "      <td>대전광역시</td>\n",
       "      <td>동구</td>\n",
       "      <td>가오동</td>\n",
       "      <td>숙박 및 음식점업(55-56)</td>\n",
       "      <td>100.0</td>\n",
       "      <td>100.0</td>\n",
       "      <td>05</td>\n",
       "    </tr>\n",
       "    <tr>\n",
       "      <th>4</th>\n",
       "      <td>2020</td>\n",
       "      <td>5</td>\n",
       "      <td>대전광역시</td>\n",
       "      <td>동구</td>\n",
       "      <td>신흥동</td>\n",
       "      <td>숙박 및 음식점업(55-56)</td>\n",
       "      <td>100.0</td>\n",
       "      <td>100.0</td>\n",
       "      <td>05</td>\n",
       "    </tr>\n",
       "  </tbody>\n",
       "</table>\n",
       "</div>"
      ],
      "text/plain": [
       "    이용년 이용월  광역시도명 시군구명 법정동명          표준산업대분류명  지수_이용건수  지수_이용금액 이용월2\n",
       "0  2020   5  대전광역시   동구   인동  숙박 및 음식점업(55-56)    100.0    100.0   05\n",
       "1  2020   5  대전광역시   동구   천동  숙박 및 음식점업(55-56)    100.0    100.0   05\n",
       "2  2020   5  대전광역시   동구  가오동   도매 및 소매업(45-47)    100.0    100.0   05\n",
       "3  2020   5  대전광역시   동구  가오동  숙박 및 음식점업(55-56)    100.0    100.0   05\n",
       "4  2020   5  대전광역시   동구  신흥동  숙박 및 음식점업(55-56)    100.0    100.0   05"
      ]
     },
     "execution_count": 6,
     "metadata": {},
     "output_type": "execute_result"
    }
   ],
   "source": [
    "df.head()"
   ]
  },
  {
   "cell_type": "code",
   "execution_count": 7,
   "id": "47843669",
   "metadata": {},
   "outputs": [],
   "source": [
    "df[\"이용년월\"] = df[\"이용년\"] + df[\"이용월2\"] #컬럼 두 개 합치기 = 2xxx0x 형태로 만들기"
   ]
  },
  {
   "cell_type": "code",
   "execution_count": 11,
   "id": "48ad4460",
   "metadata": {},
   "outputs": [
    {
     "data": {
      "text/html": [
       "<div>\n",
       "<style scoped>\n",
       "    .dataframe tbody tr th:only-of-type {\n",
       "        vertical-align: middle;\n",
       "    }\n",
       "\n",
       "    .dataframe tbody tr th {\n",
       "        vertical-align: top;\n",
       "    }\n",
       "\n",
       "    .dataframe thead th {\n",
       "        text-align: right;\n",
       "    }\n",
       "</style>\n",
       "<table border=\"1\" class=\"dataframe\">\n",
       "  <thead>\n",
       "    <tr style=\"text-align: right;\">\n",
       "      <th></th>\n",
       "      <th>이용년월</th>\n",
       "      <th>이용년</th>\n",
       "      <th>이용월2</th>\n",
       "      <th>시군구명</th>\n",
       "      <th>법정동명</th>\n",
       "      <th>표준산업대분류명</th>\n",
       "      <th>지수_이용건수</th>\n",
       "      <th>지수_이용금액</th>\n",
       "    </tr>\n",
       "  </thead>\n",
       "  <tbody>\n",
       "    <tr>\n",
       "      <th>0</th>\n",
       "      <td>202005</td>\n",
       "      <td>2020</td>\n",
       "      <td>05</td>\n",
       "      <td>동구</td>\n",
       "      <td>인동</td>\n",
       "      <td>숙박 및 음식점업(55-56)</td>\n",
       "      <td>100.0</td>\n",
       "      <td>100.0</td>\n",
       "    </tr>\n",
       "    <tr>\n",
       "      <th>1</th>\n",
       "      <td>202005</td>\n",
       "      <td>2020</td>\n",
       "      <td>05</td>\n",
       "      <td>동구</td>\n",
       "      <td>천동</td>\n",
       "      <td>숙박 및 음식점업(55-56)</td>\n",
       "      <td>100.0</td>\n",
       "      <td>100.0</td>\n",
       "    </tr>\n",
       "    <tr>\n",
       "      <th>2</th>\n",
       "      <td>202005</td>\n",
       "      <td>2020</td>\n",
       "      <td>05</td>\n",
       "      <td>동구</td>\n",
       "      <td>가오동</td>\n",
       "      <td>도매 및 소매업(45-47)</td>\n",
       "      <td>100.0</td>\n",
       "      <td>100.0</td>\n",
       "    </tr>\n",
       "    <tr>\n",
       "      <th>3</th>\n",
       "      <td>202005</td>\n",
       "      <td>2020</td>\n",
       "      <td>05</td>\n",
       "      <td>동구</td>\n",
       "      <td>가오동</td>\n",
       "      <td>숙박 및 음식점업(55-56)</td>\n",
       "      <td>100.0</td>\n",
       "      <td>100.0</td>\n",
       "    </tr>\n",
       "    <tr>\n",
       "      <th>4</th>\n",
       "      <td>202005</td>\n",
       "      <td>2020</td>\n",
       "      <td>05</td>\n",
       "      <td>동구</td>\n",
       "      <td>신흥동</td>\n",
       "      <td>숙박 및 음식점업(55-56)</td>\n",
       "      <td>100.0</td>\n",
       "      <td>100.0</td>\n",
       "    </tr>\n",
       "  </tbody>\n",
       "</table>\n",
       "</div>"
      ],
      "text/plain": [
       "     이용년월   이용년 이용월2 시군구명 법정동명          표준산업대분류명  지수_이용건수  지수_이용금액\n",
       "0  202005  2020   05   동구   인동  숙박 및 음식점업(55-56)    100.0    100.0\n",
       "1  202005  2020   05   동구   천동  숙박 및 음식점업(55-56)    100.0    100.0\n",
       "2  202005  2020   05   동구  가오동   도매 및 소매업(45-47)    100.0    100.0\n",
       "3  202005  2020   05   동구  가오동  숙박 및 음식점업(55-56)    100.0    100.0\n",
       "4  202005  2020   05   동구  신흥동  숙박 및 음식점업(55-56)    100.0    100.0"
      ]
     },
     "execution_count": 11,
     "metadata": {},
     "output_type": "execute_result"
    }
   ],
   "source": [
    "df = df[[\"이용년월\",\"이용년\",\"이용월2\",\"시군구명\",\"법정동명\",\"표준산업대분류명\",\"지수_이용건수\",\"지수_이용금액\"]] #컬럼 순서 바꾸기\n",
    "df.head()"
   ]
  },
  {
   "cell_type": "code",
   "execution_count": 14,
   "id": "308e682f",
   "metadata": {},
   "outputs": [],
   "source": [
    "from datetime import datetime\n",
    "\n",
    "df['이용년월']=df['이용년월'].apply(lambda _ : datetime.strptime(_,'%Y%m'))\n",
    "\n",
    "# https://hiio.tistory.com/30"
   ]
  },
  {
   "cell_type": "code",
   "execution_count": 15,
   "id": "9de7651d",
   "metadata": {},
   "outputs": [
    {
     "name": "stdout",
     "output_type": "stream",
     "text": [
      "<class 'pandas.core.frame.DataFrame'>\n",
      "RangeIndex: 17511 entries, 0 to 17510\n",
      "Data columns (total 8 columns):\n",
      " #   Column    Non-Null Count  Dtype         \n",
      "---  ------    --------------  -----         \n",
      " 0   이용년월      17511 non-null  datetime64[ns]\n",
      " 1   이용년       17511 non-null  object        \n",
      " 2   이용월2      17511 non-null  object        \n",
      " 3   시군구명      15929 non-null  object        \n",
      " 4   법정동명      17511 non-null  object        \n",
      " 5   표준산업대분류명  17511 non-null  object        \n",
      " 6   지수_이용건수   17511 non-null  float64       \n",
      " 7   지수_이용금액   17511 non-null  float64       \n",
      "dtypes: datetime64[ns](1), float64(2), object(5)\n",
      "memory usage: 1.1+ MB\n"
     ]
    }
   ],
   "source": [
    "df.info()"
   ]
  },
  {
   "cell_type": "code",
   "execution_count": 17,
   "id": "5ba650bc",
   "metadata": {},
   "outputs": [
    {
     "data": {
      "text/html": [
       "<div>\n",
       "<style scoped>\n",
       "    .dataframe tbody tr th:only-of-type {\n",
       "        vertical-align: middle;\n",
       "    }\n",
       "\n",
       "    .dataframe tbody tr th {\n",
       "        vertical-align: top;\n",
       "    }\n",
       "\n",
       "    .dataframe thead th {\n",
       "        text-align: right;\n",
       "    }\n",
       "</style>\n",
       "<table border=\"1\" class=\"dataframe\">\n",
       "  <thead>\n",
       "    <tr style=\"text-align: right;\">\n",
       "      <th></th>\n",
       "      <th>이용년월</th>\n",
       "      <th>이용년</th>\n",
       "      <th>이용월2</th>\n",
       "      <th>시군구명</th>\n",
       "      <th>법정동명</th>\n",
       "      <th>표준산업대분류명</th>\n",
       "      <th>지수_이용건수</th>\n",
       "      <th>지수_이용금액</th>\n",
       "    </tr>\n",
       "  </thead>\n",
       "  <tbody>\n",
       "    <tr>\n",
       "      <th>0</th>\n",
       "      <td>2020-05-01</td>\n",
       "      <td>2020</td>\n",
       "      <td>05</td>\n",
       "      <td>동구</td>\n",
       "      <td>인동</td>\n",
       "      <td>숙박 및 음식점업(55-56)</td>\n",
       "      <td>100.00</td>\n",
       "      <td>100.00</td>\n",
       "    </tr>\n",
       "    <tr>\n",
       "      <th>1</th>\n",
       "      <td>2020-05-01</td>\n",
       "      <td>2020</td>\n",
       "      <td>05</td>\n",
       "      <td>동구</td>\n",
       "      <td>천동</td>\n",
       "      <td>숙박 및 음식점업(55-56)</td>\n",
       "      <td>100.00</td>\n",
       "      <td>100.00</td>\n",
       "    </tr>\n",
       "    <tr>\n",
       "      <th>2</th>\n",
       "      <td>2020-05-01</td>\n",
       "      <td>2020</td>\n",
       "      <td>05</td>\n",
       "      <td>동구</td>\n",
       "      <td>가오동</td>\n",
       "      <td>도매 및 소매업(45-47)</td>\n",
       "      <td>100.00</td>\n",
       "      <td>100.00</td>\n",
       "    </tr>\n",
       "    <tr>\n",
       "      <th>3</th>\n",
       "      <td>2020-05-01</td>\n",
       "      <td>2020</td>\n",
       "      <td>05</td>\n",
       "      <td>동구</td>\n",
       "      <td>가오동</td>\n",
       "      <td>숙박 및 음식점업(55-56)</td>\n",
       "      <td>100.00</td>\n",
       "      <td>100.00</td>\n",
       "    </tr>\n",
       "    <tr>\n",
       "      <th>4</th>\n",
       "      <td>2020-05-01</td>\n",
       "      <td>2020</td>\n",
       "      <td>05</td>\n",
       "      <td>동구</td>\n",
       "      <td>신흥동</td>\n",
       "      <td>숙박 및 음식점업(55-56)</td>\n",
       "      <td>100.00</td>\n",
       "      <td>100.00</td>\n",
       "    </tr>\n",
       "    <tr>\n",
       "      <th>...</th>\n",
       "      <td>...</td>\n",
       "      <td>...</td>\n",
       "      <td>...</td>\n",
       "      <td>...</td>\n",
       "      <td>...</td>\n",
       "      <td>...</td>\n",
       "      <td>...</td>\n",
       "      <td>...</td>\n",
       "    </tr>\n",
       "    <tr>\n",
       "      <th>17506</th>\n",
       "      <td>2022-04-01</td>\n",
       "      <td>2022</td>\n",
       "      <td>04</td>\n",
       "      <td>계룡시</td>\n",
       "      <td>엄사면</td>\n",
       "      <td>도매 및 소매업(45-47)</td>\n",
       "      <td>180.00</td>\n",
       "      <td>11.78</td>\n",
       "    </tr>\n",
       "    <tr>\n",
       "      <th>17507</th>\n",
       "      <td>2022-04-01</td>\n",
       "      <td>2022</td>\n",
       "      <td>04</td>\n",
       "      <td>계룡시</td>\n",
       "      <td>엄사면</td>\n",
       "      <td>숙박 및 음식점업(55-56)</td>\n",
       "      <td>1150.00</td>\n",
       "      <td>790.37</td>\n",
       "    </tr>\n",
       "    <tr>\n",
       "      <th>17508</th>\n",
       "      <td>2022-04-01</td>\n",
       "      <td>2022</td>\n",
       "      <td>04</td>\n",
       "      <td>계룡시</td>\n",
       "      <td>신도안면</td>\n",
       "      <td>도매 및 소매업(45-47)</td>\n",
       "      <td>315.00</td>\n",
       "      <td>386.49</td>\n",
       "    </tr>\n",
       "    <tr>\n",
       "      <th>17509</th>\n",
       "      <td>2022-04-01</td>\n",
       "      <td>2022</td>\n",
       "      <td>04</td>\n",
       "      <td>계룡시</td>\n",
       "      <td>신도안면</td>\n",
       "      <td>숙박 및 음식점업(55-56)</td>\n",
       "      <td>126.47</td>\n",
       "      <td>249.24</td>\n",
       "    </tr>\n",
       "    <tr>\n",
       "      <th>17510</th>\n",
       "      <td>2022-04-01</td>\n",
       "      <td>2022</td>\n",
       "      <td>04</td>\n",
       "      <td>계룡시</td>\n",
       "      <td>신도안면</td>\n",
       "      <td>보건업 및 사회복지 서비스업(86-87)</td>\n",
       "      <td>200.00</td>\n",
       "      <td>40.29</td>\n",
       "    </tr>\n",
       "  </tbody>\n",
       "</table>\n",
       "<p>17511 rows × 8 columns</p>\n",
       "</div>"
      ],
      "text/plain": [
       "            이용년월   이용년 이용월2 시군구명  법정동명                표준산업대분류명  지수_이용건수  \\\n",
       "0     2020-05-01  2020   05   동구    인동        숙박 및 음식점업(55-56)   100.00   \n",
       "1     2020-05-01  2020   05   동구    천동        숙박 및 음식점업(55-56)   100.00   \n",
       "2     2020-05-01  2020   05   동구   가오동         도매 및 소매업(45-47)   100.00   \n",
       "3     2020-05-01  2020   05   동구   가오동        숙박 및 음식점업(55-56)   100.00   \n",
       "4     2020-05-01  2020   05   동구   신흥동        숙박 및 음식점업(55-56)   100.00   \n",
       "...          ...   ...  ...  ...   ...                     ...      ...   \n",
       "17506 2022-04-01  2022   04  계룡시   엄사면         도매 및 소매업(45-47)   180.00   \n",
       "17507 2022-04-01  2022   04  계룡시   엄사면        숙박 및 음식점업(55-56)  1150.00   \n",
       "17508 2022-04-01  2022   04  계룡시  신도안면         도매 및 소매업(45-47)   315.00   \n",
       "17509 2022-04-01  2022   04  계룡시  신도안면        숙박 및 음식점업(55-56)   126.47   \n",
       "17510 2022-04-01  2022   04  계룡시  신도안면  보건업 및 사회복지 서비스업(86-87)   200.00   \n",
       "\n",
       "       지수_이용금액  \n",
       "0       100.00  \n",
       "1       100.00  \n",
       "2       100.00  \n",
       "3       100.00  \n",
       "4       100.00  \n",
       "...        ...  \n",
       "17506    11.78  \n",
       "17507   790.37  \n",
       "17508   386.49  \n",
       "17509   249.24  \n",
       "17510    40.29  \n",
       "\n",
       "[17511 rows x 8 columns]"
      ]
     },
     "execution_count": 17,
     "metadata": {},
     "output_type": "execute_result"
    }
   ],
   "source": []
  },
  {
   "cell_type": "code",
   "execution_count": 18,
   "id": "e23ddc4f",
   "metadata": {},
   "outputs": [],
   "source": [
    "df = df.drop(columns=['이용년','이용월2'], axis=1) \n",
    "# axis가 '0' 이라면 행 삭제, '1' 이라면 열 삭제 입니다. (default : 0)"
   ]
  },
  {
   "cell_type": "code",
   "execution_count": 20,
   "id": "eb049771",
   "metadata": {},
   "outputs": [
    {
     "name": "stdout",
     "output_type": "stream",
     "text": [
      "<class 'pandas.core.frame.DataFrame'>\n",
      "RangeIndex: 17511 entries, 0 to 17510\n",
      "Data columns (total 6 columns):\n",
      " #   Column    Non-Null Count  Dtype         \n",
      "---  ------    --------------  -----         \n",
      " 0   이용년월      17511 non-null  datetime64[ns]\n",
      " 1   시군구명      15929 non-null  object        \n",
      " 2   법정동명      17511 non-null  object        \n",
      " 3   표준산업대분류명  17511 non-null  object        \n",
      " 4   지수_이용건수   17511 non-null  float64       \n",
      " 5   지수_이용금액   17511 non-null  float64       \n",
      "dtypes: datetime64[ns](1), float64(2), object(3)\n",
      "memory usage: 821.0+ KB\n"
     ]
    }
   ],
   "source": [
    "df.info()"
   ]
  },
  {
   "cell_type": "markdown",
   "id": "d43326c8",
   "metadata": {},
   "source": [
    "# 필요업는 데이터는 다 쳐내고 깔끔하게 내가 원하는 데이터만 정리 완료!\n",
    "# 이상치 제거와 결측값 제거도 진행해보자."
   ]
  },
  {
   "cell_type": "code",
   "execution_count": 32,
   "id": "46d71691",
   "metadata": {
    "scrolled": true
   },
   "outputs": [
    {
     "data": {
      "text/html": [
       "<div>\n",
       "<style scoped>\n",
       "    .dataframe tbody tr th:only-of-type {\n",
       "        vertical-align: middle;\n",
       "    }\n",
       "\n",
       "    .dataframe tbody tr th {\n",
       "        vertical-align: top;\n",
       "    }\n",
       "\n",
       "    .dataframe thead th {\n",
       "        text-align: right;\n",
       "    }\n",
       "</style>\n",
       "<table border=\"1\" class=\"dataframe\">\n",
       "  <thead>\n",
       "    <tr style=\"text-align: right;\">\n",
       "      <th></th>\n",
       "      <th>이용년월</th>\n",
       "      <th>시군구명</th>\n",
       "      <th>법정동명</th>\n",
       "      <th>표준산업대분류명</th>\n",
       "      <th>지수_이용건수</th>\n",
       "      <th>지수_이용금액</th>\n",
       "    </tr>\n",
       "  </thead>\n",
       "  <tbody>\n",
       "    <tr>\n",
       "      <th>0</th>\n",
       "      <td>2020-05-01</td>\n",
       "      <td>동구</td>\n",
       "      <td>인동</td>\n",
       "      <td>숙박 및 음식점업(55-56)</td>\n",
       "      <td>100.0</td>\n",
       "      <td>100.0</td>\n",
       "    </tr>\n",
       "    <tr>\n",
       "      <th>1</th>\n",
       "      <td>2020-05-01</td>\n",
       "      <td>동구</td>\n",
       "      <td>천동</td>\n",
       "      <td>숙박 및 음식점업(55-56)</td>\n",
       "      <td>100.0</td>\n",
       "      <td>100.0</td>\n",
       "    </tr>\n",
       "    <tr>\n",
       "      <th>2</th>\n",
       "      <td>2020-05-01</td>\n",
       "      <td>동구</td>\n",
       "      <td>가오동</td>\n",
       "      <td>도매 및 소매업(45-47)</td>\n",
       "      <td>100.0</td>\n",
       "      <td>100.0</td>\n",
       "    </tr>\n",
       "    <tr>\n",
       "      <th>3</th>\n",
       "      <td>2020-05-01</td>\n",
       "      <td>동구</td>\n",
       "      <td>가오동</td>\n",
       "      <td>숙박 및 음식점업(55-56)</td>\n",
       "      <td>100.0</td>\n",
       "      <td>100.0</td>\n",
       "    </tr>\n",
       "    <tr>\n",
       "      <th>4</th>\n",
       "      <td>2020-05-01</td>\n",
       "      <td>동구</td>\n",
       "      <td>신흥동</td>\n",
       "      <td>숙박 및 음식점업(55-56)</td>\n",
       "      <td>100.0</td>\n",
       "      <td>100.0</td>\n",
       "    </tr>\n",
       "  </tbody>\n",
       "</table>\n",
       "</div>"
      ],
      "text/plain": [
       "        이용년월 시군구명 법정동명          표준산업대분류명  지수_이용건수  지수_이용금액\n",
       "0 2020-05-01   동구   인동  숙박 및 음식점업(55-56)    100.0    100.0\n",
       "1 2020-05-01   동구   천동  숙박 및 음식점업(55-56)    100.0    100.0\n",
       "2 2020-05-01   동구  가오동   도매 및 소매업(45-47)    100.0    100.0\n",
       "3 2020-05-01   동구  가오동  숙박 및 음식점업(55-56)    100.0    100.0\n",
       "4 2020-05-01   동구  신흥동  숙박 및 음식점업(55-56)    100.0    100.0"
      ]
     },
     "execution_count": 32,
     "metadata": {},
     "output_type": "execute_result"
    }
   ],
   "source": [
    "df.head()"
   ]
  },
  {
   "cell_type": "code",
   "execution_count": 69,
   "id": "227ea919",
   "metadata": {},
   "outputs": [
    {
     "data": {
      "text/html": [
       "<div>\n",
       "<style scoped>\n",
       "    .dataframe tbody tr th:only-of-type {\n",
       "        vertical-align: middle;\n",
       "    }\n",
       "\n",
       "    .dataframe tbody tr th {\n",
       "        vertical-align: top;\n",
       "    }\n",
       "\n",
       "    .dataframe thead th {\n",
       "        text-align: right;\n",
       "    }\n",
       "</style>\n",
       "<table border=\"1\" class=\"dataframe\">\n",
       "  <thead>\n",
       "    <tr style=\"text-align: right;\">\n",
       "      <th></th>\n",
       "      <th>지수_이용건수</th>\n",
       "      <th>지수_이용금액</th>\n",
       "    </tr>\n",
       "  </thead>\n",
       "  <tbody>\n",
       "    <tr>\n",
       "      <th>count</th>\n",
       "      <td>17511.000000</td>\n",
       "      <td>17511.000000</td>\n",
       "    </tr>\n",
       "    <tr>\n",
       "      <th>mean</th>\n",
       "      <td>1879.712186</td>\n",
       "      <td>2296.494248</td>\n",
       "    </tr>\n",
       "    <tr>\n",
       "      <th>std</th>\n",
       "      <td>5163.239514</td>\n",
       "      <td>7750.370183</td>\n",
       "    </tr>\n",
       "    <tr>\n",
       "      <th>min</th>\n",
       "      <td>1.570000</td>\n",
       "      <td>0.300000</td>\n",
       "    </tr>\n",
       "    <tr>\n",
       "      <th>25%</th>\n",
       "      <td>109.680000</td>\n",
       "      <td>100.000000</td>\n",
       "    </tr>\n",
       "    <tr>\n",
       "      <th>50%</th>\n",
       "      <td>376.090000</td>\n",
       "      <td>331.100000</td>\n",
       "    </tr>\n",
       "    <tr>\n",
       "      <th>75%</th>\n",
       "      <td>1957.705000</td>\n",
       "      <td>1527.570000</td>\n",
       "    </tr>\n",
       "    <tr>\n",
       "      <th>max</th>\n",
       "      <td>154900.000000</td>\n",
       "      <td>185302.140000</td>\n",
       "    </tr>\n",
       "  </tbody>\n",
       "</table>\n",
       "</div>"
      ],
      "text/plain": [
       "             지수_이용건수        지수_이용금액\n",
       "count   17511.000000   17511.000000\n",
       "mean     1879.712186    2296.494248\n",
       "std      5163.239514    7750.370183\n",
       "min         1.570000       0.300000\n",
       "25%       109.680000     100.000000\n",
       "50%       376.090000     331.100000\n",
       "75%      1957.705000    1527.570000\n",
       "max    154900.000000  185302.140000"
      ]
     },
     "execution_count": 69,
     "metadata": {},
     "output_type": "execute_result"
    }
   ],
   "source": [
    "df.describe()"
   ]
  },
  {
   "cell_type": "code",
   "execution_count": 86,
   "id": "24000840",
   "metadata": {},
   "outputs": [
    {
     "data": {
      "image/png": "[encoded data removed]",
      "text/plain": [
       "<Figure size 720x720 with 1 Axes>"
      ]
     },
     "metadata": {
      "needs_background": "light"
     },
     "output_type": "display_data"
    }
   ],
   "source": [
    "plt.figure(figsize = (10,10))\n",
    "sns.boxplot(data = df[\"지수_이용건수\"], color = 'green')\n",
    "plt.show()"
   ]
  },
  {
   "cell_type": "code",
   "execution_count": 87,
   "id": "8b4059ab",
   "metadata": {},
   "outputs": [
    {
     "data": {
      "image/png": "[encoded data removed]",
      "text/plain": [
       "<Figure size 720x720 with 1 Axes>"
      ]
     },
     "metadata": {
      "needs_background": "light"
     },
     "output_type": "display_data"
    }
   ],
   "source": [
    "plt.figure(figsize = (10,10))\n",
    "sns.boxplot(data = df[\"지수_이용금액\"], color = 'red' )\n",
    "plt.show()"
   ]
  },
  {
   "cell_type": "code",
   "execution_count": 68,
   "id": "0536cf34",
   "metadata": {},
   "outputs": [
    {
     "data": {
      "text/plain": [
       "array(['2020-05-01T00:00:00.000000000', '2020-06-01T00:00:00.000000000',\n",
       "       '2020-07-01T00:00:00.000000000', '2020-08-01T00:00:00.000000000',\n",
       "       '2020-09-01T00:00:00.000000000', '2020-10-01T00:00:00.000000000',\n",
       "       '2020-11-01T00:00:00.000000000', '2020-12-01T00:00:00.000000000',\n",
       "       '2021-01-01T00:00:00.000000000', '2021-02-01T00:00:00.000000000',\n",
       "       '2021-03-01T00:00:00.000000000', '2021-04-01T00:00:00.000000000',\n",
       "       '2021-05-01T00:00:00.000000000', '2021-06-01T00:00:00.000000000',\n",
       "       '2021-07-01T00:00:00.000000000', '2021-08-01T00:00:00.000000000',\n",
       "       '2021-09-01T00:00:00.000000000', '2021-10-01T00:00:00.000000000',\n",
       "       '2021-11-01T00:00:00.000000000', '2021-12-01T00:00:00.000000000',\n",
       "       '2022-01-01T00:00:00.000000000', '2022-02-01T00:00:00.000000000',\n",
       "       '2022-03-01T00:00:00.000000000', '2022-04-01T00:00:00.000000000'],\n",
       "      dtype='datetime64[ns]')"
      ]
     },
     "execution_count": 68,
     "metadata": {},
     "output_type": "execute_result"
    }
   ],
   "source": [
    "df[\"이용년월\"].unique()"
   ]
  },
  {
   "cell_type": "code",
   "execution_count": 81,
   "id": "073ab323",
   "metadata": {},
   "outputs": [
    {
     "data": {
      "image/png": "[encoded data removed]",
      "text/plain": [
       "<Figure size 504x504 with 1 Axes>"
      ]
     },
     "metadata": {
      "needs_background": "light"
     },
     "output_type": "display_data"
    }
   ],
   "source": [
    "plt.figure(figsize = (7,7))\n",
    "# df.plot(kind='scatter',x='이용년월',y='지수_이용금액')\n",
    "\n",
    "plt.scatter(df[\"이용년월\"],df[\"지수_이용금액\"])\n",
    "\n",
    "plt.show()"
   ]
  },
  {
   "cell_type": "code",
   "execution_count": null,
   "id": "30448403",
   "metadata": {},
   "outputs": [],
   "source": []
  },
  {
   "cell_type": "markdown",
   "id": "789665b3",
   "metadata": {},
   "source": [
    "# 이상치 제거하기."
   ]
  },
  {
   "cell_type": "code",
   "execution_count": 95,
   "id": "0e3c40b8",
   "metadata": {},
   "outputs": [],
   "source": [
    "def outliers_iqr(data):\n",
    "    q1,q3 = np.percentile(data, [25,75])\n",
    "    iqr = q3 - q1\n",
    "    lower_bound = q1 - (iqr * 1.5)\n",
    "    upper_bound = q3 + (iqr * 1.5)\n",
    "    \n",
    "    return np.where((data > upper_bound) | (data < lower_bound))"
   ]
  },
  {
   "cell_type": "code",
   "execution_count": 129,
   "id": "e00a30ce",
   "metadata": {},
   "outputs": [],
   "source": [
    "times_outlier_index =  outliers_iqr(df[\"지수_이용건수\"])[0]\n",
    "amount_outlier_index = outliers_iqr(df[\"지수_이용금액\"])[0]"
   ]
  },
  {
   "cell_type": "code",
   "execution_count": 130,
   "id": "f408d6c1",
   "metadata": {},
   "outputs": [
    {
     "data": {
      "text/plain": [
       "350       7633.33\n",
       "377       4833.33\n",
       "384       5475.00\n",
       "391       7775.00\n",
       "442      16066.67\n",
       "           ...   \n",
       "17395     8925.00\n",
       "17405    10050.00\n",
       "17438    14225.00\n",
       "17475     8600.00\n",
       "17476     5366.67\n",
       "Name: 지수_이용건수, Length: 1663, dtype: float64"
      ]
     },
     "execution_count": 130,
     "metadata": {},
     "output_type": "execute_result"
    }
   ],
   "source": [
    "df.loc[times_outlier_index,\"지수_이용건수\"] #이상치 확인"
   ]
  },
  {
   "cell_type": "code",
   "execution_count": 131,
   "id": "491e2672",
   "metadata": {},
   "outputs": [
    {
     "data": {
      "text/plain": [
       "364      25949.04\n",
       "377      13044.66\n",
       "378       4256.18\n",
       "379      10484.74\n",
       "384      12451.03\n",
       "           ...   \n",
       "17405     8972.61\n",
       "17410     3813.85\n",
       "17438    24796.38\n",
       "17475     7407.33\n",
       "17476     6561.18\n",
       "Name: 지수_이용금액, Length: 2034, dtype: float64"
      ]
     },
     "execution_count": 131,
     "metadata": {},
     "output_type": "execute_result"
    }
   ],
   "source": [
    "df.loc[amount_outlier_index,\"지수_이용금액\"]"
   ]
  },
  {
   "cell_type": "code",
   "execution_count": 132,
   "id": "bdd84f8b",
   "metadata": {},
   "outputs": [
    {
     "name": "stdout",
     "output_type": "stream",
     "text": [
      "3697\n"
     ]
    },
    {
     "data": {
      "text/plain": [
       "array([  350,   377,   384, ..., 17438, 17475, 17476])"
      ]
     },
     "execution_count": 132,
     "metadata": {},
     "output_type": "execute_result"
    }
   ],
   "source": [
    "outlier = np.concatenate((times_outlier_index,amount_outlier_index), axis = None)\n",
    "print(len(outlier)) #이상치 개수와 이상치 확인\n",
    "outlier"
   ]
  },
  {
   "cell_type": "code",
   "execution_count": 133,
   "id": "c43b716c",
   "metadata": {},
   "outputs": [],
   "source": [
    "not_outlier_index = [] #for문을 이용하여 이상치가 아닌 데이터들을 not_outlier에 넣기\n",
    "\n",
    "for i in df.index:\n",
    "    if i not in outlier :\n",
    "        not_outlier_index.append(i)"
   ]
  },
  {
   "cell_type": "markdown",
   "id": "2f51d471",
   "metadata": {},
   "source": [
    "# 이상치 제거 요약 결과 "
   ]
  },
  {
   "cell_type": "code",
   "execution_count": 136,
   "id": "1937d233",
   "metadata": {},
   "outputs": [
    {
     "data": {
      "text/html": [
       "<div>\n",
       "<style scoped>\n",
       "    .dataframe tbody tr th:only-of-type {\n",
       "        vertical-align: middle;\n",
       "    }\n",
       "\n",
       "    .dataframe tbody tr th {\n",
       "        vertical-align: top;\n",
       "    }\n",
       "\n",
       "    .dataframe thead th {\n",
       "        text-align: right;\n",
       "    }\n",
       "</style>\n",
       "<table border=\"1\" class=\"dataframe\">\n",
       "  <thead>\n",
       "    <tr style=\"text-align: right;\">\n",
       "      <th></th>\n",
       "      <th>지수_이용건수</th>\n",
       "      <th>지수_이용금액</th>\n",
       "    </tr>\n",
       "  </thead>\n",
       "  <tbody>\n",
       "    <tr>\n",
       "      <th>count</th>\n",
       "      <td>15169.000000</td>\n",
       "      <td>15169.000000</td>\n",
       "    </tr>\n",
       "    <tr>\n",
       "      <th>mean</th>\n",
       "      <td>788.800783</td>\n",
       "      <td>610.261240</td>\n",
       "    </tr>\n",
       "    <tr>\n",
       "      <th>std</th>\n",
       "      <td>1010.484223</td>\n",
       "      <td>789.956763</td>\n",
       "    </tr>\n",
       "    <tr>\n",
       "      <th>min</th>\n",
       "      <td>1.570000</td>\n",
       "      <td>0.300000</td>\n",
       "    </tr>\n",
       "    <tr>\n",
       "      <th>25%</th>\n",
       "      <td>100.000000</td>\n",
       "      <td>100.000000</td>\n",
       "    </tr>\n",
       "    <tr>\n",
       "      <th>50%</th>\n",
       "      <td>253.850000</td>\n",
       "      <td>226.460000</td>\n",
       "    </tr>\n",
       "    <tr>\n",
       "      <th>75%</th>\n",
       "      <td>1191.250000</td>\n",
       "      <td>836.630000</td>\n",
       "    </tr>\n",
       "    <tr>\n",
       "      <th>max</th>\n",
       "      <td>4708.330000</td>\n",
       "      <td>3667.660000</td>\n",
       "    </tr>\n",
       "  </tbody>\n",
       "</table>\n",
       "</div>"
      ],
      "text/plain": [
       "            지수_이용건수       지수_이용금액\n",
       "count  15169.000000  15169.000000\n",
       "mean     788.800783    610.261240\n",
       "std     1010.484223    789.956763\n",
       "min        1.570000      0.300000\n",
       "25%      100.000000    100.000000\n",
       "50%      253.850000    226.460000\n",
       "75%     1191.250000    836.630000\n",
       "max     4708.330000   3667.660000"
      ]
     },
     "execution_count": 136,
     "metadata": {},
     "output_type": "execute_result"
    }
   ],
   "source": [
    "df_clean = df.loc[not_outlier_index]\n",
    "df_clean = df_clean.reset_index(drop = True)\n",
    "df_clean.describe()"
   ]
  },
  {
   "cell_type": "code",
   "execution_count": 138,
   "id": "2814541e",
   "metadata": {},
   "outputs": [
    {
     "data": {
      "image/png": "[encoded data removed]",
      "text/plain": [
       "<Figure size 1800x1800 with 1 Axes>"
      ]
     },
     "metadata": {
      "needs_background": "light"
     },
     "output_type": "display_data"
    }
   ],
   "source": [
    "plt.figure(figsize = (25,25))\n",
    "sns.boxplot(data = df[\"지수_이용건수\"], color = 'green')\n",
    "plt.show()"
   ]
  },
  {
   "cell_type": "markdown",
   "id": "420e4923",
   "metadata": {},
   "source": [
    "# 데이터 분포 형태가 이상치 제거 전과 똑같다고 할 수 있다.. 흠,.,, 육안으로 데이터셋을 확인하였을 때, 유독 지수 이용건수가 딱 100인 정수형 형태의 데이터가 많이 관찰되는데 이용건수가 100이하인 데이터(유의미하지 않은 데이터일 가능성이 높음)들이 훨씬 많아서 위 같은 결과가 나오는 것일 수도 있다. 따라서 100 이하인 데이터들을 필터링 해보고 다시 박스플랏을 그려보도록 한다. \n"
   ]
  },
  {
   "cell_type": "code",
   "execution_count": 168,
   "id": "bb097c24",
   "metadata": {},
   "outputs": [
    {
     "data": {
      "text/html": [
       "<div>\n",
       "<style scoped>\n",
       "    .dataframe tbody tr th:only-of-type {\n",
       "        vertical-align: middle;\n",
       "    }\n",
       "\n",
       "    .dataframe tbody tr th {\n",
       "        vertical-align: top;\n",
       "    }\n",
       "\n",
       "    .dataframe thead th {\n",
       "        text-align: right;\n",
       "    }\n",
       "</style>\n",
       "<table border=\"1\" class=\"dataframe\">\n",
       "  <thead>\n",
       "    <tr style=\"text-align: right;\">\n",
       "      <th></th>\n",
       "      <th>지수_이용건수</th>\n",
       "      <th>지수_이용금액</th>\n",
       "    </tr>\n",
       "  </thead>\n",
       "  <tbody>\n",
       "    <tr>\n",
       "      <th>count</th>\n",
       "      <td>10988.000000</td>\n",
       "      <td>10988.000000</td>\n",
       "    </tr>\n",
       "    <tr>\n",
       "      <th>mean</th>\n",
       "      <td>1060.686453</td>\n",
       "      <td>808.613090</td>\n",
       "    </tr>\n",
       "    <tr>\n",
       "      <th>std</th>\n",
       "      <td>1068.235653</td>\n",
       "      <td>844.194721</td>\n",
       "    </tr>\n",
       "    <tr>\n",
       "      <th>min</th>\n",
       "      <td>100.520000</td>\n",
       "      <td>0.810000</td>\n",
       "    </tr>\n",
       "    <tr>\n",
       "      <th>25%</th>\n",
       "      <td>216.670000</td>\n",
       "      <td>173.515000</td>\n",
       "    </tr>\n",
       "    <tr>\n",
       "      <th>50%</th>\n",
       "      <td>596.440000</td>\n",
       "      <td>452.360000</td>\n",
       "    </tr>\n",
       "    <tr>\n",
       "      <th>75%</th>\n",
       "      <td>1663.217500</td>\n",
       "      <td>1203.445000</td>\n",
       "    </tr>\n",
       "    <tr>\n",
       "      <th>max</th>\n",
       "      <td>4708.330000</td>\n",
       "      <td>3667.660000</td>\n",
       "    </tr>\n",
       "  </tbody>\n",
       "</table>\n",
       "</div>"
      ],
      "text/plain": [
       "            지수_이용건수       지수_이용금액\n",
       "count  10988.000000  10988.000000\n",
       "mean    1060.686453    808.613090\n",
       "std     1068.235653    844.194721\n",
       "min      100.520000      0.810000\n",
       "25%      216.670000    173.515000\n",
       "50%      596.440000    452.360000\n",
       "75%     1663.217500   1203.445000\n",
       "max     4708.330000   3667.660000"
      ]
     },
     "execution_count": 168,
     "metadata": {},
     "output_type": "execute_result"
    }
   ],
   "source": [
    "df_times_clean = df_clean[df_clean[\"지수_이용건수\"] > 100]\n",
    "df_times_clean.describe()"
   ]
  },
  {
   "cell_type": "markdown",
   "id": "604b2990",
   "metadata": {},
   "source": [
    "# 지수이용건수가 100보다 큰 값들로 필터링 한 결과, 위와 같은 결과가 나왔는데, 이용년월이 5월인 데이터들은 아예 사라졌다. 그리고 데이터량도 15000에서 10988로 1/3이 줄은 것을 확인 할 수 있었다. 발급만 하고 이용하지 않은 것을 추측할 수 있다. 이유가 무엇일까?? 5월에는 전부 이용하지 않은 것일까?? "
   ]
  },
  {
   "cell_type": "code",
   "execution_count": 164,
   "id": "029c5b9c",
   "metadata": {},
   "outputs": [
    {
     "data": {
      "text/plain": [
       "<Figure size 1800x1800 with 0 Axes>"
      ]
     },
     "metadata": {},
     "output_type": "display_data"
    },
    {
     "ename": "AttributeError",
     "evalue": "'list' object has no attribute 'info'",
     "output_type": "error",
     "traceback": [
      "\u001b[0;31m---------------------------------------------------------------------------\u001b[0m",
      "\u001b[0;31mAttributeError\u001b[0m                            Traceback (most recent call last)",
      "Input \u001b[0;32mIn [164]\u001b[0m, in \u001b[0;36m<cell line: 4>\u001b[0;34m()\u001b[0m\n\u001b[1;32m      2\u001b[0m \u001b[38;5;66;03m# sns.boxplot(data = df_times_clean[\"지수_이용건수\"])\u001b[39;00m\n\u001b[1;32m      3\u001b[0m plt\u001b[38;5;241m.\u001b[39mshow()\n\u001b[0;32m----> 4\u001b[0m \u001b[43mdf_times_clean\u001b[49m\u001b[38;5;241;43m.\u001b[39;49m\u001b[43minfo\u001b[49m()\n",
      "\u001b[0;31mAttributeError\u001b[0m: 'list' object has no attribute 'info'"
     ]
    }
   ],
   "source": [
    "plt.figure(figsize = (25,25))\n",
    "# sns.boxplot(data = df_times_clean[\"지수_이용건수\"])\n",
    "plt.show()\n",
    "df_times_clean.info()\n",
    "\n"
   ]
  },
  {
   "cell_type": "markdown",
   "id": "ce136fee",
   "metadata": {},
   "source": [
    "# 그래도 똑같이 나온다. y축이 문제인 걸까?"
   ]
  },
  {
   "cell_type": "code",
   "execution_count": null,
   "id": "59a323e2",
   "metadata": {},
   "outputs": [],
   "source": []
  }
 ],
 "metadata": {
  "kernelspec": {
   "display_name": "Python 3 (ipykernel)",
   "language": "python",
   "name": "python3"
  },
  "language_info": {
   "codemirror_mode": {
    "name": "ipython",
    "version": 3
   },
   "file_extension": ".py",
   "mimetype": "text/x-python",
   "name": "python",
   "nbconvert_exporter": "python",
   "pygments_lexer": "ipython3",
   "version": "3.9.12"
  }
 },
 "nbformat": 4,
 "nbformat_minor": 5
}
