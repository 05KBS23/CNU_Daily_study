{
 "cells": [
  {
   "cell_type": "markdown",
   "id": "3c47f1e2",
   "metadata": {},
   "source": [
    "# 4. Seaborn Basic "
   ]
  },
  {
   "cell_type": "code",
   "execution_count": 1,
   "id": "5efa0b26",
   "metadata": {},
   "outputs": [],
   "source": [
    "# seaborn 이란? 맷플랏을 기반으로 더 다양한 시각화 방법을 제공하는 라이브러리\n",
    "#커널밀도,카운트그림, 캣그림, 스트립그림, 히트맵\n",
    "\n",
    "import seaborn as sns"
   ]
  },
  {
   "cell_type": "markdown",
   "id": "9a309a50",
   "metadata": {},
   "source": [
    "# 커널밀도그림  \n",
    "\n",
    "#히스토그램과 같은 연속적인 분포를 곡선화해서 그린 그림  \n",
    "\n",
    "sns.kdeplot()"
   ]
  },
  {
   "cell_type": "code",
   "execution_count": 2,
   "id": "32751877",
   "metadata": {},
   "outputs": [
    {
     "data": {
      "text/plain": [
       "<function matplotlib.pyplot.show(close=None, block=None)>"
      ]
     },
     "execution_count": 2,
     "metadata": {},
     "output_type": "execute_result"
    },
    {
     "data": {
      "image/png": "[encoded data removed]",
      "text/plain": [
       "<Figure size 432x288 with 1 Axes>"
      ]
     },
     "metadata": {
      "needs_background": "light"
     },
     "output_type": "display_data"
    }
   ],
   "source": [
    "import numpy as np\n",
    "import matplotlib.pyplot as plt\n",
    "import pandas as pd\n",
    "x = np.arange(0,22,2)\n",
    "y = np.random.randint(0,20,20)\n",
    "\n",
    "plt.hist(y, bins =x)\n",
    "plt. show"
   ]
  },
  {
   "cell_type": "code",
   "execution_count": 3,
   "id": "df8a79c7",
   "metadata": {},
   "outputs": [
    {
     "data": {
      "image/png": "[encoded data removed]",
      "text/plain": [
       "<Figure size 432x288 with 1 Axes>"
      ]
     },
     "metadata": {
      "needs_background": "light"
     },
     "output_type": "display_data"
    }
   ],
   "source": [
    "sns.kdeplot(y,shade=True)\n",
    "#shade 라는 인자로 색칠 할 수 있음\n",
    "plt.show()"
   ]
  },
  {
   "cell_type": "markdown",
   "id": "e879e044",
   "metadata": {},
   "source": [
    "# 카운트그림(count plot)\n",
    "\n",
    "- 범주형 컬럼의; 빈도수를 시각화 ->groupby 후의 도수를 하는 것과 동일한 효과\n",
    "-sns.countplot()"
   ]
  },
  {
   "cell_type": "code",
   "execution_count": 4,
   "id": "b7ac1a39",
   "metadata": {},
   "outputs": [
    {
     "data": {
      "text/html": [
       "<div>\n",
       "<style scoped>\n",
       "    .dataframe tbody tr th:only-of-type {\n",
       "        vertical-align: middle;\n",
       "    }\n",
       "\n",
       "    .dataframe tbody tr th {\n",
       "        vertical-align: top;\n",
       "    }\n",
       "\n",
       "    .dataframe thead th {\n",
       "        text-align: right;\n",
       "    }\n",
       "</style>\n",
       "<table border=\"1\" class=\"dataframe\">\n",
       "  <thead>\n",
       "    <tr style=\"text-align: right;\">\n",
       "      <th></th>\n",
       "      <th>name</th>\n",
       "      <th>vote</th>\n",
       "    </tr>\n",
       "  </thead>\n",
       "  <tbody>\n",
       "    <tr>\n",
       "      <th>0</th>\n",
       "      <td>andy</td>\n",
       "      <td>True</td>\n",
       "    </tr>\n",
       "    <tr>\n",
       "      <th>1</th>\n",
       "      <td>bob</td>\n",
       "      <td>True</td>\n",
       "    </tr>\n",
       "    <tr>\n",
       "      <th>2</th>\n",
       "      <td>cat</td>\n",
       "      <td>False</td>\n",
       "    </tr>\n",
       "  </tbody>\n",
       "</table>\n",
       "</div>"
      ],
      "text/plain": [
       "   name   vote\n",
       "0  andy   True\n",
       "1   bob   True\n",
       "2   cat  False"
      ]
     },
     "execution_count": 4,
     "metadata": {},
     "output_type": "execute_result"
    }
   ],
   "source": [
    "vote_df =pd.DataFrame({\"name\": ['andy','bob','cat'], \"vote\":[True, True, False]})\n",
    "vote_df"
   ]
  },
  {
   "cell_type": "code",
   "execution_count": 5,
   "id": "266e80fe",
   "metadata": {},
   "outputs": [
    {
     "data": {
      "text/html": [
       "<div>\n",
       "<style scoped>\n",
       "    .dataframe tbody tr th:only-of-type {\n",
       "        vertical-align: middle;\n",
       "    }\n",
       "\n",
       "    .dataframe tbody tr th {\n",
       "        vertical-align: top;\n",
       "    }\n",
       "\n",
       "    .dataframe thead th {\n",
       "        text-align: right;\n",
       "    }\n",
       "</style>\n",
       "<table border=\"1\" class=\"dataframe\">\n",
       "  <thead>\n",
       "    <tr style=\"text-align: right;\">\n",
       "      <th></th>\n",
       "      <th>name</th>\n",
       "    </tr>\n",
       "    <tr>\n",
       "      <th>vote</th>\n",
       "      <th></th>\n",
       "    </tr>\n",
       "  </thead>\n",
       "  <tbody>\n",
       "    <tr>\n",
       "      <th>False</th>\n",
       "      <td>1</td>\n",
       "    </tr>\n",
       "    <tr>\n",
       "      <th>True</th>\n",
       "      <td>2</td>\n",
       "    </tr>\n",
       "  </tbody>\n",
       "</table>\n",
       "</div>"
      ],
      "text/plain": [
       "       name\n",
       "vote       \n",
       "False     1\n",
       "True      2"
      ]
     },
     "execution_count": 5,
     "metadata": {},
     "output_type": "execute_result"
    }
   ],
   "source": [
    "vote_count = vote_df.groupby('vote').count()\n",
    "vote_count"
   ]
  },
  {
   "cell_type": "code",
   "execution_count": 6,
   "id": "3e90c2d9",
   "metadata": {},
   "outputs": [
    {
     "data": {
      "text/plain": [
       "<function matplotlib.pyplot.show(close=None, block=None)>"
      ]
     },
     "execution_count": 6,
     "metadata": {},
     "output_type": "execute_result"
    },
    {
     "data": {
      "image/png": "[encoded data removed]",
      "text/plain": [
       "<Figure size 432x288 with 1 Axes>"
      ]
     },
     "metadata": {
      "needs_background": "light"
     },
     "output_type": "display_data"
    }
   ],
   "source": [
    "plt.bar(x=[False,True], height = vote_count['name'])\n",
    "plt.show"
   ]
  },
  {
   "cell_type": "code",
   "execution_count": 7,
   "id": "c9028e42",
   "metadata": {},
   "outputs": [
    {
     "data": {
      "image/png": "[encoded data removed]",
      "text/plain": [
       "<Figure size 432x288 with 1 Axes>"
      ]
     },
     "metadata": {
      "needs_background": "light"
     },
     "output_type": "display_data"
    }
   ],
   "source": [
    "#sns의 countplot\n",
    "sns.countplot(x=vote_df['vote'])\n",
    "plt.show()"
   ]
  },
  {
   "cell_type": "markdown",
   "id": "d17afe48",
   "metadata": {},
   "source": [
    "# 캣그림(cat plot)\n",
    "-숫자형 변수와 하나 이사으이 범주형 변수의 관계를 보여주는 함수\n",
    "\n",
    "-sns.catplot"
   ]
  },
  {
   "cell_type": "code",
   "execution_count": 8,
   "id": "d37604f4",
   "metadata": {},
   "outputs": [
    {
     "ename": "SyntaxError",
     "evalue": "invalid syntax (884340530.py, line 3)",
     "output_type": "error",
     "traceback": [
      "\u001b[0;36m  Input \u001b[0;32mIn [8]\u001b[0;36m\u001b[0m\n\u001b[0;31m    - 산점도와 유사하게 데이터의 수치를 표현하는 그래프\u001b[0m\n\u001b[0m           ^\u001b[0m\n\u001b[0;31mSyntaxError\u001b[0m\u001b[0;31m:\u001b[0m invalid syntax\n"
     ]
    }
   ],
   "source": [
    "# 스트립그림\n",
    "\n",
    "- 산점도와 유사하게 데이터의 수치를 표현하는 그래프\n",
    "\n",
    "- # sns.stripplot()\n",
    "\n",
    "- swarmplot도 있다 (중복값을 좀 더 세분화해서 보여준다)"
   ]
  },
  {
   "cell_type": "markdown",
   "id": "36fbfb54",
   "metadata": {},
   "source": [
    "# 히트맵\n",
    "#\n",
    "- 데이터의 행렬을 색상으로 표현해주는 그래프\n",
    "\n",
    "- sns.heatmap"
   ]
  },
  {
   "cell_type": "code",
   "execution_count": null,
   "id": "67f69c0f",
   "metadata": {},
   "outputs": [],
   "source": []
  }
 ],
 "metadata": {
  "kernelspec": {
   "display_name": "Python 3 (ipykernel)",
   "language": "python",
   "name": "python3"
  },
  "language_info": {
   "codemirror_mode": {
    "name": "ipython",
    "version": 3
   },
   "file_extension": ".py",
   "mimetype": "text/x-python",
   "name": "python",
   "nbconvert_exporter": "python",
   "pygments_lexer": "ipython3",
   "version": "3.9.12"
  }
 },
 "nbformat": 4,
 "nbformat_minor": 5
}
