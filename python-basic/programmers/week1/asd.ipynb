import numpy as np
import matplotlib.pyplot as plt
import pandas as pd
x = np.arange(0,22,2)
y = np.random.randint(0,20,20)

plt.hist(y, bins =x)
plt. show()


# python3 -m venv venv
# source ./venv/bin/activate
