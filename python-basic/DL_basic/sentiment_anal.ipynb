{
  "nbformat": 4,
  "nbformat_minor": 0,
  "metadata": {
    "colab": {
      "provenance": []
    },
    "kernelspec": {
      "name": "python3",
      "display_name": "Python 3"
    },
    "language_info": {
      "name": "python"
    }
  },
  "cells": [
    {
      "cell_type": "code",
      "source": [
        "!pip install numpy"
      ],
      "metadata": {
        "colab": {
          "base_uri": "https://localhost:8080/"
        },
        "id": "X1Jc1NamybWS",
        "outputId": "0a549e59-7930-46da-d645-326cea801c9b"
      },
      "execution_count": null,
      "outputs": [
        {
          "output_type": "stream",
          "name": "stdout",
          "text": [
            "Looking in indexes: https://pypi.org/simple, https://us-python.pkg.dev/colab-wheels/public/simple/\n",
            "Requirement already satisfied: numpy in /usr/local/lib/python3.9/dist-packages (1.22.4)\n"
          ]
        }
      ]
    },
    {
      "cell_type": "code",
      "execution_count": null,
      "metadata": {
        "colab": {
          "base_uri": "https://localhost:8080/"
        },
        "id": "klaJ65gztwFQ",
        "outputId": "7729a07f-e3f1-4003-eb46-538b3853f5bc"
      },
      "outputs": [
        {
          "output_type": "stream",
          "name": "stderr",
          "text": [
            "[nltk_data] Downloading package stopwords to /root/nltk_data...\n",
            "[nltk_data]   Package stopwords is already up-to-date!\n"
          ]
        }
      ],
      "source": [
        "\n",
        "import pandas as pd\n",
        "import numpy as np\n",
        "from keras.models import Sequential\n",
        "from keras.layers import Dense\n",
        "import os,re\n",
        "import tensorflow as tf\n",
        "from sklearn.feature_extraction.text import TfidfVectorizer\n",
        "from sklearn.model_selection import train_test_split\n",
        "from bs4 import BeautifulSoup\n",
        "\n",
        "from nltk.corpus import stopwords\n",
        "\n",
        "import nltk\n",
        "nltk.download('stopwords')\n",
        "stop_words = set(stopwords.words('english'))\n",
        "\n",
        "\n",
        "data_set = tf.keras.utils.get_file(\n",
        "    fname=\"imdb.tar.gz\", #download file name\n",
        "    origin=\"http://ai.stanford.edu/~amaas/data/sentiment/aclImdb_v1.tar.gz\",\n",
        "    extract = True\n",
        ")"
      ]
    },
    {
      "cell_type": "code",
      "source": [
        "def directory_data(directory):\n",
        "  data = {}\n",
        "  data[\"review\"] = []\n",
        "  for file_path in os.listdir(directory):\n",
        "    with open(os.path.join(directory, file_path), \"r\", encoding='utf-8') as file:\n",
        "      data[\"review\"].append(file.read())\n",
        "  return pd.DataFrame.from_dict(data)"
      ],
      "metadata": {
        "id": "1wzKodG1wr8O"
      },
      "execution_count": null,
      "outputs": []
    },
    {
      "cell_type": "code",
      "source": [
        "def data(directory):\n",
        "  pos_df = directory_data(os.path.join(directory, \"pos\"))\n",
        "  neg_df = directory_data(os.path.join(directory, \"neg\"))\n",
        "  pos_df[\"sentiment\"] = 1\n",
        "  neg_df[\"sentiment\"] = 0\n",
        "  return pd.concat([pos_df, neg_df])"
      ],
      "metadata": {
        "id": "q22x5K9lwt52"
      },
      "execution_count": null,
      "outputs": []
    },
    {
      "cell_type": "code",
      "source": [
        "train_df = data(os.path.join(os.path.dirname(data_set), \"aclImdb\", \"train\"))\n",
        "test_df = data(os.path.join(os.path.dirname(data_set), \"aclImdb\", \"test\"))\n",
        "imdb_pd = pd.concat([train_df, test_df])\n"
      ],
      "metadata": {
        "id": "wDPWq0JRwlvF"
      },
      "execution_count": null,
      "outputs": []
    },
    {
      "cell_type": "code",
      "source": [
        "#알파벳 제외하고 날리기\n",
        "\n",
        "def preprocessing(review, remove_stopwords = False):#불용어 없는 경우 if이하 작업 없이 그대로 출력\n",
        "  review_text = BeautifulSoup(review, 'html5lib').get_text() #HTML 태그를 제거하고 텍스트만 뽑아냄\n",
        "  review_text = re.sub(\"[^a-zA-Z]\", \" \",review)#영문자 이외의 모든 것을 공백 처리\n",
        "  if remove_stopwords:# 불용어가 존재할 경우\n",
        "    words = review_text.split()# 기존 텍스트를 모두 리스트 처리\n",
        "    words = [ w for w in words if not w in stop_words]# 불용어가 아닌 문자들아 재 리스트화\n",
        "    review_text = ' '.join(words)#리스트에 있는 단어들은 join으로 다시 결합\n",
        "  return review_text"
      ],
      "metadata": {
        "id": "UdWCO06WxWuv"
      },
      "execution_count": null,
      "outputs": []
    },
    {
      "cell_type": "code",
      "source": [],
      "metadata": {
        "id": "tB0B6q4MJaTp"
      },
      "execution_count": null,
      "outputs": []
    },
    {
      "cell_type": "code",
      "source": [
        "reviews = list(['i am so happy'])\n",
        "# reviews = list(imdb_pd['review'])\n",
        "\n",
        "\n",
        "clean_reviews = []\n",
        "\n",
        "for review in reviews:\n",
        "  clean_reviews.append(preprocessing(review,True))\n",
        "print(clean_reviews[0])\n",
        "\n"
      ],
      "metadata": {
        "colab": {
          "base_uri": "https://localhost:8080/"
        },
        "id": "e0Fa5HMm24ka",
        "outputId": "e876ca36-2d41-476b-be5a-de896372a9a7"
      },
      "execution_count": null,
      "outputs": [
        {
          "output_type": "stream",
          "name": "stdout",
          "text": [
            "happy\n"
          ]
        }
      ]
    },
    {
      "cell_type": "code",
      "source": [
        "# clean 데이터 df로 만들기\n",
        "clean_train_df = pd.DataFrame( { 'review': clean_reviews, 'sentiment' : imdb_pd['sentiment']})\n",
        "\n",
        "reviews = list(clean_train_df['review'])\n",
        "\n",
        "sentiment = list(clean_train_df['sentiment'])"
      ],
      "metadata": {
        "id": "N-mdb3ku5OXT"
      },
      "execution_count": null,
      "outputs": []
    },
    {
      "cell_type": "code",
      "source": [
        "clean_train_df.head()"
      ],
      "metadata": {
        "colab": {
          "base_uri": "https://localhost:8080/",
          "height": 206
        },
        "id": "kKOZRzJ-67mk",
        "outputId": "08fddae9-58f2-4831-f891-05785d3d4542"
      },
      "execution_count": null,
      "outputs": [
        {
          "output_type": "execute_result",
          "data": {
            "text/plain": [
              "                                              review  sentiment\n",
              "0  Trailers movie may show scenes violence non ma...          1\n",
              "1  I sense mix confusion varying degrees personal...          1\n",
              "2  Brando plays ace jet pilot back shooting MiGs ...          1\n",
              "3  The planning episodes bit dull reached desert ...          1\n",
              "4  A prequel imagined Battlestar Galactica series...          1"
            ],
            "text/html": [
              "\n",
              "  <div id=\"df-ab8276d8-324d-436a-b5fe-8168026377a5\">\n",
              "    <div class=\"colab-df-container\">\n",
              "      <div>\n",
              "<style scoped>\n",
              "    .dataframe tbody tr th:only-of-type {\n",
              "        vertical-align: middle;\n",
              "    }\n",
              "\n",
              "    .dataframe tbody tr th {\n",
              "        vertical-align: top;\n",
              "    }\n",
              "\n",
              "    .dataframe thead th {\n",
              "        text-align: right;\n",
              "    }\n",
              "</style>\n",
              "<table border=\"1\" class=\"dataframe\">\n",
              "  <thead>\n",
              "    <tr style=\"text-align: right;\">\n",
              "      <th></th>\n",
              "      <th>review</th>\n",
              "      <th>sentiment</th>\n",
              "    </tr>\n",
              "  </thead>\n",
              "  <tbody>\n",
              "    <tr>\n",
              "      <th>0</th>\n",
              "      <td>Trailers movie may show scenes violence non ma...</td>\n",
              "      <td>1</td>\n",
              "    </tr>\n",
              "    <tr>\n",
              "      <th>1</th>\n",
              "      <td>I sense mix confusion varying degrees personal...</td>\n",
              "      <td>1</td>\n",
              "    </tr>\n",
              "    <tr>\n",
              "      <th>2</th>\n",
              "      <td>Brando plays ace jet pilot back shooting MiGs ...</td>\n",
              "      <td>1</td>\n",
              "    </tr>\n",
              "    <tr>\n",
              "      <th>3</th>\n",
              "      <td>The planning episodes bit dull reached desert ...</td>\n",
              "      <td>1</td>\n",
              "    </tr>\n",
              "    <tr>\n",
              "      <th>4</th>\n",
              "      <td>A prequel imagined Battlestar Galactica series...</td>\n",
              "      <td>1</td>\n",
              "    </tr>\n",
              "  </tbody>\n",
              "</table>\n",
              "</div>\n",
              "      <button class=\"colab-df-convert\" onclick=\"convertToInteractive('df-ab8276d8-324d-436a-b5fe-8168026377a5')\"\n",
              "              title=\"Convert this dataframe to an interactive table.\"\n",
              "              style=\"display:none;\">\n",
              "        \n",
              "  <svg xmlns=\"http://www.w3.org/2000/svg\" height=\"24px\"viewBox=\"0 0 24 24\"\n",
              "       width=\"24px\">\n",
              "    <path d=\"M0 0h24v24H0V0z\" fill=\"none\"/>\n",
              "    <path d=\"M18.56 5.44l.94 2.06.94-2.06 2.06-.94-2.06-.94-.94-2.06-.94 2.06-2.06.94zm-11 1L8.5 8.5l.94-2.06 2.06-.94-2.06-.94L8.5 2.5l-.94 2.06-2.06.94zm10 10l.94 2.06.94-2.06 2.06-.94-2.06-.94-.94-2.06-.94 2.06-2.06.94z\"/><path d=\"M17.41 7.96l-1.37-1.37c-.4-.4-.92-.59-1.43-.59-.52 0-1.04.2-1.43.59L10.3 9.45l-7.72 7.72c-.78.78-.78 2.05 0 2.83L4 21.41c.39.39.9.59 1.41.59.51 0 1.02-.2 1.41-.59l7.78-7.78 2.81-2.81c.8-.78.8-2.07 0-2.86zM5.41 20L4 18.59l7.72-7.72 1.47 1.35L5.41 20z\"/>\n",
              "  </svg>\n",
              "      </button>\n",
              "      \n",
              "  <style>\n",
              "    .colab-df-container {\n",
              "      display:flex;\n",
              "      flex-wrap:wrap;\n",
              "      gap: 12px;\n",
              "    }\n",
              "\n",
              "    .colab-df-convert {\n",
              "      background-color: #E8F0FE;\n",
              "      border: none;\n",
              "      border-radius: 50%;\n",
              "      cursor: pointer;\n",
              "      display: none;\n",
              "      fill: #1967D2;\n",
              "      height: 32px;\n",
              "      padding: 0 0 0 0;\n",
              "      width: 32px;\n",
              "    }\n",
              "\n",
              "    .colab-df-convert:hover {\n",
              "      background-color: #E2EBFA;\n",
              "      box-shadow: 0px 1px 2px rgba(60, 64, 67, 0.3), 0px 1px 3px 1px rgba(60, 64, 67, 0.15);\n",
              "      fill: #174EA6;\n",
              "    }\n",
              "\n",
              "    [theme=dark] .colab-df-convert {\n",
              "      background-color: #3B4455;\n",
              "      fill: #D2E3FC;\n",
              "    }\n",
              "\n",
              "    [theme=dark] .colab-df-convert:hover {\n",
              "      background-color: #434B5C;\n",
              "      box-shadow: 0px 1px 3px 1px rgba(0, 0, 0, 0.15);\n",
              "      filter: drop-shadow(0px 1px 2px rgba(0, 0, 0, 0.3));\n",
              "      fill: #FFFFFF;\n",
              "    }\n",
              "  </style>\n",
              "\n",
              "      <script>\n",
              "        const buttonEl =\n",
              "          document.querySelector('#df-ab8276d8-324d-436a-b5fe-8168026377a5 button.colab-df-convert');\n",
              "        buttonEl.style.display =\n",
              "          google.colab.kernel.accessAllowed ? 'block' : 'none';\n",
              "\n",
              "        async function convertToInteractive(key) {\n",
              "          const element = document.querySelector('#df-ab8276d8-324d-436a-b5fe-8168026377a5');\n",
              "          const dataTable =\n",
              "            await google.colab.kernel.invokeFunction('convertToInteractive',\n",
              "                                                     [key], {});\n",
              "          if (!dataTable) return;\n",
              "\n",
              "          const docLinkHtml = 'Like what you see? Visit the ' +\n",
              "            '<a target=\"_blank\" href=https://colab.research.google.com/notebooks/data_table.ipynb>data table notebook</a>'\n",
              "            + ' to learn more about interactive tables.';\n",
              "          element.innerHTML = '';\n",
              "          dataTable['output_type'] = 'display_data';\n",
              "          await google.colab.output.renderOutput(dataTable, element);\n",
              "          const docLink = document.createElement('div');\n",
              "          docLink.innerHTML = docLinkHtml;\n",
              "          element.appendChild(docLink);\n",
              "        }\n",
              "      </script>\n",
              "    </div>\n",
              "  </div>\n",
              "  "
            ]
          },
          "metadata": {},
          "execution_count": 36
        }
      ]
    },
    {
      "cell_type": "code",
      "source": [],
      "metadata": {
        "id": "oEM9XgzzLIfL"
      },
      "execution_count": null,
      "outputs": []
    },
    {
      "cell_type": "code",
      "source": [
        "list_reviews = list(clean_train_df['review'])\n",
        "list_sentiments = list(clean_train_df['sentiment'])\n",
        "\n",
        "\n",
        "vectorizer = TfidfVectorizer(min_df = 0.0, analyzer = 'char',\n",
        "                            sublinear_tf =True, ngram_range = (1,3), max_features =5000)\n",
        "\n",
        "X = vectorizer.fit_transform(list_reviews)\n",
        "y = np.array(list_sentiments)\n",
        "                            \n",
        "                            "
      ],
      "metadata": {
        "id": "EiceGXfF8wqH"
      },
      "execution_count": null,
      "outputs": []
    },
    {
      "cell_type": "code",
      "source": [
        "X_train, X_test, Y_train, Y_test = train_test_split(X, y, test_size = 0.2, random_state = 42)\n",
        "\n",
        "model = Sequential()\n",
        "\n",
        "model.add(Dense(1, activation = 'sigmoid'))\n",
        "model.compile(loss = 'binary_crossentropy', optimizer = 'sgd', metrics = 'accuracy')\n",
        "\n",
        "\n",
        "model.fit(X_train.toarray(), Y_train,epochs = 50, verbose = 1)"
      ],
      "metadata": {
        "colab": {
          "base_uri": "https://localhost:8080/"
        },
        "id": "iNj0eOAf-Jrn",
        "outputId": "2bb257a2-8f74-44a8-e1f0-6a18678766bc"
      },
      "execution_count": null,
      "outputs": [
        {
          "output_type": "stream",
          "name": "stdout",
          "text": [
            "Epoch 1/50\n",
            "1250/1250 [==============================] - 7s 4ms/step - loss: 0.6910 - accuracy: 0.5694\n",
            "Epoch 2/50\n",
            "1250/1250 [==============================] - 6s 5ms/step - loss: 0.6871 - accuracy: 0.6794\n",
            "Epoch 3/50\n",
            "1250/1250 [==============================] - 6s 5ms/step - loss: 0.6832 - accuracy: 0.7374\n",
            "Epoch 4/50\n",
            "1250/1250 [==============================] - 7s 6ms/step - loss: 0.6794 - accuracy: 0.7614\n",
            "Epoch 5/50\n",
            "1250/1250 [==============================] - 4s 3ms/step - loss: 0.6756 - accuracy: 0.7749\n",
            "Epoch 6/50\n",
            "1250/1250 [==============================] - 5s 4ms/step - loss: 0.6719 - accuracy: 0.7842\n",
            "Epoch 7/50\n",
            "1250/1250 [==============================] - 6s 5ms/step - loss: 0.6683 - accuracy: 0.7861\n",
            "Epoch 8/50\n",
            "1250/1250 [==============================] - 4s 3ms/step - loss: 0.6648 - accuracy: 0.7901\n",
            "Epoch 9/50\n",
            "1250/1250 [==============================] - 3s 2ms/step - loss: 0.6613 - accuracy: 0.7949\n",
            "Epoch 10/50\n",
            "1250/1250 [==============================] - 4s 3ms/step - loss: 0.6579 - accuracy: 0.7953\n",
            "Epoch 11/50\n",
            "1250/1250 [==============================] - 3s 2ms/step - loss: 0.6546 - accuracy: 0.7975\n",
            "Epoch 12/50\n",
            "1250/1250 [==============================] - 3s 2ms/step - loss: 0.6513 - accuracy: 0.8002\n",
            "Epoch 13/50\n",
            "1250/1250 [==============================] - 4s 3ms/step - loss: 0.6481 - accuracy: 0.7996\n",
            "Epoch 14/50\n",
            "1250/1250 [==============================] - 4s 3ms/step - loss: 0.6450 - accuracy: 0.7991\n",
            "Epoch 15/50\n",
            "1250/1250 [==============================] - 3s 2ms/step - loss: 0.6419 - accuracy: 0.8030\n",
            "Epoch 16/50\n",
            "1250/1250 [==============================] - 3s 2ms/step - loss: 0.6388 - accuracy: 0.8024\n",
            "Epoch 17/50\n",
            "1250/1250 [==============================] - 3s 2ms/step - loss: 0.6358 - accuracy: 0.8037\n",
            "Epoch 18/50\n",
            "1250/1250 [==============================] - 4s 3ms/step - loss: 0.6329 - accuracy: 0.8051\n",
            "Epoch 19/50\n",
            "1250/1250 [==============================] - 3s 2ms/step - loss: 0.6300 - accuracy: 0.8048\n",
            "Epoch 20/50\n",
            "1250/1250 [==============================] - 3s 2ms/step - loss: 0.6272 - accuracy: 0.8059\n",
            "Epoch 21/50\n",
            "1250/1250 [==============================] - 3s 2ms/step - loss: 0.6244 - accuracy: 0.8058\n",
            "Epoch 22/50\n",
            "1250/1250 [==============================] - 3s 3ms/step - loss: 0.6217 - accuracy: 0.8065\n",
            "Epoch 23/50\n",
            "1250/1250 [==============================] - 4s 3ms/step - loss: 0.6190 - accuracy: 0.8076\n",
            "Epoch 24/50\n",
            "1250/1250 [==============================] - 3s 2ms/step - loss: 0.6164 - accuracy: 0.8074\n",
            "Epoch 25/50\n",
            "1250/1250 [==============================] - 3s 2ms/step - loss: 0.6138 - accuracy: 0.8085\n",
            "Epoch 26/50\n",
            "1250/1250 [==============================] - 3s 2ms/step - loss: 0.6112 - accuracy: 0.8093\n",
            "Epoch 27/50\n",
            "1250/1250 [==============================] - 4s 3ms/step - loss: 0.6087 - accuracy: 0.8102\n",
            "Epoch 28/50\n",
            "1250/1250 [==============================] - 3s 2ms/step - loss: 0.6062 - accuracy: 0.8098\n",
            "Epoch 29/50\n",
            "1250/1250 [==============================] - 3s 2ms/step - loss: 0.6038 - accuracy: 0.8102\n",
            "Epoch 30/50\n",
            "1250/1250 [==============================] - 3s 2ms/step - loss: 0.6014 - accuracy: 0.8105\n",
            "Epoch 31/50\n",
            "1250/1250 [==============================] - 3s 3ms/step - loss: 0.5991 - accuracy: 0.8112\n",
            "Epoch 32/50\n",
            "1250/1250 [==============================] - 3s 2ms/step - loss: 0.5968 - accuracy: 0.8118\n",
            "Epoch 33/50\n",
            "1250/1250 [==============================] - 3s 2ms/step - loss: 0.5945 - accuracy: 0.8124\n",
            "Epoch 34/50\n",
            "1250/1250 [==============================] - 4s 3ms/step - loss: 0.5923 - accuracy: 0.8127\n",
            "Epoch 35/50\n",
            "1250/1250 [==============================] - 3s 3ms/step - loss: 0.5901 - accuracy: 0.8130\n",
            "Epoch 36/50\n",
            "1250/1250 [==============================] - 4s 3ms/step - loss: 0.5879 - accuracy: 0.8135\n",
            "Epoch 37/50\n",
            "1250/1250 [==============================] - 3s 2ms/step - loss: 0.5858 - accuracy: 0.8145\n",
            "Epoch 38/50\n",
            "1250/1250 [==============================] - 3s 2ms/step - loss: 0.5837 - accuracy: 0.8147\n",
            "Epoch 39/50\n",
            "1250/1250 [==============================] - 3s 2ms/step - loss: 0.5816 - accuracy: 0.8147\n",
            "Epoch 40/50\n",
            "1250/1250 [==============================] - 3s 3ms/step - loss: 0.5796 - accuracy: 0.8153\n",
            "Epoch 41/50\n",
            "1250/1250 [==============================] - 3s 2ms/step - loss: 0.5776 - accuracy: 0.8151\n",
            "Epoch 42/50\n",
            "1250/1250 [==============================] - 3s 2ms/step - loss: 0.5756 - accuracy: 0.8157\n",
            "Epoch 43/50\n",
            "1250/1250 [==============================] - 3s 2ms/step - loss: 0.5736 - accuracy: 0.8156\n",
            "Epoch 44/50\n",
            "1250/1250 [==============================] - 4s 3ms/step - loss: 0.5717 - accuracy: 0.8168\n",
            "Epoch 45/50\n",
            "1250/1250 [==============================] - 3s 2ms/step - loss: 0.5698 - accuracy: 0.8169\n",
            "Epoch 46/50\n",
            "1250/1250 [==============================] - 3s 2ms/step - loss: 0.5680 - accuracy: 0.8171\n",
            "Epoch 47/50\n",
            "1250/1250 [==============================] - 3s 2ms/step - loss: 0.5661 - accuracy: 0.8180\n",
            "Epoch 48/50\n",
            "1250/1250 [==============================] - 3s 3ms/step - loss: 0.5643 - accuracy: 0.8183\n",
            "Epoch 49/50\n",
            "1250/1250 [==============================] - 3s 3ms/step - loss: 0.5625 - accuracy: 0.8181\n",
            "Epoch 50/50\n",
            "1250/1250 [==============================] - 3s 2ms/step - loss: 0.5608 - accuracy: 0.8188\n"
          ]
        },
        {
          "output_type": "execute_result",
          "data": {
            "text/plain": [
              "<keras.callbacks.History at 0x7f628aee86d0>"
            ]
          },
          "metadata": {},
          "execution_count": 46
        }
      ]
    },
    {
      "cell_type": "code",
      "source": [
        "_, accuracy = model.evaluate(X_test.toarray(), Y_test)\n",
        "print('Accuracy: ', accuracy)"
      ],
      "metadata": {
        "colab": {
          "base_uri": "https://localhost:8080/"
        },
        "id": "PxpHg5tdBUSx",
        "outputId": "9550e878-b0f4-41e0-de70-ff29cb6c9e8c"
      },
      "execution_count": null,
      "outputs": [
        {
          "output_type": "stream",
          "name": "stdout",
          "text": [
            "313/313 [==============================] - 1s 2ms/step - loss: 0.5609 - accuracy: 0.8157\n",
            "Accuracy:  0.8156999945640564\n"
          ]
        }
      ]
    },
    {
      "cell_type": "code",
      "source": [
        "sentence = 'I dissatisfied about this movie. It was fun at first ten minutes, but not in else.'\n",
        "clean_sen = preprocessing(sentence, True)\n",
        "clean_sen\n",
        "\n",
        "vec_sen = vectorizer.transform([clean_sen])\n",
        "vec_sen\n",
        "\n",
        "pred = model.predict(vec_sen.toarray())\n",
        "result = np.where(pred >=0.5, 1, 0)\n",
        "print(pred, result)"
      ],
      "metadata": {
        "colab": {
          "base_uri": "https://localhost:8080/"
        },
        "id": "dNBtqk0XL5ww",
        "outputId": "f233ce67-d98c-4163-b67d-9bfebbe21e52"
      },
      "execution_count": null,
      "outputs": [
        {
          "output_type": "stream",
          "name": "stdout",
          "text": [
            "1/1 [==============================] - 0s 55ms/step\n",
            "[[0.4782511]] [[0]]\n"
          ]
        }
      ]
    }
  ]
}