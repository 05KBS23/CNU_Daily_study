{
  "nbformat": 4,
  "nbformat_minor": 0,
  "metadata": {
    "colab": {
      "provenance": []
    },
    "kernelspec": {
      "name": "python3",
      "display_name": "Python 3"
    },
    "language_info": {
      "name": "python"
    }
  },
  "cells": [
    {
      "cell_type": "code",
      "execution_count": null,
      "metadata": {
        "id": "FgKpbcxBH75U"
      },
      "outputs": [],
      "source": [
        "!pip install feedparser\n",
        "!pip install newspaper3k\n",
        "!pip install konlpy\n",
        "!pip install bs4\n",
        "import feedparser\n",
        "from newspaper import Article\n",
        "from konlpy.tag import Okt\n",
        "from bs4 import BeautifulSoup\n",
        "import numpy as np\n",
        "from collections import Counter\n",
        "from operator import eq\n",
        "from bs4 import BeautifulSoup\n",
        "from sklearn.feature_extraction.text import TfidfVectorizer\n",
        "from sklearn.metrics.pairwise import cosine_similarity"
      ]
    },
    {
      "cell_type": "code",
      "source": [
        "urls = [\"http://rss.etnews.com/Section901.xml\", \n",
        "        \"http://rss.etnews.com/Section902.xml\",\n",
        "        \"http://rss.etnews.com/Section903.xml\", \n",
        "        \"http://rss.etnews.com/Section904.xml\"]\n",
        "\n",
        "def crawl_rss(urls):\n",
        "  array_rss = []\n",
        "  link_rss = set()\n",
        "  for url in urls:\n",
        "    print(\"[Crawl RSS]\", url)\n",
        "    parse_rss = feedparser.parse(url)\n",
        "    for p in parse_rss.entries:\n",
        "      if p.link not in link_rss:\n",
        "        array_rss.append({'title':p.title, 'link':p.link})\n",
        "        link_rss.add(p.link)\n",
        "      else:\n",
        "        print(\"중복된 제목 :\", p.title) \n",
        "  return array_rss\n",
        "\n",
        "# [단계#1] 모든 RSS파일(xml형식)을 돌아다니며 기사의 제목/link 추출\n",
        "list_articles = crawl_rss(urls)\n",
        "print(list_articles[0]) # 첫번째 기사 출력"
      ],
      "metadata": {
        "colab": {
          "base_uri": "https://localhost:8080/"
        },
        "id": "_1VIDJyfLFNT",
        "outputId": "aa77dc48-5ebb-4764-be44-95eaa9017a5a"
      },
      "execution_count": null,
      "outputs": [
        {
          "output_type": "stream",
          "name": "stdout",
          "text": [
            "[Crawl RSS]  http://rss.etnews.com/Section901.xml\n",
            "[Crawl RSS]  http://rss.etnews.com/Section902.xml\n",
            "[Crawl RSS]  http://rss.etnews.com/Section903.xml\n",
            "중복된 제목 : 삼성전자·삼성디스플레이 '마이크로 OLED'로 뭉친다\n",
            "중복된 제목 : KT 투자시계 '스톱'… ICT 생태계 초비상\n",
            "중복된 제목 : PC 금융보안인증 SW, 北 해킹 루트 활용\n",
            "중복된 제목 : 글로벌 해킹 조직 락빗 \"국세청 모든 정보, 4월 1일 공개할 것\"\n",
            "중복된 제목 : 상반기 공공 최대 클라우드 사업, 삼성SDS가 수주\n",
            "[Crawl RSS]  http://rss.etnews.com/Section904.xml\n",
            "중복된 제목 : '생물학적 자녀만 550명'…정자 너무 많이 기증한 네덜란드 남성\n",
            "중복된 제목 : 이스라엘서 6000년전 대형 낚싯바늘 발굴...\"상어잡이용\"\n",
            "중복된 제목 : 러시아 도심 하늘에 나타난 정체불명 '검은 고리'\n",
            "중복된 제목 : 데이트 후 사라진 1억3000만원...아르헨 '검은 과부' 주의보\n",
            "중복된 제목 : 'K-칩스법' 국회 본회의 통과…선거제 개편 전원위도 첫발\n",
            "중복된 제목 : 상반기 공공 최대 클라우드 사업, 삼성SDS가 수주\n",
            "중복된 제목 : 글로벌 해킹 조직 락빗 \"국세청 모든 정보, 4월 1일 공개할 것\"\n",
            "중복된 제목 : [Bett 2023] AI 활용부터 안전·보안까지…교육 디지털 혁신 '가속'\n",
            "중복된 제목 : 동운아나텍, 메타 벤더 등록...XR 시장 진출 교두보 마련\n",
            "중복된 제목 : 尹, USTR 대표 접견 \"반도체법·IRA 우리 기업 배려 해달라\"\n",
            "중복된 제목 : 'SMP 상한제' 내달 재시행 조건 충족…업계 \"전력수요 적어 효과 없다\" 반발\n",
            "중복된 제목 : 코웨이 매트리스 '나홀로 성장'\n",
            "중복된 제목 : 개인투자조합 요건 강화에 액셀러레이터 울상\n",
            "중복된 제목 : 바디프랜드 '허리 통증 완화 의료기기' 홈 헬스케어 시장 잡는다\n",
            "중복된 제목 : 삼성전자·삼성디스플레이 '마이크로 OLED'로 뭉친다\n",
            "중복된 제목 : KT 투자시계 '스톱'… ICT 생태계 초비상\n",
            "중복된 제목 : 상반기 공공 최대 클라우드 사업, 삼성SDS vs SK㈜ C&C 격돌\n",
            "중복된 제목 : “네이버페이 싸게 팝니다”…당근마켓서 사기 극성\n",
            "중복된 제목 : [서울모빌리티쇼]\"지능화된 이동 혁명\"…163개사 참가·21종 신차 출품\n",
            "중복된 제목 : 이태식 과총 회장, '7월 한인 과학기술자대회 개최...결속 다지고 과기 비전 제시할 것'\n",
            "중복된 제목 : 채택 빠른 인텔 '사파이어래피즈'...\"시스템 개발 전 세대 대비 80% 증가\"\n",
            "중복된 제목 : 하이트진로, '켈리·테라' 투톱 전략...\"맥주 1위 탈환 나선다\"\n",
            "중복된 제목 : 디지털세 과세 시스템 만든다…국세청, 사업 착수\n",
            "중복된 제목 : [카카오 쇼핑톡]“확 바뀐 '쇼핑탭'에서 편리하고 합리적인 쇼핑 즐기세요!”\n",
            "중복된 제목 : 마블 키운 펄머터 회장 해고됐다…\"디즈니 사업부로 흡수\"\n",
            "중복된 제목 : 한동훈 장관, '대장동 50억 클럽 특검' 반대…\"수사 방해될 수 있어\"\n",
            "중복된 제목 : 문체부, 만화 '검정고무신' 불공정계약 진상조사 착수\n",
            "중복된 제목 : \"車 넘어 연결된 이동 시대로\"…2023 서울모빌리티쇼 개막\n",
            "중복된 제목 : \"후지산 폭발시, 3시간만에 도쿄 마비\"…日, 9년 만에 대피 계획 전면 수정\n",
            "중복된 제목 : PC 금융보안인증 SW, 北 해킹 루트 활용\n",
            "{'title': \"'생물학적 자녀만 550명'…정자 너무 많이 기증한 네덜란드 남성\", 'link': 'https://www.etnews.com/20230330000326'}\n"
          ]
        }
      ]
    },
    {
      "cell_type": "code",
      "source": [
        "def crawl_article(url, language='ko'):\n",
        "  print(\"[Crawl Article] \", url)\n",
        "  a = Article(url, language = language)\n",
        "  a.download()\n",
        "  a.parse()\n",
        "  text = BeautifulSoup(a.text,\"html5lib\").get_text\n",
        "  return a.title, a.text\n",
        "\n",
        "def preprocessing(text):\n",
        "  text_artivle = BeautifulSoup(text).get_text()\n",
        "  return text_article\n",
        "\n",
        "\n",
        "# [단계#2] 모든 link를 돌아다니며 본문text 추출\n",
        "for article in list_articles:\n",
        "  _, text = crawl_article(article['link'])\n",
        "  article['text'] = text\n",
        "print(list_articles[0]) # 첫번째 기사 출력"
      ],
      "metadata": {
        "colab": {
          "base_uri": "https://localhost:8080/"
        },
        "id": "QPtla5wMLRHD",
        "outputId": "1976e8e0-6fb5-46e6-8cd7-036262ddec51"
      },
      "execution_count": null,
      "outputs": [
        {
          "output_type": "stream",
          "name": "stdout",
          "text": [
            "[Crawl Article]  https://www.etnews.com/20230330000326\n",
            "[Crawl Article]  https://www.etnews.com/20230330000309\n",
            "[Crawl Article]  https://www.etnews.com/20230330000283\n",
            "[Crawl Article]  https://www.etnews.com/20230330000244\n",
            "[Crawl Article]  https://www.etnews.com/20230330000316\n",
            "[Crawl Article]  https://www.etnews.com/20230330000323\n",
            "[Crawl Article]  https://www.etnews.com/20230330000167\n",
            "[Crawl Article]  https://www.etnews.com/20230330000143\n",
            "[Crawl Article]  https://www.etnews.com/20230330000290\n",
            "[Crawl Article]  https://www.etnews.com/20230330000241\n",
            "[Crawl Article]  https://www.etnews.com/20230330000193\n",
            "[Crawl Article]  https://www.etnews.com/20230330000095\n",
            "[Crawl Article]  https://www.etnews.com/20230330000086\n",
            "[Crawl Article]  https://www.etnews.com/20230330000069\n",
            "[Crawl Article]  https://www.etnews.com/20230330000287\n",
            "[Crawl Article]  https://www.etnews.com/20230330000282\n",
            "[Crawl Article]  https://www.etnews.com/20230330000277\n",
            "[Crawl Article]  https://www.etnews.com/20230330000259\n",
            "[Crawl Article]  https://www.etnews.com/20230330000255\n",
            "[Crawl Article]  https://www.etnews.com/20230330000249\n",
            "[Crawl Article]  https://www.etnews.com/20230330000225\n",
            "[Crawl Article]  https://www.etnews.com/20230330000216\n",
            "[Crawl Article]  https://www.etnews.com/20230330000201\n",
            "[Crawl Article]  https://www.etnews.com/20230330000198\n",
            "[Crawl Article]  https://www.etnews.com/20230330000205\n",
            "[Crawl Article]  https://www.etnews.com/20230330000196\n",
            "[Crawl Article]  https://www.etnews.com/20230330000188\n",
            "[Crawl Article]  https://www.etnews.com/20230330000177\n",
            "[Crawl Article]  https://www.etnews.com/20230330000153\n",
            "[Crawl Article]  https://www.etnews.com/20230330000267\n",
            "[Crawl Article]  https://www.etnews.com/20230331000069\n",
            "[Crawl Article]  https://www.etnews.com/20230331000068\n",
            "[Crawl Article]  https://www.etnews.com/20230331000066\n",
            "[Crawl Article]  https://www.etnews.com/20230331000065\n",
            "[Crawl Article]  https://www.etnews.com/20230331000048\n",
            "[Crawl Article]  https://www.etnews.com/20230331000004\n",
            "[Crawl Article]  https://www.etnews.com/20230331000063\n",
            "[Crawl Article]  https://www.etnews.com/20230331000062\n",
            "[Crawl Article]  https://www.etnews.com/20230331000064\n",
            "[Crawl Article]  https://www.etnews.com/20230331000061\n",
            "[Crawl Article]  https://www.etnews.com/20230331000060\n",
            "[Crawl Article]  https://www.etnews.com/20230331000059\n",
            "[Crawl Article]  https://www.etnews.com/20230331000058\n",
            "[Crawl Article]  https://www.etnews.com/20230331000057\n",
            "[Crawl Article]  https://www.etnews.com/20230331000053\n",
            "[Crawl Article]  https://www.etnews.com/20230331000055\n",
            "[Crawl Article]  https://www.etnews.com/20230331000051\n",
            "[Crawl Article]  https://www.etnews.com/20230331000052\n",
            "[Crawl Article]  https://www.etnews.com/20230331000049\n",
            "[Crawl Article]  https://www.etnews.com/20230331000050\n",
            "[Crawl Article]  https://www.etnews.com/20230331000046\n",
            "[Crawl Article]  https://www.etnews.com/20230331000047\n",
            "[Crawl Article]  https://www.etnews.com/20230331000045\n",
            "[Crawl Article]  https://www.etnews.com/20230331000044\n",
            "[Crawl Article]  https://www.etnews.com/20230331000043\n",
            "[Crawl Article]  https://www.etnews.com/20230331000029\n",
            "[Crawl Article]  https://www.etnews.com/20230331000042\n",
            "[Crawl Article]  https://www.etnews.com/20230331000039\n",
            "[Crawl Article]  https://www.etnews.com/20230331000038\n",
            "[Crawl Article]  https://www.etnews.com/20230331000036\n",
            "[Crawl Article]  https://www.etnews.com/20230327000197\n",
            "[Crawl Article]  https://www.etnews.com/20230328000256\n",
            "[Crawl Article]  https://www.etnews.com/20230329000198\n",
            "[Crawl Article]  https://www.etnews.com/20230328000233\n",
            "[Crawl Article]  https://www.etnews.com/20230329000260\n",
            "[Crawl Article]  https://www.etnews.com/20230327000219\n",
            "[Crawl Article]  https://www.etnews.com/20230328000258\n",
            "[Crawl Article]  https://www.etnews.com/20230327000179\n",
            "[Crawl Article]  https://www.etnews.com/20230329000123\n",
            "[Crawl Article]  https://www.etnews.com/20230328000286\n",
            "[Crawl Article]  https://www.etnews.com/20230327000252\n",
            "[Crawl Article]  https://www.etnews.com/20230327000256\n",
            "[Crawl Article]  https://www.etnews.com/20230328000150\n",
            "[Crawl Article]  https://www.etnews.com/20230328000056\n",
            "[Crawl Article]  https://www.etnews.com/20230329000132\n",
            "{'title': \"'생물학적 자녀만 550명'…정자 너무 많이 기증한 네덜란드 남성\", 'link': 'https://www.etnews.com/20230330000326', 'text': '네덜란드의 한 남성이 가이드라인을 위반해가며 정자를 과도하게 기증했다가 현지 인권단체로부터 피소됐다. 그의 정자로 낳은 아이만 550명에 달해 근친상간 위험을 키웠다는 것이 소송 이유다.\\n\\n\\n\\n27일(현지시간) 영국 일간 텔레그래프에 따르면, 정자 기증으로 태어난 아이들의 출생지를 찾도록 돕는 네덜란드 인권단체 도너카인드 재단(이하 재단)은 최근 조나단 제이콥 마이어(41)를 상대로 정자 기증을 즉시 중단하고, 저장된 정자를 폐기할 것을 청구하는 민사 소송을 제기했다.\\n\\n\\n\\n네덜란드 정자 클리닉의 가이드라인에 따르면 기증자의 정자로 태어난 아이들간의 근친상간을 막기 위해 최대 12명의 여성을 대상으로 정자를 기부할 수 있으며, 25명의 자녀만을 낳을 수 있다. 다만 이는 법적 구속력이 없는 권고에 불과하다.\\n\\n\\n\\n재단 측에 따르면 마이어는 2007년부터 네덜란드를 포함해 덴마크, 우크라이나 등 다수의 유럽 국가를 돌아다니면서 여러 불임 클리닉과 각종 인터넷 사이트를 통해 정자를 기증했으며, 이로 인해 태어난 아이는 최소 550명으로 추산된다.\\n\\n\\n\\n그가 정자를 기증한 불임 클리닉은 최소 13곳이다. 그 중 11곳이 네덜란드에 있는 것으로 조사됐다. 그는 불임 클리닉의 비싼 비용을 감당하기 어려운 사람들을 겨냥해 정자 기증 관련 웹사이트에도 홍보해 개인적으로도 정자를 기증하기도 했다.\\n\\n\\n\\n2017년 그의 정자로 태어난 아이만 최소 102명인 것으로 집계되면서 그는 정자 기증 ‘블랙리스트’에 올랐다. 그러나 마이어는 ‘루드’라는 가명을 사용해가며 정자 기증을 계속해왔다.\\n\\n\\n\\n이번 소송에 앞서 재단 측은 이미 수차례 정자기증 중단을 요청해왔으나 받아들여지지 않았다. “사람들이 아이를 갖는 꿈을 실현하도록 돕고, 전세계에 내 아이들이 있는 것을 보고 싶다”는 것이 그의 거절 사유다.\\n\\n\\n\\n정자 기증을 받은 여성들은 혹여나 자신의 아이가 마이어의 자식일까봐 불안에 떨고 있다고 재단 측은 전했다.\\n\\n\\n\\n그의 정자를 기증받아 아이를 출산한 한 여성은 “그가 이미 100명 이상의 자녀를 가졌다는 것을 알았다면 그의 정자를 선택하지 않았을 것”이라며 “내 아이에게 일어날 수 있는 일(근친상간)을 생각하면 속이 메스꺼워진다”고 말했다.\\n\\n\\n\\n전자신문인터넷 서희원 기자 (shw@etnews.com)'}\n"
          ]
        }
      ]
    },
    {
      "cell_type": "code",
      "source": [
        "# 리스트에 있는 모든 기사를 돌아다니며teXt를 뽑는다.\n",
        "text_articles = [article['text'] for article in list_articles]\n",
        " #TF-IDF를 근거로 주어진 문장을 벡터로 만드는 객체를 생성한다.\n",
        "\n",
        "encoder = TfidfVectorizer(max_features = 5000)\n",
        "#fit_trans로 5000사이즈 벡터로 기사변환\n",
        "# 아래 tfidf_matrix는 이러한 모든 기사를 5000사이즈 벡터로 변환한 결과르 ㄹ보관\n",
        "\n",
        "\n",
        "matrix_vectors = encoder.fit_transform(text_articles) # nㄱ애의 중복되지 않은 기사가 검색되었고 각 기사는 5천 사이즈 벡터로 변환\n",
        "\n",
        "print(matrix_vectors.shape) # 첫번쨰 기사의 벡터\n",
        "\n",
        "#첫번쨰 기사의 벡터와 다른 기사들을 다 비교한것\n",
        "#i는 아래 프린트에서 비교하는 문서들을 순자로 번호표 여주기 위함\n",
        "for i, vector in enumerate(tfidf_matrix[1:]):\n",
        "  print(f\"[1] and [{i+2 : 3d}]\",   cosine_similarity(tfidf_matrix[0], vector)[0][0]\n",
        ")"
      ],
      "metadata": {
        "colab": {
          "base_uri": "https://localhost:8080/"
        },
        "id": "vxe0TE13P1s-",
        "outputId": "0081ec71-c91c-429b-bdfa-90d48cca9f9a"
      },
      "execution_count": null,
      "outputs": [
        {
          "output_type": "stream",
          "name": "stdout",
          "text": [
            "(75, 5000)\n",
            "[1] and [  2] 0.032009588859119795\n",
            "[1] and [  3] 0.05607924498085781\n",
            "[1] and [  4] 0.05257951656857042\n",
            "[1] and [  5] 0.005057998626586577\n",
            "[1] and [  6] 0.010173519147610027\n",
            "[1] and [  7] 0.02510695824450663\n",
            "[1] and [  8] 0.030722137415140162\n",
            "[1] and [  9] 0.011933954679267224\n",
            "[1] and [ 10] 0.015277174188271585\n",
            "[1] and [ 11] 0.005612010721338257\n",
            "[1] and [ 12] 0.0056644129046919825\n",
            "[1] and [ 13] 0.02251231699137698\n",
            "[1] and [ 14] 0.002127521942839256\n",
            "[1] and [ 15] 0.013810897479235073\n",
            "[1] and [ 16] 0.010645777551591878\n",
            "[1] and [ 17] 0.008280546922487544\n",
            "[1] and [ 18] 0.024034025627722624\n",
            "[1] and [ 19] 0.010974831553611225\n",
            "[1] and [ 20] 0.009181077737524987\n",
            "[1] and [ 21] 0.01124067576811858\n",
            "[1] and [ 22] 0.011994766049921831\n",
            "[1] and [ 23] 0.013464867636143877\n",
            "[1] and [ 24] 0.006898663452062432\n",
            "[1] and [ 25] 0.02966874637253883\n",
            "[1] and [ 26] 0.012355457373947809\n",
            "[1] and [ 27] 0.018521061908199892\n",
            "[1] and [ 28] 0.007459536196418395\n",
            "[1] and [ 29] 0.05151525188738793\n",
            "[1] and [ 30] 0.01830143540739467\n",
            "[1] and [ 31] 0.012348022356773132\n",
            "[1] and [ 32] 0.010079745916795937\n",
            "[1] and [ 33] 0.010448608257977237\n",
            "[1] and [ 34] 0.006155353921391249\n",
            "[1] and [ 35] 0.008615911183548586\n",
            "[1] and [ 36] 0.006787495929579414\n",
            "[1] and [ 37] 0.007107099449713773\n",
            "[1] and [ 38] 0.0050185740080381895\n",
            "[1] and [ 39] 0.010275650827664804\n",
            "[1] and [ 40] 0.013947470287393245\n",
            "[1] and [ 41] 0.016301219448833608\n",
            "[1] and [ 42] 0.006965739554112422\n",
            "[1] and [ 43] 0.012716923025359308\n",
            "[1] and [ 44] 0.01687358063568191\n",
            "[1] and [ 45] 0.010464474058142135\n",
            "[1] and [ 46] 0.008027630127428534\n",
            "[1] and [ 47] 0.009949109723439384\n",
            "[1] and [ 48] 0.0009223510420208321\n",
            "[1] and [ 49] 0.013874204273566837\n",
            "[1] and [ 50] 0.019156409534570266\n",
            "[1] and [ 51] 0.009855039832251871\n",
            "[1] and [ 52] 0.003973519680846175\n",
            "[1] and [ 53] 0.0055199140647581475\n",
            "[1] and [ 54] 0.005963635612140668\n",
            "[1] and [ 55] 0.011449807528815362\n",
            "[1] and [ 56] 0.006629241589624224\n",
            "[1] and [ 57] 0.03186445090464211\n",
            "[1] and [ 58] 0.016382348225413117\n",
            "[1] and [ 59] 0.0077715660159047815\n",
            "[1] and [ 60] 0.02003212838915873\n",
            "[1] and [ 61] 0.01602107828307557\n",
            "[1] and [ 62] 0.020300484040897727\n",
            "[1] and [ 63] 0.020432425162511616\n",
            "[1] and [ 64] 0.0061616540858132115\n",
            "[1] and [ 65] 0.016901147380685943\n",
            "[1] and [ 66] 0.008797159236670906\n",
            "[1] and [ 67] 0.014798081304758138\n",
            "[1] and [ 68] 0.027138845391599702\n",
            "[1] and [ 69] 0.007105167547051222\n",
            "[1] and [ 70] 0.0037382270127188652\n",
            "[1] and [ 71] 0.009531614644711755\n",
            "[1] and [ 72] 0.017696932174516768\n",
            "[1] and [ 73] 0.008027588466358732\n",
            "[1] and [ 74] 0.012508358995760391\n"
          ]
        }
      ]
    },
    {
      "cell_type": "code",
      "source": [
        "# # [단계#3] 모든 본문text에서 명사 & (키워드, 빈도수) 추출\n",
        "\n",
        "# def get_keywords(text, nKeywords=10): #키워드ㅜ 추출함수, 디폴트로 10개의 키워드 추출 지정\n",
        "#   spliter = Okt() # konlpy에 의해서 문장을 형태소 별로 쪼갬\n",
        "#   nouns = spliter.nouns(text) #spliter에서 nouns함수를 불러서 텍스트를 넣으면 그 text의 명사만 추출\n",
        "#   count = Counter(nouns)  #추출된 명사들의 출현ㅇ빈도 추출\n",
        "#   list_keywords = []\n",
        "#   for n, c in count.most_common(nKeywords):#가장 출현빈도가 높은 명사부터 순차적으로 10번출력\n",
        "#     item = {'keyword': n, 'count': c} #출력할 떄는 {'keyword' , 'count'} 형식으로 출력\n",
        "#     list_keywords.append(item) #출력된 item들을 list_keywords에 저장\n",
        "#   return list_keywords #10회 반복이 끝나면 이를 list_ketwords에저장\n",
        "\n",
        "# for article in list_articles: #모든기사를 돌아다니며 text에서 명사를 추출하고 빈도에 따라 키워드 / 빈도 ㅊ출\n",
        "#   keywords = get_keywords(article['text']) #text를 get_keywords함수에ㅐ 넣고 결과를 그keyword와 coount로 받음(10걔)\n",
        "#   article['keywords'] = keywords #위의 함수 결과값인 키워드?빈도의 쌍을 KEYWORds로 만들어저장\n",
        "# print(list_articles[0]) # 첫번째 기사 출력"
      ],
      "metadata": {
        "colab": {
          "base_uri": "https://localhost:8080/"
        },
        "id": "SK0e_fpmLVmg",
        "outputId": "31436e1e-18a2-43a5-f99f-2368263b18bf"
      },
      "execution_count": null,
      "outputs": [
        {
          "output_type": "stream",
          "name": "stdout",
          "text": [
            "{'title': \"코리아모빌리티, 세계 최초 허브리스 전기자전거 개발…글로벌 무대 '씽씽'\", 'link': 'https://www.etnews.com/20230330000102', 'text': \"스마트 모빌리티 스타트업 코리아모빌리티(대표 박정석)는 5월부터 3년간 총 1만5000여대의 바큇살 없는 미래형 허브리스 전기자전거 '코모 바이크(Komo Bike)'를 유럽에 수출할 계획이라고 30일 밝혔다.\\n\\n이 회사가 세계 최초로 개발한 코모 바이크는 바큇살이 있는 전기자전거와는 달리 휠 중앙이 뚫려 있다. 기존 전기자전거에 비해 무게중심이 낮아 주행 안정성이 높고 자체 개발한 헤어핀 모터와 인버터를 재택해 에너지 효율이 뛰어나다. 본딩 공법으로 제조해 기존 용접 대비 강도를 3배 이상 높였다. 주행거리도 늘어 1번 충전으로 약 100㎞ 거리를 이동할 수 있다. 국산 슈퍼커패시터 배터리를 적용해 30분만에 완충이 가능하다.\\n\\n\\n\\n코리아모빌리티는 유럽 수출을 위해 코모 바이크 유럽인증(CE)을 획득했다. 허브리스 타입 전기자전거 제품으로 CE인증을 받은 것도 세계에서 처음이다. 지난해 10월에는 전 세계 12개국에 지사와 법인을 운영 중인 STX와 3년 총판 계약을 맺고, 연간 5000여대 전기자전거를 유럽에 수출할 예정이다.\\n\\n\\n\\n박정석 대표는 “유럽은 자전거가 생활화돼 전기자전거가 자동차처럼 등록 관리된다”며 “유럽인들은 튼튼하면서 주행거리가 긴 친환경 전기자전거를 많이 찾는다”고 말했다.\\n\\n\\n\\n코리아모빌리티는 전기 자전거에 이어 전기오토바이 시장에도 출사표를 냈다. 최대 시속 90㎞에 주행거리 약 70㎞ 정도의 '코모 모터사이클(Komo Motorcycle)'을 출시했다. 자체 개발한 이륜차용 '헤어핀 모터'를 사용해 모터 효율을 극대했다.\\n\\n\\n\\n대부분 오토바이 차량에서 사용하는 허브모터는 모터 효율이 70% 후반에서 80% 초·중반 사이다. 코리아모빌리티가 개발한 '헤어핀 모터'는 정교한 구조 설계로 96% 이상의 효율을 보인다. 모빌리티의 주행력을 향상시키고 안정감을 주기에 실용성 있는 제품을 원하는 커뮤터들에게 크게 인기를 끌 것으로 보인다.\\n\\n\\n\\n국내에는 아직 전기자전거나 전기오토바이용 소형 모빌리티 파워모터를 생산하는 업체가 없으며 대부분 중국에서 수입하고 있다.\\n\\n\\n\\n전남 장성 나노산단에 파워모터 전용생산라인을 구축해 유럽수출용 250W급 미드모터를 하반기부터 생산한다. 내년부터는 국내용 500W까지 생산해 자사 제품에 장착하고 기존 전기자전거 업체나 전기오토바이 회사에 공급할 예정이다.\\n\\n\\n\\n코리아모빌리티가 주요 부품을 국산화하고 해외 시장에 활발히 진출한 데는 광주테크노파크(TP)가 출자한 지스타트업 대학창업뉴딜펀드와 광주엔젤투자매칭펀드로부터 총 7억6000만원을 유치한 것이 큰 힘이 됐다.\\n\\n\\n\\n박 대표는 “광주TP의 투자유치 컨설팅과 투자자 매칭 IR 행사 등의 투자연계 지원을 통해 투자역량을 강화했다”며 “이를 기반으로 확보한 투자금을 통해 제품 양산 설비를 확충하고 세계 시장으로 사업 영역을 확대하고 있다”고 강조했다.\\n\\n\\n\\n그는 “누구도 걷지 않은 길을 걸으며 새로운 제품을 탄생시킨다는 것은 매우 어려운 길”이라며 “아마존 쇼핑몰 진출을 추진하고 있으며 완성한 허브리스 전기자전거를 기초로 드론 바이크도 개발해 꾸준한 성장이 기대되는 퍼스널모빌리티 시장의 강자로 발전해 가겠다”고 덧붙였다.\\n\\n\\n\\n광주=김한식기자 hskim@etnews.com\", 'keywords': [{'keyword': '전기자전거', 'count': 10}, {'keyword': '모빌리티', 'count': 9}, {'keyword': '모터', 'count': 9}, {'keyword': '유럽', 'count': 6}, {'keyword': '코리아', 'count': 5}, {'keyword': '개발', 'count': 5}, {'keyword': '주행', 'count': 5}, {'keyword': '제품', 'count': 5}, {'keyword': '허브', 'count': 4}, {'keyword': '코모', 'count': 4}]}\n"
          ]
        }
      ]
    },
    {
      "cell_type": "code",
      "source": [
        "# # [단계#4] 검색어를 입력받아서 그 검색어를 가지고 있는 기사 출력\n",
        "# query = input()\n",
        "# def search_articles(query, list_keywords): # 쿼리가 키워드 리스트에 있으면 횟수출력\n",
        "#   nWords = 0 # 아래의 if문에 걸리지 않으면(즉, 쿼리가 키워드에 없음) 0\n",
        "#   for kw in list_keywords: # 키워드 리스트 검색\n",
        "#     noun = kw['keyword']  #쿼리와 동일한 키워드가 존재한다면\n",
        "#     count = kw['count'] #nWords는 그 회쉬(count)로ㅓ 갱신\n",
        "#     if eq(query, noun): # 쿼리와 동일한 키워드가 존재한다면\n",
        "#       nWords = count # nWords는 그 회수(count)로 갱신 \n",
        "#   return nWords #결과적으로 쿼리의 출현회수를 출력\n",
        "# for article in list_articles: #모든 기사를 돌아다니며 입력받은 쿼리가 몇 번 나오는지 검색(쿼리가 키워드일경우에만)\n",
        "#   nQuery = search_articles(query, article['keywords'])\n",
        "#   if nQuery != 0: # 쿼리가 키워드에 존재하지 않은 문서는 출력하지 않음\n",
        "#     print('[TF]:', nQuery, '[Title]:', article['title'], '[URL]:', article['link'])"
      ],
      "metadata": {
        "colab": {
          "base_uri": "https://localhost:8080/"
        },
        "id": "K4mTxKq4MP9Z",
        "outputId": "a2c88b80-4ebf-46c8-b97b-8674dea0e37b"
      },
      "execution_count": null,
      "outputs": [
        {
          "output_type": "stream",
          "name": "stdout",
          "text": [
            "존\n",
            "[TF]: 12 [Title]: 지옥에서 온 애견인 '존 윅 4', 말은 더 줄이고 총은 더 쏜다 [URL]: https://www.etnews.com/20230330000009\n",
            "[TF]: 12 [Title]: 지옥에서 온 애견인 '존 윅 4', 말은 더 줄이고 총은 더 쏜다 [URL]: https://www.etnews.com/20230330000009\n"
          ]
        }
      ]
    },
    {
      "cell_type": "code",
      "source": [],
      "metadata": {
        "id": "LPqeCVvVgXIv"
      },
      "execution_count": null,
      "outputs": []
    }
  ]
}