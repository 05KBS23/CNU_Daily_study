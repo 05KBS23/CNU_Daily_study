{
 "cells": [
  {
   "cell_type": "markdown",
   "id": "2f0a5f35-f316-4fe9-8fc2-a93727ac4a40",
   "metadata": {},
   "source": [
    " [주의]\n",
    " * 본 자료는 임의로 가공된 응급 출동 데이터입니다. 의료적 소견이 전혀 없는 자료임을 참고해 주세요\n",
    " * 임의로 가공된 증상 및 중증 질환 결과를 할용하여, 증상에 따른 환자의 중증 질환을 예측하고자 합니다.\n"
   ]
  },
  {
   "cell_type": "markdown",
   "id": "793bc074-3992-44cc-992e-714e7560f0a7",
   "metadata": {},
   "source": [
    "[미션] \n",
    " * 증상 데이터 (Features) 와 중증 질환(Target)의 특징 파악 (단변량 분석)\n",
    " * 증상 데이터 (Features) 와 중증 질환(Target) 간의 관계 분석 (이변량 분석)\n",
    " * AI 모델링을 위한 데이터 전처리 "
   ]
  },
  {
   "cell_type": "code",
   "execution_count": 1,
   "id": "5f22b044",
   "metadata": {},
   "outputs": [],
   "source": [
    "# 라이브러리 불러오기 \n",
    "\n",
    "import pandas as pd\n",
    "import numpy as np\n",
    "\n",
    "import matplotlib.pyplot as plt\n",
    "import seaborn as sns\n",
    "\n",
    "import scipy.stats as spst\n",
    "\n",
    "plt.rcParams['font.family'] = 'Malgun Gothic'"
   ]
  },
  {
   "cell_type": "code",
   "execution_count": 2,
   "id": "f954f5fb",
   "metadata": {},
   "outputs": [
    {
     "data": {
      "text/html": [
       "<div>\n",
       "<style scoped>\n",
       "    .dataframe tbody tr th:only-of-type {\n",
       "        vertical-align: middle;\n",
       "    }\n",
       "\n",
       "    .dataframe tbody tr th {\n",
       "        vertical-align: top;\n",
       "    }\n",
       "\n",
       "    .dataframe thead th {\n",
       "        text-align: right;\n",
       "    }\n",
       "</style>\n",
       "<table border=\"1\" class=\"dataframe\">\n",
       "  <thead>\n",
       "    <tr style=\"text-align: right;\">\n",
       "      <th></th>\n",
       "      <th>ID</th>\n",
       "      <th>출동일시</th>\n",
       "      <th>이름</th>\n",
       "      <th>성별</th>\n",
       "      <th>나이</th>\n",
       "      <th>체온</th>\n",
       "      <th>수축기 혈압</th>\n",
       "      <th>이완기 혈압</th>\n",
       "      <th>호흡 곤란</th>\n",
       "      <th>간헐성 경련</th>\n",
       "      <th>...</th>\n",
       "      <th>통증</th>\n",
       "      <th>만지면 아프다</th>\n",
       "      <th>무감각</th>\n",
       "      <th>마비</th>\n",
       "      <th>현기증</th>\n",
       "      <th>졸도</th>\n",
       "      <th>말이 어눌해졌다</th>\n",
       "      <th>시력이 흐려짐</th>\n",
       "      <th>중증질환</th>\n",
       "      <th>이송 시간</th>\n",
       "    </tr>\n",
       "  </thead>\n",
       "  <tbody>\n",
       "    <tr>\n",
       "      <th>0</th>\n",
       "      <td>P10312</td>\n",
       "      <td>2023-02-01</td>\n",
       "      <td>배**</td>\n",
       "      <td>남성</td>\n",
       "      <td>96.0</td>\n",
       "      <td>36.6</td>\n",
       "      <td>95.0</td>\n",
       "      <td>68.0</td>\n",
       "      <td>0.0</td>\n",
       "      <td>0.0</td>\n",
       "      <td>...</td>\n",
       "      <td>0.0</td>\n",
       "      <td>0.0</td>\n",
       "      <td>1.0</td>\n",
       "      <td>0.0</td>\n",
       "      <td>0.0</td>\n",
       "      <td>0.0</td>\n",
       "      <td>0.0</td>\n",
       "      <td>0.0</td>\n",
       "      <td>뇌경색</td>\n",
       "      <td>69.0</td>\n",
       "    </tr>\n",
       "    <tr>\n",
       "      <th>1</th>\n",
       "      <td>P10895</td>\n",
       "      <td>2023-02-01</td>\n",
       "      <td>라**</td>\n",
       "      <td>남성</td>\n",
       "      <td>98.0</td>\n",
       "      <td>36.5</td>\n",
       "      <td>113.0</td>\n",
       "      <td>82.0</td>\n",
       "      <td>0.0</td>\n",
       "      <td>1.0</td>\n",
       "      <td>...</td>\n",
       "      <td>0.0</td>\n",
       "      <td>0.0</td>\n",
       "      <td>0.0</td>\n",
       "      <td>1.0</td>\n",
       "      <td>0.0</td>\n",
       "      <td>0.0</td>\n",
       "      <td>1.0</td>\n",
       "      <td>0.0</td>\n",
       "      <td>뇌출혈</td>\n",
       "      <td>69.0</td>\n",
       "    </tr>\n",
       "    <tr>\n",
       "      <th>2</th>\n",
       "      <td>P11019</td>\n",
       "      <td>2023-02-01</td>\n",
       "      <td>당**</td>\n",
       "      <td>여성</td>\n",
       "      <td>26.0</td>\n",
       "      <td>36.2</td>\n",
       "      <td>102.0</td>\n",
       "      <td>69.0</td>\n",
       "      <td>1.0</td>\n",
       "      <td>0.0</td>\n",
       "      <td>...</td>\n",
       "      <td>0.0</td>\n",
       "      <td>0.0</td>\n",
       "      <td>0.0</td>\n",
       "      <td>1.0</td>\n",
       "      <td>0.0</td>\n",
       "      <td>0.0</td>\n",
       "      <td>1.0</td>\n",
       "      <td>1.0</td>\n",
       "      <td>뇌출혈</td>\n",
       "      <td>59.0</td>\n",
       "    </tr>\n",
       "    <tr>\n",
       "      <th>3</th>\n",
       "      <td>P11152</td>\n",
       "      <td>2023-02-01</td>\n",
       "      <td>함**</td>\n",
       "      <td>남성</td>\n",
       "      <td>99.0</td>\n",
       "      <td>36.6</td>\n",
       "      <td>97.0</td>\n",
       "      <td>75.0</td>\n",
       "      <td>0.0</td>\n",
       "      <td>0.0</td>\n",
       "      <td>...</td>\n",
       "      <td>0.0</td>\n",
       "      <td>0.0</td>\n",
       "      <td>1.0</td>\n",
       "      <td>0.0</td>\n",
       "      <td>0.0</td>\n",
       "      <td>0.0</td>\n",
       "      <td>0.0</td>\n",
       "      <td>0.0</td>\n",
       "      <td>뇌경색</td>\n",
       "      <td>67.0</td>\n",
       "    </tr>\n",
       "    <tr>\n",
       "      <th>4</th>\n",
       "      <td>P11613</td>\n",
       "      <td>2023-02-01</td>\n",
       "      <td>태**</td>\n",
       "      <td>여성</td>\n",
       "      <td>79.0</td>\n",
       "      <td>36.5</td>\n",
       "      <td>133.0</td>\n",
       "      <td>71.0</td>\n",
       "      <td>0.0</td>\n",
       "      <td>0.0</td>\n",
       "      <td>...</td>\n",
       "      <td>0.0</td>\n",
       "      <td>0.0</td>\n",
       "      <td>0.0</td>\n",
       "      <td>0.0</td>\n",
       "      <td>0.0</td>\n",
       "      <td>1.0</td>\n",
       "      <td>0.0</td>\n",
       "      <td>1.0</td>\n",
       "      <td>뇌경색</td>\n",
       "      <td>17.0</td>\n",
       "    </tr>\n",
       "  </tbody>\n",
       "</table>\n",
       "<p>5 rows × 23 columns</p>\n",
       "</div>"
      ],
      "text/plain": [
       "       ID        출동일시   이름  성별    나이    체온  수축기 혈압  이완기 혈압  호흡 곤란  간헐성 경련  \\\n",
       "0  P10312  2023-02-01  배**  남성  96.0  36.6    95.0    68.0    0.0     0.0   \n",
       "1  P10895  2023-02-01  라**  남성  98.0  36.5   113.0    82.0    0.0     1.0   \n",
       "2  P11019  2023-02-01  당**  여성  26.0  36.2   102.0    69.0    1.0     0.0   \n",
       "3  P11152  2023-02-01  함**  남성  99.0  36.6    97.0    75.0    0.0     0.0   \n",
       "4  P11613  2023-02-01  태**  여성  79.0  36.5   133.0    71.0    0.0     0.0   \n",
       "\n",
       "   ...   통증  만지면 아프다  무감각   마비  현기증   졸도  말이 어눌해졌다  시력이 흐려짐  중증질환  이송 시간  \n",
       "0  ...  0.0      0.0  1.0  0.0  0.0  0.0       0.0      0.0   뇌경색   69.0  \n",
       "1  ...  0.0      0.0  0.0  1.0  0.0  0.0       1.0      0.0   뇌출혈   69.0  \n",
       "2  ...  0.0      0.0  0.0  1.0  0.0  0.0       1.0      1.0   뇌출혈   59.0  \n",
       "3  ...  0.0      0.0  1.0  0.0  0.0  0.0       0.0      0.0   뇌경색   67.0  \n",
       "4  ...  0.0      0.0  0.0  0.0  0.0  1.0       0.0      1.0   뇌경색   17.0  \n",
       "\n",
       "[5 rows x 23 columns]"
      ]
     },
     "execution_count": 2,
     "metadata": {},
     "output_type": "execute_result"
    }
   ],
   "source": [
    "# 응급 출동 데이터 불러오기\n",
    "# 파일명 119_emergency_dispatch.csv\n",
    "\n",
    "data = pd.read_csv(\"./119_emergency_dispatch.csv\", encoding=\"cp949\" )\n",
    "data.head()"
   ]
  },
  {
   "cell_type": "markdown",
   "id": "073b3f37-304f-4599-9be2-281283535f4a",
   "metadata": {},
   "source": [
    "## 1) 데이터셋(data)의 기초 정보 확인하기"
   ]
  },
  {
   "cell_type": "code",
   "execution_count": 3,
   "id": "5a9d42fc-202d-4008-a6e2-e6a73ba7b007",
   "metadata": {},
   "outputs": [
    {
     "data": {
      "text/plain": [
       "(17209, 23)"
      ]
     },
     "execution_count": 3,
     "metadata": {},
     "output_type": "execute_result"
    }
   ],
   "source": [
    "# data 데이터프레임의 행, 열 개수 확인\n",
    "data.shape"
   ]
  },
  {
   "cell_type": "code",
   "execution_count": 4,
   "id": "d235a1b0-efc1-4165-b0c6-ea12691f7f63",
   "metadata": {},
   "outputs": [
    {
     "name": "stdout",
     "output_type": "stream",
     "text": [
      "<class 'pandas.core.frame.DataFrame'>\n",
      "RangeIndex: 17209 entries, 0 to 17208\n",
      "Data columns (total 23 columns):\n",
      " #   Column    Non-Null Count  Dtype  \n",
      "---  ------    --------------  -----  \n",
      " 0   ID        17208 non-null  object \n",
      " 1   출동일시      17208 non-null  object \n",
      " 2   이름        17208 non-null  object \n",
      " 3   성별        17208 non-null  object \n",
      " 4   나이        17208 non-null  float64\n",
      " 5   체온        17208 non-null  float64\n",
      " 6   수축기 혈압    17208 non-null  float64\n",
      " 7   이완기 혈압    17208 non-null  float64\n",
      " 8   호흡 곤란     17208 non-null  float64\n",
      " 9   간헐성 경련    17208 non-null  float64\n",
      " 10  설사        17208 non-null  float64\n",
      " 11  기침        17208 non-null  float64\n",
      " 12  출혈        17208 non-null  float64\n",
      " 13  통증        17208 non-null  float64\n",
      " 14  만지면 아프다   17208 non-null  float64\n",
      " 15  무감각       17208 non-null  float64\n",
      " 16  마비        17208 non-null  float64\n",
      " 17  현기증       17208 non-null  float64\n",
      " 18  졸도        17208 non-null  float64\n",
      " 19  말이 어눌해졌다  17208 non-null  float64\n",
      " 20  시력이 흐려짐   17208 non-null  float64\n",
      " 21  중증질환      17208 non-null  object \n",
      " 22  이송 시간     17208 non-null  float64\n",
      "dtypes: float64(18), object(5)\n",
      "memory usage: 3.0+ MB\n"
     ]
    }
   ],
   "source": [
    "# data 데이터프레임의 컬럼명, 데이터 개수, 타입 정보 확인1\n",
    "data.info()"
   ]
  },
  {
   "cell_type": "code",
   "execution_count": 5,
   "id": "c6ff9d10-8d0f-4168-bf4d-915c8f05de0b",
   "metadata": {},
   "outputs": [
    {
     "data": {
      "text/html": [
       "<div>\n",
       "<style scoped>\n",
       "    .dataframe tbody tr th:only-of-type {\n",
       "        vertical-align: middle;\n",
       "    }\n",
       "\n",
       "    .dataframe tbody tr th {\n",
       "        vertical-align: top;\n",
       "    }\n",
       "\n",
       "    .dataframe thead th {\n",
       "        text-align: right;\n",
       "    }\n",
       "</style>\n",
       "<table border=\"1\" class=\"dataframe\">\n",
       "  <thead>\n",
       "    <tr style=\"text-align: right;\">\n",
       "      <th></th>\n",
       "      <th>ID</th>\n",
       "      <th>출동일시</th>\n",
       "      <th>이름</th>\n",
       "      <th>성별</th>\n",
       "      <th>나이</th>\n",
       "      <th>체온</th>\n",
       "      <th>수축기 혈압</th>\n",
       "      <th>이완기 혈압</th>\n",
       "      <th>호흡 곤란</th>\n",
       "      <th>간헐성 경련</th>\n",
       "      <th>...</th>\n",
       "      <th>통증</th>\n",
       "      <th>만지면 아프다</th>\n",
       "      <th>무감각</th>\n",
       "      <th>마비</th>\n",
       "      <th>현기증</th>\n",
       "      <th>졸도</th>\n",
       "      <th>말이 어눌해졌다</th>\n",
       "      <th>시력이 흐려짐</th>\n",
       "      <th>중증질환</th>\n",
       "      <th>이송 시간</th>\n",
       "    </tr>\n",
       "  </thead>\n",
       "  <tbody>\n",
       "    <tr>\n",
       "      <th>17206</th>\n",
       "      <td>P27127</td>\n",
       "      <td>2023-01-30</td>\n",
       "      <td>선우**</td>\n",
       "      <td>여성</td>\n",
       "      <td>69.0</td>\n",
       "      <td>37.8</td>\n",
       "      <td>124.0</td>\n",
       "      <td>69.0</td>\n",
       "      <td>0.0</td>\n",
       "      <td>0.0</td>\n",
       "      <td>...</td>\n",
       "      <td>1.0</td>\n",
       "      <td>0.0</td>\n",
       "      <td>0.0</td>\n",
       "      <td>0.0</td>\n",
       "      <td>0.0</td>\n",
       "      <td>0.0</td>\n",
       "      <td>0.0</td>\n",
       "      <td>0.0</td>\n",
       "      <td>중증아님</td>\n",
       "      <td>37.0</td>\n",
       "    </tr>\n",
       "    <tr>\n",
       "      <th>17207</th>\n",
       "      <td>P27152</td>\n",
       "      <td>2023-01-31</td>\n",
       "      <td>가**</td>\n",
       "      <td>남성</td>\n",
       "      <td>39.0</td>\n",
       "      <td>38.2</td>\n",
       "      <td>78.0</td>\n",
       "      <td>31.0</td>\n",
       "      <td>0.0</td>\n",
       "      <td>0.0</td>\n",
       "      <td>...</td>\n",
       "      <td>0.0</td>\n",
       "      <td>0.0</td>\n",
       "      <td>0.0</td>\n",
       "      <td>0.0</td>\n",
       "      <td>0.0</td>\n",
       "      <td>0.0</td>\n",
       "      <td>0.0</td>\n",
       "      <td>0.0</td>\n",
       "      <td>중증아님</td>\n",
       "      <td>31.0</td>\n",
       "    </tr>\n",
       "    <tr>\n",
       "      <th>17208</th>\n",
       "      <td>NaN</td>\n",
       "      <td>NaN</td>\n",
       "      <td>NaN</td>\n",
       "      <td>NaN</td>\n",
       "      <td>NaN</td>\n",
       "      <td>NaN</td>\n",
       "      <td>NaN</td>\n",
       "      <td>NaN</td>\n",
       "      <td>NaN</td>\n",
       "      <td>NaN</td>\n",
       "      <td>...</td>\n",
       "      <td>NaN</td>\n",
       "      <td>NaN</td>\n",
       "      <td>NaN</td>\n",
       "      <td>NaN</td>\n",
       "      <td>NaN</td>\n",
       "      <td>NaN</td>\n",
       "      <td>NaN</td>\n",
       "      <td>NaN</td>\n",
       "      <td>NaN</td>\n",
       "      <td>NaN</td>\n",
       "    </tr>\n",
       "  </tbody>\n",
       "</table>\n",
       "<p>3 rows × 23 columns</p>\n",
       "</div>"
      ],
      "text/plain": [
       "           ID        출동일시    이름   성별    나이    체온  수축기 혈압  이완기 혈압  호흡 곤란  \\\n",
       "17206  P27127  2023-01-30  선우**   여성  69.0  37.8   124.0    69.0    0.0   \n",
       "17207  P27152  2023-01-31   가**   남성  39.0  38.2    78.0    31.0    0.0   \n",
       "17208     NaN         NaN   NaN  NaN   NaN   NaN     NaN     NaN    NaN   \n",
       "\n",
       "       간헐성 경련  ...   통증  만지면 아프다  무감각   마비  현기증   졸도  말이 어눌해졌다  시력이 흐려짐  중증질환  \\\n",
       "17206     0.0  ...  1.0      0.0  0.0  0.0  0.0  0.0       0.0      0.0  중증아님   \n",
       "17207     0.0  ...  0.0      0.0  0.0  0.0  0.0  0.0       0.0      0.0  중증아님   \n",
       "17208     NaN  ...  NaN      NaN  NaN  NaN  NaN  NaN       NaN      NaN   NaN   \n",
       "\n",
       "       이송 시간  \n",
       "17206   37.0  \n",
       "17207   31.0  \n",
       "17208    NaN  \n",
       "\n",
       "[3 rows x 23 columns]"
      ]
     },
     "execution_count": 5,
     "metadata": {},
     "output_type": "execute_result"
    }
   ],
   "source": [
    "# data 데이터프레임의 하위 3개 행 확인\n",
    "data.tail(3)"
   ]
  },
  {
   "cell_type": "code",
   "execution_count": 6,
   "id": "41154c47-0201-4ff5-8389-bd386cf493dc",
   "metadata": {},
   "outputs": [],
   "source": [
    "# 질문) data 데이터프레임에 결측치가 있는가?\n",
    "\n",
    "data = data.dropna()"
   ]
  },
  {
   "cell_type": "code",
   "execution_count": 7,
   "id": "0d162117-d9d2-45bc-9961-a51f27262544",
   "metadata": {},
   "outputs": [],
   "source": [
    "# float 형을 int로 변경\n",
    "# 당초 int형으로 작성되었으나 nan값이 포함되면서 float 형으로 변경됨\n",
    "\n",
    "\n",
    "data[['나이',  '수축기 혈압', '이완기 혈압', '호흡 곤란','간헐성 경련', '설사', '기침', '출혈', '통증', '만지면 아프다', '무감각', '마비', '현기증', '졸도',\n",
    "       '말이 어눌해졌다', '시력이 흐려짐']] = data[['나이',  '수축기 혈압', '이완기 혈압', '호흡 곤란', '간헐성 경련', '설사', '기침', '출혈', '통증', '만지면 아프다', '무감각', '마비', '현기증', '졸도',\n",
    "       '말이 어눌해졌다', '시력이 흐려짐']].astype(int)"
   ]
  },
  {
   "cell_type": "code",
   "execution_count": 8,
   "id": "c2f86124-a638-4855-afb8-d1ebd279b7fd",
   "metadata": {},
   "outputs": [
    {
     "name": "stdout",
     "output_type": "stream",
     "text": [
      "<class 'pandas.core.frame.DataFrame'>\n",
      "Int64Index: 17208 entries, 0 to 17207\n",
      "Data columns (total 23 columns):\n",
      " #   Column    Non-Null Count  Dtype  \n",
      "---  ------    --------------  -----  \n",
      " 0   ID        17208 non-null  object \n",
      " 1   출동일시      17208 non-null  object \n",
      " 2   이름        17208 non-null  object \n",
      " 3   성별        17208 non-null  object \n",
      " 4   나이        17208 non-null  int32  \n",
      " 5   체온        17208 non-null  float64\n",
      " 6   수축기 혈압    17208 non-null  int32  \n",
      " 7   이완기 혈압    17208 non-null  int32  \n",
      " 8   호흡 곤란     17208 non-null  int32  \n",
      " 9   간헐성 경련    17208 non-null  int32  \n",
      " 10  설사        17208 non-null  int32  \n",
      " 11  기침        17208 non-null  int32  \n",
      " 12  출혈        17208 non-null  int32  \n",
      " 13  통증        17208 non-null  int32  \n",
      " 14  만지면 아프다   17208 non-null  int32  \n",
      " 15  무감각       17208 non-null  int32  \n",
      " 16  마비        17208 non-null  int32  \n",
      " 17  현기증       17208 non-null  int32  \n",
      " 18  졸도        17208 non-null  int32  \n",
      " 19  말이 어눌해졌다  17208 non-null  int32  \n",
      " 20  시력이 흐려짐   17208 non-null  int32  \n",
      " 21  중증질환      17208 non-null  object \n",
      " 22  이송 시간     17208 non-null  float64\n",
      "dtypes: float64(2), int32(16), object(5)\n",
      "memory usage: 2.1+ MB\n"
     ]
    }
   ],
   "source": [
    "data.info()"
   ]
  },
  {
   "cell_type": "markdown",
   "id": "c8a00223-5483-42be-896d-b8989ec8932e",
   "metadata": {},
   "source": [
    "## 2) 데이터 전처리"
   ]
  },
  {
   "cell_type": "markdown",
   "id": "971f3cbc-3db1-4879-b724-6964c0f51e71",
   "metadata": {},
   "source": [
    "* 기존 컬럼을 이용하여 새로운 컬럼을 생성\n",
    "* 추가해야 할 컬럼 내용\n",
    "  * 연령구분 : 나이 컬럼을 활용하여 [신생아, 10대미만, 10대, 20대~ 80대, 90이상으로 구분]\n",
    "  * 출동월 : 출동일시 컬럼을 활용하여 출동월을 추출\n",
    "  * 발열 : 체온 컬럼을 활용하여, 37도 이상인 경우 1, 이하인 경우 0으로 구분\n",
    "  * 고혈압 : 수축기 혈압 컬럼을 활용하여 140이상인 경우 1, 그렇지 않으면 0으로 구분\n",
    "  * 저혈압 : 수축기 혈압 컬럼을 활용하여 90이하인 경우 1, 그렇지 않으면 0으로 구분\n",
    "  "
   ]
  },
  {
   "cell_type": "code",
   "execution_count": 9,
   "id": "6ec3f5a0-cbb4-4eb2-b6eb-1fdec89680e1",
   "metadata": {},
   "outputs": [
    {
     "data": {
      "text/html": [
       "<div>\n",
       "<style scoped>\n",
       "    .dataframe tbody tr th:only-of-type {\n",
       "        vertical-align: middle;\n",
       "    }\n",
       "\n",
       "    .dataframe tbody tr th {\n",
       "        vertical-align: top;\n",
       "    }\n",
       "\n",
       "    .dataframe thead th {\n",
       "        text-align: right;\n",
       "    }\n",
       "</style>\n",
       "<table border=\"1\" class=\"dataframe\">\n",
       "  <thead>\n",
       "    <tr style=\"text-align: right;\">\n",
       "      <th></th>\n",
       "      <th>ID</th>\n",
       "      <th>출동일시</th>\n",
       "      <th>이름</th>\n",
       "      <th>성별</th>\n",
       "      <th>나이</th>\n",
       "      <th>체온</th>\n",
       "      <th>수축기 혈압</th>\n",
       "      <th>이완기 혈압</th>\n",
       "      <th>호흡 곤란</th>\n",
       "      <th>간헐성 경련</th>\n",
       "      <th>...</th>\n",
       "      <th>만지면 아프다</th>\n",
       "      <th>무감각</th>\n",
       "      <th>마비</th>\n",
       "      <th>현기증</th>\n",
       "      <th>졸도</th>\n",
       "      <th>말이 어눌해졌다</th>\n",
       "      <th>시력이 흐려짐</th>\n",
       "      <th>중증질환</th>\n",
       "      <th>이송 시간</th>\n",
       "      <th>연령구분</th>\n",
       "    </tr>\n",
       "  </thead>\n",
       "  <tbody>\n",
       "    <tr>\n",
       "      <th>0</th>\n",
       "      <td>P10312</td>\n",
       "      <td>2023-02-01</td>\n",
       "      <td>배**</td>\n",
       "      <td>남성</td>\n",
       "      <td>96</td>\n",
       "      <td>36.6</td>\n",
       "      <td>95</td>\n",
       "      <td>68</td>\n",
       "      <td>0</td>\n",
       "      <td>0</td>\n",
       "      <td>...</td>\n",
       "      <td>0</td>\n",
       "      <td>1</td>\n",
       "      <td>0</td>\n",
       "      <td>0</td>\n",
       "      <td>0</td>\n",
       "      <td>0</td>\n",
       "      <td>0</td>\n",
       "      <td>뇌경색</td>\n",
       "      <td>69.0</td>\n",
       "      <td>90이상</td>\n",
       "    </tr>\n",
       "    <tr>\n",
       "      <th>1</th>\n",
       "      <td>P10895</td>\n",
       "      <td>2023-02-01</td>\n",
       "      <td>라**</td>\n",
       "      <td>남성</td>\n",
       "      <td>98</td>\n",
       "      <td>36.5</td>\n",
       "      <td>113</td>\n",
       "      <td>82</td>\n",
       "      <td>0</td>\n",
       "      <td>1</td>\n",
       "      <td>...</td>\n",
       "      <td>0</td>\n",
       "      <td>0</td>\n",
       "      <td>1</td>\n",
       "      <td>0</td>\n",
       "      <td>0</td>\n",
       "      <td>1</td>\n",
       "      <td>0</td>\n",
       "      <td>뇌출혈</td>\n",
       "      <td>69.0</td>\n",
       "      <td>90이상</td>\n",
       "    </tr>\n",
       "    <tr>\n",
       "      <th>2</th>\n",
       "      <td>P11019</td>\n",
       "      <td>2023-02-01</td>\n",
       "      <td>당**</td>\n",
       "      <td>여성</td>\n",
       "      <td>26</td>\n",
       "      <td>36.2</td>\n",
       "      <td>102</td>\n",
       "      <td>69</td>\n",
       "      <td>1</td>\n",
       "      <td>0</td>\n",
       "      <td>...</td>\n",
       "      <td>0</td>\n",
       "      <td>0</td>\n",
       "      <td>1</td>\n",
       "      <td>0</td>\n",
       "      <td>0</td>\n",
       "      <td>1</td>\n",
       "      <td>1</td>\n",
       "      <td>뇌출혈</td>\n",
       "      <td>59.0</td>\n",
       "      <td>20대</td>\n",
       "    </tr>\n",
       "    <tr>\n",
       "      <th>3</th>\n",
       "      <td>P11152</td>\n",
       "      <td>2023-02-01</td>\n",
       "      <td>함**</td>\n",
       "      <td>남성</td>\n",
       "      <td>99</td>\n",
       "      <td>36.6</td>\n",
       "      <td>97</td>\n",
       "      <td>75</td>\n",
       "      <td>0</td>\n",
       "      <td>0</td>\n",
       "      <td>...</td>\n",
       "      <td>0</td>\n",
       "      <td>1</td>\n",
       "      <td>0</td>\n",
       "      <td>0</td>\n",
       "      <td>0</td>\n",
       "      <td>0</td>\n",
       "      <td>0</td>\n",
       "      <td>뇌경색</td>\n",
       "      <td>67.0</td>\n",
       "      <td>90이상</td>\n",
       "    </tr>\n",
       "    <tr>\n",
       "      <th>4</th>\n",
       "      <td>P11613</td>\n",
       "      <td>2023-02-01</td>\n",
       "      <td>태**</td>\n",
       "      <td>여성</td>\n",
       "      <td>79</td>\n",
       "      <td>36.5</td>\n",
       "      <td>133</td>\n",
       "      <td>71</td>\n",
       "      <td>0</td>\n",
       "      <td>0</td>\n",
       "      <td>...</td>\n",
       "      <td>0</td>\n",
       "      <td>0</td>\n",
       "      <td>0</td>\n",
       "      <td>0</td>\n",
       "      <td>1</td>\n",
       "      <td>0</td>\n",
       "      <td>1</td>\n",
       "      <td>뇌경색</td>\n",
       "      <td>17.0</td>\n",
       "      <td>70대</td>\n",
       "    </tr>\n",
       "  </tbody>\n",
       "</table>\n",
       "<p>5 rows × 24 columns</p>\n",
       "</div>"
      ],
      "text/plain": [
       "       ID        출동일시   이름  성별  나이    체온  수축기 혈압  이완기 혈압  호흡 곤란  간헐성 경련  ...  \\\n",
       "0  P10312  2023-02-01  배**  남성  96  36.6      95      68      0       0  ...   \n",
       "1  P10895  2023-02-01  라**  남성  98  36.5     113      82      0       1  ...   \n",
       "2  P11019  2023-02-01  당**  여성  26  36.2     102      69      1       0  ...   \n",
       "3  P11152  2023-02-01  함**  남성  99  36.6      97      75      0       0  ...   \n",
       "4  P11613  2023-02-01  태**  여성  79  36.5     133      71      0       0  ...   \n",
       "\n",
       "   만지면 아프다  무감각  마비  현기증  졸도  말이 어눌해졌다  시력이 흐려짐  중증질환  이송 시간  연령구분  \n",
       "0        0    1   0    0   0         0        0   뇌경색   69.0  90이상  \n",
       "1        0    0   1    0   0         1        0   뇌출혈   69.0  90이상  \n",
       "2        0    0   1    0   0         1        1   뇌출혈   59.0   20대  \n",
       "3        0    1   0    0   0         0        0   뇌경색   67.0  90이상  \n",
       "4        0    0   0    0   1         0        1   뇌경색   17.0   70대  \n",
       "\n",
       "[5 rows x 24 columns]"
      ]
     },
     "execution_count": 9,
     "metadata": {},
     "output_type": "execute_result"
    }
   ],
   "source": [
    "# 1) 연령구분 정보 구하기\n",
    "\n",
    "data['연령구분'] = pd.cut(data['나이'], bins=[-1, 1, 10, 20, 30, 40, 50, 60, 70, 80, 90, 150], \n",
    "                     labels=['신생아', '10대미만', '10대','20대','30대','40대','50대','60대','70대','80대','90이상'], right=False)\n",
    "data.head()"
   ]
  },
  {
   "cell_type": "code",
   "execution_count": 10,
   "id": "db64e84e-de42-4269-b22c-5e48a533605b",
   "metadata": {},
   "outputs": [
    {
     "data": {
      "text/html": [
       "<div>\n",
       "<style scoped>\n",
       "    .dataframe tbody tr th:only-of-type {\n",
       "        vertical-align: middle;\n",
       "    }\n",
       "\n",
       "    .dataframe tbody tr th {\n",
       "        vertical-align: top;\n",
       "    }\n",
       "\n",
       "    .dataframe thead th {\n",
       "        text-align: right;\n",
       "    }\n",
       "</style>\n",
       "<table border=\"1\" class=\"dataframe\">\n",
       "  <thead>\n",
       "    <tr style=\"text-align: right;\">\n",
       "      <th></th>\n",
       "      <th>ID</th>\n",
       "      <th>출동일시</th>\n",
       "      <th>이름</th>\n",
       "      <th>성별</th>\n",
       "      <th>나이</th>\n",
       "      <th>체온</th>\n",
       "      <th>수축기 혈압</th>\n",
       "      <th>이완기 혈압</th>\n",
       "      <th>호흡 곤란</th>\n",
       "      <th>간헐성 경련</th>\n",
       "      <th>...</th>\n",
       "      <th>무감각</th>\n",
       "      <th>마비</th>\n",
       "      <th>현기증</th>\n",
       "      <th>졸도</th>\n",
       "      <th>말이 어눌해졌다</th>\n",
       "      <th>시력이 흐려짐</th>\n",
       "      <th>중증질환</th>\n",
       "      <th>이송 시간</th>\n",
       "      <th>연령구분</th>\n",
       "      <th>출동월</th>\n",
       "    </tr>\n",
       "  </thead>\n",
       "  <tbody>\n",
       "    <tr>\n",
       "      <th>0</th>\n",
       "      <td>P10312</td>\n",
       "      <td>2023-02-01</td>\n",
       "      <td>배**</td>\n",
       "      <td>남성</td>\n",
       "      <td>96</td>\n",
       "      <td>36.6</td>\n",
       "      <td>95</td>\n",
       "      <td>68</td>\n",
       "      <td>0</td>\n",
       "      <td>0</td>\n",
       "      <td>...</td>\n",
       "      <td>1</td>\n",
       "      <td>0</td>\n",
       "      <td>0</td>\n",
       "      <td>0</td>\n",
       "      <td>0</td>\n",
       "      <td>0</td>\n",
       "      <td>뇌경색</td>\n",
       "      <td>69.0</td>\n",
       "      <td>90이상</td>\n",
       "      <td>2</td>\n",
       "    </tr>\n",
       "    <tr>\n",
       "      <th>1</th>\n",
       "      <td>P10895</td>\n",
       "      <td>2023-02-01</td>\n",
       "      <td>라**</td>\n",
       "      <td>남성</td>\n",
       "      <td>98</td>\n",
       "      <td>36.5</td>\n",
       "      <td>113</td>\n",
       "      <td>82</td>\n",
       "      <td>0</td>\n",
       "      <td>1</td>\n",
       "      <td>...</td>\n",
       "      <td>0</td>\n",
       "      <td>1</td>\n",
       "      <td>0</td>\n",
       "      <td>0</td>\n",
       "      <td>1</td>\n",
       "      <td>0</td>\n",
       "      <td>뇌출혈</td>\n",
       "      <td>69.0</td>\n",
       "      <td>90이상</td>\n",
       "      <td>2</td>\n",
       "    </tr>\n",
       "    <tr>\n",
       "      <th>2</th>\n",
       "      <td>P11019</td>\n",
       "      <td>2023-02-01</td>\n",
       "      <td>당**</td>\n",
       "      <td>여성</td>\n",
       "      <td>26</td>\n",
       "      <td>36.2</td>\n",
       "      <td>102</td>\n",
       "      <td>69</td>\n",
       "      <td>1</td>\n",
       "      <td>0</td>\n",
       "      <td>...</td>\n",
       "      <td>0</td>\n",
       "      <td>1</td>\n",
       "      <td>0</td>\n",
       "      <td>0</td>\n",
       "      <td>1</td>\n",
       "      <td>1</td>\n",
       "      <td>뇌출혈</td>\n",
       "      <td>59.0</td>\n",
       "      <td>20대</td>\n",
       "      <td>2</td>\n",
       "    </tr>\n",
       "    <tr>\n",
       "      <th>3</th>\n",
       "      <td>P11152</td>\n",
       "      <td>2023-02-01</td>\n",
       "      <td>함**</td>\n",
       "      <td>남성</td>\n",
       "      <td>99</td>\n",
       "      <td>36.6</td>\n",
       "      <td>97</td>\n",
       "      <td>75</td>\n",
       "      <td>0</td>\n",
       "      <td>0</td>\n",
       "      <td>...</td>\n",
       "      <td>1</td>\n",
       "      <td>0</td>\n",
       "      <td>0</td>\n",
       "      <td>0</td>\n",
       "      <td>0</td>\n",
       "      <td>0</td>\n",
       "      <td>뇌경색</td>\n",
       "      <td>67.0</td>\n",
       "      <td>90이상</td>\n",
       "      <td>2</td>\n",
       "    </tr>\n",
       "    <tr>\n",
       "      <th>4</th>\n",
       "      <td>P11613</td>\n",
       "      <td>2023-02-01</td>\n",
       "      <td>태**</td>\n",
       "      <td>여성</td>\n",
       "      <td>79</td>\n",
       "      <td>36.5</td>\n",
       "      <td>133</td>\n",
       "      <td>71</td>\n",
       "      <td>0</td>\n",
       "      <td>0</td>\n",
       "      <td>...</td>\n",
       "      <td>0</td>\n",
       "      <td>0</td>\n",
       "      <td>0</td>\n",
       "      <td>1</td>\n",
       "      <td>0</td>\n",
       "      <td>1</td>\n",
       "      <td>뇌경색</td>\n",
       "      <td>17.0</td>\n",
       "      <td>70대</td>\n",
       "      <td>2</td>\n",
       "    </tr>\n",
       "  </tbody>\n",
       "</table>\n",
       "<p>5 rows × 25 columns</p>\n",
       "</div>"
      ],
      "text/plain": [
       "       ID        출동일시   이름  성별  나이    체온  수축기 혈압  이완기 혈압  호흡 곤란  간헐성 경련  ...  \\\n",
       "0  P10312  2023-02-01  배**  남성  96  36.6      95      68      0       0  ...   \n",
       "1  P10895  2023-02-01  라**  남성  98  36.5     113      82      0       1  ...   \n",
       "2  P11019  2023-02-01  당**  여성  26  36.2     102      69      1       0  ...   \n",
       "3  P11152  2023-02-01  함**  남성  99  36.6      97      75      0       0  ...   \n",
       "4  P11613  2023-02-01  태**  여성  79  36.5     133      71      0       0  ...   \n",
       "\n",
       "   무감각  마비  현기증  졸도  말이 어눌해졌다  시력이 흐려짐  중증질환  이송 시간  연령구분  출동월  \n",
       "0    1   0    0   0         0        0   뇌경색   69.0  90이상    2  \n",
       "1    0   1    0   0         1        0   뇌출혈   69.0  90이상    2  \n",
       "2    0   1    0   0         1        1   뇌출혈   59.0   20대    2  \n",
       "3    1   0    0   0         0        0   뇌경색   67.0  90이상    2  \n",
       "4    0   0    0   1         0        1   뇌경색   17.0   70대    2  \n",
       "\n",
       "[5 rows x 25 columns]"
      ]
     },
     "execution_count": 10,
     "metadata": {},
     "output_type": "execute_result"
    }
   ],
   "source": [
    "# 2) 출동월 정보 구하기\n",
    "# 출동일자 컬럼에서 출동월 정보를 추출하기\n",
    "\n",
    "data['출동월'] = data['출동일시'].str[5:7].astype(int)\n",
    "data.head()\n",
    "\n",
    "# data['출동월'] = pd.to_datetime(data['출동일시']).dt.month\n",
    "# data.head()"
   ]
  },
  {
   "cell_type": "code",
   "execution_count": 11,
   "id": "a77573e2-afa8-4ea4-aa2f-41b0efd5f158",
   "metadata": {},
   "outputs": [
    {
     "data": {
      "text/html": [
       "<div>\n",
       "<style scoped>\n",
       "    .dataframe tbody tr th:only-of-type {\n",
       "        vertical-align: middle;\n",
       "    }\n",
       "\n",
       "    .dataframe tbody tr th {\n",
       "        vertical-align: top;\n",
       "    }\n",
       "\n",
       "    .dataframe thead th {\n",
       "        text-align: right;\n",
       "    }\n",
       "</style>\n",
       "<table border=\"1\" class=\"dataframe\">\n",
       "  <thead>\n",
       "    <tr style=\"text-align: right;\">\n",
       "      <th></th>\n",
       "      <th>ID</th>\n",
       "      <th>출동일시</th>\n",
       "      <th>이름</th>\n",
       "      <th>성별</th>\n",
       "      <th>나이</th>\n",
       "      <th>체온</th>\n",
       "      <th>수축기 혈압</th>\n",
       "      <th>이완기 혈압</th>\n",
       "      <th>호흡 곤란</th>\n",
       "      <th>간헐성 경련</th>\n",
       "      <th>...</th>\n",
       "      <th>마비</th>\n",
       "      <th>현기증</th>\n",
       "      <th>졸도</th>\n",
       "      <th>말이 어눌해졌다</th>\n",
       "      <th>시력이 흐려짐</th>\n",
       "      <th>중증질환</th>\n",
       "      <th>이송 시간</th>\n",
       "      <th>연령구분</th>\n",
       "      <th>출동월</th>\n",
       "      <th>발열</th>\n",
       "    </tr>\n",
       "  </thead>\n",
       "  <tbody>\n",
       "    <tr>\n",
       "      <th>0</th>\n",
       "      <td>P10312</td>\n",
       "      <td>2023-02-01</td>\n",
       "      <td>배**</td>\n",
       "      <td>남성</td>\n",
       "      <td>96</td>\n",
       "      <td>36.6</td>\n",
       "      <td>95</td>\n",
       "      <td>68</td>\n",
       "      <td>0</td>\n",
       "      <td>0</td>\n",
       "      <td>...</td>\n",
       "      <td>0</td>\n",
       "      <td>0</td>\n",
       "      <td>0</td>\n",
       "      <td>0</td>\n",
       "      <td>0</td>\n",
       "      <td>뇌경색</td>\n",
       "      <td>69.0</td>\n",
       "      <td>90이상</td>\n",
       "      <td>2</td>\n",
       "      <td>0</td>\n",
       "    </tr>\n",
       "    <tr>\n",
       "      <th>1</th>\n",
       "      <td>P10895</td>\n",
       "      <td>2023-02-01</td>\n",
       "      <td>라**</td>\n",
       "      <td>남성</td>\n",
       "      <td>98</td>\n",
       "      <td>36.5</td>\n",
       "      <td>113</td>\n",
       "      <td>82</td>\n",
       "      <td>0</td>\n",
       "      <td>1</td>\n",
       "      <td>...</td>\n",
       "      <td>1</td>\n",
       "      <td>0</td>\n",
       "      <td>0</td>\n",
       "      <td>1</td>\n",
       "      <td>0</td>\n",
       "      <td>뇌출혈</td>\n",
       "      <td>69.0</td>\n",
       "      <td>90이상</td>\n",
       "      <td>2</td>\n",
       "      <td>0</td>\n",
       "    </tr>\n",
       "    <tr>\n",
       "      <th>2</th>\n",
       "      <td>P11019</td>\n",
       "      <td>2023-02-01</td>\n",
       "      <td>당**</td>\n",
       "      <td>여성</td>\n",
       "      <td>26</td>\n",
       "      <td>36.2</td>\n",
       "      <td>102</td>\n",
       "      <td>69</td>\n",
       "      <td>1</td>\n",
       "      <td>0</td>\n",
       "      <td>...</td>\n",
       "      <td>1</td>\n",
       "      <td>0</td>\n",
       "      <td>0</td>\n",
       "      <td>1</td>\n",
       "      <td>1</td>\n",
       "      <td>뇌출혈</td>\n",
       "      <td>59.0</td>\n",
       "      <td>20대</td>\n",
       "      <td>2</td>\n",
       "      <td>0</td>\n",
       "    </tr>\n",
       "    <tr>\n",
       "      <th>3</th>\n",
       "      <td>P11152</td>\n",
       "      <td>2023-02-01</td>\n",
       "      <td>함**</td>\n",
       "      <td>남성</td>\n",
       "      <td>99</td>\n",
       "      <td>36.6</td>\n",
       "      <td>97</td>\n",
       "      <td>75</td>\n",
       "      <td>0</td>\n",
       "      <td>0</td>\n",
       "      <td>...</td>\n",
       "      <td>0</td>\n",
       "      <td>0</td>\n",
       "      <td>0</td>\n",
       "      <td>0</td>\n",
       "      <td>0</td>\n",
       "      <td>뇌경색</td>\n",
       "      <td>67.0</td>\n",
       "      <td>90이상</td>\n",
       "      <td>2</td>\n",
       "      <td>0</td>\n",
       "    </tr>\n",
       "    <tr>\n",
       "      <th>4</th>\n",
       "      <td>P11613</td>\n",
       "      <td>2023-02-01</td>\n",
       "      <td>태**</td>\n",
       "      <td>여성</td>\n",
       "      <td>79</td>\n",
       "      <td>36.5</td>\n",
       "      <td>133</td>\n",
       "      <td>71</td>\n",
       "      <td>0</td>\n",
       "      <td>0</td>\n",
       "      <td>...</td>\n",
       "      <td>0</td>\n",
       "      <td>0</td>\n",
       "      <td>1</td>\n",
       "      <td>0</td>\n",
       "      <td>1</td>\n",
       "      <td>뇌경색</td>\n",
       "      <td>17.0</td>\n",
       "      <td>70대</td>\n",
       "      <td>2</td>\n",
       "      <td>0</td>\n",
       "    </tr>\n",
       "  </tbody>\n",
       "</table>\n",
       "<p>5 rows × 26 columns</p>\n",
       "</div>"
      ],
      "text/plain": [
       "       ID        출동일시   이름  성별  나이    체온  수축기 혈압  이완기 혈압  호흡 곤란  간헐성 경련  ...  \\\n",
       "0  P10312  2023-02-01  배**  남성  96  36.6      95      68      0       0  ...   \n",
       "1  P10895  2023-02-01  라**  남성  98  36.5     113      82      0       1  ...   \n",
       "2  P11019  2023-02-01  당**  여성  26  36.2     102      69      1       0  ...   \n",
       "3  P11152  2023-02-01  함**  남성  99  36.6      97      75      0       0  ...   \n",
       "4  P11613  2023-02-01  태**  여성  79  36.5     133      71      0       0  ...   \n",
       "\n",
       "   마비  현기증  졸도  말이 어눌해졌다  시력이 흐려짐  중증질환  이송 시간  연령구분  출동월  발열  \n",
       "0   0    0   0         0        0   뇌경색   69.0  90이상    2   0  \n",
       "1   1    0   0         1        0   뇌출혈   69.0  90이상    2   0  \n",
       "2   1    0   0         1        1   뇌출혈   59.0   20대    2   0  \n",
       "3   0    0   0         0        0   뇌경색   67.0  90이상    2   0  \n",
       "4   0    0   1         0        1   뇌경색   17.0   70대    2   0  \n",
       "\n",
       "[5 rows x 26 columns]"
      ]
     },
     "execution_count": 11,
     "metadata": {},
     "output_type": "execute_result"
    }
   ],
   "source": [
    "# 3) 발열 정보 구하기\n",
    "# 37도 이상이면 1, 그렇지 않으면 0\n",
    "\n",
    "data['발열'] = [ 1 if x >=37 else 0 for x in data['체온']]\n",
    "data.head()"
   ]
  },
  {
   "cell_type": "code",
   "execution_count": 12,
   "id": "32fc17d1-7578-4968-b88a-66127ea82e12",
   "metadata": {},
   "outputs": [
    {
     "data": {
      "text/html": [
       "<div>\n",
       "<style scoped>\n",
       "    .dataframe tbody tr th:only-of-type {\n",
       "        vertical-align: middle;\n",
       "    }\n",
       "\n",
       "    .dataframe tbody tr th {\n",
       "        vertical-align: top;\n",
       "    }\n",
       "\n",
       "    .dataframe thead th {\n",
       "        text-align: right;\n",
       "    }\n",
       "</style>\n",
       "<table border=\"1\" class=\"dataframe\">\n",
       "  <thead>\n",
       "    <tr style=\"text-align: right;\">\n",
       "      <th></th>\n",
       "      <th>ID</th>\n",
       "      <th>출동일시</th>\n",
       "      <th>이름</th>\n",
       "      <th>성별</th>\n",
       "      <th>나이</th>\n",
       "      <th>체온</th>\n",
       "      <th>수축기 혈압</th>\n",
       "      <th>이완기 혈압</th>\n",
       "      <th>호흡 곤란</th>\n",
       "      <th>간헐성 경련</th>\n",
       "      <th>...</th>\n",
       "      <th>현기증</th>\n",
       "      <th>졸도</th>\n",
       "      <th>말이 어눌해졌다</th>\n",
       "      <th>시력이 흐려짐</th>\n",
       "      <th>중증질환</th>\n",
       "      <th>이송 시간</th>\n",
       "      <th>연령구분</th>\n",
       "      <th>출동월</th>\n",
       "      <th>발열</th>\n",
       "      <th>고혈압</th>\n",
       "    </tr>\n",
       "  </thead>\n",
       "  <tbody>\n",
       "    <tr>\n",
       "      <th>0</th>\n",
       "      <td>P10312</td>\n",
       "      <td>2023-02-01</td>\n",
       "      <td>배**</td>\n",
       "      <td>남성</td>\n",
       "      <td>96</td>\n",
       "      <td>36.6</td>\n",
       "      <td>95</td>\n",
       "      <td>68</td>\n",
       "      <td>0</td>\n",
       "      <td>0</td>\n",
       "      <td>...</td>\n",
       "      <td>0</td>\n",
       "      <td>0</td>\n",
       "      <td>0</td>\n",
       "      <td>0</td>\n",
       "      <td>뇌경색</td>\n",
       "      <td>69.0</td>\n",
       "      <td>90이상</td>\n",
       "      <td>2</td>\n",
       "      <td>0</td>\n",
       "      <td>0</td>\n",
       "    </tr>\n",
       "    <tr>\n",
       "      <th>1</th>\n",
       "      <td>P10895</td>\n",
       "      <td>2023-02-01</td>\n",
       "      <td>라**</td>\n",
       "      <td>남성</td>\n",
       "      <td>98</td>\n",
       "      <td>36.5</td>\n",
       "      <td>113</td>\n",
       "      <td>82</td>\n",
       "      <td>0</td>\n",
       "      <td>1</td>\n",
       "      <td>...</td>\n",
       "      <td>0</td>\n",
       "      <td>0</td>\n",
       "      <td>1</td>\n",
       "      <td>0</td>\n",
       "      <td>뇌출혈</td>\n",
       "      <td>69.0</td>\n",
       "      <td>90이상</td>\n",
       "      <td>2</td>\n",
       "      <td>0</td>\n",
       "      <td>0</td>\n",
       "    </tr>\n",
       "    <tr>\n",
       "      <th>2</th>\n",
       "      <td>P11019</td>\n",
       "      <td>2023-02-01</td>\n",
       "      <td>당**</td>\n",
       "      <td>여성</td>\n",
       "      <td>26</td>\n",
       "      <td>36.2</td>\n",
       "      <td>102</td>\n",
       "      <td>69</td>\n",
       "      <td>1</td>\n",
       "      <td>0</td>\n",
       "      <td>...</td>\n",
       "      <td>0</td>\n",
       "      <td>0</td>\n",
       "      <td>1</td>\n",
       "      <td>1</td>\n",
       "      <td>뇌출혈</td>\n",
       "      <td>59.0</td>\n",
       "      <td>20대</td>\n",
       "      <td>2</td>\n",
       "      <td>0</td>\n",
       "      <td>0</td>\n",
       "    </tr>\n",
       "    <tr>\n",
       "      <th>3</th>\n",
       "      <td>P11152</td>\n",
       "      <td>2023-02-01</td>\n",
       "      <td>함**</td>\n",
       "      <td>남성</td>\n",
       "      <td>99</td>\n",
       "      <td>36.6</td>\n",
       "      <td>97</td>\n",
       "      <td>75</td>\n",
       "      <td>0</td>\n",
       "      <td>0</td>\n",
       "      <td>...</td>\n",
       "      <td>0</td>\n",
       "      <td>0</td>\n",
       "      <td>0</td>\n",
       "      <td>0</td>\n",
       "      <td>뇌경색</td>\n",
       "      <td>67.0</td>\n",
       "      <td>90이상</td>\n",
       "      <td>2</td>\n",
       "      <td>0</td>\n",
       "      <td>0</td>\n",
       "    </tr>\n",
       "    <tr>\n",
       "      <th>4</th>\n",
       "      <td>P11613</td>\n",
       "      <td>2023-02-01</td>\n",
       "      <td>태**</td>\n",
       "      <td>여성</td>\n",
       "      <td>79</td>\n",
       "      <td>36.5</td>\n",
       "      <td>133</td>\n",
       "      <td>71</td>\n",
       "      <td>0</td>\n",
       "      <td>0</td>\n",
       "      <td>...</td>\n",
       "      <td>0</td>\n",
       "      <td>1</td>\n",
       "      <td>0</td>\n",
       "      <td>1</td>\n",
       "      <td>뇌경색</td>\n",
       "      <td>17.0</td>\n",
       "      <td>70대</td>\n",
       "      <td>2</td>\n",
       "      <td>0</td>\n",
       "      <td>0</td>\n",
       "    </tr>\n",
       "  </tbody>\n",
       "</table>\n",
       "<p>5 rows × 27 columns</p>\n",
       "</div>"
      ],
      "text/plain": [
       "       ID        출동일시   이름  성별  나이    체온  수축기 혈압  이완기 혈압  호흡 곤란  간헐성 경련  ...  \\\n",
       "0  P10312  2023-02-01  배**  남성  96  36.6      95      68      0       0  ...   \n",
       "1  P10895  2023-02-01  라**  남성  98  36.5     113      82      0       1  ...   \n",
       "2  P11019  2023-02-01  당**  여성  26  36.2     102      69      1       0  ...   \n",
       "3  P11152  2023-02-01  함**  남성  99  36.6      97      75      0       0  ...   \n",
       "4  P11613  2023-02-01  태**  여성  79  36.5     133      71      0       0  ...   \n",
       "\n",
       "   현기증  졸도  말이 어눌해졌다  시력이 흐려짐  중증질환  이송 시간  연령구분  출동월  발열  고혈압  \n",
       "0    0   0         0        0   뇌경색   69.0  90이상    2   0    0  \n",
       "1    0   0         1        0   뇌출혈   69.0  90이상    2   0    0  \n",
       "2    0   0         1        1   뇌출혈   59.0   20대    2   0    0  \n",
       "3    0   0         0        0   뇌경색   67.0  90이상    2   0    0  \n",
       "4    0   1         0        1   뇌경색   17.0   70대    2   0    0  \n",
       "\n",
       "[5 rows x 27 columns]"
      ]
     },
     "execution_count": 12,
     "metadata": {},
     "output_type": "execute_result"
    }
   ],
   "source": [
    "# 4) 고혈압 정보 구하기\n",
    "# 수축기 혈압 컬럼을 활용하여 140이상인 경우 1, 그렇지 않으면 0으로 구분\n",
    "\n",
    "data['고혈압'] = [1 if x >= 140 else 0 for x in data['수축기 혈압']]\n",
    "data.head()"
   ]
  },
  {
   "cell_type": "code",
   "execution_count": 13,
   "id": "01f998d6-b788-4f54-8797-f4c8bddf8970",
   "metadata": {},
   "outputs": [
    {
     "data": {
      "text/html": [
       "<div>\n",
       "<style scoped>\n",
       "    .dataframe tbody tr th:only-of-type {\n",
       "        vertical-align: middle;\n",
       "    }\n",
       "\n",
       "    .dataframe tbody tr th {\n",
       "        vertical-align: top;\n",
       "    }\n",
       "\n",
       "    .dataframe thead th {\n",
       "        text-align: right;\n",
       "    }\n",
       "</style>\n",
       "<table border=\"1\" class=\"dataframe\">\n",
       "  <thead>\n",
       "    <tr style=\"text-align: right;\">\n",
       "      <th></th>\n",
       "      <th>ID</th>\n",
       "      <th>출동일시</th>\n",
       "      <th>이름</th>\n",
       "      <th>성별</th>\n",
       "      <th>나이</th>\n",
       "      <th>체온</th>\n",
       "      <th>수축기 혈압</th>\n",
       "      <th>이완기 혈압</th>\n",
       "      <th>호흡 곤란</th>\n",
       "      <th>간헐성 경련</th>\n",
       "      <th>...</th>\n",
       "      <th>졸도</th>\n",
       "      <th>말이 어눌해졌다</th>\n",
       "      <th>시력이 흐려짐</th>\n",
       "      <th>중증질환</th>\n",
       "      <th>이송 시간</th>\n",
       "      <th>연령구분</th>\n",
       "      <th>출동월</th>\n",
       "      <th>발열</th>\n",
       "      <th>고혈압</th>\n",
       "      <th>저혈압</th>\n",
       "    </tr>\n",
       "  </thead>\n",
       "  <tbody>\n",
       "    <tr>\n",
       "      <th>0</th>\n",
       "      <td>P10312</td>\n",
       "      <td>2023-02-01</td>\n",
       "      <td>배**</td>\n",
       "      <td>남성</td>\n",
       "      <td>96</td>\n",
       "      <td>36.6</td>\n",
       "      <td>95</td>\n",
       "      <td>68</td>\n",
       "      <td>0</td>\n",
       "      <td>0</td>\n",
       "      <td>...</td>\n",
       "      <td>0</td>\n",
       "      <td>0</td>\n",
       "      <td>0</td>\n",
       "      <td>뇌경색</td>\n",
       "      <td>69.0</td>\n",
       "      <td>90이상</td>\n",
       "      <td>2</td>\n",
       "      <td>0</td>\n",
       "      <td>0</td>\n",
       "      <td>0</td>\n",
       "    </tr>\n",
       "    <tr>\n",
       "      <th>1</th>\n",
       "      <td>P10895</td>\n",
       "      <td>2023-02-01</td>\n",
       "      <td>라**</td>\n",
       "      <td>남성</td>\n",
       "      <td>98</td>\n",
       "      <td>36.5</td>\n",
       "      <td>113</td>\n",
       "      <td>82</td>\n",
       "      <td>0</td>\n",
       "      <td>1</td>\n",
       "      <td>...</td>\n",
       "      <td>0</td>\n",
       "      <td>1</td>\n",
       "      <td>0</td>\n",
       "      <td>뇌출혈</td>\n",
       "      <td>69.0</td>\n",
       "      <td>90이상</td>\n",
       "      <td>2</td>\n",
       "      <td>0</td>\n",
       "      <td>0</td>\n",
       "      <td>0</td>\n",
       "    </tr>\n",
       "    <tr>\n",
       "      <th>2</th>\n",
       "      <td>P11019</td>\n",
       "      <td>2023-02-01</td>\n",
       "      <td>당**</td>\n",
       "      <td>여성</td>\n",
       "      <td>26</td>\n",
       "      <td>36.2</td>\n",
       "      <td>102</td>\n",
       "      <td>69</td>\n",
       "      <td>1</td>\n",
       "      <td>0</td>\n",
       "      <td>...</td>\n",
       "      <td>0</td>\n",
       "      <td>1</td>\n",
       "      <td>1</td>\n",
       "      <td>뇌출혈</td>\n",
       "      <td>59.0</td>\n",
       "      <td>20대</td>\n",
       "      <td>2</td>\n",
       "      <td>0</td>\n",
       "      <td>0</td>\n",
       "      <td>0</td>\n",
       "    </tr>\n",
       "    <tr>\n",
       "      <th>3</th>\n",
       "      <td>P11152</td>\n",
       "      <td>2023-02-01</td>\n",
       "      <td>함**</td>\n",
       "      <td>남성</td>\n",
       "      <td>99</td>\n",
       "      <td>36.6</td>\n",
       "      <td>97</td>\n",
       "      <td>75</td>\n",
       "      <td>0</td>\n",
       "      <td>0</td>\n",
       "      <td>...</td>\n",
       "      <td>0</td>\n",
       "      <td>0</td>\n",
       "      <td>0</td>\n",
       "      <td>뇌경색</td>\n",
       "      <td>67.0</td>\n",
       "      <td>90이상</td>\n",
       "      <td>2</td>\n",
       "      <td>0</td>\n",
       "      <td>0</td>\n",
       "      <td>0</td>\n",
       "    </tr>\n",
       "    <tr>\n",
       "      <th>4</th>\n",
       "      <td>P11613</td>\n",
       "      <td>2023-02-01</td>\n",
       "      <td>태**</td>\n",
       "      <td>여성</td>\n",
       "      <td>79</td>\n",
       "      <td>36.5</td>\n",
       "      <td>133</td>\n",
       "      <td>71</td>\n",
       "      <td>0</td>\n",
       "      <td>0</td>\n",
       "      <td>...</td>\n",
       "      <td>1</td>\n",
       "      <td>0</td>\n",
       "      <td>1</td>\n",
       "      <td>뇌경색</td>\n",
       "      <td>17.0</td>\n",
       "      <td>70대</td>\n",
       "      <td>2</td>\n",
       "      <td>0</td>\n",
       "      <td>0</td>\n",
       "      <td>0</td>\n",
       "    </tr>\n",
       "  </tbody>\n",
       "</table>\n",
       "<p>5 rows × 28 columns</p>\n",
       "</div>"
      ],
      "text/plain": [
       "       ID        출동일시   이름  성별  나이    체온  수축기 혈압  이완기 혈압  호흡 곤란  간헐성 경련  ...  \\\n",
       "0  P10312  2023-02-01  배**  남성  96  36.6      95      68      0       0  ...   \n",
       "1  P10895  2023-02-01  라**  남성  98  36.5     113      82      0       1  ...   \n",
       "2  P11019  2023-02-01  당**  여성  26  36.2     102      69      1       0  ...   \n",
       "3  P11152  2023-02-01  함**  남성  99  36.6      97      75      0       0  ...   \n",
       "4  P11613  2023-02-01  태**  여성  79  36.5     133      71      0       0  ...   \n",
       "\n",
       "   졸도  말이 어눌해졌다  시력이 흐려짐  중증질환  이송 시간  연령구분  출동월  발열  고혈압  저혈압  \n",
       "0   0         0        0   뇌경색   69.0  90이상    2   0    0    0  \n",
       "1   0         1        0   뇌출혈   69.0  90이상    2   0    0    0  \n",
       "2   0         1        1   뇌출혈   59.0   20대    2   0    0    0  \n",
       "3   0         0        0   뇌경색   67.0  90이상    2   0    0    0  \n",
       "4   1         0        1   뇌경색   17.0   70대    2   0    0    0  \n",
       "\n",
       "[5 rows x 28 columns]"
      ]
     },
     "execution_count": 13,
     "metadata": {},
     "output_type": "execute_result"
    }
   ],
   "source": [
    "# 5) 저혈압 정보 구하기\n",
    "# 수축기 혈압이 90이하인 경우 1, 그렇지 않으면 0\n",
    "\n",
    "data['저혈압'] = [1 if x <= 90 else 0 for x in data['수축기 혈압']]\n",
    "data.head()"
   ]
  },
  {
   "cell_type": "markdown",
   "id": "050014a7",
   "metadata": {},
   "source": [
    "## 3) 단변량 분석 - 범주형 데이터"
   ]
  },
  {
   "cell_type": "markdown",
   "id": "ddf137da",
   "metadata": {},
   "source": [
    "* 대상 : 중증질환/성별/연령구분/출동월별\n",
    "* 데이터 가공이 필요한 정보\n",
    "  * 연령구분 : 나이 컬럼을 활용하여 [신생아, 10대미만, 10대, 20대~ 80대, 90이상으로 구분]\n",
    "  * 출동월 : 출동일시 컬럼을 활용하여 출동월을 추출"
   ]
  },
  {
   "cell_type": "code",
   "execution_count": 14,
   "id": "9ac96c13-fa1f-44d9-ac5a-2bb80519d8e1",
   "metadata": {},
   "outputs": [
    {
     "data": {
      "text/plain": [
       "복부손상    4608\n",
       "뇌경색     4224\n",
       "뇌출혈     4096\n",
       "심근경색    4096\n",
       "중증아님     150\n",
       "조산산모      12\n",
       "신생아        9\n",
       "사지접합       7\n",
       "중증화상       6\n",
       "Name: 중증질환, dtype: int64"
      ]
     },
     "execution_count": 14,
     "metadata": {},
     "output_type": "execute_result"
    }
   ],
   "source": [
    "# 중증질환 통계\n",
    "# '중증질환' 컬럼의 고유한 값(범주) 별 개수 카운트\n",
    "\n",
    "data['중증질환'].value_counts()"
   ]
  },
  {
   "cell_type": "code",
   "execution_count": 15,
   "id": "4df97b5d",
   "metadata": {},
   "outputs": [
    {
     "data": {
      "image/png": "[encoded data removed]",
      "text/plain": [
       "<Figure size 640x480 with 1 Axes>"
      ]
     },
     "metadata": {},
     "output_type": "display_data"
    }
   ],
   "source": [
    "# seaborn 라이브러리의 countplot 함수을 사용하여 '중증질환' 컬럼의 범주별 개수 시각화 \n",
    "\n",
    "sns.countplot(data=data, x='중증질환')\n",
    "plt.show()"
   ]
  },
  {
   "cell_type": "markdown",
   "id": "aeea8f4c-e352-4ca2-94b2-a437f29a14c6",
   "metadata": {},
   "source": [
    "* 중증 질환 중 [심근경색, 복부손상, 뇌경색, 뇌출혈]에 대한 자료만 추출하여 분석"
   ]
  },
  {
   "cell_type": "code",
   "execution_count": 16,
   "id": "251ee900-fa70-4cc4-bbf8-6203e8d5b206",
   "metadata": {},
   "outputs": [],
   "source": [
    "# data 데이터프레임에서 '중증질환'값이 ['심근경색', '복부손상', '뇌경색', '뇌출혈'] 에 포함되는 경우만을 추출하여 desease 변수에 저장\n",
    "# 이후 desease 데이터 프레임을 활용하여 분석\n",
    "\n",
    "desease = data[data['중증질환'].isin(['심근경색', '복부손상', '뇌경색', '뇌출혈'])]"
   ]
  },
  {
   "cell_type": "code",
   "execution_count": 17,
   "id": "8ef870ff-8b86-4aec-bf89-ce4e2851f16f",
   "metadata": {},
   "outputs": [
    {
     "data": {
      "text/plain": [
       "복부손상    4608\n",
       "뇌경색     4224\n",
       "뇌출혈     4096\n",
       "심근경색    4096\n",
       "Name: 중증질환, dtype: int64"
      ]
     },
     "execution_count": 17,
     "metadata": {},
     "output_type": "execute_result"
    }
   ],
   "source": [
    "# desease의 '중증질환' 컬럼의 고유한 값(범주) 별 개수 카운트\n",
    "\n",
    "desease['중증질환'].value_counts()"
   ]
  },
  {
   "cell_type": "code",
   "execution_count": 18,
   "id": "8f6a0e71-2d70-41db-8385-49290b0eaf36",
   "metadata": {},
   "outputs": [
    {
     "data": {
      "image/png": "[encoded data removed]",
      "text/plain": [
       "<Figure size 640x480 with 1 Axes>"
      ]
     },
     "metadata": {},
     "output_type": "display_data"
    }
   ],
   "source": [
    "# seaborn 라이브러리의 countplot 함수을 사용하여 '중증질환' 컬럼의 범주별 개수 시각화 \n",
    "\n",
    "sns.countplot(data=desease, x='중증질환')\n",
    "plt.show()"
   ]
  },
  {
   "cell_type": "code",
   "execution_count": 19,
   "id": "3508128c-c4bf-44a9-9124-6d670ada3b65",
   "metadata": {},
   "outputs": [],
   "source": [
    "# 질문) 어느 중증질환에 출동 건수가 많았나요?\n",
    "# 질문) 중증질환별 출동 건수에 차이가 있나요?\n",
    "\n"
   ]
  },
  {
   "cell_type": "code",
   "execution_count": 20,
   "id": "22ad8a54",
   "metadata": {},
   "outputs": [
    {
     "data": {
      "text/plain": [
       "array(['남성', '여성'], dtype=object)"
      ]
     },
     "execution_count": 20,
     "metadata": {},
     "output_type": "execute_result"
    }
   ],
   "source": [
    "## '성별' 컬럼의 고유한 값(범주) 확인\n",
    "\n",
    "desease['성별'].unique()"
   ]
  },
  {
   "cell_type": "code",
   "execution_count": 21,
   "id": "dfb0025b-c91e-484c-8272-af0c9da91bb2",
   "metadata": {},
   "outputs": [
    {
     "data": {
      "text/plain": [
       "남성    8523\n",
       "여성    8501\n",
       "Name: 성별, dtype: int64"
      ]
     },
     "execution_count": 21,
     "metadata": {},
     "output_type": "execute_result"
    }
   ],
   "source": [
    "# '성별' 컬럼의 고유한 값(범주) 별 개수 카운트\n",
    "\n",
    "desease['성별'].value_counts()"
   ]
  },
  {
   "cell_type": "code",
   "execution_count": 22,
   "id": "edb50520",
   "metadata": {},
   "outputs": [
    {
     "data": {
      "image/png": "[encoded data removed]",
      "text/plain": [
       "<Figure size 640x480 with 1 Axes>"
      ]
     },
     "metadata": {},
     "output_type": "display_data"
    }
   ],
   "source": [
    "# seaborn 라이브러리의 countplot 함수을 사용하여 '성별' 컬럼의 범주별 개수 시각화 \n",
    "\n",
    "sns.countplot(data=desease, x='성별')\n",
    "plt.show()"
   ]
  },
  {
   "cell_type": "code",
   "execution_count": 23,
   "id": "ab5380cd-7b6d-4428-acdf-052b044086ec",
   "metadata": {},
   "outputs": [],
   "source": [
    "#질문) 어느 성별에 출동이 많았나요?\n",
    "#질문) 성별에 따른 출동 건수의 차이가 있나요?\n",
    "\n"
   ]
  },
  {
   "cell_type": "code",
   "execution_count": 24,
   "id": "e9ecbb02",
   "metadata": {},
   "outputs": [
    {
     "data": {
      "text/plain": [
       "40대      3159\n",
       "50대      3150\n",
       "30대      3141\n",
       "60대      2460\n",
       "20대      2143\n",
       "70대      1243\n",
       "80대       978\n",
       "90이상      750\n",
       "신생아         0\n",
       "10대미만       0\n",
       "10대         0\n",
       "Name: 연령구분, dtype: int64"
      ]
     },
     "execution_count": 24,
     "metadata": {},
     "output_type": "execute_result"
    }
   ],
   "source": [
    "# '연령구분' 컬럼의 고유한 값(범주) 별 개수 카운트\n",
    "desease['연령구분'].value_counts()"
   ]
  },
  {
   "cell_type": "code",
   "execution_count": 25,
   "id": "6dc6a314",
   "metadata": {},
   "outputs": [
    {
     "data": {
      "image/png": "[encoded data removed]",
      "text/plain": [
       "<Figure size 640x480 with 1 Axes>"
      ]
     },
     "metadata": {},
     "output_type": "display_data"
    }
   ],
   "source": [
    "# seaborn 라이브러리의 countplot 함수을 사용하여 '연령구분' 컬럼의 범주별 개수 시각화 \n",
    "\n",
    "sns.countplot(data=desease, x='연령구분')\n",
    "plt.show()"
   ]
  },
  {
   "cell_type": "code",
   "execution_count": 26,
   "id": "ce974eed-ff49-4d48-98b5-6621b0d82b2a",
   "metadata": {},
   "outputs": [],
   "source": [
    "#질문) 어느 연령대가 가장 많은가요?\n",
    "#질문) 연령대별로 출동 건수의 차이가 있나요?\n",
    "\n",
    "\n"
   ]
  },
  {
   "cell_type": "code",
   "execution_count": 27,
   "id": "137f09a5",
   "metadata": {},
   "outputs": [
    {
     "data": {
      "text/plain": [
       "3    7289\n",
       "1    5295\n",
       "2    4050\n",
       "4     390\n",
       "Name: 출동월, dtype: int64"
      ]
     },
     "execution_count": 27,
     "metadata": {},
     "output_type": "execute_result"
    }
   ],
   "source": [
    "# '출동월' 컬럼의 고유한 값(범주) 별 개수 카운트\n",
    "desease['출동월'].value_counts()"
   ]
  },
  {
   "cell_type": "code",
   "execution_count": 28,
   "id": "2035bf06",
   "metadata": {},
   "outputs": [
    {
     "data": {
      "image/png": "[encoded data removed]",
      "text/plain": [
       "<Figure size 640x480 with 1 Axes>"
      ]
     },
     "metadata": {},
     "output_type": "display_data"
    }
   ],
   "source": [
    "# seaborn 라이브러리의 countplot 함수을 사용하여 '출동월' 컬럼의 범주별 개수 시각화 \n",
    "\n",
    "sns.countplot(data=desease, x='출동월')\n",
    "plt.show()"
   ]
  },
  {
   "cell_type": "code",
   "execution_count": 29,
   "id": "4bdbff62-21dd-41e3-932e-96ae160c8c94",
   "metadata": {},
   "outputs": [],
   "source": [
    "# 질문) 어느 월에 출동 건수가 많았나요?\n",
    "# 질문) 월별 출동 건수에 차이가 있나요?\n"
   ]
  },
  {
   "cell_type": "markdown",
   "id": "035edd66",
   "metadata": {},
   "source": [
    "## 4) 단변량 분석 - 숫자형 데이터\n",
    "* 대상 : 체온, 수축기 혈압"
   ]
  },
  {
   "cell_type": "code",
   "execution_count": 30,
   "id": "9a96f2aa",
   "metadata": {},
   "outputs": [
    {
     "data": {
      "text/plain": [
       "count    17024.000000\n",
       "mean        36.599430\n",
       "std          0.635988\n",
       "min         36.000000\n",
       "25%         36.200000\n",
       "50%         36.500000\n",
       "75%         36.800000\n",
       "max         39.900000\n",
       "Name: 체온, dtype: float64"
      ]
     },
     "execution_count": 30,
     "metadata": {},
     "output_type": "execute_result"
    }
   ],
   "source": [
    "# 체온 컬럼에 대한 기초 통계 정보 확인하기\n",
    "\n",
    "desease['체온'].describe()"
   ]
  },
  {
   "cell_type": "code",
   "execution_count": 31,
   "id": "66350a0c",
   "metadata": {},
   "outputs": [
    {
     "data": {
      "image/png": "[encoded data removed]",
      "text/plain": [
       "<Figure size 640x480 with 1 Axes>"
      ]
     },
     "metadata": {},
     "output_type": "display_data"
    }
   ],
   "source": [
    "# seaborn의 boxplot을 이용하여 '체온' 컬럼의 분포를 시각화\n",
    "\n",
    "sns.boxplot(data=desease, x='체온')\n",
    "plt.show()"
   ]
  },
  {
   "cell_type": "code",
   "execution_count": 32,
   "id": "bd3101f8-2734-4c27-ac06-5283b059389d",
   "metadata": {},
   "outputs": [],
   "source": [
    "# 질문) 체온 컬럼의 데이터 분포는 어떠한가?\n",
    "# 질문) 체온 컬럼의 데이터에 이상치가 존재하는가? \n",
    "# 질문) 이상치 데이터는 제거해야 하는가? 아니면 유지해야 하는가?\n",
    "\n"
   ]
  },
  {
   "cell_type": "code",
   "execution_count": 33,
   "id": "1a798117",
   "metadata": {},
   "outputs": [
    {
     "data": {
      "text/plain": [
       "count    17024.000000\n",
       "mean       113.810914\n",
       "std         13.742302\n",
       "min         70.000000\n",
       "25%        104.000000\n",
       "50%        114.000000\n",
       "75%        124.000000\n",
       "max        159.000000\n",
       "Name: 수축기 혈압, dtype: float64"
      ]
     },
     "execution_count": 33,
     "metadata": {},
     "output_type": "execute_result"
    }
   ],
   "source": [
    "# 수축기 혈압 컬럼에 대한 기초 통계 정보 확인하기\n",
    "\n",
    "desease['수축기 혈압'].describe()"
   ]
  },
  {
   "cell_type": "code",
   "execution_count": 34,
   "id": "afcd5d30",
   "metadata": {},
   "outputs": [
    {
     "data": {
      "image/png": "[encoded data removed]",
      "text/plain": [
       "<Figure size 640x480 with 1 Axes>"
      ]
     },
     "metadata": {},
     "output_type": "display_data"
    }
   ],
   "source": [
    "# seaborn의 boxplot을 이용하여 '수축기 혈압' 컬럼의 분포를 시각화\n",
    "\n",
    "sns.boxplot(data=desease, x='수축기 혈압')\n",
    "plt.show()"
   ]
  },
  {
   "cell_type": "code",
   "execution_count": 35,
   "id": "5beae84f-7c56-4f8e-b249-73079b13bf24",
   "metadata": {},
   "outputs": [],
   "source": [
    "# 질문) 수축기 혈압 컬럼의 데이터 분포는 어떠한가?\n",
    "# 질문) 수축기 혈압 컬럼의 데이터에 이상치가 존재하는가? \n",
    "# 질문) 이상치 데이터는 제거해야 하는가? 아니면 유지해야 하는가?\n",
    "\n"
   ]
  },
  {
   "cell_type": "markdown",
   "id": "e47ce5bc-db30-4859-919c-63e1d0c7b04d",
   "metadata": {},
   "source": [
    "## 5) 이변량 분석 - 범주 vs 범주"
   ]
  },
  {
   "cell_type": "markdown",
   "id": "70763924-309a-49eb-a040-5904d4daf0d6",
   "metadata": {},
   "source": [
    " * Target : 중증 질환\n",
    " * Feature : 성별, 연령구분, 출동월, 증상 리스트"
   ]
  },
  {
   "cell_type": "code",
   "execution_count": 36,
   "id": "43959f34-0a4d-4085-bc2f-b3ad54a26931",
   "metadata": {},
   "outputs": [],
   "source": [
    "# 1) Feature : 성별, Target : 중증 질환\n",
    "# 가설 수립\n",
    "# 귀무 가설 : 성별로 중증 질환에 차이가 없다\n",
    "# 대립 가설 : 성별로 중증 질환에 차이가 있다."
   ]
  },
  {
   "cell_type": "code",
   "execution_count": 37,
   "id": "28f1ef94-cf9b-4541-80dd-75c486cfd3d0",
   "metadata": {},
   "outputs": [
    {
     "data": {
      "text/plain": [
       "Chi2ContingencyResult(statistic=0.8894904630022681, pvalue=0.8279632333263119, dof=3, expected_freq=array([[2114.72932331, 2050.64661654, 2306.97744361, 2050.64661654],\n",
       "       [2109.27067669, 2045.35338346, 2301.02255639, 2045.35338346]]))"
      ]
     },
     "execution_count": 37,
     "metadata": {},
     "output_type": "execute_result"
    }
   ],
   "source": [
    "# pandas의 crosstab을 이용하여 집계\n",
    "\n",
    "cross_sex = pd.crosstab(desease['성별'], desease['중증질환'])\n",
    "\n",
    "# 수치화 검증 : 카이제곱 검증 (상관계수와 p-value 확인)\n",
    "\n",
    "chi2_sex = spst.chi2_contingency(cross_sex)\n",
    "chi2_sex"
   ]
  },
  {
   "cell_type": "code",
   "execution_count": 38,
   "id": "c119c7ee-3611-4132-ad58-5d12796d61b2",
   "metadata": {},
   "outputs": [],
   "source": [
    "# 2) Feature : 연령 구분, Target : 중증 질환\n",
    "# 가설 수립\n",
    "# 귀무 가설 : 연령 구분대별로 중증 질환에 차이가 없다\n",
    "# 대립 가설 : 연령 구분대별로 중증 질환에 차이가 있다."
   ]
  },
  {
   "cell_type": "code",
   "execution_count": 39,
   "id": "ef2f545f-7ade-4d3a-ad46-2a22498c737e",
   "metadata": {},
   "outputs": [
    {
     "data": {
      "text/plain": [
       "Chi2ContingencyResult(statistic=16.035011258815707, pvalue=0.7676807326530457, dof=21, expected_freq=array([[531.72180451, 515.60902256, 580.06015038, 515.60902256],\n",
       "       [779.34586466, 755.72932331, 850.19548872, 755.72932331],\n",
       "       [783.81203008, 760.06015038, 855.06766917, 760.06015038],\n",
       "       [781.57894737, 757.89473684, 852.63157895, 757.89473684],\n",
       "       [610.37593985, 591.87969925, 665.86466165, 591.87969925],\n",
       "       [308.41353383, 299.06766917, 336.45112782, 299.06766917],\n",
       "       [242.66165414, 235.30827068, 264.72180451, 235.30827068],\n",
       "       [186.09022556, 180.45112782, 203.0075188 , 180.45112782]]))"
      ]
     },
     "execution_count": 39,
     "metadata": {},
     "output_type": "execute_result"
    }
   ],
   "source": [
    "# pandas의 crosstab을 이용하여 집계\n",
    "\n",
    "cross_age = pd.crosstab(desease['연령구분'], desease['중증질환'])\n",
    "\n",
    "# 수치화 검증 : 카이제곱 검증 (상관계수와 p-value 확인)\n",
    "\n",
    "chi2_age = spst.chi2_contingency(cross_age)\n",
    "chi2_age"
   ]
  },
  {
   "cell_type": "code",
   "execution_count": 40,
   "id": "d390003c-96ca-4f2c-924d-ad20b46d7706",
   "metadata": {},
   "outputs": [],
   "source": [
    "# 3) Feature : 출동월, Target : 중증 질환\n",
    "# 가설 수립\n",
    "# 귀무 가설 : 출동월별로 중증 질환에 차이가 없다\n",
    "# 대립 가설 : 출동월별로 중증 질환에 차이가 있다."
   ]
  },
  {
   "cell_type": "code",
   "execution_count": 41,
   "id": "c2974a8e-a38f-448e-b468-ccea49b6d0ff",
   "metadata": {},
   "outputs": [
    {
     "data": {
      "text/plain": [
       "Chi2ContingencyResult(statistic=7.458023154020693, pvalue=0.5895452418994855, dof=9, expected_freq=array([[1313.79699248, 1273.98496241, 1433.23308271, 1273.98496241],\n",
       "       [1004.88721805,  974.43609023, 1096.2406015 ,  974.43609023],\n",
       "       [1808.54887218, 1753.7443609 , 1972.96240602, 1753.7443609 ],\n",
       "       [  96.76691729,   93.83458647,  105.56390977,   93.83458647]]))"
      ]
     },
     "execution_count": 41,
     "metadata": {},
     "output_type": "execute_result"
    }
   ],
   "source": [
    "# pandas의 crosstab을 이용하여 집계\n",
    "\n",
    "cross_month = pd.crosstab(desease['출동월'], desease['중증질환'])\n",
    "\n",
    "# 수치화 검증 : 카이제곱 검증 (상관계수와 p-value 확인)\n",
    "\n",
    "chi_month = spst.chi2_contingency(cross_month)\n",
    "chi_month"
   ]
  },
  {
   "cell_type": "code",
   "execution_count": 42,
   "id": "e3e82cdc-14d6-45e7-93d7-bba6b66b9b50",
   "metadata": {},
   "outputs": [],
   "source": [
    "# 4) Feature : 증상리스트, Target : 중증 질환\n",
    "# 가설 수립\n",
    "# 귀무 가설 : 각 증상별로 중증 질환에 차이가 없다\n",
    "# 대립 가설 : 각 증상별로 중증 질환에 차이가 있다."
   ]
  },
  {
   "cell_type": "code",
   "execution_count": 43,
   "id": "e0846e98-2046-4c9f-a5cd-388522553e56",
   "metadata": {},
   "outputs": [],
   "source": [
    "# 증상 리스트 \n",
    "\n",
    "symptom = ['호흡 곤란', '간헐성 경련', '설사', '기침', '출혈', '통증', '만지면 아프다', '무감각', '마비', '현기증', '졸도',\n",
    "       '말이 어눌해졌다', '시력이 흐려짐', '발열', '고혈압', '저혈압']"
   ]
  },
  {
   "cell_type": "code",
   "execution_count": 44,
   "id": "ac3eaab2-8fd5-4c5f-b550-af4350892fcb",
   "metadata": {},
   "outputs": [
    {
     "name": "stdout",
     "output_type": "stream",
     "text": [
      "대립가설 채택 호흡 곤란 에 따라 중증 질환에 차이가 있다. P-value  0.0\n",
      "대립가설 채택 간헐성 경련 에 따라 중증 질환에 차이가 있다. P-value  5.12065792298629e-258\n",
      "대립가설 채택 설사 에 따라 중증 질환에 차이가 있다. P-value  0.0\n",
      "대립가설 채택 기침 에 따라 중증 질환에 차이가 있다. P-value  3.910021500047704e-232\n",
      "대립가설 채택 출혈 에 따라 중증 질환에 차이가 있다. P-value  0.0\n",
      "대립가설 채택 통증 에 따라 중증 질환에 차이가 있다. P-value  0.0\n",
      "대립가설 채택 만지면 아프다 에 따라 중증 질환에 차이가 있다. P-value  0.0\n",
      "대립가설 채택 무감각 에 따라 중증 질환에 차이가 있다. P-value  0.0\n",
      "대립가설 채택 마비 에 따라 중증 질환에 차이가 있다. P-value  0.0\n",
      "대립가설 채택 현기증 에 따라 중증 질환에 차이가 있다. P-value  0.0\n",
      "대립가설 채택 졸도 에 따라 중증 질환에 차이가 있다. P-value  0.0\n",
      "대립가설 채택 말이 어눌해졌다 에 따라 중증 질환에 차이가 있다. P-value  0.0\n",
      "대립가설 채택 시력이 흐려짐 에 따라 중증 질환에 차이가 있다. P-value  0.0\n",
      "대립가설 채택 발열 에 따라 중증 질환에 차이가 있다. P-value  9.27677711203191e-200\n",
      "대립가설 채택 고혈압 에 따라 중증 질환에 차이가 있다. P-value  0.005242633665231849\n",
      "대립가설 채택 저혈압 에 따라 중증 질환에 차이가 있다. P-value  2.7585538310404642e-39\n"
     ]
    }
   ],
   "source": [
    "# for문을 이용하여 각 증상과 중증질환과의 카이제곱 검증 시행\n",
    "\n",
    "for one_sym in symptom:\n",
    "    cross_sym = pd.crosstab(desease[one_sym], desease['중증질환'])\n",
    "\n",
    "    # 수치화 검증 : 카이제곱 검증 (상관계수와 p-value 확인)\n",
    "    chi2_sym = spst.chi2_contingency(cross_sym)\n",
    "    if chi2_sym[1] > 0.05:\n",
    "        print(\"귀무가설 채택\", one_sym, \"에 따라 중증 질환에 차이가 없다. P-value \", chi2_sym[1])\n",
    "    else:\n",
    "        print(\"대립가설 채택\", one_sym, \"에 따라 중증 질환에 차이가 있다. P-value \", chi2_sym[1])\n",
    "    "
   ]
  },
  {
   "cell_type": "code",
   "execution_count": 45,
   "id": "6f8c0db8-5a6d-4b0b-9697-9428293a05f0",
   "metadata": {},
   "outputs": [
    {
     "data": {
      "image/png": "[encoded data removed]",
      "text/plain": [
       "<Figure size 640x480 with 3 Axes>"
      ]
     },
     "metadata": {},
     "output_type": "display_data"
    }
   ],
   "source": [
    "# mosaic를 이용하여 간헐성 경련 vs 중증질환 관계를 시각화\n",
    "\n",
    "from statsmodels.graphics.mosaicplot import mosaic\n",
    "\n",
    "mosaic(desease, ['간헐성 경련', '중증질환'])\n",
    "\n",
    "plt.show()"
   ]
  },
  {
   "cell_type": "code",
   "execution_count": 46,
   "id": "926399d9-de45-4acf-8426-f7ce52cf36ee",
   "metadata": {},
   "outputs": [],
   "source": [
    "# 질문) 범주형 vc 범주형 이변량 분석 결과를 정리하세요\n",
    "\n"
   ]
  },
  {
   "cell_type": "markdown",
   "id": "f2410a72",
   "metadata": {},
   "source": [
    "## 6) 이변량 분석 - 숫자형 vc 범주형"
   ]
  },
  {
   "cell_type": "markdown",
   "id": "5d4baee9-3858-436f-900b-a12d3d4a0a21",
   "metadata": {},
   "source": [
    " * Target : 중증 질환\n",
    " * Feature : 나이, 체온, 수축기 혈압, 이완기 혈압"
   ]
  },
  {
   "cell_type": "code",
   "execution_count": 47,
   "id": "caa7e218-6dac-4104-aa07-3765bb753d0b",
   "metadata": {},
   "outputs": [],
   "source": [
    "# 가설 수립\n",
    "# 귀무 가설 : feature에 따라 중증 질환에 차이가 없다\n",
    "# 대립 가설 : feature에 따라 중증 질환에 차이가 있다."
   ]
  },
  {
   "cell_type": "code",
   "execution_count": 48,
   "id": "fcfc4f37-a905-4255-9fcf-e9ac68de6b57",
   "metadata": {},
   "outputs": [
    {
     "name": "stdout",
     "output_type": "stream",
     "text": [
      "F_onewayResult(statistic=2.3529735359873114, pvalue=0.07008234380708696)\n",
      "0.07008234380708696\n",
      "F_onewayResult(statistic=201.84396148529783, pvalue=1.2066485057601664e-128)\n",
      "1.2066485057601664e-128\n",
      "F_onewayResult(statistic=7.437059869693044, pvalue=5.657109130351948e-05)\n",
      "5.657109130351948e-05\n",
      "F_onewayResult(statistic=12.87837177481653, pvalue=2.117334620631215e-08)\n",
      "2.117334620631215e-08\n"
     ]
    }
   ],
   "source": [
    "# anova 분석 대상 리스트 확인\n",
    "\n",
    "anova_column = ['나이', '체온', '수축기 혈압', '이완기 혈압']\n",
    "\n",
    "#for 문을 이용하여 각 속성별로 데이터프레임을 분리하고, anova 분석 결과를 확인\n",
    "\n",
    "for one_column in anova_column:\n",
    "    Class_1= desease.loc[desease['중증질환'] == \"뇌출혈\", one_column]\n",
    "    Class_2= desease.loc[desease['중증질환'] == \"뇌경색\", one_column]\n",
    "    Class_3= desease.loc[desease['중증질환'] == \"복부손상\", one_column]\n",
    "    Class_4= desease.loc[desease['중증질환'] == \"심근경색\", one_column]\n",
    "    result  = spst.f_oneway(Class_1, Class_2, Class_3, Class_4)\n",
    "    print(result)\n",
    "    print(result[1])\n",
    "    "
   ]
  },
  {
   "cell_type": "code",
   "execution_count": 49,
   "id": "b64a2030",
   "metadata": {},
   "outputs": [
    {
     "data": {
      "image/png": "[encoded data removed]",
      "text/plain": [
       "<Figure size 640x480 with 1 Axes>"
      ]
     },
     "metadata": {},
     "output_type": "display_data"
    },
    {
     "data": {
      "image/png": "[encoded data removed]",
      "text/plain": [
       "<Figure size 640x480 with 1 Axes>"
      ]
     },
     "metadata": {},
     "output_type": "display_data"
    },
    {
     "data": {
      "image/png": "[encoded data removed]",
      "text/plain": [
       "<Figure size 640x480 with 1 Axes>"
      ]
     },
     "metadata": {},
     "output_type": "display_data"
    },
    {
     "data": {
      "image/png": "[encoded data removed]",
      "text/plain": [
       "<Figure size 640x480 with 1 Axes>"
      ]
     },
     "metadata": {},
     "output_type": "display_data"
    }
   ],
   "source": [
    "# seaborn의 boxplot을 활용하여 증상별 feature값 분포의 차이를 시각화\n",
    "\n",
    "for one_column in anova_column:\n",
    "    sns.boxplot(data=desease, x='중증질환', y=one_column)\n",
    "    plt.show()"
   ]
  },
  {
   "cell_type": "code",
   "execution_count": 50,
   "id": "f70577b0-3bec-4480-be56-565d1078da94",
   "metadata": {},
   "outputs": [],
   "source": [
    "# 질문) 숫자형 vc 범주형 이변량 분석 결과를 정리하세요\n",
    "\n"
   ]
  },
  {
   "cell_type": "markdown",
   "id": "73955abc-a754-45b1-be8f-b9278d7040d9",
   "metadata": {},
   "source": [
    "## 7) 데이터 분석 결과"
   ]
  },
  {
   "cell_type": "code",
   "execution_count": 51,
   "id": "c46edb59-ab80-43f9-aeaf-ea90301e83d0",
   "metadata": {},
   "outputs": [],
   "source": [
    "# 질문) 데이터 분석 결과, AI 모델링에 반영할 Feature는 무엇인가요?\n",
    "\n",
    "\n",
    "\n"
   ]
  },
  {
   "cell_type": "markdown",
   "id": "711e1a5e-0cd4-4f9f-a544-167731e938b0",
   "metadata": {},
   "source": [
    "## 미션2 Clear\n",
    "## 수고하셨습니다!!"
   ]
  }
 ],
 "metadata": {
  "kernelspec": {
   "display_name": "Python 3 (ipykernel)",
   "language": "python",
   "name": "python3"
  },
  "language_info": {
   "codemirror_mode": {
    "name": "ipython",
    "version": 3
   },
   "file_extension": ".py",
   "mimetype": "text/x-python",
   "name": "python",
   "nbconvert_exporter": "python",
   "pygments_lexer": "ipython3",
   "version": "3.9.13"
  },
  "vscode": {
   "interpreter": {
    "hash": "f08154012ddadd8e950e6e9e035c7a7b32c136e7647e9b7c77e02eb723a8bedb"
   }
  }
 },
 "nbformat": 4,
 "nbformat_minor": 5
}
