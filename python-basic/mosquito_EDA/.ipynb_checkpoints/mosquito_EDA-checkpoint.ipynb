{
 "cells": [
  {
   "cell_type": "code",
   "execution_count": 1,
   "id": "579a4529-4f0f-4814-a4c9-237a4fba86fb",
   "metadata": {
    "id": "579a4529-4f0f-4814-a4c9-237a4fba86fb"
   },
   "outputs": [],
   "source": [
    "import pandas as pd"
   ]
  },
  {
   "cell_type": "code",
   "execution_count": 2,
   "id": "0a82b58d-de90-4463-80a6-c55ee8f433d4",
   "metadata": {
    "id": "0a82b58d-de90-4463-80a6-c55ee8f433d4"
   },
   "outputs": [],
   "source": [
    "test = pd.read_csv('서울시 모기예보제 정보.csv',encoding='cp949')"
   ]
  },
  {
   "cell_type": "code",
   "execution_count": 4,
   "id": "08e60d7f-c8c6-4f98-a586-f1fa41fb3b65",
   "metadata": {
    "id": "08e60d7f-c8c6-4f98-a586-f1fa41fb3b65",
    "outputId": "6dfcf10a-775e-4299-c19a-42d96fb0b408"
   },
   "outputs": [
    {
     "name": "stdout",
     "output_type": "stream",
     "text": [
      "<class 'pandas.core.frame.DataFrame'>\n",
      "RangeIndex: 5534 entries, 0 to 5533\n",
      "Data columns (total 4 columns):\n",
      " #   Column     Non-Null Count  Dtype  \n",
      "---  ------     --------------  -----  \n",
      " 0   모기지수 발생일   5534 non-null   object \n",
      " 1   모기지수(수변부)  5522 non-null   float64\n",
      " 2   모기지수(주거지)  5522 non-null   float64\n",
      " 3   모기지수(공원)   5522 non-null   float64\n",
      "dtypes: float64(3), object(1)\n",
      "memory usage: 173.1+ KB\n"
     ]
    }
   ],
   "source": [
    "test.info()"
   ]
  },
  {
   "cell_type": "code",
   "execution_count": 68,
   "id": "3258813e-c03d-4895-9991-07bc27244b89",
   "metadata": {
    "id": "3258813e-c03d-4895-9991-07bc27244b89",
    "outputId": "8a08041a-8366-48e3-afad-5d39fbb50b05"
   },
   "outputs": [
    {
     "data": {
      "text/plain": [
       "모기지수 발생일     0\n",
       "모기지수(수변부)    0\n",
       "모기지수(주거지)    0\n",
       "모기지수(공원)     0\n",
       "year         0\n",
       "month        0\n",
       "day          0\n",
       "dtype: int64"
      ]
     },
     "execution_count": 68,
     "metadata": {},
     "output_type": "execute_result"
    }
   ],
   "source": [
    "test.isna().sum()"
   ]
  },
  {
   "cell_type": "code",
   "execution_count": 6,
   "id": "f693ac35-cbf8-4e7b-9098-2f554a88b016",
   "metadata": {
    "id": "f693ac35-cbf8-4e7b-9098-2f554a88b016"
   },
   "outputs": [],
   "source": [
    "# NaN 제거꼭 안해도됨!\n",
    "test.dropna(inplace=True)"
   ]
  },
  {
   "cell_type": "code",
   "execution_count": 7,
   "id": "7b37909c-afbb-4710-b51e-23b8b74a22cd",
   "metadata": {
    "id": "7b37909c-afbb-4710-b51e-23b8b74a22cd",
    "outputId": "ab0c9e4c-cd8a-4ff9-d90f-7729cd0b615b"
   },
   "outputs": [
    {
     "data": {
      "text/plain": [
       "모기지수 발생일     0\n",
       "모기지수(수변부)    0\n",
       "모기지수(주거지)    0\n",
       "모기지수(공원)     0\n",
       "dtype: int64"
      ]
     },
     "execution_count": 7,
     "metadata": {},
     "output_type": "execute_result"
    }
   ],
   "source": [
    "test.isna().sum()"
   ]
  },
  {
   "cell_type": "code",
   "execution_count": 8,
   "id": "c17c72e4-a585-41c2-aa23-9652c3058607",
   "metadata": {
    "id": "c17c72e4-a585-41c2-aa23-9652c3058607",
    "outputId": "da0b5a9c-0dda-4ef3-e237-be0b1330f156"
   },
   "outputs": [
    {
     "data": {
      "text/plain": [
       "1970-01-01    2954\n",
       "2021-10-06       3\n",
       "2020-03-20       2\n",
       "2020-03-19       2\n",
       "2020-02-28       2\n",
       "              ... \n",
       "2020-11-27       1\n",
       "2020-11-26       1\n",
       "2020-11-25       1\n",
       "2020-11-24       1\n",
       "2019-10-15       1\n",
       "Name: 모기지수 발생일, Length: 2437, dtype: int64"
      ]
     },
     "execution_count": 8,
     "metadata": {},
     "output_type": "execute_result"
    }
   ],
   "source": [
    "# 중복값 확인\n",
    "test['모기지수 발생일'].value_counts()"
   ]
  },
  {
   "cell_type": "code",
   "execution_count": 9,
   "id": "a97326a5-20ce-4411-be7e-c30acb444dc4",
   "metadata": {
    "id": "a97326a5-20ce-4411-be7e-c30acb444dc4",
    "outputId": "c462c186-eafe-474f-8875-6f47fc4cd544"
   },
   "outputs": [
    {
     "data": {
      "text/html": [
       "<div>\n",
       "<style scoped>\n",
       "    .dataframe tbody tr th:only-of-type {\n",
       "        vertical-align: middle;\n",
       "    }\n",
       "\n",
       "    .dataframe tbody tr th {\n",
       "        vertical-align: top;\n",
       "    }\n",
       "\n",
       "    .dataframe thead th {\n",
       "        text-align: right;\n",
       "    }\n",
       "</style>\n",
       "<table border=\"1\" class=\"dataframe\">\n",
       "  <thead>\n",
       "    <tr style=\"text-align: right;\">\n",
       "      <th></th>\n",
       "      <th>모기지수 발생일</th>\n",
       "      <th>모기지수(수변부)</th>\n",
       "      <th>모기지수(주거지)</th>\n",
       "      <th>모기지수(공원)</th>\n",
       "    </tr>\n",
       "  </thead>\n",
       "  <tbody>\n",
       "    <tr>\n",
       "      <th>2580</th>\n",
       "      <td>1970-01-01</td>\n",
       "      <td>0.0</td>\n",
       "      <td>0.0</td>\n",
       "      <td>0.0</td>\n",
       "    </tr>\n",
       "    <tr>\n",
       "      <th>2581</th>\n",
       "      <td>1970-01-01</td>\n",
       "      <td>0.0</td>\n",
       "      <td>0.0</td>\n",
       "      <td>0.0</td>\n",
       "    </tr>\n",
       "    <tr>\n",
       "      <th>2582</th>\n",
       "      <td>1970-01-01</td>\n",
       "      <td>0.0</td>\n",
       "      <td>0.0</td>\n",
       "      <td>0.0</td>\n",
       "    </tr>\n",
       "    <tr>\n",
       "      <th>2583</th>\n",
       "      <td>1970-01-01</td>\n",
       "      <td>0.0</td>\n",
       "      <td>0.0</td>\n",
       "      <td>0.0</td>\n",
       "    </tr>\n",
       "    <tr>\n",
       "      <th>2584</th>\n",
       "      <td>1970-01-01</td>\n",
       "      <td>0.0</td>\n",
       "      <td>0.0</td>\n",
       "      <td>0.0</td>\n",
       "    </tr>\n",
       "    <tr>\n",
       "      <th>...</th>\n",
       "      <td>...</td>\n",
       "      <td>...</td>\n",
       "      <td>...</td>\n",
       "      <td>...</td>\n",
       "    </tr>\n",
       "    <tr>\n",
       "      <th>5529</th>\n",
       "      <td>1970-01-01</td>\n",
       "      <td>0.0</td>\n",
       "      <td>0.0</td>\n",
       "      <td>0.0</td>\n",
       "    </tr>\n",
       "    <tr>\n",
       "      <th>5530</th>\n",
       "      <td>1970-01-01</td>\n",
       "      <td>0.0</td>\n",
       "      <td>0.0</td>\n",
       "      <td>0.0</td>\n",
       "    </tr>\n",
       "    <tr>\n",
       "      <th>5531</th>\n",
       "      <td>1970-01-01</td>\n",
       "      <td>0.0</td>\n",
       "      <td>0.0</td>\n",
       "      <td>0.0</td>\n",
       "    </tr>\n",
       "    <tr>\n",
       "      <th>5532</th>\n",
       "      <td>1970-01-01</td>\n",
       "      <td>0.0</td>\n",
       "      <td>0.0</td>\n",
       "      <td>0.0</td>\n",
       "    </tr>\n",
       "    <tr>\n",
       "      <th>5533</th>\n",
       "      <td>1970-01-01</td>\n",
       "      <td>0.0</td>\n",
       "      <td>0.0</td>\n",
       "      <td>0.0</td>\n",
       "    </tr>\n",
       "  </tbody>\n",
       "</table>\n",
       "<p>2954 rows × 4 columns</p>\n",
       "</div>"
      ],
      "text/plain": [
       "        모기지수 발생일  모기지수(수변부)  모기지수(주거지)  모기지수(공원)\n",
       "2580  1970-01-01        0.0        0.0       0.0\n",
       "2581  1970-01-01        0.0        0.0       0.0\n",
       "2582  1970-01-01        0.0        0.0       0.0\n",
       "2583  1970-01-01        0.0        0.0       0.0\n",
       "2584  1970-01-01        0.0        0.0       0.0\n",
       "...          ...        ...        ...       ...\n",
       "5529  1970-01-01        0.0        0.0       0.0\n",
       "5530  1970-01-01        0.0        0.0       0.0\n",
       "5531  1970-01-01        0.0        0.0       0.0\n",
       "5532  1970-01-01        0.0        0.0       0.0\n",
       "5533  1970-01-01        0.0        0.0       0.0\n",
       "\n",
       "[2954 rows x 4 columns]"
      ]
     },
     "execution_count": 9,
     "metadata": {},
     "output_type": "execute_result"
    }
   ],
   "source": [
    "test[test['모기지수 발생일']=='1970-01-01']"
   ]
  },
  {
   "cell_type": "code",
   "execution_count": 10,
   "id": "b1d2f012-c3c5-40e5-85e7-0c9e2afb2381",
   "metadata": {
    "id": "b1d2f012-c3c5-40e5-85e7-0c9e2afb2381",
    "outputId": "e6c5f261-845f-4439-c033-6a663046d93d"
   },
   "outputs": [
    {
     "data": {
      "text/html": [
       "<div>\n",
       "<style scoped>\n",
       "    .dataframe tbody tr th:only-of-type {\n",
       "        vertical-align: middle;\n",
       "    }\n",
       "\n",
       "    .dataframe tbody tr th {\n",
       "        vertical-align: top;\n",
       "    }\n",
       "\n",
       "    .dataframe thead th {\n",
       "        text-align: right;\n",
       "    }\n",
       "</style>\n",
       "<table border=\"1\" class=\"dataframe\">\n",
       "  <thead>\n",
       "    <tr style=\"text-align: right;\">\n",
       "      <th></th>\n",
       "      <th>모기지수 발생일</th>\n",
       "      <th>모기지수(수변부)</th>\n",
       "      <th>모기지수(주거지)</th>\n",
       "      <th>모기지수(공원)</th>\n",
       "    </tr>\n",
       "  </thead>\n",
       "  <tbody>\n",
       "    <tr>\n",
       "      <th>503</th>\n",
       "      <td>2021-10-06</td>\n",
       "      <td>100.0</td>\n",
       "      <td>48.7</td>\n",
       "      <td>53.1</td>\n",
       "    </tr>\n",
       "    <tr>\n",
       "      <th>504</th>\n",
       "      <td>2021-10-06</td>\n",
       "      <td>100.0</td>\n",
       "      <td>48.7</td>\n",
       "      <td>53.1</td>\n",
       "    </tr>\n",
       "    <tr>\n",
       "      <th>505</th>\n",
       "      <td>2021-10-06</td>\n",
       "      <td>100.0</td>\n",
       "      <td>48.7</td>\n",
       "      <td>53.1</td>\n",
       "    </tr>\n",
       "  </tbody>\n",
       "</table>\n",
       "</div>"
      ],
      "text/plain": [
       "       모기지수 발생일  모기지수(수변부)  모기지수(주거지)  모기지수(공원)\n",
       "503  2021-10-06      100.0       48.7      53.1\n",
       "504  2021-10-06      100.0       48.7      53.1\n",
       "505  2021-10-06      100.0       48.7      53.1"
      ]
     },
     "execution_count": 10,
     "metadata": {},
     "output_type": "execute_result"
    }
   ],
   "source": [
    "test[test['모기지수 발생일']=='2021-10-06']"
   ]
  },
  {
   "cell_type": "code",
   "execution_count": 11,
   "id": "989fa8c8-86e8-4106-840c-f728c81c1c08",
   "metadata": {
    "id": "989fa8c8-86e8-4106-840c-f728c81c1c08"
   },
   "outputs": [],
   "source": [
    "# 중복값 제거 \n",
    "test.drop_duplicates(inplace=True, keep='first')\n",
    "# 해당 row의 데이터가 모두 똑같을때 제거됩니다\n",
    "\n",
    "# test.drop_duplicates(inplace=True, keep='first',subset=['모기지수 발생일'])\n",
    "# 해당 row 에서 '모기지수 발생일'이 같으면 나머지 데이터가 달라도 제거됩니다. '기준'"
   ]
  },
  {
   "cell_type": "code",
   "execution_count": 12,
   "id": "7e884a39-4e75-409e-b912-be3e97524c2b",
   "metadata": {
    "id": "7e884a39-4e75-409e-b912-be3e97524c2b",
    "outputId": "a0e87737-f02f-4291-8e3a-48949222de3c"
   },
   "outputs": [
    {
     "data": {
      "text/html": [
       "<div>\n",
       "<style scoped>\n",
       "    .dataframe tbody tr th:only-of-type {\n",
       "        vertical-align: middle;\n",
       "    }\n",
       "\n",
       "    .dataframe tbody tr th {\n",
       "        vertical-align: top;\n",
       "    }\n",
       "\n",
       "    .dataframe thead th {\n",
       "        text-align: right;\n",
       "    }\n",
       "</style>\n",
       "<table border=\"1\" class=\"dataframe\">\n",
       "  <thead>\n",
       "    <tr style=\"text-align: right;\">\n",
       "      <th></th>\n",
       "      <th>모기지수 발생일</th>\n",
       "      <th>모기지수(수변부)</th>\n",
       "      <th>모기지수(주거지)</th>\n",
       "      <th>모기지수(공원)</th>\n",
       "    </tr>\n",
       "  </thead>\n",
       "  <tbody>\n",
       "    <tr>\n",
       "      <th>503</th>\n",
       "      <td>2021-10-06</td>\n",
       "      <td>100.0</td>\n",
       "      <td>48.7</td>\n",
       "      <td>53.1</td>\n",
       "    </tr>\n",
       "  </tbody>\n",
       "</table>\n",
       "</div>"
      ],
      "text/plain": [
       "       모기지수 발생일  모기지수(수변부)  모기지수(주거지)  모기지수(공원)\n",
       "503  2021-10-06      100.0       48.7      53.1"
      ]
     },
     "execution_count": 12,
     "metadata": {},
     "output_type": "execute_result"
    }
   ],
   "source": [
    "test[test['모기지수 발생일']=='2021-10-06']"
   ]
  },
  {
   "cell_type": "code",
   "execution_count": 13,
   "id": "7c2b9faf-d56f-42c4-9f5e-669d73fae7c6",
   "metadata": {
    "id": "7c2b9faf-d56f-42c4-9f5e-669d73fae7c6",
    "outputId": "e86bd0f3-e013-44da-b1e4-e64accb6831d"
   },
   "outputs": [
    {
     "data": {
      "text/html": [
       "<div>\n",
       "<style scoped>\n",
       "    .dataframe tbody tr th:only-of-type {\n",
       "        vertical-align: middle;\n",
       "    }\n",
       "\n",
       "    .dataframe tbody tr th {\n",
       "        vertical-align: top;\n",
       "    }\n",
       "\n",
       "    .dataframe thead th {\n",
       "        text-align: right;\n",
       "    }\n",
       "</style>\n",
       "<table border=\"1\" class=\"dataframe\">\n",
       "  <thead>\n",
       "    <tr style=\"text-align: right;\">\n",
       "      <th></th>\n",
       "      <th>모기지수 발생일</th>\n",
       "      <th>모기지수(수변부)</th>\n",
       "      <th>모기지수(주거지)</th>\n",
       "      <th>모기지수(공원)</th>\n",
       "    </tr>\n",
       "  </thead>\n",
       "  <tbody>\n",
       "    <tr>\n",
       "      <th>2580</th>\n",
       "      <td>1970-01-01</td>\n",
       "      <td>0.0</td>\n",
       "      <td>0.0</td>\n",
       "      <td>0.0</td>\n",
       "    </tr>\n",
       "  </tbody>\n",
       "</table>\n",
       "</div>"
      ],
      "text/plain": [
       "        모기지수 발생일  모기지수(수변부)  모기지수(주거지)  모기지수(공원)\n",
       "2580  1970-01-01        0.0        0.0       0.0"
      ]
     },
     "execution_count": 13,
     "metadata": {},
     "output_type": "execute_result"
    }
   ],
   "source": [
    "test[test['모기지수 발생일']=='1970-01-01']"
   ]
  },
  {
   "cell_type": "code",
   "execution_count": 14,
   "id": "357a9ca0-6d43-43ae-862c-3cf33fe429cb",
   "metadata": {
    "id": "357a9ca0-6d43-43ae-862c-3cf33fe429cb",
    "outputId": "de9fe5a4-e127-4bca-e2ed-ee093afe30df"
   },
   "outputs": [
    {
     "data": {
      "text/plain": [
       "2021-01-29    2\n",
       "2022-03-16    2\n",
       "2022-05-05    2\n",
       "2020-04-25    2\n",
       "2020-04-26    2\n",
       "             ..\n",
       "2020-11-22    1\n",
       "2020-11-21    1\n",
       "2020-11-20    1\n",
       "2020-11-19    1\n",
       "1970-01-01    1\n",
       "Name: 모기지수 발생일, Length: 2437, dtype: int64"
      ]
     },
     "execution_count": 14,
     "metadata": {},
     "output_type": "execute_result"
    }
   ],
   "source": [
    "test['모기지수 발생일'].value_counts()"
   ]
  },
  {
   "cell_type": "code",
   "execution_count": 15,
   "id": "7a862bad-6adf-4fe9-b580-41d2b4ed442a",
   "metadata": {
    "id": "7a862bad-6adf-4fe9-b580-41d2b4ed442a",
    "outputId": "7deff5e8-84a3-4400-b97a-e612d630ce7e"
   },
   "outputs": [
    {
     "data": {
      "text/html": [
       "<div>\n",
       "<style scoped>\n",
       "    .dataframe tbody tr th:only-of-type {\n",
       "        vertical-align: middle;\n",
       "    }\n",
       "\n",
       "    .dataframe tbody tr th {\n",
       "        vertical-align: top;\n",
       "    }\n",
       "\n",
       "    .dataframe thead th {\n",
       "        text-align: right;\n",
       "    }\n",
       "</style>\n",
       "<table border=\"1\" class=\"dataframe\">\n",
       "  <thead>\n",
       "    <tr style=\"text-align: right;\">\n",
       "      <th></th>\n",
       "      <th>모기지수 발생일</th>\n",
       "      <th>모기지수(수변부)</th>\n",
       "      <th>모기지수(주거지)</th>\n",
       "      <th>모기지수(공원)</th>\n",
       "    </tr>\n",
       "  </thead>\n",
       "  <tbody>\n",
       "    <tr>\n",
       "      <th>778</th>\n",
       "      <td>2021-01-29</td>\n",
       "      <td>2.1</td>\n",
       "      <td>-1.2</td>\n",
       "      <td>-24.3</td>\n",
       "    </tr>\n",
       "    <tr>\n",
       "      <th>779</th>\n",
       "      <td>2021-01-29</td>\n",
       "      <td>2.1</td>\n",
       "      <td>0.0</td>\n",
       "      <td>0.0</td>\n",
       "    </tr>\n",
       "  </tbody>\n",
       "</table>\n",
       "</div>"
      ],
      "text/plain": [
       "       모기지수 발생일  모기지수(수변부)  모기지수(주거지)  모기지수(공원)\n",
       "778  2021-01-29        2.1       -1.2     -24.3\n",
       "779  2021-01-29        2.1        0.0       0.0"
      ]
     },
     "execution_count": 15,
     "metadata": {},
     "output_type": "execute_result"
    }
   ],
   "source": [
    "test[test['모기지수 발생일']=='2021-01-29']\n",
    "# 778 제거"
   ]
  },
  {
   "cell_type": "code",
   "execution_count": 16,
   "id": "29546b61-a0b9-4fc7-b96f-19ede63e1296",
   "metadata": {
    "id": "29546b61-a0b9-4fc7-b96f-19ede63e1296",
    "outputId": "09c6a4df-08c4-4a5c-d061-131fec97342c"
   },
   "outputs": [
    {
     "data": {
      "text/html": [
       "<div>\n",
       "<style scoped>\n",
       "    .dataframe tbody tr th:only-of-type {\n",
       "        vertical-align: middle;\n",
       "    }\n",
       "\n",
       "    .dataframe tbody tr th {\n",
       "        vertical-align: top;\n",
       "    }\n",
       "\n",
       "    .dataframe thead th {\n",
       "        text-align: right;\n",
       "    }\n",
       "</style>\n",
       "<table border=\"1\" class=\"dataframe\">\n",
       "  <thead>\n",
       "    <tr style=\"text-align: right;\">\n",
       "      <th></th>\n",
       "      <th>모기지수 발생일</th>\n",
       "      <th>모기지수(수변부)</th>\n",
       "      <th>모기지수(주거지)</th>\n",
       "      <th>모기지수(공원)</th>\n",
       "    </tr>\n",
       "  </thead>\n",
       "  <tbody>\n",
       "    <tr>\n",
       "      <th>338</th>\n",
       "      <td>2022-03-16</td>\n",
       "      <td>39.3</td>\n",
       "      <td>13.1</td>\n",
       "      <td>0.6</td>\n",
       "    </tr>\n",
       "    <tr>\n",
       "      <th>339</th>\n",
       "      <td>2022-03-16</td>\n",
       "      <td>12.1</td>\n",
       "      <td>0.2</td>\n",
       "      <td>0.0</td>\n",
       "    </tr>\n",
       "  </tbody>\n",
       "</table>\n",
       "</div>"
      ],
      "text/plain": [
       "       모기지수 발생일  모기지수(수변부)  모기지수(주거지)  모기지수(공원)\n",
       "338  2022-03-16       39.3       13.1       0.6\n",
       "339  2022-03-16       12.1        0.2       0.0"
      ]
     },
     "execution_count": 16,
     "metadata": {},
     "output_type": "execute_result"
    }
   ],
   "source": [
    "# test[test['모기지수 발생일']=='2022-03-15']\n",
    "test[test['모기지수 발생일']=='2022-03-16']\n",
    "# 339 제거\n",
    "# test[test['모기지수 발생일']=='2022-03-17']"
   ]
  },
  {
   "cell_type": "code",
   "execution_count": 17,
   "id": "94f53f73-95e2-4a9c-955c-e8da7c4c48d7",
   "metadata": {
    "id": "94f53f73-95e2-4a9c-955c-e8da7c4c48d7",
    "outputId": "144e2489-2db7-43d3-f19d-0abd349e9653"
   },
   "outputs": [
    {
     "data": {
      "text/html": [
       "<div>\n",
       "<style scoped>\n",
       "    .dataframe tbody tr th:only-of-type {\n",
       "        vertical-align: middle;\n",
       "    }\n",
       "\n",
       "    .dataframe tbody tr th {\n",
       "        vertical-align: top;\n",
       "    }\n",
       "\n",
       "    .dataframe thead th {\n",
       "        text-align: right;\n",
       "    }\n",
       "</style>\n",
       "<table border=\"1\" class=\"dataframe\">\n",
       "  <thead>\n",
       "    <tr style=\"text-align: right;\">\n",
       "      <th></th>\n",
       "      <th>모기지수 발생일</th>\n",
       "      <th>모기지수(수변부)</th>\n",
       "      <th>모기지수(주거지)</th>\n",
       "      <th>모기지수(공원)</th>\n",
       "    </tr>\n",
       "  </thead>\n",
       "  <tbody>\n",
       "    <tr>\n",
       "      <th>287</th>\n",
       "      <td>2022-05-05</td>\n",
       "      <td>62.6</td>\n",
       "      <td>26.8</td>\n",
       "      <td>17.7</td>\n",
       "    </tr>\n",
       "    <tr>\n",
       "      <th>288</th>\n",
       "      <td>2022-05-05</td>\n",
       "      <td>12.1</td>\n",
       "      <td>0.2</td>\n",
       "      <td>0.0</td>\n",
       "    </tr>\n",
       "  </tbody>\n",
       "</table>\n",
       "</div>"
      ],
      "text/plain": [
       "       모기지수 발생일  모기지수(수변부)  모기지수(주거지)  모기지수(공원)\n",
       "287  2022-05-05       62.6       26.8      17.7\n",
       "288  2022-05-05       12.1        0.2       0.0"
      ]
     },
     "execution_count": 17,
     "metadata": {},
     "output_type": "execute_result"
    }
   ],
   "source": [
    "test[test['모기지수 발생일']=='2022-05-05']\n",
    "# 288 제거"
   ]
  },
  {
   "cell_type": "code",
   "execution_count": 18,
   "id": "cfb2e29c-c03d-46bd-b40e-352ec3d4d224",
   "metadata": {
    "id": "cfb2e29c-c03d-46bd-b40e-352ec3d4d224",
    "outputId": "b578aa65-742f-40c5-8764-689139fdba42"
   },
   "outputs": [
    {
     "data": {
      "text/html": [
       "<div>\n",
       "<style scoped>\n",
       "    .dataframe tbody tr th:only-of-type {\n",
       "        vertical-align: middle;\n",
       "    }\n",
       "\n",
       "    .dataframe tbody tr th {\n",
       "        vertical-align: top;\n",
       "    }\n",
       "\n",
       "    .dataframe thead th {\n",
       "        text-align: right;\n",
       "    }\n",
       "</style>\n",
       "<table border=\"1\" class=\"dataframe\">\n",
       "  <thead>\n",
       "    <tr style=\"text-align: right;\">\n",
       "      <th></th>\n",
       "      <th>모기지수 발생일</th>\n",
       "      <th>모기지수(수변부)</th>\n",
       "      <th>모기지수(주거지)</th>\n",
       "      <th>모기지수(공원)</th>\n",
       "    </tr>\n",
       "  </thead>\n",
       "  <tbody>\n",
       "    <tr>\n",
       "      <th>1067</th>\n",
       "      <td>2020-04-25</td>\n",
       "      <td>54.7</td>\n",
       "      <td>22.7</td>\n",
       "      <td>32.7</td>\n",
       "    </tr>\n",
       "    <tr>\n",
       "      <th>1068</th>\n",
       "      <td>2020-04-25</td>\n",
       "      <td>36.3</td>\n",
       "      <td>15.0</td>\n",
       "      <td>21.6</td>\n",
       "    </tr>\n",
       "  </tbody>\n",
       "</table>\n",
       "</div>"
      ],
      "text/plain": [
       "        모기지수 발생일  모기지수(수변부)  모기지수(주거지)  모기지수(공원)\n",
       "1067  2020-04-25       54.7       22.7      32.7\n",
       "1068  2020-04-25       36.3       15.0      21.6"
      ]
     },
     "execution_count": 18,
     "metadata": {},
     "output_type": "execute_result"
    }
   ],
   "source": [
    "test[test['모기지수 발생일']=='2020-04-25']\n",
    "# 1068 제거"
   ]
  },
  {
   "cell_type": "code",
   "execution_count": 19,
   "id": "0769d34c-d47b-4a48-98b4-06fffc2528bf",
   "metadata": {
    "id": "0769d34c-d47b-4a48-98b4-06fffc2528bf",
    "outputId": "3a274cf2-5fe4-468d-e1b3-8a97d023d86a"
   },
   "outputs": [
    {
     "data": {
      "text/html": [
       "<div>\n",
       "<style scoped>\n",
       "    .dataframe tbody tr th:only-of-type {\n",
       "        vertical-align: middle;\n",
       "    }\n",
       "\n",
       "    .dataframe tbody tr th {\n",
       "        vertical-align: top;\n",
       "    }\n",
       "\n",
       "    .dataframe thead th {\n",
       "        text-align: right;\n",
       "    }\n",
       "</style>\n",
       "<table border=\"1\" class=\"dataframe\">\n",
       "  <thead>\n",
       "    <tr style=\"text-align: right;\">\n",
       "      <th></th>\n",
       "      <th>모기지수 발생일</th>\n",
       "      <th>모기지수(수변부)</th>\n",
       "      <th>모기지수(주거지)</th>\n",
       "      <th>모기지수(공원)</th>\n",
       "    </tr>\n",
       "  </thead>\n",
       "  <tbody>\n",
       "    <tr>\n",
       "      <th>1065</th>\n",
       "      <td>2020-04-26</td>\n",
       "      <td>36.3</td>\n",
       "      <td>15.0</td>\n",
       "      <td>21.6</td>\n",
       "    </tr>\n",
       "    <tr>\n",
       "      <th>1066</th>\n",
       "      <td>2020-04-26</td>\n",
       "      <td>60.7</td>\n",
       "      <td>25.1</td>\n",
       "      <td>36.2</td>\n",
       "    </tr>\n",
       "  </tbody>\n",
       "</table>\n",
       "</div>"
      ],
      "text/plain": [
       "        모기지수 발생일  모기지수(수변부)  모기지수(주거지)  모기지수(공원)\n",
       "1065  2020-04-26       36.3       15.0      21.6\n",
       "1066  2020-04-26       60.7       25.1      36.2"
      ]
     },
     "execution_count": 19,
     "metadata": {},
     "output_type": "execute_result"
    }
   ],
   "source": [
    "test[test['모기지수 발생일']=='2020-04-26']\n",
    "# 1065 제거 "
   ]
  },
  {
   "cell_type": "code",
   "execution_count": 20,
   "id": "39b79179-fc89-41da-9a02-93e355067c13",
   "metadata": {
    "id": "39b79179-fc89-41da-9a02-93e355067c13",
    "outputId": "b7f92c76-108a-4113-850f-f54ed2f5bd60"
   },
   "outputs": [
    {
     "ename": "SyntaxError",
     "evalue": "invalid syntax (3200437461.py, line 2)",
     "output_type": "error",
     "traceback": [
      "\u001b[1;36m  Cell \u001b[1;32mIn[20], line 2\u001b[1;36m\u001b[0m\n\u001b[1;33m    1064 제거\u001b[0m\n\u001b[1;37m         ^\u001b[0m\n\u001b[1;31mSyntaxError\u001b[0m\u001b[1;31m:\u001b[0m invalid syntax\n"
     ]
    }
   ],
   "source": [
    "test[test['모기지수 발생일']=='2020-04-27']\n",
    "1064 제거"
   ]
  },
  {
   "cell_type": "code",
   "execution_count": 21,
   "id": "f65b1cbe-b96d-46e1-b217-4edb4568677c",
   "metadata": {
    "id": "f65b1cbe-b96d-46e1-b217-4edb4568677c",
    "outputId": "2f33b78e-f39a-4f94-b920-6faf146df2d9"
   },
   "outputs": [
    {
     "data": {
      "text/plain": [
       "2021-01-29    2\n",
       "2022-03-16    2\n",
       "2022-05-05    2\n",
       "2020-04-25    2\n",
       "2020-04-26    2\n",
       "2020-04-27    2\n",
       "Name: 모기지수 발생일, dtype: int64"
      ]
     },
     "execution_count": 21,
     "metadata": {},
     "output_type": "execute_result"
    }
   ],
   "source": [
    "test['모기지수 발생일'].value_counts().loc[lambda x :x >1]"
   ]
  },
  {
   "cell_type": "code",
   "execution_count": 22,
   "id": "1f62dbaf-b87f-452b-b8c8-e3c87746ea3d",
   "metadata": {
    "id": "1f62dbaf-b87f-452b-b8c8-e3c87746ea3d",
    "outputId": "0ea09b03-e7fc-4389-95b8-5aa80620be27"
   },
   "outputs": [
    {
     "data": {
      "text/html": [
       "<div>\n",
       "<style scoped>\n",
       "    .dataframe tbody tr th:only-of-type {\n",
       "        vertical-align: middle;\n",
       "    }\n",
       "\n",
       "    .dataframe tbody tr th {\n",
       "        vertical-align: top;\n",
       "    }\n",
       "\n",
       "    .dataframe thead th {\n",
       "        text-align: right;\n",
       "    }\n",
       "</style>\n",
       "<table border=\"1\" class=\"dataframe\">\n",
       "  <thead>\n",
       "    <tr style=\"text-align: right;\">\n",
       "      <th></th>\n",
       "      <th>모기지수 발생일</th>\n",
       "      <th>모기지수(수변부)</th>\n",
       "      <th>모기지수(주거지)</th>\n",
       "      <th>모기지수(공원)</th>\n",
       "    </tr>\n",
       "  </thead>\n",
       "  <tbody>\n",
       "    <tr>\n",
       "      <th>0</th>\n",
       "      <td>2023-02-14</td>\n",
       "      <td>0.0</td>\n",
       "      <td>0.0</td>\n",
       "      <td>0.0</td>\n",
       "    </tr>\n",
       "    <tr>\n",
       "      <th>1</th>\n",
       "      <td>2023-02-13</td>\n",
       "      <td>0.0</td>\n",
       "      <td>0.0</td>\n",
       "      <td>0.0</td>\n",
       "    </tr>\n",
       "    <tr>\n",
       "      <th>2</th>\n",
       "      <td>2023-02-12</td>\n",
       "      <td>0.0</td>\n",
       "      <td>0.0</td>\n",
       "      <td>0.0</td>\n",
       "    </tr>\n",
       "    <tr>\n",
       "      <th>3</th>\n",
       "      <td>2023-02-11</td>\n",
       "      <td>0.0</td>\n",
       "      <td>0.0</td>\n",
       "      <td>0.0</td>\n",
       "    </tr>\n",
       "    <tr>\n",
       "      <th>4</th>\n",
       "      <td>2023-02-10</td>\n",
       "      <td>0.0</td>\n",
       "      <td>0.0</td>\n",
       "      <td>0.0</td>\n",
       "    </tr>\n",
       "    <tr>\n",
       "      <th>...</th>\n",
       "      <td>...</td>\n",
       "      <td>...</td>\n",
       "      <td>...</td>\n",
       "      <td>...</td>\n",
       "    </tr>\n",
       "    <tr>\n",
       "      <th>2576</th>\n",
       "      <td>2016-05-04</td>\n",
       "      <td>256.2</td>\n",
       "      <td>256.2</td>\n",
       "      <td>256.2</td>\n",
       "    </tr>\n",
       "    <tr>\n",
       "      <th>2577</th>\n",
       "      <td>2016-05-03</td>\n",
       "      <td>304.0</td>\n",
       "      <td>304.0</td>\n",
       "      <td>304.0</td>\n",
       "    </tr>\n",
       "    <tr>\n",
       "      <th>2578</th>\n",
       "      <td>2016-05-02</td>\n",
       "      <td>273.5</td>\n",
       "      <td>273.5</td>\n",
       "      <td>273.5</td>\n",
       "    </tr>\n",
       "    <tr>\n",
       "      <th>2579</th>\n",
       "      <td>2016-05-01</td>\n",
       "      <td>254.4</td>\n",
       "      <td>254.4</td>\n",
       "      <td>254.4</td>\n",
       "    </tr>\n",
       "    <tr>\n",
       "      <th>2580</th>\n",
       "      <td>1970-01-01</td>\n",
       "      <td>0.0</td>\n",
       "      <td>0.0</td>\n",
       "      <td>0.0</td>\n",
       "    </tr>\n",
       "  </tbody>\n",
       "</table>\n",
       "<p>2443 rows × 4 columns</p>\n",
       "</div>"
      ],
      "text/plain": [
       "        모기지수 발생일  모기지수(수변부)  모기지수(주거지)  모기지수(공원)\n",
       "0     2023-02-14        0.0        0.0       0.0\n",
       "1     2023-02-13        0.0        0.0       0.0\n",
       "2     2023-02-12        0.0        0.0       0.0\n",
       "3     2023-02-11        0.0        0.0       0.0\n",
       "4     2023-02-10        0.0        0.0       0.0\n",
       "...          ...        ...        ...       ...\n",
       "2576  2016-05-04      256.2      256.2     256.2\n",
       "2577  2016-05-03      304.0      304.0     304.0\n",
       "2578  2016-05-02      273.5      273.5     273.5\n",
       "2579  2016-05-01      254.4      254.4     254.4\n",
       "2580  1970-01-01        0.0        0.0       0.0\n",
       "\n",
       "[2443 rows x 4 columns]"
      ]
     },
     "execution_count": 22,
     "metadata": {},
     "output_type": "execute_result"
    }
   ],
   "source": [
    "test"
   ]
  },
  {
   "cell_type": "code",
   "execution_count": 23,
   "id": "0995cc17-c14d-402b-8f37-177dcc1ba2d0",
   "metadata": {
    "id": "0995cc17-c14d-402b-8f37-177dcc1ba2d0"
   },
   "outputs": [],
   "source": [
    "test.drop([1064,1065,1068,288,339,778,2580], axis=0, inplace=True)"
   ]
  },
  {
   "cell_type": "code",
   "execution_count": 24,
   "id": "ecf6bbfd-9cb7-487e-b770-09b1fba603d1",
   "metadata": {
    "id": "ecf6bbfd-9cb7-487e-b770-09b1fba603d1",
    "outputId": "a8ca29b7-2c75-443c-ae78-6fed8c932d8a"
   },
   "outputs": [
    {
     "data": {
      "text/plain": [
       "2023-02-14    1\n",
       "2018-07-25    1\n",
       "2018-08-01    1\n",
       "2018-07-31    1\n",
       "2018-07-30    1\n",
       "             ..\n",
       "2020-11-24    1\n",
       "2020-11-23    1\n",
       "2020-11-22    1\n",
       "2020-11-21    1\n",
       "2016-05-01    1\n",
       "Name: 모기지수 발생일, Length: 2436, dtype: int64"
      ]
     },
     "execution_count": 24,
     "metadata": {},
     "output_type": "execute_result"
    }
   ],
   "source": [
    "test['모기지수 발생일'].value_counts()"
   ]
  },
  {
   "cell_type": "code",
   "execution_count": 52,
   "id": "0d5e0239-4651-4a76-90d1-a15b96776b5a",
   "metadata": {},
   "outputs": [],
   "source": [
    "# reset_index\n",
    "test.reset_index(inplace = True, drop = True)"
   ]
  },
  {
   "cell_type": "code",
   "execution_count": 27,
   "id": "0295b71f-db2d-4a02-a33c-9fcfa5c05600",
   "metadata": {
    "id": "0295b71f-db2d-4a02-a33c-9fcfa5c05600"
   },
   "outputs": [],
   "source": [
    "test['모기지수 발생일'] = pd.to_datetime(test['모기지수 발생일'])"
   ]
  },
  {
   "cell_type": "code",
   "execution_count": 28,
   "id": "98abf84f-f53e-4c48-abd7-89cbd9129892",
   "metadata": {},
   "outputs": [
    {
     "data": {
      "text/plain": [
       "<AxesSubplot:>"
      ]
     },
     "execution_count": 28,
     "metadata": {},
     "output_type": "execute_result"
    },
    {
     "data": {
      "image/png": "[encoded data removed]",
      "text/plain": [
       "<Figure size 640x480 with 1 Axes>"
      ]
     },
     "metadata": {},
     "output_type": "display_data"
    }
   ],
   "source": [
    "test['모기지수(주거지)'].plot()"
   ]
  },
  {
   "cell_type": "code",
   "execution_count": 30,
   "id": "f0895a3a-8358-4f56-a7ed-a5dee6ad04c5",
   "metadata": {},
   "outputs": [
    {
     "data": {
      "text/plain": [
       "'\\n오늘 할꺼!!!\\n\\n#시계열데이터 처리할 때 plot만 그려도 괜찮?\\n\\n\\n1.데이터를 연도별로 나눈다.\\n2.연도별로 max값을 100으로 조정(굳이 나눠야하는 이유?)\\n3.1000이 맥스인값을 데이터를 100으로, 100이 안되는데이터도 100으로 = 스케일링\\n( 모기 **지수**가 최대치를 기록한 날 기준으로 100) -> 장점 : 패턴을 만들 수 있다\\n4. 스케일링은 꼭 잡고 가자!  -> 단순한 믹맥스로 모델 성능이 좋아지는건 아님\\nmin-max scale 무조건 해야하는 건 아니지만,,,해야하는 경우가 많다!\\n5.스케일링에는 정답이 없다!\\n6. 가장 중요한거? -> ##이상치 제거##가 더 중요함.\\n7.오늘은 minmax로 크기만 줄이고 늘이는것까지\\n\\n#일단\\n2021년 전에는 100을 넘는게 없다. 1000을 넘는게 없다.\\n->최대최소값을 안다. 100또는 1000이상의 값이 없다.! 쉬운데이터\\n0을 어떻게 처리할까?!\\n'"
      ]
     },
     "execution_count": 30,
     "metadata": {},
     "output_type": "execute_result"
    }
   ],
   "source": [
    "# 모기에제 데이터가 0~100까지 범위는 2021년도이다, 그전에는 0~1000임\n",
    "\"\"\"\n",
    "오늘 할꺼!!!\n",
    "\n",
    "#시계열데이터 처리할 때 plot만 그려도 괜찮?\n",
    "\n",
    "\n",
    "1.데이터를 연도별로 나눈다.\n",
    "2.연도별로 max값을 100으로 조정(굳이 나눠야하는 이유?)\n",
    "3.1000이 맥스인값을 데이터를 100으로, 100이 안되는데이터도 100으로 = 스케일링\n",
    "( 모기 **지수**가 최대치를 기록한 날 기준으로 100) -> 장점 : 패턴을 만들 수 있다\n",
    "4. 스케일링은 꼭 잡고 가자!  -> 단순한 믹맥스로 모델 성능이 좋아지는건 아님\n",
    "min-max scale 무조건 해야하는 건 아니지만,,,해야하는 경우가 많다!\n",
    "5.스케일링에는 정답이 없다!\n",
    "6. 가장 중요한거? -> ##이상치 제거##가 더 중요함.\n",
    "7.오늘은 minmax로 크기만 줄이고 늘이는것까지\n",
    "\n",
    "#일단\n",
    "2021년 전에는 100을 넘는게 없다. 1000을 넘는게 없다.\n",
    "->최대최소값을 안다. 100또는 1000이상의 값이 없다.! 쉬운데이터\n",
    "0을 어떻게 처리할까?!\n",
    "\"\"\""
   ]
  },
  {
   "cell_type": "code",
   "execution_count": 33,
   "id": "edf2235a-c303-4ba7-8ff3-c843eb1fe283",
   "metadata": {},
   "outputs": [],
   "source": [
    "# 2016년도 데이터 튜토리얼\n",
    "\n",
    "# 2017-2022 각각 나눠서 스케일 후 합치기. 년도별 이상치 발견 후 다른값 대체"
   ]
  },
  {
   "cell_type": "code",
   "execution_count": 34,
   "id": "7ec72cba-d439-4846-a70f-a132bdfed109",
   "metadata": {},
   "outputs": [],
   "source": [
    "test['year'] = test['모기지수 발생일'].dt.year\n"
   ]
  },
  {
   "cell_type": "code",
   "execution_count": 36,
   "id": "41b83340-bc56-43f6-9888-aae086ccfc18",
   "metadata": {},
   "outputs": [],
   "source": [
    "test['month'] = test['모기지수 발생일'].dt.month"
   ]
  },
  {
   "cell_type": "code",
   "execution_count": 37,
   "id": "7279c153-3fb2-429e-b7ee-3802eaaae176",
   "metadata": {},
   "outputs": [],
   "source": [
    "test['day'] = test['모기지수 발생일'].dt.day"
   ]
  },
  {
   "cell_type": "code",
   "execution_count": 42,
   "id": "94a5df40-5b21-44ef-9ad9-bb62a6f6cb6c",
   "metadata": {},
   "outputs": [],
   "source": [
    "t2016 = test[test['year'] == 2016 ]"
   ]
  },
  {
   "cell_type": "code",
   "execution_count": 44,
   "id": "24d6dcdd-a4ba-40d3-81fc-61bb1d3ab1a0",
   "metadata": {},
   "outputs": [
    {
     "data": {
      "text/html": [
       "<div>\n",
       "<style scoped>\n",
       "    .dataframe tbody tr th:only-of-type {\n",
       "        vertical-align: middle;\n",
       "    }\n",
       "\n",
       "    .dataframe tbody tr th {\n",
       "        vertical-align: top;\n",
       "    }\n",
       "\n",
       "    .dataframe thead th {\n",
       "        text-align: right;\n",
       "    }\n",
       "</style>\n",
       "<table border=\"1\" class=\"dataframe\">\n",
       "  <thead>\n",
       "    <tr style=\"text-align: right;\">\n",
       "      <th></th>\n",
       "      <th>모기지수(수변부)</th>\n",
       "      <th>모기지수(주거지)</th>\n",
       "      <th>모기지수(공원)</th>\n",
       "      <th>year</th>\n",
       "      <th>month</th>\n",
       "      <th>day</th>\n",
       "    </tr>\n",
       "  </thead>\n",
       "  <tbody>\n",
       "    <tr>\n",
       "      <th>count</th>\n",
       "      <td>242.000000</td>\n",
       "      <td>242.000000</td>\n",
       "      <td>242.000000</td>\n",
       "      <td>242.0</td>\n",
       "      <td>242.000000</td>\n",
       "      <td>242.000000</td>\n",
       "    </tr>\n",
       "    <tr>\n",
       "      <th>mean</th>\n",
       "      <td>344.623140</td>\n",
       "      <td>344.623140</td>\n",
       "      <td>344.623140</td>\n",
       "      <td>2016.0</td>\n",
       "      <td>8.471074</td>\n",
       "      <td>15.826446</td>\n",
       "    </tr>\n",
       "    <tr>\n",
       "      <th>std</th>\n",
       "      <td>239.693056</td>\n",
       "      <td>239.693056</td>\n",
       "      <td>239.693056</td>\n",
       "      <td>0.0</td>\n",
       "      <td>2.295854</td>\n",
       "      <td>8.902587</td>\n",
       "    </tr>\n",
       "    <tr>\n",
       "      <th>min</th>\n",
       "      <td>0.900000</td>\n",
       "      <td>0.900000</td>\n",
       "      <td>0.900000</td>\n",
       "      <td>2016.0</td>\n",
       "      <td>5.000000</td>\n",
       "      <td>1.000000</td>\n",
       "    </tr>\n",
       "    <tr>\n",
       "      <th>25%</th>\n",
       "      <td>145.825000</td>\n",
       "      <td>145.825000</td>\n",
       "      <td>145.825000</td>\n",
       "      <td>2016.0</td>\n",
       "      <td>6.250000</td>\n",
       "      <td>8.000000</td>\n",
       "    </tr>\n",
       "    <tr>\n",
       "      <th>50%</th>\n",
       "      <td>350.200000</td>\n",
       "      <td>350.200000</td>\n",
       "      <td>350.200000</td>\n",
       "      <td>2016.0</td>\n",
       "      <td>8.000000</td>\n",
       "      <td>16.000000</td>\n",
       "    </tr>\n",
       "    <tr>\n",
       "      <th>75%</th>\n",
       "      <td>513.200000</td>\n",
       "      <td>513.200000</td>\n",
       "      <td>513.200000</td>\n",
       "      <td>2016.0</td>\n",
       "      <td>10.000000</td>\n",
       "      <td>23.750000</td>\n",
       "    </tr>\n",
       "    <tr>\n",
       "      <th>max</th>\n",
       "      <td>821.400000</td>\n",
       "      <td>821.400000</td>\n",
       "      <td>821.400000</td>\n",
       "      <td>2016.0</td>\n",
       "      <td>12.000000</td>\n",
       "      <td>31.000000</td>\n",
       "    </tr>\n",
       "  </tbody>\n",
       "</table>\n",
       "</div>"
      ],
      "text/plain": [
       "        모기지수(수변부)   모기지수(주거지)    모기지수(공원)    year       month         day\n",
       "count  242.000000  242.000000  242.000000   242.0  242.000000  242.000000\n",
       "mean   344.623140  344.623140  344.623140  2016.0    8.471074   15.826446\n",
       "std    239.693056  239.693056  239.693056     0.0    2.295854    8.902587\n",
       "min      0.900000    0.900000    0.900000  2016.0    5.000000    1.000000\n",
       "25%    145.825000  145.825000  145.825000  2016.0    6.250000    8.000000\n",
       "50%    350.200000  350.200000  350.200000  2016.0    8.000000   16.000000\n",
       "75%    513.200000  513.200000  513.200000  2016.0   10.000000   23.750000\n",
       "max    821.400000  821.400000  821.400000  2016.0   12.000000   31.000000"
      ]
     },
     "execution_count": 44,
     "metadata": {},
     "output_type": "execute_result"
    }
   ],
   "source": [
    "t2016.describe()"
   ]
  },
  {
   "cell_type": "code",
   "execution_count": null,
   "id": "72632d43-2be6-415c-b45a-f9e743a48768",
   "metadata": {},
   "outputs": [],
   "source": [
    "# max값이 1000이 아닌데 우짜지?"
   ]
  },
  {
   "cell_type": "code",
   "execution_count": 45,
   "id": "0322f1db-57a4-4196-8124-eb50d45e0b35",
   "metadata": {},
   "outputs": [
    {
     "data": {
      "text/plain": [
       "'\\n2 ~ 50 사이의데이터...이걸 0~100범위로 나누고 싶어요\\n2~50사이의 데이터에 최솟값(2)를 전부 빼요\\n0~48이 되겠쬬?\\n여기다 최대값 48로 전부 나눠요\\n0~1범위의 데이터가 됩니다\\n여기도 100을 곱하면 끝\\n'"
      ]
     },
     "execution_count": 45,
     "metadata": {},
     "output_type": "execute_result"
    }
   ],
   "source": [
    "# minmax란?\n",
    "\"\"\"\n",
    "2 ~ 50 사이의데이터...이걸 0~100범위로 나누고 싶어요\n",
    "1. 2~50사이의 데이터에 최솟값(2)를 전부 빼요\n",
    "0~48이 되겠쬬?\n",
    "여기다 최대값 48로 전부 나눠요\n",
    "0~1범위의 데이터가 됩니다\n",
    "여기도 100을 곱하면 끝\n",
    "\"\"\""
   ]
  },
  {
   "cell_type": "code",
   "execution_count": 59,
   "id": "e4d1d6d9-89f3-4406-af54-4a702be37891",
   "metadata": {},
   "outputs": [],
   "source": [
    "#자기 자신에게 복사해서 오류뜸 근데 편해서 상관 ㄴ\n",
    "test2016['scaled'] = (test2016['모기지수(주거지)'] - test2016['모기지수(주거지)'].min()) / (test2016['모기지수(주거지)'].max() - test2016['모기지수(주거지)'].min())* 100"
   ]
  },
  {
   "cell_type": "code",
   "execution_count": 60,
   "id": "e3e1ef57-2f65-421a-88f1-07e2999791ed",
   "metadata": {},
   "outputs": [],
   "source": [
    "test2022 = test[test['year'] == 2022 ]"
   ]
  },
  {
   "cell_type": "code",
   "execution_count": 61,
   "id": "dde46d9d-9270-4e4a-ac2a-545d954f914b",
   "metadata": {},
   "outputs": [
    {
     "data": {
      "text/html": [
       "<div>\n",
       "<style scoped>\n",
       "    .dataframe tbody tr th:only-of-type {\n",
       "        vertical-align: middle;\n",
       "    }\n",
       "\n",
       "    .dataframe tbody tr th {\n",
       "        vertical-align: top;\n",
       "    }\n",
       "\n",
       "    .dataframe thead th {\n",
       "        text-align: right;\n",
       "    }\n",
       "</style>\n",
       "<table border=\"1\" class=\"dataframe\">\n",
       "  <thead>\n",
       "    <tr style=\"text-align: right;\">\n",
       "      <th></th>\n",
       "      <th>모기지수(수변부)</th>\n",
       "      <th>모기지수(주거지)</th>\n",
       "      <th>모기지수(공원)</th>\n",
       "      <th>year</th>\n",
       "      <th>month</th>\n",
       "      <th>day</th>\n",
       "    </tr>\n",
       "  </thead>\n",
       "  <tbody>\n",
       "    <tr>\n",
       "      <th>count</th>\n",
       "      <td>365.000000</td>\n",
       "      <td>365.000000</td>\n",
       "      <td>365.000000</td>\n",
       "      <td>365.0</td>\n",
       "      <td>365.000000</td>\n",
       "      <td>365.000000</td>\n",
       "    </tr>\n",
       "    <tr>\n",
       "      <th>mean</th>\n",
       "      <td>58.836986</td>\n",
       "      <td>25.926301</td>\n",
       "      <td>27.208219</td>\n",
       "      <td>2022.0</td>\n",
       "      <td>6.526027</td>\n",
       "      <td>15.720548</td>\n",
       "    </tr>\n",
       "    <tr>\n",
       "      <th>std</th>\n",
       "      <td>40.457131</td>\n",
       "      <td>19.855827</td>\n",
       "      <td>25.680287</td>\n",
       "      <td>0.0</td>\n",
       "      <td>3.452584</td>\n",
       "      <td>8.808321</td>\n",
       "    </tr>\n",
       "    <tr>\n",
       "      <th>min</th>\n",
       "      <td>0.000000</td>\n",
       "      <td>0.000000</td>\n",
       "      <td>0.000000</td>\n",
       "      <td>2022.0</td>\n",
       "      <td>1.000000</td>\n",
       "      <td>1.000000</td>\n",
       "    </tr>\n",
       "    <tr>\n",
       "      <th>25%</th>\n",
       "      <td>15.400000</td>\n",
       "      <td>4.900000</td>\n",
       "      <td>0.000000</td>\n",
       "      <td>2022.0</td>\n",
       "      <td>4.000000</td>\n",
       "      <td>8.000000</td>\n",
       "    </tr>\n",
       "    <tr>\n",
       "      <th>50%</th>\n",
       "      <td>67.900000</td>\n",
       "      <td>26.300000</td>\n",
       "      <td>22.500000</td>\n",
       "      <td>2022.0</td>\n",
       "      <td>7.000000</td>\n",
       "      <td>16.000000</td>\n",
       "    </tr>\n",
       "    <tr>\n",
       "      <th>75%</th>\n",
       "      <td>100.000000</td>\n",
       "      <td>43.400000</td>\n",
       "      <td>50.700000</td>\n",
       "      <td>2022.0</td>\n",
       "      <td>10.000000</td>\n",
       "      <td>23.000000</td>\n",
       "    </tr>\n",
       "    <tr>\n",
       "      <th>max</th>\n",
       "      <td>100.000000</td>\n",
       "      <td>62.500000</td>\n",
       "      <td>81.100000</td>\n",
       "      <td>2022.0</td>\n",
       "      <td>12.000000</td>\n",
       "      <td>31.000000</td>\n",
       "    </tr>\n",
       "  </tbody>\n",
       "</table>\n",
       "</div>"
      ],
      "text/plain": [
       "        모기지수(수변부)   모기지수(주거지)    모기지수(공원)    year       month         day\n",
       "count  365.000000  365.000000  365.000000   365.0  365.000000  365.000000\n",
       "mean    58.836986   25.926301   27.208219  2022.0    6.526027   15.720548\n",
       "std     40.457131   19.855827   25.680287     0.0    3.452584    8.808321\n",
       "min      0.000000    0.000000    0.000000  2022.0    1.000000    1.000000\n",
       "25%     15.400000    4.900000    0.000000  2022.0    4.000000    8.000000\n",
       "50%     67.900000   26.300000   22.500000  2022.0    7.000000   16.000000\n",
       "75%    100.000000   43.400000   50.700000  2022.0   10.000000   23.000000\n",
       "max    100.000000   62.500000   81.100000  2022.0   12.000000   31.000000"
      ]
     },
     "execution_count": 61,
     "metadata": {},
     "output_type": "execute_result"
    }
   ],
   "source": [
    "#주거지로 기준으로 스케일링하려면!!\n",
    "test2022.describe()"
   ]
  },
  {
   "cell_type": "code",
   "execution_count": 63,
   "id": "20875067-b159-4575-acda-e97a17c85be2",
   "metadata": {},
   "outputs": [
    {
     "data": {
      "text/plain": [
       "<AxesSubplot:>"
      ]
     },
     "execution_count": 63,
     "metadata": {},
     "output_type": "execute_result"
    },
    {
     "data": {
      "image/png": "[encoded data removed]",
      "text/plain": [
       "<Figure size 640x480 with 1 Axes>"
      ]
     },
     "metadata": {},
     "output_type": "display_data"
    }
   ],
   "source": [
    "test2022['모기지수(주거지)'].plot()"
   ]
  },
  {
   "cell_type": "code",
   "execution_count": 77,
   "id": "f922c5d5-e3d5-4506-b521-efc265bec476",
   "metadata": {},
   "outputs": [
    {
     "data": {
      "text/plain": [
       "<AxesSubplot:>"
      ]
     },
     "execution_count": 77,
     "metadata": {},
     "output_type": "execute_result"
    },
    {
     "data": {
      "image/png": "[encoded data removed]",
      "text/plain": [
       "<Figure size 640x480 with 1 Axes>"
      ]
     },
     "metadata": {},
     "output_type": "display_data"
    }
   ],
   "source": [
    "test2022['모기지수(주거지)'].plot()"
   ]
  },
  {
   "cell_type": "code",
   "execution_count": 66,
   "id": "ed2565aa-bbbd-437e-b46d-92c11abf529e",
   "metadata": {},
   "outputs": [
    {
     "data": {
      "text/html": [
       "<div>\n",
       "<style scoped>\n",
       "    .dataframe tbody tr th:only-of-type {\n",
       "        vertical-align: middle;\n",
       "    }\n",
       "\n",
       "    .dataframe tbody tr th {\n",
       "        vertical-align: top;\n",
       "    }\n",
       "\n",
       "    .dataframe thead th {\n",
       "        text-align: right;\n",
       "    }\n",
       "</style>\n",
       "<table border=\"1\" class=\"dataframe\">\n",
       "  <thead>\n",
       "    <tr style=\"text-align: right;\">\n",
       "      <th></th>\n",
       "      <th>모기지수 발생일</th>\n",
       "      <th>모기지수(수변부)</th>\n",
       "      <th>모기지수(주거지)</th>\n",
       "      <th>모기지수(공원)</th>\n",
       "      <th>year</th>\n",
       "      <th>month</th>\n",
       "      <th>day</th>\n",
       "    </tr>\n",
       "  </thead>\n",
       "  <tbody>\n",
       "    <tr>\n",
       "      <th>169</th>\n",
       "      <td>2022-08-29</td>\n",
       "      <td>0.0</td>\n",
       "      <td>0.0</td>\n",
       "      <td>0.0</td>\n",
       "      <td>2022</td>\n",
       "      <td>8</td>\n",
       "      <td>29</td>\n",
       "    </tr>\n",
       "  </tbody>\n",
       "</table>\n",
       "</div>"
      ],
      "text/plain": [
       "      모기지수 발생일  모기지수(수변부)  모기지수(주거지)  모기지수(공원)  year  month  day\n",
       "169 2022-08-29        0.0        0.0       0.0  2022      8   29"
      ]
     },
     "execution_count": 66,
     "metadata": {},
     "output_type": "execute_result"
    }
   ],
   "source": [
    "# 8월의 결측치 찾는법..!! 근데 어떻게 처리할까?\n",
    "test2022[(test2022['모기지수(주거지)'] == 0) & (test2022['month'] == 8)]"
   ]
  },
  {
   "cell_type": "code",
   "execution_count": null,
   "id": "659c0c13-fc11-4b01-8276-5fff7be2bcfa",
   "metadata": {},
   "outputs": [],
   "source": [
    "# 2017년도 ~2022년도 데이터 스케일\n",
    "# 각 년도의 데이터의 이상치를 찾아서 처리\n",
    "#이상치 처리 후 이어 붙이기\n"
   ]
  },
  {
   "cell_type": "code",
   "execution_count": 69,
   "id": "24a3881a-2dc0-4597-ae45-ca3bfbaa117c",
   "metadata": {},
   "outputs": [
    {
     "data": {
      "text/html": [
       "<div>\n",
       "<style scoped>\n",
       "    .dataframe tbody tr th:only-of-type {\n",
       "        vertical-align: middle;\n",
       "    }\n",
       "\n",
       "    .dataframe tbody tr th {\n",
       "        vertical-align: top;\n",
       "    }\n",
       "\n",
       "    .dataframe thead th {\n",
       "        text-align: right;\n",
       "    }\n",
       "</style>\n",
       "<table border=\"1\" class=\"dataframe\">\n",
       "  <thead>\n",
       "    <tr style=\"text-align: right;\">\n",
       "      <th></th>\n",
       "      <th>모기지수 발생일</th>\n",
       "      <th>모기지수(수변부)</th>\n",
       "      <th>모기지수(주거지)</th>\n",
       "      <th>모기지수(공원)</th>\n",
       "      <th>year</th>\n",
       "      <th>month</th>\n",
       "      <th>day</th>\n",
       "    </tr>\n",
       "  </thead>\n",
       "  <tbody>\n",
       "    <tr>\n",
       "      <th>168</th>\n",
       "      <td>2022-08-30</td>\n",
       "      <td>100.0</td>\n",
       "      <td>42.0</td>\n",
       "      <td>49.4</td>\n",
       "      <td>2022</td>\n",
       "      <td>8</td>\n",
       "      <td>30</td>\n",
       "    </tr>\n",
       "  </tbody>\n",
       "</table>\n",
       "</div>"
      ],
      "text/plain": [
       "      모기지수 발생일  모기지수(수변부)  모기지수(주거지)  모기지수(공원)  year  month  day\n",
       "168 2022-08-30      100.0       42.0      49.4  2022      8   30"
      ]
     },
     "execution_count": 69,
     "metadata": {},
     "output_type": "execute_result"
    }
   ],
   "source": [
    "test2022[test2022['모기지수 발생일'] == '2022-08-30']"
   ]
  },
  {
   "cell_type": "code",
   "execution_count": 76,
   "id": "c0988c3c-68d6-47f3-a862-43ed2f8b536a",
   "metadata": {},
   "outputs": [],
   "source": [
    "test2022.loc[169,['모기지수(주거지)']] = 42.0"
   ]
  },
  {
   "cell_type": "code",
   "execution_count": null,
   "id": "fbd0924b-8573-4fe3-893a-718f719c1ef3",
   "metadata": {},
   "outputs": [],
   "source": []
  },
  {
   "cell_type": "markdown",
   "id": "4e6eeffb-0351-421d-92ce-bff869619476",
   "metadata": {},
   "source": [
    "# 2017년 스켈링"
   ]
  },
  {
   "cell_type": "code",
   "execution_count": 72,
   "id": "a5969f26-0117-4506-b201-c3fead850991",
   "metadata": {},
   "outputs": [],
   "source": [
    "test2017 = test[test['year'] == 2017 ]"
   ]
  },
  {
   "cell_type": "code",
   "execution_count": 73,
   "id": "c63bab76-058c-4b7d-9f86-453c6b2f9ba1",
   "metadata": {},
   "outputs": [
    {
     "data": {
      "text/html": [
       "<div>\n",
       "<style scoped>\n",
       "    .dataframe tbody tr th:only-of-type {\n",
       "        vertical-align: middle;\n",
       "    }\n",
       "\n",
       "    .dataframe tbody tr th {\n",
       "        vertical-align: top;\n",
       "    }\n",
       "\n",
       "    .dataframe thead th {\n",
       "        text-align: right;\n",
       "    }\n",
       "</style>\n",
       "<table border=\"1\" class=\"dataframe\">\n",
       "  <thead>\n",
       "    <tr style=\"text-align: right;\">\n",
       "      <th></th>\n",
       "      <th>모기지수(수변부)</th>\n",
       "      <th>모기지수(주거지)</th>\n",
       "      <th>모기지수(공원)</th>\n",
       "      <th>year</th>\n",
       "      <th>month</th>\n",
       "      <th>day</th>\n",
       "    </tr>\n",
       "  </thead>\n",
       "  <tbody>\n",
       "    <tr>\n",
       "      <th>count</th>\n",
       "      <td>361.000000</td>\n",
       "      <td>361.000000</td>\n",
       "      <td>361.000000</td>\n",
       "      <td>361.0</td>\n",
       "      <td>361.000000</td>\n",
       "      <td>361.000000</td>\n",
       "    </tr>\n",
       "    <tr>\n",
       "      <th>mean</th>\n",
       "      <td>248.985319</td>\n",
       "      <td>248.985319</td>\n",
       "      <td>248.985319</td>\n",
       "      <td>2017.0</td>\n",
       "      <td>6.515235</td>\n",
       "      <td>15.678670</td>\n",
       "    </tr>\n",
       "    <tr>\n",
       "      <th>std</th>\n",
       "      <td>315.287457</td>\n",
       "      <td>315.287457</td>\n",
       "      <td>315.287457</td>\n",
       "      <td>0.0</td>\n",
       "      <td>3.456944</td>\n",
       "      <td>8.783622</td>\n",
       "    </tr>\n",
       "    <tr>\n",
       "      <th>min</th>\n",
       "      <td>0.200000</td>\n",
       "      <td>0.200000</td>\n",
       "      <td>0.200000</td>\n",
       "      <td>2017.0</td>\n",
       "      <td>1.000000</td>\n",
       "      <td>1.000000</td>\n",
       "    </tr>\n",
       "    <tr>\n",
       "      <th>25%</th>\n",
       "      <td>5.500000</td>\n",
       "      <td>5.500000</td>\n",
       "      <td>5.500000</td>\n",
       "      <td>2017.0</td>\n",
       "      <td>4.000000</td>\n",
       "      <td>8.000000</td>\n",
       "    </tr>\n",
       "    <tr>\n",
       "      <th>50%</th>\n",
       "      <td>66.500000</td>\n",
       "      <td>66.500000</td>\n",
       "      <td>66.500000</td>\n",
       "      <td>2017.0</td>\n",
       "      <td>7.000000</td>\n",
       "      <td>16.000000</td>\n",
       "    </tr>\n",
       "    <tr>\n",
       "      <th>75%</th>\n",
       "      <td>464.100000</td>\n",
       "      <td>464.100000</td>\n",
       "      <td>464.100000</td>\n",
       "      <td>2017.0</td>\n",
       "      <td>10.000000</td>\n",
       "      <td>23.000000</td>\n",
       "    </tr>\n",
       "    <tr>\n",
       "      <th>max</th>\n",
       "      <td>1000.000000</td>\n",
       "      <td>1000.000000</td>\n",
       "      <td>1000.000000</td>\n",
       "      <td>2017.0</td>\n",
       "      <td>12.000000</td>\n",
       "      <td>31.000000</td>\n",
       "    </tr>\n",
       "  </tbody>\n",
       "</table>\n",
       "</div>"
      ],
      "text/plain": [
       "         모기지수(수변부)    모기지수(주거지)     모기지수(공원)    year       month         day\n",
       "count   361.000000   361.000000   361.000000   361.0  361.000000  361.000000\n",
       "mean    248.985319   248.985319   248.985319  2017.0    6.515235   15.678670\n",
       "std     315.287457   315.287457   315.287457     0.0    3.456944    8.783622\n",
       "min       0.200000     0.200000     0.200000  2017.0    1.000000    1.000000\n",
       "25%       5.500000     5.500000     5.500000  2017.0    4.000000    8.000000\n",
       "50%      66.500000    66.500000    66.500000  2017.0    7.000000   16.000000\n",
       "75%     464.100000   464.100000   464.100000  2017.0   10.000000   23.000000\n",
       "max    1000.000000  1000.000000  1000.000000  2017.0   12.000000   31.000000"
      ]
     },
     "execution_count": 73,
     "metadata": {},
     "output_type": "execute_result"
    }
   ],
   "source": [
    "test2017.describe()"
   ]
  },
  {
   "cell_type": "code",
   "execution_count": 74,
   "id": "dc7d4f24-0aae-4c24-91ee-93603f13bf4b",
   "metadata": {},
   "outputs": [
    {
     "data": {
      "text/html": [
       "<div>\n",
       "<style scoped>\n",
       "    .dataframe tbody tr th:only-of-type {\n",
       "        vertical-align: middle;\n",
       "    }\n",
       "\n",
       "    .dataframe tbody tr th {\n",
       "        vertical-align: top;\n",
       "    }\n",
       "\n",
       "    .dataframe thead th {\n",
       "        text-align: right;\n",
       "    }\n",
       "</style>\n",
       "<table border=\"1\" class=\"dataframe\">\n",
       "  <thead>\n",
       "    <tr style=\"text-align: right;\">\n",
       "      <th></th>\n",
       "      <th>모기지수 발생일</th>\n",
       "      <th>모기지수(수변부)</th>\n",
       "      <th>모기지수(주거지)</th>\n",
       "      <th>모기지수(공원)</th>\n",
       "      <th>year</th>\n",
       "      <th>month</th>\n",
       "      <th>day</th>\n",
       "    </tr>\n",
       "  </thead>\n",
       "  <tbody>\n",
       "  </tbody>\n",
       "</table>\n",
       "</div>"
      ],
      "text/plain": [
       "Empty DataFrame\n",
       "Columns: [모기지수 발생일, 모기지수(수변부), 모기지수(주거지), 모기지수(공원), year, month, day]\n",
       "Index: []"
      ]
     },
     "execution_count": 74,
     "metadata": {},
     "output_type": "execute_result"
    }
   ],
   "source": [
    "test2017[test2017['모기지수 발생일'] == '2017-03-02']"
   ]
  },
  {
   "cell_type": "code",
   "execution_count": 75,
   "id": "761b8d38-76a5-46d2-b1a5-112203066821",
   "metadata": {},
   "outputs": [
    {
     "data": {
      "text/html": [
       "<div>\n",
       "<style scoped>\n",
       "    .dataframe tbody tr th:only-of-type {\n",
       "        vertical-align: middle;\n",
       "    }\n",
       "\n",
       "    .dataframe tbody tr th {\n",
       "        vertical-align: top;\n",
       "    }\n",
       "\n",
       "    .dataframe thead th {\n",
       "        text-align: right;\n",
       "    }\n",
       "</style>\n",
       "<table border=\"1\" class=\"dataframe\">\n",
       "  <thead>\n",
       "    <tr style=\"text-align: right;\">\n",
       "      <th></th>\n",
       "      <th>모기지수 발생일</th>\n",
       "      <th>모기지수(수변부)</th>\n",
       "      <th>모기지수(주거지)</th>\n",
       "      <th>모기지수(공원)</th>\n",
       "      <th>year</th>\n",
       "      <th>month</th>\n",
       "      <th>day</th>\n",
       "    </tr>\n",
       "  </thead>\n",
       "  <tbody>\n",
       "    <tr>\n",
       "      <th>2134</th>\n",
       "      <td>2017-03-01</td>\n",
       "      <td>2.3</td>\n",
       "      <td>2.3</td>\n",
       "      <td>2.3</td>\n",
       "      <td>2017</td>\n",
       "      <td>3</td>\n",
       "      <td>1</td>\n",
       "    </tr>\n",
       "  </tbody>\n",
       "</table>\n",
       "</div>"
      ],
      "text/plain": [
       "       모기지수 발생일  모기지수(수변부)  모기지수(주거지)  모기지수(공원)  year  month  day\n",
       "2134 2017-03-01        2.3        2.3       2.3  2017      3    1"
      ]
     },
     "execution_count": 75,
     "metadata": {},
     "output_type": "execute_result"
    }
   ],
   "source": [
    "test2017[test2017['모기지수 발생일'] == '2017-03-01']"
   ]
  },
  {
   "cell_type": "code",
   "execution_count": null,
   "id": "d5f3a1ca-867c-4f24-8034-6dc8813ce39d",
   "metadata": {},
   "outputs": [],
   "source": [
    "#1) 마지막 2194행을 만들기.. 결측값지운거 다시 채워 넣기\n",
    "#2) 문자행으로 날짜 넣기"
   ]
  },
  {
   "cell_type": "code",
   "execution_count": 79,
   "id": "eeb5dc19-f8c9-4f83-a085-04ac5dbad859",
   "metadata": {},
   "outputs": [
    {
     "name": "stderr",
     "output_type": "stream",
     "text": [
      "C:\\Users\\User\\AppData\\Local\\Temp\\ipykernel_21028\\1930266005.py:1: SettingWithCopyWarning: \n",
      "A value is trying to be set on a copy of a slice from a DataFrame\n",
      "\n",
      "See the caveats in the documentation: https://pandas.pydata.org/pandas-docs/stable/user_guide/indexing.html#returning-a-view-versus-a-copy\n",
      "  test2017.loc[2194] = ('2017-03-02', 2.3 ,2.3 ,2.3,2017,3,2)\n"
     ]
    }
   ],
   "source": [
    "test2017.loc[2194] = ('2017-03-02', 2.3 ,2.3 ,2.3,2017,3,2)"
   ]
  },
  {
   "cell_type": "code",
   "execution_count": 80,
   "id": "caf9eef5-ef39-417a-8709-e5f884fe1344",
   "metadata": {},
   "outputs": [
    {
     "name": "stderr",
     "output_type": "stream",
     "text": [
      "C:\\Users\\User\\AppData\\Local\\Temp\\ipykernel_21028\\2803679227.py:1: SettingWithCopyWarning: \n",
      "A value is trying to be set on a copy of a slice from a DataFrame.\n",
      "Try using .loc[row_indexer,col_indexer] = value instead\n",
      "\n",
      "See the caveats in the documentation: https://pandas.pydata.org/pandas-docs/stable/user_guide/indexing.html#returning-a-view-versus-a-copy\n",
      "  test2017['모기지수 발생일'] = pd.to_datetime(test2017['모기지수 발생일'])\n"
     ]
    }
   ],
   "source": [
    "test2017['모기지수 발생일'] = pd.to_datetime(test2017['모기지수 발생일'])"
   ]
  },
  {
   "cell_type": "code",
   "execution_count": null,
   "id": "78b88d43-1ad9-4940-8c30-4febcca7312d",
   "metadata": {},
   "outputs": [],
   "source": [
    "\n",
    "# df.append({'모기지수 발생일': '2017-03-02', ~~~~~~ })\n",
    "# append는 딕셔너리를 컬럼명 하나하나 다 입력해야함"
   ]
  },
  {
   "cell_type": "code",
   "execution_count": 84,
   "id": "68d0be0c-bc38-4bfa-a5a7-1759f69b7fa9",
   "metadata": {},
   "outputs": [
    {
     "data": {
      "text/html": [
       "<div>\n",
       "<style scoped>\n",
       "    .dataframe tbody tr th:only-of-type {\n",
       "        vertical-align: middle;\n",
       "    }\n",
       "\n",
       "    .dataframe tbody tr th {\n",
       "        vertical-align: top;\n",
       "    }\n",
       "\n",
       "    .dataframe thead th {\n",
       "        text-align: right;\n",
       "    }\n",
       "</style>\n",
       "<table border=\"1\" class=\"dataframe\">\n",
       "  <thead>\n",
       "    <tr style=\"text-align: right;\">\n",
       "      <th></th>\n",
       "      <th>모기지수 발생일</th>\n",
       "      <th>모기지수(수변부)</th>\n",
       "      <th>모기지수(주거지)</th>\n",
       "      <th>모기지수(공원)</th>\n",
       "      <th>year</th>\n",
       "      <th>month</th>\n",
       "      <th>day</th>\n",
       "    </tr>\n",
       "  </thead>\n",
       "  <tbody>\n",
       "    <tr>\n",
       "      <th>0</th>\n",
       "      <td>2017-01-01</td>\n",
       "      <td>1.0</td>\n",
       "      <td>1.0</td>\n",
       "      <td>1.0</td>\n",
       "      <td>2017</td>\n",
       "      <td>1</td>\n",
       "      <td>1</td>\n",
       "    </tr>\n",
       "    <tr>\n",
       "      <th>1</th>\n",
       "      <td>2017-01-02</td>\n",
       "      <td>1.1</td>\n",
       "      <td>1.1</td>\n",
       "      <td>1.1</td>\n",
       "      <td>2017</td>\n",
       "      <td>1</td>\n",
       "      <td>2</td>\n",
       "    </tr>\n",
       "    <tr>\n",
       "      <th>2</th>\n",
       "      <td>2017-01-03</td>\n",
       "      <td>1.2</td>\n",
       "      <td>1.2</td>\n",
       "      <td>1.2</td>\n",
       "      <td>2017</td>\n",
       "      <td>1</td>\n",
       "      <td>3</td>\n",
       "    </tr>\n",
       "    <tr>\n",
       "      <th>3</th>\n",
       "      <td>2017-01-04</td>\n",
       "      <td>1.5</td>\n",
       "      <td>1.5</td>\n",
       "      <td>1.5</td>\n",
       "      <td>2017</td>\n",
       "      <td>1</td>\n",
       "      <td>4</td>\n",
       "    </tr>\n",
       "    <tr>\n",
       "      <th>4</th>\n",
       "      <td>2017-01-05</td>\n",
       "      <td>2.1</td>\n",
       "      <td>2.1</td>\n",
       "      <td>2.1</td>\n",
       "      <td>2017</td>\n",
       "      <td>1</td>\n",
       "      <td>5</td>\n",
       "    </tr>\n",
       "    <tr>\n",
       "      <th>...</th>\n",
       "      <td>...</td>\n",
       "      <td>...</td>\n",
       "      <td>...</td>\n",
       "      <td>...</td>\n",
       "      <td>...</td>\n",
       "      <td>...</td>\n",
       "      <td>...</td>\n",
       "    </tr>\n",
       "    <tr>\n",
       "      <th>357</th>\n",
       "      <td>2017-12-27</td>\n",
       "      <td>5.5</td>\n",
       "      <td>5.5</td>\n",
       "      <td>5.5</td>\n",
       "      <td>2017</td>\n",
       "      <td>12</td>\n",
       "      <td>27</td>\n",
       "    </tr>\n",
       "    <tr>\n",
       "      <th>358</th>\n",
       "      <td>2017-12-28</td>\n",
       "      <td>5.5</td>\n",
       "      <td>5.5</td>\n",
       "      <td>5.5</td>\n",
       "      <td>2017</td>\n",
       "      <td>12</td>\n",
       "      <td>28</td>\n",
       "    </tr>\n",
       "    <tr>\n",
       "      <th>359</th>\n",
       "      <td>2017-12-29</td>\n",
       "      <td>5.5</td>\n",
       "      <td>5.5</td>\n",
       "      <td>5.5</td>\n",
       "      <td>2017</td>\n",
       "      <td>12</td>\n",
       "      <td>29</td>\n",
       "    </tr>\n",
       "    <tr>\n",
       "      <th>360</th>\n",
       "      <td>2017-12-30</td>\n",
       "      <td>5.5</td>\n",
       "      <td>5.5</td>\n",
       "      <td>5.5</td>\n",
       "      <td>2017</td>\n",
       "      <td>12</td>\n",
       "      <td>30</td>\n",
       "    </tr>\n",
       "    <tr>\n",
       "      <th>361</th>\n",
       "      <td>2017-12-31</td>\n",
       "      <td>5.5</td>\n",
       "      <td>5.5</td>\n",
       "      <td>5.5</td>\n",
       "      <td>2017</td>\n",
       "      <td>12</td>\n",
       "      <td>31</td>\n",
       "    </tr>\n",
       "  </tbody>\n",
       "</table>\n",
       "<p>362 rows × 7 columns</p>\n",
       "</div>"
      ],
      "text/plain": [
       "      모기지수 발생일  모기지수(수변부)  모기지수(주거지)  모기지수(공원)  year  month  day\n",
       "0   2017-01-01        1.0        1.0       1.0  2017      1    1\n",
       "1   2017-01-02        1.1        1.1       1.1  2017      1    2\n",
       "2   2017-01-03        1.2        1.2       1.2  2017      1    3\n",
       "3   2017-01-04        1.5        1.5       1.5  2017      1    4\n",
       "4   2017-01-05        2.1        2.1       2.1  2017      1    5\n",
       "..         ...        ...        ...       ...   ...    ...  ...\n",
       "357 2017-12-27        5.5        5.5       5.5  2017     12   27\n",
       "358 2017-12-28        5.5        5.5       5.5  2017     12   28\n",
       "359 2017-12-29        5.5        5.5       5.5  2017     12   29\n",
       "360 2017-12-30        5.5        5.5       5.5  2017     12   30\n",
       "361 2017-12-31        5.5        5.5       5.5  2017     12   31\n",
       "\n",
       "[362 rows x 7 columns]"
      ]
     },
     "execution_count": 84,
     "metadata": {},
     "output_type": "execute_result"
    }
   ],
   "source": [
    "test17 = test2017.sort_values(by = '모기지수 발생일')\n",
    "test17.reset_index(inplace=True, drop = True)\n",
    "test17"
   ]
  },
  {
   "cell_type": "code",
   "execution_count": 93,
   "id": "540d68c7-f9b4-44f8-ab0b-e0c749f53538",
   "metadata": {
    "tags": []
   },
   "outputs": [],
   "source": [
    "test17['scaled'] = (test17['모기지수(주거지)'] - test17['모기지수(주거지)'].min()) / (test17['모기지수(주거지)'].max() - test17['모기지수(주거지)'].min()) * 100"
   ]
  },
  {
   "cell_type": "code",
   "execution_count": 94,
   "id": "69e00dba-ac80-454c-97ff-216948d73f71",
   "metadata": {},
   "outputs": [
    {
     "data": {
      "text/plain": [
       "<AxesSubplot:>"
      ]
     },
     "execution_count": 94,
     "metadata": {},
     "output_type": "execute_result"
    },
    {
     "data": {
      "image/png": "[encoded data removed]",
      "text/plain": [
       "<Figure size 640x480 with 1 Axes>"
      ]
     },
     "metadata": {},
     "output_type": "display_data"
    }
   ],
   "source": [
    "test17['scaled'].plot()"
   ]
  },
  {
   "cell_type": "markdown",
   "id": "25f8bf46-53fe-4454-9256-871f8bbbb640",
   "metadata": {},
   "source": [
    "# 2018년도 스케일링"
   ]
  },
  {
   "cell_type": "code",
   "execution_count": 96,
   "id": "41b5e8ab-73ae-446c-9026-e2fde2974331",
   "metadata": {},
   "outputs": [],
   "source": [
    "test2018 = test[test['year'] == 2018 ]"
   ]
  },
  {
   "cell_type": "code",
   "execution_count": 98,
   "id": "7a2fea37-d1ab-46d2-a41e-a99723487ca3",
   "metadata": {},
   "outputs": [
    {
     "data": {
      "text/plain": [
       "<AxesSubplot:>"
      ]
     },
     "execution_count": 98,
     "metadata": {},
     "output_type": "execute_result"
    },
    {
     "data": {
      "image/png": "[encoded data removed]",
      "text/plain": [
       "<Figure size 640x480 with 1 Axes>"
      ]
     },
     "metadata": {},
     "output_type": "display_data"
    }
   ],
   "source": [
    "test2018['모기지수(주거지)'].plot()"
   ]
  },
  {
   "cell_type": "code",
   "execution_count": 100,
   "id": "9841b296-c1ed-4134-bc91-2a6fe44bd4ab",
   "metadata": {},
   "outputs": [
    {
     "name": "stderr",
     "output_type": "stream",
     "text": [
      "C:\\Users\\User\\AppData\\Local\\Temp\\ipykernel_21028\\476272099.py:1: SettingWithCopyWarning: \n",
      "A value is trying to be set on a copy of a slice from a DataFrame.\n",
      "Try using .loc[row_indexer,col_indexer] = value instead\n",
      "\n",
      "See the caveats in the documentation: https://pandas.pydata.org/pandas-docs/stable/user_guide/indexing.html#returning-a-view-versus-a-copy\n",
      "  test2018['scaled'] = (test2018['모기지수(주거지)'] - test2018['모기지수(주거지)'].min()) / (test2018['모기지수(주거지)'].max() - test2018['모기지수(주거지)'].min()) * 100\n"
     ]
    }
   ],
   "source": [
    "test2018['scaled'] = (test2018['모기지수(주거지)'] - test2018['모기지수(주거지)'].min()) / (test2018['모기지수(주거지)'].max() - test2018['모기지수(주거지)'].min()) * 100"
   ]
  },
  {
   "cell_type": "code",
   "execution_count": 101,
   "id": "af9cffc1-d90c-4247-a11a-6a88cd0e0925",
   "metadata": {},
   "outputs": [
    {
     "data": {
      "text/plain": [
       "<AxesSubplot:>"
      ]
     },
     "execution_count": 101,
     "metadata": {},
     "output_type": "execute_result"
    },
    {
     "data": {
      "image/png": "[encoded data removed]",
      "text/plain": [
       "<Figure size 640x480 with 1 Axes>"
      ]
     },
     "metadata": {},
     "output_type": "display_data"
    }
   ],
   "source": [
    "test2018['scaled'].plot()"
   ]
  },
  {
   "cell_type": "markdown",
   "id": "f5195bd0-12bf-44b3-923b-21bf21f1db5f",
   "metadata": {},
   "source": [
    "# 2019 년도 스케일링 !!!\n",
    "\n",
    "# 0값이 있어서 확인해봐야함.!"
   ]
  },
  {
   "cell_type": "code",
   "execution_count": 102,
   "id": "4d01f1df-3c6c-41ff-ad68-8dc7cc5aaffd",
   "metadata": {},
   "outputs": [
    {
     "name": "stderr",
     "output_type": "stream",
     "text": [
      "C:\\Users\\User\\AppData\\Local\\Temp\\ipykernel_21028\\3349970928.py:3: SettingWithCopyWarning: \n",
      "A value is trying to be set on a copy of a slice from a DataFrame.\n",
      "Try using .loc[row_indexer,col_indexer] = value instead\n",
      "\n",
      "See the caveats in the documentation: https://pandas.pydata.org/pandas-docs/stable/user_guide/indexing.html#returning-a-view-versus-a-copy\n",
      "  test2019['scaled'] = (test2019['모기지수(주거지)'] - test2019['모기지수(주거지)'].min()) / (test2019['모기지수(주거지)'].max() - test2019['모기지수(주거지)'].min()) * 100\n"
     ]
    }
   ],
   "source": [
    "test2019 = test[test['year'] == 2019 ]\n",
    "\n",
    "test2019['scaled'] = (test2019['모기지수(주거지)'] - test2019['모기지수(주거지)'].min()) / (test2019['모기지수(주거지)'].max() - test2019['모기지수(주거지)'].min()) * 100"
   ]
  },
  {
   "cell_type": "code",
   "execution_count": 104,
   "id": "8c5c9dc7-e467-489f-9050-fd9b7f82deee",
   "metadata": {},
   "outputs": [
    {
     "data": {
      "text/html": [
       "<div>\n",
       "<style scoped>\n",
       "    .dataframe tbody tr th:only-of-type {\n",
       "        vertical-align: middle;\n",
       "    }\n",
       "\n",
       "    .dataframe tbody tr th {\n",
       "        vertical-align: top;\n",
       "    }\n",
       "\n",
       "    .dataframe thead th {\n",
       "        text-align: right;\n",
       "    }\n",
       "</style>\n",
       "<table border=\"1\" class=\"dataframe\">\n",
       "  <thead>\n",
       "    <tr style=\"text-align: right;\">\n",
       "      <th></th>\n",
       "      <th>모기지수(수변부)</th>\n",
       "      <th>모기지수(주거지)</th>\n",
       "      <th>모기지수(공원)</th>\n",
       "      <th>year</th>\n",
       "      <th>month</th>\n",
       "      <th>day</th>\n",
       "      <th>scaled</th>\n",
       "    </tr>\n",
       "  </thead>\n",
       "  <tbody>\n",
       "    <tr>\n",
       "      <th>count</th>\n",
       "      <td>358.000000</td>\n",
       "      <td>358.000000</td>\n",
       "      <td>358.000000</td>\n",
       "      <td>358.0</td>\n",
       "      <td>358.000000</td>\n",
       "      <td>358.000000</td>\n",
       "      <td>358.000000</td>\n",
       "    </tr>\n",
       "    <tr>\n",
       "      <th>mean</th>\n",
       "      <td>220.433240</td>\n",
       "      <td>220.433240</td>\n",
       "      <td>220.433240</td>\n",
       "      <td>2019.0</td>\n",
       "      <td>6.536313</td>\n",
       "      <td>15.578212</td>\n",
       "      <td>22.043324</td>\n",
       "    </tr>\n",
       "    <tr>\n",
       "      <th>std</th>\n",
       "      <td>297.286336</td>\n",
       "      <td>297.286336</td>\n",
       "      <td>297.286336</td>\n",
       "      <td>0.0</td>\n",
       "      <td>3.485475</td>\n",
       "      <td>8.830065</td>\n",
       "      <td>29.728634</td>\n",
       "    </tr>\n",
       "    <tr>\n",
       "      <th>min</th>\n",
       "      <td>0.000000</td>\n",
       "      <td>0.000000</td>\n",
       "      <td>0.000000</td>\n",
       "      <td>2019.0</td>\n",
       "      <td>1.000000</td>\n",
       "      <td>1.000000</td>\n",
       "      <td>0.000000</td>\n",
       "    </tr>\n",
       "    <tr>\n",
       "      <th>25%</th>\n",
       "      <td>5.500000</td>\n",
       "      <td>5.500000</td>\n",
       "      <td>5.500000</td>\n",
       "      <td>2019.0</td>\n",
       "      <td>3.250000</td>\n",
       "      <td>8.000000</td>\n",
       "      <td>0.550000</td>\n",
       "    </tr>\n",
       "    <tr>\n",
       "      <th>50%</th>\n",
       "      <td>7.500000</td>\n",
       "      <td>7.500000</td>\n",
       "      <td>7.500000</td>\n",
       "      <td>2019.0</td>\n",
       "      <td>7.000000</td>\n",
       "      <td>15.000000</td>\n",
       "      <td>0.750000</td>\n",
       "    </tr>\n",
       "    <tr>\n",
       "      <th>75%</th>\n",
       "      <td>430.850000</td>\n",
       "      <td>430.850000</td>\n",
       "      <td>430.850000</td>\n",
       "      <td>2019.0</td>\n",
       "      <td>10.000000</td>\n",
       "      <td>23.000000</td>\n",
       "      <td>43.085000</td>\n",
       "    </tr>\n",
       "    <tr>\n",
       "      <th>max</th>\n",
       "      <td>1000.000000</td>\n",
       "      <td>1000.000000</td>\n",
       "      <td>1000.000000</td>\n",
       "      <td>2019.0</td>\n",
       "      <td>12.000000</td>\n",
       "      <td>31.000000</td>\n",
       "      <td>100.000000</td>\n",
       "    </tr>\n",
       "  </tbody>\n",
       "</table>\n",
       "</div>"
      ],
      "text/plain": [
       "         모기지수(수변부)    모기지수(주거지)     모기지수(공원)    year       month         day  \\\n",
       "count   358.000000   358.000000   358.000000   358.0  358.000000  358.000000   \n",
       "mean    220.433240   220.433240   220.433240  2019.0    6.536313   15.578212   \n",
       "std     297.286336   297.286336   297.286336     0.0    3.485475    8.830065   \n",
       "min       0.000000     0.000000     0.000000  2019.0    1.000000    1.000000   \n",
       "25%       5.500000     5.500000     5.500000  2019.0    3.250000    8.000000   \n",
       "50%       7.500000     7.500000     7.500000  2019.0    7.000000   15.000000   \n",
       "75%     430.850000   430.850000   430.850000  2019.0   10.000000   23.000000   \n",
       "max    1000.000000  1000.000000  1000.000000  2019.0   12.000000   31.000000   \n",
       "\n",
       "           scaled  \n",
       "count  358.000000  \n",
       "mean    22.043324  \n",
       "std     29.728634  \n",
       "min      0.000000  \n",
       "25%      0.550000  \n",
       "50%      0.750000  \n",
       "75%     43.085000  \n",
       "max    100.000000  "
      ]
     },
     "execution_count": 104,
     "metadata": {},
     "output_type": "execute_result"
    }
   ],
   "source": [
    "test2019.describe()"
   ]
  },
  {
   "cell_type": "code",
   "execution_count": 103,
   "id": "30817902-5cd1-46f8-97af-4c4f1f5f2e18",
   "metadata": {},
   "outputs": [
    {
     "data": {
      "text/plain": [
       "<AxesSubplot:>"
      ]
     },
     "execution_count": 103,
     "metadata": {},
     "output_type": "execute_result"
    },
    {
     "data": {
      "image/png": "[encoded data removed]",
      "text/plain": [
       "<Figure size 640x480 with 1 Axes>"
      ]
     },
     "metadata": {},
     "output_type": "display_data"
    }
   ],
   "source": [
    "test2019['scaled'].plot()"
   ]
  },
  {
   "cell_type": "markdown",
   "id": "e6be5fcf-9c80-468e-ba3a-6980a7cce603",
   "metadata": {},
   "source": [
    "# 2020년도 데이터 스케일!"
   ]
  },
  {
   "cell_type": "code",
   "execution_count": 105,
   "id": "76c64f66-c301-4234-b941-1eba7e679a78",
   "metadata": {},
   "outputs": [],
   "source": [
    "test2020 = test[test['year'] == 2020 ]"
   ]
  },
  {
   "cell_type": "code",
   "execution_count": 106,
   "id": "ad87a5ea-1bec-4ae0-9d45-bce6e49120f7",
   "metadata": {
    "collapsed": true,
    "jupyter": {
     "outputs_hidden": true
    },
    "tags": []
   },
   "outputs": [
    {
     "name": "stderr",
     "output_type": "stream",
     "text": [
      "C:\\Users\\User\\AppData\\Local\\Temp\\ipykernel_21028\\2300475783.py:1: SettingWithCopyWarning: \n",
      "A value is trying to be set on a copy of a slice from a DataFrame.\n",
      "Try using .loc[row_indexer,col_indexer] = value instead\n",
      "\n",
      "See the caveats in the documentation: https://pandas.pydata.org/pandas-docs/stable/user_guide/indexing.html#returning-a-view-versus-a-copy\n",
      "  test2020['scaled'] = (test2020['모기지수(주거지)'] - test2020['모기지수(주거지)'].min()) / (test2020['모기지수(주거지)'].max() - test2020['모기지수(주거지)'].min()) * 100\n"
     ]
    }
   ],
   "source": [
    "test2020['scaled'] = (test2020['모기지수(주거지)'] - test2020['모기지수(주거지)'].min()) / (test2020['모기지수(주거지)'].max() - test2020['모기지수(주거지)'].min()) * 100"
   ]
  },
  {
   "cell_type": "code",
   "execution_count": 107,
   "id": "eae0f580-b07c-4c23-9f32-b4cb944beee5",
   "metadata": {},
   "outputs": [
    {
     "data": {
      "text/plain": [
       "<AxesSubplot:>"
      ]
     },
     "execution_count": 107,
     "metadata": {},
     "output_type": "execute_result"
    },
    {
     "data": {
      "image/png": "[encoded data removed]",
      "text/plain": [
       "<Figure size 640x480 with 1 Axes>"
      ]
     },
     "metadata": {},
     "output_type": "display_data"
    }
   ],
   "source": [
    "test2020['scaled'].plot()"
   ]
  },
  {
   "cell_type": "code",
   "execution_count": 108,
   "id": "0df7c38d-67f0-4aae-896a-14c96d4bd24b",
   "metadata": {},
   "outputs": [
    {
     "name": "stderr",
     "output_type": "stream",
     "text": [
      "C:\\Users\\User\\AppData\\Local\\Temp\\ipykernel_21028\\2223749888.py:2: SettingWithCopyWarning: \n",
      "A value is trying to be set on a copy of a slice from a DataFrame.\n",
      "Try using .loc[row_indexer,col_indexer] = value instead\n",
      "\n",
      "See the caveats in the documentation: https://pandas.pydata.org/pandas-docs/stable/user_guide/indexing.html#returning-a-view-versus-a-copy\n",
      "  test2021['scaled'] = (test2021['모기지수(주거지)'] - test2021['모기지수(주거지)'].min()) / (test2021['모기지수(주거지)'].max() - test2021['모기지수(주거지)'].min()) * 100\n"
     ]
    }
   ],
   "source": [
    "test2021 = test[test['year'] == 2021 ]\n",
    "test2021['scaled'] = (test2021['모기지수(주거지)'] - test2021['모기지수(주거지)'].min()) / (test2021['모기지수(주거지)'].max() - test2021['모기지수(주거지)'].min()) * 100"
   ]
  },
  {
   "cell_type": "code",
   "execution_count": 109,
   "id": "9e316771-6d00-44b0-ba6e-d05c8b07ea55",
   "metadata": {},
   "outputs": [
    {
     "name": "stderr",
     "output_type": "stream",
     "text": [
      "C:\\Users\\User\\AppData\\Local\\Temp\\ipykernel_21028\\3903821176.py:2: SettingWithCopyWarning: \n",
      "A value is trying to be set on a copy of a slice from a DataFrame.\n",
      "Try using .loc[row_indexer,col_indexer] = value instead\n",
      "\n",
      "See the caveats in the documentation: https://pandas.pydata.org/pandas-docs/stable/user_guide/indexing.html#returning-a-view-versus-a-copy\n",
      "  test2022['scaled'] = (test2022['모기지수(주거지)'] - test2022['모기지수(주거지)'].min()) / (test2022['모기지수(주거지)'].max() - test2022['모기지수(주거지)'].min()) * 100\n"
     ]
    }
   ],
   "source": [
    "test2022 = test[test['year'] == 2022 ]\n",
    "test2022['scaled'] = (test2022['모기지수(주거지)'] - test2022['모기지수(주거지)'].min()) / (test2022['모기지수(주거지)'].max() - test2022['모기지수(주거지)'].min()) * 100"
   ]
  },
  {
   "cell_type": "markdown",
   "id": "5948bf4b-9a86-47aa-8320-f25d5f0a9da4",
   "metadata": {},
   "source": [
    "# 인덱스 합치기!"
   ]
  },
  {
   "cell_type": "code",
   "execution_count": 117,
   "id": "40c0c0fe-66b0-45c5-8d70-35584506ee58",
   "metadata": {},
   "outputs": [],
   "source": [
    "test_temp = pd.concat([test17, test2018, test2019, test2020, test2021,test2022], axis=0)"
   ]
  },
  {
   "cell_type": "code",
   "execution_count": 118,
   "id": "35cad4cd-8880-44b4-86d9-bba8ccb17c4d",
   "metadata": {},
   "outputs": [],
   "source": [
    "test_1= test_temp.sort_values(by = '모기지수 발생일')"
   ]
  },
  {
   "cell_type": "code",
   "execution_count": 119,
   "id": "3124f2e2-c11f-4633-8847-b3f682bfc9fc",
   "metadata": {},
   "outputs": [],
   "source": [
    "test_1.reset_index(inplace=True,drop = True)"
   ]
  },
  {
   "cell_type": "code",
   "execution_count": 120,
   "id": "83e2cac2-a60c-44fa-9190-42356216d5cf",
   "metadata": {},
   "outputs": [
    {
     "data": {
      "text/html": [
       "<div>\n",
       "<style scoped>\n",
       "    .dataframe tbody tr th:only-of-type {\n",
       "        vertical-align: middle;\n",
       "    }\n",
       "\n",
       "    .dataframe tbody tr th {\n",
       "        vertical-align: top;\n",
       "    }\n",
       "\n",
       "    .dataframe thead th {\n",
       "        text-align: right;\n",
       "    }\n",
       "</style>\n",
       "<table border=\"1\" class=\"dataframe\">\n",
       "  <thead>\n",
       "    <tr style=\"text-align: right;\">\n",
       "      <th></th>\n",
       "      <th>모기지수 발생일</th>\n",
       "      <th>모기지수(수변부)</th>\n",
       "      <th>모기지수(주거지)</th>\n",
       "      <th>모기지수(공원)</th>\n",
       "      <th>year</th>\n",
       "      <th>month</th>\n",
       "      <th>day</th>\n",
       "      <th>scaled</th>\n",
       "    </tr>\n",
       "  </thead>\n",
       "  <tbody>\n",
       "    <tr>\n",
       "      <th>0</th>\n",
       "      <td>2017-01-01</td>\n",
       "      <td>1.0</td>\n",
       "      <td>1.0</td>\n",
       "      <td>1.0</td>\n",
       "      <td>2017</td>\n",
       "      <td>1</td>\n",
       "      <td>1</td>\n",
       "      <td>0.080016</td>\n",
       "    </tr>\n",
       "    <tr>\n",
       "      <th>1</th>\n",
       "      <td>2017-01-02</td>\n",
       "      <td>1.1</td>\n",
       "      <td>1.1</td>\n",
       "      <td>1.1</td>\n",
       "      <td>2017</td>\n",
       "      <td>1</td>\n",
       "      <td>2</td>\n",
       "      <td>0.090018</td>\n",
       "    </tr>\n",
       "    <tr>\n",
       "      <th>2</th>\n",
       "      <td>2017-01-03</td>\n",
       "      <td>1.2</td>\n",
       "      <td>1.2</td>\n",
       "      <td>1.2</td>\n",
       "      <td>2017</td>\n",
       "      <td>1</td>\n",
       "      <td>3</td>\n",
       "      <td>0.100020</td>\n",
       "    </tr>\n",
       "    <tr>\n",
       "      <th>3</th>\n",
       "      <td>2017-01-04</td>\n",
       "      <td>1.5</td>\n",
       "      <td>1.5</td>\n",
       "      <td>1.5</td>\n",
       "      <td>2017</td>\n",
       "      <td>1</td>\n",
       "      <td>4</td>\n",
       "      <td>0.130026</td>\n",
       "    </tr>\n",
       "    <tr>\n",
       "      <th>4</th>\n",
       "      <td>2017-01-05</td>\n",
       "      <td>2.1</td>\n",
       "      <td>2.1</td>\n",
       "      <td>2.1</td>\n",
       "      <td>2017</td>\n",
       "      <td>1</td>\n",
       "      <td>5</td>\n",
       "      <td>0.190038</td>\n",
       "    </tr>\n",
       "    <tr>\n",
       "      <th>...</th>\n",
       "      <td>...</td>\n",
       "      <td>...</td>\n",
       "      <td>...</td>\n",
       "      <td>...</td>\n",
       "      <td>...</td>\n",
       "      <td>...</td>\n",
       "      <td>...</td>\n",
       "      <td>...</td>\n",
       "    </tr>\n",
       "    <tr>\n",
       "      <th>2145</th>\n",
       "      <td>2022-12-27</td>\n",
       "      <td>0.0</td>\n",
       "      <td>0.0</td>\n",
       "      <td>0.0</td>\n",
       "      <td>2022</td>\n",
       "      <td>12</td>\n",
       "      <td>27</td>\n",
       "      <td>0.000000</td>\n",
       "    </tr>\n",
       "    <tr>\n",
       "      <th>2146</th>\n",
       "      <td>2022-12-28</td>\n",
       "      <td>0.0</td>\n",
       "      <td>0.0</td>\n",
       "      <td>0.0</td>\n",
       "      <td>2022</td>\n",
       "      <td>12</td>\n",
       "      <td>28</td>\n",
       "      <td>0.000000</td>\n",
       "    </tr>\n",
       "    <tr>\n",
       "      <th>2147</th>\n",
       "      <td>2022-12-29</td>\n",
       "      <td>0.0</td>\n",
       "      <td>0.0</td>\n",
       "      <td>0.0</td>\n",
       "      <td>2022</td>\n",
       "      <td>12</td>\n",
       "      <td>29</td>\n",
       "      <td>0.000000</td>\n",
       "    </tr>\n",
       "    <tr>\n",
       "      <th>2148</th>\n",
       "      <td>2022-12-30</td>\n",
       "      <td>0.0</td>\n",
       "      <td>0.0</td>\n",
       "      <td>0.0</td>\n",
       "      <td>2022</td>\n",
       "      <td>12</td>\n",
       "      <td>30</td>\n",
       "      <td>0.000000</td>\n",
       "    </tr>\n",
       "    <tr>\n",
       "      <th>2149</th>\n",
       "      <td>2022-12-31</td>\n",
       "      <td>0.0</td>\n",
       "      <td>0.0</td>\n",
       "      <td>0.0</td>\n",
       "      <td>2022</td>\n",
       "      <td>12</td>\n",
       "      <td>31</td>\n",
       "      <td>0.000000</td>\n",
       "    </tr>\n",
       "  </tbody>\n",
       "</table>\n",
       "<p>2150 rows × 8 columns</p>\n",
       "</div>"
      ],
      "text/plain": [
       "       모기지수 발생일  모기지수(수변부)  모기지수(주거지)  모기지수(공원)  year  month  day    scaled\n",
       "0    2017-01-01        1.0        1.0       1.0  2017      1    1  0.080016\n",
       "1    2017-01-02        1.1        1.1       1.1  2017      1    2  0.090018\n",
       "2    2017-01-03        1.2        1.2       1.2  2017      1    3  0.100020\n",
       "3    2017-01-04        1.5        1.5       1.5  2017      1    4  0.130026\n",
       "4    2017-01-05        2.1        2.1       2.1  2017      1    5  0.190038\n",
       "...         ...        ...        ...       ...   ...    ...  ...       ...\n",
       "2145 2022-12-27        0.0        0.0       0.0  2022     12   27  0.000000\n",
       "2146 2022-12-28        0.0        0.0       0.0  2022     12   28  0.000000\n",
       "2147 2022-12-29        0.0        0.0       0.0  2022     12   29  0.000000\n",
       "2148 2022-12-30        0.0        0.0       0.0  2022     12   30  0.000000\n",
       "2149 2022-12-31        0.0        0.0       0.0  2022     12   31  0.000000\n",
       "\n",
       "[2150 rows x 8 columns]"
      ]
     },
     "execution_count": 120,
     "metadata": {},
     "output_type": "execute_result"
    }
   ],
   "source": [
    "test_1"
   ]
  },
  {
   "cell_type": "code",
   "execution_count": 122,
   "id": "732155cc-6684-4e7f-8ba0-261cdc6d5302",
   "metadata": {},
   "outputs": [
    {
     "data": {
      "text/plain": [
       "<AxesSubplot:>"
      ]
     },
     "execution_count": 122,
     "metadata": {},
     "output_type": "execute_result"
    },
    {
     "data": {
      "image/png": "[encoded data removed]",
      "text/plain": [
       "<Figure size 640x480 with 1 Axes>"
      ]
     },
     "metadata": {},
     "output_type": "display_data"
    }
   ],
   "source": [
    "test_1['scaled'].plot()"
   ]
  },
  {
   "cell_type": "code",
   "execution_count": null,
   "id": "221ced3b-af28-4e24-9176-87beef0225f6",
   "metadata": {},
   "outputs": [],
   "source": [
    "시계열 데이터를 정규화, 스케일링했을 때 패턴을 볼 수 있는 것이다!\n",
    "예측"
   ]
  }
 ],
 "metadata": {
  "colab": {
   "provenance": []
  },
  "kernelspec": {
   "display_name": "Python 3 (ipykernel)",
   "language": "python",
   "name": "python3"
  },
  "language_info": {
   "codemirror_mode": {
    "name": "ipython",
    "version": 3
   },
   "file_extension": ".py",
   "mimetype": "text/x-python",
   "name": "python",
   "nbconvert_exporter": "python",
   "pygments_lexer": "ipython3",
   "version": "3.9.13"
  }
 },
 "nbformat": 4,
 "nbformat_minor": 5
}
